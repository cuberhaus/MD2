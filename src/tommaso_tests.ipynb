{
 "cells": [
  {
   "cell_type": "code",
   "execution_count": 23,
   "id": "ba5c8737",
   "metadata": {
    "id": "ba5c8737",
    "ExecuteTime": {
     "end_time": "2023-05-08T11:31:41.841409630Z",
     "start_time": "2023-05-08T11:31:41.531883887Z"
    }
   },
   "outputs": [],
   "source": [
    "from sklearn.neighbors import KNeighborsClassifier\n",
    "from sklearn.svm import SVC\n",
    "from sklearn.dummy import DummyClassifier\n",
    "from sklearn.model_selection import cross_val_score, GridSearchCV, ParameterGrid, train_test_split\n",
    "from sklearn import metrics\n",
    "\n",
    "import pandas as pd\n",
    "import numpy as np\n",
    "\n",
    "from sklearn.neighbors import KNeighborsClassifier\n",
    "\n",
    "# # import warnings filter\n",
    "# from warnings import simplefilter\n",
    "# # ignore all future warnings\n",
    "# simplefilter(action='ignore', category=FutureWarning)"
   ]
  },
  {
   "cell_type": "code",
   "execution_count": 45,
   "id": "e7814250",
   "metadata": {
    "id": "e7814250",
    "ExecuteTime": {
     "end_time": "2023-05-08T11:33:18.550091443Z",
     "start_time": "2023-05-08T11:33:17.360976764Z"
    }
   },
   "outputs": [],
   "source": [
    "# dataset_path = 'allUsers.lcl.csv'\n",
    "dataset_path = \"../data/tommaso_data/allUsers.lcl.csv\"\n",
    "\n",
    "df = pd.read_csv(dataset_path)\n",
    "#knn Cannot work with mining data, so replace them with a 0\n",
    "df = df.replace('?', 0)\n",
    "#df = df.dropna(thresh=len(df) * 0.10, axis=1)\n",
    "\n"
   ]
  },
  {
   "cell_type": "code",
   "execution_count": 52,
   "outputs": [],
   "source": [
    "from sklearn.metrics import accuracy_score, f1_score\n",
    "\n",
    "def save_results(clf, X_test, y_test, nclf, dataf):\n",
    "    dataf.loc[nclf, 'test acc'] = accuracy_score(y_test, clf.predict(X_test))\n",
    "    # dataf.loc[nclf, 'test f1 score (0)'] = f1_score(y_test, clf.predict(X_test), pos_label=0)\n",
    "    # dataf.loc[nclf, 'test f1 score (1)'] = f1_score(y_test, clf.predict(X_test), pos_label=1)\n",
    "    dataf.loc[nclf, 'test f1 score (W)'] = f1_score(y_test, clf.predict(X_test), average='macro')\n",
    "    # df.loc[nclf,'ROC AUC'] = roc_auc_score(y_test, clf.predict_proba(X_test)[:,1])\n",
    "    return dataf\n",
    "\n",
    "results_df = pd.DataFrame()\n",
    "\n"
   ],
   "metadata": {
    "collapsed": false,
    "ExecuteTime": {
     "end_time": "2023-05-08T11:36:28.168764068Z",
     "start_time": "2023-05-08T11:36:28.123944787Z"
    }
   }
  },
  {
   "cell_type": "markdown",
   "id": "5c618663",
   "metadata": {
    "id": "5c618663"
   },
   "source": [
    "# KNN"
   ]
  },
  {
   "cell_type": "markdown",
   "id": "f6f19a8d",
   "metadata": {
    "id": "f6f19a8d"
   },
   "source": [
    "# Class recognition with User label"
   ]
  },
  {
   "cell_type": "code",
   "execution_count": 26,
   "id": "2518a4a1",
   "metadata": {
    "id": "2518a4a1",
    "ExecuteTime": {
     "end_time": "2023-05-08T11:31:43.003393328Z",
     "start_time": "2023-05-08T11:31:42.819700225Z"
    }
   },
   "outputs": [],
   "source": [
    "df2 = df.drop(['Class'], axis=1)\n",
    "labels_Class = df['Class']\n",
    "\n",
    "\n",
    "X_train, X_test, y_train, y_test,  = train_test_split(df2, labels_Class, test_size=0.20, random_state=42)\n"
   ]
  },
  {
   "cell_type": "markdown",
   "id": "9aada6bf",
   "metadata": {
    "id": "9aada6bf"
   },
   "source": []
  },
  {
   "cell_type": "code",
   "execution_count": 27,
   "id": "f01a4953",
   "metadata": {
    "colab": {
     "base_uri": "https://localhost:8080/",
     "height": 74
    },
    "id": "f01a4953",
    "outputId": "4618c184-f135-42b1-f003-65ec39c49242",
    "ExecuteTime": {
     "end_time": "2023-05-08T11:31:43.313146413Z",
     "start_time": "2023-05-08T11:31:43.011667811Z"
    }
   },
   "outputs": [
    {
     "data": {
      "text/plain": "KNeighborsClassifier(n_neighbors=1)",
      "text/html": "<style>#sk-container-id-3 {color: black;background-color: white;}#sk-container-id-3 pre{padding: 0;}#sk-container-id-3 div.sk-toggleable {background-color: white;}#sk-container-id-3 label.sk-toggleable__label {cursor: pointer;display: block;width: 100%;margin-bottom: 0;padding: 0.3em;box-sizing: border-box;text-align: center;}#sk-container-id-3 label.sk-toggleable__label-arrow:before {content: \"▸\";float: left;margin-right: 0.25em;color: #696969;}#sk-container-id-3 label.sk-toggleable__label-arrow:hover:before {color: black;}#sk-container-id-3 div.sk-estimator:hover label.sk-toggleable__label-arrow:before {color: black;}#sk-container-id-3 div.sk-toggleable__content {max-height: 0;max-width: 0;overflow: hidden;text-align: left;background-color: #f0f8ff;}#sk-container-id-3 div.sk-toggleable__content pre {margin: 0.2em;color: black;border-radius: 0.25em;background-color: #f0f8ff;}#sk-container-id-3 input.sk-toggleable__control:checked~div.sk-toggleable__content {max-height: 200px;max-width: 100%;overflow: auto;}#sk-container-id-3 input.sk-toggleable__control:checked~label.sk-toggleable__label-arrow:before {content: \"▾\";}#sk-container-id-3 div.sk-estimator input.sk-toggleable__control:checked~label.sk-toggleable__label {background-color: #d4ebff;}#sk-container-id-3 div.sk-label input.sk-toggleable__control:checked~label.sk-toggleable__label {background-color: #d4ebff;}#sk-container-id-3 input.sk-hidden--visually {border: 0;clip: rect(1px 1px 1px 1px);clip: rect(1px, 1px, 1px, 1px);height: 1px;margin: -1px;overflow: hidden;padding: 0;position: absolute;width: 1px;}#sk-container-id-3 div.sk-estimator {font-family: monospace;background-color: #f0f8ff;border: 1px dotted black;border-radius: 0.25em;box-sizing: border-box;margin-bottom: 0.5em;}#sk-container-id-3 div.sk-estimator:hover {background-color: #d4ebff;}#sk-container-id-3 div.sk-parallel-item::after {content: \"\";width: 100%;border-bottom: 1px solid gray;flex-grow: 1;}#sk-container-id-3 div.sk-label:hover label.sk-toggleable__label {background-color: #d4ebff;}#sk-container-id-3 div.sk-serial::before {content: \"\";position: absolute;border-left: 1px solid gray;box-sizing: border-box;top: 0;bottom: 0;left: 50%;z-index: 0;}#sk-container-id-3 div.sk-serial {display: flex;flex-direction: column;align-items: center;background-color: white;padding-right: 0.2em;padding-left: 0.2em;position: relative;}#sk-container-id-3 div.sk-item {position: relative;z-index: 1;}#sk-container-id-3 div.sk-parallel {display: flex;align-items: stretch;justify-content: center;background-color: white;position: relative;}#sk-container-id-3 div.sk-item::before, #sk-container-id-3 div.sk-parallel-item::before {content: \"\";position: absolute;border-left: 1px solid gray;box-sizing: border-box;top: 0;bottom: 0;left: 50%;z-index: -1;}#sk-container-id-3 div.sk-parallel-item {display: flex;flex-direction: column;z-index: 1;position: relative;background-color: white;}#sk-container-id-3 div.sk-parallel-item:first-child::after {align-self: flex-end;width: 50%;}#sk-container-id-3 div.sk-parallel-item:last-child::after {align-self: flex-start;width: 50%;}#sk-container-id-3 div.sk-parallel-item:only-child::after {width: 0;}#sk-container-id-3 div.sk-dashed-wrapped {border: 1px dashed gray;margin: 0 0.4em 0.5em 0.4em;box-sizing: border-box;padding-bottom: 0.4em;background-color: white;}#sk-container-id-3 div.sk-label label {font-family: monospace;font-weight: bold;display: inline-block;line-height: 1.2em;}#sk-container-id-3 div.sk-label-container {text-align: center;}#sk-container-id-3 div.sk-container {/* jupyter's `normalize.less` sets `[hidden] { display: none; }` but bootstrap.min.css set `[hidden] { display: none !important; }` so we also need the `!important` here to be able to override the default hidden behavior on the sphinx rendered scikit-learn.org. See: https://github.com/scikit-learn/scikit-learn/issues/21755 */display: inline-block !important;position: relative;}#sk-container-id-3 div.sk-text-repr-fallback {display: none;}</style><div id=\"sk-container-id-3\" class=\"sk-top-container\"><div class=\"sk-text-repr-fallback\"><pre>KNeighborsClassifier(n_neighbors=1)</pre><b>In a Jupyter environment, please rerun this cell to show the HTML representation or trust the notebook. <br />On GitHub, the HTML representation is unable to render, please try loading this page with nbviewer.org.</b></div><div class=\"sk-container\" hidden><div class=\"sk-item\"><div class=\"sk-estimator sk-toggleable\"><input class=\"sk-toggleable__control sk-hidden--visually\" id=\"sk-estimator-id-3\" type=\"checkbox\" checked><label for=\"sk-estimator-id-3\" class=\"sk-toggleable__label sk-toggleable__label-arrow\">KNeighborsClassifier</label><div class=\"sk-toggleable__content\"><pre>KNeighborsClassifier(n_neighbors=1)</pre></div></div></div></div></div>"
     },
     "execution_count": 27,
     "metadata": {},
     "output_type": "execute_result"
    }
   ],
   "source": [
    "from sklearn.neighbors import KNeighborsClassifier\n",
    "knn = KNeighborsClassifier(n_neighbors=1)\n",
    "knn.fit(X_train, y_train)\n"
   ]
  },
  {
   "cell_type": "code",
   "execution_count": 28,
   "id": "7f99c82e",
   "metadata": {
    "colab": {
     "base_uri": "https://localhost:8080/"
    },
    "id": "7f99c82e",
    "outputId": "9e0992c9-8921-4c6d-b7c9-c6b868b100f7",
    "ExecuteTime": {
     "end_time": "2023-05-08T11:31:45.549033300Z",
     "start_time": "2023-05-08T11:31:43.317072484Z"
    }
   },
   "outputs": [
    {
     "name": "stdout",
     "output_type": "stream",
     "text": [
      "0.9602432778489116\n"
     ]
    }
   ],
   "source": [
    "print(knn.score(X_test, y_test))\n"
   ]
  },
  {
   "cell_type": "markdown",
   "id": "eb18a83d",
   "metadata": {
    "id": "eb18a83d"
   },
   "source": []
  },
  {
   "cell_type": "markdown",
   "id": "c52e9d51",
   "metadata": {
    "id": "c52e9d51"
   },
   "source": [
    "# Hand owner recognition with Class label"
   ]
  },
  {
   "cell_type": "code",
   "execution_count": 29,
   "id": "b31cbd01",
   "metadata": {
    "id": "b31cbd01",
    "ExecuteTime": {
     "end_time": "2023-05-08T11:31:45.737177990Z",
     "start_time": "2023-05-08T11:31:45.556021744Z"
    }
   },
   "outputs": [],
   "source": [
    "df2 = df.drop(['User'], axis=1)\n",
    "labels_Users = df['User']\n",
    "X_train, X_test, y_train, y_test,  = train_test_split(df2, labels_Users, test_size=0.20, random_state=42)"
   ]
  },
  {
   "cell_type": "code",
   "execution_count": 30,
   "id": "1f316e77",
   "metadata": {
    "id": "1f316e77",
    "outputId": "847fdf5b-72e3-4dcd-dd39-143814e73984",
    "ExecuteTime": {
     "end_time": "2023-05-08T11:31:46.031567433Z",
     "start_time": "2023-05-08T11:31:45.748115231Z"
    }
   },
   "outputs": [
    {
     "data": {
      "text/plain": "KNeighborsClassifier(n_neighbors=1)",
      "text/html": "<style>#sk-container-id-4 {color: black;background-color: white;}#sk-container-id-4 pre{padding: 0;}#sk-container-id-4 div.sk-toggleable {background-color: white;}#sk-container-id-4 label.sk-toggleable__label {cursor: pointer;display: block;width: 100%;margin-bottom: 0;padding: 0.3em;box-sizing: border-box;text-align: center;}#sk-container-id-4 label.sk-toggleable__label-arrow:before {content: \"▸\";float: left;margin-right: 0.25em;color: #696969;}#sk-container-id-4 label.sk-toggleable__label-arrow:hover:before {color: black;}#sk-container-id-4 div.sk-estimator:hover label.sk-toggleable__label-arrow:before {color: black;}#sk-container-id-4 div.sk-toggleable__content {max-height: 0;max-width: 0;overflow: hidden;text-align: left;background-color: #f0f8ff;}#sk-container-id-4 div.sk-toggleable__content pre {margin: 0.2em;color: black;border-radius: 0.25em;background-color: #f0f8ff;}#sk-container-id-4 input.sk-toggleable__control:checked~div.sk-toggleable__content {max-height: 200px;max-width: 100%;overflow: auto;}#sk-container-id-4 input.sk-toggleable__control:checked~label.sk-toggleable__label-arrow:before {content: \"▾\";}#sk-container-id-4 div.sk-estimator input.sk-toggleable__control:checked~label.sk-toggleable__label {background-color: #d4ebff;}#sk-container-id-4 div.sk-label input.sk-toggleable__control:checked~label.sk-toggleable__label {background-color: #d4ebff;}#sk-container-id-4 input.sk-hidden--visually {border: 0;clip: rect(1px 1px 1px 1px);clip: rect(1px, 1px, 1px, 1px);height: 1px;margin: -1px;overflow: hidden;padding: 0;position: absolute;width: 1px;}#sk-container-id-4 div.sk-estimator {font-family: monospace;background-color: #f0f8ff;border: 1px dotted black;border-radius: 0.25em;box-sizing: border-box;margin-bottom: 0.5em;}#sk-container-id-4 div.sk-estimator:hover {background-color: #d4ebff;}#sk-container-id-4 div.sk-parallel-item::after {content: \"\";width: 100%;border-bottom: 1px solid gray;flex-grow: 1;}#sk-container-id-4 div.sk-label:hover label.sk-toggleable__label {background-color: #d4ebff;}#sk-container-id-4 div.sk-serial::before {content: \"\";position: absolute;border-left: 1px solid gray;box-sizing: border-box;top: 0;bottom: 0;left: 50%;z-index: 0;}#sk-container-id-4 div.sk-serial {display: flex;flex-direction: column;align-items: center;background-color: white;padding-right: 0.2em;padding-left: 0.2em;position: relative;}#sk-container-id-4 div.sk-item {position: relative;z-index: 1;}#sk-container-id-4 div.sk-parallel {display: flex;align-items: stretch;justify-content: center;background-color: white;position: relative;}#sk-container-id-4 div.sk-item::before, #sk-container-id-4 div.sk-parallel-item::before {content: \"\";position: absolute;border-left: 1px solid gray;box-sizing: border-box;top: 0;bottom: 0;left: 50%;z-index: -1;}#sk-container-id-4 div.sk-parallel-item {display: flex;flex-direction: column;z-index: 1;position: relative;background-color: white;}#sk-container-id-4 div.sk-parallel-item:first-child::after {align-self: flex-end;width: 50%;}#sk-container-id-4 div.sk-parallel-item:last-child::after {align-self: flex-start;width: 50%;}#sk-container-id-4 div.sk-parallel-item:only-child::after {width: 0;}#sk-container-id-4 div.sk-dashed-wrapped {border: 1px dashed gray;margin: 0 0.4em 0.5em 0.4em;box-sizing: border-box;padding-bottom: 0.4em;background-color: white;}#sk-container-id-4 div.sk-label label {font-family: monospace;font-weight: bold;display: inline-block;line-height: 1.2em;}#sk-container-id-4 div.sk-label-container {text-align: center;}#sk-container-id-4 div.sk-container {/* jupyter's `normalize.less` sets `[hidden] { display: none; }` but bootstrap.min.css set `[hidden] { display: none !important; }` so we also need the `!important` here to be able to override the default hidden behavior on the sphinx rendered scikit-learn.org. See: https://github.com/scikit-learn/scikit-learn/issues/21755 */display: inline-block !important;position: relative;}#sk-container-id-4 div.sk-text-repr-fallback {display: none;}</style><div id=\"sk-container-id-4\" class=\"sk-top-container\"><div class=\"sk-text-repr-fallback\"><pre>KNeighborsClassifier(n_neighbors=1)</pre><b>In a Jupyter environment, please rerun this cell to show the HTML representation or trust the notebook. <br />On GitHub, the HTML representation is unable to render, please try loading this page with nbviewer.org.</b></div><div class=\"sk-container\" hidden><div class=\"sk-item\"><div class=\"sk-estimator sk-toggleable\"><input class=\"sk-toggleable__control sk-hidden--visually\" id=\"sk-estimator-id-4\" type=\"checkbox\" checked><label for=\"sk-estimator-id-4\" class=\"sk-toggleable__label sk-toggleable__label-arrow\">KNeighborsClassifier</label><div class=\"sk-toggleable__content\"><pre>KNeighborsClassifier(n_neighbors=1)</pre></div></div></div></div></div>"
     },
     "execution_count": 30,
     "metadata": {},
     "output_type": "execute_result"
    }
   ],
   "source": [
    "knn = KNeighborsClassifier(n_neighbors=1)\n",
    "knn.fit(X_train, y_train)\n"
   ]
  },
  {
   "cell_type": "code",
   "execution_count": 31,
   "id": "3238672d",
   "metadata": {
    "id": "3238672d",
    "outputId": "1d576981-4962-4f5d-a629-80a7135ef377",
    "ExecuteTime": {
     "end_time": "2023-05-08T11:31:48.164927348Z",
     "start_time": "2023-05-08T11:31:46.034887228Z"
    }
   },
   "outputs": [
    {
     "name": "stdout",
     "output_type": "stream",
     "text": [
      "0.8646606914212548\n"
     ]
    }
   ],
   "source": [
    "print(knn.score(X_test, y_test))"
   ]
  },
  {
   "cell_type": "markdown",
   "id": "3c855808",
   "metadata": {
    "id": "3c855808"
   },
   "source": [
    "# Class recognition without User label"
   ]
  },
  {
   "cell_type": "code",
   "execution_count": 32,
   "id": "0b864c6d",
   "metadata": {
    "id": "0b864c6d",
    "ExecuteTime": {
     "end_time": "2023-05-08T11:31:48.373592614Z",
     "start_time": "2023-05-08T11:31:48.177067590Z"
    }
   },
   "outputs": [],
   "source": [
    "df2 = df.drop(['User'], axis=1)\n",
    "df2 = df2.drop(['Class'], axis=1)\n",
    "labels_Class = df['Class']\n",
    "X_train, X_test, y_train, y_test,  = train_test_split(df2, labels_Class, test_size=0.20, random_state=42)"
   ]
  },
  {
   "cell_type": "code",
   "execution_count": 33,
   "id": "1de9b023",
   "metadata": {
    "id": "1de9b023",
    "outputId": "573b7fcf-617d-4df5-8ac1-64ea19f266a6",
    "ExecuteTime": {
     "end_time": "2023-05-08T11:31:50.754820233Z",
     "start_time": "2023-05-08T11:31:48.379493938Z"
    }
   },
   "outputs": [
    {
     "name": "stdout",
     "output_type": "stream",
     "text": [
      "0.9596670934699104\n"
     ]
    }
   ],
   "source": [
    "knn = KNeighborsClassifier(n_neighbors=1)\n",
    "knn.fit(X_train, y_train)\n",
    "print(knn.score(X_test, y_test))"
   ]
  },
  {
   "cell_type": "markdown",
   "id": "54ec9011",
   "metadata": {
    "id": "54ec9011"
   },
   "source": [
    "# Class recognition without Class label"
   ]
  },
  {
   "cell_type": "code",
   "execution_count": 34,
   "id": "1a987e55",
   "metadata": {
    "id": "1a987e55",
    "ExecuteTime": {
     "end_time": "2023-05-08T11:31:50.904316306Z",
     "start_time": "2023-05-08T11:31:50.742112638Z"
    }
   },
   "outputs": [],
   "source": [
    "df2 = df.drop(['User'], axis=1)\n",
    "df2 = df2.drop(['Class'], axis=1)\n",
    "\n",
    "labels_Users = df['User']\n",
    "X_train, X_test, y_train, y_test,  = train_test_split(df2, labels_Users, test_size=0.20, random_state=42)"
   ]
  },
  {
   "cell_type": "code",
   "execution_count": 35,
   "id": "c4360d7b",
   "metadata": {
    "id": "c4360d7b",
    "outputId": "f4a324ec-eead-40ba-c519-b8df6fec715b",
    "ExecuteTime": {
     "end_time": "2023-05-08T11:31:53.193633964Z",
     "start_time": "2023-05-08T11:31:50.910645742Z"
    }
   },
   "outputs": [
    {
     "name": "stdout",
     "output_type": "stream",
     "text": [
      "0.8646606914212548\n"
     ]
    }
   ],
   "source": [
    "knn = KNeighborsClassifier(n_neighbors=1)\n",
    "knn.fit(X_train, y_train)\n",
    "print(knn.score(X_test, y_test))"
   ]
  },
  {
   "cell_type": "markdown",
   "id": "eb119607",
   "metadata": {
    "id": "eb119607"
   },
   "source": [
    "# SVM"
   ]
  },
  {
   "cell_type": "code",
   "execution_count": 36,
   "id": "a80b9469",
   "metadata": {
    "colab": {
     "base_uri": "https://localhost:8080/",
     "height": 500
    },
    "id": "a80b9469",
    "outputId": "ea8d6bff-54dd-4e08-e749-f70816e493a8",
    "ExecuteTime": {
     "end_time": "2023-05-08T11:31:55.149494791Z",
     "start_time": "2023-05-08T11:31:53.204237829Z"
    }
   },
   "outputs": [
    {
     "name": "stdout",
     "output_type": "stream",
     "text": [
      "ERROR: unknown command \"insall\" - maybe you meant \"install\"\r\n"
     ]
    },
    {
     "data": {
      "text/plain": "       Class  User         X0          Y0         Z0         X1          Y1  \\\n33         1     0  57.188299   71.969974 -61.055158  60.051138   10.398977   \n78         1     0  63.062767   10.947741 -67.376305  32.352293   80.960891   \n87         1     0  61.934470   10.727026 -68.611776  33.526941   80.985220   \n90         1     0  60.180069   10.325333 -70.370529  33.186244   80.794394   \n129        1     0  35.182310   82.087600 -53.818944  61.517994   11.588590   \n...      ...   ...        ...         ...        ...        ...         ...   \n77985      5    14  80.593767   29.334851 -50.360564  -1.814506   99.163432   \n78028      5    14  80.916157   28.187499 -52.610947  61.793672  101.641934   \n78064      5    14  88.760663   59.931435 -63.671039  -2.155721  125.068618   \n78070      5    14  55.548078  129.512357 -41.791831  27.242311  136.745154   \n78085      5    14  54.922378  129.337452 -42.812563  78.368722   33.713998   \n\n              Z1         X2          Y2         Z2                  X3  \\\n33    -70.538890  32.442550   80.991365 -57.096942    84.6529482275572   \n78    -57.529997  78.165618   42.775898 -71.338002    57.4873324616827   \n87    -56.033271  86.182511   67.885419 -72.569835    76.2973935785158   \n90    -56.559278  85.466683   67.695669 -73.352786    76.0301174866085   \n129   -68.744317  77.472179   43.453587 -71.541039    87.1941939182506   \n...          ...        ...         ...        ...                 ...   \n77985   6.324889  27.792626  136.313769 -33.078748   -1.94192191497827   \n78028  -6.187505  -0.156308   96.674074   0.406627    86.7309957725075   \n78064 -41.709071  77.992760   32.445566 -44.458812  -0.970094534882875   \n78070 -31.614706 -30.276580   78.726291 -15.758450    78.1881695610848   \n78085 -43.749327  27.698365  107.575424  11.235692   -2.04993721431977   \n\n                     Y3                 Z3                 X4  \\\n33     68.0469160650217   -74.055015896666   75.7646115464786   \n78     72.5611548843288  -60.9611183408917   87.8151137077638   \n87     42.3892300154246  -73.2856585667272                  0   \n90     42.3258183901331  -73.6275735151941                  0   \n129    68.8185456397786  -70.7798921893051                  0   \n...                 ...                ...                ...   \n77985  124.998316380621  -42.6902787229678  -29.9077194692271   \n78028  61.3187288821744  -59.7945148152106    -30.61846828279   \n78064   97.628680322975   2.98397838329817   55.1306108005195   \n78070  32.7732849048862  -43.5608262729756  -1.80177811487272   \n78085  97.9525658840585   4.30009223153906  -30.1834826683879   \n\n                     Y4                 Z4                 X5  \\\n33     42.5284198448163  -73.7535957212517                  0   \n78     68.2230424290105  -70.7850157933284                  0   \n87                    0                  0                  0   \n90                    0                  0                  0   \n129                   0                  0                  0   \n...                 ...                ...                ...   \n77985  78.2695941493792  -16.8258669259183  -21.8078039197755   \n78028  78.4682435346278  -15.9722981120188  -22.7877171799973   \n78064  129.367411656344  -43.3191719272339   -30.185045982206   \n78070  98.3460107051729   4.87855892136542   28.2541676428054   \n78085  77.3798158442046  -17.6476939130196   87.9672881381643   \n\n                     Y5                 Z5  \n33                    0                  0  \n78                    0                  0  \n87                    0                  0  \n90                    0                  0  \n129                   0                  0  \n...                 ...                ...  \n77985  104.540374004303  -54.2342889366686  \n78028  104.742327465586  -53.2960917882787  \n78064  78.1287444666287  -16.3108442369111  \n78070  107.390859619162   10.6446104793982  \n78085  62.9553742837872  -58.4597453678652  \n\n[3096 rows x 20 columns]",
      "text/html": "<div>\n<style scoped>\n    .dataframe tbody tr th:only-of-type {\n        vertical-align: middle;\n    }\n\n    .dataframe tbody tr th {\n        vertical-align: top;\n    }\n\n    .dataframe thead th {\n        text-align: right;\n    }\n</style>\n<table border=\"1\" class=\"dataframe\">\n  <thead>\n    <tr style=\"text-align: right;\">\n      <th></th>\n      <th>Class</th>\n      <th>User</th>\n      <th>X0</th>\n      <th>Y0</th>\n      <th>Z0</th>\n      <th>X1</th>\n      <th>Y1</th>\n      <th>Z1</th>\n      <th>X2</th>\n      <th>Y2</th>\n      <th>Z2</th>\n      <th>X3</th>\n      <th>Y3</th>\n      <th>Z3</th>\n      <th>X4</th>\n      <th>Y4</th>\n      <th>Z4</th>\n      <th>X5</th>\n      <th>Y5</th>\n      <th>Z5</th>\n    </tr>\n  </thead>\n  <tbody>\n    <tr>\n      <th>33</th>\n      <td>1</td>\n      <td>0</td>\n      <td>57.188299</td>\n      <td>71.969974</td>\n      <td>-61.055158</td>\n      <td>60.051138</td>\n      <td>10.398977</td>\n      <td>-70.538890</td>\n      <td>32.442550</td>\n      <td>80.991365</td>\n      <td>-57.096942</td>\n      <td>84.6529482275572</td>\n      <td>68.0469160650217</td>\n      <td>-74.055015896666</td>\n      <td>75.7646115464786</td>\n      <td>42.5284198448163</td>\n      <td>-73.7535957212517</td>\n      <td>0</td>\n      <td>0</td>\n      <td>0</td>\n    </tr>\n    <tr>\n      <th>78</th>\n      <td>1</td>\n      <td>0</td>\n      <td>63.062767</td>\n      <td>10.947741</td>\n      <td>-67.376305</td>\n      <td>32.352293</td>\n      <td>80.960891</td>\n      <td>-57.529997</td>\n      <td>78.165618</td>\n      <td>42.775898</td>\n      <td>-71.338002</td>\n      <td>57.4873324616827</td>\n      <td>72.5611548843288</td>\n      <td>-60.9611183408917</td>\n      <td>87.8151137077638</td>\n      <td>68.2230424290105</td>\n      <td>-70.7850157933284</td>\n      <td>0</td>\n      <td>0</td>\n      <td>0</td>\n    </tr>\n    <tr>\n      <th>87</th>\n      <td>1</td>\n      <td>0</td>\n      <td>61.934470</td>\n      <td>10.727026</td>\n      <td>-68.611776</td>\n      <td>33.526941</td>\n      <td>80.985220</td>\n      <td>-56.033271</td>\n      <td>86.182511</td>\n      <td>67.885419</td>\n      <td>-72.569835</td>\n      <td>76.2973935785158</td>\n      <td>42.3892300154246</td>\n      <td>-73.2856585667272</td>\n      <td>0</td>\n      <td>0</td>\n      <td>0</td>\n      <td>0</td>\n      <td>0</td>\n      <td>0</td>\n    </tr>\n    <tr>\n      <th>90</th>\n      <td>1</td>\n      <td>0</td>\n      <td>60.180069</td>\n      <td>10.325333</td>\n      <td>-70.370529</td>\n      <td>33.186244</td>\n      <td>80.794394</td>\n      <td>-56.559278</td>\n      <td>85.466683</td>\n      <td>67.695669</td>\n      <td>-73.352786</td>\n      <td>76.0301174866085</td>\n      <td>42.3258183901331</td>\n      <td>-73.6275735151941</td>\n      <td>0</td>\n      <td>0</td>\n      <td>0</td>\n      <td>0</td>\n      <td>0</td>\n      <td>0</td>\n    </tr>\n    <tr>\n      <th>129</th>\n      <td>1</td>\n      <td>0</td>\n      <td>35.182310</td>\n      <td>82.087600</td>\n      <td>-53.818944</td>\n      <td>61.517994</td>\n      <td>11.588590</td>\n      <td>-68.744317</td>\n      <td>77.472179</td>\n      <td>43.453587</td>\n      <td>-71.541039</td>\n      <td>87.1941939182506</td>\n      <td>68.8185456397786</td>\n      <td>-70.7798921893051</td>\n      <td>0</td>\n      <td>0</td>\n      <td>0</td>\n      <td>0</td>\n      <td>0</td>\n      <td>0</td>\n    </tr>\n    <tr>\n      <th>...</th>\n      <td>...</td>\n      <td>...</td>\n      <td>...</td>\n      <td>...</td>\n      <td>...</td>\n      <td>...</td>\n      <td>...</td>\n      <td>...</td>\n      <td>...</td>\n      <td>...</td>\n      <td>...</td>\n      <td>...</td>\n      <td>...</td>\n      <td>...</td>\n      <td>...</td>\n      <td>...</td>\n      <td>...</td>\n      <td>...</td>\n      <td>...</td>\n      <td>...</td>\n    </tr>\n    <tr>\n      <th>77985</th>\n      <td>5</td>\n      <td>14</td>\n      <td>80.593767</td>\n      <td>29.334851</td>\n      <td>-50.360564</td>\n      <td>-1.814506</td>\n      <td>99.163432</td>\n      <td>6.324889</td>\n      <td>27.792626</td>\n      <td>136.313769</td>\n      <td>-33.078748</td>\n      <td>-1.94192191497827</td>\n      <td>124.998316380621</td>\n      <td>-42.6902787229678</td>\n      <td>-29.9077194692271</td>\n      <td>78.2695941493792</td>\n      <td>-16.8258669259183</td>\n      <td>-21.8078039197755</td>\n      <td>104.540374004303</td>\n      <td>-54.2342889366686</td>\n    </tr>\n    <tr>\n      <th>78028</th>\n      <td>5</td>\n      <td>14</td>\n      <td>80.916157</td>\n      <td>28.187499</td>\n      <td>-52.610947</td>\n      <td>61.793672</td>\n      <td>101.641934</td>\n      <td>-6.187505</td>\n      <td>-0.156308</td>\n      <td>96.674074</td>\n      <td>0.406627</td>\n      <td>86.7309957725075</td>\n      <td>61.3187288821744</td>\n      <td>-59.7945148152106</td>\n      <td>-30.61846828279</td>\n      <td>78.4682435346278</td>\n      <td>-15.9722981120188</td>\n      <td>-22.7877171799973</td>\n      <td>104.742327465586</td>\n      <td>-53.2960917882787</td>\n    </tr>\n    <tr>\n      <th>78064</th>\n      <td>5</td>\n      <td>14</td>\n      <td>88.760663</td>\n      <td>59.931435</td>\n      <td>-63.671039</td>\n      <td>-2.155721</td>\n      <td>125.068618</td>\n      <td>-41.709071</td>\n      <td>77.992760</td>\n      <td>32.445566</td>\n      <td>-44.458812</td>\n      <td>-0.970094534882875</td>\n      <td>97.628680322975</td>\n      <td>2.98397838329817</td>\n      <td>55.1306108005195</td>\n      <td>129.367411656344</td>\n      <td>-43.3191719272339</td>\n      <td>-30.185045982206</td>\n      <td>78.1287444666287</td>\n      <td>-16.3108442369111</td>\n    </tr>\n    <tr>\n      <th>78070</th>\n      <td>5</td>\n      <td>14</td>\n      <td>55.548078</td>\n      <td>129.512357</td>\n      <td>-41.791831</td>\n      <td>27.242311</td>\n      <td>136.745154</td>\n      <td>-31.614706</td>\n      <td>-30.276580</td>\n      <td>78.726291</td>\n      <td>-15.758450</td>\n      <td>78.1881695610848</td>\n      <td>32.7732849048862</td>\n      <td>-43.5608262729756</td>\n      <td>-1.80177811487272</td>\n      <td>98.3460107051729</td>\n      <td>4.87855892136542</td>\n      <td>28.2541676428054</td>\n      <td>107.390859619162</td>\n      <td>10.6446104793982</td>\n    </tr>\n    <tr>\n      <th>78085</th>\n      <td>5</td>\n      <td>14</td>\n      <td>54.922378</td>\n      <td>129.337452</td>\n      <td>-42.812563</td>\n      <td>78.368722</td>\n      <td>33.713998</td>\n      <td>-43.749327</td>\n      <td>27.698365</td>\n      <td>107.575424</td>\n      <td>11.235692</td>\n      <td>-2.04993721431977</td>\n      <td>97.9525658840585</td>\n      <td>4.30009223153906</td>\n      <td>-30.1834826683879</td>\n      <td>77.3798158442046</td>\n      <td>-17.6476939130196</td>\n      <td>87.9672881381643</td>\n      <td>62.9553742837872</td>\n      <td>-58.4597453678652</td>\n    </tr>\n  </tbody>\n</table>\n<p>3096 rows × 20 columns</p>\n</div>"
     },
     "execution_count": 36,
     "metadata": {},
     "output_type": "execute_result"
    }
   ],
   "source": [
    "from sklearn.svm import SVC\n",
    "from sklearn.preprocessing import StandardScaler\n",
    "\n",
    "import matplotlib.pyplot as plt\n",
    "from sklearn.model_selection import train_test_split\n",
    "!pip insall sklearn.grid_search\n",
    "from sklearn.model_selection import GridSearchCV\n",
    "from sklearn.metrics import classification_report, confusion_matrix\n",
    "\n",
    "\n",
    "# dataset_path = 'allUsers.lcl.csv'\n",
    "\n",
    "df = pd.read_csv(dataset_path)\n",
    "\n",
    "df = df.replace('?', np.nan)\n",
    "df = df.dropna(thresh=len(df) * 0.8 , axis=1)\n",
    "df = df.replace(np.nan, 0)\n",
    "\n",
    "drop_indices = np.random.choice(df.index, 75000, replace=False)\n",
    "df = df.drop(drop_indices)\n",
    "df"
   ]
  },
  {
   "cell_type": "markdown",
   "id": "50f70119",
   "metadata": {
    "id": "50f70119"
   },
   "source": [
    "# Class recognition without User label"
   ]
  },
  {
   "cell_type": "code",
   "execution_count": 37,
   "id": "32fde41d",
   "metadata": {
    "colab": {
     "base_uri": "https://localhost:8080/"
    },
    "id": "32fde41d",
    "outputId": "665a4821-cc00-4d2b-f04c-4a398fa5edf9",
    "ExecuteTime": {
     "end_time": "2023-05-08T11:31:56.098492301Z",
     "start_time": "2023-05-08T11:31:55.162926303Z"
    }
   },
   "outputs": [
    {
     "name": "stdout",
     "output_type": "stream",
     "text": [
      "0.25483870967741934\n"
     ]
    }
   ],
   "source": [
    "df2 = df.drop(['User'], axis=1)\n",
    "df2 = df2.drop(['Class'], axis=1)\n",
    "labels_Class = df['Class']\n",
    "X_train, X_test, y_train, y_test,  = train_test_split(df2, labels_Class, test_size=0.20, random_state=42)\n",
    "\n",
    "clf = SVC(kernel='rbf', gamma=\"auto\", C = 7)\n",
    "clf.fit(X_train, y_train)\n",
    "print(clf.score(X_test, y_test))"
   ]
  },
  {
   "cell_type": "markdown",
   "source": [
    "# SVC gread search class recognition without user label"
   ],
   "metadata": {
    "id": "2TpbiE7ZmBKr"
   },
   "id": "2TpbiE7ZmBKr"
  },
  {
   "cell_type": "code",
   "source": [
    "param_grid = {'C':[1,10,100,1000],\n",
    "              'gamma':[1,0.1,0.001,0.0001], \n",
    "              'kernel':['sigmoid','rbf']}\n",
    "\n",
    "grid = GridSearchCV(SVC(),param_grid,refit = True, verbose=2)\n",
    "\n",
    "grid.fit(X_train,y_train)\n"
   ],
   "metadata": {
    "colab": {
     "base_uri": "https://localhost:8080/",
     "height": 1000
    },
    "id": "eiutRu3ll62i",
    "outputId": "d3c3eb6e-7725-43b6-a71c-12ff0f463dee",
    "ExecuteTime": {
     "end_time": "2023-05-08T11:32:46.220684700Z",
     "start_time": "2023-05-08T11:31:56.098265042Z"
    }
   },
   "id": "eiutRu3ll62i",
   "execution_count": 38,
   "outputs": [
    {
     "name": "stdout",
     "output_type": "stream",
     "text": [
      "Fitting 5 folds for each of 32 candidates, totalling 160 fits\n",
      "[CV] END .......................C=1, gamma=1, kernel=sigmoid; total time=   0.2s\n",
      "[CV] END .......................C=1, gamma=1, kernel=sigmoid; total time=   0.2s\n",
      "[CV] END .......................C=1, gamma=1, kernel=sigmoid; total time=   0.2s\n",
      "[CV] END .......................C=1, gamma=1, kernel=sigmoid; total time=   0.2s\n",
      "[CV] END .......................C=1, gamma=1, kernel=sigmoid; total time=   0.2s\n",
      "[CV] END ...........................C=1, gamma=1, kernel=rbf; total time=   0.4s\n",
      "[CV] END ...........................C=1, gamma=1, kernel=rbf; total time=   0.4s\n",
      "[CV] END ...........................C=1, gamma=1, kernel=rbf; total time=   0.4s\n",
      "[CV] END ...........................C=1, gamma=1, kernel=rbf; total time=   0.4s\n",
      "[CV] END ...........................C=1, gamma=1, kernel=rbf; total time=   0.4s\n",
      "[CV] END .....................C=1, gamma=0.1, kernel=sigmoid; total time=   0.2s\n",
      "[CV] END .....................C=1, gamma=0.1, kernel=sigmoid; total time=   0.2s\n",
      "[CV] END .....................C=1, gamma=0.1, kernel=sigmoid; total time=   0.2s\n",
      "[CV] END .....................C=1, gamma=0.1, kernel=sigmoid; total time=   0.2s\n",
      "[CV] END .....................C=1, gamma=0.1, kernel=sigmoid; total time=   0.2s\n",
      "[CV] END .........................C=1, gamma=0.1, kernel=rbf; total time=   0.3s\n",
      "[CV] END .........................C=1, gamma=0.1, kernel=rbf; total time=   0.3s\n",
      "[CV] END .........................C=1, gamma=0.1, kernel=rbf; total time=   0.3s\n",
      "[CV] END .........................C=1, gamma=0.1, kernel=rbf; total time=   0.3s\n",
      "[CV] END .........................C=1, gamma=0.1, kernel=rbf; total time=   0.3s\n",
      "[CV] END ...................C=1, gamma=0.001, kernel=sigmoid; total time=   0.2s\n",
      "[CV] END ...................C=1, gamma=0.001, kernel=sigmoid; total time=   0.2s\n",
      "[CV] END ...................C=1, gamma=0.001, kernel=sigmoid; total time=   0.2s\n",
      "[CV] END ...................C=1, gamma=0.001, kernel=sigmoid; total time=   0.2s\n",
      "[CV] END ...................C=1, gamma=0.001, kernel=sigmoid; total time=   0.2s\n",
      "[CV] END .......................C=1, gamma=0.001, kernel=rbf; total time=   0.3s\n",
      "[CV] END .......................C=1, gamma=0.001, kernel=rbf; total time=   0.3s\n",
      "[CV] END .......................C=1, gamma=0.001, kernel=rbf; total time=   0.3s\n",
      "[CV] END .......................C=1, gamma=0.001, kernel=rbf; total time=   0.3s\n",
      "[CV] END .......................C=1, gamma=0.001, kernel=rbf; total time=   0.3s\n",
      "[CV] END ..................C=1, gamma=0.0001, kernel=sigmoid; total time=   0.4s\n",
      "[CV] END ..................C=1, gamma=0.0001, kernel=sigmoid; total time=   0.5s\n",
      "[CV] END ..................C=1, gamma=0.0001, kernel=sigmoid; total time=   0.4s\n",
      "[CV] END ..................C=1, gamma=0.0001, kernel=sigmoid; total time=   0.5s\n",
      "[CV] END ..................C=1, gamma=0.0001, kernel=sigmoid; total time=   0.5s\n",
      "[CV] END ......................C=1, gamma=0.0001, kernel=rbf; total time=   0.2s\n",
      "[CV] END ......................C=1, gamma=0.0001, kernel=rbf; total time=   0.2s\n",
      "[CV] END ......................C=1, gamma=0.0001, kernel=rbf; total time=   0.2s\n",
      "[CV] END ......................C=1, gamma=0.0001, kernel=rbf; total time=   0.2s\n",
      "[CV] END ......................C=1, gamma=0.0001, kernel=rbf; total time=   0.2s\n",
      "[CV] END ......................C=10, gamma=1, kernel=sigmoid; total time=   0.2s\n",
      "[CV] END ......................C=10, gamma=1, kernel=sigmoid; total time=   0.2s\n",
      "[CV] END ......................C=10, gamma=1, kernel=sigmoid; total time=   0.2s\n",
      "[CV] END ......................C=10, gamma=1, kernel=sigmoid; total time=   0.2s\n",
      "[CV] END ......................C=10, gamma=1, kernel=sigmoid; total time=   0.2s\n",
      "[CV] END ..........................C=10, gamma=1, kernel=rbf; total time=   0.4s\n",
      "[CV] END ..........................C=10, gamma=1, kernel=rbf; total time=   0.4s\n",
      "[CV] END ..........................C=10, gamma=1, kernel=rbf; total time=   0.4s\n",
      "[CV] END ..........................C=10, gamma=1, kernel=rbf; total time=   0.4s\n",
      "[CV] END ..........................C=10, gamma=1, kernel=rbf; total time=   0.4s\n",
      "[CV] END ....................C=10, gamma=0.1, kernel=sigmoid; total time=   0.2s\n",
      "[CV] END ....................C=10, gamma=0.1, kernel=sigmoid; total time=   0.2s\n",
      "[CV] END ....................C=10, gamma=0.1, kernel=sigmoid; total time=   0.2s\n",
      "[CV] END ....................C=10, gamma=0.1, kernel=sigmoid; total time=   0.2s\n",
      "[CV] END ....................C=10, gamma=0.1, kernel=sigmoid; total time=   0.2s\n",
      "[CV] END ........................C=10, gamma=0.1, kernel=rbf; total time=   0.4s\n",
      "[CV] END ........................C=10, gamma=0.1, kernel=rbf; total time=   0.4s\n",
      "[CV] END ........................C=10, gamma=0.1, kernel=rbf; total time=   0.4s\n",
      "[CV] END ........................C=10, gamma=0.1, kernel=rbf; total time=   0.4s\n",
      "[CV] END ........................C=10, gamma=0.1, kernel=rbf; total time=   0.4s\n",
      "[CV] END ..................C=10, gamma=0.001, kernel=sigmoid; total time=   0.2s\n",
      "[CV] END ..................C=10, gamma=0.001, kernel=sigmoid; total time=   0.2s\n",
      "[CV] END ..................C=10, gamma=0.001, kernel=sigmoid; total time=   0.2s\n",
      "[CV] END ..................C=10, gamma=0.001, kernel=sigmoid; total time=   0.2s\n",
      "[CV] END ..................C=10, gamma=0.001, kernel=sigmoid; total time=   0.2s\n",
      "[CV] END ......................C=10, gamma=0.001, kernel=rbf; total time=   0.3s\n",
      "[CV] END ......................C=10, gamma=0.001, kernel=rbf; total time=   0.3s\n",
      "[CV] END ......................C=10, gamma=0.001, kernel=rbf; total time=   0.3s\n",
      "[CV] END ......................C=10, gamma=0.001, kernel=rbf; total time=   0.3s\n",
      "[CV] END ......................C=10, gamma=0.001, kernel=rbf; total time=   0.3s\n",
      "[CV] END .................C=10, gamma=0.0001, kernel=sigmoid; total time=   0.4s\n",
      "[CV] END .................C=10, gamma=0.0001, kernel=sigmoid; total time=   0.4s\n",
      "[CV] END .................C=10, gamma=0.0001, kernel=sigmoid; total time=   0.4s\n",
      "[CV] END .................C=10, gamma=0.0001, kernel=sigmoid; total time=   0.4s\n",
      "[CV] END .................C=10, gamma=0.0001, kernel=sigmoid; total time=   0.4s\n",
      "[CV] END .....................C=10, gamma=0.0001, kernel=rbf; total time=   0.3s\n",
      "[CV] END .....................C=10, gamma=0.0001, kernel=rbf; total time=   0.3s\n",
      "[CV] END .....................C=10, gamma=0.0001, kernel=rbf; total time=   0.3s\n",
      "[CV] END .....................C=10, gamma=0.0001, kernel=rbf; total time=   0.3s\n",
      "[CV] END .....................C=10, gamma=0.0001, kernel=rbf; total time=   0.3s\n",
      "[CV] END .....................C=100, gamma=1, kernel=sigmoid; total time=   0.2s\n",
      "[CV] END .....................C=100, gamma=1, kernel=sigmoid; total time=   0.2s\n",
      "[CV] END .....................C=100, gamma=1, kernel=sigmoid; total time=   0.2s\n",
      "[CV] END .....................C=100, gamma=1, kernel=sigmoid; total time=   0.2s\n",
      "[CV] END .....................C=100, gamma=1, kernel=sigmoid; total time=   0.2s\n",
      "[CV] END .........................C=100, gamma=1, kernel=rbf; total time=   0.4s\n",
      "[CV] END .........................C=100, gamma=1, kernel=rbf; total time=   0.4s\n",
      "[CV] END .........................C=100, gamma=1, kernel=rbf; total time=   0.4s\n",
      "[CV] END .........................C=100, gamma=1, kernel=rbf; total time=   0.4s\n",
      "[CV] END .........................C=100, gamma=1, kernel=rbf; total time=   0.4s\n",
      "[CV] END ...................C=100, gamma=0.1, kernel=sigmoid; total time=   0.2s\n",
      "[CV] END ...................C=100, gamma=0.1, kernel=sigmoid; total time=   0.2s\n",
      "[CV] END ...................C=100, gamma=0.1, kernel=sigmoid; total time=   0.2s\n",
      "[CV] END ...................C=100, gamma=0.1, kernel=sigmoid; total time=   0.3s\n",
      "[CV] END ...................C=100, gamma=0.1, kernel=sigmoid; total time=   0.3s\n",
      "[CV] END .......................C=100, gamma=0.1, kernel=rbf; total time=   0.5s\n",
      "[CV] END .......................C=100, gamma=0.1, kernel=rbf; total time=   0.5s\n",
      "[CV] END .......................C=100, gamma=0.1, kernel=rbf; total time=   0.6s\n",
      "[CV] END .......................C=100, gamma=0.1, kernel=rbf; total time=   0.5s\n",
      "[CV] END .......................C=100, gamma=0.1, kernel=rbf; total time=   0.4s\n",
      "[CV] END .................C=100, gamma=0.001, kernel=sigmoid; total time=   0.3s\n",
      "[CV] END .................C=100, gamma=0.001, kernel=sigmoid; total time=   0.3s\n",
      "[CV] END .................C=100, gamma=0.001, kernel=sigmoid; total time=   0.2s\n",
      "[CV] END .................C=100, gamma=0.001, kernel=sigmoid; total time=   0.2s\n",
      "[CV] END .................C=100, gamma=0.001, kernel=sigmoid; total time=   0.3s\n",
      "[CV] END .....................C=100, gamma=0.001, kernel=rbf; total time=   0.4s\n",
      "[CV] END .....................C=100, gamma=0.001, kernel=rbf; total time=   0.6s\n",
      "[CV] END .....................C=100, gamma=0.001, kernel=rbf; total time=   0.4s\n",
      "[CV] END .....................C=100, gamma=0.001, kernel=rbf; total time=   0.4s\n",
      "[CV] END .....................C=100, gamma=0.001, kernel=rbf; total time=   0.3s\n",
      "[CV] END ................C=100, gamma=0.0001, kernel=sigmoid; total time=   0.5s\n",
      "[CV] END ................C=100, gamma=0.0001, kernel=sigmoid; total time=   0.5s\n",
      "[CV] END ................C=100, gamma=0.0001, kernel=sigmoid; total time=   0.5s\n",
      "[CV] END ................C=100, gamma=0.0001, kernel=sigmoid; total time=   0.5s\n",
      "[CV] END ................C=100, gamma=0.0001, kernel=sigmoid; total time=   0.5s\n",
      "[CV] END ....................C=100, gamma=0.0001, kernel=rbf; total time=   0.3s\n",
      "[CV] END ....................C=100, gamma=0.0001, kernel=rbf; total time=   0.3s\n",
      "[CV] END ....................C=100, gamma=0.0001, kernel=rbf; total time=   0.3s\n",
      "[CV] END ....................C=100, gamma=0.0001, kernel=rbf; total time=   0.3s\n",
      "[CV] END ....................C=100, gamma=0.0001, kernel=rbf; total time=   0.3s\n",
      "[CV] END ....................C=1000, gamma=1, kernel=sigmoid; total time=   0.3s\n",
      "[CV] END ....................C=1000, gamma=1, kernel=sigmoid; total time=   0.2s\n",
      "[CV] END ....................C=1000, gamma=1, kernel=sigmoid; total time=   0.3s\n",
      "[CV] END ....................C=1000, gamma=1, kernel=sigmoid; total time=   0.2s\n",
      "[CV] END ....................C=1000, gamma=1, kernel=sigmoid; total time=   0.2s\n",
      "[CV] END ........................C=1000, gamma=1, kernel=rbf; total time=   0.5s\n",
      "[CV] END ........................C=1000, gamma=1, kernel=rbf; total time=   0.4s\n",
      "[CV] END ........................C=1000, gamma=1, kernel=rbf; total time=   0.4s\n",
      "[CV] END ........................C=1000, gamma=1, kernel=rbf; total time=   0.4s\n",
      "[CV] END ........................C=1000, gamma=1, kernel=rbf; total time=   0.4s\n",
      "[CV] END ..................C=1000, gamma=0.1, kernel=sigmoid; total time=   0.2s\n",
      "[CV] END ..................C=1000, gamma=0.1, kernel=sigmoid; total time=   0.2s\n",
      "[CV] END ..................C=1000, gamma=0.1, kernel=sigmoid; total time=   0.2s\n",
      "[CV] END ..................C=1000, gamma=0.1, kernel=sigmoid; total time=   0.2s\n",
      "[CV] END ..................C=1000, gamma=0.1, kernel=sigmoid; total time=   0.2s\n",
      "[CV] END ......................C=1000, gamma=0.1, kernel=rbf; total time=   0.4s\n",
      "[CV] END ......................C=1000, gamma=0.1, kernel=rbf; total time=   0.4s\n",
      "[CV] END ......................C=1000, gamma=0.1, kernel=rbf; total time=   0.4s\n",
      "[CV] END ......................C=1000, gamma=0.1, kernel=rbf; total time=   0.4s\n",
      "[CV] END ......................C=1000, gamma=0.1, kernel=rbf; total time=   0.4s\n",
      "[CV] END ................C=1000, gamma=0.001, kernel=sigmoid; total time=   0.2s\n",
      "[CV] END ................C=1000, gamma=0.001, kernel=sigmoid; total time=   0.2s\n",
      "[CV] END ................C=1000, gamma=0.001, kernel=sigmoid; total time=   0.2s\n",
      "[CV] END ................C=1000, gamma=0.001, kernel=sigmoid; total time=   0.2s\n",
      "[CV] END ................C=1000, gamma=0.001, kernel=sigmoid; total time=   0.2s\n",
      "[CV] END ....................C=1000, gamma=0.001, kernel=rbf; total time=   0.3s\n",
      "[CV] END ....................C=1000, gamma=0.001, kernel=rbf; total time=   0.4s\n",
      "[CV] END ....................C=1000, gamma=0.001, kernel=rbf; total time=   0.4s\n",
      "[CV] END ....................C=1000, gamma=0.001, kernel=rbf; total time=   0.4s\n",
      "[CV] END ....................C=1000, gamma=0.001, kernel=rbf; total time=   0.3s\n",
      "[CV] END ...............C=1000, gamma=0.0001, kernel=sigmoid; total time=   0.4s\n",
      "[CV] END ...............C=1000, gamma=0.0001, kernel=sigmoid; total time=   0.4s\n",
      "[CV] END ...............C=1000, gamma=0.0001, kernel=sigmoid; total time=   0.4s\n",
      "[CV] END ...............C=1000, gamma=0.0001, kernel=sigmoid; total time=   0.4s\n",
      "[CV] END ...............C=1000, gamma=0.0001, kernel=sigmoid; total time=   0.4s\n",
      "[CV] END ...................C=1000, gamma=0.0001, kernel=rbf; total time=   0.3s\n",
      "[CV] END ...................C=1000, gamma=0.0001, kernel=rbf; total time=   0.3s\n",
      "[CV] END ...................C=1000, gamma=0.0001, kernel=rbf; total time=   0.3s\n",
      "[CV] END ...................C=1000, gamma=0.0001, kernel=rbf; total time=   0.3s\n",
      "[CV] END ...................C=1000, gamma=0.0001, kernel=rbf; total time=   0.3s\n"
     ]
    },
    {
     "data": {
      "text/plain": "GridSearchCV(estimator=SVC(),\n             param_grid={'C': [1, 10, 100, 1000],\n                         'gamma': [1, 0.1, 0.001, 0.0001],\n                         'kernel': ['sigmoid', 'rbf']},\n             verbose=2)",
      "text/html": "<style>#sk-container-id-5 {color: black;background-color: white;}#sk-container-id-5 pre{padding: 0;}#sk-container-id-5 div.sk-toggleable {background-color: white;}#sk-container-id-5 label.sk-toggleable__label {cursor: pointer;display: block;width: 100%;margin-bottom: 0;padding: 0.3em;box-sizing: border-box;text-align: center;}#sk-container-id-5 label.sk-toggleable__label-arrow:before {content: \"▸\";float: left;margin-right: 0.25em;color: #696969;}#sk-container-id-5 label.sk-toggleable__label-arrow:hover:before {color: black;}#sk-container-id-5 div.sk-estimator:hover label.sk-toggleable__label-arrow:before {color: black;}#sk-container-id-5 div.sk-toggleable__content {max-height: 0;max-width: 0;overflow: hidden;text-align: left;background-color: #f0f8ff;}#sk-container-id-5 div.sk-toggleable__content pre {margin: 0.2em;color: black;border-radius: 0.25em;background-color: #f0f8ff;}#sk-container-id-5 input.sk-toggleable__control:checked~div.sk-toggleable__content {max-height: 200px;max-width: 100%;overflow: auto;}#sk-container-id-5 input.sk-toggleable__control:checked~label.sk-toggleable__label-arrow:before {content: \"▾\";}#sk-container-id-5 div.sk-estimator input.sk-toggleable__control:checked~label.sk-toggleable__label {background-color: #d4ebff;}#sk-container-id-5 div.sk-label input.sk-toggleable__control:checked~label.sk-toggleable__label {background-color: #d4ebff;}#sk-container-id-5 input.sk-hidden--visually {border: 0;clip: rect(1px 1px 1px 1px);clip: rect(1px, 1px, 1px, 1px);height: 1px;margin: -1px;overflow: hidden;padding: 0;position: absolute;width: 1px;}#sk-container-id-5 div.sk-estimator {font-family: monospace;background-color: #f0f8ff;border: 1px dotted black;border-radius: 0.25em;box-sizing: border-box;margin-bottom: 0.5em;}#sk-container-id-5 div.sk-estimator:hover {background-color: #d4ebff;}#sk-container-id-5 div.sk-parallel-item::after {content: \"\";width: 100%;border-bottom: 1px solid gray;flex-grow: 1;}#sk-container-id-5 div.sk-label:hover label.sk-toggleable__label {background-color: #d4ebff;}#sk-container-id-5 div.sk-serial::before {content: \"\";position: absolute;border-left: 1px solid gray;box-sizing: border-box;top: 0;bottom: 0;left: 50%;z-index: 0;}#sk-container-id-5 div.sk-serial {display: flex;flex-direction: column;align-items: center;background-color: white;padding-right: 0.2em;padding-left: 0.2em;position: relative;}#sk-container-id-5 div.sk-item {position: relative;z-index: 1;}#sk-container-id-5 div.sk-parallel {display: flex;align-items: stretch;justify-content: center;background-color: white;position: relative;}#sk-container-id-5 div.sk-item::before, #sk-container-id-5 div.sk-parallel-item::before {content: \"\";position: absolute;border-left: 1px solid gray;box-sizing: border-box;top: 0;bottom: 0;left: 50%;z-index: -1;}#sk-container-id-5 div.sk-parallel-item {display: flex;flex-direction: column;z-index: 1;position: relative;background-color: white;}#sk-container-id-5 div.sk-parallel-item:first-child::after {align-self: flex-end;width: 50%;}#sk-container-id-5 div.sk-parallel-item:last-child::after {align-self: flex-start;width: 50%;}#sk-container-id-5 div.sk-parallel-item:only-child::after {width: 0;}#sk-container-id-5 div.sk-dashed-wrapped {border: 1px dashed gray;margin: 0 0.4em 0.5em 0.4em;box-sizing: border-box;padding-bottom: 0.4em;background-color: white;}#sk-container-id-5 div.sk-label label {font-family: monospace;font-weight: bold;display: inline-block;line-height: 1.2em;}#sk-container-id-5 div.sk-label-container {text-align: center;}#sk-container-id-5 div.sk-container {/* jupyter's `normalize.less` sets `[hidden] { display: none; }` but bootstrap.min.css set `[hidden] { display: none !important; }` so we also need the `!important` here to be able to override the default hidden behavior on the sphinx rendered scikit-learn.org. See: https://github.com/scikit-learn/scikit-learn/issues/21755 */display: inline-block !important;position: relative;}#sk-container-id-5 div.sk-text-repr-fallback {display: none;}</style><div id=\"sk-container-id-5\" class=\"sk-top-container\"><div class=\"sk-text-repr-fallback\"><pre>GridSearchCV(estimator=SVC(),\n             param_grid={&#x27;C&#x27;: [1, 10, 100, 1000],\n                         &#x27;gamma&#x27;: [1, 0.1, 0.001, 0.0001],\n                         &#x27;kernel&#x27;: [&#x27;sigmoid&#x27;, &#x27;rbf&#x27;]},\n             verbose=2)</pre><b>In a Jupyter environment, please rerun this cell to show the HTML representation or trust the notebook. <br />On GitHub, the HTML representation is unable to render, please try loading this page with nbviewer.org.</b></div><div class=\"sk-container\" hidden><div class=\"sk-item sk-dashed-wrapped\"><div class=\"sk-label-container\"><div class=\"sk-label sk-toggleable\"><input class=\"sk-toggleable__control sk-hidden--visually\" id=\"sk-estimator-id-5\" type=\"checkbox\" ><label for=\"sk-estimator-id-5\" class=\"sk-toggleable__label sk-toggleable__label-arrow\">GridSearchCV</label><div class=\"sk-toggleable__content\"><pre>GridSearchCV(estimator=SVC(),\n             param_grid={&#x27;C&#x27;: [1, 10, 100, 1000],\n                         &#x27;gamma&#x27;: [1, 0.1, 0.001, 0.0001],\n                         &#x27;kernel&#x27;: [&#x27;sigmoid&#x27;, &#x27;rbf&#x27;]},\n             verbose=2)</pre></div></div></div><div class=\"sk-parallel\"><div class=\"sk-parallel-item\"><div class=\"sk-item\"><div class=\"sk-label-container\"><div class=\"sk-label sk-toggleable\"><input class=\"sk-toggleable__control sk-hidden--visually\" id=\"sk-estimator-id-6\" type=\"checkbox\" ><label for=\"sk-estimator-id-6\" class=\"sk-toggleable__label sk-toggleable__label-arrow\">estimator: SVC</label><div class=\"sk-toggleable__content\"><pre>SVC()</pre></div></div></div><div class=\"sk-serial\"><div class=\"sk-item\"><div class=\"sk-estimator sk-toggleable\"><input class=\"sk-toggleable__control sk-hidden--visually\" id=\"sk-estimator-id-7\" type=\"checkbox\" ><label for=\"sk-estimator-id-7\" class=\"sk-toggleable__label sk-toggleable__label-arrow\">SVC</label><div class=\"sk-toggleable__content\"><pre>SVC()</pre></div></div></div></div></div></div></div></div></div></div>"
     },
     "execution_count": 38,
     "metadata": {},
     "output_type": "execute_result"
    }
   ]
  },
  {
   "cell_type": "code",
   "source": [
    "grid.best_params_\n",
    "predic = grid.predict(X_test)\n",
    "print(grid.score(X_test, y_test))\n",
    "print(grid.best_params_)"
   ],
   "metadata": {
    "colab": {
     "base_uri": "https://localhost:8080/"
    },
    "id": "UMwq-l20mlHf",
    "outputId": "3c78e031-013a-450f-ed91-cb6b702061c4",
    "ExecuteTime": {
     "end_time": "2023-05-08T11:32:46.409422826Z",
     "start_time": "2023-05-08T11:32:46.223486535Z"
    }
   },
   "id": "UMwq-l20mlHf",
   "execution_count": 39,
   "outputs": [
    {
     "name": "stdout",
     "output_type": "stream",
     "text": [
      "0.8693548387096774\n",
      "{'C': 10, 'gamma': 0.0001, 'kernel': 'rbf'}\n"
     ]
    }
   ]
  },
  {
   "cell_type": "markdown",
   "source": [],
   "metadata": {
    "id": "OIXMif8TmkML"
   },
   "id": "OIXMif8TmkML"
  },
  {
   "cell_type": "markdown",
   "source": [],
   "metadata": {
    "id": "Hlm-7Wuol_kn"
   },
   "id": "Hlm-7Wuol_kn"
  },
  {
   "cell_type": "markdown",
   "id": "0ee0b73c",
   "metadata": {
    "id": "0ee0b73c"
   },
   "source": [
    "# Hand owner recognition without Class label\n"
   ]
  },
  {
   "cell_type": "code",
   "execution_count": 40,
   "id": "254eeb2d",
   "metadata": {
    "colab": {
     "base_uri": "https://localhost:8080/"
    },
    "id": "254eeb2d",
    "outputId": "0f6c0bd7-614f-4f38-df12-4355fa858f5a",
    "ExecuteTime": {
     "end_time": "2023-05-08T11:32:47.378984757Z",
     "start_time": "2023-05-08T11:32:46.406932583Z"
    }
   },
   "outputs": [
    {
     "name": "stdout",
     "output_type": "stream",
     "text": [
      "0.1693548387096774\n"
     ]
    }
   ],
   "source": [
    "df2 = df.drop(['User'], axis=1)\n",
    "df2 = df2.drop(['Class'], axis=1)\n",
    "labels_Users = df['User']\n",
    "X_train, X_test, y_train, y_test,  = train_test_split(df2, labels_Users, test_size=0.20, random_state=42)\n",
    "\n",
    "clf = SVC(kernel='rbf', gamma=\"auto\", C = 7)\n",
    "clf.fit(X_train, y_train)\n",
    "print(clf.score(X_test, y_test))"
   ]
  },
  {
   "cell_type": "markdown",
   "source": [
    "# Gread SearchHand owner recognition without Class label"
   ],
   "metadata": {
    "id": "TksOy9YApsuW"
   },
   "id": "TksOy9YApsuW"
  },
  {
   "cell_type": "markdown",
   "source": [],
   "metadata": {
    "id": "55wTsHqlpryQ"
   },
   "id": "55wTsHqlpryQ"
  },
  {
   "cell_type": "code",
   "execution_count": 41,
   "id": "780e1058",
   "metadata": {
    "colab": {
     "base_uri": "https://localhost:8080/",
     "height": 1000
    },
    "id": "780e1058",
    "outputId": "dc4e36b6-e1f9-46df-cabf-222600570d3c",
    "ExecuteTime": {
     "end_time": "2023-05-08T11:32:49.931191664Z",
     "start_time": "2023-05-08T11:32:47.374977541Z"
    }
   },
   "outputs": [
    {
     "name": "stdout",
     "output_type": "stream",
     "text": [
      "Fitting 5 folds for each of 32 candidates, totalling 160 fits\n",
      "[CV] END .......................C=1, gamma=1, kernel=sigmoid; total time=   0.2s\n",
      "[CV] END .......................C=1, gamma=1, kernel=sigmoid; total time=   0.2s\n",
      "[CV] END .......................C=1, gamma=1, kernel=sigmoid; total time=   0.3s\n",
      "[CV] END .......................C=1, gamma=1, kernel=sigmoid; total time=   0.2s\n",
      "[CV] END .......................C=1, gamma=1, kernel=sigmoid; total time=   0.2s\n",
      "[CV] END ...........................C=1, gamma=1, kernel=rbf; total time=   0.5s\n"
     ]
    },
    {
     "ename": "KeyboardInterrupt",
     "evalue": "",
     "output_type": "error",
     "traceback": [
      "\u001B[0;31m---------------------------------------------------------------------------\u001B[0m",
      "\u001B[0;31mKeyboardInterrupt\u001B[0m                         Traceback (most recent call last)",
      "Cell \u001B[0;32mIn[41], line 7\u001B[0m\n\u001B[1;32m      1\u001B[0m param_grid \u001B[38;5;241m=\u001B[39m {\u001B[38;5;124m'\u001B[39m\u001B[38;5;124mC\u001B[39m\u001B[38;5;124m'\u001B[39m:[\u001B[38;5;241m1\u001B[39m,\u001B[38;5;241m10\u001B[39m,\u001B[38;5;241m100\u001B[39m,\u001B[38;5;241m1000\u001B[39m],\n\u001B[1;32m      2\u001B[0m               \u001B[38;5;124m'\u001B[39m\u001B[38;5;124mgamma\u001B[39m\u001B[38;5;124m'\u001B[39m:[\u001B[38;5;241m1\u001B[39m,\u001B[38;5;241m0.1\u001B[39m,\u001B[38;5;241m0.001\u001B[39m,\u001B[38;5;241m0.0001\u001B[39m], \n\u001B[1;32m      3\u001B[0m               \u001B[38;5;124m'\u001B[39m\u001B[38;5;124mkernel\u001B[39m\u001B[38;5;124m'\u001B[39m:[\u001B[38;5;124m'\u001B[39m\u001B[38;5;124msigmoid\u001B[39m\u001B[38;5;124m'\u001B[39m,\u001B[38;5;124m'\u001B[39m\u001B[38;5;124mrbf\u001B[39m\u001B[38;5;124m'\u001B[39m]}\n\u001B[1;32m      5\u001B[0m grid \u001B[38;5;241m=\u001B[39m GridSearchCV(SVC(),param_grid,refit \u001B[38;5;241m=\u001B[39m \u001B[38;5;28;01mTrue\u001B[39;00m, verbose\u001B[38;5;241m=\u001B[39m\u001B[38;5;241m2\u001B[39m)\n\u001B[0;32m----> 7\u001B[0m \u001B[43mgrid\u001B[49m\u001B[38;5;241;43m.\u001B[39;49m\u001B[43mfit\u001B[49m\u001B[43m(\u001B[49m\u001B[43mX_train\u001B[49m\u001B[43m,\u001B[49m\u001B[43my_train\u001B[49m\u001B[43m)\u001B[49m\n",
      "File \u001B[0;32m~/.local/lib/python3.10/site-packages/sklearn/model_selection/_search.py:875\u001B[0m, in \u001B[0;36mBaseSearchCV.fit\u001B[0;34m(self, X, y, groups, **fit_params)\u001B[0m\n\u001B[1;32m    869\u001B[0m     results \u001B[38;5;241m=\u001B[39m \u001B[38;5;28mself\u001B[39m\u001B[38;5;241m.\u001B[39m_format_results(\n\u001B[1;32m    870\u001B[0m         all_candidate_params, n_splits, all_out, all_more_results\n\u001B[1;32m    871\u001B[0m     )\n\u001B[1;32m    873\u001B[0m     \u001B[38;5;28;01mreturn\u001B[39;00m results\n\u001B[0;32m--> 875\u001B[0m \u001B[38;5;28;43mself\u001B[39;49m\u001B[38;5;241;43m.\u001B[39;49m\u001B[43m_run_search\u001B[49m\u001B[43m(\u001B[49m\u001B[43mevaluate_candidates\u001B[49m\u001B[43m)\u001B[49m\n\u001B[1;32m    877\u001B[0m \u001B[38;5;66;03m# multimetric is determined here because in the case of a callable\u001B[39;00m\n\u001B[1;32m    878\u001B[0m \u001B[38;5;66;03m# self.scoring the return type is only known after calling\u001B[39;00m\n\u001B[1;32m    879\u001B[0m first_test_score \u001B[38;5;241m=\u001B[39m all_out[\u001B[38;5;241m0\u001B[39m][\u001B[38;5;124m\"\u001B[39m\u001B[38;5;124mtest_scores\u001B[39m\u001B[38;5;124m\"\u001B[39m]\n",
      "File \u001B[0;32m~/.local/lib/python3.10/site-packages/sklearn/model_selection/_search.py:1389\u001B[0m, in \u001B[0;36mGridSearchCV._run_search\u001B[0;34m(self, evaluate_candidates)\u001B[0m\n\u001B[1;32m   1387\u001B[0m \u001B[38;5;28;01mdef\u001B[39;00m \u001B[38;5;21m_run_search\u001B[39m(\u001B[38;5;28mself\u001B[39m, evaluate_candidates):\n\u001B[1;32m   1388\u001B[0m \u001B[38;5;250m    \u001B[39m\u001B[38;5;124;03m\"\"\"Search all candidates in param_grid\"\"\"\u001B[39;00m\n\u001B[0;32m-> 1389\u001B[0m     \u001B[43mevaluate_candidates\u001B[49m\u001B[43m(\u001B[49m\u001B[43mParameterGrid\u001B[49m\u001B[43m(\u001B[49m\u001B[38;5;28;43mself\u001B[39;49m\u001B[38;5;241;43m.\u001B[39;49m\u001B[43mparam_grid\u001B[49m\u001B[43m)\u001B[49m\u001B[43m)\u001B[49m\n",
      "File \u001B[0;32m~/.local/lib/python3.10/site-packages/sklearn/model_selection/_search.py:822\u001B[0m, in \u001B[0;36mBaseSearchCV.fit.<locals>.evaluate_candidates\u001B[0;34m(candidate_params, cv, more_results)\u001B[0m\n\u001B[1;32m    814\u001B[0m \u001B[38;5;28;01mif\u001B[39;00m \u001B[38;5;28mself\u001B[39m\u001B[38;5;241m.\u001B[39mverbose \u001B[38;5;241m>\u001B[39m \u001B[38;5;241m0\u001B[39m:\n\u001B[1;32m    815\u001B[0m     \u001B[38;5;28mprint\u001B[39m(\n\u001B[1;32m    816\u001B[0m         \u001B[38;5;124m\"\u001B[39m\u001B[38;5;124mFitting \u001B[39m\u001B[38;5;132;01m{0}\u001B[39;00m\u001B[38;5;124m folds for each of \u001B[39m\u001B[38;5;132;01m{1}\u001B[39;00m\u001B[38;5;124m candidates,\u001B[39m\u001B[38;5;124m\"\u001B[39m\n\u001B[1;32m    817\u001B[0m         \u001B[38;5;124m\"\u001B[39m\u001B[38;5;124m totalling \u001B[39m\u001B[38;5;132;01m{2}\u001B[39;00m\u001B[38;5;124m fits\u001B[39m\u001B[38;5;124m\"\u001B[39m\u001B[38;5;241m.\u001B[39mformat(\n\u001B[1;32m    818\u001B[0m             n_splits, n_candidates, n_candidates \u001B[38;5;241m*\u001B[39m n_splits\n\u001B[1;32m    819\u001B[0m         )\n\u001B[1;32m    820\u001B[0m     )\n\u001B[0;32m--> 822\u001B[0m out \u001B[38;5;241m=\u001B[39m \u001B[43mparallel\u001B[49m\u001B[43m(\u001B[49m\n\u001B[1;32m    823\u001B[0m \u001B[43m    \u001B[49m\u001B[43mdelayed\u001B[49m\u001B[43m(\u001B[49m\u001B[43m_fit_and_score\u001B[49m\u001B[43m)\u001B[49m\u001B[43m(\u001B[49m\n\u001B[1;32m    824\u001B[0m \u001B[43m        \u001B[49m\u001B[43mclone\u001B[49m\u001B[43m(\u001B[49m\u001B[43mbase_estimator\u001B[49m\u001B[43m)\u001B[49m\u001B[43m,\u001B[49m\n\u001B[1;32m    825\u001B[0m \u001B[43m        \u001B[49m\u001B[43mX\u001B[49m\u001B[43m,\u001B[49m\n\u001B[1;32m    826\u001B[0m \u001B[43m        \u001B[49m\u001B[43my\u001B[49m\u001B[43m,\u001B[49m\n\u001B[1;32m    827\u001B[0m \u001B[43m        \u001B[49m\u001B[43mtrain\u001B[49m\u001B[38;5;241;43m=\u001B[39;49m\u001B[43mtrain\u001B[49m\u001B[43m,\u001B[49m\n\u001B[1;32m    828\u001B[0m \u001B[43m        \u001B[49m\u001B[43mtest\u001B[49m\u001B[38;5;241;43m=\u001B[39;49m\u001B[43mtest\u001B[49m\u001B[43m,\u001B[49m\n\u001B[1;32m    829\u001B[0m \u001B[43m        \u001B[49m\u001B[43mparameters\u001B[49m\u001B[38;5;241;43m=\u001B[39;49m\u001B[43mparameters\u001B[49m\u001B[43m,\u001B[49m\n\u001B[1;32m    830\u001B[0m \u001B[43m        \u001B[49m\u001B[43msplit_progress\u001B[49m\u001B[38;5;241;43m=\u001B[39;49m\u001B[43m(\u001B[49m\u001B[43msplit_idx\u001B[49m\u001B[43m,\u001B[49m\u001B[43m \u001B[49m\u001B[43mn_splits\u001B[49m\u001B[43m)\u001B[49m\u001B[43m,\u001B[49m\n\u001B[1;32m    831\u001B[0m \u001B[43m        \u001B[49m\u001B[43mcandidate_progress\u001B[49m\u001B[38;5;241;43m=\u001B[39;49m\u001B[43m(\u001B[49m\u001B[43mcand_idx\u001B[49m\u001B[43m,\u001B[49m\u001B[43m \u001B[49m\u001B[43mn_candidates\u001B[49m\u001B[43m)\u001B[49m\u001B[43m,\u001B[49m\n\u001B[1;32m    832\u001B[0m \u001B[43m        \u001B[49m\u001B[38;5;241;43m*\u001B[39;49m\u001B[38;5;241;43m*\u001B[39;49m\u001B[43mfit_and_score_kwargs\u001B[49m\u001B[43m,\u001B[49m\n\u001B[1;32m    833\u001B[0m \u001B[43m    \u001B[49m\u001B[43m)\u001B[49m\n\u001B[1;32m    834\u001B[0m \u001B[43m    \u001B[49m\u001B[38;5;28;43;01mfor\u001B[39;49;00m\u001B[43m \u001B[49m\u001B[43m(\u001B[49m\u001B[43mcand_idx\u001B[49m\u001B[43m,\u001B[49m\u001B[43m \u001B[49m\u001B[43mparameters\u001B[49m\u001B[43m)\u001B[49m\u001B[43m,\u001B[49m\u001B[43m \u001B[49m\u001B[43m(\u001B[49m\u001B[43msplit_idx\u001B[49m\u001B[43m,\u001B[49m\u001B[43m \u001B[49m\u001B[43m(\u001B[49m\u001B[43mtrain\u001B[49m\u001B[43m,\u001B[49m\u001B[43m \u001B[49m\u001B[43mtest\u001B[49m\u001B[43m)\u001B[49m\u001B[43m)\u001B[49m\u001B[43m \u001B[49m\u001B[38;5;129;43;01min\u001B[39;49;00m\u001B[43m \u001B[49m\u001B[43mproduct\u001B[49m\u001B[43m(\u001B[49m\n\u001B[1;32m    835\u001B[0m \u001B[43m        \u001B[49m\u001B[38;5;28;43menumerate\u001B[39;49m\u001B[43m(\u001B[49m\u001B[43mcandidate_params\u001B[49m\u001B[43m)\u001B[49m\u001B[43m,\u001B[49m\u001B[43m \u001B[49m\u001B[38;5;28;43menumerate\u001B[39;49m\u001B[43m(\u001B[49m\u001B[43mcv\u001B[49m\u001B[38;5;241;43m.\u001B[39;49m\u001B[43msplit\u001B[49m\u001B[43m(\u001B[49m\u001B[43mX\u001B[49m\u001B[43m,\u001B[49m\u001B[43m \u001B[49m\u001B[43my\u001B[49m\u001B[43m,\u001B[49m\u001B[43m \u001B[49m\u001B[43mgroups\u001B[49m\u001B[43m)\u001B[49m\u001B[43m)\u001B[49m\n\u001B[1;32m    836\u001B[0m \u001B[43m    \u001B[49m\u001B[43m)\u001B[49m\n\u001B[1;32m    837\u001B[0m \u001B[43m\u001B[49m\u001B[43m)\u001B[49m\n\u001B[1;32m    839\u001B[0m \u001B[38;5;28;01mif\u001B[39;00m \u001B[38;5;28mlen\u001B[39m(out) \u001B[38;5;241m<\u001B[39m \u001B[38;5;241m1\u001B[39m:\n\u001B[1;32m    840\u001B[0m     \u001B[38;5;28;01mraise\u001B[39;00m \u001B[38;5;167;01mValueError\u001B[39;00m(\n\u001B[1;32m    841\u001B[0m         \u001B[38;5;124m\"\u001B[39m\u001B[38;5;124mNo fits were performed. \u001B[39m\u001B[38;5;124m\"\u001B[39m\n\u001B[1;32m    842\u001B[0m         \u001B[38;5;124m\"\u001B[39m\u001B[38;5;124mWas the CV iterator empty? \u001B[39m\u001B[38;5;124m\"\u001B[39m\n\u001B[1;32m    843\u001B[0m         \u001B[38;5;124m\"\u001B[39m\u001B[38;5;124mWere there no candidates?\u001B[39m\u001B[38;5;124m\"\u001B[39m\n\u001B[1;32m    844\u001B[0m     )\n",
      "File \u001B[0;32m~/.local/lib/python3.10/site-packages/joblib/parallel.py:1088\u001B[0m, in \u001B[0;36mParallel.__call__\u001B[0;34m(self, iterable)\u001B[0m\n\u001B[1;32m   1085\u001B[0m \u001B[38;5;28;01mif\u001B[39;00m \u001B[38;5;28mself\u001B[39m\u001B[38;5;241m.\u001B[39mdispatch_one_batch(iterator):\n\u001B[1;32m   1086\u001B[0m     \u001B[38;5;28mself\u001B[39m\u001B[38;5;241m.\u001B[39m_iterating \u001B[38;5;241m=\u001B[39m \u001B[38;5;28mself\u001B[39m\u001B[38;5;241m.\u001B[39m_original_iterator \u001B[38;5;129;01mis\u001B[39;00m \u001B[38;5;129;01mnot\u001B[39;00m \u001B[38;5;28;01mNone\u001B[39;00m\n\u001B[0;32m-> 1088\u001B[0m \u001B[38;5;28;01mwhile\u001B[39;00m \u001B[38;5;28;43mself\u001B[39;49m\u001B[38;5;241;43m.\u001B[39;49m\u001B[43mdispatch_one_batch\u001B[49m\u001B[43m(\u001B[49m\u001B[43miterator\u001B[49m\u001B[43m)\u001B[49m:\n\u001B[1;32m   1089\u001B[0m     \u001B[38;5;28;01mpass\u001B[39;00m\n\u001B[1;32m   1091\u001B[0m \u001B[38;5;28;01mif\u001B[39;00m pre_dispatch \u001B[38;5;241m==\u001B[39m \u001B[38;5;124m\"\u001B[39m\u001B[38;5;124mall\u001B[39m\u001B[38;5;124m\"\u001B[39m \u001B[38;5;129;01mor\u001B[39;00m n_jobs \u001B[38;5;241m==\u001B[39m \u001B[38;5;241m1\u001B[39m:\n\u001B[1;32m   1092\u001B[0m     \u001B[38;5;66;03m# The iterable was consumed all at once by the above for loop.\u001B[39;00m\n\u001B[1;32m   1093\u001B[0m     \u001B[38;5;66;03m# No need to wait for async callbacks to trigger to\u001B[39;00m\n\u001B[1;32m   1094\u001B[0m     \u001B[38;5;66;03m# consumption.\u001B[39;00m\n",
      "File \u001B[0;32m~/.local/lib/python3.10/site-packages/joblib/parallel.py:901\u001B[0m, in \u001B[0;36mParallel.dispatch_one_batch\u001B[0;34m(self, iterator)\u001B[0m\n\u001B[1;32m    899\u001B[0m     \u001B[38;5;28;01mreturn\u001B[39;00m \u001B[38;5;28;01mFalse\u001B[39;00m\n\u001B[1;32m    900\u001B[0m \u001B[38;5;28;01melse\u001B[39;00m:\n\u001B[0;32m--> 901\u001B[0m     \u001B[38;5;28;43mself\u001B[39;49m\u001B[38;5;241;43m.\u001B[39;49m\u001B[43m_dispatch\u001B[49m\u001B[43m(\u001B[49m\u001B[43mtasks\u001B[49m\u001B[43m)\u001B[49m\n\u001B[1;32m    902\u001B[0m     \u001B[38;5;28;01mreturn\u001B[39;00m \u001B[38;5;28;01mTrue\u001B[39;00m\n",
      "File \u001B[0;32m~/.local/lib/python3.10/site-packages/joblib/parallel.py:819\u001B[0m, in \u001B[0;36mParallel._dispatch\u001B[0;34m(self, batch)\u001B[0m\n\u001B[1;32m    817\u001B[0m \u001B[38;5;28;01mwith\u001B[39;00m \u001B[38;5;28mself\u001B[39m\u001B[38;5;241m.\u001B[39m_lock:\n\u001B[1;32m    818\u001B[0m     job_idx \u001B[38;5;241m=\u001B[39m \u001B[38;5;28mlen\u001B[39m(\u001B[38;5;28mself\u001B[39m\u001B[38;5;241m.\u001B[39m_jobs)\n\u001B[0;32m--> 819\u001B[0m     job \u001B[38;5;241m=\u001B[39m \u001B[38;5;28;43mself\u001B[39;49m\u001B[38;5;241;43m.\u001B[39;49m\u001B[43m_backend\u001B[49m\u001B[38;5;241;43m.\u001B[39;49m\u001B[43mapply_async\u001B[49m\u001B[43m(\u001B[49m\u001B[43mbatch\u001B[49m\u001B[43m,\u001B[49m\u001B[43m \u001B[49m\u001B[43mcallback\u001B[49m\u001B[38;5;241;43m=\u001B[39;49m\u001B[43mcb\u001B[49m\u001B[43m)\u001B[49m\n\u001B[1;32m    820\u001B[0m     \u001B[38;5;66;03m# A job can complete so quickly than its callback is\u001B[39;00m\n\u001B[1;32m    821\u001B[0m     \u001B[38;5;66;03m# called before we get here, causing self._jobs to\u001B[39;00m\n\u001B[1;32m    822\u001B[0m     \u001B[38;5;66;03m# grow. To ensure correct results ordering, .insert is\u001B[39;00m\n\u001B[1;32m    823\u001B[0m     \u001B[38;5;66;03m# used (rather than .append) in the following line\u001B[39;00m\n\u001B[1;32m    824\u001B[0m     \u001B[38;5;28mself\u001B[39m\u001B[38;5;241m.\u001B[39m_jobs\u001B[38;5;241m.\u001B[39minsert(job_idx, job)\n",
      "File \u001B[0;32m~/.local/lib/python3.10/site-packages/joblib/_parallel_backends.py:208\u001B[0m, in \u001B[0;36mSequentialBackend.apply_async\u001B[0;34m(self, func, callback)\u001B[0m\n\u001B[1;32m    206\u001B[0m \u001B[38;5;28;01mdef\u001B[39;00m \u001B[38;5;21mapply_async\u001B[39m(\u001B[38;5;28mself\u001B[39m, func, callback\u001B[38;5;241m=\u001B[39m\u001B[38;5;28;01mNone\u001B[39;00m):\n\u001B[1;32m    207\u001B[0m \u001B[38;5;250m    \u001B[39m\u001B[38;5;124;03m\"\"\"Schedule a func to be run\"\"\"\u001B[39;00m\n\u001B[0;32m--> 208\u001B[0m     result \u001B[38;5;241m=\u001B[39m \u001B[43mImmediateResult\u001B[49m\u001B[43m(\u001B[49m\u001B[43mfunc\u001B[49m\u001B[43m)\u001B[49m\n\u001B[1;32m    209\u001B[0m     \u001B[38;5;28;01mif\u001B[39;00m callback:\n\u001B[1;32m    210\u001B[0m         callback(result)\n",
      "File \u001B[0;32m~/.local/lib/python3.10/site-packages/joblib/_parallel_backends.py:597\u001B[0m, in \u001B[0;36mImmediateResult.__init__\u001B[0;34m(self, batch)\u001B[0m\n\u001B[1;32m    594\u001B[0m \u001B[38;5;28;01mdef\u001B[39;00m \u001B[38;5;21m__init__\u001B[39m(\u001B[38;5;28mself\u001B[39m, batch):\n\u001B[1;32m    595\u001B[0m     \u001B[38;5;66;03m# Don't delay the application, to avoid keeping the input\u001B[39;00m\n\u001B[1;32m    596\u001B[0m     \u001B[38;5;66;03m# arguments in memory\u001B[39;00m\n\u001B[0;32m--> 597\u001B[0m     \u001B[38;5;28mself\u001B[39m\u001B[38;5;241m.\u001B[39mresults \u001B[38;5;241m=\u001B[39m \u001B[43mbatch\u001B[49m\u001B[43m(\u001B[49m\u001B[43m)\u001B[49m\n",
      "File \u001B[0;32m~/.local/lib/python3.10/site-packages/joblib/parallel.py:288\u001B[0m, in \u001B[0;36mBatchedCalls.__call__\u001B[0;34m(self)\u001B[0m\n\u001B[1;32m    284\u001B[0m \u001B[38;5;28;01mdef\u001B[39;00m \u001B[38;5;21m__call__\u001B[39m(\u001B[38;5;28mself\u001B[39m):\n\u001B[1;32m    285\u001B[0m     \u001B[38;5;66;03m# Set the default nested backend to self._backend but do not set the\u001B[39;00m\n\u001B[1;32m    286\u001B[0m     \u001B[38;5;66;03m# change the default number of processes to -1\u001B[39;00m\n\u001B[1;32m    287\u001B[0m     \u001B[38;5;28;01mwith\u001B[39;00m parallel_backend(\u001B[38;5;28mself\u001B[39m\u001B[38;5;241m.\u001B[39m_backend, n_jobs\u001B[38;5;241m=\u001B[39m\u001B[38;5;28mself\u001B[39m\u001B[38;5;241m.\u001B[39m_n_jobs):\n\u001B[0;32m--> 288\u001B[0m         \u001B[38;5;28;01mreturn\u001B[39;00m [func(\u001B[38;5;241m*\u001B[39margs, \u001B[38;5;241m*\u001B[39m\u001B[38;5;241m*\u001B[39mkwargs)\n\u001B[1;32m    289\u001B[0m                 \u001B[38;5;28;01mfor\u001B[39;00m func, args, kwargs \u001B[38;5;129;01min\u001B[39;00m \u001B[38;5;28mself\u001B[39m\u001B[38;5;241m.\u001B[39mitems]\n",
      "File \u001B[0;32m~/.local/lib/python3.10/site-packages/joblib/parallel.py:288\u001B[0m, in \u001B[0;36m<listcomp>\u001B[0;34m(.0)\u001B[0m\n\u001B[1;32m    284\u001B[0m \u001B[38;5;28;01mdef\u001B[39;00m \u001B[38;5;21m__call__\u001B[39m(\u001B[38;5;28mself\u001B[39m):\n\u001B[1;32m    285\u001B[0m     \u001B[38;5;66;03m# Set the default nested backend to self._backend but do not set the\u001B[39;00m\n\u001B[1;32m    286\u001B[0m     \u001B[38;5;66;03m# change the default number of processes to -1\u001B[39;00m\n\u001B[1;32m    287\u001B[0m     \u001B[38;5;28;01mwith\u001B[39;00m parallel_backend(\u001B[38;5;28mself\u001B[39m\u001B[38;5;241m.\u001B[39m_backend, n_jobs\u001B[38;5;241m=\u001B[39m\u001B[38;5;28mself\u001B[39m\u001B[38;5;241m.\u001B[39m_n_jobs):\n\u001B[0;32m--> 288\u001B[0m         \u001B[38;5;28;01mreturn\u001B[39;00m [\u001B[43mfunc\u001B[49m\u001B[43m(\u001B[49m\u001B[38;5;241;43m*\u001B[39;49m\u001B[43margs\u001B[49m\u001B[43m,\u001B[49m\u001B[43m \u001B[49m\u001B[38;5;241;43m*\u001B[39;49m\u001B[38;5;241;43m*\u001B[39;49m\u001B[43mkwargs\u001B[49m\u001B[43m)\u001B[49m\n\u001B[1;32m    289\u001B[0m                 \u001B[38;5;28;01mfor\u001B[39;00m func, args, kwargs \u001B[38;5;129;01min\u001B[39;00m \u001B[38;5;28mself\u001B[39m\u001B[38;5;241m.\u001B[39mitems]\n",
      "File \u001B[0;32m~/.local/lib/python3.10/site-packages/sklearn/utils/fixes.py:117\u001B[0m, in \u001B[0;36m_FuncWrapper.__call__\u001B[0;34m(self, *args, **kwargs)\u001B[0m\n\u001B[1;32m    115\u001B[0m \u001B[38;5;28;01mdef\u001B[39;00m \u001B[38;5;21m__call__\u001B[39m(\u001B[38;5;28mself\u001B[39m, \u001B[38;5;241m*\u001B[39margs, \u001B[38;5;241m*\u001B[39m\u001B[38;5;241m*\u001B[39mkwargs):\n\u001B[1;32m    116\u001B[0m     \u001B[38;5;28;01mwith\u001B[39;00m config_context(\u001B[38;5;241m*\u001B[39m\u001B[38;5;241m*\u001B[39m\u001B[38;5;28mself\u001B[39m\u001B[38;5;241m.\u001B[39mconfig):\n\u001B[0;32m--> 117\u001B[0m         \u001B[38;5;28;01mreturn\u001B[39;00m \u001B[38;5;28;43mself\u001B[39;49m\u001B[38;5;241;43m.\u001B[39;49m\u001B[43mfunction\u001B[49m\u001B[43m(\u001B[49m\u001B[38;5;241;43m*\u001B[39;49m\u001B[43margs\u001B[49m\u001B[43m,\u001B[49m\u001B[43m \u001B[49m\u001B[38;5;241;43m*\u001B[39;49m\u001B[38;5;241;43m*\u001B[39;49m\u001B[43mkwargs\u001B[49m\u001B[43m)\u001B[49m\n",
      "File \u001B[0;32m~/.local/lib/python3.10/site-packages/sklearn/model_selection/_validation.py:686\u001B[0m, in \u001B[0;36m_fit_and_score\u001B[0;34m(estimator, X, y, scorer, train, test, verbose, parameters, fit_params, return_train_score, return_parameters, return_n_test_samples, return_times, return_estimator, split_progress, candidate_progress, error_score)\u001B[0m\n\u001B[1;32m    684\u001B[0m         estimator\u001B[38;5;241m.\u001B[39mfit(X_train, \u001B[38;5;241m*\u001B[39m\u001B[38;5;241m*\u001B[39mfit_params)\n\u001B[1;32m    685\u001B[0m     \u001B[38;5;28;01melse\u001B[39;00m:\n\u001B[0;32m--> 686\u001B[0m         \u001B[43mestimator\u001B[49m\u001B[38;5;241;43m.\u001B[39;49m\u001B[43mfit\u001B[49m\u001B[43m(\u001B[49m\u001B[43mX_train\u001B[49m\u001B[43m,\u001B[49m\u001B[43m \u001B[49m\u001B[43my_train\u001B[49m\u001B[43m,\u001B[49m\u001B[43m \u001B[49m\u001B[38;5;241;43m*\u001B[39;49m\u001B[38;5;241;43m*\u001B[39;49m\u001B[43mfit_params\u001B[49m\u001B[43m)\u001B[49m\n\u001B[1;32m    688\u001B[0m \u001B[38;5;28;01mexcept\u001B[39;00m \u001B[38;5;167;01mException\u001B[39;00m:\n\u001B[1;32m    689\u001B[0m     \u001B[38;5;66;03m# Note fit time as time until error\u001B[39;00m\n\u001B[1;32m    690\u001B[0m     fit_time \u001B[38;5;241m=\u001B[39m time\u001B[38;5;241m.\u001B[39mtime() \u001B[38;5;241m-\u001B[39m start_time\n",
      "File \u001B[0;32m~/.local/lib/python3.10/site-packages/sklearn/svm/_base.py:252\u001B[0m, in \u001B[0;36mBaseLibSVM.fit\u001B[0;34m(self, X, y, sample_weight)\u001B[0m\n\u001B[1;32m    249\u001B[0m     \u001B[38;5;28mprint\u001B[39m(\u001B[38;5;124m\"\u001B[39m\u001B[38;5;124m[LibSVM]\u001B[39m\u001B[38;5;124m\"\u001B[39m, end\u001B[38;5;241m=\u001B[39m\u001B[38;5;124m\"\u001B[39m\u001B[38;5;124m\"\u001B[39m)\n\u001B[1;32m    251\u001B[0m seed \u001B[38;5;241m=\u001B[39m rnd\u001B[38;5;241m.\u001B[39mrandint(np\u001B[38;5;241m.\u001B[39miinfo(\u001B[38;5;124m\"\u001B[39m\u001B[38;5;124mi\u001B[39m\u001B[38;5;124m\"\u001B[39m)\u001B[38;5;241m.\u001B[39mmax)\n\u001B[0;32m--> 252\u001B[0m \u001B[43mfit\u001B[49m\u001B[43m(\u001B[49m\u001B[43mX\u001B[49m\u001B[43m,\u001B[49m\u001B[43m \u001B[49m\u001B[43my\u001B[49m\u001B[43m,\u001B[49m\u001B[43m \u001B[49m\u001B[43msample_weight\u001B[49m\u001B[43m,\u001B[49m\u001B[43m \u001B[49m\u001B[43msolver_type\u001B[49m\u001B[43m,\u001B[49m\u001B[43m \u001B[49m\u001B[43mkernel\u001B[49m\u001B[43m,\u001B[49m\u001B[43m \u001B[49m\u001B[43mrandom_seed\u001B[49m\u001B[38;5;241;43m=\u001B[39;49m\u001B[43mseed\u001B[49m\u001B[43m)\u001B[49m\n\u001B[1;32m    253\u001B[0m \u001B[38;5;66;03m# see comment on the other call to np.iinfo in this file\u001B[39;00m\n\u001B[1;32m    255\u001B[0m \u001B[38;5;28mself\u001B[39m\u001B[38;5;241m.\u001B[39mshape_fit_ \u001B[38;5;241m=\u001B[39m X\u001B[38;5;241m.\u001B[39mshape \u001B[38;5;28;01mif\u001B[39;00m \u001B[38;5;28mhasattr\u001B[39m(X, \u001B[38;5;124m\"\u001B[39m\u001B[38;5;124mshape\u001B[39m\u001B[38;5;124m\"\u001B[39m) \u001B[38;5;28;01melse\u001B[39;00m (n_samples,)\n",
      "File \u001B[0;32m~/.local/lib/python3.10/site-packages/sklearn/svm/_base.py:331\u001B[0m, in \u001B[0;36mBaseLibSVM._dense_fit\u001B[0;34m(self, X, y, sample_weight, solver_type, kernel, random_seed)\u001B[0m\n\u001B[1;32m    317\u001B[0m libsvm\u001B[38;5;241m.\u001B[39mset_verbosity_wrap(\u001B[38;5;28mself\u001B[39m\u001B[38;5;241m.\u001B[39mverbose)\n\u001B[1;32m    319\u001B[0m \u001B[38;5;66;03m# we don't pass **self.get_params() to allow subclasses to\u001B[39;00m\n\u001B[1;32m    320\u001B[0m \u001B[38;5;66;03m# add other parameters to __init__\u001B[39;00m\n\u001B[1;32m    321\u001B[0m (\n\u001B[1;32m    322\u001B[0m     \u001B[38;5;28mself\u001B[39m\u001B[38;5;241m.\u001B[39msupport_,\n\u001B[1;32m    323\u001B[0m     \u001B[38;5;28mself\u001B[39m\u001B[38;5;241m.\u001B[39msupport_vectors_,\n\u001B[1;32m    324\u001B[0m     \u001B[38;5;28mself\u001B[39m\u001B[38;5;241m.\u001B[39m_n_support,\n\u001B[1;32m    325\u001B[0m     \u001B[38;5;28mself\u001B[39m\u001B[38;5;241m.\u001B[39mdual_coef_,\n\u001B[1;32m    326\u001B[0m     \u001B[38;5;28mself\u001B[39m\u001B[38;5;241m.\u001B[39mintercept_,\n\u001B[1;32m    327\u001B[0m     \u001B[38;5;28mself\u001B[39m\u001B[38;5;241m.\u001B[39m_probA,\n\u001B[1;32m    328\u001B[0m     \u001B[38;5;28mself\u001B[39m\u001B[38;5;241m.\u001B[39m_probB,\n\u001B[1;32m    329\u001B[0m     \u001B[38;5;28mself\u001B[39m\u001B[38;5;241m.\u001B[39mfit_status_,\n\u001B[1;32m    330\u001B[0m     \u001B[38;5;28mself\u001B[39m\u001B[38;5;241m.\u001B[39m_num_iter,\n\u001B[0;32m--> 331\u001B[0m ) \u001B[38;5;241m=\u001B[39m \u001B[43mlibsvm\u001B[49m\u001B[38;5;241;43m.\u001B[39;49m\u001B[43mfit\u001B[49m\u001B[43m(\u001B[49m\n\u001B[1;32m    332\u001B[0m \u001B[43m    \u001B[49m\u001B[43mX\u001B[49m\u001B[43m,\u001B[49m\n\u001B[1;32m    333\u001B[0m \u001B[43m    \u001B[49m\u001B[43my\u001B[49m\u001B[43m,\u001B[49m\n\u001B[1;32m    334\u001B[0m \u001B[43m    \u001B[49m\u001B[43msvm_type\u001B[49m\u001B[38;5;241;43m=\u001B[39;49m\u001B[43msolver_type\u001B[49m\u001B[43m,\u001B[49m\n\u001B[1;32m    335\u001B[0m \u001B[43m    \u001B[49m\u001B[43msample_weight\u001B[49m\u001B[38;5;241;43m=\u001B[39;49m\u001B[43msample_weight\u001B[49m\u001B[43m,\u001B[49m\n\u001B[1;32m    336\u001B[0m \u001B[43m    \u001B[49m\u001B[38;5;66;43;03m# TODO(1.4): Replace \"_class_weight\" with \"class_weight_\"\u001B[39;49;00m\n\u001B[1;32m    337\u001B[0m \u001B[43m    \u001B[49m\u001B[43mclass_weight\u001B[49m\u001B[38;5;241;43m=\u001B[39;49m\u001B[38;5;28;43mgetattr\u001B[39;49m\u001B[43m(\u001B[49m\u001B[38;5;28;43mself\u001B[39;49m\u001B[43m,\u001B[49m\u001B[43m \u001B[49m\u001B[38;5;124;43m\"\u001B[39;49m\u001B[38;5;124;43m_class_weight\u001B[39;49m\u001B[38;5;124;43m\"\u001B[39;49m\u001B[43m,\u001B[49m\u001B[43m \u001B[49m\u001B[43mnp\u001B[49m\u001B[38;5;241;43m.\u001B[39;49m\u001B[43mempty\u001B[49m\u001B[43m(\u001B[49m\u001B[38;5;241;43m0\u001B[39;49m\u001B[43m)\u001B[49m\u001B[43m)\u001B[49m\u001B[43m,\u001B[49m\n\u001B[1;32m    338\u001B[0m \u001B[43m    \u001B[49m\u001B[43mkernel\u001B[49m\u001B[38;5;241;43m=\u001B[39;49m\u001B[43mkernel\u001B[49m\u001B[43m,\u001B[49m\n\u001B[1;32m    339\u001B[0m \u001B[43m    \u001B[49m\u001B[43mC\u001B[49m\u001B[38;5;241;43m=\u001B[39;49m\u001B[38;5;28;43mself\u001B[39;49m\u001B[38;5;241;43m.\u001B[39;49m\u001B[43mC\u001B[49m\u001B[43m,\u001B[49m\n\u001B[1;32m    340\u001B[0m \u001B[43m    \u001B[49m\u001B[43mnu\u001B[49m\u001B[38;5;241;43m=\u001B[39;49m\u001B[38;5;28;43mself\u001B[39;49m\u001B[38;5;241;43m.\u001B[39;49m\u001B[43mnu\u001B[49m\u001B[43m,\u001B[49m\n\u001B[1;32m    341\u001B[0m \u001B[43m    \u001B[49m\u001B[43mprobability\u001B[49m\u001B[38;5;241;43m=\u001B[39;49m\u001B[38;5;28;43mself\u001B[39;49m\u001B[38;5;241;43m.\u001B[39;49m\u001B[43mprobability\u001B[49m\u001B[43m,\u001B[49m\n\u001B[1;32m    342\u001B[0m \u001B[43m    \u001B[49m\u001B[43mdegree\u001B[49m\u001B[38;5;241;43m=\u001B[39;49m\u001B[38;5;28;43mself\u001B[39;49m\u001B[38;5;241;43m.\u001B[39;49m\u001B[43mdegree\u001B[49m\u001B[43m,\u001B[49m\n\u001B[1;32m    343\u001B[0m \u001B[43m    \u001B[49m\u001B[43mshrinking\u001B[49m\u001B[38;5;241;43m=\u001B[39;49m\u001B[38;5;28;43mself\u001B[39;49m\u001B[38;5;241;43m.\u001B[39;49m\u001B[43mshrinking\u001B[49m\u001B[43m,\u001B[49m\n\u001B[1;32m    344\u001B[0m \u001B[43m    \u001B[49m\u001B[43mtol\u001B[49m\u001B[38;5;241;43m=\u001B[39;49m\u001B[38;5;28;43mself\u001B[39;49m\u001B[38;5;241;43m.\u001B[39;49m\u001B[43mtol\u001B[49m\u001B[43m,\u001B[49m\n\u001B[1;32m    345\u001B[0m \u001B[43m    \u001B[49m\u001B[43mcache_size\u001B[49m\u001B[38;5;241;43m=\u001B[39;49m\u001B[38;5;28;43mself\u001B[39;49m\u001B[38;5;241;43m.\u001B[39;49m\u001B[43mcache_size\u001B[49m\u001B[43m,\u001B[49m\n\u001B[1;32m    346\u001B[0m \u001B[43m    \u001B[49m\u001B[43mcoef0\u001B[49m\u001B[38;5;241;43m=\u001B[39;49m\u001B[38;5;28;43mself\u001B[39;49m\u001B[38;5;241;43m.\u001B[39;49m\u001B[43mcoef0\u001B[49m\u001B[43m,\u001B[49m\n\u001B[1;32m    347\u001B[0m \u001B[43m    \u001B[49m\u001B[43mgamma\u001B[49m\u001B[38;5;241;43m=\u001B[39;49m\u001B[38;5;28;43mself\u001B[39;49m\u001B[38;5;241;43m.\u001B[39;49m\u001B[43m_gamma\u001B[49m\u001B[43m,\u001B[49m\n\u001B[1;32m    348\u001B[0m \u001B[43m    \u001B[49m\u001B[43mepsilon\u001B[49m\u001B[38;5;241;43m=\u001B[39;49m\u001B[38;5;28;43mself\u001B[39;49m\u001B[38;5;241;43m.\u001B[39;49m\u001B[43mepsilon\u001B[49m\u001B[43m,\u001B[49m\n\u001B[1;32m    349\u001B[0m \u001B[43m    \u001B[49m\u001B[43mmax_iter\u001B[49m\u001B[38;5;241;43m=\u001B[39;49m\u001B[38;5;28;43mself\u001B[39;49m\u001B[38;5;241;43m.\u001B[39;49m\u001B[43mmax_iter\u001B[49m\u001B[43m,\u001B[49m\n\u001B[1;32m    350\u001B[0m \u001B[43m    \u001B[49m\u001B[43mrandom_seed\u001B[49m\u001B[38;5;241;43m=\u001B[39;49m\u001B[43mrandom_seed\u001B[49m\u001B[43m,\u001B[49m\n\u001B[1;32m    351\u001B[0m \u001B[43m\u001B[49m\u001B[43m)\u001B[49m\n\u001B[1;32m    353\u001B[0m \u001B[38;5;28mself\u001B[39m\u001B[38;5;241m.\u001B[39m_warn_from_fit_status()\n",
      "\u001B[0;31mKeyboardInterrupt\u001B[0m: "
     ]
    }
   ],
   "source": [
    "param_grid = {'C':[1,10,100,1000],\n",
    "              'gamma':[1,0.1,0.001,0.0001], \n",
    "              'kernel':['sigmoid','rbf']}\n",
    "\n",
    "grid = GridSearchCV(SVC(),param_grid,refit = True, verbose=2)\n",
    "\n",
    "grid.fit(X_train,y_train)"
   ]
  },
  {
   "cell_type": "code",
   "source": [
    "grid.best_params_\n",
    "predic = grid.predict(X_test)\n",
    "print(grid.score(X_test, y_test))\n",
    "print(grid.best_params_)"
   ],
   "metadata": {
    "colab": {
     "base_uri": "https://localhost:8080/"
    },
    "id": "QzUMWsbJp6-r",
    "outputId": "cd78bd56-21d6-46c5-9136-0821f5b70ceb"
   },
   "id": "QzUMWsbJp6-r",
   "execution_count": null,
   "outputs": []
  },
  {
   "cell_type": "markdown",
   "source": [
    "# Random Forest"
   ],
   "metadata": {
    "id": "d6-fQM1-rNVb"
   },
   "id": "d6-fQM1-rNVb"
  },
  {
   "cell_type": "code",
   "source": [
    "from sklearn.ensemble import RandomForestClassifier\n",
    "from sklearn.datasets import make_classification"
   ],
   "metadata": {
    "id": "88SjR0VMruck",
    "ExecuteTime": {
     "end_time": "2023-05-08T11:33:02.236187917Z",
     "start_time": "2023-05-08T11:33:02.113359798Z"
    }
   },
   "id": "88SjR0VMruck",
   "execution_count": 42,
   "outputs": []
  },
  {
   "cell_type": "code",
   "source": [
    "# dataset_path = 'allUsers.lcl.csv'\n",
    "\n",
    "df = pd.read_csv(dataset_path)\n",
    "#knn Cannot work with mining data, so replace them with a 0\n",
    "df = df.replace('?', 0)\n",
    "#df = df.dropna(thresh=len(df) * 0.10, axis=1)\n"
   ],
   "metadata": {
    "id": "Woj1x8nXrNCX",
    "ExecuteTime": {
     "end_time": "2023-05-08T11:33:25.847618226Z",
     "start_time": "2023-05-08T11:33:24.665447939Z"
    }
   },
   "id": "Woj1x8nXrNCX",
   "execution_count": 46,
   "outputs": []
  },
  {
   "cell_type": "markdown",
   "source": [
    "# Class recognition with User label"
   ],
   "metadata": {
    "id": "8aYevJyJramt"
   },
   "id": "8aYevJyJramt"
  },
  {
   "cell_type": "code",
   "source": [
    "df2 = df.drop(['User'], axis=1)\n",
    "labels_Users = df['User']\n",
    "X_train, X_test, y_train, y_test,  = train_test_split(df2, labels_Users, test_size=0.20, random_state=42)"
   ],
   "metadata": {
    "id": "AkYTHzyorbyG",
    "ExecuteTime": {
     "end_time": "2023-05-08T11:33:36.010258753Z",
     "start_time": "2023-05-08T11:33:35.862141737Z"
    }
   },
   "id": "AkYTHzyorbyG",
   "execution_count": 47,
   "outputs": []
  },
  {
   "cell_type": "code",
   "source": [
    "clf = RandomForestClassifier(max_depth=200, random_state=10)\n",
    "clf.fit(X_train, y_train)\n",
    "clf.score(X_test, y_test)"
   ],
   "metadata": {
    "colab": {
     "base_uri": "https://localhost:8080/"
    },
    "id": "TM2z8jcjr1IB",
    "outputId": "4feb0384-834c-4323-9cc8-9b1878565c67",
    "ExecuteTime": {
     "end_time": "2023-05-08T11:34:17.390943540Z",
     "start_time": "2023-05-08T11:33:37.558761094Z"
    }
   },
   "id": "TM2z8jcjr1IB",
   "execution_count": 48,
   "outputs": [
    {
     "data": {
      "text/plain": "0.9863636363636363"
     },
     "execution_count": 48,
     "metadata": {},
     "output_type": "execute_result"
    }
   ]
  },
  {
   "cell_type": "code",
   "execution_count": 53,
   "outputs": [],
   "source": [
    "results_df = save_results(clf, X_test, y_test, 'Random forest', results_df)\n",
    "\n"
   ],
   "metadata": {
    "collapsed": false,
    "ExecuteTime": {
     "end_time": "2023-05-08T11:36:34.648579703Z",
     "start_time": "2023-05-08T11:36:33.293986343Z"
    }
   }
  },
  {
   "cell_type": "markdown",
   "source": [
    "# Gread Search"
   ],
   "metadata": {
    "id": "gCSpeBrHsgrR"
   },
   "id": "gCSpeBrHsgrR"
  },
  {
   "cell_type": "markdown",
   "source": [
    "## Show results:"
   ],
   "metadata": {
    "collapsed": false
   }
  },
  {
   "cell_type": "code",
   "execution_count": 54,
   "outputs": [
    {
     "data": {
      "text/plain": "               test acc  test f1 score (W)\nRandom forest  0.986364           0.940244",
      "text/html": "<div>\n<style scoped>\n    .dataframe tbody tr th:only-of-type {\n        vertical-align: middle;\n    }\n\n    .dataframe tbody tr th {\n        vertical-align: top;\n    }\n\n    .dataframe thead th {\n        text-align: right;\n    }\n</style>\n<table border=\"1\" class=\"dataframe\">\n  <thead>\n    <tr style=\"text-align: right;\">\n      <th></th>\n      <th>test acc</th>\n      <th>test f1 score (W)</th>\n    </tr>\n  </thead>\n  <tbody>\n    <tr>\n      <th>Random forest</th>\n      <td>0.986364</td>\n      <td>0.940244</td>\n    </tr>\n  </tbody>\n</table>\n</div>"
     },
     "execution_count": 54,
     "metadata": {},
     "output_type": "execute_result"
    }
   ],
   "source": [
    "results_df.sort_values(by=['test acc'], ascending=False)\n",
    "\n"
   ],
   "metadata": {
    "collapsed": false,
    "ExecuteTime": {
     "end_time": "2023-05-08T11:36:36.951265431Z",
     "start_time": "2023-05-08T11:36:36.936824549Z"
    }
   }
  }
 ],
 "metadata": {
  "kernelspec": {
   "display_name": "Python 3 (ipykernel)",
   "language": "python",
   "name": "python3"
  },
  "language_info": {
   "codemirror_mode": {
    "name": "ipython",
    "version": 3
   },
   "file_extension": ".py",
   "mimetype": "text/x-python",
   "name": "python",
   "nbconvert_exporter": "python",
   "pygments_lexer": "ipython3",
   "version": "3.9.13"
  },
  "colab": {
   "provenance": []
  }
 },
 "nbformat": 4,
 "nbformat_minor": 5
}
