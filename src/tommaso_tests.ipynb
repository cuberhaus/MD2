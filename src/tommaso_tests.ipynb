{
 "cells": [
  {
   "cell_type": "code",
   "execution_count": 45,
   "id": "ba5c8737",
   "metadata": {
    "id": "ba5c8737",
    "ExecuteTime": {
     "end_time": "2023-05-19T17:24:38.850822300Z",
     "start_time": "2023-05-19T17:24:38.552814Z"
    }
   },
   "outputs": [],
   "source": [
    "from sklearn.neighbors import KNeighborsClassifier\n",
    "from sklearn.svm import SVC\n",
    "from sklearn.dummy import DummyClassifier\n",
    "from sklearn.model_selection import cross_val_score, GridSearchCV, ParameterGrid, train_test_split\n",
    "from sklearn import metrics\n",
    "\n",
    "import pandas as pd\n",
    "import numpy as np\n",
    "\n",
    "from sklearn.neighbors import KNeighborsClassifier\n",
    "\n",
    "# # import warnings filter\n",
    "# from warnings import simplefilter\n",
    "# # ignore all future warnings\n",
    "# simplefilter(action='ignore', category=FutureWarning)"
   ]
  },
  {
   "cell_type": "code",
   "execution_count": 46,
   "id": "e7814250",
   "metadata": {
    "id": "e7814250",
    "ExecuteTime": {
     "end_time": "2023-05-19T17:24:39.700052500Z",
     "start_time": "2023-05-19T17:24:38.568058600Z"
    }
   },
   "outputs": [],
   "source": [
    "# dataset_path = 'allUsers.lcl.csv'\n",
    "dataset_path = \"../data/tommaso_data/allUsers.lcl.csv\"\n",
    "\n",
    "df = pd.read_csv(dataset_path)\n",
    "#knn Cannot work with mining data, so replace them with a 0\n",
    "df = df.replace('?', 0)\n",
    "#df = df.dropna(thresh=len(df) * 0.10, axis=1)\n",
    "\n"
   ]
  },
  {
   "cell_type": "code",
   "execution_count": 47,
   "outputs": [],
   "source": [
    "from sklearn.metrics import accuracy_score, f1_score, roc_auc_score, precision_score, recall_score\n",
    "\n",
    "\n",
    "def save_results(clf, X_test, y_test, nclf, dataf):\n",
    "    dataf.loc[nclf, 'acc'] = accuracy_score(y_test, clf.predict(X_test))\n",
    "    dataf.loc[nclf,'prec'] = precision_score(y_test, clf.predict(X_test), average='weighted')\n",
    "    dataf.loc[nclf,'recall'] = recall_score(y_test, clf.predict(X_test), average='weighted')\n",
    "    # dataf.loc[nclf, 'test f1 score (0)'] = f1_score(y_test, clf.predict(X_test), pos_label=0)\n",
    "\n",
    "    # dataf.loc[nclf, 'test f1 score (1)'] = f1_score(y_test, clf.predict(X_test), pos_label=1)\n",
    "    dataf.loc[nclf, 'test f1 score (W)'] = f1_score(y_test, clf.predict(X_test), average='macro')\n",
    "    # dataf.loc[nclf,'ROC AUC'] = roc_auc_score(y_test, clf.predict_proba(X_test)[:,1], multi_class='ovr')\n",
    "    return dataf\n",
    "\n",
    "results_df = pd.DataFrame()\n",
    "\n"
   ],
   "metadata": {
    "collapsed": false,
    "ExecuteTime": {
     "end_time": "2023-05-19T17:24:39.709854800Z",
     "start_time": "2023-05-19T17:24:39.706061Z"
    }
   }
  },
  {
   "cell_type": "markdown",
   "id": "5c618663",
   "metadata": {
    "id": "5c618663"
   },
   "source": [
    "# KNN"
   ]
  },
  {
   "cell_type": "markdown",
   "id": "f6f19a8d",
   "metadata": {
    "id": "f6f19a8d"
   },
   "source": [
    "# Class recognition with User label"
   ]
  },
  {
   "cell_type": "code",
   "execution_count": 48,
   "id": "2518a4a1",
   "metadata": {
    "id": "2518a4a1",
    "ExecuteTime": {
     "end_time": "2023-05-19T17:24:39.904631300Z",
     "start_time": "2023-05-19T17:24:39.709854800Z"
    }
   },
   "outputs": [],
   "source": [
    "df2 = df.drop(['Class'], axis=1)\n",
    "labels_Class = df['Class']\n",
    "\n",
    "\n",
    "X_train, X_test, y_train, y_test,  = train_test_split(df2, labels_Class, test_size=0.20, random_state=42)\n"
   ]
  },
  {
   "cell_type": "markdown",
   "id": "9aada6bf",
   "metadata": {
    "id": "9aada6bf"
   },
   "source": []
  },
  {
   "cell_type": "code",
   "execution_count": 49,
   "id": "f01a4953",
   "metadata": {
    "colab": {
     "base_uri": "https://localhost:8080/",
     "height": 74
    },
    "id": "f01a4953",
    "outputId": "4618c184-f135-42b1-f003-65ec39c49242",
    "ExecuteTime": {
     "end_time": "2023-05-19T17:24:40.289282900Z",
     "start_time": "2023-05-19T17:24:39.904631300Z"
    }
   },
   "outputs": [
    {
     "data": {
      "text/plain": "KNeighborsClassifier(n_neighbors=1)",
      "text/html": "<style>#sk-container-id-7 {color: black;background-color: white;}#sk-container-id-7 pre{padding: 0;}#sk-container-id-7 div.sk-toggleable {background-color: white;}#sk-container-id-7 label.sk-toggleable__label {cursor: pointer;display: block;width: 100%;margin-bottom: 0;padding: 0.3em;box-sizing: border-box;text-align: center;}#sk-container-id-7 label.sk-toggleable__label-arrow:before {content: \"▸\";float: left;margin-right: 0.25em;color: #696969;}#sk-container-id-7 label.sk-toggleable__label-arrow:hover:before {color: black;}#sk-container-id-7 div.sk-estimator:hover label.sk-toggleable__label-arrow:before {color: black;}#sk-container-id-7 div.sk-toggleable__content {max-height: 0;max-width: 0;overflow: hidden;text-align: left;background-color: #f0f8ff;}#sk-container-id-7 div.sk-toggleable__content pre {margin: 0.2em;color: black;border-radius: 0.25em;background-color: #f0f8ff;}#sk-container-id-7 input.sk-toggleable__control:checked~div.sk-toggleable__content {max-height: 200px;max-width: 100%;overflow: auto;}#sk-container-id-7 input.sk-toggleable__control:checked~label.sk-toggleable__label-arrow:before {content: \"▾\";}#sk-container-id-7 div.sk-estimator input.sk-toggleable__control:checked~label.sk-toggleable__label {background-color: #d4ebff;}#sk-container-id-7 div.sk-label input.sk-toggleable__control:checked~label.sk-toggleable__label {background-color: #d4ebff;}#sk-container-id-7 input.sk-hidden--visually {border: 0;clip: rect(1px 1px 1px 1px);clip: rect(1px, 1px, 1px, 1px);height: 1px;margin: -1px;overflow: hidden;padding: 0;position: absolute;width: 1px;}#sk-container-id-7 div.sk-estimator {font-family: monospace;background-color: #f0f8ff;border: 1px dotted black;border-radius: 0.25em;box-sizing: border-box;margin-bottom: 0.5em;}#sk-container-id-7 div.sk-estimator:hover {background-color: #d4ebff;}#sk-container-id-7 div.sk-parallel-item::after {content: \"\";width: 100%;border-bottom: 1px solid gray;flex-grow: 1;}#sk-container-id-7 div.sk-label:hover label.sk-toggleable__label {background-color: #d4ebff;}#sk-container-id-7 div.sk-serial::before {content: \"\";position: absolute;border-left: 1px solid gray;box-sizing: border-box;top: 0;bottom: 0;left: 50%;z-index: 0;}#sk-container-id-7 div.sk-serial {display: flex;flex-direction: column;align-items: center;background-color: white;padding-right: 0.2em;padding-left: 0.2em;position: relative;}#sk-container-id-7 div.sk-item {position: relative;z-index: 1;}#sk-container-id-7 div.sk-parallel {display: flex;align-items: stretch;justify-content: center;background-color: white;position: relative;}#sk-container-id-7 div.sk-item::before, #sk-container-id-7 div.sk-parallel-item::before {content: \"\";position: absolute;border-left: 1px solid gray;box-sizing: border-box;top: 0;bottom: 0;left: 50%;z-index: -1;}#sk-container-id-7 div.sk-parallel-item {display: flex;flex-direction: column;z-index: 1;position: relative;background-color: white;}#sk-container-id-7 div.sk-parallel-item:first-child::after {align-self: flex-end;width: 50%;}#sk-container-id-7 div.sk-parallel-item:last-child::after {align-self: flex-start;width: 50%;}#sk-container-id-7 div.sk-parallel-item:only-child::after {width: 0;}#sk-container-id-7 div.sk-dashed-wrapped {border: 1px dashed gray;margin: 0 0.4em 0.5em 0.4em;box-sizing: border-box;padding-bottom: 0.4em;background-color: white;}#sk-container-id-7 div.sk-label label {font-family: monospace;font-weight: bold;display: inline-block;line-height: 1.2em;}#sk-container-id-7 div.sk-label-container {text-align: center;}#sk-container-id-7 div.sk-container {/* jupyter's `normalize.less` sets `[hidden] { display: none; }` but bootstrap.min.css set `[hidden] { display: none !important; }` so we also need the `!important` here to be able to override the default hidden behavior on the sphinx rendered scikit-learn.org. See: https://github.com/scikit-learn/scikit-learn/issues/21755 */display: inline-block !important;position: relative;}#sk-container-id-7 div.sk-text-repr-fallback {display: none;}</style><div id=\"sk-container-id-7\" class=\"sk-top-container\"><div class=\"sk-text-repr-fallback\"><pre>KNeighborsClassifier(n_neighbors=1)</pre><b>In a Jupyter environment, please rerun this cell to show the HTML representation or trust the notebook. <br />On GitHub, the HTML representation is unable to render, please try loading this page with nbviewer.org.</b></div><div class=\"sk-container\" hidden><div class=\"sk-item\"><div class=\"sk-estimator sk-toggleable\"><input class=\"sk-toggleable__control sk-hidden--visually\" id=\"sk-estimator-id-7\" type=\"checkbox\" checked><label for=\"sk-estimator-id-7\" class=\"sk-toggleable__label sk-toggleable__label-arrow\">KNeighborsClassifier</label><div class=\"sk-toggleable__content\"><pre>KNeighborsClassifier(n_neighbors=1)</pre></div></div></div></div></div>"
     },
     "execution_count": 49,
     "metadata": {},
     "output_type": "execute_result"
    }
   ],
   "source": [
    "from sklearn.neighbors import KNeighborsClassifier\n",
    "knn = KNeighborsClassifier(n_neighbors=1)\n",
    "knn.fit(X_train, y_train)\n"
   ]
  },
  {
   "cell_type": "code",
   "execution_count": 50,
   "id": "7f99c82e",
   "metadata": {
    "colab": {
     "base_uri": "https://localhost:8080/"
    },
    "id": "7f99c82e",
    "outputId": "9e0992c9-8921-4c6d-b7c9-c6b868b100f7",
    "ExecuteTime": {
     "end_time": "2023-05-19T17:24:42.910966300Z",
     "start_time": "2023-05-19T17:24:40.289282900Z"
    }
   },
   "outputs": [
    {
     "name": "stdout",
     "output_type": "stream",
     "text": [
      "0.9602432778489116\n"
     ]
    }
   ],
   "source": [
    "print(knn.score(X_test, y_test))\n"
   ]
  },
  {
   "cell_type": "code",
   "execution_count": 51,
   "outputs": [],
   "source": [
    "results_df = save_results(knn, X_test, y_test, 'KNN', results_df)\n",
    "\n"
   ],
   "metadata": {
    "collapsed": false,
    "ExecuteTime": {
     "end_time": "2023-05-19T17:24:53.562294600Z",
     "start_time": "2023-05-19T17:24:42.910966300Z"
    }
   }
  },
  {
   "cell_type": "markdown",
   "id": "eb18a83d",
   "metadata": {
    "id": "eb18a83d"
   },
   "source": []
  },
  {
   "cell_type": "markdown",
   "id": "c52e9d51",
   "metadata": {
    "id": "c52e9d51"
   },
   "source": [
    "# Hand owner recognition with Class label"
   ]
  },
  {
   "cell_type": "code",
   "execution_count": 52,
   "id": "b31cbd01",
   "metadata": {
    "id": "b31cbd01",
    "ExecuteTime": {
     "end_time": "2023-05-19T17:24:53.731926700Z",
     "start_time": "2023-05-19T17:24:53.562294600Z"
    }
   },
   "outputs": [],
   "source": [
    "df2 = df.drop(['User'], axis=1)\n",
    "labels_Users = df['User']\n",
    "X_train, X_test, y_train, y_test,  = train_test_split(df2, labels_Users, test_size=0.20, random_state=42)"
   ]
  },
  {
   "cell_type": "code",
   "execution_count": 53,
   "id": "1f316e77",
   "metadata": {
    "id": "1f316e77",
    "outputId": "847fdf5b-72e3-4dcd-dd39-143814e73984",
    "ExecuteTime": {
     "end_time": "2023-05-19T17:24:54.212227200Z",
     "start_time": "2023-05-19T17:24:53.731926700Z"
    }
   },
   "outputs": [
    {
     "data": {
      "text/plain": "KNeighborsClassifier(n_neighbors=1)",
      "text/html": "<style>#sk-container-id-8 {color: black;background-color: white;}#sk-container-id-8 pre{padding: 0;}#sk-container-id-8 div.sk-toggleable {background-color: white;}#sk-container-id-8 label.sk-toggleable__label {cursor: pointer;display: block;width: 100%;margin-bottom: 0;padding: 0.3em;box-sizing: border-box;text-align: center;}#sk-container-id-8 label.sk-toggleable__label-arrow:before {content: \"▸\";float: left;margin-right: 0.25em;color: #696969;}#sk-container-id-8 label.sk-toggleable__label-arrow:hover:before {color: black;}#sk-container-id-8 div.sk-estimator:hover label.sk-toggleable__label-arrow:before {color: black;}#sk-container-id-8 div.sk-toggleable__content {max-height: 0;max-width: 0;overflow: hidden;text-align: left;background-color: #f0f8ff;}#sk-container-id-8 div.sk-toggleable__content pre {margin: 0.2em;color: black;border-radius: 0.25em;background-color: #f0f8ff;}#sk-container-id-8 input.sk-toggleable__control:checked~div.sk-toggleable__content {max-height: 200px;max-width: 100%;overflow: auto;}#sk-container-id-8 input.sk-toggleable__control:checked~label.sk-toggleable__label-arrow:before {content: \"▾\";}#sk-container-id-8 div.sk-estimator input.sk-toggleable__control:checked~label.sk-toggleable__label {background-color: #d4ebff;}#sk-container-id-8 div.sk-label input.sk-toggleable__control:checked~label.sk-toggleable__label {background-color: #d4ebff;}#sk-container-id-8 input.sk-hidden--visually {border: 0;clip: rect(1px 1px 1px 1px);clip: rect(1px, 1px, 1px, 1px);height: 1px;margin: -1px;overflow: hidden;padding: 0;position: absolute;width: 1px;}#sk-container-id-8 div.sk-estimator {font-family: monospace;background-color: #f0f8ff;border: 1px dotted black;border-radius: 0.25em;box-sizing: border-box;margin-bottom: 0.5em;}#sk-container-id-8 div.sk-estimator:hover {background-color: #d4ebff;}#sk-container-id-8 div.sk-parallel-item::after {content: \"\";width: 100%;border-bottom: 1px solid gray;flex-grow: 1;}#sk-container-id-8 div.sk-label:hover label.sk-toggleable__label {background-color: #d4ebff;}#sk-container-id-8 div.sk-serial::before {content: \"\";position: absolute;border-left: 1px solid gray;box-sizing: border-box;top: 0;bottom: 0;left: 50%;z-index: 0;}#sk-container-id-8 div.sk-serial {display: flex;flex-direction: column;align-items: center;background-color: white;padding-right: 0.2em;padding-left: 0.2em;position: relative;}#sk-container-id-8 div.sk-item {position: relative;z-index: 1;}#sk-container-id-8 div.sk-parallel {display: flex;align-items: stretch;justify-content: center;background-color: white;position: relative;}#sk-container-id-8 div.sk-item::before, #sk-container-id-8 div.sk-parallel-item::before {content: \"\";position: absolute;border-left: 1px solid gray;box-sizing: border-box;top: 0;bottom: 0;left: 50%;z-index: -1;}#sk-container-id-8 div.sk-parallel-item {display: flex;flex-direction: column;z-index: 1;position: relative;background-color: white;}#sk-container-id-8 div.sk-parallel-item:first-child::after {align-self: flex-end;width: 50%;}#sk-container-id-8 div.sk-parallel-item:last-child::after {align-self: flex-start;width: 50%;}#sk-container-id-8 div.sk-parallel-item:only-child::after {width: 0;}#sk-container-id-8 div.sk-dashed-wrapped {border: 1px dashed gray;margin: 0 0.4em 0.5em 0.4em;box-sizing: border-box;padding-bottom: 0.4em;background-color: white;}#sk-container-id-8 div.sk-label label {font-family: monospace;font-weight: bold;display: inline-block;line-height: 1.2em;}#sk-container-id-8 div.sk-label-container {text-align: center;}#sk-container-id-8 div.sk-container {/* jupyter's `normalize.less` sets `[hidden] { display: none; }` but bootstrap.min.css set `[hidden] { display: none !important; }` so we also need the `!important` here to be able to override the default hidden behavior on the sphinx rendered scikit-learn.org. See: https://github.com/scikit-learn/scikit-learn/issues/21755 */display: inline-block !important;position: relative;}#sk-container-id-8 div.sk-text-repr-fallback {display: none;}</style><div id=\"sk-container-id-8\" class=\"sk-top-container\"><div class=\"sk-text-repr-fallback\"><pre>KNeighborsClassifier(n_neighbors=1)</pre><b>In a Jupyter environment, please rerun this cell to show the HTML representation or trust the notebook. <br />On GitHub, the HTML representation is unable to render, please try loading this page with nbviewer.org.</b></div><div class=\"sk-container\" hidden><div class=\"sk-item\"><div class=\"sk-estimator sk-toggleable\"><input class=\"sk-toggleable__control sk-hidden--visually\" id=\"sk-estimator-id-8\" type=\"checkbox\" checked><label for=\"sk-estimator-id-8\" class=\"sk-toggleable__label sk-toggleable__label-arrow\">KNeighborsClassifier</label><div class=\"sk-toggleable__content\"><pre>KNeighborsClassifier(n_neighbors=1)</pre></div></div></div></div></div>"
     },
     "execution_count": 53,
     "metadata": {},
     "output_type": "execute_result"
    }
   ],
   "source": [
    "knn = KNeighborsClassifier(n_neighbors=1)\n",
    "knn.fit(X_train, y_train)\n"
   ]
  },
  {
   "cell_type": "code",
   "execution_count": 54,
   "id": "3238672d",
   "metadata": {
    "id": "3238672d",
    "outputId": "1d576981-4962-4f5d-a629-80a7135ef377",
    "ExecuteTime": {
     "end_time": "2023-05-19T17:24:57.445535400Z",
     "start_time": "2023-05-19T17:24:54.212227200Z"
    }
   },
   "outputs": [
    {
     "name": "stdout",
     "output_type": "stream",
     "text": [
      "0.8646606914212548\n"
     ]
    }
   ],
   "source": [
    "print(knn.score(X_test, y_test))"
   ]
  },
  {
   "cell_type": "code",
   "execution_count": 55,
   "outputs": [],
   "source": [
    "results_df = save_results(knn, X_test, y_test, 'KNN', results_df)\n",
    "\n"
   ],
   "metadata": {
    "collapsed": false,
    "ExecuteTime": {
     "end_time": "2023-05-19T17:25:08.438967Z",
     "start_time": "2023-05-19T17:24:57.533208800Z"
    }
   }
  },
  {
   "cell_type": "markdown",
   "id": "3c855808",
   "metadata": {
    "id": "3c855808"
   },
   "source": [
    "# Class recognition without User label"
   ]
  },
  {
   "cell_type": "code",
   "execution_count": 56,
   "id": "0b864c6d",
   "metadata": {
    "id": "0b864c6d",
    "ExecuteTime": {
     "end_time": "2023-05-19T17:25:08.663202400Z",
     "start_time": "2023-05-19T17:25:08.447522200Z"
    }
   },
   "outputs": [],
   "source": [
    "df2 = df.drop(['User'], axis=1)\n",
    "df2 = df2.drop(['Class'], axis=1)\n",
    "labels_Class = df['Class']\n",
    "X_train, X_test, y_train, y_test,  = train_test_split(df2, labels_Class, test_size=0.20, random_state=42)"
   ]
  },
  {
   "cell_type": "code",
   "execution_count": 57,
   "id": "1de9b023",
   "metadata": {
    "id": "1de9b023",
    "outputId": "573b7fcf-617d-4df5-8ac1-64ea19f266a6",
    "ExecuteTime": {
     "end_time": "2023-05-19T17:25:11.682533900Z",
     "start_time": "2023-05-19T17:25:08.667716600Z"
    }
   },
   "outputs": [
    {
     "name": "stdout",
     "output_type": "stream",
     "text": [
      "0.9596670934699104\n"
     ]
    }
   ],
   "source": [
    "knn = KNeighborsClassifier(n_neighbors=1)\n",
    "knn.fit(X_train, y_train)\n",
    "print(knn.score(X_test, y_test))"
   ]
  },
  {
   "cell_type": "code",
   "execution_count": 58,
   "outputs": [],
   "source": [
    "results_df = save_results(knn, X_test, y_test, 'KNN', results_df)\n",
    "\n"
   ],
   "metadata": {
    "collapsed": false,
    "ExecuteTime": {
     "end_time": "2023-05-19T17:25:22.498317300Z",
     "start_time": "2023-05-19T17:25:11.682533900Z"
    }
   }
  },
  {
   "cell_type": "markdown",
   "id": "54ec9011",
   "metadata": {
    "id": "54ec9011"
   },
   "source": [
    "# Class recognition without Class label"
   ]
  },
  {
   "cell_type": "code",
   "execution_count": 59,
   "id": "1a987e55",
   "metadata": {
    "id": "1a987e55",
    "ExecuteTime": {
     "end_time": "2023-05-19T17:25:22.721532400Z",
     "start_time": "2023-05-19T17:25:22.503326100Z"
    }
   },
   "outputs": [],
   "source": [
    "df2 = df.drop(['User'], axis=1)\n",
    "df2 = df2.drop(['Class'], axis=1)\n",
    "\n",
    "labels_Users = df['User']\n",
    "X_train, X_test, y_train, y_test,  = train_test_split(df2, labels_Users, test_size=0.20, random_state=42)"
   ]
  },
  {
   "cell_type": "code",
   "execution_count": 60,
   "id": "c4360d7b",
   "metadata": {
    "id": "c4360d7b",
    "outputId": "f4a324ec-eead-40ba-c519-b8df6fec715b",
    "ExecuteTime": {
     "end_time": "2023-05-19T17:25:25.730632Z",
     "start_time": "2023-05-19T17:25:22.740215500Z"
    }
   },
   "outputs": [
    {
     "name": "stdout",
     "output_type": "stream",
     "text": [
      "0.8646606914212548\n"
     ]
    }
   ],
   "source": [
    "knn = KNeighborsClassifier(n_neighbors=1)\n",
    "knn.fit(X_train, y_train)\n",
    "print(knn.score(X_test, y_test))"
   ]
  },
  {
   "cell_type": "code",
   "execution_count": 61,
   "outputs": [],
   "source": [
    "results_df = save_results(knn, X_test, y_test, 'KNN', results_df)\n",
    "\n"
   ],
   "metadata": {
    "collapsed": false,
    "ExecuteTime": {
     "end_time": "2023-05-19T17:25:36.549517200Z",
     "start_time": "2023-05-19T17:25:25.819811500Z"
    }
   }
  },
  {
   "cell_type": "markdown",
   "id": "eb119607",
   "metadata": {
    "id": "eb119607"
   },
   "source": [
    "# SVM"
   ]
  },
  {
   "cell_type": "code",
   "execution_count": 62,
   "id": "a80b9469",
   "metadata": {
    "colab": {
     "base_uri": "https://localhost:8080/",
     "height": 500
    },
    "id": "a80b9469",
    "outputId": "ea8d6bff-54dd-4e08-e749-f70816e493a8",
    "ExecuteTime": {
     "end_time": "2023-05-19T17:25:37.846197800Z",
     "start_time": "2023-05-19T17:25:36.549517200Z"
    }
   },
   "outputs": [
    {
     "data": {
      "text/plain": "       Class  User         X0          Y0         Z0         X1          Y1   \n4          1     0  55.329647   71.707275 -63.688956  36.561863   81.868749  \\\n60         1     0  55.845720   66.522803 -68.410839  77.106544   36.734284   \n93         1     0  59.676152   10.346545 -70.922560  32.903327   80.877307   \n103        1     0  60.643217   10.291196 -70.175276  35.024652   81.172235   \n111        1     0  57.520111   71.715919 -61.757361  34.581397   81.222350   \n...      ...   ...        ...         ...        ...        ...         ...   \n78040      5    14  61.739726  100.844190  -6.994374  -1.605232   97.814815   \n78045      5    14 -29.873947   76.914756 -18.651672  -2.029566  123.468663   \n78058      5    14  55.477667  129.359734 -43.070249  78.681362   31.968211   \n78064      5    14  88.760663   59.931435 -63.671039  -2.155721  125.068618   \n78070      5    14  55.548078  129.512357 -41.791831  27.242311  136.745154   \n\n              Z1         X2          Y2         Z2                  X3   \n4     -52.752784  86.320630   68.214645 -72.228461    61.5961571288978  \\\n60    -75.072331  85.470310   62.473837 -77.605075    34.2457979030067   \n93    -56.737537  84.383038   67.579617 -74.432037     75.716530692884   \n103   -54.580198  84.337446   67.490598 -74.242394    76.4325165255543   \n111   -55.219979  59.636048   10.242790 -71.191428    76.9848900528974   \n...          ...        ...         ...        ...                 ...   \n78040   2.909392  26.067348  136.421557 -32.985276   -21.9183977994588   \n78045 -45.304928  -1.565969   97.739744   3.231634    61.6464047727335   \n78058 -45.536851  -2.214866  125.482435 -40.814235    29.5598097604374   \n78064 -41.709071  77.992760   32.445566 -44.458812  -0.970094534882875   \n78070 -31.614706 -30.276580   78.726291 -15.758450    78.1881695610848   \n\n                     Y3                 Z3                 X4   \n4      11.2506481750465  -68.9564252307431   77.3872254123912  \\\n60     76.2252873173598  -61.5592919042357   62.4769143002536   \n93     42.4039470792251  -73.8682413989786                  0   \n103    42.4279202681865    -72.79701886308   60.0147927287663   \n111     42.536531586955  -72.3894288430609   85.0430132473624   \n...                 ...                ...                ...   \n78040  103.586732377954  -55.7435172836229   28.2762399952328   \n78045  100.690969420769  -7.00426363012687   26.0991865935174   \n78058  106.099892829171   8.60633476048323   61.6908493868336   \n78064   97.628680322975   2.98397838329817   55.1306108005195   \n78070  32.7732849048862  -43.5608262729756  -1.80177811487272   \n\n                     Y4                 Z4                 X5   \n4      42.7178334810919  -72.0151462991019                  0  \\\n60     5.03622819257662  -68.6089267801289                  0   \n93                    0                  0                  0   \n103    71.7732083115917   -59.384569022977                  0   \n111    67.8348313672923  -73.6765462237176                  0   \n...                 ...                ...                ...   \n78040  107.284601079317   9.04071794397873  -30.8317317238542   \n78045  136.304277368217  -33.2657491003375  -22.2004005073228   \n78058  101.361080251551  -4.50175708504207  -1.33922415636317   \n78064  129.367411656344  -43.3191719272339   -30.185045982206   \n78070  98.3460107051729   4.87855892136542   28.2541676428054   \n\n                     Y5                 Z5  \n4                     0                  0  \n60                    0                  0  \n93                    0                  0  \n103                   0                  0  \n111                   0                  0  \n...                 ...                ...  \n78040  78.1007664596381  -16.6639696803137  \n78045  103.169253119125   -55.957281522383  \n78058  98.0202263508904   4.31976810449226  \n78064  78.1287444666287  -16.3108442369111  \n78070  107.390859619162   10.6446104793982  \n\n[3096 rows x 20 columns]",
      "text/html": "<div>\n<style scoped>\n    .dataframe tbody tr th:only-of-type {\n        vertical-align: middle;\n    }\n\n    .dataframe tbody tr th {\n        vertical-align: top;\n    }\n\n    .dataframe thead th {\n        text-align: right;\n    }\n</style>\n<table border=\"1\" class=\"dataframe\">\n  <thead>\n    <tr style=\"text-align: right;\">\n      <th></th>\n      <th>Class</th>\n      <th>User</th>\n      <th>X0</th>\n      <th>Y0</th>\n      <th>Z0</th>\n      <th>X1</th>\n      <th>Y1</th>\n      <th>Z1</th>\n      <th>X2</th>\n      <th>Y2</th>\n      <th>Z2</th>\n      <th>X3</th>\n      <th>Y3</th>\n      <th>Z3</th>\n      <th>X4</th>\n      <th>Y4</th>\n      <th>Z4</th>\n      <th>X5</th>\n      <th>Y5</th>\n      <th>Z5</th>\n    </tr>\n  </thead>\n  <tbody>\n    <tr>\n      <th>4</th>\n      <td>1</td>\n      <td>0</td>\n      <td>55.329647</td>\n      <td>71.707275</td>\n      <td>-63.688956</td>\n      <td>36.561863</td>\n      <td>81.868749</td>\n      <td>-52.752784</td>\n      <td>86.320630</td>\n      <td>68.214645</td>\n      <td>-72.228461</td>\n      <td>61.5961571288978</td>\n      <td>11.2506481750465</td>\n      <td>-68.9564252307431</td>\n      <td>77.3872254123912</td>\n      <td>42.7178334810919</td>\n      <td>-72.0151462991019</td>\n      <td>0</td>\n      <td>0</td>\n      <td>0</td>\n    </tr>\n    <tr>\n      <th>60</th>\n      <td>1</td>\n      <td>0</td>\n      <td>55.845720</td>\n      <td>66.522803</td>\n      <td>-68.410839</td>\n      <td>77.106544</td>\n      <td>36.734284</td>\n      <td>-75.072331</td>\n      <td>85.470310</td>\n      <td>62.473837</td>\n      <td>-77.605075</td>\n      <td>34.2457979030067</td>\n      <td>76.2252873173598</td>\n      <td>-61.5592919042357</td>\n      <td>62.4769143002536</td>\n      <td>5.03622819257662</td>\n      <td>-68.6089267801289</td>\n      <td>0</td>\n      <td>0</td>\n      <td>0</td>\n    </tr>\n    <tr>\n      <th>93</th>\n      <td>1</td>\n      <td>0</td>\n      <td>59.676152</td>\n      <td>10.346545</td>\n      <td>-70.922560</td>\n      <td>32.903327</td>\n      <td>80.877307</td>\n      <td>-56.737537</td>\n      <td>84.383038</td>\n      <td>67.579617</td>\n      <td>-74.432037</td>\n      <td>75.716530692884</td>\n      <td>42.4039470792251</td>\n      <td>-73.8682413989786</td>\n      <td>0</td>\n      <td>0</td>\n      <td>0</td>\n      <td>0</td>\n      <td>0</td>\n      <td>0</td>\n    </tr>\n    <tr>\n      <th>103</th>\n      <td>1</td>\n      <td>0</td>\n      <td>60.643217</td>\n      <td>10.291196</td>\n      <td>-70.175276</td>\n      <td>35.024652</td>\n      <td>81.172235</td>\n      <td>-54.580198</td>\n      <td>84.337446</td>\n      <td>67.490598</td>\n      <td>-74.242394</td>\n      <td>76.4325165255543</td>\n      <td>42.4279202681865</td>\n      <td>-72.79701886308</td>\n      <td>60.0147927287663</td>\n      <td>71.7732083115917</td>\n      <td>-59.384569022977</td>\n      <td>0</td>\n      <td>0</td>\n      <td>0</td>\n    </tr>\n    <tr>\n      <th>111</th>\n      <td>1</td>\n      <td>0</td>\n      <td>57.520111</td>\n      <td>71.715919</td>\n      <td>-61.757361</td>\n      <td>34.581397</td>\n      <td>81.222350</td>\n      <td>-55.219979</td>\n      <td>59.636048</td>\n      <td>10.242790</td>\n      <td>-71.191428</td>\n      <td>76.9848900528974</td>\n      <td>42.536531586955</td>\n      <td>-72.3894288430609</td>\n      <td>85.0430132473624</td>\n      <td>67.8348313672923</td>\n      <td>-73.6765462237176</td>\n      <td>0</td>\n      <td>0</td>\n      <td>0</td>\n    </tr>\n    <tr>\n      <th>...</th>\n      <td>...</td>\n      <td>...</td>\n      <td>...</td>\n      <td>...</td>\n      <td>...</td>\n      <td>...</td>\n      <td>...</td>\n      <td>...</td>\n      <td>...</td>\n      <td>...</td>\n      <td>...</td>\n      <td>...</td>\n      <td>...</td>\n      <td>...</td>\n      <td>...</td>\n      <td>...</td>\n      <td>...</td>\n      <td>...</td>\n      <td>...</td>\n      <td>...</td>\n    </tr>\n    <tr>\n      <th>78040</th>\n      <td>5</td>\n      <td>14</td>\n      <td>61.739726</td>\n      <td>100.844190</td>\n      <td>-6.994374</td>\n      <td>-1.605232</td>\n      <td>97.814815</td>\n      <td>2.909392</td>\n      <td>26.067348</td>\n      <td>136.421557</td>\n      <td>-32.985276</td>\n      <td>-21.9183977994588</td>\n      <td>103.586732377954</td>\n      <td>-55.7435172836229</td>\n      <td>28.2762399952328</td>\n      <td>107.284601079317</td>\n      <td>9.04071794397873</td>\n      <td>-30.8317317238542</td>\n      <td>78.1007664596381</td>\n      <td>-16.6639696803137</td>\n    </tr>\n    <tr>\n      <th>78045</th>\n      <td>5</td>\n      <td>14</td>\n      <td>-29.873947</td>\n      <td>76.914756</td>\n      <td>-18.651672</td>\n      <td>-2.029566</td>\n      <td>123.468663</td>\n      <td>-45.304928</td>\n      <td>-1.565969</td>\n      <td>97.739744</td>\n      <td>3.231634</td>\n      <td>61.6464047727335</td>\n      <td>100.690969420769</td>\n      <td>-7.00426363012687</td>\n      <td>26.0991865935174</td>\n      <td>136.304277368217</td>\n      <td>-33.2657491003375</td>\n      <td>-22.2004005073228</td>\n      <td>103.169253119125</td>\n      <td>-55.957281522383</td>\n    </tr>\n    <tr>\n      <th>78058</th>\n      <td>5</td>\n      <td>14</td>\n      <td>55.477667</td>\n      <td>129.359734</td>\n      <td>-43.070249</td>\n      <td>78.681362</td>\n      <td>31.968211</td>\n      <td>-45.536851</td>\n      <td>-2.214866</td>\n      <td>125.482435</td>\n      <td>-40.814235</td>\n      <td>29.5598097604374</td>\n      <td>106.099892829171</td>\n      <td>8.60633476048323</td>\n      <td>61.6908493868336</td>\n      <td>101.361080251551</td>\n      <td>-4.50175708504207</td>\n      <td>-1.33922415636317</td>\n      <td>98.0202263508904</td>\n      <td>4.31976810449226</td>\n    </tr>\n    <tr>\n      <th>78064</th>\n      <td>5</td>\n      <td>14</td>\n      <td>88.760663</td>\n      <td>59.931435</td>\n      <td>-63.671039</td>\n      <td>-2.155721</td>\n      <td>125.068618</td>\n      <td>-41.709071</td>\n      <td>77.992760</td>\n      <td>32.445566</td>\n      <td>-44.458812</td>\n      <td>-0.970094534882875</td>\n      <td>97.628680322975</td>\n      <td>2.98397838329817</td>\n      <td>55.1306108005195</td>\n      <td>129.367411656344</td>\n      <td>-43.3191719272339</td>\n      <td>-30.185045982206</td>\n      <td>78.1287444666287</td>\n      <td>-16.3108442369111</td>\n    </tr>\n    <tr>\n      <th>78070</th>\n      <td>5</td>\n      <td>14</td>\n      <td>55.548078</td>\n      <td>129.512357</td>\n      <td>-41.791831</td>\n      <td>27.242311</td>\n      <td>136.745154</td>\n      <td>-31.614706</td>\n      <td>-30.276580</td>\n      <td>78.726291</td>\n      <td>-15.758450</td>\n      <td>78.1881695610848</td>\n      <td>32.7732849048862</td>\n      <td>-43.5608262729756</td>\n      <td>-1.80177811487272</td>\n      <td>98.3460107051729</td>\n      <td>4.87855892136542</td>\n      <td>28.2541676428054</td>\n      <td>107.390859619162</td>\n      <td>10.6446104793982</td>\n    </tr>\n  </tbody>\n</table>\n<p>3096 rows × 20 columns</p>\n</div>"
     },
     "execution_count": 62,
     "metadata": {},
     "output_type": "execute_result"
    }
   ],
   "source": [
    "from sklearn.svm import SVC\n",
    "from sklearn.preprocessing import StandardScaler\n",
    "\n",
    "import matplotlib.pyplot as plt\n",
    "from sklearn.model_selection import train_test_split\n",
    "# !pip insall sklearn.grid_search\n",
    "from sklearn.model_selection import GridSearchCV\n",
    "from sklearn.metrics import classification_report, confusion_matrix\n",
    "\n",
    "\n",
    "# dataset_path = 'allUsers.lcl.csv'\n",
    "\n",
    "df = pd.read_csv(dataset_path)\n",
    "\n",
    "df = df.replace('?', np.nan)\n",
    "df = df.dropna(thresh=len(df) * 0.8 , axis=1)\n",
    "df = df.replace(np.nan, 0)\n",
    "\n",
    "drop_indices = np.random.choice(df.index, 75000, replace=False)\n",
    "df = df.drop(drop_indices)\n",
    "df"
   ]
  },
  {
   "cell_type": "markdown",
   "id": "50f70119",
   "metadata": {
    "id": "50f70119"
   },
   "source": [
    "# Class recognition without User label"
   ]
  },
  {
   "cell_type": "code",
   "execution_count": 63,
   "id": "32fde41d",
   "metadata": {
    "colab": {
     "base_uri": "https://localhost:8080/"
    },
    "id": "32fde41d",
    "outputId": "665a4821-cc00-4d2b-f04c-4a398fa5edf9",
    "ExecuteTime": {
     "end_time": "2023-05-19T17:25:39.630162300Z",
     "start_time": "2023-05-19T17:25:37.851206800Z"
    }
   },
   "outputs": [
    {
     "name": "stdout",
     "output_type": "stream",
     "text": [
      "0.25161290322580643\n"
     ]
    }
   ],
   "source": [
    "df2 = df.drop(['User'], axis=1)\n",
    "df2 = df2.drop(['Class'], axis=1)\n",
    "labels_Class = df['Class']\n",
    "X_train, X_test, y_train, y_test,  = train_test_split(df2, labels_Class, test_size=0.20, random_state=42)\n",
    "\n",
    "clf = SVC(kernel='rbf', gamma=\"auto\", C = 7)\n",
    "clf.fit(X_train, y_train)\n",
    "print(clf.score(X_test, y_test))"
   ]
  },
  {
   "cell_type": "code",
   "execution_count": 64,
   "outputs": [
    {
     "name": "stderr",
     "output_type": "stream",
     "text": [
      "C:\\Users\\polcg\\.virtualenvs\\MD2-NovaiZ3s\\Lib\\site-packages\\sklearn\\metrics\\_classification.py:1344: UndefinedMetricWarning: Precision is ill-defined and being set to 0.0 in labels with no predicted samples. Use `zero_division` parameter to control this behavior.\n",
      "  _warn_prf(average, modifier, msg_start, len(result))\n"
     ]
    }
   ],
   "source": [
    "\n",
    "results_df = save_results(clf, X_test, y_test, 'SVC', results_df)\n"
   ],
   "metadata": {
    "collapsed": false,
    "ExecuteTime": {
     "end_time": "2023-05-19T17:25:40.623604200Z",
     "start_time": "2023-05-19T17:25:39.630162300Z"
    }
   }
  },
  {
   "cell_type": "markdown",
   "source": [
    "# SVC gread search class recognition without user label"
   ],
   "metadata": {
    "id": "2TpbiE7ZmBKr"
   },
   "id": "2TpbiE7ZmBKr"
  },
  {
   "cell_type": "code",
   "source": [
    "param_grid = {'C':[1,10,100,1000],\n",
    "              'gamma':[1,0.1,0.001,0.0001], \n",
    "              'kernel':['sigmoid','rbf']}\n",
    "\n",
    "grid = GridSearchCV(SVC(),param_grid,refit = True, verbose=2)\n",
    "\n",
    "grid.fit(X_train,y_train)\n"
   ],
   "metadata": {
    "colab": {
     "base_uri": "https://localhost:8080/",
     "height": 1000
    },
    "id": "eiutRu3ll62i",
    "outputId": "d3c3eb6e-7725-43b6-a71c-12ff0f463dee",
    "ExecuteTime": {
     "end_time": "2023-05-19T17:26:21.401558100Z",
     "start_time": "2023-05-19T17:25:40.623604200Z"
    }
   },
   "id": "eiutRu3ll62i",
   "execution_count": 65,
   "outputs": [
    {
     "name": "stdout",
     "output_type": "stream",
     "text": [
      "Fitting 5 folds for each of 32 candidates, totalling 160 fits\n",
      "[CV] END .......................C=1, gamma=1, kernel=sigmoid; total time=   0.1s\n",
      "[CV] END .......................C=1, gamma=1, kernel=sigmoid; total time=   0.1s\n",
      "[CV] END .......................C=1, gamma=1, kernel=sigmoid; total time=   0.1s\n",
      "[CV] END .......................C=1, gamma=1, kernel=sigmoid; total time=   0.1s\n",
      "[CV] END .......................C=1, gamma=1, kernel=sigmoid; total time=   0.1s\n",
      "[CV] END ...........................C=1, gamma=1, kernel=rbf; total time=   0.6s\n",
      "[CV] END ...........................C=1, gamma=1, kernel=rbf; total time=   0.6s\n",
      "[CV] END ...........................C=1, gamma=1, kernel=rbf; total time=   0.6s\n",
      "[CV] END ...........................C=1, gamma=1, kernel=rbf; total time=   0.6s\n",
      "[CV] END ...........................C=1, gamma=1, kernel=rbf; total time=   0.6s\n",
      "[CV] END .....................C=1, gamma=0.1, kernel=sigmoid; total time=   0.1s\n",
      "[CV] END .....................C=1, gamma=0.1, kernel=sigmoid; total time=   0.1s\n",
      "[CV] END .....................C=1, gamma=0.1, kernel=sigmoid; total time=   0.1s\n",
      "[CV] END .....................C=1, gamma=0.1, kernel=sigmoid; total time=   0.1s\n",
      "[CV] END .....................C=1, gamma=0.1, kernel=sigmoid; total time=   0.1s\n",
      "[CV] END .........................C=1, gamma=0.1, kernel=rbf; total time=   0.6s\n",
      "[CV] END .........................C=1, gamma=0.1, kernel=rbf; total time=   0.6s\n",
      "[CV] END .........................C=1, gamma=0.1, kernel=rbf; total time=   0.6s\n",
      "[CV] END .........................C=1, gamma=0.1, kernel=rbf; total time=   0.6s\n",
      "[CV] END .........................C=1, gamma=0.1, kernel=rbf; total time=   0.6s\n",
      "[CV] END ...................C=1, gamma=0.001, kernel=sigmoid; total time=   0.1s\n",
      "[CV] END ...................C=1, gamma=0.001, kernel=sigmoid; total time=   0.1s\n",
      "[CV] END ...................C=1, gamma=0.001, kernel=sigmoid; total time=   0.1s\n",
      "[CV] END ...................C=1, gamma=0.001, kernel=sigmoid; total time=   0.1s\n",
      "[CV] END ...................C=1, gamma=0.001, kernel=sigmoid; total time=   0.1s\n",
      "[CV] END .......................C=1, gamma=0.001, kernel=rbf; total time=   0.4s\n",
      "[CV] END .......................C=1, gamma=0.001, kernel=rbf; total time=   0.3s\n",
      "[CV] END .......................C=1, gamma=0.001, kernel=rbf; total time=   0.3s\n",
      "[CV] END .......................C=1, gamma=0.001, kernel=rbf; total time=   0.3s\n",
      "[CV] END .......................C=1, gamma=0.001, kernel=rbf; total time=   0.3s\n",
      "[CV] END ..................C=1, gamma=0.0001, kernel=sigmoid; total time=   0.3s\n",
      "[CV] END ..................C=1, gamma=0.0001, kernel=sigmoid; total time=   0.3s\n",
      "[CV] END ..................C=1, gamma=0.0001, kernel=sigmoid; total time=   0.3s\n",
      "[CV] END ..................C=1, gamma=0.0001, kernel=sigmoid; total time=   0.3s\n",
      "[CV] END ..................C=1, gamma=0.0001, kernel=sigmoid; total time=   0.3s\n",
      "[CV] END ......................C=1, gamma=0.0001, kernel=rbf; total time=   0.2s\n",
      "[CV] END ......................C=1, gamma=0.0001, kernel=rbf; total time=   0.2s\n",
      "[CV] END ......................C=1, gamma=0.0001, kernel=rbf; total time=   0.2s\n",
      "[CV] END ......................C=1, gamma=0.0001, kernel=rbf; total time=   0.2s\n",
      "[CV] END ......................C=1, gamma=0.0001, kernel=rbf; total time=   0.2s\n",
      "[CV] END ......................C=10, gamma=1, kernel=sigmoid; total time=   0.1s\n",
      "[CV] END ......................C=10, gamma=1, kernel=sigmoid; total time=   0.1s\n",
      "[CV] END ......................C=10, gamma=1, kernel=sigmoid; total time=   0.1s\n",
      "[CV] END ......................C=10, gamma=1, kernel=sigmoid; total time=   0.1s\n",
      "[CV] END ......................C=10, gamma=1, kernel=sigmoid; total time=   0.1s\n",
      "[CV] END ..........................C=10, gamma=1, kernel=rbf; total time=   0.7s\n",
      "[CV] END ..........................C=10, gamma=1, kernel=rbf; total time=   0.7s\n",
      "[CV] END ..........................C=10, gamma=1, kernel=rbf; total time=   0.7s\n",
      "[CV] END ..........................C=10, gamma=1, kernel=rbf; total time=   0.7s\n",
      "[CV] END ..........................C=10, gamma=1, kernel=rbf; total time=   0.7s\n",
      "[CV] END ....................C=10, gamma=0.1, kernel=sigmoid; total time=   0.1s\n",
      "[CV] END ....................C=10, gamma=0.1, kernel=sigmoid; total time=   0.1s\n",
      "[CV] END ....................C=10, gamma=0.1, kernel=sigmoid; total time=   0.1s\n",
      "[CV] END ....................C=10, gamma=0.1, kernel=sigmoid; total time=   0.1s\n",
      "[CV] END ....................C=10, gamma=0.1, kernel=sigmoid; total time=   0.1s\n",
      "[CV] END ........................C=10, gamma=0.1, kernel=rbf; total time=   0.7s\n",
      "[CV] END ........................C=10, gamma=0.1, kernel=rbf; total time=   0.6s\n",
      "[CV] END ........................C=10, gamma=0.1, kernel=rbf; total time=   0.7s\n",
      "[CV] END ........................C=10, gamma=0.1, kernel=rbf; total time=   0.7s\n",
      "[CV] END ........................C=10, gamma=0.1, kernel=rbf; total time=   0.7s\n",
      "[CV] END ..................C=10, gamma=0.001, kernel=sigmoid; total time=   0.1s\n",
      "[CV] END ..................C=10, gamma=0.001, kernel=sigmoid; total time=   0.1s\n",
      "[CV] END ..................C=10, gamma=0.001, kernel=sigmoid; total time=   0.1s\n",
      "[CV] END ..................C=10, gamma=0.001, kernel=sigmoid; total time=   0.1s\n",
      "[CV] END ..................C=10, gamma=0.001, kernel=sigmoid; total time=   0.1s\n",
      "[CV] END ......................C=10, gamma=0.001, kernel=rbf; total time=   0.3s\n",
      "[CV] END ......................C=10, gamma=0.001, kernel=rbf; total time=   0.4s\n",
      "[CV] END ......................C=10, gamma=0.001, kernel=rbf; total time=   0.4s\n",
      "[CV] END ......................C=10, gamma=0.001, kernel=rbf; total time=   0.4s\n",
      "[CV] END ......................C=10, gamma=0.001, kernel=rbf; total time=   0.5s\n",
      "[CV] END .................C=10, gamma=0.0001, kernel=sigmoid; total time=   0.4s\n",
      "[CV] END .................C=10, gamma=0.0001, kernel=sigmoid; total time=   0.3s\n",
      "[CV] END .................C=10, gamma=0.0001, kernel=sigmoid; total time=   0.3s\n",
      "[CV] END .................C=10, gamma=0.0001, kernel=sigmoid; total time=   0.3s\n",
      "[CV] END .................C=10, gamma=0.0001, kernel=sigmoid; total time=   0.8s\n",
      "[CV] END .....................C=10, gamma=0.0001, kernel=rbf; total time=   0.4s\n",
      "[CV] END .....................C=10, gamma=0.0001, kernel=rbf; total time=   0.3s\n",
      "[CV] END .....................C=10, gamma=0.0001, kernel=rbf; total time=   0.3s\n",
      "[CV] END .....................C=10, gamma=0.0001, kernel=rbf; total time=   0.3s\n",
      "[CV] END .....................C=10, gamma=0.0001, kernel=rbf; total time=   0.5s\n",
      "[CV] END .....................C=100, gamma=1, kernel=sigmoid; total time=   0.2s\n",
      "[CV] END .....................C=100, gamma=1, kernel=sigmoid; total time=   0.3s\n",
      "[CV] END .....................C=100, gamma=1, kernel=sigmoid; total time=   0.2s\n",
      "[CV] END .....................C=100, gamma=1, kernel=sigmoid; total time=   0.1s\n",
      "[CV] END .....................C=100, gamma=1, kernel=sigmoid; total time=   0.1s\n",
      "[CV] END .........................C=100, gamma=1, kernel=rbf; total time=   0.7s\n",
      "[CV] END .........................C=100, gamma=1, kernel=rbf; total time=   0.7s\n",
      "[CV] END .........................C=100, gamma=1, kernel=rbf; total time=   0.7s\n",
      "[CV] END .........................C=100, gamma=1, kernel=rbf; total time=   0.7s\n"
     ]
    },
    {
     "ename": "KeyboardInterrupt",
     "evalue": "",
     "output_type": "error",
     "traceback": [
      "\u001B[1;31m---------------------------------------------------------------------------\u001B[0m",
      "\u001B[1;31mKeyboardInterrupt\u001B[0m                         Traceback (most recent call last)",
      "Cell \u001B[1;32mIn[65], line 7\u001B[0m\n\u001B[0;32m      1\u001B[0m param_grid \u001B[38;5;241m=\u001B[39m {\u001B[38;5;124m'\u001B[39m\u001B[38;5;124mC\u001B[39m\u001B[38;5;124m'\u001B[39m:[\u001B[38;5;241m1\u001B[39m,\u001B[38;5;241m10\u001B[39m,\u001B[38;5;241m100\u001B[39m,\u001B[38;5;241m1000\u001B[39m],\n\u001B[0;32m      2\u001B[0m               \u001B[38;5;124m'\u001B[39m\u001B[38;5;124mgamma\u001B[39m\u001B[38;5;124m'\u001B[39m:[\u001B[38;5;241m1\u001B[39m,\u001B[38;5;241m0.1\u001B[39m,\u001B[38;5;241m0.001\u001B[39m,\u001B[38;5;241m0.0001\u001B[39m], \n\u001B[0;32m      3\u001B[0m               \u001B[38;5;124m'\u001B[39m\u001B[38;5;124mkernel\u001B[39m\u001B[38;5;124m'\u001B[39m:[\u001B[38;5;124m'\u001B[39m\u001B[38;5;124msigmoid\u001B[39m\u001B[38;5;124m'\u001B[39m,\u001B[38;5;124m'\u001B[39m\u001B[38;5;124mrbf\u001B[39m\u001B[38;5;124m'\u001B[39m]}\n\u001B[0;32m      5\u001B[0m grid \u001B[38;5;241m=\u001B[39m GridSearchCV(SVC(),param_grid,refit \u001B[38;5;241m=\u001B[39m \u001B[38;5;28;01mTrue\u001B[39;00m, verbose\u001B[38;5;241m=\u001B[39m\u001B[38;5;241m2\u001B[39m)\n\u001B[1;32m----> 7\u001B[0m \u001B[43mgrid\u001B[49m\u001B[38;5;241;43m.\u001B[39;49m\u001B[43mfit\u001B[49m\u001B[43m(\u001B[49m\u001B[43mX_train\u001B[49m\u001B[43m,\u001B[49m\u001B[43my_train\u001B[49m\u001B[43m)\u001B[49m\n",
      "File \u001B[1;32m~\\.virtualenvs\\MD2-NovaiZ3s\\Lib\\site-packages\\sklearn\\model_selection\\_search.py:874\u001B[0m, in \u001B[0;36mBaseSearchCV.fit\u001B[1;34m(self, X, y, groups, **fit_params)\u001B[0m\n\u001B[0;32m    868\u001B[0m     results \u001B[38;5;241m=\u001B[39m \u001B[38;5;28mself\u001B[39m\u001B[38;5;241m.\u001B[39m_format_results(\n\u001B[0;32m    869\u001B[0m         all_candidate_params, n_splits, all_out, all_more_results\n\u001B[0;32m    870\u001B[0m     )\n\u001B[0;32m    872\u001B[0m     \u001B[38;5;28;01mreturn\u001B[39;00m results\n\u001B[1;32m--> 874\u001B[0m \u001B[38;5;28;43mself\u001B[39;49m\u001B[38;5;241;43m.\u001B[39;49m\u001B[43m_run_search\u001B[49m\u001B[43m(\u001B[49m\u001B[43mevaluate_candidates\u001B[49m\u001B[43m)\u001B[49m\n\u001B[0;32m    876\u001B[0m \u001B[38;5;66;03m# multimetric is determined here because in the case of a callable\u001B[39;00m\n\u001B[0;32m    877\u001B[0m \u001B[38;5;66;03m# self.scoring the return type is only known after calling\u001B[39;00m\n\u001B[0;32m    878\u001B[0m first_test_score \u001B[38;5;241m=\u001B[39m all_out[\u001B[38;5;241m0\u001B[39m][\u001B[38;5;124m\"\u001B[39m\u001B[38;5;124mtest_scores\u001B[39m\u001B[38;5;124m\"\u001B[39m]\n",
      "File \u001B[1;32m~\\.virtualenvs\\MD2-NovaiZ3s\\Lib\\site-packages\\sklearn\\model_selection\\_search.py:1388\u001B[0m, in \u001B[0;36mGridSearchCV._run_search\u001B[1;34m(self, evaluate_candidates)\u001B[0m\n\u001B[0;32m   1386\u001B[0m \u001B[38;5;28;01mdef\u001B[39;00m \u001B[38;5;21m_run_search\u001B[39m(\u001B[38;5;28mself\u001B[39m, evaluate_candidates):\n\u001B[0;32m   1387\u001B[0m \u001B[38;5;250m    \u001B[39m\u001B[38;5;124;03m\"\"\"Search all candidates in param_grid\"\"\"\u001B[39;00m\n\u001B[1;32m-> 1388\u001B[0m     \u001B[43mevaluate_candidates\u001B[49m\u001B[43m(\u001B[49m\u001B[43mParameterGrid\u001B[49m\u001B[43m(\u001B[49m\u001B[38;5;28;43mself\u001B[39;49m\u001B[38;5;241;43m.\u001B[39;49m\u001B[43mparam_grid\u001B[49m\u001B[43m)\u001B[49m\u001B[43m)\u001B[49m\n",
      "File \u001B[1;32m~\\.virtualenvs\\MD2-NovaiZ3s\\Lib\\site-packages\\sklearn\\model_selection\\_search.py:821\u001B[0m, in \u001B[0;36mBaseSearchCV.fit.<locals>.evaluate_candidates\u001B[1;34m(candidate_params, cv, more_results)\u001B[0m\n\u001B[0;32m    813\u001B[0m \u001B[38;5;28;01mif\u001B[39;00m \u001B[38;5;28mself\u001B[39m\u001B[38;5;241m.\u001B[39mverbose \u001B[38;5;241m>\u001B[39m \u001B[38;5;241m0\u001B[39m:\n\u001B[0;32m    814\u001B[0m     \u001B[38;5;28mprint\u001B[39m(\n\u001B[0;32m    815\u001B[0m         \u001B[38;5;124m\"\u001B[39m\u001B[38;5;124mFitting \u001B[39m\u001B[38;5;132;01m{0}\u001B[39;00m\u001B[38;5;124m folds for each of \u001B[39m\u001B[38;5;132;01m{1}\u001B[39;00m\u001B[38;5;124m candidates,\u001B[39m\u001B[38;5;124m\"\u001B[39m\n\u001B[0;32m    816\u001B[0m         \u001B[38;5;124m\"\u001B[39m\u001B[38;5;124m totalling \u001B[39m\u001B[38;5;132;01m{2}\u001B[39;00m\u001B[38;5;124m fits\u001B[39m\u001B[38;5;124m\"\u001B[39m\u001B[38;5;241m.\u001B[39mformat(\n\u001B[0;32m    817\u001B[0m             n_splits, n_candidates, n_candidates \u001B[38;5;241m*\u001B[39m n_splits\n\u001B[0;32m    818\u001B[0m         )\n\u001B[0;32m    819\u001B[0m     )\n\u001B[1;32m--> 821\u001B[0m out \u001B[38;5;241m=\u001B[39m \u001B[43mparallel\u001B[49m\u001B[43m(\u001B[49m\n\u001B[0;32m    822\u001B[0m \u001B[43m    \u001B[49m\u001B[43mdelayed\u001B[49m\u001B[43m(\u001B[49m\u001B[43m_fit_and_score\u001B[49m\u001B[43m)\u001B[49m\u001B[43m(\u001B[49m\n\u001B[0;32m    823\u001B[0m \u001B[43m        \u001B[49m\u001B[43mclone\u001B[49m\u001B[43m(\u001B[49m\u001B[43mbase_estimator\u001B[49m\u001B[43m)\u001B[49m\u001B[43m,\u001B[49m\n\u001B[0;32m    824\u001B[0m \u001B[43m        \u001B[49m\u001B[43mX\u001B[49m\u001B[43m,\u001B[49m\n\u001B[0;32m    825\u001B[0m \u001B[43m        \u001B[49m\u001B[43my\u001B[49m\u001B[43m,\u001B[49m\n\u001B[0;32m    826\u001B[0m \u001B[43m        \u001B[49m\u001B[43mtrain\u001B[49m\u001B[38;5;241;43m=\u001B[39;49m\u001B[43mtrain\u001B[49m\u001B[43m,\u001B[49m\n\u001B[0;32m    827\u001B[0m \u001B[43m        \u001B[49m\u001B[43mtest\u001B[49m\u001B[38;5;241;43m=\u001B[39;49m\u001B[43mtest\u001B[49m\u001B[43m,\u001B[49m\n\u001B[0;32m    828\u001B[0m \u001B[43m        \u001B[49m\u001B[43mparameters\u001B[49m\u001B[38;5;241;43m=\u001B[39;49m\u001B[43mparameters\u001B[49m\u001B[43m,\u001B[49m\n\u001B[0;32m    829\u001B[0m \u001B[43m        \u001B[49m\u001B[43msplit_progress\u001B[49m\u001B[38;5;241;43m=\u001B[39;49m\u001B[43m(\u001B[49m\u001B[43msplit_idx\u001B[49m\u001B[43m,\u001B[49m\u001B[43m \u001B[49m\u001B[43mn_splits\u001B[49m\u001B[43m)\u001B[49m\u001B[43m,\u001B[49m\n\u001B[0;32m    830\u001B[0m \u001B[43m        \u001B[49m\u001B[43mcandidate_progress\u001B[49m\u001B[38;5;241;43m=\u001B[39;49m\u001B[43m(\u001B[49m\u001B[43mcand_idx\u001B[49m\u001B[43m,\u001B[49m\u001B[43m \u001B[49m\u001B[43mn_candidates\u001B[49m\u001B[43m)\u001B[49m\u001B[43m,\u001B[49m\n\u001B[0;32m    831\u001B[0m \u001B[43m        \u001B[49m\u001B[38;5;241;43m*\u001B[39;49m\u001B[38;5;241;43m*\u001B[39;49m\u001B[43mfit_and_score_kwargs\u001B[49m\u001B[43m,\u001B[49m\n\u001B[0;32m    832\u001B[0m \u001B[43m    \u001B[49m\u001B[43m)\u001B[49m\n\u001B[0;32m    833\u001B[0m \u001B[43m    \u001B[49m\u001B[38;5;28;43;01mfor\u001B[39;49;00m\u001B[43m \u001B[49m\u001B[43m(\u001B[49m\u001B[43mcand_idx\u001B[49m\u001B[43m,\u001B[49m\u001B[43m \u001B[49m\u001B[43mparameters\u001B[49m\u001B[43m)\u001B[49m\u001B[43m,\u001B[49m\u001B[43m \u001B[49m\u001B[43m(\u001B[49m\u001B[43msplit_idx\u001B[49m\u001B[43m,\u001B[49m\u001B[43m \u001B[49m\u001B[43m(\u001B[49m\u001B[43mtrain\u001B[49m\u001B[43m,\u001B[49m\u001B[43m \u001B[49m\u001B[43mtest\u001B[49m\u001B[43m)\u001B[49m\u001B[43m)\u001B[49m\u001B[43m \u001B[49m\u001B[38;5;129;43;01min\u001B[39;49;00m\u001B[43m \u001B[49m\u001B[43mproduct\u001B[49m\u001B[43m(\u001B[49m\n\u001B[0;32m    834\u001B[0m \u001B[43m        \u001B[49m\u001B[38;5;28;43menumerate\u001B[39;49m\u001B[43m(\u001B[49m\u001B[43mcandidate_params\u001B[49m\u001B[43m)\u001B[49m\u001B[43m,\u001B[49m\u001B[43m \u001B[49m\u001B[38;5;28;43menumerate\u001B[39;49m\u001B[43m(\u001B[49m\u001B[43mcv\u001B[49m\u001B[38;5;241;43m.\u001B[39;49m\u001B[43msplit\u001B[49m\u001B[43m(\u001B[49m\u001B[43mX\u001B[49m\u001B[43m,\u001B[49m\u001B[43m \u001B[49m\u001B[43my\u001B[49m\u001B[43m,\u001B[49m\u001B[43m \u001B[49m\u001B[43mgroups\u001B[49m\u001B[43m)\u001B[49m\u001B[43m)\u001B[49m\n\u001B[0;32m    835\u001B[0m \u001B[43m    \u001B[49m\u001B[43m)\u001B[49m\n\u001B[0;32m    836\u001B[0m \u001B[43m\u001B[49m\u001B[43m)\u001B[49m\n\u001B[0;32m    838\u001B[0m \u001B[38;5;28;01mif\u001B[39;00m \u001B[38;5;28mlen\u001B[39m(out) \u001B[38;5;241m<\u001B[39m \u001B[38;5;241m1\u001B[39m:\n\u001B[0;32m    839\u001B[0m     \u001B[38;5;28;01mraise\u001B[39;00m \u001B[38;5;167;01mValueError\u001B[39;00m(\n\u001B[0;32m    840\u001B[0m         \u001B[38;5;124m\"\u001B[39m\u001B[38;5;124mNo fits were performed. \u001B[39m\u001B[38;5;124m\"\u001B[39m\n\u001B[0;32m    841\u001B[0m         \u001B[38;5;124m\"\u001B[39m\u001B[38;5;124mWas the CV iterator empty? \u001B[39m\u001B[38;5;124m\"\u001B[39m\n\u001B[0;32m    842\u001B[0m         \u001B[38;5;124m\"\u001B[39m\u001B[38;5;124mWere there no candidates?\u001B[39m\u001B[38;5;124m\"\u001B[39m\n\u001B[0;32m    843\u001B[0m     )\n",
      "File \u001B[1;32m~\\.virtualenvs\\MD2-NovaiZ3s\\Lib\\site-packages\\sklearn\\utils\\parallel.py:63\u001B[0m, in \u001B[0;36mParallel.__call__\u001B[1;34m(self, iterable)\u001B[0m\n\u001B[0;32m     58\u001B[0m config \u001B[38;5;241m=\u001B[39m get_config()\n\u001B[0;32m     59\u001B[0m iterable_with_config \u001B[38;5;241m=\u001B[39m (\n\u001B[0;32m     60\u001B[0m     (_with_config(delayed_func, config), args, kwargs)\n\u001B[0;32m     61\u001B[0m     \u001B[38;5;28;01mfor\u001B[39;00m delayed_func, args, kwargs \u001B[38;5;129;01min\u001B[39;00m iterable\n\u001B[0;32m     62\u001B[0m )\n\u001B[1;32m---> 63\u001B[0m \u001B[38;5;28;01mreturn\u001B[39;00m \u001B[38;5;28;43msuper\u001B[39;49m\u001B[43m(\u001B[49m\u001B[43m)\u001B[49m\u001B[38;5;241;43m.\u001B[39;49m\u001B[38;5;21;43m__call__\u001B[39;49m\u001B[43m(\u001B[49m\u001B[43miterable_with_config\u001B[49m\u001B[43m)\u001B[49m\n",
      "File \u001B[1;32m~\\.virtualenvs\\MD2-NovaiZ3s\\Lib\\site-packages\\joblib\\parallel.py:1088\u001B[0m, in \u001B[0;36mParallel.__call__\u001B[1;34m(self, iterable)\u001B[0m\n\u001B[0;32m   1085\u001B[0m \u001B[38;5;28;01mif\u001B[39;00m \u001B[38;5;28mself\u001B[39m\u001B[38;5;241m.\u001B[39mdispatch_one_batch(iterator):\n\u001B[0;32m   1086\u001B[0m     \u001B[38;5;28mself\u001B[39m\u001B[38;5;241m.\u001B[39m_iterating \u001B[38;5;241m=\u001B[39m \u001B[38;5;28mself\u001B[39m\u001B[38;5;241m.\u001B[39m_original_iterator \u001B[38;5;129;01mis\u001B[39;00m \u001B[38;5;129;01mnot\u001B[39;00m \u001B[38;5;28;01mNone\u001B[39;00m\n\u001B[1;32m-> 1088\u001B[0m \u001B[38;5;28;01mwhile\u001B[39;00m \u001B[38;5;28;43mself\u001B[39;49m\u001B[38;5;241;43m.\u001B[39;49m\u001B[43mdispatch_one_batch\u001B[49m\u001B[43m(\u001B[49m\u001B[43miterator\u001B[49m\u001B[43m)\u001B[49m:\n\u001B[0;32m   1089\u001B[0m     \u001B[38;5;28;01mpass\u001B[39;00m\n\u001B[0;32m   1091\u001B[0m \u001B[38;5;28;01mif\u001B[39;00m pre_dispatch \u001B[38;5;241m==\u001B[39m \u001B[38;5;124m\"\u001B[39m\u001B[38;5;124mall\u001B[39m\u001B[38;5;124m\"\u001B[39m \u001B[38;5;129;01mor\u001B[39;00m n_jobs \u001B[38;5;241m==\u001B[39m \u001B[38;5;241m1\u001B[39m:\n\u001B[0;32m   1092\u001B[0m     \u001B[38;5;66;03m# The iterable was consumed all at once by the above for loop.\u001B[39;00m\n\u001B[0;32m   1093\u001B[0m     \u001B[38;5;66;03m# No need to wait for async callbacks to trigger to\u001B[39;00m\n\u001B[0;32m   1094\u001B[0m     \u001B[38;5;66;03m# consumption.\u001B[39;00m\n",
      "File \u001B[1;32m~\\.virtualenvs\\MD2-NovaiZ3s\\Lib\\site-packages\\joblib\\parallel.py:901\u001B[0m, in \u001B[0;36mParallel.dispatch_one_batch\u001B[1;34m(self, iterator)\u001B[0m\n\u001B[0;32m    899\u001B[0m     \u001B[38;5;28;01mreturn\u001B[39;00m \u001B[38;5;28;01mFalse\u001B[39;00m\n\u001B[0;32m    900\u001B[0m \u001B[38;5;28;01melse\u001B[39;00m:\n\u001B[1;32m--> 901\u001B[0m     \u001B[38;5;28;43mself\u001B[39;49m\u001B[38;5;241;43m.\u001B[39;49m\u001B[43m_dispatch\u001B[49m\u001B[43m(\u001B[49m\u001B[43mtasks\u001B[49m\u001B[43m)\u001B[49m\n\u001B[0;32m    902\u001B[0m     \u001B[38;5;28;01mreturn\u001B[39;00m \u001B[38;5;28;01mTrue\u001B[39;00m\n",
      "File \u001B[1;32m~\\.virtualenvs\\MD2-NovaiZ3s\\Lib\\site-packages\\joblib\\parallel.py:819\u001B[0m, in \u001B[0;36mParallel._dispatch\u001B[1;34m(self, batch)\u001B[0m\n\u001B[0;32m    817\u001B[0m \u001B[38;5;28;01mwith\u001B[39;00m \u001B[38;5;28mself\u001B[39m\u001B[38;5;241m.\u001B[39m_lock:\n\u001B[0;32m    818\u001B[0m     job_idx \u001B[38;5;241m=\u001B[39m \u001B[38;5;28mlen\u001B[39m(\u001B[38;5;28mself\u001B[39m\u001B[38;5;241m.\u001B[39m_jobs)\n\u001B[1;32m--> 819\u001B[0m     job \u001B[38;5;241m=\u001B[39m \u001B[38;5;28;43mself\u001B[39;49m\u001B[38;5;241;43m.\u001B[39;49m\u001B[43m_backend\u001B[49m\u001B[38;5;241;43m.\u001B[39;49m\u001B[43mapply_async\u001B[49m\u001B[43m(\u001B[49m\u001B[43mbatch\u001B[49m\u001B[43m,\u001B[49m\u001B[43m \u001B[49m\u001B[43mcallback\u001B[49m\u001B[38;5;241;43m=\u001B[39;49m\u001B[43mcb\u001B[49m\u001B[43m)\u001B[49m\n\u001B[0;32m    820\u001B[0m     \u001B[38;5;66;03m# A job can complete so quickly than its callback is\u001B[39;00m\n\u001B[0;32m    821\u001B[0m     \u001B[38;5;66;03m# called before we get here, causing self._jobs to\u001B[39;00m\n\u001B[0;32m    822\u001B[0m     \u001B[38;5;66;03m# grow. To ensure correct results ordering, .insert is\u001B[39;00m\n\u001B[0;32m    823\u001B[0m     \u001B[38;5;66;03m# used (rather than .append) in the following line\u001B[39;00m\n\u001B[0;32m    824\u001B[0m     \u001B[38;5;28mself\u001B[39m\u001B[38;5;241m.\u001B[39m_jobs\u001B[38;5;241m.\u001B[39minsert(job_idx, job)\n",
      "File \u001B[1;32m~\\.virtualenvs\\MD2-NovaiZ3s\\Lib\\site-packages\\joblib\\_parallel_backends.py:208\u001B[0m, in \u001B[0;36mSequentialBackend.apply_async\u001B[1;34m(self, func, callback)\u001B[0m\n\u001B[0;32m    206\u001B[0m \u001B[38;5;28;01mdef\u001B[39;00m \u001B[38;5;21mapply_async\u001B[39m(\u001B[38;5;28mself\u001B[39m, func, callback\u001B[38;5;241m=\u001B[39m\u001B[38;5;28;01mNone\u001B[39;00m):\n\u001B[0;32m    207\u001B[0m \u001B[38;5;250m    \u001B[39m\u001B[38;5;124;03m\"\"\"Schedule a func to be run\"\"\"\u001B[39;00m\n\u001B[1;32m--> 208\u001B[0m     result \u001B[38;5;241m=\u001B[39m \u001B[43mImmediateResult\u001B[49m\u001B[43m(\u001B[49m\u001B[43mfunc\u001B[49m\u001B[43m)\u001B[49m\n\u001B[0;32m    209\u001B[0m     \u001B[38;5;28;01mif\u001B[39;00m callback:\n\u001B[0;32m    210\u001B[0m         callback(result)\n",
      "File \u001B[1;32m~\\.virtualenvs\\MD2-NovaiZ3s\\Lib\\site-packages\\joblib\\_parallel_backends.py:597\u001B[0m, in \u001B[0;36mImmediateResult.__init__\u001B[1;34m(self, batch)\u001B[0m\n\u001B[0;32m    594\u001B[0m \u001B[38;5;28;01mdef\u001B[39;00m \u001B[38;5;21m__init__\u001B[39m(\u001B[38;5;28mself\u001B[39m, batch):\n\u001B[0;32m    595\u001B[0m     \u001B[38;5;66;03m# Don't delay the application, to avoid keeping the input\u001B[39;00m\n\u001B[0;32m    596\u001B[0m     \u001B[38;5;66;03m# arguments in memory\u001B[39;00m\n\u001B[1;32m--> 597\u001B[0m     \u001B[38;5;28mself\u001B[39m\u001B[38;5;241m.\u001B[39mresults \u001B[38;5;241m=\u001B[39m \u001B[43mbatch\u001B[49m\u001B[43m(\u001B[49m\u001B[43m)\u001B[49m\n",
      "File \u001B[1;32m~\\.virtualenvs\\MD2-NovaiZ3s\\Lib\\site-packages\\joblib\\parallel.py:288\u001B[0m, in \u001B[0;36mBatchedCalls.__call__\u001B[1;34m(self)\u001B[0m\n\u001B[0;32m    284\u001B[0m \u001B[38;5;28;01mdef\u001B[39;00m \u001B[38;5;21m__call__\u001B[39m(\u001B[38;5;28mself\u001B[39m):\n\u001B[0;32m    285\u001B[0m     \u001B[38;5;66;03m# Set the default nested backend to self._backend but do not set the\u001B[39;00m\n\u001B[0;32m    286\u001B[0m     \u001B[38;5;66;03m# change the default number of processes to -1\u001B[39;00m\n\u001B[0;32m    287\u001B[0m     \u001B[38;5;28;01mwith\u001B[39;00m parallel_backend(\u001B[38;5;28mself\u001B[39m\u001B[38;5;241m.\u001B[39m_backend, n_jobs\u001B[38;5;241m=\u001B[39m\u001B[38;5;28mself\u001B[39m\u001B[38;5;241m.\u001B[39m_n_jobs):\n\u001B[1;32m--> 288\u001B[0m         \u001B[38;5;28;01mreturn\u001B[39;00m \u001B[43m[\u001B[49m\u001B[43mfunc\u001B[49m\u001B[43m(\u001B[49m\u001B[38;5;241;43m*\u001B[39;49m\u001B[43margs\u001B[49m\u001B[43m,\u001B[49m\u001B[43m \u001B[49m\u001B[38;5;241;43m*\u001B[39;49m\u001B[38;5;241;43m*\u001B[39;49m\u001B[43mkwargs\u001B[49m\u001B[43m)\u001B[49m\n\u001B[0;32m    289\u001B[0m \u001B[43m                \u001B[49m\u001B[38;5;28;43;01mfor\u001B[39;49;00m\u001B[43m \u001B[49m\u001B[43mfunc\u001B[49m\u001B[43m,\u001B[49m\u001B[43m \u001B[49m\u001B[43margs\u001B[49m\u001B[43m,\u001B[49m\u001B[43m \u001B[49m\u001B[43mkwargs\u001B[49m\u001B[43m \u001B[49m\u001B[38;5;129;43;01min\u001B[39;49;00m\u001B[43m \u001B[49m\u001B[38;5;28;43mself\u001B[39;49m\u001B[38;5;241;43m.\u001B[39;49m\u001B[43mitems\u001B[49m\u001B[43m]\u001B[49m\n",
      "File \u001B[1;32m~\\.virtualenvs\\MD2-NovaiZ3s\\Lib\\site-packages\\joblib\\parallel.py:288\u001B[0m, in \u001B[0;36m<listcomp>\u001B[1;34m(.0)\u001B[0m\n\u001B[0;32m    284\u001B[0m \u001B[38;5;28;01mdef\u001B[39;00m \u001B[38;5;21m__call__\u001B[39m(\u001B[38;5;28mself\u001B[39m):\n\u001B[0;32m    285\u001B[0m     \u001B[38;5;66;03m# Set the default nested backend to self._backend but do not set the\u001B[39;00m\n\u001B[0;32m    286\u001B[0m     \u001B[38;5;66;03m# change the default number of processes to -1\u001B[39;00m\n\u001B[0;32m    287\u001B[0m     \u001B[38;5;28;01mwith\u001B[39;00m parallel_backend(\u001B[38;5;28mself\u001B[39m\u001B[38;5;241m.\u001B[39m_backend, n_jobs\u001B[38;5;241m=\u001B[39m\u001B[38;5;28mself\u001B[39m\u001B[38;5;241m.\u001B[39m_n_jobs):\n\u001B[1;32m--> 288\u001B[0m         \u001B[38;5;28;01mreturn\u001B[39;00m [\u001B[43mfunc\u001B[49m\u001B[43m(\u001B[49m\u001B[38;5;241;43m*\u001B[39;49m\u001B[43margs\u001B[49m\u001B[43m,\u001B[49m\u001B[43m \u001B[49m\u001B[38;5;241;43m*\u001B[39;49m\u001B[38;5;241;43m*\u001B[39;49m\u001B[43mkwargs\u001B[49m\u001B[43m)\u001B[49m\n\u001B[0;32m    289\u001B[0m                 \u001B[38;5;28;01mfor\u001B[39;00m func, args, kwargs \u001B[38;5;129;01min\u001B[39;00m \u001B[38;5;28mself\u001B[39m\u001B[38;5;241m.\u001B[39mitems]\n",
      "File \u001B[1;32m~\\.virtualenvs\\MD2-NovaiZ3s\\Lib\\site-packages\\sklearn\\utils\\parallel.py:123\u001B[0m, in \u001B[0;36m_FuncWrapper.__call__\u001B[1;34m(self, *args, **kwargs)\u001B[0m\n\u001B[0;32m    121\u001B[0m     config \u001B[38;5;241m=\u001B[39m {}\n\u001B[0;32m    122\u001B[0m \u001B[38;5;28;01mwith\u001B[39;00m config_context(\u001B[38;5;241m*\u001B[39m\u001B[38;5;241m*\u001B[39mconfig):\n\u001B[1;32m--> 123\u001B[0m     \u001B[38;5;28;01mreturn\u001B[39;00m \u001B[38;5;28;43mself\u001B[39;49m\u001B[38;5;241;43m.\u001B[39;49m\u001B[43mfunction\u001B[49m\u001B[43m(\u001B[49m\u001B[38;5;241;43m*\u001B[39;49m\u001B[43margs\u001B[49m\u001B[43m,\u001B[49m\u001B[43m \u001B[49m\u001B[38;5;241;43m*\u001B[39;49m\u001B[38;5;241;43m*\u001B[39;49m\u001B[43mkwargs\u001B[49m\u001B[43m)\u001B[49m\n",
      "File \u001B[1;32m~\\.virtualenvs\\MD2-NovaiZ3s\\Lib\\site-packages\\sklearn\\model_selection\\_validation.py:686\u001B[0m, in \u001B[0;36m_fit_and_score\u001B[1;34m(estimator, X, y, scorer, train, test, verbose, parameters, fit_params, return_train_score, return_parameters, return_n_test_samples, return_times, return_estimator, split_progress, candidate_progress, error_score)\u001B[0m\n\u001B[0;32m    684\u001B[0m         estimator\u001B[38;5;241m.\u001B[39mfit(X_train, \u001B[38;5;241m*\u001B[39m\u001B[38;5;241m*\u001B[39mfit_params)\n\u001B[0;32m    685\u001B[0m     \u001B[38;5;28;01melse\u001B[39;00m:\n\u001B[1;32m--> 686\u001B[0m         \u001B[43mestimator\u001B[49m\u001B[38;5;241;43m.\u001B[39;49m\u001B[43mfit\u001B[49m\u001B[43m(\u001B[49m\u001B[43mX_train\u001B[49m\u001B[43m,\u001B[49m\u001B[43m \u001B[49m\u001B[43my_train\u001B[49m\u001B[43m,\u001B[49m\u001B[43m \u001B[49m\u001B[38;5;241;43m*\u001B[39;49m\u001B[38;5;241;43m*\u001B[39;49m\u001B[43mfit_params\u001B[49m\u001B[43m)\u001B[49m\n\u001B[0;32m    688\u001B[0m \u001B[38;5;28;01mexcept\u001B[39;00m \u001B[38;5;167;01mException\u001B[39;00m:\n\u001B[0;32m    689\u001B[0m     \u001B[38;5;66;03m# Note fit time as time until error\u001B[39;00m\n\u001B[0;32m    690\u001B[0m     fit_time \u001B[38;5;241m=\u001B[39m time\u001B[38;5;241m.\u001B[39mtime() \u001B[38;5;241m-\u001B[39m start_time\n",
      "File \u001B[1;32m~\\.virtualenvs\\MD2-NovaiZ3s\\Lib\\site-packages\\sklearn\\svm\\_base.py:252\u001B[0m, in \u001B[0;36mBaseLibSVM.fit\u001B[1;34m(self, X, y, sample_weight)\u001B[0m\n\u001B[0;32m    249\u001B[0m     \u001B[38;5;28mprint\u001B[39m(\u001B[38;5;124m\"\u001B[39m\u001B[38;5;124m[LibSVM]\u001B[39m\u001B[38;5;124m\"\u001B[39m, end\u001B[38;5;241m=\u001B[39m\u001B[38;5;124m\"\u001B[39m\u001B[38;5;124m\"\u001B[39m)\n\u001B[0;32m    251\u001B[0m seed \u001B[38;5;241m=\u001B[39m rnd\u001B[38;5;241m.\u001B[39mrandint(np\u001B[38;5;241m.\u001B[39miinfo(\u001B[38;5;124m\"\u001B[39m\u001B[38;5;124mi\u001B[39m\u001B[38;5;124m\"\u001B[39m)\u001B[38;5;241m.\u001B[39mmax)\n\u001B[1;32m--> 252\u001B[0m \u001B[43mfit\u001B[49m\u001B[43m(\u001B[49m\u001B[43mX\u001B[49m\u001B[43m,\u001B[49m\u001B[43m \u001B[49m\u001B[43my\u001B[49m\u001B[43m,\u001B[49m\u001B[43m \u001B[49m\u001B[43msample_weight\u001B[49m\u001B[43m,\u001B[49m\u001B[43m \u001B[49m\u001B[43msolver_type\u001B[49m\u001B[43m,\u001B[49m\u001B[43m \u001B[49m\u001B[43mkernel\u001B[49m\u001B[43m,\u001B[49m\u001B[43m \u001B[49m\u001B[43mrandom_seed\u001B[49m\u001B[38;5;241;43m=\u001B[39;49m\u001B[43mseed\u001B[49m\u001B[43m)\u001B[49m\n\u001B[0;32m    253\u001B[0m \u001B[38;5;66;03m# see comment on the other call to np.iinfo in this file\u001B[39;00m\n\u001B[0;32m    255\u001B[0m \u001B[38;5;28mself\u001B[39m\u001B[38;5;241m.\u001B[39mshape_fit_ \u001B[38;5;241m=\u001B[39m X\u001B[38;5;241m.\u001B[39mshape \u001B[38;5;28;01mif\u001B[39;00m \u001B[38;5;28mhasattr\u001B[39m(X, \u001B[38;5;124m\"\u001B[39m\u001B[38;5;124mshape\u001B[39m\u001B[38;5;124m\"\u001B[39m) \u001B[38;5;28;01melse\u001B[39;00m (n_samples,)\n",
      "File \u001B[1;32m~\\.virtualenvs\\MD2-NovaiZ3s\\Lib\\site-packages\\sklearn\\svm\\_base.py:331\u001B[0m, in \u001B[0;36mBaseLibSVM._dense_fit\u001B[1;34m(self, X, y, sample_weight, solver_type, kernel, random_seed)\u001B[0m\n\u001B[0;32m    317\u001B[0m libsvm\u001B[38;5;241m.\u001B[39mset_verbosity_wrap(\u001B[38;5;28mself\u001B[39m\u001B[38;5;241m.\u001B[39mverbose)\n\u001B[0;32m    319\u001B[0m \u001B[38;5;66;03m# we don't pass **self.get_params() to allow subclasses to\u001B[39;00m\n\u001B[0;32m    320\u001B[0m \u001B[38;5;66;03m# add other parameters to __init__\u001B[39;00m\n\u001B[0;32m    321\u001B[0m (\n\u001B[0;32m    322\u001B[0m     \u001B[38;5;28mself\u001B[39m\u001B[38;5;241m.\u001B[39msupport_,\n\u001B[0;32m    323\u001B[0m     \u001B[38;5;28mself\u001B[39m\u001B[38;5;241m.\u001B[39msupport_vectors_,\n\u001B[0;32m    324\u001B[0m     \u001B[38;5;28mself\u001B[39m\u001B[38;5;241m.\u001B[39m_n_support,\n\u001B[0;32m    325\u001B[0m     \u001B[38;5;28mself\u001B[39m\u001B[38;5;241m.\u001B[39mdual_coef_,\n\u001B[0;32m    326\u001B[0m     \u001B[38;5;28mself\u001B[39m\u001B[38;5;241m.\u001B[39mintercept_,\n\u001B[0;32m    327\u001B[0m     \u001B[38;5;28mself\u001B[39m\u001B[38;5;241m.\u001B[39m_probA,\n\u001B[0;32m    328\u001B[0m     \u001B[38;5;28mself\u001B[39m\u001B[38;5;241m.\u001B[39m_probB,\n\u001B[0;32m    329\u001B[0m     \u001B[38;5;28mself\u001B[39m\u001B[38;5;241m.\u001B[39mfit_status_,\n\u001B[0;32m    330\u001B[0m     \u001B[38;5;28mself\u001B[39m\u001B[38;5;241m.\u001B[39m_num_iter,\n\u001B[1;32m--> 331\u001B[0m ) \u001B[38;5;241m=\u001B[39m \u001B[43mlibsvm\u001B[49m\u001B[38;5;241;43m.\u001B[39;49m\u001B[43mfit\u001B[49m\u001B[43m(\u001B[49m\n\u001B[0;32m    332\u001B[0m \u001B[43m    \u001B[49m\u001B[43mX\u001B[49m\u001B[43m,\u001B[49m\n\u001B[0;32m    333\u001B[0m \u001B[43m    \u001B[49m\u001B[43my\u001B[49m\u001B[43m,\u001B[49m\n\u001B[0;32m    334\u001B[0m \u001B[43m    \u001B[49m\u001B[43msvm_type\u001B[49m\u001B[38;5;241;43m=\u001B[39;49m\u001B[43msolver_type\u001B[49m\u001B[43m,\u001B[49m\n\u001B[0;32m    335\u001B[0m \u001B[43m    \u001B[49m\u001B[43msample_weight\u001B[49m\u001B[38;5;241;43m=\u001B[39;49m\u001B[43msample_weight\u001B[49m\u001B[43m,\u001B[49m\n\u001B[0;32m    336\u001B[0m \u001B[43m    \u001B[49m\u001B[38;5;66;43;03m# TODO(1.4): Replace \"_class_weight\" with \"class_weight_\"\u001B[39;49;00m\n\u001B[0;32m    337\u001B[0m \u001B[43m    \u001B[49m\u001B[43mclass_weight\u001B[49m\u001B[38;5;241;43m=\u001B[39;49m\u001B[38;5;28;43mgetattr\u001B[39;49m\u001B[43m(\u001B[49m\u001B[38;5;28;43mself\u001B[39;49m\u001B[43m,\u001B[49m\u001B[43m \u001B[49m\u001B[38;5;124;43m\"\u001B[39;49m\u001B[38;5;124;43m_class_weight\u001B[39;49m\u001B[38;5;124;43m\"\u001B[39;49m\u001B[43m,\u001B[49m\u001B[43m \u001B[49m\u001B[43mnp\u001B[49m\u001B[38;5;241;43m.\u001B[39;49m\u001B[43mempty\u001B[49m\u001B[43m(\u001B[49m\u001B[38;5;241;43m0\u001B[39;49m\u001B[43m)\u001B[49m\u001B[43m)\u001B[49m\u001B[43m,\u001B[49m\n\u001B[0;32m    338\u001B[0m \u001B[43m    \u001B[49m\u001B[43mkernel\u001B[49m\u001B[38;5;241;43m=\u001B[39;49m\u001B[43mkernel\u001B[49m\u001B[43m,\u001B[49m\n\u001B[0;32m    339\u001B[0m \u001B[43m    \u001B[49m\u001B[43mC\u001B[49m\u001B[38;5;241;43m=\u001B[39;49m\u001B[38;5;28;43mself\u001B[39;49m\u001B[38;5;241;43m.\u001B[39;49m\u001B[43mC\u001B[49m\u001B[43m,\u001B[49m\n\u001B[0;32m    340\u001B[0m \u001B[43m    \u001B[49m\u001B[43mnu\u001B[49m\u001B[38;5;241;43m=\u001B[39;49m\u001B[38;5;28;43mself\u001B[39;49m\u001B[38;5;241;43m.\u001B[39;49m\u001B[43mnu\u001B[49m\u001B[43m,\u001B[49m\n\u001B[0;32m    341\u001B[0m \u001B[43m    \u001B[49m\u001B[43mprobability\u001B[49m\u001B[38;5;241;43m=\u001B[39;49m\u001B[38;5;28;43mself\u001B[39;49m\u001B[38;5;241;43m.\u001B[39;49m\u001B[43mprobability\u001B[49m\u001B[43m,\u001B[49m\n\u001B[0;32m    342\u001B[0m \u001B[43m    \u001B[49m\u001B[43mdegree\u001B[49m\u001B[38;5;241;43m=\u001B[39;49m\u001B[38;5;28;43mself\u001B[39;49m\u001B[38;5;241;43m.\u001B[39;49m\u001B[43mdegree\u001B[49m\u001B[43m,\u001B[49m\n\u001B[0;32m    343\u001B[0m \u001B[43m    \u001B[49m\u001B[43mshrinking\u001B[49m\u001B[38;5;241;43m=\u001B[39;49m\u001B[38;5;28;43mself\u001B[39;49m\u001B[38;5;241;43m.\u001B[39;49m\u001B[43mshrinking\u001B[49m\u001B[43m,\u001B[49m\n\u001B[0;32m    344\u001B[0m \u001B[43m    \u001B[49m\u001B[43mtol\u001B[49m\u001B[38;5;241;43m=\u001B[39;49m\u001B[38;5;28;43mself\u001B[39;49m\u001B[38;5;241;43m.\u001B[39;49m\u001B[43mtol\u001B[49m\u001B[43m,\u001B[49m\n\u001B[0;32m    345\u001B[0m \u001B[43m    \u001B[49m\u001B[43mcache_size\u001B[49m\u001B[38;5;241;43m=\u001B[39;49m\u001B[38;5;28;43mself\u001B[39;49m\u001B[38;5;241;43m.\u001B[39;49m\u001B[43mcache_size\u001B[49m\u001B[43m,\u001B[49m\n\u001B[0;32m    346\u001B[0m \u001B[43m    \u001B[49m\u001B[43mcoef0\u001B[49m\u001B[38;5;241;43m=\u001B[39;49m\u001B[38;5;28;43mself\u001B[39;49m\u001B[38;5;241;43m.\u001B[39;49m\u001B[43mcoef0\u001B[49m\u001B[43m,\u001B[49m\n\u001B[0;32m    347\u001B[0m \u001B[43m    \u001B[49m\u001B[43mgamma\u001B[49m\u001B[38;5;241;43m=\u001B[39;49m\u001B[38;5;28;43mself\u001B[39;49m\u001B[38;5;241;43m.\u001B[39;49m\u001B[43m_gamma\u001B[49m\u001B[43m,\u001B[49m\n\u001B[0;32m    348\u001B[0m \u001B[43m    \u001B[49m\u001B[43mepsilon\u001B[49m\u001B[38;5;241;43m=\u001B[39;49m\u001B[38;5;28;43mself\u001B[39;49m\u001B[38;5;241;43m.\u001B[39;49m\u001B[43mepsilon\u001B[49m\u001B[43m,\u001B[49m\n\u001B[0;32m    349\u001B[0m \u001B[43m    \u001B[49m\u001B[43mmax_iter\u001B[49m\u001B[38;5;241;43m=\u001B[39;49m\u001B[38;5;28;43mself\u001B[39;49m\u001B[38;5;241;43m.\u001B[39;49m\u001B[43mmax_iter\u001B[49m\u001B[43m,\u001B[49m\n\u001B[0;32m    350\u001B[0m \u001B[43m    \u001B[49m\u001B[43mrandom_seed\u001B[49m\u001B[38;5;241;43m=\u001B[39;49m\u001B[43mrandom_seed\u001B[49m\u001B[43m,\u001B[49m\n\u001B[0;32m    351\u001B[0m \u001B[43m\u001B[49m\u001B[43m)\u001B[49m\n\u001B[0;32m    353\u001B[0m \u001B[38;5;28mself\u001B[39m\u001B[38;5;241m.\u001B[39m_warn_from_fit_status()\n",
      "\u001B[1;31mKeyboardInterrupt\u001B[0m: "
     ]
    }
   ]
  },
  {
   "cell_type": "code",
   "source": [
    "grid.best_params_\n",
    "predic = grid.predict(X_test)\n",
    "print(grid.score(X_test, y_test))\n",
    "print(grid.best_params_)"
   ],
   "metadata": {
    "colab": {
     "base_uri": "https://localhost:8080/"
    },
    "id": "UMwq-l20mlHf",
    "outputId": "3c78e031-013a-450f-ed91-cb6b702061c4"
   },
   "id": "UMwq-l20mlHf",
   "execution_count": null,
   "outputs": []
  },
  {
   "cell_type": "code",
   "execution_count": null,
   "outputs": [],
   "source": [
    "\n",
    "results_df = save_results(grid, X_test, y_test, 'SVC', results_df)\n",
    "\n"
   ],
   "metadata": {
    "collapsed": false
   }
  },
  {
   "cell_type": "markdown",
   "source": [],
   "metadata": {
    "id": "OIXMif8TmkML"
   },
   "id": "OIXMif8TmkML"
  },
  {
   "cell_type": "markdown",
   "source": [],
   "metadata": {
    "id": "Hlm-7Wuol_kn"
   },
   "id": "Hlm-7Wuol_kn"
  },
  {
   "cell_type": "markdown",
   "id": "0ee0b73c",
   "metadata": {
    "id": "0ee0b73c"
   },
   "source": [
    "# Hand owner recognition without Class label\n"
   ]
  },
  {
   "cell_type": "code",
   "execution_count": null,
   "id": "254eeb2d",
   "metadata": {
    "colab": {
     "base_uri": "https://localhost:8080/"
    },
    "id": "254eeb2d",
    "outputId": "0f6c0bd7-614f-4f38-df12-4355fa858f5a"
   },
   "outputs": [],
   "source": [
    "df2 = df.drop(['User'], axis=1)\n",
    "df2 = df2.drop(['Class'], axis=1)\n",
    "labels_Users = df['User']\n",
    "X_train, X_test, y_train, y_test,  = train_test_split(df2, labels_Users, test_size=0.20, random_state=42)\n",
    "\n",
    "clf = SVC(kernel='rbf', gamma=\"auto\", C = 7)\n",
    "clf.fit(X_train, y_train)\n",
    "print(clf.score(X_test, y_test))"
   ]
  },
  {
   "cell_type": "code",
   "execution_count": null,
   "outputs": [],
   "source": [
    "\n",
    "results_df = save_results(clf, X_test, y_test, 'SVC', results_df)\n",
    "\n"
   ],
   "metadata": {
    "collapsed": false
   }
  },
  {
   "cell_type": "markdown",
   "source": [
    "# Gread SearchHand owner recognition without Class label"
   ],
   "metadata": {
    "id": "TksOy9YApsuW"
   },
   "id": "TksOy9YApsuW"
  },
  {
   "cell_type": "markdown",
   "source": [],
   "metadata": {
    "id": "55wTsHqlpryQ"
   },
   "id": "55wTsHqlpryQ"
  },
  {
   "cell_type": "code",
   "execution_count": null,
   "id": "780e1058",
   "metadata": {
    "colab": {
     "base_uri": "https://localhost:8080/",
     "height": 1000
    },
    "id": "780e1058",
    "outputId": "dc4e36b6-e1f9-46df-cabf-222600570d3c"
   },
   "outputs": [],
   "source": [
    "param_grid = {'C':[1,10,100,1000],\n",
    "              'gamma':[1,0.1,0.001,0.0001], \n",
    "              'kernel':['sigmoid','rbf']}\n",
    "\n",
    "grid = GridSearchCV(SVC(),param_grid,refit = True, verbose=2)\n",
    "\n",
    "grid.fit(X_train,y_train)"
   ]
  },
  {
   "cell_type": "code",
   "source": [
    "grid.best_params_\n",
    "predic = grid.predict(X_test)\n",
    "print(grid.score(X_test, y_test))\n",
    "print(grid.best_params_)"
   ],
   "metadata": {
    "colab": {
     "base_uri": "https://localhost:8080/"
    },
    "id": "QzUMWsbJp6-r",
    "outputId": "cd78bd56-21d6-46c5-9136-0821f5b70ceb"
   },
   "id": "QzUMWsbJp6-r",
   "execution_count": null,
   "outputs": []
  },
  {
   "cell_type": "code",
   "execution_count": null,
   "outputs": [],
   "source": [
    "results_df = save_results(clf, X_test, y_test, 'SVC', results_df)\n",
    "\n"
   ],
   "metadata": {
    "collapsed": false
   }
  },
  {
   "cell_type": "markdown",
   "source": [
    "# Random Forest"
   ],
   "metadata": {
    "id": "d6-fQM1-rNVb"
   },
   "id": "d6-fQM1-rNVb"
  },
  {
   "cell_type": "code",
   "source": [
    "from sklearn.ensemble import RandomForestClassifier\n",
    "from sklearn.datasets import make_classification"
   ],
   "metadata": {
    "id": "88SjR0VMruck"
   },
   "id": "88SjR0VMruck",
   "execution_count": null,
   "outputs": []
  },
  {
   "cell_type": "code",
   "source": [
    "# dataset_path = 'allUsers.lcl.csv'\n",
    "\n",
    "df = pd.read_csv(dataset_path)\n",
    "#knn Cannot work with mining data, so replace them with a 0\n",
    "df = df.replace('?', 0)\n",
    "#df = df.dropna(thresh=len(df) * 0.10, axis=1)\n"
   ],
   "metadata": {
    "id": "Woj1x8nXrNCX"
   },
   "id": "Woj1x8nXrNCX",
   "execution_count": null,
   "outputs": []
  },
  {
   "cell_type": "markdown",
   "source": [
    "# Class recognition with User label"
   ],
   "metadata": {
    "id": "8aYevJyJramt"
   },
   "id": "8aYevJyJramt"
  },
  {
   "cell_type": "code",
   "source": [
    "df2 = df.drop(['User'], axis=1)\n",
    "labels_Users = df['User']\n",
    "X_train, X_test, y_train, y_test,  = train_test_split(df2, labels_Users, test_size=0.20, random_state=42)"
   ],
   "metadata": {
    "id": "AkYTHzyorbyG"
   },
   "id": "AkYTHzyorbyG",
   "execution_count": null,
   "outputs": []
  },
  {
   "cell_type": "code",
   "source": [
    "clf = RandomForestClassifier(max_depth=200, random_state=10)\n",
    "clf.fit(X_train, y_train)\n",
    "clf.score(X_test, y_test)"
   ],
   "metadata": {
    "colab": {
     "base_uri": "https://localhost:8080/"
    },
    "id": "TM2z8jcjr1IB",
    "outputId": "4feb0384-834c-4323-9cc8-9b1878565c67"
   },
   "id": "TM2z8jcjr1IB",
   "execution_count": null,
   "outputs": []
  },
  {
   "cell_type": "code",
   "execution_count": null,
   "outputs": [],
   "source": [
    "results_df = save_results(clf, X_test, y_test, 'Random forest', results_df)\n",
    "\n"
   ],
   "metadata": {
    "collapsed": false
   }
  },
  {
   "cell_type": "markdown",
   "source": [
    "# Gread Search"
   ],
   "metadata": {
    "id": "gCSpeBrHsgrR"
   },
   "id": "gCSpeBrHsgrR"
  },
  {
   "cell_type": "markdown",
   "source": [
    "## Show results:"
   ],
   "metadata": {
    "collapsed": false
   }
  },
  {
   "cell_type": "code",
   "execution_count": 66,
   "outputs": [
    {
     "data": {
      "text/plain": "          acc      prec    recall  test f1 score (W)\nKNN  0.864661  0.863969  0.864661           0.796469\nSVC  0.251613  0.660048  0.251613           0.127833",
      "text/html": "<div>\n<style scoped>\n    .dataframe tbody tr th:only-of-type {\n        vertical-align: middle;\n    }\n\n    .dataframe tbody tr th {\n        vertical-align: top;\n    }\n\n    .dataframe thead th {\n        text-align: right;\n    }\n</style>\n<table border=\"1\" class=\"dataframe\">\n  <thead>\n    <tr style=\"text-align: right;\">\n      <th></th>\n      <th>acc</th>\n      <th>prec</th>\n      <th>recall</th>\n      <th>test f1 score (W)</th>\n    </tr>\n  </thead>\n  <tbody>\n    <tr>\n      <th>KNN</th>\n      <td>0.864661</td>\n      <td>0.863969</td>\n      <td>0.864661</td>\n      <td>0.796469</td>\n    </tr>\n    <tr>\n      <th>SVC</th>\n      <td>0.251613</td>\n      <td>0.660048</td>\n      <td>0.251613</td>\n      <td>0.127833</td>\n    </tr>\n  </tbody>\n</table>\n</div>"
     },
     "execution_count": 66,
     "metadata": {},
     "output_type": "execute_result"
    }
   ],
   "source": [
    "results_df.sort_values(by=['acc'], ascending=False)\n",
    "\n"
   ],
   "metadata": {
    "collapsed": false,
    "ExecuteTime": {
     "end_time": "2023-05-19T17:26:25.461705100Z",
     "start_time": "2023-05-19T17:26:25.449412500Z"
    }
   }
  },
  {
   "cell_type": "code",
   "execution_count": null,
   "outputs": [],
   "source": [],
   "metadata": {
    "collapsed": false
   }
  }
 ],
 "metadata": {
  "kernelspec": {
   "display_name": "Python 3 (ipykernel)",
   "language": "python",
   "name": "python3"
  },
  "language_info": {
   "codemirror_mode": {
    "name": "ipython",
    "version": 3
   },
   "file_extension": ".py",
   "mimetype": "text/x-python",
   "name": "python",
   "nbconvert_exporter": "python",
   "pygments_lexer": "ipython3",
   "version": "3.9.13"
  },
  "colab": {
   "provenance": []
  }
 },
 "nbformat": 4,
 "nbformat_minor": 5
}
