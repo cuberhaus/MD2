{
 "cells": [
  {
   "cell_type": "code",
   "execution_count": 1,
   "id": "ba5c8737",
   "metadata": {
    "id": "ba5c8737",
    "ExecuteTime": {
     "end_time": "2023-05-08T12:55:18.437931123Z",
     "start_time": "2023-05-08T12:55:14.814163801Z"
    }
   },
   "outputs": [],
   "source": [
    "from sklearn.neighbors import KNeighborsClassifier\n",
    "from sklearn.svm import SVC\n",
    "from sklearn.dummy import DummyClassifier\n",
    "from sklearn.model_selection import cross_val_score, GridSearchCV, ParameterGrid, train_test_split\n",
    "from sklearn import metrics\n",
    "\n",
    "import pandas as pd\n",
    "import numpy as np\n",
    "\n",
    "from sklearn.neighbors import KNeighborsClassifier\n",
    "\n",
    "# # import warnings filter\n",
    "# from warnings import simplefilter\n",
    "# # ignore all future warnings\n",
    "# simplefilter(action='ignore', category=FutureWarning)"
   ]
  },
  {
   "cell_type": "code",
   "execution_count": 2,
   "id": "e7814250",
   "metadata": {
    "id": "e7814250",
    "ExecuteTime": {
     "end_time": "2023-05-08T12:55:20.479819824Z",
     "start_time": "2023-05-08T12:55:18.422518241Z"
    }
   },
   "outputs": [],
   "source": [
    "# dataset_path = 'allUsers.lcl.csv'\n",
    "dataset_path = \"../data/tommaso_data/allUsers.lcl.csv\"\n",
    "\n",
    "df = pd.read_csv(dataset_path)\n",
    "#knn Cannot work with mining data, so replace them with a 0\n",
    "df = df.replace('?', 0)\n",
    "#df = df.dropna(thresh=len(df) * 0.10, axis=1)\n",
    "\n"
   ]
  },
  {
   "cell_type": "code",
   "execution_count": 3,
   "outputs": [],
   "source": [
    "from sklearn.metrics import accuracy_score, f1_score\n",
    "\n",
    "def save_results(clf, X_test, y_test, nclf, dataf):\n",
    "    dataf.loc[nclf, 'test acc'] = accuracy_score(y_test, clf.predict(X_test))\n",
    "    # dataf.loc[nclf, 'test f1 score (0)'] = f1_score(y_test, clf.predict(X_test), pos_label=0)\n",
    "    # dataf.loc[nclf, 'test f1 score (1)'] = f1_score(y_test, clf.predict(X_test), pos_label=1)\n",
    "    dataf.loc[nclf, 'test f1 score (W)'] = f1_score(y_test, clf.predict(X_test), average='macro')\n",
    "    # df.loc[nclf,'ROC AUC'] = roc_auc_score(y_test, clf.predict_proba(X_test)[:,1])\n",
    "    return dataf\n",
    "\n",
    "results_df = pd.DataFrame()\n",
    "\n"
   ],
   "metadata": {
    "collapsed": false,
    "ExecuteTime": {
     "end_time": "2023-05-08T12:55:20.492546775Z",
     "start_time": "2023-05-08T12:55:20.486417676Z"
    }
   }
  },
  {
   "cell_type": "markdown",
   "id": "5c618663",
   "metadata": {
    "id": "5c618663"
   },
   "source": [
    "# KNN"
   ]
  },
  {
   "cell_type": "markdown",
   "id": "f6f19a8d",
   "metadata": {
    "id": "f6f19a8d"
   },
   "source": [
    "# Class recognition with User label"
   ]
  },
  {
   "cell_type": "code",
   "execution_count": 4,
   "id": "2518a4a1",
   "metadata": {
    "id": "2518a4a1",
    "ExecuteTime": {
     "end_time": "2023-05-08T12:55:20.741824907Z",
     "start_time": "2023-05-08T12:55:20.497627808Z"
    }
   },
   "outputs": [],
   "source": [
    "df2 = df.drop(['Class'], axis=1)\n",
    "labels_Class = df['Class']\n",
    "\n",
    "\n",
    "X_train, X_test, y_train, y_test,  = train_test_split(df2, labels_Class, test_size=0.20, random_state=42)\n"
   ]
  },
  {
   "cell_type": "markdown",
   "id": "9aada6bf",
   "metadata": {
    "id": "9aada6bf"
   },
   "source": []
  },
  {
   "cell_type": "code",
   "execution_count": 5,
   "id": "f01a4953",
   "metadata": {
    "colab": {
     "base_uri": "https://localhost:8080/",
     "height": 74
    },
    "id": "f01a4953",
    "outputId": "4618c184-f135-42b1-f003-65ec39c49242",
    "ExecuteTime": {
     "end_time": "2023-05-08T12:55:21.321920029Z",
     "start_time": "2023-05-08T12:55:20.768056436Z"
    }
   },
   "outputs": [
    {
     "data": {
      "text/plain": "KNeighborsClassifier(n_neighbors=1)",
      "text/html": "<style>#sk-container-id-1 {color: black;background-color: white;}#sk-container-id-1 pre{padding: 0;}#sk-container-id-1 div.sk-toggleable {background-color: white;}#sk-container-id-1 label.sk-toggleable__label {cursor: pointer;display: block;width: 100%;margin-bottom: 0;padding: 0.3em;box-sizing: border-box;text-align: center;}#sk-container-id-1 label.sk-toggleable__label-arrow:before {content: \"▸\";float: left;margin-right: 0.25em;color: #696969;}#sk-container-id-1 label.sk-toggleable__label-arrow:hover:before {color: black;}#sk-container-id-1 div.sk-estimator:hover label.sk-toggleable__label-arrow:before {color: black;}#sk-container-id-1 div.sk-toggleable__content {max-height: 0;max-width: 0;overflow: hidden;text-align: left;background-color: #f0f8ff;}#sk-container-id-1 div.sk-toggleable__content pre {margin: 0.2em;color: black;border-radius: 0.25em;background-color: #f0f8ff;}#sk-container-id-1 input.sk-toggleable__control:checked~div.sk-toggleable__content {max-height: 200px;max-width: 100%;overflow: auto;}#sk-container-id-1 input.sk-toggleable__control:checked~label.sk-toggleable__label-arrow:before {content: \"▾\";}#sk-container-id-1 div.sk-estimator input.sk-toggleable__control:checked~label.sk-toggleable__label {background-color: #d4ebff;}#sk-container-id-1 div.sk-label input.sk-toggleable__control:checked~label.sk-toggleable__label {background-color: #d4ebff;}#sk-container-id-1 input.sk-hidden--visually {border: 0;clip: rect(1px 1px 1px 1px);clip: rect(1px, 1px, 1px, 1px);height: 1px;margin: -1px;overflow: hidden;padding: 0;position: absolute;width: 1px;}#sk-container-id-1 div.sk-estimator {font-family: monospace;background-color: #f0f8ff;border: 1px dotted black;border-radius: 0.25em;box-sizing: border-box;margin-bottom: 0.5em;}#sk-container-id-1 div.sk-estimator:hover {background-color: #d4ebff;}#sk-container-id-1 div.sk-parallel-item::after {content: \"\";width: 100%;border-bottom: 1px solid gray;flex-grow: 1;}#sk-container-id-1 div.sk-label:hover label.sk-toggleable__label {background-color: #d4ebff;}#sk-container-id-1 div.sk-serial::before {content: \"\";position: absolute;border-left: 1px solid gray;box-sizing: border-box;top: 0;bottom: 0;left: 50%;z-index: 0;}#sk-container-id-1 div.sk-serial {display: flex;flex-direction: column;align-items: center;background-color: white;padding-right: 0.2em;padding-left: 0.2em;position: relative;}#sk-container-id-1 div.sk-item {position: relative;z-index: 1;}#sk-container-id-1 div.sk-parallel {display: flex;align-items: stretch;justify-content: center;background-color: white;position: relative;}#sk-container-id-1 div.sk-item::before, #sk-container-id-1 div.sk-parallel-item::before {content: \"\";position: absolute;border-left: 1px solid gray;box-sizing: border-box;top: 0;bottom: 0;left: 50%;z-index: -1;}#sk-container-id-1 div.sk-parallel-item {display: flex;flex-direction: column;z-index: 1;position: relative;background-color: white;}#sk-container-id-1 div.sk-parallel-item:first-child::after {align-self: flex-end;width: 50%;}#sk-container-id-1 div.sk-parallel-item:last-child::after {align-self: flex-start;width: 50%;}#sk-container-id-1 div.sk-parallel-item:only-child::after {width: 0;}#sk-container-id-1 div.sk-dashed-wrapped {border: 1px dashed gray;margin: 0 0.4em 0.5em 0.4em;box-sizing: border-box;padding-bottom: 0.4em;background-color: white;}#sk-container-id-1 div.sk-label label {font-family: monospace;font-weight: bold;display: inline-block;line-height: 1.2em;}#sk-container-id-1 div.sk-label-container {text-align: center;}#sk-container-id-1 div.sk-container {/* jupyter's `normalize.less` sets `[hidden] { display: none; }` but bootstrap.min.css set `[hidden] { display: none !important; }` so we also need the `!important` here to be able to override the default hidden behavior on the sphinx rendered scikit-learn.org. See: https://github.com/scikit-learn/scikit-learn/issues/21755 */display: inline-block !important;position: relative;}#sk-container-id-1 div.sk-text-repr-fallback {display: none;}</style><div id=\"sk-container-id-1\" class=\"sk-top-container\"><div class=\"sk-text-repr-fallback\"><pre>KNeighborsClassifier(n_neighbors=1)</pre><b>In a Jupyter environment, please rerun this cell to show the HTML representation or trust the notebook. <br />On GitHub, the HTML representation is unable to render, please try loading this page with nbviewer.org.</b></div><div class=\"sk-container\" hidden><div class=\"sk-item\"><div class=\"sk-estimator sk-toggleable\"><input class=\"sk-toggleable__control sk-hidden--visually\" id=\"sk-estimator-id-1\" type=\"checkbox\" checked><label for=\"sk-estimator-id-1\" class=\"sk-toggleable__label sk-toggleable__label-arrow\">KNeighborsClassifier</label><div class=\"sk-toggleable__content\"><pre>KNeighborsClassifier(n_neighbors=1)</pre></div></div></div></div></div>"
     },
     "execution_count": 5,
     "metadata": {},
     "output_type": "execute_result"
    }
   ],
   "source": [
    "from sklearn.neighbors import KNeighborsClassifier\n",
    "knn = KNeighborsClassifier(n_neighbors=1)\n",
    "knn.fit(X_train, y_train)\n"
   ]
  },
  {
   "cell_type": "code",
   "execution_count": 6,
   "id": "7f99c82e",
   "metadata": {
    "colab": {
     "base_uri": "https://localhost:8080/"
    },
    "id": "7f99c82e",
    "outputId": "9e0992c9-8921-4c6d-b7c9-c6b868b100f7",
    "ExecuteTime": {
     "end_time": "2023-05-08T12:55:24.873183338Z",
     "start_time": "2023-05-08T12:55:21.323354234Z"
    }
   },
   "outputs": [
    {
     "name": "stdout",
     "output_type": "stream",
     "text": [
      "0.9602432778489116\n"
     ]
    }
   ],
   "source": [
    "print(knn.score(X_test, y_test))\n"
   ]
  },
  {
   "cell_type": "code",
   "execution_count": 7,
   "outputs": [],
   "source": [
    "results_df = save_results(knn, X_test, y_test, 'KNN', results_df)\n",
    "\n"
   ],
   "metadata": {
    "collapsed": false,
    "ExecuteTime": {
     "end_time": "2023-05-08T12:55:31.466712630Z",
     "start_time": "2023-05-08T12:55:24.874142330Z"
    }
   }
  },
  {
   "cell_type": "markdown",
   "id": "eb18a83d",
   "metadata": {
    "id": "eb18a83d"
   },
   "source": []
  },
  {
   "cell_type": "markdown",
   "id": "c52e9d51",
   "metadata": {
    "id": "c52e9d51"
   },
   "source": [
    "# Hand owner recognition with Class label"
   ]
  },
  {
   "cell_type": "code",
   "execution_count": 8,
   "id": "b31cbd01",
   "metadata": {
    "id": "b31cbd01",
    "ExecuteTime": {
     "end_time": "2023-05-08T12:55:31.705255500Z",
     "start_time": "2023-05-08T12:55:31.477982938Z"
    }
   },
   "outputs": [],
   "source": [
    "df2 = df.drop(['User'], axis=1)\n",
    "labels_Users = df['User']\n",
    "X_train, X_test, y_train, y_test,  = train_test_split(df2, labels_Users, test_size=0.20, random_state=42)"
   ]
  },
  {
   "cell_type": "code",
   "execution_count": 9,
   "id": "1f316e77",
   "metadata": {
    "id": "1f316e77",
    "outputId": "847fdf5b-72e3-4dcd-dd39-143814e73984",
    "ExecuteTime": {
     "end_time": "2023-05-08T12:55:32.260329331Z",
     "start_time": "2023-05-08T12:55:31.746056046Z"
    }
   },
   "outputs": [
    {
     "data": {
      "text/plain": "KNeighborsClassifier(n_neighbors=1)",
      "text/html": "<style>#sk-container-id-2 {color: black;background-color: white;}#sk-container-id-2 pre{padding: 0;}#sk-container-id-2 div.sk-toggleable {background-color: white;}#sk-container-id-2 label.sk-toggleable__label {cursor: pointer;display: block;width: 100%;margin-bottom: 0;padding: 0.3em;box-sizing: border-box;text-align: center;}#sk-container-id-2 label.sk-toggleable__label-arrow:before {content: \"▸\";float: left;margin-right: 0.25em;color: #696969;}#sk-container-id-2 label.sk-toggleable__label-arrow:hover:before {color: black;}#sk-container-id-2 div.sk-estimator:hover label.sk-toggleable__label-arrow:before {color: black;}#sk-container-id-2 div.sk-toggleable__content {max-height: 0;max-width: 0;overflow: hidden;text-align: left;background-color: #f0f8ff;}#sk-container-id-2 div.sk-toggleable__content pre {margin: 0.2em;color: black;border-radius: 0.25em;background-color: #f0f8ff;}#sk-container-id-2 input.sk-toggleable__control:checked~div.sk-toggleable__content {max-height: 200px;max-width: 100%;overflow: auto;}#sk-container-id-2 input.sk-toggleable__control:checked~label.sk-toggleable__label-arrow:before {content: \"▾\";}#sk-container-id-2 div.sk-estimator input.sk-toggleable__control:checked~label.sk-toggleable__label {background-color: #d4ebff;}#sk-container-id-2 div.sk-label input.sk-toggleable__control:checked~label.sk-toggleable__label {background-color: #d4ebff;}#sk-container-id-2 input.sk-hidden--visually {border: 0;clip: rect(1px 1px 1px 1px);clip: rect(1px, 1px, 1px, 1px);height: 1px;margin: -1px;overflow: hidden;padding: 0;position: absolute;width: 1px;}#sk-container-id-2 div.sk-estimator {font-family: monospace;background-color: #f0f8ff;border: 1px dotted black;border-radius: 0.25em;box-sizing: border-box;margin-bottom: 0.5em;}#sk-container-id-2 div.sk-estimator:hover {background-color: #d4ebff;}#sk-container-id-2 div.sk-parallel-item::after {content: \"\";width: 100%;border-bottom: 1px solid gray;flex-grow: 1;}#sk-container-id-2 div.sk-label:hover label.sk-toggleable__label {background-color: #d4ebff;}#sk-container-id-2 div.sk-serial::before {content: \"\";position: absolute;border-left: 1px solid gray;box-sizing: border-box;top: 0;bottom: 0;left: 50%;z-index: 0;}#sk-container-id-2 div.sk-serial {display: flex;flex-direction: column;align-items: center;background-color: white;padding-right: 0.2em;padding-left: 0.2em;position: relative;}#sk-container-id-2 div.sk-item {position: relative;z-index: 1;}#sk-container-id-2 div.sk-parallel {display: flex;align-items: stretch;justify-content: center;background-color: white;position: relative;}#sk-container-id-2 div.sk-item::before, #sk-container-id-2 div.sk-parallel-item::before {content: \"\";position: absolute;border-left: 1px solid gray;box-sizing: border-box;top: 0;bottom: 0;left: 50%;z-index: -1;}#sk-container-id-2 div.sk-parallel-item {display: flex;flex-direction: column;z-index: 1;position: relative;background-color: white;}#sk-container-id-2 div.sk-parallel-item:first-child::after {align-self: flex-end;width: 50%;}#sk-container-id-2 div.sk-parallel-item:last-child::after {align-self: flex-start;width: 50%;}#sk-container-id-2 div.sk-parallel-item:only-child::after {width: 0;}#sk-container-id-2 div.sk-dashed-wrapped {border: 1px dashed gray;margin: 0 0.4em 0.5em 0.4em;box-sizing: border-box;padding-bottom: 0.4em;background-color: white;}#sk-container-id-2 div.sk-label label {font-family: monospace;font-weight: bold;display: inline-block;line-height: 1.2em;}#sk-container-id-2 div.sk-label-container {text-align: center;}#sk-container-id-2 div.sk-container {/* jupyter's `normalize.less` sets `[hidden] { display: none; }` but bootstrap.min.css set `[hidden] { display: none !important; }` so we also need the `!important` here to be able to override the default hidden behavior on the sphinx rendered scikit-learn.org. See: https://github.com/scikit-learn/scikit-learn/issues/21755 */display: inline-block !important;position: relative;}#sk-container-id-2 div.sk-text-repr-fallback {display: none;}</style><div id=\"sk-container-id-2\" class=\"sk-top-container\"><div class=\"sk-text-repr-fallback\"><pre>KNeighborsClassifier(n_neighbors=1)</pre><b>In a Jupyter environment, please rerun this cell to show the HTML representation or trust the notebook. <br />On GitHub, the HTML representation is unable to render, please try loading this page with nbviewer.org.</b></div><div class=\"sk-container\" hidden><div class=\"sk-item\"><div class=\"sk-estimator sk-toggleable\"><input class=\"sk-toggleable__control sk-hidden--visually\" id=\"sk-estimator-id-2\" type=\"checkbox\" checked><label for=\"sk-estimator-id-2\" class=\"sk-toggleable__label sk-toggleable__label-arrow\">KNeighborsClassifier</label><div class=\"sk-toggleable__content\"><pre>KNeighborsClassifier(n_neighbors=1)</pre></div></div></div></div></div>"
     },
     "execution_count": 9,
     "metadata": {},
     "output_type": "execute_result"
    }
   ],
   "source": [
    "knn = KNeighborsClassifier(n_neighbors=1)\n",
    "knn.fit(X_train, y_train)\n"
   ]
  },
  {
   "cell_type": "code",
   "execution_count": 10,
   "id": "3238672d",
   "metadata": {
    "id": "3238672d",
    "outputId": "1d576981-4962-4f5d-a629-80a7135ef377",
    "ExecuteTime": {
     "end_time": "2023-05-08T12:55:35.509596203Z",
     "start_time": "2023-05-08T12:55:32.264348813Z"
    }
   },
   "outputs": [
    {
     "name": "stdout",
     "output_type": "stream",
     "text": [
      "0.8646606914212548\n"
     ]
    }
   ],
   "source": [
    "print(knn.score(X_test, y_test))"
   ]
  },
  {
   "cell_type": "code",
   "execution_count": 11,
   "outputs": [],
   "source": [
    "results_df = save_results(knn, X_test, y_test, 'KNN', results_df)\n",
    "\n"
   ],
   "metadata": {
    "collapsed": false,
    "ExecuteTime": {
     "end_time": "2023-05-08T12:55:42.150342228Z",
     "start_time": "2023-05-08T12:55:35.510306049Z"
    }
   }
  },
  {
   "cell_type": "markdown",
   "id": "3c855808",
   "metadata": {
    "id": "3c855808"
   },
   "source": [
    "# Class recognition without User label"
   ]
  },
  {
   "cell_type": "code",
   "execution_count": 12,
   "id": "0b864c6d",
   "metadata": {
    "id": "0b864c6d",
    "ExecuteTime": {
     "end_time": "2023-05-08T12:55:42.429313518Z",
     "start_time": "2023-05-08T12:55:42.164316744Z"
    }
   },
   "outputs": [],
   "source": [
    "df2 = df.drop(['User'], axis=1)\n",
    "df2 = df2.drop(['Class'], axis=1)\n",
    "labels_Class = df['Class']\n",
    "X_train, X_test, y_train, y_test,  = train_test_split(df2, labels_Class, test_size=0.20, random_state=42)"
   ]
  },
  {
   "cell_type": "code",
   "execution_count": 13,
   "id": "1de9b023",
   "metadata": {
    "id": "1de9b023",
    "outputId": "573b7fcf-617d-4df5-8ac1-64ea19f266a6",
    "ExecuteTime": {
     "end_time": "2023-05-08T12:55:46.236961587Z",
     "start_time": "2023-05-08T12:55:42.438736037Z"
    }
   },
   "outputs": [
    {
     "name": "stdout",
     "output_type": "stream",
     "text": [
      "0.9596670934699104\n"
     ]
    }
   ],
   "source": [
    "knn = KNeighborsClassifier(n_neighbors=1)\n",
    "knn.fit(X_train, y_train)\n",
    "print(knn.score(X_test, y_test))"
   ]
  },
  {
   "cell_type": "code",
   "execution_count": 14,
   "outputs": [],
   "source": [
    "results_df = save_results(knn, X_test, y_test, 'KNN', results_df)\n",
    "\n"
   ],
   "metadata": {
    "collapsed": false,
    "ExecuteTime": {
     "end_time": "2023-05-08T12:55:52.927222554Z",
     "start_time": "2023-05-08T12:55:46.215236818Z"
    }
   }
  },
  {
   "cell_type": "markdown",
   "id": "54ec9011",
   "metadata": {
    "id": "54ec9011"
   },
   "source": [
    "# Class recognition without Class label"
   ]
  },
  {
   "cell_type": "code",
   "execution_count": 15,
   "id": "1a987e55",
   "metadata": {
    "id": "1a987e55",
    "ExecuteTime": {
     "end_time": "2023-05-08T12:55:53.224600384Z",
     "start_time": "2023-05-08T12:55:52.937120014Z"
    }
   },
   "outputs": [],
   "source": [
    "df2 = df.drop(['User'], axis=1)\n",
    "df2 = df2.drop(['Class'], axis=1)\n",
    "\n",
    "labels_Users = df['User']\n",
    "X_train, X_test, y_train, y_test,  = train_test_split(df2, labels_Users, test_size=0.20, random_state=42)"
   ]
  },
  {
   "cell_type": "code",
   "execution_count": 16,
   "id": "c4360d7b",
   "metadata": {
    "id": "c4360d7b",
    "outputId": "f4a324ec-eead-40ba-c519-b8df6fec715b",
    "ExecuteTime": {
     "end_time": "2023-05-08T12:55:56.891484505Z",
     "start_time": "2023-05-08T12:55:53.234180871Z"
    }
   },
   "outputs": [
    {
     "name": "stdout",
     "output_type": "stream",
     "text": [
      "0.8646606914212548\n"
     ]
    }
   ],
   "source": [
    "knn = KNeighborsClassifier(n_neighbors=1)\n",
    "knn.fit(X_train, y_train)\n",
    "print(knn.score(X_test, y_test))"
   ]
  },
  {
   "cell_type": "code",
   "execution_count": 17,
   "outputs": [],
   "source": [
    "results_df = save_results(knn, X_test, y_test, 'KNN', results_df)\n",
    "\n"
   ],
   "metadata": {
    "collapsed": false,
    "ExecuteTime": {
     "end_time": "2023-05-08T12:56:04.172655086Z",
     "start_time": "2023-05-08T12:55:56.895849589Z"
    }
   }
  },
  {
   "cell_type": "markdown",
   "id": "eb119607",
   "metadata": {
    "id": "eb119607"
   },
   "source": [
    "# SVM"
   ]
  },
  {
   "cell_type": "code",
   "execution_count": 18,
   "id": "a80b9469",
   "metadata": {
    "colab": {
     "base_uri": "https://localhost:8080/",
     "height": 500
    },
    "id": "a80b9469",
    "outputId": "ea8d6bff-54dd-4e08-e749-f70816e493a8",
    "ExecuteTime": {
     "end_time": "2023-05-08T12:56:07.352299032Z",
     "start_time": "2023-05-08T12:56:04.179478533Z"
    }
   },
   "outputs": [
    {
     "data": {
      "text/plain": "       Class  User         X0          Y0         Z0         X1          Y1  \\\n50         1     0  34.572774   81.964959 -54.302645  56.573274   72.173992   \n56         1     0  56.107673   71.549222 -63.442161  35.519543   81.381341   \n90         1     0  60.180069   10.325333 -70.370529  33.186244   80.794394   \n245        1     0  73.807648   42.206880 -75.330782  33.287076   81.310671   \n255        1     0  58.479582   72.687441 -59.007768  33.226847   81.594443   \n...      ...   ...        ...         ...        ...        ...         ...   \n77933      5    14  88.648724   62.148591 -59.635341  24.678448  137.390008   \n77973      5    14  88.411788   62.176707 -59.551705  27.772889  135.767853   \n78016      5    14  -2.315561  125.339401 -40.717868  55.353795  129.289130   \n78049      5    14  54.971644  128.856882 -44.960160  -1.149147  122.595397   \n78066      5    14  89.053533   59.825298 -63.608312  -1.555037  124.762477   \n\n              Z1         X2          Y2         Z2                 X3  \\\n50    -61.975660  76.879181   42.881450 -72.217103   85.4199625095807   \n56    -54.392213  76.716773   42.096208 -72.971646   85.7467021192531   \n90    -56.559278  85.466683   67.695669 -73.352786   76.0301174866085   \n245   -56.065393  84.830206   68.114244 -73.522228   60.7460832159262   \n255   -55.290740  85.329345   68.621331 -72.757498   76.1830128922867   \n...          ...        ...         ...        ...                ...   \n77933 -29.556914 -21.343672  104.919176 -54.437631  -2.84220397831294   \n77973 -33.572475  76.354893   34.884952 -39.855698  -2.38597007049348   \n78016 -42.889666  -0.519866   97.026489   1.986116   28.7531261656966   \n78049 -46.846834 -29.746069   76.964799 -18.465598  -22.9503416012668   \n78066 -42.536401  -0.678028   97.449822   2.704620   77.9924958087518   \n\n                     Y3                 Z3                 X4  \\\n50      68.044374744442  -72.8359211633214                  0   \n56     67.5559059022296  -73.2424811882883    61.069031756769   \n90     42.3258183901331  -73.6275735151941                  0   \n245    10.5260410173226  -69.5694216997701   57.4721886915503   \n255    43.2256194892929  -72.8066952858897   59.8104891541627   \n...                 ...                ...                ...   \n77933  98.6396338519113   5.17377453974974   54.2531857723027   \n77973  98.7486919089091   6.20524644973614   -21.609288408928   \n78016  107.691200345962   10.7625223716491   78.4080008103962   \n78049   104.77633090569  -52.8738304551223   25.9709494167528   \n78066  32.5804982513808  -44.2545508571205  -22.2546828508198   \n\n                     Y4                 Z4                 X5  \\\n50                    0                  0                  0   \n56     10.2621591526923  -69.5928537729302                  0   \n90                    0                  0                  0   \n245    72.1022438786633  -60.8543654826948                  0   \n255    11.5675391307559  -70.5414155982757                  0   \n...                 ...                ...                ...   \n77933  130.043716364429  -41.1968295308787   26.7371397994494   \n77973  104.669439451778  -54.6482044087237   55.4333026982379   \n78016  31.7976905473933  -45.7662312933219  -22.1381740228904   \n78049  136.713223992962  -32.4013452571805  -1.50464830736565   \n78066  105.325567879919  -52.5928238452807   55.5476286710712   \n\n                     Y5                 Z5  \n50                    0                  0  \n56                    0                  0  \n90                    0                  0  \n245                   0                  0  \n255                   0                  0  \n...                 ...                ...  \n77933   106.33194342428   10.5538721889144  \n77973  129.769496691096  -42.2737528348901  \n78016  104.957934310698  -53.5133658265832  \n78049  98.0439047185886    3.7561044408024  \n78066  129.201307991746  -43.5283249732438  \n\n[3096 rows x 20 columns]",
      "text/html": "<div>\n<style scoped>\n    .dataframe tbody tr th:only-of-type {\n        vertical-align: middle;\n    }\n\n    .dataframe tbody tr th {\n        vertical-align: top;\n    }\n\n    .dataframe thead th {\n        text-align: right;\n    }\n</style>\n<table border=\"1\" class=\"dataframe\">\n  <thead>\n    <tr style=\"text-align: right;\">\n      <th></th>\n      <th>Class</th>\n      <th>User</th>\n      <th>X0</th>\n      <th>Y0</th>\n      <th>Z0</th>\n      <th>X1</th>\n      <th>Y1</th>\n      <th>Z1</th>\n      <th>X2</th>\n      <th>Y2</th>\n      <th>Z2</th>\n      <th>X3</th>\n      <th>Y3</th>\n      <th>Z3</th>\n      <th>X4</th>\n      <th>Y4</th>\n      <th>Z4</th>\n      <th>X5</th>\n      <th>Y5</th>\n      <th>Z5</th>\n    </tr>\n  </thead>\n  <tbody>\n    <tr>\n      <th>50</th>\n      <td>1</td>\n      <td>0</td>\n      <td>34.572774</td>\n      <td>81.964959</td>\n      <td>-54.302645</td>\n      <td>56.573274</td>\n      <td>72.173992</td>\n      <td>-61.975660</td>\n      <td>76.879181</td>\n      <td>42.881450</td>\n      <td>-72.217103</td>\n      <td>85.4199625095807</td>\n      <td>68.044374744442</td>\n      <td>-72.8359211633214</td>\n      <td>0</td>\n      <td>0</td>\n      <td>0</td>\n      <td>0</td>\n      <td>0</td>\n      <td>0</td>\n    </tr>\n    <tr>\n      <th>56</th>\n      <td>1</td>\n      <td>0</td>\n      <td>56.107673</td>\n      <td>71.549222</td>\n      <td>-63.442161</td>\n      <td>35.519543</td>\n      <td>81.381341</td>\n      <td>-54.392213</td>\n      <td>76.716773</td>\n      <td>42.096208</td>\n      <td>-72.971646</td>\n      <td>85.7467021192531</td>\n      <td>67.5559059022296</td>\n      <td>-73.2424811882883</td>\n      <td>61.069031756769</td>\n      <td>10.2621591526923</td>\n      <td>-69.5928537729302</td>\n      <td>0</td>\n      <td>0</td>\n      <td>0</td>\n    </tr>\n    <tr>\n      <th>90</th>\n      <td>1</td>\n      <td>0</td>\n      <td>60.180069</td>\n      <td>10.325333</td>\n      <td>-70.370529</td>\n      <td>33.186244</td>\n      <td>80.794394</td>\n      <td>-56.559278</td>\n      <td>85.466683</td>\n      <td>67.695669</td>\n      <td>-73.352786</td>\n      <td>76.0301174866085</td>\n      <td>42.3258183901331</td>\n      <td>-73.6275735151941</td>\n      <td>0</td>\n      <td>0</td>\n      <td>0</td>\n      <td>0</td>\n      <td>0</td>\n      <td>0</td>\n    </tr>\n    <tr>\n      <th>245</th>\n      <td>1</td>\n      <td>0</td>\n      <td>73.807648</td>\n      <td>42.206880</td>\n      <td>-75.330782</td>\n      <td>33.287076</td>\n      <td>81.310671</td>\n      <td>-56.065393</td>\n      <td>84.830206</td>\n      <td>68.114244</td>\n      <td>-73.522228</td>\n      <td>60.7460832159262</td>\n      <td>10.5260410173226</td>\n      <td>-69.5694216997701</td>\n      <td>57.4721886915503</td>\n      <td>72.1022438786633</td>\n      <td>-60.8543654826948</td>\n      <td>0</td>\n      <td>0</td>\n      <td>0</td>\n    </tr>\n    <tr>\n      <th>255</th>\n      <td>1</td>\n      <td>0</td>\n      <td>58.479582</td>\n      <td>72.687441</td>\n      <td>-59.007768</td>\n      <td>33.226847</td>\n      <td>81.594443</td>\n      <td>-55.290740</td>\n      <td>85.329345</td>\n      <td>68.621331</td>\n      <td>-72.757498</td>\n      <td>76.1830128922867</td>\n      <td>43.2256194892929</td>\n      <td>-72.8066952858897</td>\n      <td>59.8104891541627</td>\n      <td>11.5675391307559</td>\n      <td>-70.5414155982757</td>\n      <td>0</td>\n      <td>0</td>\n      <td>0</td>\n    </tr>\n    <tr>\n      <th>...</th>\n      <td>...</td>\n      <td>...</td>\n      <td>...</td>\n      <td>...</td>\n      <td>...</td>\n      <td>...</td>\n      <td>...</td>\n      <td>...</td>\n      <td>...</td>\n      <td>...</td>\n      <td>...</td>\n      <td>...</td>\n      <td>...</td>\n      <td>...</td>\n      <td>...</td>\n      <td>...</td>\n      <td>...</td>\n      <td>...</td>\n      <td>...</td>\n      <td>...</td>\n    </tr>\n    <tr>\n      <th>77933</th>\n      <td>5</td>\n      <td>14</td>\n      <td>88.648724</td>\n      <td>62.148591</td>\n      <td>-59.635341</td>\n      <td>24.678448</td>\n      <td>137.390008</td>\n      <td>-29.556914</td>\n      <td>-21.343672</td>\n      <td>104.919176</td>\n      <td>-54.437631</td>\n      <td>-2.84220397831294</td>\n      <td>98.6396338519113</td>\n      <td>5.17377453974974</td>\n      <td>54.2531857723027</td>\n      <td>130.043716364429</td>\n      <td>-41.1968295308787</td>\n      <td>26.7371397994494</td>\n      <td>106.33194342428</td>\n      <td>10.5538721889144</td>\n    </tr>\n    <tr>\n      <th>77973</th>\n      <td>5</td>\n      <td>14</td>\n      <td>88.411788</td>\n      <td>62.176707</td>\n      <td>-59.551705</td>\n      <td>27.772889</td>\n      <td>135.767853</td>\n      <td>-33.572475</td>\n      <td>76.354893</td>\n      <td>34.884952</td>\n      <td>-39.855698</td>\n      <td>-2.38597007049348</td>\n      <td>98.7486919089091</td>\n      <td>6.20524644973614</td>\n      <td>-21.609288408928</td>\n      <td>104.669439451778</td>\n      <td>-54.6482044087237</td>\n      <td>55.4333026982379</td>\n      <td>129.769496691096</td>\n      <td>-42.2737528348901</td>\n    </tr>\n    <tr>\n      <th>78016</th>\n      <td>5</td>\n      <td>14</td>\n      <td>-2.315561</td>\n      <td>125.339401</td>\n      <td>-40.717868</td>\n      <td>55.353795</td>\n      <td>129.289130</td>\n      <td>-42.889666</td>\n      <td>-0.519866</td>\n      <td>97.026489</td>\n      <td>1.986116</td>\n      <td>28.7531261656966</td>\n      <td>107.691200345962</td>\n      <td>10.7625223716491</td>\n      <td>78.4080008103962</td>\n      <td>31.7976905473933</td>\n      <td>-45.7662312933219</td>\n      <td>-22.1381740228904</td>\n      <td>104.957934310698</td>\n      <td>-53.5133658265832</td>\n    </tr>\n    <tr>\n      <th>78049</th>\n      <td>5</td>\n      <td>14</td>\n      <td>54.971644</td>\n      <td>128.856882</td>\n      <td>-44.960160</td>\n      <td>-1.149147</td>\n      <td>122.595397</td>\n      <td>-46.846834</td>\n      <td>-29.746069</td>\n      <td>76.964799</td>\n      <td>-18.465598</td>\n      <td>-22.9503416012668</td>\n      <td>104.77633090569</td>\n      <td>-52.8738304551223</td>\n      <td>25.9709494167528</td>\n      <td>136.713223992962</td>\n      <td>-32.4013452571805</td>\n      <td>-1.50464830736565</td>\n      <td>98.0439047185886</td>\n      <td>3.7561044408024</td>\n    </tr>\n    <tr>\n      <th>78066</th>\n      <td>5</td>\n      <td>14</td>\n      <td>89.053533</td>\n      <td>59.825298</td>\n      <td>-63.608312</td>\n      <td>-1.555037</td>\n      <td>124.762477</td>\n      <td>-42.536401</td>\n      <td>-0.678028</td>\n      <td>97.449822</td>\n      <td>2.704620</td>\n      <td>77.9924958087518</td>\n      <td>32.5804982513808</td>\n      <td>-44.2545508571205</td>\n      <td>-22.2546828508198</td>\n      <td>105.325567879919</td>\n      <td>-52.5928238452807</td>\n      <td>55.5476286710712</td>\n      <td>129.201307991746</td>\n      <td>-43.5283249732438</td>\n    </tr>\n  </tbody>\n</table>\n<p>3096 rows × 20 columns</p>\n</div>"
     },
     "execution_count": 18,
     "metadata": {},
     "output_type": "execute_result"
    }
   ],
   "source": [
    "from sklearn.svm import SVC\n",
    "from sklearn.preprocessing import StandardScaler\n",
    "\n",
    "import matplotlib.pyplot as plt\n",
    "from sklearn.model_selection import train_test_split\n",
    "# !pip insall sklearn.grid_search\n",
    "from sklearn.model_selection import GridSearchCV\n",
    "from sklearn.metrics import classification_report, confusion_matrix\n",
    "\n",
    "\n",
    "# dataset_path = 'allUsers.lcl.csv'\n",
    "\n",
    "df = pd.read_csv(dataset_path)\n",
    "\n",
    "df = df.replace('?', np.nan)\n",
    "df = df.dropna(thresh=len(df) * 0.8 , axis=1)\n",
    "df = df.replace(np.nan, 0)\n",
    "\n",
    "drop_indices = np.random.choice(df.index, 75000, replace=False)\n",
    "df = df.drop(drop_indices)\n",
    "df"
   ]
  },
  {
   "cell_type": "markdown",
   "id": "50f70119",
   "metadata": {
    "id": "50f70119"
   },
   "source": [
    "# Class recognition without User label"
   ]
  },
  {
   "cell_type": "code",
   "execution_count": 19,
   "id": "32fde41d",
   "metadata": {
    "colab": {
     "base_uri": "https://localhost:8080/"
    },
    "id": "32fde41d",
    "outputId": "665a4821-cc00-4d2b-f04c-4a398fa5edf9",
    "ExecuteTime": {
     "end_time": "2023-05-08T12:56:09.154400128Z",
     "start_time": "2023-05-08T12:56:07.384684202Z"
    }
   },
   "outputs": [
    {
     "name": "stdout",
     "output_type": "stream",
     "text": [
      "0.2306451612903226\n"
     ]
    }
   ],
   "source": [
    "df2 = df.drop(['User'], axis=1)\n",
    "df2 = df2.drop(['Class'], axis=1)\n",
    "labels_Class = df['Class']\n",
    "X_train, X_test, y_train, y_test,  = train_test_split(df2, labels_Class, test_size=0.20, random_state=42)\n",
    "\n",
    "clf = SVC(kernel='rbf', gamma=\"auto\", C = 7)\n",
    "clf.fit(X_train, y_train)\n",
    "print(clf.score(X_test, y_test))"
   ]
  },
  {
   "cell_type": "code",
   "execution_count": 21,
   "outputs": [],
   "source": [
    "\n",
    "results_df = save_results(clf, X_test, y_test, 'SVC', results_df)\n"
   ],
   "metadata": {
    "collapsed": false,
    "ExecuteTime": {
     "end_time": "2023-05-08T13:06:02.199790467Z",
     "start_time": "2023-05-08T13:06:01.599611319Z"
    }
   }
  },
  {
   "cell_type": "markdown",
   "source": [
    "# SVC gread search class recognition without user label"
   ],
   "metadata": {
    "id": "2TpbiE7ZmBKr"
   },
   "id": "2TpbiE7ZmBKr"
  },
  {
   "cell_type": "code",
   "source": [
    "param_grid = {'C':[1,10,100,1000],\n",
    "              'gamma':[1,0.1,0.001,0.0001], \n",
    "              'kernel':['sigmoid','rbf']}\n",
    "\n",
    "grid = GridSearchCV(SVC(),param_grid,refit = True, verbose=2)\n",
    "\n",
    "grid.fit(X_train,y_train)\n"
   ],
   "metadata": {
    "colab": {
     "base_uri": "https://localhost:8080/",
     "height": 1000
    },
    "id": "eiutRu3ll62i",
    "outputId": "d3c3eb6e-7725-43b6-a71c-12ff0f463dee",
    "ExecuteTime": {
     "end_time": "2023-05-08T13:08:01.573654343Z",
     "start_time": "2023-05-08T13:06:05.451450792Z"
    }
   },
   "id": "eiutRu3ll62i",
   "execution_count": 22,
   "outputs": [
    {
     "name": "stdout",
     "output_type": "stream",
     "text": [
      "Fitting 5 folds for each of 32 candidates, totalling 160 fits\n",
      "[CV] END .......................C=1, gamma=1, kernel=sigmoid; total time=   0.8s\n",
      "[CV] END .......................C=1, gamma=1, kernel=sigmoid; total time=   0.6s\n",
      "[CV] END .......................C=1, gamma=1, kernel=sigmoid; total time=   0.5s\n",
      "[CV] END .......................C=1, gamma=1, kernel=sigmoid; total time=   0.6s\n",
      "[CV] END .......................C=1, gamma=1, kernel=sigmoid; total time=   0.6s\n",
      "[CV] END ...........................C=1, gamma=1, kernel=rbf; total time=   1.0s\n",
      "[CV] END ...........................C=1, gamma=1, kernel=rbf; total time=   0.9s\n",
      "[CV] END ...........................C=1, gamma=1, kernel=rbf; total time=   0.9s\n",
      "[CV] END ...........................C=1, gamma=1, kernel=rbf; total time=   1.1s\n",
      "[CV] END ...........................C=1, gamma=1, kernel=rbf; total time=   1.0s\n",
      "[CV] END .....................C=1, gamma=0.1, kernel=sigmoid; total time=   0.7s\n",
      "[CV] END .....................C=1, gamma=0.1, kernel=sigmoid; total time=   0.7s\n",
      "[CV] END .....................C=1, gamma=0.1, kernel=sigmoid; total time=   0.6s\n",
      "[CV] END .....................C=1, gamma=0.1, kernel=sigmoid; total time=   0.6s\n",
      "[CV] END .....................C=1, gamma=0.1, kernel=sigmoid; total time=   0.7s\n",
      "[CV] END .........................C=1, gamma=0.1, kernel=rbf; total time=   1.1s\n",
      "[CV] END .........................C=1, gamma=0.1, kernel=rbf; total time=   0.9s\n",
      "[CV] END .........................C=1, gamma=0.1, kernel=rbf; total time=   0.8s\n",
      "[CV] END .........................C=1, gamma=0.1, kernel=rbf; total time=   0.8s\n",
      "[CV] END .........................C=1, gamma=0.1, kernel=rbf; total time=   0.8s\n",
      "[CV] END ...................C=1, gamma=0.001, kernel=sigmoid; total time=   0.5s\n",
      "[CV] END ...................C=1, gamma=0.001, kernel=sigmoid; total time=   0.5s\n",
      "[CV] END ...................C=1, gamma=0.001, kernel=sigmoid; total time=   0.5s\n",
      "[CV] END ...................C=1, gamma=0.001, kernel=sigmoid; total time=   0.5s\n",
      "[CV] END ...................C=1, gamma=0.001, kernel=sigmoid; total time=   0.5s\n",
      "[CV] END .......................C=1, gamma=0.001, kernel=rbf; total time=   0.8s\n",
      "[CV] END .......................C=1, gamma=0.001, kernel=rbf; total time=   0.7s\n",
      "[CV] END .......................C=1, gamma=0.001, kernel=rbf; total time=   0.8s\n",
      "[CV] END .......................C=1, gamma=0.001, kernel=rbf; total time=   0.8s\n",
      "[CV] END .......................C=1, gamma=0.001, kernel=rbf; total time=   0.9s\n",
      "[CV] END ..................C=1, gamma=0.0001, kernel=sigmoid; total time=   1.3s\n",
      "[CV] END ..................C=1, gamma=0.0001, kernel=sigmoid; total time=   1.4s\n",
      "[CV] END ..................C=1, gamma=0.0001, kernel=sigmoid; total time=   1.1s\n",
      "[CV] END ..................C=1, gamma=0.0001, kernel=sigmoid; total time=   1.2s\n",
      "[CV] END ..................C=1, gamma=0.0001, kernel=sigmoid; total time=   1.2s\n",
      "[CV] END ......................C=1, gamma=0.0001, kernel=rbf; total time=   0.8s\n",
      "[CV] END ......................C=1, gamma=0.0001, kernel=rbf; total time=   0.7s\n",
      "[CV] END ......................C=1, gamma=0.0001, kernel=rbf; total time=   0.6s\n",
      "[CV] END ......................C=1, gamma=0.0001, kernel=rbf; total time=   0.5s\n",
      "[CV] END ......................C=1, gamma=0.0001, kernel=rbf; total time=   0.5s\n",
      "[CV] END ......................C=10, gamma=1, kernel=sigmoid; total time=   0.5s\n",
      "[CV] END ......................C=10, gamma=1, kernel=sigmoid; total time=   0.5s\n",
      "[CV] END ......................C=10, gamma=1, kernel=sigmoid; total time=   0.4s\n",
      "[CV] END ......................C=10, gamma=1, kernel=sigmoid; total time=   0.5s\n",
      "[CV] END ......................C=10, gamma=1, kernel=sigmoid; total time=   0.5s\n",
      "[CV] END ..........................C=10, gamma=1, kernel=rbf; total time=   0.9s\n",
      "[CV] END ..........................C=10, gamma=1, kernel=rbf; total time=   0.9s\n",
      "[CV] END ..........................C=10, gamma=1, kernel=rbf; total time=   0.8s\n",
      "[CV] END ..........................C=10, gamma=1, kernel=rbf; total time=   0.8s\n",
      "[CV] END ..........................C=10, gamma=1, kernel=rbf; total time=   0.9s\n",
      "[CV] END ....................C=10, gamma=0.1, kernel=sigmoid; total time=   0.5s\n",
      "[CV] END ....................C=10, gamma=0.1, kernel=sigmoid; total time=   0.5s\n",
      "[CV] END ....................C=10, gamma=0.1, kernel=sigmoid; total time=   0.5s\n",
      "[CV] END ....................C=10, gamma=0.1, kernel=sigmoid; total time=   0.4s\n",
      "[CV] END ....................C=10, gamma=0.1, kernel=sigmoid; total time=   0.4s\n",
      "[CV] END ........................C=10, gamma=0.1, kernel=rbf; total time=   0.9s\n",
      "[CV] END ........................C=10, gamma=0.1, kernel=rbf; total time=   0.8s\n",
      "[CV] END ........................C=10, gamma=0.1, kernel=rbf; total time=   0.9s\n",
      "[CV] END ........................C=10, gamma=0.1, kernel=rbf; total time=   0.8s\n",
      "[CV] END ........................C=10, gamma=0.1, kernel=rbf; total time=   0.8s\n",
      "[CV] END ..................C=10, gamma=0.001, kernel=sigmoid; total time=   0.4s\n",
      "[CV] END ..................C=10, gamma=0.001, kernel=sigmoid; total time=   0.4s\n",
      "[CV] END ..................C=10, gamma=0.001, kernel=sigmoid; total time=   0.4s\n",
      "[CV] END ..................C=10, gamma=0.001, kernel=sigmoid; total time=   0.4s\n",
      "[CV] END ..................C=10, gamma=0.001, kernel=sigmoid; total time=   0.5s\n",
      "[CV] END ......................C=10, gamma=0.001, kernel=rbf; total time=   0.8s\n",
      "[CV] END ......................C=10, gamma=0.001, kernel=rbf; total time=   0.8s\n",
      "[CV] END ......................C=10, gamma=0.001, kernel=rbf; total time=   0.8s\n",
      "[CV] END ......................C=10, gamma=0.001, kernel=rbf; total time=   0.8s\n",
      "[CV] END ......................C=10, gamma=0.001, kernel=rbf; total time=   0.8s\n",
      "[CV] END .................C=10, gamma=0.0001, kernel=sigmoid; total time=   0.9s\n",
      "[CV] END .................C=10, gamma=0.0001, kernel=sigmoid; total time=   0.9s\n",
      "[CV] END .................C=10, gamma=0.0001, kernel=sigmoid; total time=   1.0s\n",
      "[CV] END .................C=10, gamma=0.0001, kernel=sigmoid; total time=   1.0s\n",
      "[CV] END .................C=10, gamma=0.0001, kernel=sigmoid; total time=   1.0s\n",
      "[CV] END .....................C=10, gamma=0.0001, kernel=rbf; total time=   0.6s\n",
      "[CV] END .....................C=10, gamma=0.0001, kernel=rbf; total time=   0.6s\n",
      "[CV] END .....................C=10, gamma=0.0001, kernel=rbf; total time=   0.6s\n",
      "[CV] END .....................C=10, gamma=0.0001, kernel=rbf; total time=   0.7s\n",
      "[CV] END .....................C=10, gamma=0.0001, kernel=rbf; total time=   0.6s\n",
      "[CV] END .....................C=100, gamma=1, kernel=sigmoid; total time=   0.5s\n",
      "[CV] END .....................C=100, gamma=1, kernel=sigmoid; total time=   0.5s\n",
      "[CV] END .....................C=100, gamma=1, kernel=sigmoid; total time=   0.5s\n",
      "[CV] END .....................C=100, gamma=1, kernel=sigmoid; total time=   0.5s\n",
      "[CV] END .....................C=100, gamma=1, kernel=sigmoid; total time=   0.5s\n",
      "[CV] END .........................C=100, gamma=1, kernel=rbf; total time=   0.9s\n",
      "[CV] END .........................C=100, gamma=1, kernel=rbf; total time=   0.9s\n",
      "[CV] END .........................C=100, gamma=1, kernel=rbf; total time=   0.9s\n",
      "[CV] END .........................C=100, gamma=1, kernel=rbf; total time=   1.0s\n",
      "[CV] END .........................C=100, gamma=1, kernel=rbf; total time=   0.8s\n",
      "[CV] END ...................C=100, gamma=0.1, kernel=sigmoid; total time=   0.5s\n",
      "[CV] END ...................C=100, gamma=0.1, kernel=sigmoid; total time=   0.5s\n",
      "[CV] END ...................C=100, gamma=0.1, kernel=sigmoid; total time=   0.6s\n",
      "[CV] END ...................C=100, gamma=0.1, kernel=sigmoid; total time=   0.5s\n",
      "[CV] END ...................C=100, gamma=0.1, kernel=sigmoid; total time=   0.4s\n",
      "[CV] END .......................C=100, gamma=0.1, kernel=rbf; total time=   0.9s\n",
      "[CV] END .......................C=100, gamma=0.1, kernel=rbf; total time=   0.9s\n",
      "[CV] END .......................C=100, gamma=0.1, kernel=rbf; total time=   0.9s\n",
      "[CV] END .......................C=100, gamma=0.1, kernel=rbf; total time=   0.9s\n",
      "[CV] END .......................C=100, gamma=0.1, kernel=rbf; total time=   0.9s\n",
      "[CV] END .................C=100, gamma=0.001, kernel=sigmoid; total time=   0.5s\n",
      "[CV] END .................C=100, gamma=0.001, kernel=sigmoid; total time=   0.5s\n",
      "[CV] END .................C=100, gamma=0.001, kernel=sigmoid; total time=   0.5s\n",
      "[CV] END .................C=100, gamma=0.001, kernel=sigmoid; total time=   0.4s\n",
      "[CV] END .................C=100, gamma=0.001, kernel=sigmoid; total time=   0.5s\n",
      "[CV] END .....................C=100, gamma=0.001, kernel=rbf; total time=   0.8s\n",
      "[CV] END .....................C=100, gamma=0.001, kernel=rbf; total time=   0.9s\n",
      "[CV] END .....................C=100, gamma=0.001, kernel=rbf; total time=   0.8s\n",
      "[CV] END .....................C=100, gamma=0.001, kernel=rbf; total time=   0.8s\n",
      "[CV] END .....................C=100, gamma=0.001, kernel=rbf; total time=   0.8s\n",
      "[CV] END ................C=100, gamma=0.0001, kernel=sigmoid; total time=   0.9s\n",
      "[CV] END ................C=100, gamma=0.0001, kernel=sigmoid; total time=   0.9s\n",
      "[CV] END ................C=100, gamma=0.0001, kernel=sigmoid; total time=   0.9s\n",
      "[CV] END ................C=100, gamma=0.0001, kernel=sigmoid; total time=   0.9s\n",
      "[CV] END ................C=100, gamma=0.0001, kernel=sigmoid; total time=   0.9s\n",
      "[CV] END ....................C=100, gamma=0.0001, kernel=rbf; total time=   0.6s\n",
      "[CV] END ....................C=100, gamma=0.0001, kernel=rbf; total time=   0.6s\n",
      "[CV] END ....................C=100, gamma=0.0001, kernel=rbf; total time=   0.6s\n",
      "[CV] END ....................C=100, gamma=0.0001, kernel=rbf; total time=   0.7s\n",
      "[CV] END ....................C=100, gamma=0.0001, kernel=rbf; total time=   0.6s\n",
      "[CV] END ....................C=1000, gamma=1, kernel=sigmoid; total time=   0.5s\n",
      "[CV] END ....................C=1000, gamma=1, kernel=sigmoid; total time=   0.5s\n",
      "[CV] END ....................C=1000, gamma=1, kernel=sigmoid; total time=   0.5s\n",
      "[CV] END ....................C=1000, gamma=1, kernel=sigmoid; total time=   0.5s\n",
      "[CV] END ....................C=1000, gamma=1, kernel=sigmoid; total time=   0.5s\n",
      "[CV] END ........................C=1000, gamma=1, kernel=rbf; total time=   0.9s\n",
      "[CV] END ........................C=1000, gamma=1, kernel=rbf; total time=   0.9s\n",
      "[CV] END ........................C=1000, gamma=1, kernel=rbf; total time=   1.0s\n",
      "[CV] END ........................C=1000, gamma=1, kernel=rbf; total time=   0.9s\n",
      "[CV] END ........................C=1000, gamma=1, kernel=rbf; total time=   0.9s\n",
      "[CV] END ..................C=1000, gamma=0.1, kernel=sigmoid; total time=   0.5s\n",
      "[CV] END ..................C=1000, gamma=0.1, kernel=sigmoid; total time=   0.5s\n",
      "[CV] END ..................C=1000, gamma=0.1, kernel=sigmoid; total time=   0.5s\n",
      "[CV] END ..................C=1000, gamma=0.1, kernel=sigmoid; total time=   0.5s\n",
      "[CV] END ..................C=1000, gamma=0.1, kernel=sigmoid; total time=   0.5s\n",
      "[CV] END ......................C=1000, gamma=0.1, kernel=rbf; total time=   0.9s\n",
      "[CV] END ......................C=1000, gamma=0.1, kernel=rbf; total time=   0.9s\n",
      "[CV] END ......................C=1000, gamma=0.1, kernel=rbf; total time=   0.8s\n",
      "[CV] END ......................C=1000, gamma=0.1, kernel=rbf; total time=   0.9s\n",
      "[CV] END ......................C=1000, gamma=0.1, kernel=rbf; total time=   1.0s\n",
      "[CV] END ................C=1000, gamma=0.001, kernel=sigmoid; total time=   0.5s\n",
      "[CV] END ................C=1000, gamma=0.001, kernel=sigmoid; total time=   0.5s\n",
      "[CV] END ................C=1000, gamma=0.001, kernel=sigmoid; total time=   0.5s\n",
      "[CV] END ................C=1000, gamma=0.001, kernel=sigmoid; total time=   0.5s\n",
      "[CV] END ................C=1000, gamma=0.001, kernel=sigmoid; total time=   0.5s\n",
      "[CV] END ....................C=1000, gamma=0.001, kernel=rbf; total time=   0.8s\n",
      "[CV] END ....................C=1000, gamma=0.001, kernel=rbf; total time=   0.9s\n",
      "[CV] END ....................C=1000, gamma=0.001, kernel=rbf; total time=   0.9s\n",
      "[CV] END ....................C=1000, gamma=0.001, kernel=rbf; total time=   0.9s\n",
      "[CV] END ....................C=1000, gamma=0.001, kernel=rbf; total time=   0.8s\n",
      "[CV] END ...............C=1000, gamma=0.0001, kernel=sigmoid; total time=   0.8s\n",
      "[CV] END ...............C=1000, gamma=0.0001, kernel=sigmoid; total time=   0.9s\n",
      "[CV] END ...............C=1000, gamma=0.0001, kernel=sigmoid; total time=   0.9s\n",
      "[CV] END ...............C=1000, gamma=0.0001, kernel=sigmoid; total time=   0.9s\n",
      "[CV] END ...............C=1000, gamma=0.0001, kernel=sigmoid; total time=   0.8s\n",
      "[CV] END ...................C=1000, gamma=0.0001, kernel=rbf; total time=   0.7s\n",
      "[CV] END ...................C=1000, gamma=0.0001, kernel=rbf; total time=   0.7s\n",
      "[CV] END ...................C=1000, gamma=0.0001, kernel=rbf; total time=   0.7s\n",
      "[CV] END ...................C=1000, gamma=0.0001, kernel=rbf; total time=   0.7s\n",
      "[CV] END ...................C=1000, gamma=0.0001, kernel=rbf; total time=   0.8s\n"
     ]
    },
    {
     "data": {
      "text/plain": "GridSearchCV(estimator=SVC(),\n             param_grid={'C': [1, 10, 100, 1000],\n                         'gamma': [1, 0.1, 0.001, 0.0001],\n                         'kernel': ['sigmoid', 'rbf']},\n             verbose=2)",
      "text/html": "<style>#sk-container-id-3 {color: black;background-color: white;}#sk-container-id-3 pre{padding: 0;}#sk-container-id-3 div.sk-toggleable {background-color: white;}#sk-container-id-3 label.sk-toggleable__label {cursor: pointer;display: block;width: 100%;margin-bottom: 0;padding: 0.3em;box-sizing: border-box;text-align: center;}#sk-container-id-3 label.sk-toggleable__label-arrow:before {content: \"▸\";float: left;margin-right: 0.25em;color: #696969;}#sk-container-id-3 label.sk-toggleable__label-arrow:hover:before {color: black;}#sk-container-id-3 div.sk-estimator:hover label.sk-toggleable__label-arrow:before {color: black;}#sk-container-id-3 div.sk-toggleable__content {max-height: 0;max-width: 0;overflow: hidden;text-align: left;background-color: #f0f8ff;}#sk-container-id-3 div.sk-toggleable__content pre {margin: 0.2em;color: black;border-radius: 0.25em;background-color: #f0f8ff;}#sk-container-id-3 input.sk-toggleable__control:checked~div.sk-toggleable__content {max-height: 200px;max-width: 100%;overflow: auto;}#sk-container-id-3 input.sk-toggleable__control:checked~label.sk-toggleable__label-arrow:before {content: \"▾\";}#sk-container-id-3 div.sk-estimator input.sk-toggleable__control:checked~label.sk-toggleable__label {background-color: #d4ebff;}#sk-container-id-3 div.sk-label input.sk-toggleable__control:checked~label.sk-toggleable__label {background-color: #d4ebff;}#sk-container-id-3 input.sk-hidden--visually {border: 0;clip: rect(1px 1px 1px 1px);clip: rect(1px, 1px, 1px, 1px);height: 1px;margin: -1px;overflow: hidden;padding: 0;position: absolute;width: 1px;}#sk-container-id-3 div.sk-estimator {font-family: monospace;background-color: #f0f8ff;border: 1px dotted black;border-radius: 0.25em;box-sizing: border-box;margin-bottom: 0.5em;}#sk-container-id-3 div.sk-estimator:hover {background-color: #d4ebff;}#sk-container-id-3 div.sk-parallel-item::after {content: \"\";width: 100%;border-bottom: 1px solid gray;flex-grow: 1;}#sk-container-id-3 div.sk-label:hover label.sk-toggleable__label {background-color: #d4ebff;}#sk-container-id-3 div.sk-serial::before {content: \"\";position: absolute;border-left: 1px solid gray;box-sizing: border-box;top: 0;bottom: 0;left: 50%;z-index: 0;}#sk-container-id-3 div.sk-serial {display: flex;flex-direction: column;align-items: center;background-color: white;padding-right: 0.2em;padding-left: 0.2em;position: relative;}#sk-container-id-3 div.sk-item {position: relative;z-index: 1;}#sk-container-id-3 div.sk-parallel {display: flex;align-items: stretch;justify-content: center;background-color: white;position: relative;}#sk-container-id-3 div.sk-item::before, #sk-container-id-3 div.sk-parallel-item::before {content: \"\";position: absolute;border-left: 1px solid gray;box-sizing: border-box;top: 0;bottom: 0;left: 50%;z-index: -1;}#sk-container-id-3 div.sk-parallel-item {display: flex;flex-direction: column;z-index: 1;position: relative;background-color: white;}#sk-container-id-3 div.sk-parallel-item:first-child::after {align-self: flex-end;width: 50%;}#sk-container-id-3 div.sk-parallel-item:last-child::after {align-self: flex-start;width: 50%;}#sk-container-id-3 div.sk-parallel-item:only-child::after {width: 0;}#sk-container-id-3 div.sk-dashed-wrapped {border: 1px dashed gray;margin: 0 0.4em 0.5em 0.4em;box-sizing: border-box;padding-bottom: 0.4em;background-color: white;}#sk-container-id-3 div.sk-label label {font-family: monospace;font-weight: bold;display: inline-block;line-height: 1.2em;}#sk-container-id-3 div.sk-label-container {text-align: center;}#sk-container-id-3 div.sk-container {/* jupyter's `normalize.less` sets `[hidden] { display: none; }` but bootstrap.min.css set `[hidden] { display: none !important; }` so we also need the `!important` here to be able to override the default hidden behavior on the sphinx rendered scikit-learn.org. See: https://github.com/scikit-learn/scikit-learn/issues/21755 */display: inline-block !important;position: relative;}#sk-container-id-3 div.sk-text-repr-fallback {display: none;}</style><div id=\"sk-container-id-3\" class=\"sk-top-container\"><div class=\"sk-text-repr-fallback\"><pre>GridSearchCV(estimator=SVC(),\n             param_grid={&#x27;C&#x27;: [1, 10, 100, 1000],\n                         &#x27;gamma&#x27;: [1, 0.1, 0.001, 0.0001],\n                         &#x27;kernel&#x27;: [&#x27;sigmoid&#x27;, &#x27;rbf&#x27;]},\n             verbose=2)</pre><b>In a Jupyter environment, please rerun this cell to show the HTML representation or trust the notebook. <br />On GitHub, the HTML representation is unable to render, please try loading this page with nbviewer.org.</b></div><div class=\"sk-container\" hidden><div class=\"sk-item sk-dashed-wrapped\"><div class=\"sk-label-container\"><div class=\"sk-label sk-toggleable\"><input class=\"sk-toggleable__control sk-hidden--visually\" id=\"sk-estimator-id-3\" type=\"checkbox\" ><label for=\"sk-estimator-id-3\" class=\"sk-toggleable__label sk-toggleable__label-arrow\">GridSearchCV</label><div class=\"sk-toggleable__content\"><pre>GridSearchCV(estimator=SVC(),\n             param_grid={&#x27;C&#x27;: [1, 10, 100, 1000],\n                         &#x27;gamma&#x27;: [1, 0.1, 0.001, 0.0001],\n                         &#x27;kernel&#x27;: [&#x27;sigmoid&#x27;, &#x27;rbf&#x27;]},\n             verbose=2)</pre></div></div></div><div class=\"sk-parallel\"><div class=\"sk-parallel-item\"><div class=\"sk-item\"><div class=\"sk-label-container\"><div class=\"sk-label sk-toggleable\"><input class=\"sk-toggleable__control sk-hidden--visually\" id=\"sk-estimator-id-4\" type=\"checkbox\" ><label for=\"sk-estimator-id-4\" class=\"sk-toggleable__label sk-toggleable__label-arrow\">estimator: SVC</label><div class=\"sk-toggleable__content\"><pre>SVC()</pre></div></div></div><div class=\"sk-serial\"><div class=\"sk-item\"><div class=\"sk-estimator sk-toggleable\"><input class=\"sk-toggleable__control sk-hidden--visually\" id=\"sk-estimator-id-5\" type=\"checkbox\" ><label for=\"sk-estimator-id-5\" class=\"sk-toggleable__label sk-toggleable__label-arrow\">SVC</label><div class=\"sk-toggleable__content\"><pre>SVC()</pre></div></div></div></div></div></div></div></div></div></div>"
     },
     "execution_count": 22,
     "metadata": {},
     "output_type": "execute_result"
    }
   ]
  },
  {
   "cell_type": "code",
   "source": [
    "grid.best_params_\n",
    "predic = grid.predict(X_test)\n",
    "print(grid.score(X_test, y_test))\n",
    "print(grid.best_params_)"
   ],
   "metadata": {
    "colab": {
     "base_uri": "https://localhost:8080/"
    },
    "id": "UMwq-l20mlHf",
    "outputId": "3c78e031-013a-450f-ed91-cb6b702061c4",
    "ExecuteTime": {
     "end_time": "2023-05-08T13:08:01.901189654Z",
     "start_time": "2023-05-08T13:08:01.573104880Z"
    }
   },
   "id": "UMwq-l20mlHf",
   "execution_count": 23,
   "outputs": [
    {
     "name": "stdout",
     "output_type": "stream",
     "text": [
      "0.8709677419354839\n",
      "{'C': 10, 'gamma': 0.0001, 'kernel': 'rbf'}\n"
     ]
    }
   ]
  },
  {
   "cell_type": "code",
   "execution_count": 24,
   "outputs": [],
   "source": [
    "\n",
    "results_df = save_results(grid, X_test, y_test, 'SVC', results_df)\n",
    "\n"
   ],
   "metadata": {
    "collapsed": false,
    "ExecuteTime": {
     "end_time": "2023-05-08T13:08:02.350261730Z",
     "start_time": "2023-05-08T13:08:01.901950108Z"
    }
   }
  },
  {
   "cell_type": "markdown",
   "source": [],
   "metadata": {
    "id": "OIXMif8TmkML"
   },
   "id": "OIXMif8TmkML"
  },
  {
   "cell_type": "markdown",
   "source": [],
   "metadata": {
    "id": "Hlm-7Wuol_kn"
   },
   "id": "Hlm-7Wuol_kn"
  },
  {
   "cell_type": "markdown",
   "id": "0ee0b73c",
   "metadata": {
    "id": "0ee0b73c"
   },
   "source": [
    "# Hand owner recognition without Class label\n"
   ]
  },
  {
   "cell_type": "code",
   "execution_count": 25,
   "id": "254eeb2d",
   "metadata": {
    "colab": {
     "base_uri": "https://localhost:8080/"
    },
    "id": "254eeb2d",
    "outputId": "0f6c0bd7-614f-4f38-df12-4355fa858f5a",
    "ExecuteTime": {
     "end_time": "2023-05-08T13:08:04.183659976Z",
     "start_time": "2023-05-08T13:08:02.353088576Z"
    }
   },
   "outputs": [
    {
     "name": "stdout",
     "output_type": "stream",
     "text": [
      "0.1532258064516129\n"
     ]
    }
   ],
   "source": [
    "df2 = df.drop(['User'], axis=1)\n",
    "df2 = df2.drop(['Class'], axis=1)\n",
    "labels_Users = df['User']\n",
    "X_train, X_test, y_train, y_test,  = train_test_split(df2, labels_Users, test_size=0.20, random_state=42)\n",
    "\n",
    "clf = SVC(kernel='rbf', gamma=\"auto\", C = 7)\n",
    "clf.fit(X_train, y_train)\n",
    "print(clf.score(X_test, y_test))"
   ]
  },
  {
   "cell_type": "code",
   "execution_count": 26,
   "outputs": [],
   "source": [
    "\n",
    "results_df = save_results(clf, X_test, y_test, 'SVC', results_df)\n",
    "\n"
   ],
   "metadata": {
    "collapsed": false,
    "ExecuteTime": {
     "end_time": "2023-05-08T13:08:04.671939804Z",
     "start_time": "2023-05-08T13:08:04.177401399Z"
    }
   }
  },
  {
   "cell_type": "markdown",
   "source": [
    "# Gread SearchHand owner recognition without Class label"
   ],
   "metadata": {
    "id": "TksOy9YApsuW"
   },
   "id": "TksOy9YApsuW"
  },
  {
   "cell_type": "markdown",
   "source": [],
   "metadata": {
    "id": "55wTsHqlpryQ"
   },
   "id": "55wTsHqlpryQ"
  },
  {
   "cell_type": "code",
   "execution_count": 27,
   "id": "780e1058",
   "metadata": {
    "colab": {
     "base_uri": "https://localhost:8080/",
     "height": 1000
    },
    "id": "780e1058",
    "outputId": "dc4e36b6-e1f9-46df-cabf-222600570d3c",
    "ExecuteTime": {
     "end_time": "2023-05-08T13:10:23.489349760Z",
     "start_time": "2023-05-08T13:08:04.679595356Z"
    }
   },
   "outputs": [
    {
     "name": "stdout",
     "output_type": "stream",
     "text": [
      "Fitting 5 folds for each of 32 candidates, totalling 160 fits\n",
      "[CV] END .......................C=1, gamma=1, kernel=sigmoid; total time=   0.5s\n",
      "[CV] END .......................C=1, gamma=1, kernel=sigmoid; total time=   0.5s\n",
      "[CV] END .......................C=1, gamma=1, kernel=sigmoid; total time=   0.5s\n",
      "[CV] END .......................C=1, gamma=1, kernel=sigmoid; total time=   0.6s\n",
      "[CV] END .......................C=1, gamma=1, kernel=sigmoid; total time=   0.5s\n",
      "[CV] END ...........................C=1, gamma=1, kernel=rbf; total time=   1.2s\n",
      "[CV] END ...........................C=1, gamma=1, kernel=rbf; total time=   1.2s\n",
      "[CV] END ...........................C=1, gamma=1, kernel=rbf; total time=   1.2s\n",
      "[CV] END ...........................C=1, gamma=1, kernel=rbf; total time=   1.0s\n",
      "[CV] END ...........................C=1, gamma=1, kernel=rbf; total time=   1.0s\n",
      "[CV] END .....................C=1, gamma=0.1, kernel=sigmoid; total time=   0.5s\n",
      "[CV] END .....................C=1, gamma=0.1, kernel=sigmoid; total time=   0.5s\n",
      "[CV] END .....................C=1, gamma=0.1, kernel=sigmoid; total time=   0.5s\n",
      "[CV] END .....................C=1, gamma=0.1, kernel=sigmoid; total time=   0.5s\n",
      "[CV] END .....................C=1, gamma=0.1, kernel=sigmoid; total time=   0.5s\n",
      "[CV] END .........................C=1, gamma=0.1, kernel=rbf; total time=   1.0s\n",
      "[CV] END .........................C=1, gamma=0.1, kernel=rbf; total time=   1.2s\n",
      "[CV] END .........................C=1, gamma=0.1, kernel=rbf; total time=   1.1s\n",
      "[CV] END .........................C=1, gamma=0.1, kernel=rbf; total time=   1.0s\n",
      "[CV] END .........................C=1, gamma=0.1, kernel=rbf; total time=   1.0s\n",
      "[CV] END ...................C=1, gamma=0.001, kernel=sigmoid; total time=   0.5s\n",
      "[CV] END ...................C=1, gamma=0.001, kernel=sigmoid; total time=   0.5s\n",
      "[CV] END ...................C=1, gamma=0.001, kernel=sigmoid; total time=   0.6s\n",
      "[CV] END ...................C=1, gamma=0.001, kernel=sigmoid; total time=   0.5s\n",
      "[CV] END ...................C=1, gamma=0.001, kernel=sigmoid; total time=   0.5s\n",
      "[CV] END .......................C=1, gamma=0.001, kernel=rbf; total time=   1.2s\n",
      "[CV] END .......................C=1, gamma=0.001, kernel=rbf; total time=   1.2s\n",
      "[CV] END .......................C=1, gamma=0.001, kernel=rbf; total time=   1.1s\n",
      "[CV] END .......................C=1, gamma=0.001, kernel=rbf; total time=   1.2s\n",
      "[CV] END .......................C=1, gamma=0.001, kernel=rbf; total time=   1.2s\n",
      "[CV] END ..................C=1, gamma=0.0001, kernel=sigmoid; total time=   1.2s\n",
      "[CV] END ..................C=1, gamma=0.0001, kernel=sigmoid; total time=   1.2s\n",
      "[CV] END ..................C=1, gamma=0.0001, kernel=sigmoid; total time=   1.2s\n",
      "[CV] END ..................C=1, gamma=0.0001, kernel=sigmoid; total time=   1.2s\n",
      "[CV] END ..................C=1, gamma=0.0001, kernel=sigmoid; total time=   1.3s\n",
      "[CV] END ......................C=1, gamma=0.0001, kernel=rbf; total time=   0.9s\n",
      "[CV] END ......................C=1, gamma=0.0001, kernel=rbf; total time=   1.0s\n",
      "[CV] END ......................C=1, gamma=0.0001, kernel=rbf; total time=   1.0s\n",
      "[CV] END ......................C=1, gamma=0.0001, kernel=rbf; total time=   1.0s\n",
      "[CV] END ......................C=1, gamma=0.0001, kernel=rbf; total time=   0.9s\n",
      "[CV] END ......................C=10, gamma=1, kernel=sigmoid; total time=   0.5s\n",
      "[CV] END ......................C=10, gamma=1, kernel=sigmoid; total time=   0.5s\n",
      "[CV] END ......................C=10, gamma=1, kernel=sigmoid; total time=   0.5s\n",
      "[CV] END ......................C=10, gamma=1, kernel=sigmoid; total time=   0.5s\n",
      "[CV] END ......................C=10, gamma=1, kernel=sigmoid; total time=   0.5s\n",
      "[CV] END ..........................C=10, gamma=1, kernel=rbf; total time=   1.2s\n",
      "[CV] END ..........................C=10, gamma=1, kernel=rbf; total time=   1.1s\n",
      "[CV] END ..........................C=10, gamma=1, kernel=rbf; total time=   1.4s\n",
      "[CV] END ..........................C=10, gamma=1, kernel=rbf; total time=   1.0s\n",
      "[CV] END ..........................C=10, gamma=1, kernel=rbf; total time=   1.0s\n",
      "[CV] END ....................C=10, gamma=0.1, kernel=sigmoid; total time=   0.4s\n",
      "[CV] END ....................C=10, gamma=0.1, kernel=sigmoid; total time=   0.5s\n",
      "[CV] END ....................C=10, gamma=0.1, kernel=sigmoid; total time=   0.5s\n",
      "[CV] END ....................C=10, gamma=0.1, kernel=sigmoid; total time=   0.5s\n",
      "[CV] END ....................C=10, gamma=0.1, kernel=sigmoid; total time=   0.5s\n",
      "[CV] END ........................C=10, gamma=0.1, kernel=rbf; total time=   1.2s\n",
      "[CV] END ........................C=10, gamma=0.1, kernel=rbf; total time=   1.1s\n",
      "[CV] END ........................C=10, gamma=0.1, kernel=rbf; total time=   1.1s\n",
      "[CV] END ........................C=10, gamma=0.1, kernel=rbf; total time=   1.1s\n",
      "[CV] END ........................C=10, gamma=0.1, kernel=rbf; total time=   1.3s\n",
      "[CV] END ..................C=10, gamma=0.001, kernel=sigmoid; total time=   0.5s\n",
      "[CV] END ..................C=10, gamma=0.001, kernel=sigmoid; total time=   0.5s\n",
      "[CV] END ..................C=10, gamma=0.001, kernel=sigmoid; total time=   0.5s\n",
      "[CV] END ..................C=10, gamma=0.001, kernel=sigmoid; total time=   0.6s\n",
      "[CV] END ..................C=10, gamma=0.001, kernel=sigmoid; total time=   0.5s\n",
      "[CV] END ......................C=10, gamma=0.001, kernel=rbf; total time=   1.3s\n",
      "[CV] END ......................C=10, gamma=0.001, kernel=rbf; total time=   1.0s\n",
      "[CV] END ......................C=10, gamma=0.001, kernel=rbf; total time=   1.0s\n",
      "[CV] END ......................C=10, gamma=0.001, kernel=rbf; total time=   1.1s\n",
      "[CV] END ......................C=10, gamma=0.001, kernel=rbf; total time=   1.1s\n",
      "[CV] END .................C=10, gamma=0.0001, kernel=sigmoid; total time=   1.1s\n",
      "[CV] END .................C=10, gamma=0.0001, kernel=sigmoid; total time=   1.0s\n",
      "[CV] END .................C=10, gamma=0.0001, kernel=sigmoid; total time=   1.1s\n",
      "[CV] END .................C=10, gamma=0.0001, kernel=sigmoid; total time=   1.0s\n",
      "[CV] END .................C=10, gamma=0.0001, kernel=sigmoid; total time=   1.1s\n",
      "[CV] END .....................C=10, gamma=0.0001, kernel=rbf; total time=   0.9s\n",
      "[CV] END .....................C=10, gamma=0.0001, kernel=rbf; total time=   1.1s\n",
      "[CV] END .....................C=10, gamma=0.0001, kernel=rbf; total time=   0.9s\n",
      "[CV] END .....................C=10, gamma=0.0001, kernel=rbf; total time=   1.0s\n",
      "[CV] END .....................C=10, gamma=0.0001, kernel=rbf; total time=   1.0s\n",
      "[CV] END .....................C=100, gamma=1, kernel=sigmoid; total time=   0.5s\n",
      "[CV] END .....................C=100, gamma=1, kernel=sigmoid; total time=   0.5s\n",
      "[CV] END .....................C=100, gamma=1, kernel=sigmoid; total time=   0.5s\n",
      "[CV] END .....................C=100, gamma=1, kernel=sigmoid; total time=   0.5s\n",
      "[CV] END .....................C=100, gamma=1, kernel=sigmoid; total time=   0.5s\n",
      "[CV] END .........................C=100, gamma=1, kernel=rbf; total time=   1.1s\n",
      "[CV] END .........................C=100, gamma=1, kernel=rbf; total time=   1.1s\n",
      "[CV] END .........................C=100, gamma=1, kernel=rbf; total time=   1.1s\n",
      "[CV] END .........................C=100, gamma=1, kernel=rbf; total time=   1.1s\n",
      "[CV] END .........................C=100, gamma=1, kernel=rbf; total time=   1.3s\n",
      "[CV] END ...................C=100, gamma=0.1, kernel=sigmoid; total time=   0.5s\n",
      "[CV] END ...................C=100, gamma=0.1, kernel=sigmoid; total time=   0.5s\n",
      "[CV] END ...................C=100, gamma=0.1, kernel=sigmoid; total time=   0.5s\n",
      "[CV] END ...................C=100, gamma=0.1, kernel=sigmoid; total time=   0.5s\n",
      "[CV] END ...................C=100, gamma=0.1, kernel=sigmoid; total time=   0.5s\n",
      "[CV] END .......................C=100, gamma=0.1, kernel=rbf; total time=   1.2s\n",
      "[CV] END .......................C=100, gamma=0.1, kernel=rbf; total time=   1.2s\n",
      "[CV] END .......................C=100, gamma=0.1, kernel=rbf; total time=   1.1s\n",
      "[CV] END .......................C=100, gamma=0.1, kernel=rbf; total time=   1.1s\n",
      "[CV] END .......................C=100, gamma=0.1, kernel=rbf; total time=   1.1s\n",
      "[CV] END .................C=100, gamma=0.001, kernel=sigmoid; total time=   0.5s\n",
      "[CV] END .................C=100, gamma=0.001, kernel=sigmoid; total time=   0.5s\n",
      "[CV] END .................C=100, gamma=0.001, kernel=sigmoid; total time=   0.5s\n",
      "[CV] END .................C=100, gamma=0.001, kernel=sigmoid; total time=   0.6s\n",
      "[CV] END .................C=100, gamma=0.001, kernel=sigmoid; total time=   0.5s\n",
      "[CV] END .....................C=100, gamma=0.001, kernel=rbf; total time=   1.1s\n",
      "[CV] END .....................C=100, gamma=0.001, kernel=rbf; total time=   1.1s\n",
      "[CV] END .....................C=100, gamma=0.001, kernel=rbf; total time=   1.1s\n",
      "[CV] END .....................C=100, gamma=0.001, kernel=rbf; total time=   1.2s\n",
      "[CV] END .....................C=100, gamma=0.001, kernel=rbf; total time=   1.0s\n",
      "[CV] END ................C=100, gamma=0.0001, kernel=sigmoid; total time=   1.0s\n",
      "[CV] END ................C=100, gamma=0.0001, kernel=sigmoid; total time=   1.0s\n",
      "[CV] END ................C=100, gamma=0.0001, kernel=sigmoid; total time=   1.0s\n",
      "[CV] END ................C=100, gamma=0.0001, kernel=sigmoid; total time=   0.9s\n",
      "[CV] END ................C=100, gamma=0.0001, kernel=sigmoid; total time=   1.0s\n",
      "[CV] END ....................C=100, gamma=0.0001, kernel=rbf; total time=   1.0s\n",
      "[CV] END ....................C=100, gamma=0.0001, kernel=rbf; total time=   1.0s\n",
      "[CV] END ....................C=100, gamma=0.0001, kernel=rbf; total time=   1.0s\n",
      "[CV] END ....................C=100, gamma=0.0001, kernel=rbf; total time=   0.9s\n",
      "[CV] END ....................C=100, gamma=0.0001, kernel=rbf; total time=   1.0s\n",
      "[CV] END ....................C=1000, gamma=1, kernel=sigmoid; total time=   0.5s\n",
      "[CV] END ....................C=1000, gamma=1, kernel=sigmoid; total time=   0.5s\n",
      "[CV] END ....................C=1000, gamma=1, kernel=sigmoid; total time=   0.5s\n",
      "[CV] END ....................C=1000, gamma=1, kernel=sigmoid; total time=   0.5s\n",
      "[CV] END ....................C=1000, gamma=1, kernel=sigmoid; total time=   0.5s\n",
      "[CV] END ........................C=1000, gamma=1, kernel=rbf; total time=   1.1s\n",
      "[CV] END ........................C=1000, gamma=1, kernel=rbf; total time=   1.2s\n",
      "[CV] END ........................C=1000, gamma=1, kernel=rbf; total time=   1.1s\n",
      "[CV] END ........................C=1000, gamma=1, kernel=rbf; total time=   1.1s\n",
      "[CV] END ........................C=1000, gamma=1, kernel=rbf; total time=   1.2s\n",
      "[CV] END ..................C=1000, gamma=0.1, kernel=sigmoid; total time=   0.5s\n",
      "[CV] END ..................C=1000, gamma=0.1, kernel=sigmoid; total time=   0.5s\n",
      "[CV] END ..................C=1000, gamma=0.1, kernel=sigmoid; total time=   0.5s\n",
      "[CV] END ..................C=1000, gamma=0.1, kernel=sigmoid; total time=   0.5s\n",
      "[CV] END ..................C=1000, gamma=0.1, kernel=sigmoid; total time=   0.5s\n",
      "[CV] END ......................C=1000, gamma=0.1, kernel=rbf; total time=   1.1s\n",
      "[CV] END ......................C=1000, gamma=0.1, kernel=rbf; total time=   1.2s\n",
      "[CV] END ......................C=1000, gamma=0.1, kernel=rbf; total time=   1.1s\n",
      "[CV] END ......................C=1000, gamma=0.1, kernel=rbf; total time=   1.1s\n",
      "[CV] END ......................C=1000, gamma=0.1, kernel=rbf; total time=   1.1s\n",
      "[CV] END ................C=1000, gamma=0.001, kernel=sigmoid; total time=   0.5s\n",
      "[CV] END ................C=1000, gamma=0.001, kernel=sigmoid; total time=   0.5s\n",
      "[CV] END ................C=1000, gamma=0.001, kernel=sigmoid; total time=   0.5s\n",
      "[CV] END ................C=1000, gamma=0.001, kernel=sigmoid; total time=   0.5s\n",
      "[CV] END ................C=1000, gamma=0.001, kernel=sigmoid; total time=   0.5s\n",
      "[CV] END ....................C=1000, gamma=0.001, kernel=rbf; total time=   1.0s\n",
      "[CV] END ....................C=1000, gamma=0.001, kernel=rbf; total time=   1.1s\n",
      "[CV] END ....................C=1000, gamma=0.001, kernel=rbf; total time=   1.1s\n",
      "[CV] END ....................C=1000, gamma=0.001, kernel=rbf; total time=   1.1s\n",
      "[CV] END ....................C=1000, gamma=0.001, kernel=rbf; total time=   1.0s\n",
      "[CV] END ...............C=1000, gamma=0.0001, kernel=sigmoid; total time=   0.9s\n",
      "[CV] END ...............C=1000, gamma=0.0001, kernel=sigmoid; total time=   0.9s\n",
      "[CV] END ...............C=1000, gamma=0.0001, kernel=sigmoid; total time=   0.9s\n",
      "[CV] END ...............C=1000, gamma=0.0001, kernel=sigmoid; total time=   0.9s\n",
      "[CV] END ...............C=1000, gamma=0.0001, kernel=sigmoid; total time=   0.9s\n",
      "[CV] END ...................C=1000, gamma=0.0001, kernel=rbf; total time=   1.0s\n",
      "[CV] END ...................C=1000, gamma=0.0001, kernel=rbf; total time=   1.0s\n",
      "[CV] END ...................C=1000, gamma=0.0001, kernel=rbf; total time=   1.0s\n",
      "[CV] END ...................C=1000, gamma=0.0001, kernel=rbf; total time=   1.0s\n",
      "[CV] END ...................C=1000, gamma=0.0001, kernel=rbf; total time=   0.9s\n"
     ]
    },
    {
     "data": {
      "text/plain": "GridSearchCV(estimator=SVC(),\n             param_grid={'C': [1, 10, 100, 1000],\n                         'gamma': [1, 0.1, 0.001, 0.0001],\n                         'kernel': ['sigmoid', 'rbf']},\n             verbose=2)",
      "text/html": "<style>#sk-container-id-4 {color: black;background-color: white;}#sk-container-id-4 pre{padding: 0;}#sk-container-id-4 div.sk-toggleable {background-color: white;}#sk-container-id-4 label.sk-toggleable__label {cursor: pointer;display: block;width: 100%;margin-bottom: 0;padding: 0.3em;box-sizing: border-box;text-align: center;}#sk-container-id-4 label.sk-toggleable__label-arrow:before {content: \"▸\";float: left;margin-right: 0.25em;color: #696969;}#sk-container-id-4 label.sk-toggleable__label-arrow:hover:before {color: black;}#sk-container-id-4 div.sk-estimator:hover label.sk-toggleable__label-arrow:before {color: black;}#sk-container-id-4 div.sk-toggleable__content {max-height: 0;max-width: 0;overflow: hidden;text-align: left;background-color: #f0f8ff;}#sk-container-id-4 div.sk-toggleable__content pre {margin: 0.2em;color: black;border-radius: 0.25em;background-color: #f0f8ff;}#sk-container-id-4 input.sk-toggleable__control:checked~div.sk-toggleable__content {max-height: 200px;max-width: 100%;overflow: auto;}#sk-container-id-4 input.sk-toggleable__control:checked~label.sk-toggleable__label-arrow:before {content: \"▾\";}#sk-container-id-4 div.sk-estimator input.sk-toggleable__control:checked~label.sk-toggleable__label {background-color: #d4ebff;}#sk-container-id-4 div.sk-label input.sk-toggleable__control:checked~label.sk-toggleable__label {background-color: #d4ebff;}#sk-container-id-4 input.sk-hidden--visually {border: 0;clip: rect(1px 1px 1px 1px);clip: rect(1px, 1px, 1px, 1px);height: 1px;margin: -1px;overflow: hidden;padding: 0;position: absolute;width: 1px;}#sk-container-id-4 div.sk-estimator {font-family: monospace;background-color: #f0f8ff;border: 1px dotted black;border-radius: 0.25em;box-sizing: border-box;margin-bottom: 0.5em;}#sk-container-id-4 div.sk-estimator:hover {background-color: #d4ebff;}#sk-container-id-4 div.sk-parallel-item::after {content: \"\";width: 100%;border-bottom: 1px solid gray;flex-grow: 1;}#sk-container-id-4 div.sk-label:hover label.sk-toggleable__label {background-color: #d4ebff;}#sk-container-id-4 div.sk-serial::before {content: \"\";position: absolute;border-left: 1px solid gray;box-sizing: border-box;top: 0;bottom: 0;left: 50%;z-index: 0;}#sk-container-id-4 div.sk-serial {display: flex;flex-direction: column;align-items: center;background-color: white;padding-right: 0.2em;padding-left: 0.2em;position: relative;}#sk-container-id-4 div.sk-item {position: relative;z-index: 1;}#sk-container-id-4 div.sk-parallel {display: flex;align-items: stretch;justify-content: center;background-color: white;position: relative;}#sk-container-id-4 div.sk-item::before, #sk-container-id-4 div.sk-parallel-item::before {content: \"\";position: absolute;border-left: 1px solid gray;box-sizing: border-box;top: 0;bottom: 0;left: 50%;z-index: -1;}#sk-container-id-4 div.sk-parallel-item {display: flex;flex-direction: column;z-index: 1;position: relative;background-color: white;}#sk-container-id-4 div.sk-parallel-item:first-child::after {align-self: flex-end;width: 50%;}#sk-container-id-4 div.sk-parallel-item:last-child::after {align-self: flex-start;width: 50%;}#sk-container-id-4 div.sk-parallel-item:only-child::after {width: 0;}#sk-container-id-4 div.sk-dashed-wrapped {border: 1px dashed gray;margin: 0 0.4em 0.5em 0.4em;box-sizing: border-box;padding-bottom: 0.4em;background-color: white;}#sk-container-id-4 div.sk-label label {font-family: monospace;font-weight: bold;display: inline-block;line-height: 1.2em;}#sk-container-id-4 div.sk-label-container {text-align: center;}#sk-container-id-4 div.sk-container {/* jupyter's `normalize.less` sets `[hidden] { display: none; }` but bootstrap.min.css set `[hidden] { display: none !important; }` so we also need the `!important` here to be able to override the default hidden behavior on the sphinx rendered scikit-learn.org. See: https://github.com/scikit-learn/scikit-learn/issues/21755 */display: inline-block !important;position: relative;}#sk-container-id-4 div.sk-text-repr-fallback {display: none;}</style><div id=\"sk-container-id-4\" class=\"sk-top-container\"><div class=\"sk-text-repr-fallback\"><pre>GridSearchCV(estimator=SVC(),\n             param_grid={&#x27;C&#x27;: [1, 10, 100, 1000],\n                         &#x27;gamma&#x27;: [1, 0.1, 0.001, 0.0001],\n                         &#x27;kernel&#x27;: [&#x27;sigmoid&#x27;, &#x27;rbf&#x27;]},\n             verbose=2)</pre><b>In a Jupyter environment, please rerun this cell to show the HTML representation or trust the notebook. <br />On GitHub, the HTML representation is unable to render, please try loading this page with nbviewer.org.</b></div><div class=\"sk-container\" hidden><div class=\"sk-item sk-dashed-wrapped\"><div class=\"sk-label-container\"><div class=\"sk-label sk-toggleable\"><input class=\"sk-toggleable__control sk-hidden--visually\" id=\"sk-estimator-id-6\" type=\"checkbox\" ><label for=\"sk-estimator-id-6\" class=\"sk-toggleable__label sk-toggleable__label-arrow\">GridSearchCV</label><div class=\"sk-toggleable__content\"><pre>GridSearchCV(estimator=SVC(),\n             param_grid={&#x27;C&#x27;: [1, 10, 100, 1000],\n                         &#x27;gamma&#x27;: [1, 0.1, 0.001, 0.0001],\n                         &#x27;kernel&#x27;: [&#x27;sigmoid&#x27;, &#x27;rbf&#x27;]},\n             verbose=2)</pre></div></div></div><div class=\"sk-parallel\"><div class=\"sk-parallel-item\"><div class=\"sk-item\"><div class=\"sk-label-container\"><div class=\"sk-label sk-toggleable\"><input class=\"sk-toggleable__control sk-hidden--visually\" id=\"sk-estimator-id-7\" type=\"checkbox\" ><label for=\"sk-estimator-id-7\" class=\"sk-toggleable__label sk-toggleable__label-arrow\">estimator: SVC</label><div class=\"sk-toggleable__content\"><pre>SVC()</pre></div></div></div><div class=\"sk-serial\"><div class=\"sk-item\"><div class=\"sk-estimator sk-toggleable\"><input class=\"sk-toggleable__control sk-hidden--visually\" id=\"sk-estimator-id-8\" type=\"checkbox\" ><label for=\"sk-estimator-id-8\" class=\"sk-toggleable__label sk-toggleable__label-arrow\">SVC</label><div class=\"sk-toggleable__content\"><pre>SVC()</pre></div></div></div></div></div></div></div></div></div></div>"
     },
     "execution_count": 27,
     "metadata": {},
     "output_type": "execute_result"
    }
   ],
   "source": [
    "param_grid = {'C':[1,10,100,1000],\n",
    "              'gamma':[1,0.1,0.001,0.0001], \n",
    "              'kernel':['sigmoid','rbf']}\n",
    "\n",
    "grid = GridSearchCV(SVC(),param_grid,refit = True, verbose=2)\n",
    "\n",
    "grid.fit(X_train,y_train)"
   ]
  },
  {
   "cell_type": "code",
   "source": [
    "grid.best_params_\n",
    "predic = grid.predict(X_test)\n",
    "print(grid.score(X_test, y_test))\n",
    "print(grid.best_params_)"
   ],
   "metadata": {
    "colab": {
     "base_uri": "https://localhost:8080/"
    },
    "id": "QzUMWsbJp6-r",
    "outputId": "cd78bd56-21d6-46c5-9136-0821f5b70ceb",
    "ExecuteTime": {
     "end_time": "2023-05-08T13:10:23.995017150Z",
     "start_time": "2023-05-08T13:10:23.492214467Z"
    }
   },
   "id": "QzUMWsbJp6-r",
   "execution_count": 28,
   "outputs": [
    {
     "name": "stdout",
     "output_type": "stream",
     "text": [
      "0.682258064516129\n",
      "{'C': 10, 'gamma': 0.0001, 'kernel': 'rbf'}\n"
     ]
    }
   ]
  },
  {
   "cell_type": "code",
   "execution_count": 29,
   "outputs": [],
   "source": [
    "results_df = save_results(clf, X_test, y_test, 'SVC', results_df)\n",
    "\n"
   ],
   "metadata": {
    "collapsed": false,
    "ExecuteTime": {
     "end_time": "2023-05-08T13:10:24.498706588Z",
     "start_time": "2023-05-08T13:10:23.997707387Z"
    }
   }
  },
  {
   "cell_type": "markdown",
   "source": [
    "# Random Forest"
   ],
   "metadata": {
    "id": "d6-fQM1-rNVb"
   },
   "id": "d6-fQM1-rNVb"
  },
  {
   "cell_type": "code",
   "source": [
    "from sklearn.ensemble import RandomForestClassifier\n",
    "from sklearn.datasets import make_classification"
   ],
   "metadata": {
    "id": "88SjR0VMruck",
    "ExecuteTime": {
     "end_time": "2023-05-08T13:10:24.685682523Z",
     "start_time": "2023-05-08T13:10:24.502016035Z"
    }
   },
   "id": "88SjR0VMruck",
   "execution_count": 30,
   "outputs": []
  },
  {
   "cell_type": "code",
   "source": [
    "# dataset_path = 'allUsers.lcl.csv'\n",
    "\n",
    "df = pd.read_csv(dataset_path)\n",
    "#knn Cannot work with mining data, so replace them with a 0\n",
    "df = df.replace('?', 0)\n",
    "#df = df.dropna(thresh=len(df) * 0.10, axis=1)\n"
   ],
   "metadata": {
    "id": "Woj1x8nXrNCX",
    "ExecuteTime": {
     "end_time": "2023-05-08T13:10:26.148636865Z",
     "start_time": "2023-05-08T13:10:24.686112925Z"
    }
   },
   "id": "Woj1x8nXrNCX",
   "execution_count": 31,
   "outputs": []
  },
  {
   "cell_type": "markdown",
   "source": [
    "# Class recognition with User label"
   ],
   "metadata": {
    "id": "8aYevJyJramt"
   },
   "id": "8aYevJyJramt"
  },
  {
   "cell_type": "code",
   "source": [
    "df2 = df.drop(['User'], axis=1)\n",
    "labels_Users = df['User']\n",
    "X_train, X_test, y_train, y_test,  = train_test_split(df2, labels_Users, test_size=0.20, random_state=42)"
   ],
   "metadata": {
    "id": "AkYTHzyorbyG",
    "ExecuteTime": {
     "end_time": "2023-05-08T13:10:26.341979201Z",
     "start_time": "2023-05-08T13:10:26.157729579Z"
    }
   },
   "id": "AkYTHzyorbyG",
   "execution_count": 32,
   "outputs": []
  },
  {
   "cell_type": "code",
   "source": [
    "clf = RandomForestClassifier(max_depth=200, random_state=10)\n",
    "clf.fit(X_train, y_train)\n",
    "clf.score(X_test, y_test)"
   ],
   "metadata": {
    "colab": {
     "base_uri": "https://localhost:8080/"
    },
    "id": "TM2z8jcjr1IB",
    "outputId": "4feb0384-834c-4323-9cc8-9b1878565c67",
    "ExecuteTime": {
     "end_time": "2023-05-08T13:11:50.279644352Z",
     "start_time": "2023-05-08T13:10:26.351260449Z"
    }
   },
   "id": "TM2z8jcjr1IB",
   "execution_count": 33,
   "outputs": [
    {
     "data": {
      "text/plain": "0.9863636363636363"
     },
     "execution_count": 33,
     "metadata": {},
     "output_type": "execute_result"
    }
   ]
  },
  {
   "cell_type": "code",
   "execution_count": 34,
   "outputs": [],
   "source": [
    "results_df = save_results(clf, X_test, y_test, 'Random forest', results_df)\n",
    "\n"
   ],
   "metadata": {
    "collapsed": false,
    "ExecuteTime": {
     "end_time": "2023-05-08T13:11:52.275976098Z",
     "start_time": "2023-05-08T13:11:50.265171167Z"
    }
   }
  },
  {
   "cell_type": "markdown",
   "source": [
    "# Gread Search"
   ],
   "metadata": {
    "id": "gCSpeBrHsgrR"
   },
   "id": "gCSpeBrHsgrR"
  },
  {
   "cell_type": "markdown",
   "source": [
    "## Show results:"
   ],
   "metadata": {
    "collapsed": false
   }
  },
  {
   "cell_type": "code",
   "execution_count": 35,
   "outputs": [
    {
     "data": {
      "text/plain": "               test acc  test f1 score (W)\nRandom forest  0.986364           0.940244\nKNN            0.864661           0.796469\nSVC            0.153226           0.055565",
      "text/html": "<div>\n<style scoped>\n    .dataframe tbody tr th:only-of-type {\n        vertical-align: middle;\n    }\n\n    .dataframe tbody tr th {\n        vertical-align: top;\n    }\n\n    .dataframe thead th {\n        text-align: right;\n    }\n</style>\n<table border=\"1\" class=\"dataframe\">\n  <thead>\n    <tr style=\"text-align: right;\">\n      <th></th>\n      <th>test acc</th>\n      <th>test f1 score (W)</th>\n    </tr>\n  </thead>\n  <tbody>\n    <tr>\n      <th>Random forest</th>\n      <td>0.986364</td>\n      <td>0.940244</td>\n    </tr>\n    <tr>\n      <th>KNN</th>\n      <td>0.864661</td>\n      <td>0.796469</td>\n    </tr>\n    <tr>\n      <th>SVC</th>\n      <td>0.153226</td>\n      <td>0.055565</td>\n    </tr>\n  </tbody>\n</table>\n</div>"
     },
     "execution_count": 35,
     "metadata": {},
     "output_type": "execute_result"
    }
   ],
   "source": [
    "results_df.sort_values(by=['test acc'], ascending=False)\n",
    "\n"
   ],
   "metadata": {
    "collapsed": false,
    "ExecuteTime": {
     "end_time": "2023-05-08T13:11:52.294071909Z",
     "start_time": "2023-05-08T13:11:52.282764351Z"
    }
   }
  },
  {
   "cell_type": "code",
   "execution_count": null,
   "outputs": [],
   "source": [],
   "metadata": {
    "collapsed": false
   }
  }
 ],
 "metadata": {
  "kernelspec": {
   "display_name": "Python 3 (ipykernel)",
   "language": "python",
   "name": "python3"
  },
  "language_info": {
   "codemirror_mode": {
    "name": "ipython",
    "version": 3
   },
   "file_extension": ".py",
   "mimetype": "text/x-python",
   "name": "python",
   "nbconvert_exporter": "python",
   "pygments_lexer": "ipython3",
   "version": "3.9.13"
  },
  "colab": {
   "provenance": []
  }
 },
 "nbformat": 4,
 "nbformat_minor": 5
}