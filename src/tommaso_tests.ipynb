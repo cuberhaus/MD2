{
 "cells": [
  {
   "cell_type": "code",
   "execution_count": 151,
   "id": "ba5c8737",
   "metadata": {
    "id": "ba5c8737",
    "ExecuteTime": {
     "end_time": "2023-05-19T19:18:09.628377900Z",
     "start_time": "2023-05-19T19:18:09.293457400Z"
    }
   },
   "outputs": [],
   "source": [
    "from sklearn.neighbors import KNeighborsClassifier\n",
    "from sklearn.svm import SVC\n",
    "from sklearn.dummy import DummyClassifier\n",
    "from sklearn.model_selection import cross_val_score, GridSearchCV, ParameterGrid, train_test_split\n",
    "from sklearn import metrics\n",
    "\n",
    "import pandas as pd\n",
    "import numpy as np\n",
    "\n",
    "from sklearn.neighbors import KNeighborsClassifier\n",
    "\n",
    "# # import warnings filter\n",
    "# from warnings import simplefilter\n",
    "# # ignore all future warnings\n",
    "# simplefilter(action='ignore', category=FutureWarning)"
   ]
  },
  {
   "cell_type": "code",
   "execution_count": 152,
   "id": "e7814250",
   "metadata": {
    "id": "e7814250",
    "ExecuteTime": {
     "end_time": "2023-05-19T19:18:10.467879300Z",
     "start_time": "2023-05-19T19:18:09.309590700Z"
    }
   },
   "outputs": [],
   "source": [
    "# dataset_path = 'allUsers.lcl.csv'\n",
    "dataset_path = \"../data/tommaso_data/allUsers.lcl.csv\"\n",
    "\n",
    "df = pd.read_csv(dataset_path)\n",
    "#knn Cannot work with mining data, so replace them with a 0\n",
    "df = df.replace('?', 0)\n",
    "#df = df.dropna(thresh=len(df) * 0.10, axis=1)\n"
   ]
  },
  {
   "cell_type": "code",
   "execution_count": 153,
   "outputs": [],
   "source": [
    "from sklearn.metrics import accuracy_score, f1_score, roc_auc_score, precision_score, recall_score\n",
    "\n",
    "def save_results(clf, X_test, y_test, nclf, dataf):\n",
    "    dataf.loc[nclf, 'acc'] = accuracy_score(y_test, clf.predict(X_test))\n",
    "    dataf.loc[nclf,'prec'] = precision_score(y_test, clf.predict(X_test), average='weighted')\n",
    "    dataf.loc[nclf,'recall'] = recall_score(y_test, clf.predict(X_test), average='weighted')\n",
    "    dataf.loc[nclf, 'test f1 score (W)'] = f1_score(y_test, clf.predict(X_test), average='macro')\n",
    "    return dataf\n",
    "\n",
    "results_df = pd.DataFrame()\n",
    "\n"
   ],
   "metadata": {
    "collapsed": false,
    "ExecuteTime": {
     "end_time": "2023-05-19T19:18:10.479786700Z",
     "start_time": "2023-05-19T19:18:10.467879300Z"
    }
   }
  },
  {
   "cell_type": "markdown",
   "id": "5c618663",
   "metadata": {
    "id": "5c618663"
   },
   "source": [
    "# KNN"
   ]
  },
  {
   "cell_type": "markdown",
   "id": "f6f19a8d",
   "metadata": {
    "id": "f6f19a8d"
   },
   "source": [
    "# Class recognition with User label"
   ]
  },
  {
   "cell_type": "code",
   "execution_count": 154,
   "id": "2518a4a1",
   "metadata": {
    "id": "2518a4a1",
    "ExecuteTime": {
     "end_time": "2023-05-19T19:18:10.695052Z",
     "start_time": "2023-05-19T19:18:10.479786700Z"
    }
   },
   "outputs": [],
   "source": [
    "df2 = df.drop(['Class'], axis=1)\n",
    "labels_Class = df['Class']\n",
    "\n",
    "X_train, X_test, y_train, y_test,  = train_test_split(df2, labels_Class, test_size=0.20, random_state=42)\n"
   ]
  },
  {
   "cell_type": "markdown",
   "id": "9aada6bf",
   "metadata": {
    "id": "9aada6bf"
   },
   "source": []
  },
  {
   "cell_type": "code",
   "execution_count": 155,
   "id": "f01a4953",
   "metadata": {
    "colab": {
     "base_uri": "https://localhost:8080/",
     "height": 74
    },
    "id": "f01a4953",
    "outputId": "4618c184-f135-42b1-f003-65ec39c49242",
    "ExecuteTime": {
     "end_time": "2023-05-19T19:18:11.095500400Z",
     "start_time": "2023-05-19T19:18:10.699099500Z"
    }
   },
   "outputs": [
    {
     "data": {
      "text/plain": "KNeighborsClassifier(n_neighbors=1)",
      "text/html": "<style>#sk-container-id-21 {color: black;background-color: white;}#sk-container-id-21 pre{padding: 0;}#sk-container-id-21 div.sk-toggleable {background-color: white;}#sk-container-id-21 label.sk-toggleable__label {cursor: pointer;display: block;width: 100%;margin-bottom: 0;padding: 0.3em;box-sizing: border-box;text-align: center;}#sk-container-id-21 label.sk-toggleable__label-arrow:before {content: \"▸\";float: left;margin-right: 0.25em;color: #696969;}#sk-container-id-21 label.sk-toggleable__label-arrow:hover:before {color: black;}#sk-container-id-21 div.sk-estimator:hover label.sk-toggleable__label-arrow:before {color: black;}#sk-container-id-21 div.sk-toggleable__content {max-height: 0;max-width: 0;overflow: hidden;text-align: left;background-color: #f0f8ff;}#sk-container-id-21 div.sk-toggleable__content pre {margin: 0.2em;color: black;border-radius: 0.25em;background-color: #f0f8ff;}#sk-container-id-21 input.sk-toggleable__control:checked~div.sk-toggleable__content {max-height: 200px;max-width: 100%;overflow: auto;}#sk-container-id-21 input.sk-toggleable__control:checked~label.sk-toggleable__label-arrow:before {content: \"▾\";}#sk-container-id-21 div.sk-estimator input.sk-toggleable__control:checked~label.sk-toggleable__label {background-color: #d4ebff;}#sk-container-id-21 div.sk-label input.sk-toggleable__control:checked~label.sk-toggleable__label {background-color: #d4ebff;}#sk-container-id-21 input.sk-hidden--visually {border: 0;clip: rect(1px 1px 1px 1px);clip: rect(1px, 1px, 1px, 1px);height: 1px;margin: -1px;overflow: hidden;padding: 0;position: absolute;width: 1px;}#sk-container-id-21 div.sk-estimator {font-family: monospace;background-color: #f0f8ff;border: 1px dotted black;border-radius: 0.25em;box-sizing: border-box;margin-bottom: 0.5em;}#sk-container-id-21 div.sk-estimator:hover {background-color: #d4ebff;}#sk-container-id-21 div.sk-parallel-item::after {content: \"\";width: 100%;border-bottom: 1px solid gray;flex-grow: 1;}#sk-container-id-21 div.sk-label:hover label.sk-toggleable__label {background-color: #d4ebff;}#sk-container-id-21 div.sk-serial::before {content: \"\";position: absolute;border-left: 1px solid gray;box-sizing: border-box;top: 0;bottom: 0;left: 50%;z-index: 0;}#sk-container-id-21 div.sk-serial {display: flex;flex-direction: column;align-items: center;background-color: white;padding-right: 0.2em;padding-left: 0.2em;position: relative;}#sk-container-id-21 div.sk-item {position: relative;z-index: 1;}#sk-container-id-21 div.sk-parallel {display: flex;align-items: stretch;justify-content: center;background-color: white;position: relative;}#sk-container-id-21 div.sk-item::before, #sk-container-id-21 div.sk-parallel-item::before {content: \"\";position: absolute;border-left: 1px solid gray;box-sizing: border-box;top: 0;bottom: 0;left: 50%;z-index: -1;}#sk-container-id-21 div.sk-parallel-item {display: flex;flex-direction: column;z-index: 1;position: relative;background-color: white;}#sk-container-id-21 div.sk-parallel-item:first-child::after {align-self: flex-end;width: 50%;}#sk-container-id-21 div.sk-parallel-item:last-child::after {align-self: flex-start;width: 50%;}#sk-container-id-21 div.sk-parallel-item:only-child::after {width: 0;}#sk-container-id-21 div.sk-dashed-wrapped {border: 1px dashed gray;margin: 0 0.4em 0.5em 0.4em;box-sizing: border-box;padding-bottom: 0.4em;background-color: white;}#sk-container-id-21 div.sk-label label {font-family: monospace;font-weight: bold;display: inline-block;line-height: 1.2em;}#sk-container-id-21 div.sk-label-container {text-align: center;}#sk-container-id-21 div.sk-container {/* jupyter's `normalize.less` sets `[hidden] { display: none; }` but bootstrap.min.css set `[hidden] { display: none !important; }` so we also need the `!important` here to be able to override the default hidden behavior on the sphinx rendered scikit-learn.org. See: https://github.com/scikit-learn/scikit-learn/issues/21755 */display: inline-block !important;position: relative;}#sk-container-id-21 div.sk-text-repr-fallback {display: none;}</style><div id=\"sk-container-id-21\" class=\"sk-top-container\"><div class=\"sk-text-repr-fallback\"><pre>KNeighborsClassifier(n_neighbors=1)</pre><b>In a Jupyter environment, please rerun this cell to show the HTML representation or trust the notebook. <br />On GitHub, the HTML representation is unable to render, please try loading this page with nbviewer.org.</b></div><div class=\"sk-container\" hidden><div class=\"sk-item\"><div class=\"sk-estimator sk-toggleable\"><input class=\"sk-toggleable__control sk-hidden--visually\" id=\"sk-estimator-id-21\" type=\"checkbox\" checked><label for=\"sk-estimator-id-21\" class=\"sk-toggleable__label sk-toggleable__label-arrow\">KNeighborsClassifier</label><div class=\"sk-toggleable__content\"><pre>KNeighborsClassifier(n_neighbors=1)</pre></div></div></div></div></div>"
     },
     "execution_count": 155,
     "metadata": {},
     "output_type": "execute_result"
    }
   ],
   "source": [
    "from sklearn.neighbors import KNeighborsClassifier\n",
    "knn = KNeighborsClassifier(n_neighbors=1)\n",
    "knn.fit(X_train, y_train)\n"
   ]
  },
  {
   "cell_type": "code",
   "execution_count": 156,
   "id": "7f99c82e",
   "metadata": {
    "colab": {
     "base_uri": "https://localhost:8080/"
    },
    "id": "7f99c82e",
    "outputId": "9e0992c9-8921-4c6d-b7c9-c6b868b100f7",
    "ExecuteTime": {
     "end_time": "2023-05-19T19:18:13.963001400Z",
     "start_time": "2023-05-19T19:18:11.095500400Z"
    }
   },
   "outputs": [
    {
     "name": "stdout",
     "output_type": "stream",
     "text": [
      "0.9602432778489116\n"
     ]
    }
   ],
   "source": [
    "print(knn.score(X_test, y_test))\n"
   ]
  },
  {
   "cell_type": "code",
   "execution_count": 157,
   "outputs": [],
   "source": [
    "results_df = save_results(knn, X_test, y_test, 'KNN', results_df)"
   ],
   "metadata": {
    "collapsed": false,
    "ExecuteTime": {
     "end_time": "2023-05-19T19:18:25.815798400Z",
     "start_time": "2023-05-19T19:18:13.963001400Z"
    }
   }
  },
  {
   "cell_type": "markdown",
   "id": "eb18a83d",
   "metadata": {
    "id": "eb18a83d"
   },
   "source": []
  },
  {
   "cell_type": "markdown",
   "id": "c52e9d51",
   "metadata": {
    "id": "c52e9d51"
   },
   "source": [
    "# Hand owner recognition with Class label"
   ]
  },
  {
   "cell_type": "code",
   "execution_count": 158,
   "id": "b31cbd01",
   "metadata": {
    "id": "b31cbd01",
    "ExecuteTime": {
     "end_time": "2023-05-19T19:18:25.985373600Z",
     "start_time": "2023-05-19T19:18:25.815798400Z"
    }
   },
   "outputs": [],
   "source": [
    "df2 = df.drop(['User'], axis=1)\n",
    "labels_Users = df['User']\n",
    "X_train, X_test, y_train, y_test,  = train_test_split(df2, labels_Users, test_size=0.20, random_state=42)"
   ]
  },
  {
   "cell_type": "code",
   "execution_count": 159,
   "id": "1f316e77",
   "metadata": {
    "id": "1f316e77",
    "outputId": "847fdf5b-72e3-4dcd-dd39-143814e73984",
    "ExecuteTime": {
     "end_time": "2023-05-19T19:18:26.367406400Z",
     "start_time": "2023-05-19T19:18:25.988882600Z"
    }
   },
   "outputs": [
    {
     "data": {
      "text/plain": "KNeighborsClassifier(n_neighbors=1)",
      "text/html": "<style>#sk-container-id-22 {color: black;background-color: white;}#sk-container-id-22 pre{padding: 0;}#sk-container-id-22 div.sk-toggleable {background-color: white;}#sk-container-id-22 label.sk-toggleable__label {cursor: pointer;display: block;width: 100%;margin-bottom: 0;padding: 0.3em;box-sizing: border-box;text-align: center;}#sk-container-id-22 label.sk-toggleable__label-arrow:before {content: \"▸\";float: left;margin-right: 0.25em;color: #696969;}#sk-container-id-22 label.sk-toggleable__label-arrow:hover:before {color: black;}#sk-container-id-22 div.sk-estimator:hover label.sk-toggleable__label-arrow:before {color: black;}#sk-container-id-22 div.sk-toggleable__content {max-height: 0;max-width: 0;overflow: hidden;text-align: left;background-color: #f0f8ff;}#sk-container-id-22 div.sk-toggleable__content pre {margin: 0.2em;color: black;border-radius: 0.25em;background-color: #f0f8ff;}#sk-container-id-22 input.sk-toggleable__control:checked~div.sk-toggleable__content {max-height: 200px;max-width: 100%;overflow: auto;}#sk-container-id-22 input.sk-toggleable__control:checked~label.sk-toggleable__label-arrow:before {content: \"▾\";}#sk-container-id-22 div.sk-estimator input.sk-toggleable__control:checked~label.sk-toggleable__label {background-color: #d4ebff;}#sk-container-id-22 div.sk-label input.sk-toggleable__control:checked~label.sk-toggleable__label {background-color: #d4ebff;}#sk-container-id-22 input.sk-hidden--visually {border: 0;clip: rect(1px 1px 1px 1px);clip: rect(1px, 1px, 1px, 1px);height: 1px;margin: -1px;overflow: hidden;padding: 0;position: absolute;width: 1px;}#sk-container-id-22 div.sk-estimator {font-family: monospace;background-color: #f0f8ff;border: 1px dotted black;border-radius: 0.25em;box-sizing: border-box;margin-bottom: 0.5em;}#sk-container-id-22 div.sk-estimator:hover {background-color: #d4ebff;}#sk-container-id-22 div.sk-parallel-item::after {content: \"\";width: 100%;border-bottom: 1px solid gray;flex-grow: 1;}#sk-container-id-22 div.sk-label:hover label.sk-toggleable__label {background-color: #d4ebff;}#sk-container-id-22 div.sk-serial::before {content: \"\";position: absolute;border-left: 1px solid gray;box-sizing: border-box;top: 0;bottom: 0;left: 50%;z-index: 0;}#sk-container-id-22 div.sk-serial {display: flex;flex-direction: column;align-items: center;background-color: white;padding-right: 0.2em;padding-left: 0.2em;position: relative;}#sk-container-id-22 div.sk-item {position: relative;z-index: 1;}#sk-container-id-22 div.sk-parallel {display: flex;align-items: stretch;justify-content: center;background-color: white;position: relative;}#sk-container-id-22 div.sk-item::before, #sk-container-id-22 div.sk-parallel-item::before {content: \"\";position: absolute;border-left: 1px solid gray;box-sizing: border-box;top: 0;bottom: 0;left: 50%;z-index: -1;}#sk-container-id-22 div.sk-parallel-item {display: flex;flex-direction: column;z-index: 1;position: relative;background-color: white;}#sk-container-id-22 div.sk-parallel-item:first-child::after {align-self: flex-end;width: 50%;}#sk-container-id-22 div.sk-parallel-item:last-child::after {align-self: flex-start;width: 50%;}#sk-container-id-22 div.sk-parallel-item:only-child::after {width: 0;}#sk-container-id-22 div.sk-dashed-wrapped {border: 1px dashed gray;margin: 0 0.4em 0.5em 0.4em;box-sizing: border-box;padding-bottom: 0.4em;background-color: white;}#sk-container-id-22 div.sk-label label {font-family: monospace;font-weight: bold;display: inline-block;line-height: 1.2em;}#sk-container-id-22 div.sk-label-container {text-align: center;}#sk-container-id-22 div.sk-container {/* jupyter's `normalize.less` sets `[hidden] { display: none; }` but bootstrap.min.css set `[hidden] { display: none !important; }` so we also need the `!important` here to be able to override the default hidden behavior on the sphinx rendered scikit-learn.org. See: https://github.com/scikit-learn/scikit-learn/issues/21755 */display: inline-block !important;position: relative;}#sk-container-id-22 div.sk-text-repr-fallback {display: none;}</style><div id=\"sk-container-id-22\" class=\"sk-top-container\"><div class=\"sk-text-repr-fallback\"><pre>KNeighborsClassifier(n_neighbors=1)</pre><b>In a Jupyter environment, please rerun this cell to show the HTML representation or trust the notebook. <br />On GitHub, the HTML representation is unable to render, please try loading this page with nbviewer.org.</b></div><div class=\"sk-container\" hidden><div class=\"sk-item\"><div class=\"sk-estimator sk-toggleable\"><input class=\"sk-toggleable__control sk-hidden--visually\" id=\"sk-estimator-id-22\" type=\"checkbox\" checked><label for=\"sk-estimator-id-22\" class=\"sk-toggleable__label sk-toggleable__label-arrow\">KNeighborsClassifier</label><div class=\"sk-toggleable__content\"><pre>KNeighborsClassifier(n_neighbors=1)</pre></div></div></div></div></div>"
     },
     "execution_count": 159,
     "metadata": {},
     "output_type": "execute_result"
    }
   ],
   "source": [
    "knn = KNeighborsClassifier(n_neighbors=1)\n",
    "knn.fit(X_train, y_train)\n"
   ]
  },
  {
   "cell_type": "code",
   "execution_count": 160,
   "id": "3238672d",
   "metadata": {
    "id": "3238672d",
    "outputId": "1d576981-4962-4f5d-a629-80a7135ef377",
    "ExecuteTime": {
     "end_time": "2023-05-19T19:18:28.999251800Z",
     "start_time": "2023-05-19T19:18:26.372412400Z"
    }
   },
   "outputs": [
    {
     "name": "stdout",
     "output_type": "stream",
     "text": [
      "0.8646606914212548\n"
     ]
    }
   ],
   "source": [
    "print(knn.score(X_test, y_test))"
   ]
  },
  {
   "cell_type": "code",
   "execution_count": 161,
   "outputs": [],
   "source": [
    "results_df = save_results(knn, X_test, y_test, 'KNN', results_df)\n"
   ],
   "metadata": {
    "collapsed": false,
    "ExecuteTime": {
     "end_time": "2023-05-19T19:18:40.875772800Z",
     "start_time": "2023-05-19T19:18:29.104930300Z"
    }
   }
  },
  {
   "cell_type": "markdown",
   "id": "3c855808",
   "metadata": {
    "id": "3c855808"
   },
   "source": [
    "# Class recognition without User label"
   ]
  },
  {
   "cell_type": "code",
   "execution_count": 162,
   "id": "0b864c6d",
   "metadata": {
    "id": "0b864c6d",
    "ExecuteTime": {
     "end_time": "2023-05-19T19:18:41.134526600Z",
     "start_time": "2023-05-19T19:18:40.885281100Z"
    }
   },
   "outputs": [],
   "source": [
    "df2 = df.drop(['User'], axis=1)\n",
    "df2 = df2.drop(['Class'], axis=1)\n",
    "labels_Class = df['Class']\n",
    "X_train, X_test, y_train, y_test,  = train_test_split(df2, labels_Class, test_size=0.20, random_state=42)"
   ]
  },
  {
   "cell_type": "code",
   "execution_count": 163,
   "id": "1de9b023",
   "metadata": {
    "id": "1de9b023",
    "outputId": "573b7fcf-617d-4df5-8ac1-64ea19f266a6",
    "ExecuteTime": {
     "end_time": "2023-05-19T19:18:44.358138700Z",
     "start_time": "2023-05-19T19:18:41.137551800Z"
    }
   },
   "outputs": [
    {
     "name": "stdout",
     "output_type": "stream",
     "text": [
      "0.9596670934699104\n"
     ]
    }
   ],
   "source": [
    "knn = KNeighborsClassifier(n_neighbors=1)\n",
    "knn.fit(X_train, y_train)\n",
    "print(knn.score(X_test, y_test))"
   ]
  },
  {
   "cell_type": "code",
   "execution_count": 164,
   "outputs": [],
   "source": [
    "results_df = save_results(knn, X_test, y_test, 'KNN', results_df)\n"
   ],
   "metadata": {
    "collapsed": false,
    "ExecuteTime": {
     "end_time": "2023-05-19T19:18:56.286997900Z",
     "start_time": "2023-05-19T19:18:44.358138700Z"
    }
   }
  },
  {
   "cell_type": "markdown",
   "id": "54ec9011",
   "metadata": {
    "id": "54ec9011"
   },
   "source": [
    "# Class recognition without Class label"
   ]
  },
  {
   "cell_type": "code",
   "execution_count": 165,
   "id": "1a987e55",
   "metadata": {
    "id": "1a987e55",
    "ExecuteTime": {
     "end_time": "2023-05-19T19:18:56.510708500Z",
     "start_time": "2023-05-19T19:18:56.286997900Z"
    }
   },
   "outputs": [],
   "source": [
    "df2 = df.drop(['User'], axis=1)\n",
    "df2 = df2.drop(['Class'], axis=1)\n",
    "\n",
    "labels_Users = df['User']\n",
    "X_train, X_test, y_train, y_test,  = train_test_split(df2, labels_Users, test_size=0.20, random_state=42)"
   ]
  },
  {
   "cell_type": "code",
   "execution_count": 166,
   "id": "c4360d7b",
   "metadata": {
    "id": "c4360d7b",
    "outputId": "f4a324ec-eead-40ba-c519-b8df6fec715b",
    "ExecuteTime": {
     "end_time": "2023-05-19T19:18:59.662600300Z",
     "start_time": "2023-05-19T19:18:56.526349Z"
    }
   },
   "outputs": [
    {
     "name": "stdout",
     "output_type": "stream",
     "text": [
      "0.8646606914212548\n"
     ]
    }
   ],
   "source": [
    "knn = KNeighborsClassifier(n_neighbors=1)\n",
    "knn.fit(X_train, y_train)\n",
    "print(knn.score(X_test, y_test))"
   ]
  },
  {
   "cell_type": "code",
   "execution_count": 167,
   "outputs": [],
   "source": [
    "results_df = save_results(knn, X_test, y_test, 'KNN', results_df)\n"
   ],
   "metadata": {
    "collapsed": false,
    "ExecuteTime": {
     "end_time": "2023-05-19T19:19:10.532366700Z",
     "start_time": "2023-05-19T19:18:59.662600300Z"
    }
   }
  },
  {
   "cell_type": "markdown",
   "id": "eb119607",
   "metadata": {
    "id": "eb119607"
   },
   "source": [
    "# SVM"
   ]
  },
  {
   "cell_type": "code",
   "execution_count": 168,
   "id": "a80b9469",
   "metadata": {
    "colab": {
     "base_uri": "https://localhost:8080/",
     "height": 500
    },
    "id": "a80b9469",
    "outputId": "ea8d6bff-54dd-4e08-e749-f70816e493a8",
    "ExecuteTime": {
     "end_time": "2023-05-19T19:19:12.086080500Z",
     "start_time": "2023-05-19T19:19:10.516349400Z"
    }
   },
   "outputs": [],
   "source": [
    "from sklearn.svm import SVC\n",
    "from sklearn.preprocessing import StandardScaler\n",
    "\n",
    "import matplotlib.pyplot as plt\n",
    "from sklearn.model_selection import train_test_split\n",
    "# !pip insall sklearn.grid_search\n",
    "from sklearn.model_selection import GridSearchCV\n",
    "from sklearn.metrics import classification_report, confusion_matrix\n",
    "\n",
    "# dataset_path = 'allUsers.lcl.csv'\n",
    "\n",
    "df = pd.read_csv(dataset_path)\n",
    "\n",
    "df = df.replace('?', np.nan)\n",
    "df = df.dropna(thresh=len(df) * 0.8 , axis=1)\n",
    "df = df.replace(np.nan, 0)\n",
    "\n",
    "drop_indices = np.random.choice(df.index, 75000, replace=False)\n",
    "df = df.drop(drop_indices)"
   ]
  },
  {
   "cell_type": "markdown",
   "id": "50f70119",
   "metadata": {
    "id": "50f70119"
   },
   "source": [
    "# Class recognition without User label"
   ]
  },
  {
   "cell_type": "code",
   "execution_count": 169,
   "id": "32fde41d",
   "metadata": {
    "colab": {
     "base_uri": "https://localhost:8080/"
    },
    "id": "32fde41d",
    "outputId": "665a4821-cc00-4d2b-f04c-4a398fa5edf9",
    "ExecuteTime": {
     "end_time": "2023-05-19T19:19:13.332707600Z",
     "start_time": "2023-05-19T19:19:12.105313500Z"
    }
   },
   "outputs": [
    {
     "name": "stdout",
     "output_type": "stream",
     "text": [
      "0.2564516129032258\n"
     ]
    }
   ],
   "source": [
    "df2 = df.drop(['User'], axis=1)\n",
    "df2 = df2.drop(['Class'], axis=1)\n",
    "labels_Class = df['Class']\n",
    "X_train, X_test, y_train, y_test,  = train_test_split(df2, labels_Class, test_size=0.20, random_state=42)\n",
    "\n",
    "clf = SVC(kernel='rbf', gamma=\"auto\", C = 7)\n",
    "clf.fit(X_train, y_train)\n",
    "print(clf.score(X_test, y_test))"
   ]
  },
  {
   "cell_type": "code",
   "execution_count": 170,
   "outputs": [
    {
     "name": "stderr",
     "output_type": "stream",
     "text": [
      "C:\\Users\\polcg\\.virtualenvs\\MD2-NovaiZ3s\\Lib\\site-packages\\sklearn\\metrics\\_classification.py:1344: UndefinedMetricWarning: Precision is ill-defined and being set to 0.0 in labels with no predicted samples. Use `zero_division` parameter to control this behavior.\n",
      "  _warn_prf(average, modifier, msg_start, len(result))\n"
     ]
    }
   ],
   "source": [
    "results_df = save_results(clf, X_test, y_test, 'SVC', results_df)\n"
   ],
   "metadata": {
    "collapsed": false,
    "ExecuteTime": {
     "end_time": "2023-05-19T19:19:14.327704800Z",
     "start_time": "2023-05-19T19:19:13.332707600Z"
    }
   }
  },
  {
   "cell_type": "markdown",
   "source": [
    "# SVC gread search class recognition without user label"
   ],
   "metadata": {
    "id": "2TpbiE7ZmBKr"
   },
   "id": "2TpbiE7ZmBKr"
  },
  {
   "cell_type": "code",
   "source": [
    "param_grid = {'C':[1,10,100,1000],\n",
    "              'gamma':[1,0.1,0.001,0.0001], \n",
    "              'kernel':['sigmoid','rbf']}\n",
    "\n",
    "grid = GridSearchCV(SVC(),param_grid,refit = True, verbose=2)\n",
    "\n",
    "grid.fit(X_train,y_train)\n"
   ],
   "metadata": {
    "colab": {
     "base_uri": "https://localhost:8080/",
     "height": 1000
    },
    "id": "eiutRu3ll62i",
    "outputId": "d3c3eb6e-7725-43b6-a71c-12ff0f463dee",
    "ExecuteTime": {
     "end_time": "2023-05-19T19:20:20.952266Z",
     "start_time": "2023-05-19T19:19:14.327704800Z"
    }
   },
   "id": "eiutRu3ll62i",
   "execution_count": 171,
   "outputs": [
    {
     "name": "stdout",
     "output_type": "stream",
     "text": [
      "Fitting 5 folds for each of 32 candidates, totalling 160 fits\n",
      "[CV] END .......................C=1, gamma=1, kernel=sigmoid; total time=   0.1s\n",
      "[CV] END .......................C=1, gamma=1, kernel=sigmoid; total time=   0.1s\n",
      "[CV] END .......................C=1, gamma=1, kernel=sigmoid; total time=   0.1s\n",
      "[CV] END .......................C=1, gamma=1, kernel=sigmoid; total time=   0.1s\n",
      "[CV] END .......................C=1, gamma=1, kernel=sigmoid; total time=   0.1s\n",
      "[CV] END ...........................C=1, gamma=1, kernel=rbf; total time=   0.6s\n",
      "[CV] END ...........................C=1, gamma=1, kernel=rbf; total time=   0.6s\n",
      "[CV] END ...........................C=1, gamma=1, kernel=rbf; total time=   0.7s\n",
      "[CV] END ...........................C=1, gamma=1, kernel=rbf; total time=   0.6s\n",
      "[CV] END ...........................C=1, gamma=1, kernel=rbf; total time=   0.6s\n",
      "[CV] END .....................C=1, gamma=0.1, kernel=sigmoid; total time=   0.1s\n",
      "[CV] END .....................C=1, gamma=0.1, kernel=sigmoid; total time=   0.1s\n",
      "[CV] END .....................C=1, gamma=0.1, kernel=sigmoid; total time=   0.1s\n",
      "[CV] END .....................C=1, gamma=0.1, kernel=sigmoid; total time=   0.1s\n",
      "[CV] END .....................C=1, gamma=0.1, kernel=sigmoid; total time=   0.1s\n",
      "[CV] END .........................C=1, gamma=0.1, kernel=rbf; total time=   0.6s\n",
      "[CV] END .........................C=1, gamma=0.1, kernel=rbf; total time=   0.7s\n",
      "[CV] END .........................C=1, gamma=0.1, kernel=rbf; total time=   0.6s\n",
      "[CV] END .........................C=1, gamma=0.1, kernel=rbf; total time=   0.6s\n",
      "[CV] END .........................C=1, gamma=0.1, kernel=rbf; total time=   0.6s\n",
      "[CV] END ...................C=1, gamma=0.001, kernel=sigmoid; total time=   0.1s\n",
      "[CV] END ...................C=1, gamma=0.001, kernel=sigmoid; total time=   0.2s\n",
      "[CV] END ...................C=1, gamma=0.001, kernel=sigmoid; total time=   0.1s\n",
      "[CV] END ...................C=1, gamma=0.001, kernel=sigmoid; total time=   0.1s\n",
      "[CV] END ...................C=1, gamma=0.001, kernel=sigmoid; total time=   0.1s\n",
      "[CV] END .......................C=1, gamma=0.001, kernel=rbf; total time=   0.3s\n",
      "[CV] END .......................C=1, gamma=0.001, kernel=rbf; total time=   0.3s\n",
      "[CV] END .......................C=1, gamma=0.001, kernel=rbf; total time=   0.3s\n",
      "[CV] END .......................C=1, gamma=0.001, kernel=rbf; total time=   0.3s\n",
      "[CV] END .......................C=1, gamma=0.001, kernel=rbf; total time=   0.3s\n",
      "[CV] END ..................C=1, gamma=0.0001, kernel=sigmoid; total time=   0.3s\n",
      "[CV] END ..................C=1, gamma=0.0001, kernel=sigmoid; total time=   0.3s\n",
      "[CV] END ..................C=1, gamma=0.0001, kernel=sigmoid; total time=   0.3s\n",
      "[CV] END ..................C=1, gamma=0.0001, kernel=sigmoid; total time=   0.3s\n",
      "[CV] END ..................C=1, gamma=0.0001, kernel=sigmoid; total time=   0.3s\n",
      "[CV] END ......................C=1, gamma=0.0001, kernel=rbf; total time=   0.2s\n",
      "[CV] END ......................C=1, gamma=0.0001, kernel=rbf; total time=   0.2s\n",
      "[CV] END ......................C=1, gamma=0.0001, kernel=rbf; total time=   0.2s\n",
      "[CV] END ......................C=1, gamma=0.0001, kernel=rbf; total time=   0.2s\n",
      "[CV] END ......................C=1, gamma=0.0001, kernel=rbf; total time=   0.2s\n",
      "[CV] END ......................C=10, gamma=1, kernel=sigmoid; total time=   0.1s\n",
      "[CV] END ......................C=10, gamma=1, kernel=sigmoid; total time=   0.1s\n",
      "[CV] END ......................C=10, gamma=1, kernel=sigmoid; total time=   0.1s\n",
      "[CV] END ......................C=10, gamma=1, kernel=sigmoid; total time=   0.1s\n",
      "[CV] END ......................C=10, gamma=1, kernel=sigmoid; total time=   0.1s\n",
      "[CV] END ..........................C=10, gamma=1, kernel=rbf; total time=   0.6s\n",
      "[CV] END ..........................C=10, gamma=1, kernel=rbf; total time=   0.7s\n",
      "[CV] END ..........................C=10, gamma=1, kernel=rbf; total time=   0.7s\n",
      "[CV] END ..........................C=10, gamma=1, kernel=rbf; total time=   0.7s\n",
      "[CV] END ..........................C=10, gamma=1, kernel=rbf; total time=   0.7s\n",
      "[CV] END ....................C=10, gamma=0.1, kernel=sigmoid; total time=   0.1s\n",
      "[CV] END ....................C=10, gamma=0.1, kernel=sigmoid; total time=   0.1s\n",
      "[CV] END ....................C=10, gamma=0.1, kernel=sigmoid; total time=   0.1s\n",
      "[CV] END ....................C=10, gamma=0.1, kernel=sigmoid; total time=   0.1s\n",
      "[CV] END ....................C=10, gamma=0.1, kernel=sigmoid; total time=   0.1s\n",
      "[CV] END ........................C=10, gamma=0.1, kernel=rbf; total time=   0.7s\n",
      "[CV] END ........................C=10, gamma=0.1, kernel=rbf; total time=   0.6s\n",
      "[CV] END ........................C=10, gamma=0.1, kernel=rbf; total time=   0.7s\n",
      "[CV] END ........................C=10, gamma=0.1, kernel=rbf; total time=   0.7s\n",
      "[CV] END ........................C=10, gamma=0.1, kernel=rbf; total time=   0.7s\n",
      "[CV] END ..................C=10, gamma=0.001, kernel=sigmoid; total time=   0.1s\n",
      "[CV] END ..................C=10, gamma=0.001, kernel=sigmoid; total time=   0.1s\n",
      "[CV] END ..................C=10, gamma=0.001, kernel=sigmoid; total time=   0.1s\n",
      "[CV] END ..................C=10, gamma=0.001, kernel=sigmoid; total time=   0.1s\n",
      "[CV] END ..................C=10, gamma=0.001, kernel=sigmoid; total time=   0.1s\n",
      "[CV] END ......................C=10, gamma=0.001, kernel=rbf; total time=   0.4s\n",
      "[CV] END ......................C=10, gamma=0.001, kernel=rbf; total time=   0.3s\n",
      "[CV] END ......................C=10, gamma=0.001, kernel=rbf; total time=   0.3s\n",
      "[CV] END ......................C=10, gamma=0.001, kernel=rbf; total time=   0.3s\n",
      "[CV] END ......................C=10, gamma=0.001, kernel=rbf; total time=   0.3s\n",
      "[CV] END .................C=10, gamma=0.0001, kernel=sigmoid; total time=   0.3s\n",
      "[CV] END .................C=10, gamma=0.0001, kernel=sigmoid; total time=   0.3s\n",
      "[CV] END .................C=10, gamma=0.0001, kernel=sigmoid; total time=   0.3s\n",
      "[CV] END .................C=10, gamma=0.0001, kernel=sigmoid; total time=   0.3s\n",
      "[CV] END .................C=10, gamma=0.0001, kernel=sigmoid; total time=   0.3s\n",
      "[CV] END .....................C=10, gamma=0.0001, kernel=rbf; total time=   0.2s\n",
      "[CV] END .....................C=10, gamma=0.0001, kernel=rbf; total time=   0.3s\n",
      "[CV] END .....................C=10, gamma=0.0001, kernel=rbf; total time=   0.2s\n",
      "[CV] END .....................C=10, gamma=0.0001, kernel=rbf; total time=   0.2s\n",
      "[CV] END .....................C=10, gamma=0.0001, kernel=rbf; total time=   0.2s\n",
      "[CV] END .....................C=100, gamma=1, kernel=sigmoid; total time=   0.1s\n",
      "[CV] END .....................C=100, gamma=1, kernel=sigmoid; total time=   0.1s\n",
      "[CV] END .....................C=100, gamma=1, kernel=sigmoid; total time=   0.1s\n",
      "[CV] END .....................C=100, gamma=1, kernel=sigmoid; total time=   0.1s\n",
      "[CV] END .....................C=100, gamma=1, kernel=sigmoid; total time=   0.1s\n",
      "[CV] END .........................C=100, gamma=1, kernel=rbf; total time=   0.7s\n",
      "[CV] END .........................C=100, gamma=1, kernel=rbf; total time=   0.7s\n",
      "[CV] END .........................C=100, gamma=1, kernel=rbf; total time=   0.7s\n",
      "[CV] END .........................C=100, gamma=1, kernel=rbf; total time=   0.7s\n",
      "[CV] END .........................C=100, gamma=1, kernel=rbf; total time=   0.6s\n",
      "[CV] END ...................C=100, gamma=0.1, kernel=sigmoid; total time=   0.1s\n",
      "[CV] END ...................C=100, gamma=0.1, kernel=sigmoid; total time=   0.1s\n",
      "[CV] END ...................C=100, gamma=0.1, kernel=sigmoid; total time=   0.1s\n",
      "[CV] END ...................C=100, gamma=0.1, kernel=sigmoid; total time=   0.1s\n",
      "[CV] END ...................C=100, gamma=0.1, kernel=sigmoid; total time=   0.1s\n",
      "[CV] END .......................C=100, gamma=0.1, kernel=rbf; total time=   0.6s\n",
      "[CV] END .......................C=100, gamma=0.1, kernel=rbf; total time=   0.7s\n",
      "[CV] END .......................C=100, gamma=0.1, kernel=rbf; total time=   0.7s\n",
      "[CV] END .......................C=100, gamma=0.1, kernel=rbf; total time=   0.6s\n",
      "[CV] END .......................C=100, gamma=0.1, kernel=rbf; total time=   0.7s\n",
      "[CV] END .................C=100, gamma=0.001, kernel=sigmoid; total time=   0.1s\n",
      "[CV] END .................C=100, gamma=0.001, kernel=sigmoid; total time=   0.1s\n",
      "[CV] END .................C=100, gamma=0.001, kernel=sigmoid; total time=   0.1s\n",
      "[CV] END .................C=100, gamma=0.001, kernel=sigmoid; total time=   0.1s\n",
      "[CV] END .................C=100, gamma=0.001, kernel=sigmoid; total time=   0.1s\n",
      "[CV] END .....................C=100, gamma=0.001, kernel=rbf; total time=   0.3s\n",
      "[CV] END .....................C=100, gamma=0.001, kernel=rbf; total time=   0.3s\n",
      "[CV] END .....................C=100, gamma=0.001, kernel=rbf; total time=   0.4s\n",
      "[CV] END .....................C=100, gamma=0.001, kernel=rbf; total time=   0.3s\n",
      "[CV] END .....................C=100, gamma=0.001, kernel=rbf; total time=   0.3s\n",
      "[CV] END ................C=100, gamma=0.0001, kernel=sigmoid; total time=   0.3s\n",
      "[CV] END ................C=100, gamma=0.0001, kernel=sigmoid; total time=   0.3s\n",
      "[CV] END ................C=100, gamma=0.0001, kernel=sigmoid; total time=   0.3s\n",
      "[CV] END ................C=100, gamma=0.0001, kernel=sigmoid; total time=   0.3s\n",
      "[CV] END ................C=100, gamma=0.0001, kernel=sigmoid; total time=   0.2s\n",
      "[CV] END ....................C=100, gamma=0.0001, kernel=rbf; total time=   0.2s\n",
      "[CV] END ....................C=100, gamma=0.0001, kernel=rbf; total time=   0.2s\n",
      "[CV] END ....................C=100, gamma=0.0001, kernel=rbf; total time=   0.2s\n",
      "[CV] END ....................C=100, gamma=0.0001, kernel=rbf; total time=   0.2s\n",
      "[CV] END ....................C=100, gamma=0.0001, kernel=rbf; total time=   0.2s\n",
      "[CV] END ....................C=1000, gamma=1, kernel=sigmoid; total time=   0.1s\n",
      "[CV] END ....................C=1000, gamma=1, kernel=sigmoid; total time=   0.1s\n",
      "[CV] END ....................C=1000, gamma=1, kernel=sigmoid; total time=   0.1s\n",
      "[CV] END ....................C=1000, gamma=1, kernel=sigmoid; total time=   0.1s\n",
      "[CV] END ....................C=1000, gamma=1, kernel=sigmoid; total time=   0.1s\n",
      "[CV] END ........................C=1000, gamma=1, kernel=rbf; total time=   0.7s\n",
      "[CV] END ........................C=1000, gamma=1, kernel=rbf; total time=   0.7s\n",
      "[CV] END ........................C=1000, gamma=1, kernel=rbf; total time=   0.7s\n",
      "[CV] END ........................C=1000, gamma=1, kernel=rbf; total time=   0.7s\n",
      "[CV] END ........................C=1000, gamma=1, kernel=rbf; total time=   0.7s\n",
      "[CV] END ..................C=1000, gamma=0.1, kernel=sigmoid; total time=   0.1s\n",
      "[CV] END ..................C=1000, gamma=0.1, kernel=sigmoid; total time=   0.1s\n",
      "[CV] END ..................C=1000, gamma=0.1, kernel=sigmoid; total time=   0.1s\n",
      "[CV] END ..................C=1000, gamma=0.1, kernel=sigmoid; total time=   0.2s\n",
      "[CV] END ..................C=1000, gamma=0.1, kernel=sigmoid; total time=   0.1s\n",
      "[CV] END ......................C=1000, gamma=0.1, kernel=rbf; total time=   0.7s\n",
      "[CV] END ......................C=1000, gamma=0.1, kernel=rbf; total time=   0.7s\n",
      "[CV] END ......................C=1000, gamma=0.1, kernel=rbf; total time=   0.7s\n",
      "[CV] END ......................C=1000, gamma=0.1, kernel=rbf; total time=   0.7s\n",
      "[CV] END ......................C=1000, gamma=0.1, kernel=rbf; total time=   0.7s\n",
      "[CV] END ................C=1000, gamma=0.001, kernel=sigmoid; total time=   0.1s\n",
      "[CV] END ................C=1000, gamma=0.001, kernel=sigmoid; total time=   0.1s\n",
      "[CV] END ................C=1000, gamma=0.001, kernel=sigmoid; total time=   0.1s\n",
      "[CV] END ................C=1000, gamma=0.001, kernel=sigmoid; total time=   0.1s\n",
      "[CV] END ................C=1000, gamma=0.001, kernel=sigmoid; total time=   0.1s\n",
      "[CV] END ....................C=1000, gamma=0.001, kernel=rbf; total time=   0.3s\n",
      "[CV] END ....................C=1000, gamma=0.001, kernel=rbf; total time=   0.3s\n",
      "[CV] END ....................C=1000, gamma=0.001, kernel=rbf; total time=   0.3s\n",
      "[CV] END ....................C=1000, gamma=0.001, kernel=rbf; total time=   0.3s\n",
      "[CV] END ....................C=1000, gamma=0.001, kernel=rbf; total time=   0.3s\n",
      "[CV] END ...............C=1000, gamma=0.0001, kernel=sigmoid; total time=   0.2s\n",
      "[CV] END ...............C=1000, gamma=0.0001, kernel=sigmoid; total time=   0.2s\n",
      "[CV] END ...............C=1000, gamma=0.0001, kernel=sigmoid; total time=   0.2s\n",
      "[CV] END ...............C=1000, gamma=0.0001, kernel=sigmoid; total time=   0.2s\n",
      "[CV] END ...............C=1000, gamma=0.0001, kernel=sigmoid; total time=   0.2s\n",
      "[CV] END ...................C=1000, gamma=0.0001, kernel=rbf; total time=   0.2s\n",
      "[CV] END ...................C=1000, gamma=0.0001, kernel=rbf; total time=   0.3s\n",
      "[CV] END ...................C=1000, gamma=0.0001, kernel=rbf; total time=   0.2s\n",
      "[CV] END ...................C=1000, gamma=0.0001, kernel=rbf; total time=   0.2s\n",
      "[CV] END ...................C=1000, gamma=0.0001, kernel=rbf; total time=   0.2s\n"
     ]
    },
    {
     "data": {
      "text/plain": "GridSearchCV(estimator=SVC(),\n             param_grid={'C': [1, 10, 100, 1000],\n                         'gamma': [1, 0.1, 0.001, 0.0001],\n                         'kernel': ['sigmoid', 'rbf']},\n             verbose=2)",
      "text/html": "<style>#sk-container-id-23 {color: black;background-color: white;}#sk-container-id-23 pre{padding: 0;}#sk-container-id-23 div.sk-toggleable {background-color: white;}#sk-container-id-23 label.sk-toggleable__label {cursor: pointer;display: block;width: 100%;margin-bottom: 0;padding: 0.3em;box-sizing: border-box;text-align: center;}#sk-container-id-23 label.sk-toggleable__label-arrow:before {content: \"▸\";float: left;margin-right: 0.25em;color: #696969;}#sk-container-id-23 label.sk-toggleable__label-arrow:hover:before {color: black;}#sk-container-id-23 div.sk-estimator:hover label.sk-toggleable__label-arrow:before {color: black;}#sk-container-id-23 div.sk-toggleable__content {max-height: 0;max-width: 0;overflow: hidden;text-align: left;background-color: #f0f8ff;}#sk-container-id-23 div.sk-toggleable__content pre {margin: 0.2em;color: black;border-radius: 0.25em;background-color: #f0f8ff;}#sk-container-id-23 input.sk-toggleable__control:checked~div.sk-toggleable__content {max-height: 200px;max-width: 100%;overflow: auto;}#sk-container-id-23 input.sk-toggleable__control:checked~label.sk-toggleable__label-arrow:before {content: \"▾\";}#sk-container-id-23 div.sk-estimator input.sk-toggleable__control:checked~label.sk-toggleable__label {background-color: #d4ebff;}#sk-container-id-23 div.sk-label input.sk-toggleable__control:checked~label.sk-toggleable__label {background-color: #d4ebff;}#sk-container-id-23 input.sk-hidden--visually {border: 0;clip: rect(1px 1px 1px 1px);clip: rect(1px, 1px, 1px, 1px);height: 1px;margin: -1px;overflow: hidden;padding: 0;position: absolute;width: 1px;}#sk-container-id-23 div.sk-estimator {font-family: monospace;background-color: #f0f8ff;border: 1px dotted black;border-radius: 0.25em;box-sizing: border-box;margin-bottom: 0.5em;}#sk-container-id-23 div.sk-estimator:hover {background-color: #d4ebff;}#sk-container-id-23 div.sk-parallel-item::after {content: \"\";width: 100%;border-bottom: 1px solid gray;flex-grow: 1;}#sk-container-id-23 div.sk-label:hover label.sk-toggleable__label {background-color: #d4ebff;}#sk-container-id-23 div.sk-serial::before {content: \"\";position: absolute;border-left: 1px solid gray;box-sizing: border-box;top: 0;bottom: 0;left: 50%;z-index: 0;}#sk-container-id-23 div.sk-serial {display: flex;flex-direction: column;align-items: center;background-color: white;padding-right: 0.2em;padding-left: 0.2em;position: relative;}#sk-container-id-23 div.sk-item {position: relative;z-index: 1;}#sk-container-id-23 div.sk-parallel {display: flex;align-items: stretch;justify-content: center;background-color: white;position: relative;}#sk-container-id-23 div.sk-item::before, #sk-container-id-23 div.sk-parallel-item::before {content: \"\";position: absolute;border-left: 1px solid gray;box-sizing: border-box;top: 0;bottom: 0;left: 50%;z-index: -1;}#sk-container-id-23 div.sk-parallel-item {display: flex;flex-direction: column;z-index: 1;position: relative;background-color: white;}#sk-container-id-23 div.sk-parallel-item:first-child::after {align-self: flex-end;width: 50%;}#sk-container-id-23 div.sk-parallel-item:last-child::after {align-self: flex-start;width: 50%;}#sk-container-id-23 div.sk-parallel-item:only-child::after {width: 0;}#sk-container-id-23 div.sk-dashed-wrapped {border: 1px dashed gray;margin: 0 0.4em 0.5em 0.4em;box-sizing: border-box;padding-bottom: 0.4em;background-color: white;}#sk-container-id-23 div.sk-label label {font-family: monospace;font-weight: bold;display: inline-block;line-height: 1.2em;}#sk-container-id-23 div.sk-label-container {text-align: center;}#sk-container-id-23 div.sk-container {/* jupyter's `normalize.less` sets `[hidden] { display: none; }` but bootstrap.min.css set `[hidden] { display: none !important; }` so we also need the `!important` here to be able to override the default hidden behavior on the sphinx rendered scikit-learn.org. See: https://github.com/scikit-learn/scikit-learn/issues/21755 */display: inline-block !important;position: relative;}#sk-container-id-23 div.sk-text-repr-fallback {display: none;}</style><div id=\"sk-container-id-23\" class=\"sk-top-container\"><div class=\"sk-text-repr-fallback\"><pre>GridSearchCV(estimator=SVC(),\n             param_grid={&#x27;C&#x27;: [1, 10, 100, 1000],\n                         &#x27;gamma&#x27;: [1, 0.1, 0.001, 0.0001],\n                         &#x27;kernel&#x27;: [&#x27;sigmoid&#x27;, &#x27;rbf&#x27;]},\n             verbose=2)</pre><b>In a Jupyter environment, please rerun this cell to show the HTML representation or trust the notebook. <br />On GitHub, the HTML representation is unable to render, please try loading this page with nbviewer.org.</b></div><div class=\"sk-container\" hidden><div class=\"sk-item sk-dashed-wrapped\"><div class=\"sk-label-container\"><div class=\"sk-label sk-toggleable\"><input class=\"sk-toggleable__control sk-hidden--visually\" id=\"sk-estimator-id-23\" type=\"checkbox\" ><label for=\"sk-estimator-id-23\" class=\"sk-toggleable__label sk-toggleable__label-arrow\">GridSearchCV</label><div class=\"sk-toggleable__content\"><pre>GridSearchCV(estimator=SVC(),\n             param_grid={&#x27;C&#x27;: [1, 10, 100, 1000],\n                         &#x27;gamma&#x27;: [1, 0.1, 0.001, 0.0001],\n                         &#x27;kernel&#x27;: [&#x27;sigmoid&#x27;, &#x27;rbf&#x27;]},\n             verbose=2)</pre></div></div></div><div class=\"sk-parallel\"><div class=\"sk-parallel-item\"><div class=\"sk-item\"><div class=\"sk-label-container\"><div class=\"sk-label sk-toggleable\"><input class=\"sk-toggleable__control sk-hidden--visually\" id=\"sk-estimator-id-24\" type=\"checkbox\" ><label for=\"sk-estimator-id-24\" class=\"sk-toggleable__label sk-toggleable__label-arrow\">estimator: SVC</label><div class=\"sk-toggleable__content\"><pre>SVC()</pre></div></div></div><div class=\"sk-serial\"><div class=\"sk-item\"><div class=\"sk-estimator sk-toggleable\"><input class=\"sk-toggleable__control sk-hidden--visually\" id=\"sk-estimator-id-25\" type=\"checkbox\" ><label for=\"sk-estimator-id-25\" class=\"sk-toggleable__label sk-toggleable__label-arrow\">SVC</label><div class=\"sk-toggleable__content\"><pre>SVC()</pre></div></div></div></div></div></div></div></div></div></div>"
     },
     "execution_count": 171,
     "metadata": {},
     "output_type": "execute_result"
    }
   ]
  },
  {
   "cell_type": "code",
   "source": [
    "grid.best_params_\n",
    "predic = grid.predict(X_test)\n",
    "print(grid.score(X_test, y_test))\n",
    "print(grid.best_params_)"
   ],
   "metadata": {
    "colab": {
     "base_uri": "https://localhost:8080/"
    },
    "id": "UMwq-l20mlHf",
    "outputId": "3c78e031-013a-450f-ed91-cb6b702061c4",
    "ExecuteTime": {
     "end_time": "2023-05-19T19:20:21.236454500Z",
     "start_time": "2023-05-19T19:20:20.958780800Z"
    }
   },
   "id": "UMwq-l20mlHf",
   "execution_count": 172,
   "outputs": [
    {
     "name": "stdout",
     "output_type": "stream",
     "text": [
      "0.8467741935483871\n",
      "{'C': 10, 'gamma': 0.0001, 'kernel': 'rbf'}\n"
     ]
    }
   ]
  },
  {
   "cell_type": "code",
   "execution_count": 173,
   "outputs": [],
   "source": [
    "results_df = save_results(grid, X_test, y_test, 'SVC', results_df)\n"
   ],
   "metadata": {
    "collapsed": false,
    "ExecuteTime": {
     "end_time": "2023-05-19T19:20:21.866470600Z",
     "start_time": "2023-05-19T19:20:21.236454500Z"
    }
   }
  },
  {
   "cell_type": "markdown",
   "source": [],
   "metadata": {
    "id": "OIXMif8TmkML"
   },
   "id": "OIXMif8TmkML"
  },
  {
   "cell_type": "markdown",
   "source": [],
   "metadata": {
    "id": "Hlm-7Wuol_kn"
   },
   "id": "Hlm-7Wuol_kn"
  },
  {
   "cell_type": "markdown",
   "id": "0ee0b73c",
   "metadata": {
    "id": "0ee0b73c"
   },
   "source": [
    "# Hand owner recognition without Class label\n"
   ]
  },
  {
   "cell_type": "code",
   "execution_count": 174,
   "id": "254eeb2d",
   "metadata": {
    "colab": {
     "base_uri": "https://localhost:8080/"
    },
    "id": "254eeb2d",
    "outputId": "0f6c0bd7-614f-4f38-df12-4355fa858f5a",
    "ExecuteTime": {
     "end_time": "2023-05-19T19:20:23.437093500Z",
     "start_time": "2023-05-19T19:20:21.874977600Z"
    }
   },
   "outputs": [
    {
     "name": "stdout",
     "output_type": "stream",
     "text": [
      "0.17096774193548386\n"
     ]
    }
   ],
   "source": [
    "df2 = df.drop(['User'], axis=1)\n",
    "df2 = df2.drop(['Class'], axis=1)\n",
    "labels_Users = df['User']\n",
    "X_train, X_test, y_train, y_test,  = train_test_split(df2, labels_Users, test_size=0.20, random_state=42)\n",
    "\n",
    "clf = SVC(kernel='rbf', gamma=\"auto\", C = 7)\n",
    "clf.fit(X_train, y_train)\n",
    "print(clf.score(X_test, y_test))"
   ]
  },
  {
   "cell_type": "code",
   "execution_count": 175,
   "outputs": [
    {
     "name": "stderr",
     "output_type": "stream",
     "text": [
      "C:\\Users\\polcg\\.virtualenvs\\MD2-NovaiZ3s\\Lib\\site-packages\\sklearn\\metrics\\_classification.py:1344: UndefinedMetricWarning: Precision is ill-defined and being set to 0.0 in labels with no predicted samples. Use `zero_division` parameter to control this behavior.\n",
      "  _warn_prf(average, modifier, msg_start, len(result))\n"
     ]
    }
   ],
   "source": [
    "results_df = save_results(clf, X_test, y_test, 'SVC', results_df)\n"
   ],
   "metadata": {
    "collapsed": false,
    "ExecuteTime": {
     "end_time": "2023-05-19T19:20:24.485788600Z",
     "start_time": "2023-05-19T19:20:23.437093500Z"
    }
   }
  },
  {
   "cell_type": "markdown",
   "source": [
    "# Gread SearchHand owner recognition without Class label"
   ],
   "metadata": {
    "id": "TksOy9YApsuW"
   },
   "id": "TksOy9YApsuW"
  },
  {
   "cell_type": "markdown",
   "source": [],
   "metadata": {
    "id": "55wTsHqlpryQ"
   },
   "id": "55wTsHqlpryQ"
  },
  {
   "cell_type": "code",
   "execution_count": 176,
   "id": "780e1058",
   "metadata": {
    "colab": {
     "base_uri": "https://localhost:8080/",
     "height": 1000
    },
    "id": "780e1058",
    "outputId": "dc4e36b6-e1f9-46df-cabf-222600570d3c",
    "ExecuteTime": {
     "end_time": "2023-05-19T19:21:49.112377700Z",
     "start_time": "2023-05-19T19:20:24.485788600Z"
    }
   },
   "outputs": [
    {
     "name": "stdout",
     "output_type": "stream",
     "text": [
      "Fitting 5 folds for each of 32 candidates, totalling 160 fits\n",
      "[CV] END .......................C=1, gamma=1, kernel=sigmoid; total time=   0.1s\n",
      "[CV] END .......................C=1, gamma=1, kernel=sigmoid; total time=   0.1s\n",
      "[CV] END .......................C=1, gamma=1, kernel=sigmoid; total time=   0.1s\n",
      "[CV] END .......................C=1, gamma=1, kernel=sigmoid; total time=   0.1s\n",
      "[CV] END .......................C=1, gamma=1, kernel=sigmoid; total time=   0.1s\n",
      "[CV] END ...........................C=1, gamma=1, kernel=rbf; total time=   0.8s\n",
      "[CV] END ...........................C=1, gamma=1, kernel=rbf; total time=   0.8s\n",
      "[CV] END ...........................C=1, gamma=1, kernel=rbf; total time=   0.8s\n",
      "[CV] END ...........................C=1, gamma=1, kernel=rbf; total time=   0.8s\n",
      "[CV] END ...........................C=1, gamma=1, kernel=rbf; total time=   0.8s\n",
      "[CV] END .....................C=1, gamma=0.1, kernel=sigmoid; total time=   0.1s\n",
      "[CV] END .....................C=1, gamma=0.1, kernel=sigmoid; total time=   0.1s\n",
      "[CV] END .....................C=1, gamma=0.1, kernel=sigmoid; total time=   0.1s\n",
      "[CV] END .....................C=1, gamma=0.1, kernel=sigmoid; total time=   0.1s\n",
      "[CV] END .....................C=1, gamma=0.1, kernel=sigmoid; total time=   0.1s\n",
      "[CV] END .........................C=1, gamma=0.1, kernel=rbf; total time=   0.8s\n",
      "[CV] END .........................C=1, gamma=0.1, kernel=rbf; total time=   0.8s\n",
      "[CV] END .........................C=1, gamma=0.1, kernel=rbf; total time=   0.8s\n",
      "[CV] END .........................C=1, gamma=0.1, kernel=rbf; total time=   0.8s\n",
      "[CV] END .........................C=1, gamma=0.1, kernel=rbf; total time=   0.8s\n",
      "[CV] END ...................C=1, gamma=0.001, kernel=sigmoid; total time=   0.1s\n",
      "[CV] END ...................C=1, gamma=0.001, kernel=sigmoid; total time=   0.1s\n",
      "[CV] END ...................C=1, gamma=0.001, kernel=sigmoid; total time=   0.1s\n",
      "[CV] END ...................C=1, gamma=0.001, kernel=sigmoid; total time=   0.1s\n",
      "[CV] END ...................C=1, gamma=0.001, kernel=sigmoid; total time=   0.1s\n",
      "[CV] END .......................C=1, gamma=0.001, kernel=rbf; total time=   0.5s\n",
      "[CV] END .......................C=1, gamma=0.001, kernel=rbf; total time=   0.5s\n",
      "[CV] END .......................C=1, gamma=0.001, kernel=rbf; total time=   0.5s\n",
      "[CV] END .......................C=1, gamma=0.001, kernel=rbf; total time=   0.4s\n",
      "[CV] END .......................C=1, gamma=0.001, kernel=rbf; total time=   0.4s\n",
      "[CV] END ..................C=1, gamma=0.0001, kernel=sigmoid; total time=   0.4s\n",
      "[CV] END ..................C=1, gamma=0.0001, kernel=sigmoid; total time=   0.4s\n",
      "[CV] END ..................C=1, gamma=0.0001, kernel=sigmoid; total time=   0.4s\n",
      "[CV] END ..................C=1, gamma=0.0001, kernel=sigmoid; total time=   0.4s\n",
      "[CV] END ..................C=1, gamma=0.0001, kernel=sigmoid; total time=   0.4s\n",
      "[CV] END ......................C=1, gamma=0.0001, kernel=rbf; total time=   0.4s\n",
      "[CV] END ......................C=1, gamma=0.0001, kernel=rbf; total time=   0.4s\n",
      "[CV] END ......................C=1, gamma=0.0001, kernel=rbf; total time=   0.4s\n",
      "[CV] END ......................C=1, gamma=0.0001, kernel=rbf; total time=   0.5s\n",
      "[CV] END ......................C=1, gamma=0.0001, kernel=rbf; total time=   0.4s\n",
      "[CV] END ......................C=10, gamma=1, kernel=sigmoid; total time=   0.2s\n",
      "[CV] END ......................C=10, gamma=1, kernel=sigmoid; total time=   0.3s\n",
      "[CV] END ......................C=10, gamma=1, kernel=sigmoid; total time=   0.1s\n",
      "[CV] END ......................C=10, gamma=1, kernel=sigmoid; total time=   0.1s\n",
      "[CV] END ......................C=10, gamma=1, kernel=sigmoid; total time=   0.1s\n",
      "[CV] END ..........................C=10, gamma=1, kernel=rbf; total time=   0.9s\n",
      "[CV] END ..........................C=10, gamma=1, kernel=rbf; total time=   0.9s\n",
      "[CV] END ..........................C=10, gamma=1, kernel=rbf; total time=   0.9s\n",
      "[CV] END ..........................C=10, gamma=1, kernel=rbf; total time=   0.9s\n",
      "[CV] END ..........................C=10, gamma=1, kernel=rbf; total time=   0.9s\n",
      "[CV] END ....................C=10, gamma=0.1, kernel=sigmoid; total time=   0.1s\n",
      "[CV] END ....................C=10, gamma=0.1, kernel=sigmoid; total time=   0.1s\n",
      "[CV] END ....................C=10, gamma=0.1, kernel=sigmoid; total time=   0.1s\n",
      "[CV] END ....................C=10, gamma=0.1, kernel=sigmoid; total time=   0.1s\n",
      "[CV] END ....................C=10, gamma=0.1, kernel=sigmoid; total time=   0.1s\n",
      "[CV] END ........................C=10, gamma=0.1, kernel=rbf; total time=   0.9s\n",
      "[CV] END ........................C=10, gamma=0.1, kernel=rbf; total time=   0.9s\n",
      "[CV] END ........................C=10, gamma=0.1, kernel=rbf; total time=   0.9s\n",
      "[CV] END ........................C=10, gamma=0.1, kernel=rbf; total time=   0.9s\n",
      "[CV] END ........................C=10, gamma=0.1, kernel=rbf; total time=   0.8s\n",
      "[CV] END ..................C=10, gamma=0.001, kernel=sigmoid; total time=   0.1s\n",
      "[CV] END ..................C=10, gamma=0.001, kernel=sigmoid; total time=   0.1s\n",
      "[CV] END ..................C=10, gamma=0.001, kernel=sigmoid; total time=   0.2s\n",
      "[CV] END ..................C=10, gamma=0.001, kernel=sigmoid; total time=   0.1s\n",
      "[CV] END ..................C=10, gamma=0.001, kernel=sigmoid; total time=   0.1s\n",
      "[CV] END ......................C=10, gamma=0.001, kernel=rbf; total time=   0.5s\n",
      "[CV] END ......................C=10, gamma=0.001, kernel=rbf; total time=   0.5s\n",
      "[CV] END ......................C=10, gamma=0.001, kernel=rbf; total time=   0.5s\n",
      "[CV] END ......................C=10, gamma=0.001, kernel=rbf; total time=   0.5s\n",
      "[CV] END ......................C=10, gamma=0.001, kernel=rbf; total time=   0.6s\n",
      "[CV] END .................C=10, gamma=0.0001, kernel=sigmoid; total time=   0.3s\n",
      "[CV] END .................C=10, gamma=0.0001, kernel=sigmoid; total time=   0.4s\n",
      "[CV] END .................C=10, gamma=0.0001, kernel=sigmoid; total time=   0.3s\n",
      "[CV] END .................C=10, gamma=0.0001, kernel=sigmoid; total time=   0.3s\n",
      "[CV] END .................C=10, gamma=0.0001, kernel=sigmoid; total time=   0.3s\n",
      "[CV] END .....................C=10, gamma=0.0001, kernel=rbf; total time=   0.4s\n",
      "[CV] END .....................C=10, gamma=0.0001, kernel=rbf; total time=   0.4s\n",
      "[CV] END .....................C=10, gamma=0.0001, kernel=rbf; total time=   0.4s\n",
      "[CV] END .....................C=10, gamma=0.0001, kernel=rbf; total time=   0.4s\n",
      "[CV] END .....................C=10, gamma=0.0001, kernel=rbf; total time=   0.4s\n",
      "[CV] END .....................C=100, gamma=1, kernel=sigmoid; total time=   0.1s\n",
      "[CV] END .....................C=100, gamma=1, kernel=sigmoid; total time=   0.1s\n",
      "[CV] END .....................C=100, gamma=1, kernel=sigmoid; total time=   0.1s\n",
      "[CV] END .....................C=100, gamma=1, kernel=sigmoid; total time=   0.1s\n",
      "[CV] END .....................C=100, gamma=1, kernel=sigmoid; total time=   0.1s\n",
      "[CV] END .........................C=100, gamma=1, kernel=rbf; total time=   0.9s\n",
      "[CV] END .........................C=100, gamma=1, kernel=rbf; total time=   0.8s\n",
      "[CV] END .........................C=100, gamma=1, kernel=rbf; total time=   0.8s\n",
      "[CV] END .........................C=100, gamma=1, kernel=rbf; total time=   0.8s\n",
      "[CV] END .........................C=100, gamma=1, kernel=rbf; total time=   0.9s\n",
      "[CV] END ...................C=100, gamma=0.1, kernel=sigmoid; total time=   0.1s\n",
      "[CV] END ...................C=100, gamma=0.1, kernel=sigmoid; total time=   0.1s\n",
      "[CV] END ...................C=100, gamma=0.1, kernel=sigmoid; total time=   0.1s\n",
      "[CV] END ...................C=100, gamma=0.1, kernel=sigmoid; total time=   0.1s\n",
      "[CV] END ...................C=100, gamma=0.1, kernel=sigmoid; total time=   0.1s\n",
      "[CV] END .......................C=100, gamma=0.1, kernel=rbf; total time=   0.9s\n",
      "[CV] END .......................C=100, gamma=0.1, kernel=rbf; total time=   0.9s\n",
      "[CV] END .......................C=100, gamma=0.1, kernel=rbf; total time=   0.9s\n",
      "[CV] END .......................C=100, gamma=0.1, kernel=rbf; total time=   0.9s\n",
      "[CV] END .......................C=100, gamma=0.1, kernel=rbf; total time=   0.9s\n",
      "[CV] END .................C=100, gamma=0.001, kernel=sigmoid; total time=   0.1s\n",
      "[CV] END .................C=100, gamma=0.001, kernel=sigmoid; total time=   0.2s\n",
      "[CV] END .................C=100, gamma=0.001, kernel=sigmoid; total time=   0.1s\n",
      "[CV] END .................C=100, gamma=0.001, kernel=sigmoid; total time=   0.1s\n",
      "[CV] END .................C=100, gamma=0.001, kernel=sigmoid; total time=   0.1s\n",
      "[CV] END .....................C=100, gamma=0.001, kernel=rbf; total time=   0.5s\n",
      "[CV] END .....................C=100, gamma=0.001, kernel=rbf; total time=   0.5s\n",
      "[CV] END .....................C=100, gamma=0.001, kernel=rbf; total time=   0.5s\n",
      "[CV] END .....................C=100, gamma=0.001, kernel=rbf; total time=   0.5s\n",
      "[CV] END .....................C=100, gamma=0.001, kernel=rbf; total time=   0.5s\n",
      "[CV] END ................C=100, gamma=0.0001, kernel=sigmoid; total time=   0.3s\n",
      "[CV] END ................C=100, gamma=0.0001, kernel=sigmoid; total time=   0.3s\n",
      "[CV] END ................C=100, gamma=0.0001, kernel=sigmoid; total time=   0.3s\n",
      "[CV] END ................C=100, gamma=0.0001, kernel=sigmoid; total time=   0.3s\n",
      "[CV] END ................C=100, gamma=0.0001, kernel=sigmoid; total time=   0.3s\n",
      "[CV] END ....................C=100, gamma=0.0001, kernel=rbf; total time=   0.4s\n",
      "[CV] END ....................C=100, gamma=0.0001, kernel=rbf; total time=   0.5s\n",
      "[CV] END ....................C=100, gamma=0.0001, kernel=rbf; total time=   0.4s\n",
      "[CV] END ....................C=100, gamma=0.0001, kernel=rbf; total time=   0.4s\n",
      "[CV] END ....................C=100, gamma=0.0001, kernel=rbf; total time=   0.4s\n",
      "[CV] END ....................C=1000, gamma=1, kernel=sigmoid; total time=   0.1s\n",
      "[CV] END ....................C=1000, gamma=1, kernel=sigmoid; total time=   0.1s\n",
      "[CV] END ....................C=1000, gamma=1, kernel=sigmoid; total time=   0.1s\n",
      "[CV] END ....................C=1000, gamma=1, kernel=sigmoid; total time=   0.1s\n",
      "[CV] END ....................C=1000, gamma=1, kernel=sigmoid; total time=   0.1s\n",
      "[CV] END ........................C=1000, gamma=1, kernel=rbf; total time=   0.9s\n",
      "[CV] END ........................C=1000, gamma=1, kernel=rbf; total time=   0.9s\n",
      "[CV] END ........................C=1000, gamma=1, kernel=rbf; total time=   0.8s\n",
      "[CV] END ........................C=1000, gamma=1, kernel=rbf; total time=   0.8s\n",
      "[CV] END ........................C=1000, gamma=1, kernel=rbf; total time=   0.8s\n",
      "[CV] END ..................C=1000, gamma=0.1, kernel=sigmoid; total time=   0.1s\n",
      "[CV] END ..................C=1000, gamma=0.1, kernel=sigmoid; total time=   0.1s\n",
      "[CV] END ..................C=1000, gamma=0.1, kernel=sigmoid; total time=   0.1s\n",
      "[CV] END ..................C=1000, gamma=0.1, kernel=sigmoid; total time=   0.1s\n",
      "[CV] END ..................C=1000, gamma=0.1, kernel=sigmoid; total time=   0.1s\n",
      "[CV] END ......................C=1000, gamma=0.1, kernel=rbf; total time=   0.9s\n",
      "[CV] END ......................C=1000, gamma=0.1, kernel=rbf; total time=   0.9s\n",
      "[CV] END ......................C=1000, gamma=0.1, kernel=rbf; total time=   0.9s\n",
      "[CV] END ......................C=1000, gamma=0.1, kernel=rbf; total time=   1.0s\n",
      "[CV] END ......................C=1000, gamma=0.1, kernel=rbf; total time=   0.9s\n",
      "[CV] END ................C=1000, gamma=0.001, kernel=sigmoid; total time=   0.1s\n",
      "[CV] END ................C=1000, gamma=0.001, kernel=sigmoid; total time=   0.1s\n",
      "[CV] END ................C=1000, gamma=0.001, kernel=sigmoid; total time=   0.1s\n",
      "[CV] END ................C=1000, gamma=0.001, kernel=sigmoid; total time=   0.1s\n",
      "[CV] END ................C=1000, gamma=0.001, kernel=sigmoid; total time=   0.1s\n",
      "[CV] END ....................C=1000, gamma=0.001, kernel=rbf; total time=   0.5s\n",
      "[CV] END ....................C=1000, gamma=0.001, kernel=rbf; total time=   0.5s\n",
      "[CV] END ....................C=1000, gamma=0.001, kernel=rbf; total time=   0.5s\n",
      "[CV] END ....................C=1000, gamma=0.001, kernel=rbf; total time=   0.5s\n",
      "[CV] END ....................C=1000, gamma=0.001, kernel=rbf; total time=   0.5s\n",
      "[CV] END ...............C=1000, gamma=0.0001, kernel=sigmoid; total time=   0.3s\n",
      "[CV] END ...............C=1000, gamma=0.0001, kernel=sigmoid; total time=   0.3s\n",
      "[CV] END ...............C=1000, gamma=0.0001, kernel=sigmoid; total time=   0.3s\n",
      "[CV] END ...............C=1000, gamma=0.0001, kernel=sigmoid; total time=   0.3s\n",
      "[CV] END ...............C=1000, gamma=0.0001, kernel=sigmoid; total time=   0.3s\n",
      "[CV] END ...................C=1000, gamma=0.0001, kernel=rbf; total time=   0.4s\n",
      "[CV] END ...................C=1000, gamma=0.0001, kernel=rbf; total time=   0.4s\n",
      "[CV] END ...................C=1000, gamma=0.0001, kernel=rbf; total time=   0.5s\n",
      "[CV] END ...................C=1000, gamma=0.0001, kernel=rbf; total time=   0.5s\n",
      "[CV] END ...................C=1000, gamma=0.0001, kernel=rbf; total time=   0.4s\n"
     ]
    },
    {
     "data": {
      "text/plain": "GridSearchCV(estimator=SVC(),\n             param_grid={'C': [1, 10, 100, 1000],\n                         'gamma': [1, 0.1, 0.001, 0.0001],\n                         'kernel': ['sigmoid', 'rbf']},\n             verbose=2)",
      "text/html": "<style>#sk-container-id-24 {color: black;background-color: white;}#sk-container-id-24 pre{padding: 0;}#sk-container-id-24 div.sk-toggleable {background-color: white;}#sk-container-id-24 label.sk-toggleable__label {cursor: pointer;display: block;width: 100%;margin-bottom: 0;padding: 0.3em;box-sizing: border-box;text-align: center;}#sk-container-id-24 label.sk-toggleable__label-arrow:before {content: \"▸\";float: left;margin-right: 0.25em;color: #696969;}#sk-container-id-24 label.sk-toggleable__label-arrow:hover:before {color: black;}#sk-container-id-24 div.sk-estimator:hover label.sk-toggleable__label-arrow:before {color: black;}#sk-container-id-24 div.sk-toggleable__content {max-height: 0;max-width: 0;overflow: hidden;text-align: left;background-color: #f0f8ff;}#sk-container-id-24 div.sk-toggleable__content pre {margin: 0.2em;color: black;border-radius: 0.25em;background-color: #f0f8ff;}#sk-container-id-24 input.sk-toggleable__control:checked~div.sk-toggleable__content {max-height: 200px;max-width: 100%;overflow: auto;}#sk-container-id-24 input.sk-toggleable__control:checked~label.sk-toggleable__label-arrow:before {content: \"▾\";}#sk-container-id-24 div.sk-estimator input.sk-toggleable__control:checked~label.sk-toggleable__label {background-color: #d4ebff;}#sk-container-id-24 div.sk-label input.sk-toggleable__control:checked~label.sk-toggleable__label {background-color: #d4ebff;}#sk-container-id-24 input.sk-hidden--visually {border: 0;clip: rect(1px 1px 1px 1px);clip: rect(1px, 1px, 1px, 1px);height: 1px;margin: -1px;overflow: hidden;padding: 0;position: absolute;width: 1px;}#sk-container-id-24 div.sk-estimator {font-family: monospace;background-color: #f0f8ff;border: 1px dotted black;border-radius: 0.25em;box-sizing: border-box;margin-bottom: 0.5em;}#sk-container-id-24 div.sk-estimator:hover {background-color: #d4ebff;}#sk-container-id-24 div.sk-parallel-item::after {content: \"\";width: 100%;border-bottom: 1px solid gray;flex-grow: 1;}#sk-container-id-24 div.sk-label:hover label.sk-toggleable__label {background-color: #d4ebff;}#sk-container-id-24 div.sk-serial::before {content: \"\";position: absolute;border-left: 1px solid gray;box-sizing: border-box;top: 0;bottom: 0;left: 50%;z-index: 0;}#sk-container-id-24 div.sk-serial {display: flex;flex-direction: column;align-items: center;background-color: white;padding-right: 0.2em;padding-left: 0.2em;position: relative;}#sk-container-id-24 div.sk-item {position: relative;z-index: 1;}#sk-container-id-24 div.sk-parallel {display: flex;align-items: stretch;justify-content: center;background-color: white;position: relative;}#sk-container-id-24 div.sk-item::before, #sk-container-id-24 div.sk-parallel-item::before {content: \"\";position: absolute;border-left: 1px solid gray;box-sizing: border-box;top: 0;bottom: 0;left: 50%;z-index: -1;}#sk-container-id-24 div.sk-parallel-item {display: flex;flex-direction: column;z-index: 1;position: relative;background-color: white;}#sk-container-id-24 div.sk-parallel-item:first-child::after {align-self: flex-end;width: 50%;}#sk-container-id-24 div.sk-parallel-item:last-child::after {align-self: flex-start;width: 50%;}#sk-container-id-24 div.sk-parallel-item:only-child::after {width: 0;}#sk-container-id-24 div.sk-dashed-wrapped {border: 1px dashed gray;margin: 0 0.4em 0.5em 0.4em;box-sizing: border-box;padding-bottom: 0.4em;background-color: white;}#sk-container-id-24 div.sk-label label {font-family: monospace;font-weight: bold;display: inline-block;line-height: 1.2em;}#sk-container-id-24 div.sk-label-container {text-align: center;}#sk-container-id-24 div.sk-container {/* jupyter's `normalize.less` sets `[hidden] { display: none; }` but bootstrap.min.css set `[hidden] { display: none !important; }` so we also need the `!important` here to be able to override the default hidden behavior on the sphinx rendered scikit-learn.org. See: https://github.com/scikit-learn/scikit-learn/issues/21755 */display: inline-block !important;position: relative;}#sk-container-id-24 div.sk-text-repr-fallback {display: none;}</style><div id=\"sk-container-id-24\" class=\"sk-top-container\"><div class=\"sk-text-repr-fallback\"><pre>GridSearchCV(estimator=SVC(),\n             param_grid={&#x27;C&#x27;: [1, 10, 100, 1000],\n                         &#x27;gamma&#x27;: [1, 0.1, 0.001, 0.0001],\n                         &#x27;kernel&#x27;: [&#x27;sigmoid&#x27;, &#x27;rbf&#x27;]},\n             verbose=2)</pre><b>In a Jupyter environment, please rerun this cell to show the HTML representation or trust the notebook. <br />On GitHub, the HTML representation is unable to render, please try loading this page with nbviewer.org.</b></div><div class=\"sk-container\" hidden><div class=\"sk-item sk-dashed-wrapped\"><div class=\"sk-label-container\"><div class=\"sk-label sk-toggleable\"><input class=\"sk-toggleable__control sk-hidden--visually\" id=\"sk-estimator-id-26\" type=\"checkbox\" ><label for=\"sk-estimator-id-26\" class=\"sk-toggleable__label sk-toggleable__label-arrow\">GridSearchCV</label><div class=\"sk-toggleable__content\"><pre>GridSearchCV(estimator=SVC(),\n             param_grid={&#x27;C&#x27;: [1, 10, 100, 1000],\n                         &#x27;gamma&#x27;: [1, 0.1, 0.001, 0.0001],\n                         &#x27;kernel&#x27;: [&#x27;sigmoid&#x27;, &#x27;rbf&#x27;]},\n             verbose=2)</pre></div></div></div><div class=\"sk-parallel\"><div class=\"sk-parallel-item\"><div class=\"sk-item\"><div class=\"sk-label-container\"><div class=\"sk-label sk-toggleable\"><input class=\"sk-toggleable__control sk-hidden--visually\" id=\"sk-estimator-id-27\" type=\"checkbox\" ><label for=\"sk-estimator-id-27\" class=\"sk-toggleable__label sk-toggleable__label-arrow\">estimator: SVC</label><div class=\"sk-toggleable__content\"><pre>SVC()</pre></div></div></div><div class=\"sk-serial\"><div class=\"sk-item\"><div class=\"sk-estimator sk-toggleable\"><input class=\"sk-toggleable__control sk-hidden--visually\" id=\"sk-estimator-id-28\" type=\"checkbox\" ><label for=\"sk-estimator-id-28\" class=\"sk-toggleable__label sk-toggleable__label-arrow\">SVC</label><div class=\"sk-toggleable__content\"><pre>SVC()</pre></div></div></div></div></div></div></div></div></div></div>"
     },
     "execution_count": 176,
     "metadata": {},
     "output_type": "execute_result"
    }
   ],
   "source": [
    "param_grid = {'C':[1,10,100,1000],\n",
    "              'gamma':[1,0.1,0.001,0.0001], \n",
    "              'kernel':['sigmoid','rbf']}\n",
    "\n",
    "grid = GridSearchCV(SVC(),param_grid,refit = True, verbose=2)\n",
    "\n",
    "grid.fit(X_train,y_train)"
   ]
  },
  {
   "cell_type": "code",
   "source": [
    "grid.best_params_\n",
    "predic = grid.predict(X_test)\n",
    "print(grid.score(X_test, y_test))\n",
    "print(grid.best_params_)"
   ],
   "metadata": {
    "colab": {
     "base_uri": "https://localhost:8080/"
    },
    "id": "QzUMWsbJp6-r",
    "outputId": "cd78bd56-21d6-46c5-9136-0821f5b70ceb",
    "ExecuteTime": {
     "end_time": "2023-05-19T19:21:49.523375500Z",
     "start_time": "2023-05-19T19:21:49.112377700Z"
    }
   },
   "id": "QzUMWsbJp6-r",
   "execution_count": 177,
   "outputs": [
    {
     "name": "stdout",
     "output_type": "stream",
     "text": [
      "0.6967741935483871\n",
      "{'C': 10, 'gamma': 0.0001, 'kernel': 'rbf'}\n"
     ]
    }
   ]
  },
  {
   "cell_type": "code",
   "execution_count": 178,
   "outputs": [
    {
     "name": "stderr",
     "output_type": "stream",
     "text": [
      "C:\\Users\\polcg\\.virtualenvs\\MD2-NovaiZ3s\\Lib\\site-packages\\sklearn\\metrics\\_classification.py:1344: UndefinedMetricWarning: Precision is ill-defined and being set to 0.0 in labels with no predicted samples. Use `zero_division` parameter to control this behavior.\n",
      "  _warn_prf(average, modifier, msg_start, len(result))\n"
     ]
    }
   ],
   "source": [
    "results_df = save_results(clf, X_test, y_test, 'SVC', results_df)\n"
   ],
   "metadata": {
    "collapsed": false,
    "ExecuteTime": {
     "end_time": "2023-05-19T19:21:50.719223200Z",
     "start_time": "2023-05-19T19:21:49.523375500Z"
    }
   }
  },
  {
   "cell_type": "markdown",
   "source": [
    "# Random Forest"
   ],
   "metadata": {
    "id": "d6-fQM1-rNVb"
   },
   "id": "d6-fQM1-rNVb"
  },
  {
   "cell_type": "code",
   "source": [
    "from sklearn.ensemble import RandomForestClassifier\n",
    "from sklearn.datasets import make_classification"
   ],
   "metadata": {
    "id": "88SjR0VMruck",
    "ExecuteTime": {
     "end_time": "2023-05-19T19:21:51.297544200Z",
     "start_time": "2023-05-19T19:21:50.719223200Z"
    }
   },
   "id": "88SjR0VMruck",
   "execution_count": 179,
   "outputs": []
  },
  {
   "cell_type": "code",
   "source": [
    "# dataset_path = 'allUsers.lcl.csv'\n",
    "\n",
    "df = pd.read_csv(dataset_path)\n",
    "#knn Cannot work with mining data, so replace them with a 0\n",
    "df = df.replace('?', 0)\n",
    "#df = df.dropna(thresh=len(df) * 0.10, axis=1)\n"
   ],
   "metadata": {
    "id": "Woj1x8nXrNCX",
    "ExecuteTime": {
     "end_time": "2023-05-19T19:21:52.353302800Z",
     "start_time": "2023-05-19T19:21:51.297544200Z"
    }
   },
   "id": "Woj1x8nXrNCX",
   "execution_count": 180,
   "outputs": []
  },
  {
   "cell_type": "markdown",
   "source": [
    "# Class recognition with User label"
   ],
   "metadata": {
    "id": "8aYevJyJramt"
   },
   "id": "8aYevJyJramt"
  },
  {
   "cell_type": "code",
   "source": [
    "df2 = df.drop(['User'], axis=1)\n",
    "labels_Users = df['User']\n",
    "X_train, X_test, y_train, y_test,  = train_test_split(df2, labels_Users, test_size=0.20, random_state=42)"
   ],
   "metadata": {
    "id": "AkYTHzyorbyG",
    "ExecuteTime": {
     "end_time": "2023-05-19T19:21:52.557048400Z",
     "start_time": "2023-05-19T19:21:52.355810300Z"
    }
   },
   "id": "AkYTHzyorbyG",
   "execution_count": 181,
   "outputs": []
  },
  {
   "cell_type": "code",
   "source": [
    "clf = RandomForestClassifier(max_depth=200, random_state=10)\n",
    "clf.fit(X_train, y_train)\n",
    "clf.score(X_test, y_test)"
   ],
   "metadata": {
    "colab": {
     "base_uri": "https://localhost:8080/"
    },
    "id": "TM2z8jcjr1IB",
    "outputId": "4feb0384-834c-4323-9cc8-9b1878565c67",
    "ExecuteTime": {
     "end_time": "2023-05-19T19:22:52.878662800Z",
     "start_time": "2023-05-19T19:21:52.557048400Z"
    }
   },
   "id": "TM2z8jcjr1IB",
   "execution_count": 182,
   "outputs": [
    {
     "data": {
      "text/plain": "0.9863636363636363"
     },
     "execution_count": 182,
     "metadata": {},
     "output_type": "execute_result"
    }
   ]
  },
  {
   "cell_type": "code",
   "execution_count": 183,
   "outputs": [],
   "source": [
    "results_df = save_results(clf, X_test, y_test, 'Random forest', results_df)\n"
   ],
   "metadata": {
    "collapsed": false,
    "ExecuteTime": {
     "end_time": "2023-05-19T19:22:55.364774700Z",
     "start_time": "2023-05-19T19:22:52.878662800Z"
    }
   }
  },
  {
   "cell_type": "markdown",
   "source": [
    "# Gread Search"
   ],
   "metadata": {
    "id": "gCSpeBrHsgrR"
   },
   "id": "gCSpeBrHsgrR"
  },
  {
   "cell_type": "markdown",
   "source": [
    "## Show results:"
   ],
   "metadata": {
    "collapsed": false
   }
  },
  {
   "cell_type": "code",
   "execution_count": 184,
   "outputs": [
    {
     "data": {
      "text/plain": "                    acc      prec    recall  test f1 score (W)\nRandom forest  0.986364  0.986464  0.986364           0.940244\nKNN            0.864661  0.863969  0.864661           0.796469\nSVC            0.170968  0.726333  0.170968           0.072726",
      "text/html": "<div>\n<style scoped>\n    .dataframe tbody tr th:only-of-type {\n        vertical-align: middle;\n    }\n\n    .dataframe tbody tr th {\n        vertical-align: top;\n    }\n\n    .dataframe thead th {\n        text-align: right;\n    }\n</style>\n<table border=\"1\" class=\"dataframe\">\n  <thead>\n    <tr style=\"text-align: right;\">\n      <th></th>\n      <th>acc</th>\n      <th>prec</th>\n      <th>recall</th>\n      <th>test f1 score (W)</th>\n    </tr>\n  </thead>\n  <tbody>\n    <tr>\n      <th>Random forest</th>\n      <td>0.986364</td>\n      <td>0.986464</td>\n      <td>0.986364</td>\n      <td>0.940244</td>\n    </tr>\n    <tr>\n      <th>KNN</th>\n      <td>0.864661</td>\n      <td>0.863969</td>\n      <td>0.864661</td>\n      <td>0.796469</td>\n    </tr>\n    <tr>\n      <th>SVC</th>\n      <td>0.170968</td>\n      <td>0.726333</td>\n      <td>0.170968</td>\n      <td>0.072726</td>\n    </tr>\n  </tbody>\n</table>\n</div>"
     },
     "execution_count": 184,
     "metadata": {},
     "output_type": "execute_result"
    }
   ],
   "source": [
    "results_df.sort_values(by=['acc'], ascending=False)\n"
   ],
   "metadata": {
    "collapsed": false,
    "ExecuteTime": {
     "end_time": "2023-05-19T19:22:55.378466800Z",
     "start_time": "2023-05-19T19:22:55.364774700Z"
    }
   }
  }
 ],
 "metadata": {
  "kernelspec": {
   "display_name": "Python 3 (ipykernel)",
   "language": "python",
   "name": "python3"
  },
  "language_info": {
   "codemirror_mode": {
    "name": "ipython",
    "version": 3
   },
   "file_extension": ".py",
   "mimetype": "text/x-python",
   "name": "python",
   "nbconvert_exporter": "python",
   "pygments_lexer": "ipython3",
   "version": "3.9.13"
  },
  "colab": {
   "provenance": []
  }
 },
 "nbformat": 4,
 "nbformat_minor": 5
}
