{
 "cells": [
  {
   "cell_type": "code",
   "execution_count": null,
   "id": "ba5c8737",
   "metadata": {
    "id": "ba5c8737",
    "is_executing": true
   },
   "outputs": [],
   "source": [
    "from sklearn.neighbors import KNeighborsClassifier\n",
    "from sklearn.svm import SVC\n",
    "from sklearn.dummy import DummyClassifier\n",
    "from sklearn.model_selection import cross_val_score, GridSearchCV, ParameterGrid, train_test_split\n",
    "from sklearn import metrics\n",
    "\n",
    "import pandas as pd\n",
    "import numpy as np\n",
    "\n",
    "from sklearn.neighbors import KNeighborsClassifier\n",
    "\n",
    "# import warnings filter\n",
    "from warnings import simplefilter\n",
    "# ignore all future warnings\n",
    "simplefilter(action='ignore', category=FutureWarning)"
   ]
  },
  {
   "cell_type": "code",
   "execution_count": null,
   "id": "e7814250",
   "metadata": {
    "id": "e7814250",
    "is_executing": true
   },
   "outputs": [],
   "source": [
    "dataset_path = 'allUsers.lcl.csv'\n",
    "\n",
    "df = pd.read_csv(dataset_path)\n",
    "#knn Cannot work with mining data, so replace them with a 0\n",
    "df = df.replace('?', 0)\n",
    "#df = df.dropna(thresh=len(df) * 0.10, axis=1)\n",
    "\n"
   ]
  },
  {
   "cell_type": "markdown",
   "id": "5c618663",
   "metadata": {
    "id": "5c618663"
   },
   "source": [
    "# KNN"
   ]
  },
  {
   "cell_type": "markdown",
   "id": "f6f19a8d",
   "metadata": {
    "id": "f6f19a8d"
   },
   "source": [
    "# Class recognition with User label"
   ]
  },
  {
   "cell_type": "code",
   "execution_count": 4,
   "id": "2518a4a1",
   "metadata": {
    "id": "2518a4a1"
   },
   "outputs": [],
   "source": [
    "df2 = df.drop(['Class'], axis=1)\n",
    "labels_Class = df['Class']\n",
    "\n",
    "\n",
    "X_train, X_test, y_train, y_test,  = train_test_split(df2, labels_Class, test_size=0.20, random_state=42)\n"
   ]
  },
  {
   "cell_type": "markdown",
   "id": "9aada6bf",
   "metadata": {
    "id": "9aada6bf"
   },
   "source": []
  },
  {
   "cell_type": "code",
   "execution_count": 5,
   "id": "f01a4953",
   "metadata": {
    "colab": {
     "base_uri": "https://localhost:8080/",
     "height": 74
    },
    "id": "f01a4953",
    "outputId": "4618c184-f135-42b1-f003-65ec39c49242"
   },
   "outputs": [
    {
     "output_type": "execute_result",
     "data": {
      "text/plain": [
       "KNeighborsClassifier(n_neighbors=1)"
      ],
      "text/html": [
       "<style>#sk-container-id-1 {color: black;background-color: white;}#sk-container-id-1 pre{padding: 0;}#sk-container-id-1 div.sk-toggleable {background-color: white;}#sk-container-id-1 label.sk-toggleable__label {cursor: pointer;display: block;width: 100%;margin-bottom: 0;padding: 0.3em;box-sizing: border-box;text-align: center;}#sk-container-id-1 label.sk-toggleable__label-arrow:before {content: \"▸\";float: left;margin-right: 0.25em;color: #696969;}#sk-container-id-1 label.sk-toggleable__label-arrow:hover:before {color: black;}#sk-container-id-1 div.sk-estimator:hover label.sk-toggleable__label-arrow:before {color: black;}#sk-container-id-1 div.sk-toggleable__content {max-height: 0;max-width: 0;overflow: hidden;text-align: left;background-color: #f0f8ff;}#sk-container-id-1 div.sk-toggleable__content pre {margin: 0.2em;color: black;border-radius: 0.25em;background-color: #f0f8ff;}#sk-container-id-1 input.sk-toggleable__control:checked~div.sk-toggleable__content {max-height: 200px;max-width: 100%;overflow: auto;}#sk-container-id-1 input.sk-toggleable__control:checked~label.sk-toggleable__label-arrow:before {content: \"▾\";}#sk-container-id-1 div.sk-estimator input.sk-toggleable__control:checked~label.sk-toggleable__label {background-color: #d4ebff;}#sk-container-id-1 div.sk-label input.sk-toggleable__control:checked~label.sk-toggleable__label {background-color: #d4ebff;}#sk-container-id-1 input.sk-hidden--visually {border: 0;clip: rect(1px 1px 1px 1px);clip: rect(1px, 1px, 1px, 1px);height: 1px;margin: -1px;overflow: hidden;padding: 0;position: absolute;width: 1px;}#sk-container-id-1 div.sk-estimator {font-family: monospace;background-color: #f0f8ff;border: 1px dotted black;border-radius: 0.25em;box-sizing: border-box;margin-bottom: 0.5em;}#sk-container-id-1 div.sk-estimator:hover {background-color: #d4ebff;}#sk-container-id-1 div.sk-parallel-item::after {content: \"\";width: 100%;border-bottom: 1px solid gray;flex-grow: 1;}#sk-container-id-1 div.sk-label:hover label.sk-toggleable__label {background-color: #d4ebff;}#sk-container-id-1 div.sk-serial::before {content: \"\";position: absolute;border-left: 1px solid gray;box-sizing: border-box;top: 0;bottom: 0;left: 50%;z-index: 0;}#sk-container-id-1 div.sk-serial {display: flex;flex-direction: column;align-items: center;background-color: white;padding-right: 0.2em;padding-left: 0.2em;position: relative;}#sk-container-id-1 div.sk-item {position: relative;z-index: 1;}#sk-container-id-1 div.sk-parallel {display: flex;align-items: stretch;justify-content: center;background-color: white;position: relative;}#sk-container-id-1 div.sk-item::before, #sk-container-id-1 div.sk-parallel-item::before {content: \"\";position: absolute;border-left: 1px solid gray;box-sizing: border-box;top: 0;bottom: 0;left: 50%;z-index: -1;}#sk-container-id-1 div.sk-parallel-item {display: flex;flex-direction: column;z-index: 1;position: relative;background-color: white;}#sk-container-id-1 div.sk-parallel-item:first-child::after {align-self: flex-end;width: 50%;}#sk-container-id-1 div.sk-parallel-item:last-child::after {align-self: flex-start;width: 50%;}#sk-container-id-1 div.sk-parallel-item:only-child::after {width: 0;}#sk-container-id-1 div.sk-dashed-wrapped {border: 1px dashed gray;margin: 0 0.4em 0.5em 0.4em;box-sizing: border-box;padding-bottom: 0.4em;background-color: white;}#sk-container-id-1 div.sk-label label {font-family: monospace;font-weight: bold;display: inline-block;line-height: 1.2em;}#sk-container-id-1 div.sk-label-container {text-align: center;}#sk-container-id-1 div.sk-container {/* jupyter's `normalize.less` sets `[hidden] { display: none; }` but bootstrap.min.css set `[hidden] { display: none !important; }` so we also need the `!important` here to be able to override the default hidden behavior on the sphinx rendered scikit-learn.org. See: https://github.com/scikit-learn/scikit-learn/issues/21755 */display: inline-block !important;position: relative;}#sk-container-id-1 div.sk-text-repr-fallback {display: none;}</style><div id=\"sk-container-id-1\" class=\"sk-top-container\"><div class=\"sk-text-repr-fallback\"><pre>KNeighborsClassifier(n_neighbors=1)</pre><b>In a Jupyter environment, please rerun this cell to show the HTML representation or trust the notebook. <br />On GitHub, the HTML representation is unable to render, please try loading this page with nbviewer.org.</b></div><div class=\"sk-container\" hidden><div class=\"sk-item\"><div class=\"sk-estimator sk-toggleable\"><input class=\"sk-toggleable__control sk-hidden--visually\" id=\"sk-estimator-id-1\" type=\"checkbox\" checked><label for=\"sk-estimator-id-1\" class=\"sk-toggleable__label sk-toggleable__label-arrow\">KNeighborsClassifier</label><div class=\"sk-toggleable__content\"><pre>KNeighborsClassifier(n_neighbors=1)</pre></div></div></div></div></div>"
      ]
     },
     "metadata": {},
     "execution_count": 5
    }
   ],
   "source": [
    "from sklearn.neighbors import KNeighborsClassifier\n",
    "knn = KNeighborsClassifier(n_neighbors=1)\n",
    "knn.fit(X_train, y_train)\n"
   ]
  },
  {
   "cell_type": "code",
   "execution_count": 6,
   "id": "7f99c82e",
   "metadata": {
    "colab": {
     "base_uri": "https://localhost:8080/"
    },
    "id": "7f99c82e",
    "outputId": "9e0992c9-8921-4c6d-b7c9-c6b868b100f7"
   },
   "outputs": [
    {
     "output_type": "stream",
     "name": "stdout",
     "text": [
      "0.9602432778489116\n"
     ]
    }
   ],
   "source": [
    "print(knn.score(X_test, y_test))\n"
   ]
  },
  {
   "cell_type": "markdown",
   "id": "eb18a83d",
   "metadata": {
    "id": "eb18a83d"
   },
   "source": []
  },
  {
   "cell_type": "markdown",
   "id": "c52e9d51",
   "metadata": {
    "id": "c52e9d51"
   },
   "source": [
    "# Hand owner recognition with Class label"
   ]
  },
  {
   "cell_type": "code",
   "execution_count": null,
   "id": "b31cbd01",
   "metadata": {
    "id": "b31cbd01"
   },
   "outputs": [],
   "source": [
    "df2 = df.drop(['User'], axis=1)\n",
    "labels_Users = df['User']\n",
    "X_train, X_test, y_train, y_test,  = train_test_split(df2, labels_Users, test_size=0.20, random_state=42)"
   ]
  },
  {
   "cell_type": "code",
   "execution_count": null,
   "id": "1f316e77",
   "metadata": {
    "id": "1f316e77",
    "outputId": "847fdf5b-72e3-4dcd-dd39-143814e73984"
   },
   "outputs": [
    {
     "data": {
      "text/plain": [
       "KNeighborsClassifier(n_neighbors=1)"
      ]
     },
     "execution_count": 7,
     "metadata": {},
     "output_type": "execute_result"
    }
   ],
   "source": [
    "knn = KNeighborsClassifier(n_neighbors=1)\n",
    "knn.fit(X_train, y_train)\n"
   ]
  },
  {
   "cell_type": "code",
   "execution_count": null,
   "id": "3238672d",
   "metadata": {
    "id": "3238672d",
    "outputId": "1d576981-4962-4f5d-a629-80a7135ef377"
   },
   "outputs": [
    {
     "name": "stdout",
     "output_type": "stream",
     "text": [
      "0.8646606914212548\n"
     ]
    }
   ],
   "source": [
    "print(knn.score(X_test, y_test))"
   ]
  },
  {
   "cell_type": "markdown",
   "id": "3c855808",
   "metadata": {
    "id": "3c855808"
   },
   "source": [
    "# Class recognition without User label"
   ]
  },
  {
   "cell_type": "code",
   "execution_count": null,
   "id": "0b864c6d",
   "metadata": {
    "id": "0b864c6d"
   },
   "outputs": [],
   "source": [
    "df2 = df.drop(['User'], axis=1)\n",
    "df2 = df2.drop(['Class'], axis=1)\n",
    "labels_Class = df['Class']\n",
    "X_train, X_test, y_train, y_test,  = train_test_split(df2, labels_Class, test_size=0.20, random_state=42)"
   ]
  },
  {
   "cell_type": "code",
   "execution_count": null,
   "id": "1de9b023",
   "metadata": {
    "id": "1de9b023",
    "outputId": "573b7fcf-617d-4df5-8ac1-64ea19f266a6"
   },
   "outputs": [
    {
     "name": "stdout",
     "output_type": "stream",
     "text": [
      "0.9596670934699104\n"
     ]
    }
   ],
   "source": [
    "knn = KNeighborsClassifier(n_neighbors=1)\n",
    "knn.fit(X_train, y_train)\n",
    "print(knn.score(X_test, y_test))"
   ]
  },
  {
   "cell_type": "markdown",
   "id": "54ec9011",
   "metadata": {
    "id": "54ec9011"
   },
   "source": [
    "# Class recognition without Class label"
   ]
  },
  {
   "cell_type": "code",
   "execution_count": null,
   "id": "1a987e55",
   "metadata": {
    "id": "1a987e55"
   },
   "outputs": [],
   "source": [
    "df2 = df.drop(['User'], axis=1)\n",
    "df2 = df2.drop(['Class'], axis=1)\n",
    "\n",
    "labels_Users = df['User']\n",
    "X_train, X_test, y_train, y_test,  = train_test_split(df2, labels_Users, test_size=0.20, random_state=42)"
   ]
  },
  {
   "cell_type": "code",
   "execution_count": null,
   "id": "c4360d7b",
   "metadata": {
    "id": "c4360d7b",
    "outputId": "f4a324ec-eead-40ba-c519-b8df6fec715b"
   },
   "outputs": [
    {
     "name": "stdout",
     "output_type": "stream",
     "text": [
      "0.8646606914212548\n"
     ]
    }
   ],
   "source": [
    "knn = KNeighborsClassifier(n_neighbors=1)\n",
    "knn.fit(X_train, y_train)\n",
    "print(knn.score(X_test, y_test))"
   ]
  },
  {
   "cell_type": "markdown",
   "id": "eb119607",
   "metadata": {
    "id": "eb119607"
   },
   "source": [
    "# SVM"
   ]
  },
  {
   "cell_type": "code",
   "execution_count": 23,
   "id": "a80b9469",
   "metadata": {
    "colab": {
     "base_uri": "https://localhost:8080/",
     "height": 500
    },
    "id": "a80b9469",
    "outputId": "ea8d6bff-54dd-4e08-e749-f70816e493a8"
   },
   "outputs": [
    {
     "output_type": "stream",
     "name": "stdout",
     "text": [
      "ERROR: unknown command \"insall\" - maybe you meant \"install\"\n"
     ]
    },
    {
     "output_type": "execute_result",
     "data": {
      "text/plain": [
       "       Class  User         X0          Y0         Z0         X1          Y1  \\\n",
       "60         1     0  55.845720   66.522803 -68.410839  77.106544   36.734284   \n",
       "68         1     0  76.557229   41.304050 -73.909134  60.330934    9.663836   \n",
       "74         1     0  61.734499    9.673791 -68.924914  86.654889   66.667146   \n",
       "125        1     0  35.249295   82.084425 -53.847704  60.520406   11.355786   \n",
       "128        1     0  35.477525   82.236724 -53.393348  61.366870   11.714407   \n",
       "...      ...   ...        ...         ...        ...        ...         ...   \n",
       "77861      5    14  79.721273   29.985498 -50.744670  49.332506  129.053547   \n",
       "77975      5    14  80.817822   30.668220 -48.626197  -1.739961   98.078545   \n",
       "77993      5    14  54.787381  129.109776 -43.547323  -2.258009   99.474948   \n",
       "78053      5    14  55.181776  129.375538 -43.347963 -21.392640  104.044134   \n",
       "78073      5    14  78.554508   32.876152 -43.503391  61.853698  101.158138   \n",
       "\n",
       "              Z1         X2          Y2         Z2                 X3  \\\n",
       "60    -75.072331  85.470310   62.473837 -77.605075   34.2457979030067   \n",
       "68    -70.570194  85.589476   66.735696 -74.449048   34.6608367765085   \n",
       "74    -73.507645  34.813024   80.472361 -57.081481   77.2894482549097   \n",
       "125   -69.756839  77.052849   43.020596 -72.135130   57.1358755269656   \n",
       "128   -68.918578  77.758430   43.604703 -71.192710   87.2479078489883   \n",
       "...          ...        ...         ...        ...                ...   \n",
       "77861 -46.686848   0.299055   97.382955   0.814677   27.2042151087381   \n",
       "77975   5.620355  88.900802   61.893957 -59.065238  -29.5991151458287   \n",
       "77993   6.206566  76.299480   33.369694 -41.871622   87.1919675610118   \n",
       "78053 -55.057499  62.679053   99.842859  -7.622842   78.7753905459895   \n",
       "78073  -4.634854  26.501964  137.839622 -29.385880   88.9738403430998   \n",
       "\n",
       "                     Y3                 Z3                 X4  \\\n",
       "60     76.2252873173598  -61.5592919042357   62.4769143002536   \n",
       "68     80.5063025132648  -57.0533715349259   56.4534258235572   \n",
       "74      41.322553689217  -73.2016578462068   57.0744953046526   \n",
       "125    72.3447055909126  -61.4923556359822   86.2038039594809   \n",
       "128    68.9394285147865  -70.5754364471949                  0   \n",
       "...                 ...                ...                ...   \n",
       "77861  134.852646342534  -37.8516495735271  -21.1523494714606   \n",
       "77975  77.5350640617349  -17.8015440460816   27.8193429448572   \n",
       "77993  60.9778295733364  -60.4636764719324  -29.9804984846637   \n",
       "78053  31.5444889193738  -46.6234949239803  -1.39853261904958   \n",
       "78073   61.645098199292  -59.0541102251922  -2.00609943226792   \n",
       "\n",
       "                     Y4                 Z4                  X5  \\\n",
       "60     5.03622819257662  -68.6089267801289                   0   \n",
       "68     71.0583220059077  -63.3865705072043                   0   \n",
       "74     71.3728913333229  -62.8998792463111                   0   \n",
       "125    68.1617949711024  -72.1209659420695                   0   \n",
       "128                   0                  0                   0   \n",
       "...                 ...                ...                 ...   \n",
       "77861  105.640480140953  -52.8228800047427  -0.543254305817506   \n",
       "77975  107.407423178687   12.8980066740448    61.6141133877569   \n",
       "77993  77.5406124828043     -17.7762221753    61.7243328712214   \n",
       "78053  124.013898328683  -43.9532220754514    27.3736079318112   \n",
       "78073  98.5758333757774   5.53977079591342    28.0067532661304   \n",
       "\n",
       "                     Y5                 Z5  \n",
       "60                    0                  0  \n",
       "68                    0                  0  \n",
       "74                    0                  0  \n",
       "125                   0                  0  \n",
       "128                   0                  0  \n",
       "...                 ...                ...  \n",
       "77861  122.135035587311  -47.7791910787856  \n",
       "77975  101.369539546477  -3.43862015390206  \n",
       "77993  101.335898756965  -6.62046229165904  \n",
       "78053  136.118517356196   -33.062961337576  \n",
       "78073  107.620682912216   11.5273103347462  \n",
       "\n",
       "[3096 rows x 20 columns]"
      ],
      "text/html": [
       "\n",
       "  <div id=\"df-e6d43553-8eb3-4f3b-8b18-03f5dd164fa5\">\n",
       "    <div class=\"colab-df-container\">\n",
       "      <div>\n",
       "<style scoped>\n",
       "    .dataframe tbody tr th:only-of-type {\n",
       "        vertical-align: middle;\n",
       "    }\n",
       "\n",
       "    .dataframe tbody tr th {\n",
       "        vertical-align: top;\n",
       "    }\n",
       "\n",
       "    .dataframe thead th {\n",
       "        text-align: right;\n",
       "    }\n",
       "</style>\n",
       "<table border=\"1\" class=\"dataframe\">\n",
       "  <thead>\n",
       "    <tr style=\"text-align: right;\">\n",
       "      <th></th>\n",
       "      <th>Class</th>\n",
       "      <th>User</th>\n",
       "      <th>X0</th>\n",
       "      <th>Y0</th>\n",
       "      <th>Z0</th>\n",
       "      <th>X1</th>\n",
       "      <th>Y1</th>\n",
       "      <th>Z1</th>\n",
       "      <th>X2</th>\n",
       "      <th>Y2</th>\n",
       "      <th>Z2</th>\n",
       "      <th>X3</th>\n",
       "      <th>Y3</th>\n",
       "      <th>Z3</th>\n",
       "      <th>X4</th>\n",
       "      <th>Y4</th>\n",
       "      <th>Z4</th>\n",
       "      <th>X5</th>\n",
       "      <th>Y5</th>\n",
       "      <th>Z5</th>\n",
       "    </tr>\n",
       "  </thead>\n",
       "  <tbody>\n",
       "    <tr>\n",
       "      <th>60</th>\n",
       "      <td>1</td>\n",
       "      <td>0</td>\n",
       "      <td>55.845720</td>\n",
       "      <td>66.522803</td>\n",
       "      <td>-68.410839</td>\n",
       "      <td>77.106544</td>\n",
       "      <td>36.734284</td>\n",
       "      <td>-75.072331</td>\n",
       "      <td>85.470310</td>\n",
       "      <td>62.473837</td>\n",
       "      <td>-77.605075</td>\n",
       "      <td>34.2457979030067</td>\n",
       "      <td>76.2252873173598</td>\n",
       "      <td>-61.5592919042357</td>\n",
       "      <td>62.4769143002536</td>\n",
       "      <td>5.03622819257662</td>\n",
       "      <td>-68.6089267801289</td>\n",
       "      <td>0</td>\n",
       "      <td>0</td>\n",
       "      <td>0</td>\n",
       "    </tr>\n",
       "    <tr>\n",
       "      <th>68</th>\n",
       "      <td>1</td>\n",
       "      <td>0</td>\n",
       "      <td>76.557229</td>\n",
       "      <td>41.304050</td>\n",
       "      <td>-73.909134</td>\n",
       "      <td>60.330934</td>\n",
       "      <td>9.663836</td>\n",
       "      <td>-70.570194</td>\n",
       "      <td>85.589476</td>\n",
       "      <td>66.735696</td>\n",
       "      <td>-74.449048</td>\n",
       "      <td>34.6608367765085</td>\n",
       "      <td>80.5063025132648</td>\n",
       "      <td>-57.0533715349259</td>\n",
       "      <td>56.4534258235572</td>\n",
       "      <td>71.0583220059077</td>\n",
       "      <td>-63.3865705072043</td>\n",
       "      <td>0</td>\n",
       "      <td>0</td>\n",
       "      <td>0</td>\n",
       "    </tr>\n",
       "    <tr>\n",
       "      <th>74</th>\n",
       "      <td>1</td>\n",
       "      <td>0</td>\n",
       "      <td>61.734499</td>\n",
       "      <td>9.673791</td>\n",
       "      <td>-68.924914</td>\n",
       "      <td>86.654889</td>\n",
       "      <td>66.667146</td>\n",
       "      <td>-73.507645</td>\n",
       "      <td>34.813024</td>\n",
       "      <td>80.472361</td>\n",
       "      <td>-57.081481</td>\n",
       "      <td>77.2894482549097</td>\n",
       "      <td>41.322553689217</td>\n",
       "      <td>-73.2016578462068</td>\n",
       "      <td>57.0744953046526</td>\n",
       "      <td>71.3728913333229</td>\n",
       "      <td>-62.8998792463111</td>\n",
       "      <td>0</td>\n",
       "      <td>0</td>\n",
       "      <td>0</td>\n",
       "    </tr>\n",
       "    <tr>\n",
       "      <th>125</th>\n",
       "      <td>1</td>\n",
       "      <td>0</td>\n",
       "      <td>35.249295</td>\n",
       "      <td>82.084425</td>\n",
       "      <td>-53.847704</td>\n",
       "      <td>60.520406</td>\n",
       "      <td>11.355786</td>\n",
       "      <td>-69.756839</td>\n",
       "      <td>77.052849</td>\n",
       "      <td>43.020596</td>\n",
       "      <td>-72.135130</td>\n",
       "      <td>57.1358755269656</td>\n",
       "      <td>72.3447055909126</td>\n",
       "      <td>-61.4923556359822</td>\n",
       "      <td>86.2038039594809</td>\n",
       "      <td>68.1617949711024</td>\n",
       "      <td>-72.1209659420695</td>\n",
       "      <td>0</td>\n",
       "      <td>0</td>\n",
       "      <td>0</td>\n",
       "    </tr>\n",
       "    <tr>\n",
       "      <th>128</th>\n",
       "      <td>1</td>\n",
       "      <td>0</td>\n",
       "      <td>35.477525</td>\n",
       "      <td>82.236724</td>\n",
       "      <td>-53.393348</td>\n",
       "      <td>61.366870</td>\n",
       "      <td>11.714407</td>\n",
       "      <td>-68.918578</td>\n",
       "      <td>77.758430</td>\n",
       "      <td>43.604703</td>\n",
       "      <td>-71.192710</td>\n",
       "      <td>87.2479078489883</td>\n",
       "      <td>68.9394285147865</td>\n",
       "      <td>-70.5754364471949</td>\n",
       "      <td>0</td>\n",
       "      <td>0</td>\n",
       "      <td>0</td>\n",
       "      <td>0</td>\n",
       "      <td>0</td>\n",
       "      <td>0</td>\n",
       "    </tr>\n",
       "    <tr>\n",
       "      <th>...</th>\n",
       "      <td>...</td>\n",
       "      <td>...</td>\n",
       "      <td>...</td>\n",
       "      <td>...</td>\n",
       "      <td>...</td>\n",
       "      <td>...</td>\n",
       "      <td>...</td>\n",
       "      <td>...</td>\n",
       "      <td>...</td>\n",
       "      <td>...</td>\n",
       "      <td>...</td>\n",
       "      <td>...</td>\n",
       "      <td>...</td>\n",
       "      <td>...</td>\n",
       "      <td>...</td>\n",
       "      <td>...</td>\n",
       "      <td>...</td>\n",
       "      <td>...</td>\n",
       "      <td>...</td>\n",
       "      <td>...</td>\n",
       "    </tr>\n",
       "    <tr>\n",
       "      <th>77861</th>\n",
       "      <td>5</td>\n",
       "      <td>14</td>\n",
       "      <td>79.721273</td>\n",
       "      <td>29.985498</td>\n",
       "      <td>-50.744670</td>\n",
       "      <td>49.332506</td>\n",
       "      <td>129.053547</td>\n",
       "      <td>-46.686848</td>\n",
       "      <td>0.299055</td>\n",
       "      <td>97.382955</td>\n",
       "      <td>0.814677</td>\n",
       "      <td>27.2042151087381</td>\n",
       "      <td>134.852646342534</td>\n",
       "      <td>-37.8516495735271</td>\n",
       "      <td>-21.1523494714606</td>\n",
       "      <td>105.640480140953</td>\n",
       "      <td>-52.8228800047427</td>\n",
       "      <td>-0.543254305817506</td>\n",
       "      <td>122.135035587311</td>\n",
       "      <td>-47.7791910787856</td>\n",
       "    </tr>\n",
       "    <tr>\n",
       "      <th>77975</th>\n",
       "      <td>5</td>\n",
       "      <td>14</td>\n",
       "      <td>80.817822</td>\n",
       "      <td>30.668220</td>\n",
       "      <td>-48.626197</td>\n",
       "      <td>-1.739961</td>\n",
       "      <td>98.078545</td>\n",
       "      <td>5.620355</td>\n",
       "      <td>88.900802</td>\n",
       "      <td>61.893957</td>\n",
       "      <td>-59.065238</td>\n",
       "      <td>-29.5991151458287</td>\n",
       "      <td>77.5350640617349</td>\n",
       "      <td>-17.8015440460816</td>\n",
       "      <td>27.8193429448572</td>\n",
       "      <td>107.407423178687</td>\n",
       "      <td>12.8980066740448</td>\n",
       "      <td>61.6141133877569</td>\n",
       "      <td>101.369539546477</td>\n",
       "      <td>-3.43862015390206</td>\n",
       "    </tr>\n",
       "    <tr>\n",
       "      <th>77993</th>\n",
       "      <td>5</td>\n",
       "      <td>14</td>\n",
       "      <td>54.787381</td>\n",
       "      <td>129.109776</td>\n",
       "      <td>-43.547323</td>\n",
       "      <td>-2.258009</td>\n",
       "      <td>99.474948</td>\n",
       "      <td>6.206566</td>\n",
       "      <td>76.299480</td>\n",
       "      <td>33.369694</td>\n",
       "      <td>-41.871622</td>\n",
       "      <td>87.1919675610118</td>\n",
       "      <td>60.9778295733364</td>\n",
       "      <td>-60.4636764719324</td>\n",
       "      <td>-29.9804984846637</td>\n",
       "      <td>77.5406124828043</td>\n",
       "      <td>-17.7762221753</td>\n",
       "      <td>61.7243328712214</td>\n",
       "      <td>101.335898756965</td>\n",
       "      <td>-6.62046229165904</td>\n",
       "    </tr>\n",
       "    <tr>\n",
       "      <th>78053</th>\n",
       "      <td>5</td>\n",
       "      <td>14</td>\n",
       "      <td>55.181776</td>\n",
       "      <td>129.375538</td>\n",
       "      <td>-43.347963</td>\n",
       "      <td>-21.392640</td>\n",
       "      <td>104.044134</td>\n",
       "      <td>-55.057499</td>\n",
       "      <td>62.679053</td>\n",
       "      <td>99.842859</td>\n",
       "      <td>-7.622842</td>\n",
       "      <td>78.7753905459895</td>\n",
       "      <td>31.5444889193738</td>\n",
       "      <td>-46.6234949239803</td>\n",
       "      <td>-1.39853261904958</td>\n",
       "      <td>124.013898328683</td>\n",
       "      <td>-43.9532220754514</td>\n",
       "      <td>27.3736079318112</td>\n",
       "      <td>136.118517356196</td>\n",
       "      <td>-33.062961337576</td>\n",
       "    </tr>\n",
       "    <tr>\n",
       "      <th>78073</th>\n",
       "      <td>5</td>\n",
       "      <td>14</td>\n",
       "      <td>78.554508</td>\n",
       "      <td>32.876152</td>\n",
       "      <td>-43.503391</td>\n",
       "      <td>61.853698</td>\n",
       "      <td>101.158138</td>\n",
       "      <td>-4.634854</td>\n",
       "      <td>26.501964</td>\n",
       "      <td>137.839622</td>\n",
       "      <td>-29.385880</td>\n",
       "      <td>88.9738403430998</td>\n",
       "      <td>61.645098199292</td>\n",
       "      <td>-59.0541102251922</td>\n",
       "      <td>-2.00609943226792</td>\n",
       "      <td>98.5758333757774</td>\n",
       "      <td>5.53977079591342</td>\n",
       "      <td>28.0067532661304</td>\n",
       "      <td>107.620682912216</td>\n",
       "      <td>11.5273103347462</td>\n",
       "    </tr>\n",
       "  </tbody>\n",
       "</table>\n",
       "<p>3096 rows × 20 columns</p>\n",
       "</div>\n",
       "      <button class=\"colab-df-convert\" onclick=\"convertToInteractive('df-e6d43553-8eb3-4f3b-8b18-03f5dd164fa5')\"\n",
       "              title=\"Convert this dataframe to an interactive table.\"\n",
       "              style=\"display:none;\">\n",
       "        \n",
       "  <svg xmlns=\"http://www.w3.org/2000/svg\" height=\"24px\"viewBox=\"0 0 24 24\"\n",
       "       width=\"24px\">\n",
       "    <path d=\"M0 0h24v24H0V0z\" fill=\"none\"/>\n",
       "    <path d=\"M18.56 5.44l.94 2.06.94-2.06 2.06-.94-2.06-.94-.94-2.06-.94 2.06-2.06.94zm-11 1L8.5 8.5l.94-2.06 2.06-.94-2.06-.94L8.5 2.5l-.94 2.06-2.06.94zm10 10l.94 2.06.94-2.06 2.06-.94-2.06-.94-.94-2.06-.94 2.06-2.06.94z\"/><path d=\"M17.41 7.96l-1.37-1.37c-.4-.4-.92-.59-1.43-.59-.52 0-1.04.2-1.43.59L10.3 9.45l-7.72 7.72c-.78.78-.78 2.05 0 2.83L4 21.41c.39.39.9.59 1.41.59.51 0 1.02-.2 1.41-.59l7.78-7.78 2.81-2.81c.8-.78.8-2.07 0-2.86zM5.41 20L4 18.59l7.72-7.72 1.47 1.35L5.41 20z\"/>\n",
       "  </svg>\n",
       "      </button>\n",
       "      \n",
       "  <style>\n",
       "    .colab-df-container {\n",
       "      display:flex;\n",
       "      flex-wrap:wrap;\n",
       "      gap: 12px;\n",
       "    }\n",
       "\n",
       "    .colab-df-convert {\n",
       "      background-color: #E8F0FE;\n",
       "      border: none;\n",
       "      border-radius: 50%;\n",
       "      cursor: pointer;\n",
       "      display: none;\n",
       "      fill: #1967D2;\n",
       "      height: 32px;\n",
       "      padding: 0 0 0 0;\n",
       "      width: 32px;\n",
       "    }\n",
       "\n",
       "    .colab-df-convert:hover {\n",
       "      background-color: #E2EBFA;\n",
       "      box-shadow: 0px 1px 2px rgba(60, 64, 67, 0.3), 0px 1px 3px 1px rgba(60, 64, 67, 0.15);\n",
       "      fill: #174EA6;\n",
       "    }\n",
       "\n",
       "    [theme=dark] .colab-df-convert {\n",
       "      background-color: #3B4455;\n",
       "      fill: #D2E3FC;\n",
       "    }\n",
       "\n",
       "    [theme=dark] .colab-df-convert:hover {\n",
       "      background-color: #434B5C;\n",
       "      box-shadow: 0px 1px 3px 1px rgba(0, 0, 0, 0.15);\n",
       "      filter: drop-shadow(0px 1px 2px rgba(0, 0, 0, 0.3));\n",
       "      fill: #FFFFFF;\n",
       "    }\n",
       "  </style>\n",
       "\n",
       "      <script>\n",
       "        const buttonEl =\n",
       "          document.querySelector('#df-e6d43553-8eb3-4f3b-8b18-03f5dd164fa5 button.colab-df-convert');\n",
       "        buttonEl.style.display =\n",
       "          google.colab.kernel.accessAllowed ? 'block' : 'none';\n",
       "\n",
       "        async function convertToInteractive(key) {\n",
       "          const element = document.querySelector('#df-e6d43553-8eb3-4f3b-8b18-03f5dd164fa5');\n",
       "          const dataTable =\n",
       "            await google.colab.kernel.invokeFunction('convertToInteractive',\n",
       "                                                     [key], {});\n",
       "          if (!dataTable) return;\n",
       "\n",
       "          const docLinkHtml = 'Like what you see? Visit the ' +\n",
       "            '<a target=\"_blank\" href=https://colab.research.google.com/notebooks/data_table.ipynb>data table notebook</a>'\n",
       "            + ' to learn more about interactive tables.';\n",
       "          element.innerHTML = '';\n",
       "          dataTable['output_type'] = 'display_data';\n",
       "          await google.colab.output.renderOutput(dataTable, element);\n",
       "          const docLink = document.createElement('div');\n",
       "          docLink.innerHTML = docLinkHtml;\n",
       "          element.appendChild(docLink);\n",
       "        }\n",
       "      </script>\n",
       "    </div>\n",
       "  </div>\n",
       "  "
      ]
     },
     "metadata": {},
     "execution_count": 23
    }
   ],
   "source": [
    "from sklearn.svm import SVC\n",
    "from sklearn.preprocessing import StandardScaler\n",
    "\n",
    "import matplotlib.pyplot as plt\n",
    "from sklearn.model_selection import train_test_split\n",
    "!pip insall sklearn.grid_search\n",
    "from sklearn.model_selection import GridSearchCV\n",
    "from sklearn.metrics import classification_report, confusion_matrix\n",
    "\n",
    "\n",
    "dataset_path = 'allUsers.lcl.csv'\n",
    "\n",
    "df = pd.read_csv(dataset_path)\n",
    "\n",
    "df = df.replace('?', np.nan)\n",
    "df = df.dropna(thresh=len(df) * 0.8 , axis=1)\n",
    "df = df.replace(np.nan, 0)\n",
    "\n",
    "drop_indices = np.random.choice(df.index, 75000, replace=False)\n",
    "df = df.drop(drop_indices)\n",
    "df"
   ]
  },
  {
   "cell_type": "markdown",
   "id": "50f70119",
   "metadata": {
    "id": "50f70119"
   },
   "source": [
    "# Class recognition without User label"
   ]
  },
  {
   "cell_type": "code",
   "execution_count": 18,
   "id": "32fde41d",
   "metadata": {
    "colab": {
     "base_uri": "https://localhost:8080/"
    },
    "id": "32fde41d",
    "outputId": "665a4821-cc00-4d2b-f04c-4a398fa5edf9"
   },
   "outputs": [
    {
     "output_type": "stream",
     "name": "stdout",
     "text": [
      "0.27839506172839507\n"
     ]
    }
   ],
   "source": [
    "df2 = df.drop(['User'], axis=1)\n",
    "df2 = df2.drop(['Class'], axis=1)\n",
    "labels_Class = df['Class']\n",
    "X_train, X_test, y_train, y_test,  = train_test_split(df2, labels_Class, test_size=0.20, random_state=42)\n",
    "\n",
    "clf = SVC(kernel='rbf', gamma=\"auto\", C = 7)\n",
    "clf.fit(X_train, y_train)\n",
    "print(clf.score(X_test, y_test))"
   ]
  },
  {
   "cell_type": "markdown",
   "source": [
    "# SVC gread search class recognition without user label"
   ],
   "metadata": {
    "id": "2TpbiE7ZmBKr"
   },
   "id": "2TpbiE7ZmBKr"
  },
  {
   "cell_type": "code",
   "source": [
    "param_grid = {'C':[1,10,100,1000],\n",
    "              'gamma':[1,0.1,0.001,0.0001], \n",
    "              'kernel':['sigmoid','rbf']}\n",
    "\n",
    "grid = GridSearchCV(SVC(),param_grid,refit = True, verbose=2)\n",
    "\n",
    "grid.fit(X_train,y_train)\n"
   ],
   "metadata": {
    "colab": {
     "base_uri": "https://localhost:8080/",
     "height": 1000
    },
    "id": "eiutRu3ll62i",
    "outputId": "d3c3eb6e-7725-43b6-a71c-12ff0f463dee"
   },
   "id": "eiutRu3ll62i",
   "execution_count": 24,
   "outputs": [
    {
     "output_type": "stream",
     "name": "stdout",
     "text": [
      "Fitting 5 folds for each of 32 candidates, totalling 160 fits\n",
      "[CV] END .......................C=1, gamma=1, kernel=sigmoid; total time=   2.4s\n",
      "[CV] END .......................C=1, gamma=1, kernel=sigmoid; total time=   1.7s\n",
      "[CV] END .......................C=1, gamma=1, kernel=sigmoid; total time=   1.7s\n",
      "[CV] END .......................C=1, gamma=1, kernel=sigmoid; total time=   1.7s\n",
      "[CV] END .......................C=1, gamma=1, kernel=sigmoid; total time=   2.5s\n",
      "[CV] END ...........................C=1, gamma=1, kernel=rbf; total time=   5.0s\n",
      "[CV] END ...........................C=1, gamma=1, kernel=rbf; total time=   3.7s\n",
      "[CV] END ...........................C=1, gamma=1, kernel=rbf; total time=   3.7s\n",
      "[CV] END ...........................C=1, gamma=1, kernel=rbf; total time=   5.0s\n",
      "[CV] END ...........................C=1, gamma=1, kernel=rbf; total time=   3.7s\n",
      "[CV] END .....................C=1, gamma=0.1, kernel=sigmoid; total time=   1.7s\n",
      "[CV] END .....................C=1, gamma=0.1, kernel=sigmoid; total time=   1.7s\n",
      "[CV] END .....................C=1, gamma=0.1, kernel=sigmoid; total time=   1.7s\n",
      "[CV] END .....................C=1, gamma=0.1, kernel=sigmoid; total time=   2.3s\n",
      "[CV] END .....................C=1, gamma=0.1, kernel=sigmoid; total time=   2.2s\n",
      "[CV] END .........................C=1, gamma=0.1, kernel=rbf; total time=   3.7s\n",
      "[CV] END .........................C=1, gamma=0.1, kernel=rbf; total time=   3.7s\n",
      "[CV] END .........................C=1, gamma=0.1, kernel=rbf; total time=   5.0s\n",
      "[CV] END .........................C=1, gamma=0.1, kernel=rbf; total time=   3.7s\n",
      "[CV] END .........................C=1, gamma=0.1, kernel=rbf; total time=   4.1s\n",
      "[CV] END ...................C=1, gamma=0.001, kernel=sigmoid; total time=   1.9s\n",
      "[CV] END ...................C=1, gamma=0.001, kernel=sigmoid; total time=   2.9s\n",
      "[CV] END ...................C=1, gamma=0.001, kernel=sigmoid; total time=   1.8s\n",
      "[CV] END ...................C=1, gamma=0.001, kernel=sigmoid; total time=   1.8s\n",
      "[CV] END ...................C=1, gamma=0.001, kernel=sigmoid; total time=   1.8s\n",
      "[CV] END .......................C=1, gamma=0.001, kernel=rbf; total time=   3.6s\n",
      "[CV] END .......................C=1, gamma=0.001, kernel=rbf; total time=   5.2s\n",
      "[CV] END .......................C=1, gamma=0.001, kernel=rbf; total time=   3.7s\n",
      "[CV] END .......................C=1, gamma=0.001, kernel=rbf; total time=   3.6s\n",
      "[CV] END .......................C=1, gamma=0.001, kernel=rbf; total time=   5.7s\n",
      "[CV] END ..................C=1, gamma=0.0001, kernel=sigmoid; total time=   4.2s\n",
      "[CV] END ..................C=1, gamma=0.0001, kernel=sigmoid; total time=   4.2s\n",
      "[CV] END ..................C=1, gamma=0.0001, kernel=sigmoid; total time=   5.2s\n",
      "[CV] END ..................C=1, gamma=0.0001, kernel=sigmoid; total time=   4.2s\n",
      "[CV] END ..................C=1, gamma=0.0001, kernel=sigmoid; total time=   4.4s\n",
      "[CV] END ......................C=1, gamma=0.0001, kernel=rbf; total time=   3.4s\n",
      "[CV] END ......................C=1, gamma=0.0001, kernel=rbf; total time=   2.5s\n",
      "[CV] END ......................C=1, gamma=0.0001, kernel=rbf; total time=   2.5s\n",
      "[CV] END ......................C=1, gamma=0.0001, kernel=rbf; total time=   2.6s\n",
      "[CV] END ......................C=1, gamma=0.0001, kernel=rbf; total time=   3.7s\n",
      "[CV] END ......................C=10, gamma=1, kernel=sigmoid; total time=   1.7s\n",
      "[CV] END ......................C=10, gamma=1, kernel=sigmoid; total time=   1.7s\n",
      "[CV] END ......................C=10, gamma=1, kernel=sigmoid; total time=   1.6s\n",
      "[CV] END ......................C=10, gamma=1, kernel=sigmoid; total time=   1.7s\n",
      "[CV] END ......................C=10, gamma=1, kernel=sigmoid; total time=   1.7s\n",
      "[CV] END ..........................C=10, gamma=1, kernel=rbf; total time=   5.4s\n",
      "[CV] END ..........................C=10, gamma=1, kernel=rbf; total time=   4.0s\n",
      "[CV] END ..........................C=10, gamma=1, kernel=rbf; total time=   4.0s\n",
      "[CV] END ..........................C=10, gamma=1, kernel=rbf; total time=   5.4s\n",
      "[CV] END ..........................C=10, gamma=1, kernel=rbf; total time=   4.0s\n",
      "[CV] END ....................C=10, gamma=0.1, kernel=sigmoid; total time=   1.7s\n",
      "[CV] END ....................C=10, gamma=0.1, kernel=sigmoid; total time=   1.7s\n",
      "[CV] END ....................C=10, gamma=0.1, kernel=sigmoid; total time=   2.0s\n",
      "[CV] END ....................C=10, gamma=0.1, kernel=sigmoid; total time=   2.6s\n",
      "[CV] END ....................C=10, gamma=0.1, kernel=sigmoid; total time=   1.7s\n",
      "[CV] END ........................C=10, gamma=0.1, kernel=rbf; total time=   4.0s\n",
      "[CV] END ........................C=10, gamma=0.1, kernel=rbf; total time=   4.2s\n",
      "[CV] END ........................C=10, gamma=0.1, kernel=rbf; total time=   5.1s\n",
      "[CV] END ........................C=10, gamma=0.1, kernel=rbf; total time=   4.0s\n",
      "[CV] END ........................C=10, gamma=0.1, kernel=rbf; total time=   4.6s\n",
      "[CV] END ..................C=10, gamma=0.001, kernel=sigmoid; total time=   2.4s\n",
      "[CV] END ..................C=10, gamma=0.001, kernel=sigmoid; total time=   1.7s\n",
      "[CV] END ..................C=10, gamma=0.001, kernel=sigmoid; total time=   1.7s\n",
      "[CV] END ..................C=10, gamma=0.001, kernel=sigmoid; total time=   1.7s\n",
      "[CV] END ..................C=10, gamma=0.001, kernel=sigmoid; total time=   1.7s\n",
      "[CV] END ......................C=10, gamma=0.001, kernel=rbf; total time=   4.8s\n",
      "[CV] END ......................C=10, gamma=0.001, kernel=rbf; total time=   3.8s\n",
      "[CV] END ......................C=10, gamma=0.001, kernel=rbf; total time=   3.7s\n",
      "[CV] END ......................C=10, gamma=0.001, kernel=rbf; total time=   4.4s\n",
      "[CV] END ......................C=10, gamma=0.001, kernel=rbf; total time=   4.2s\n",
      "[CV] END .................C=10, gamma=0.0001, kernel=sigmoid; total time=   3.6s\n",
      "[CV] END .................C=10, gamma=0.0001, kernel=sigmoid; total time=   3.7s\n",
      "[CV] END .................C=10, gamma=0.0001, kernel=sigmoid; total time=   4.4s\n",
      "[CV] END .................C=10, gamma=0.0001, kernel=sigmoid; total time=   3.6s\n",
      "[CV] END .................C=10, gamma=0.0001, kernel=sigmoid; total time=   3.7s\n",
      "[CV] END .....................C=10, gamma=0.0001, kernel=rbf; total time=   4.2s\n",
      "[CV] END .....................C=10, gamma=0.0001, kernel=rbf; total time=   2.9s\n",
      "[CV] END .....................C=10, gamma=0.0001, kernel=rbf; total time=   3.0s\n",
      "[CV] END .....................C=10, gamma=0.0001, kernel=rbf; total time=   2.9s\n",
      "[CV] END .....................C=10, gamma=0.0001, kernel=rbf; total time=   4.2s\n",
      "[CV] END .....................C=100, gamma=1, kernel=sigmoid; total time=   1.7s\n",
      "[CV] END .....................C=100, gamma=1, kernel=sigmoid; total time=   1.7s\n",
      "[CV] END .....................C=100, gamma=1, kernel=sigmoid; total time=   1.7s\n",
      "[CV] END .....................C=100, gamma=1, kernel=sigmoid; total time=   1.7s\n",
      "[CV] END .....................C=100, gamma=1, kernel=sigmoid; total time=   1.7s\n",
      "[CV] END .........................C=100, gamma=1, kernel=rbf; total time=   5.4s\n",
      "[CV] END .........................C=100, gamma=1, kernel=rbf; total time=   4.0s\n",
      "[CV] END .........................C=100, gamma=1, kernel=rbf; total time=   4.0s\n",
      "[CV] END .........................C=100, gamma=1, kernel=rbf; total time=   5.4s\n",
      "[CV] END .........................C=100, gamma=1, kernel=rbf; total time=   4.1s\n",
      "[CV] END ...................C=100, gamma=0.1, kernel=sigmoid; total time=   1.7s\n",
      "[CV] END ...................C=100, gamma=0.1, kernel=sigmoid; total time=   1.7s\n",
      "[CV] END ...................C=100, gamma=0.1, kernel=sigmoid; total time=   2.7s\n",
      "[CV] END ...................C=100, gamma=0.1, kernel=sigmoid; total time=   1.9s\n",
      "[CV] END ...................C=100, gamma=0.1, kernel=sigmoid; total time=   1.7s\n",
      "[CV] END .......................C=100, gamma=0.1, kernel=rbf; total time=   4.0s\n",
      "[CV] END .......................C=100, gamma=0.1, kernel=rbf; total time=   4.9s\n",
      "[CV] END .......................C=100, gamma=0.1, kernel=rbf; total time=   4.4s\n",
      "[CV] END .......................C=100, gamma=0.1, kernel=rbf; total time=   4.0s\n",
      "[CV] END .......................C=100, gamma=0.1, kernel=rbf; total time=   5.3s\n",
      "[CV] END .................C=100, gamma=0.001, kernel=sigmoid; total time=   1.8s\n",
      "[CV] END .................C=100, gamma=0.001, kernel=sigmoid; total time=   1.7s\n",
      "[CV] END .................C=100, gamma=0.001, kernel=sigmoid; total time=   1.7s\n",
      "[CV] END .................C=100, gamma=0.001, kernel=sigmoid; total time=   1.7s\n",
      "[CV] END .................C=100, gamma=0.001, kernel=sigmoid; total time=   1.7s\n",
      "[CV] END .....................C=100, gamma=0.001, kernel=rbf; total time=   5.0s\n",
      "[CV] END .....................C=100, gamma=0.001, kernel=rbf; total time=   3.7s\n",
      "[CV] END .....................C=100, gamma=0.001, kernel=rbf; total time=   3.7s\n",
      "[CV] END .....................C=100, gamma=0.001, kernel=rbf; total time=   4.9s\n",
      "[CV] END .....................C=100, gamma=0.001, kernel=rbf; total time=   3.7s\n",
      "[CV] END ................C=100, gamma=0.0001, kernel=sigmoid; total time=   3.3s\n",
      "[CV] END ................C=100, gamma=0.0001, kernel=sigmoid; total time=   3.5s\n",
      "[CV] END ................C=100, gamma=0.0001, kernel=sigmoid; total time=   4.0s\n",
      "[CV] END ................C=100, gamma=0.0001, kernel=sigmoid; total time=   3.3s\n",
      "[CV] END ................C=100, gamma=0.0001, kernel=sigmoid; total time=   3.3s\n",
      "[CV] END ....................C=100, gamma=0.0001, kernel=rbf; total time=   4.1s\n",
      "[CV] END ....................C=100, gamma=0.0001, kernel=rbf; total time=   3.0s\n",
      "[CV] END ....................C=100, gamma=0.0001, kernel=rbf; total time=   3.0s\n",
      "[CV] END ....................C=100, gamma=0.0001, kernel=rbf; total time=   3.0s\n",
      "[CV] END ....................C=100, gamma=0.0001, kernel=rbf; total time=   4.1s\n",
      "[CV] END ....................C=1000, gamma=1, kernel=sigmoid; total time=   1.7s\n",
      "[CV] END ....................C=1000, gamma=1, kernel=sigmoid; total time=   1.7s\n",
      "[CV] END ....................C=1000, gamma=1, kernel=sigmoid; total time=   1.7s\n",
      "[CV] END ....................C=1000, gamma=1, kernel=sigmoid; total time=   1.7s\n",
      "[CV] END ....................C=1000, gamma=1, kernel=sigmoid; total time=   1.7s\n",
      "[CV] END ........................C=1000, gamma=1, kernel=rbf; total time=   5.5s\n",
      "[CV] END ........................C=1000, gamma=1, kernel=rbf; total time=   4.0s\n",
      "[CV] END ........................C=1000, gamma=1, kernel=rbf; total time=   4.0s\n",
      "[CV] END ........................C=1000, gamma=1, kernel=rbf; total time=   5.4s\n",
      "[CV] END ........................C=1000, gamma=1, kernel=rbf; total time=   4.0s\n",
      "[CV] END ..................C=1000, gamma=0.1, kernel=sigmoid; total time=   1.7s\n",
      "[CV] END ..................C=1000, gamma=0.1, kernel=sigmoid; total time=   1.7s\n",
      "[CV] END ..................C=1000, gamma=0.1, kernel=sigmoid; total time=   2.1s\n",
      "[CV] END ..................C=1000, gamma=0.1, kernel=sigmoid; total time=   2.5s\n",
      "[CV] END ..................C=1000, gamma=0.1, kernel=sigmoid; total time=   1.7s\n",
      "[CV] END ......................C=1000, gamma=0.1, kernel=rbf; total time=   4.0s\n",
      "[CV] END ......................C=1000, gamma=0.1, kernel=rbf; total time=   4.3s\n",
      "[CV] END ......................C=1000, gamma=0.1, kernel=rbf; total time=   5.1s\n",
      "[CV] END ......................C=1000, gamma=0.1, kernel=rbf; total time=   4.1s\n",
      "[CV] END ......................C=1000, gamma=0.1, kernel=rbf; total time=   4.8s\n",
      "[CV] END ................C=1000, gamma=0.001, kernel=sigmoid; total time=   2.2s\n",
      "[CV] END ................C=1000, gamma=0.001, kernel=sigmoid; total time=   1.7s\n",
      "[CV] END ................C=1000, gamma=0.001, kernel=sigmoid; total time=   1.7s\n",
      "[CV] END ................C=1000, gamma=0.001, kernel=sigmoid; total time=   1.7s\n",
      "[CV] END ................C=1000, gamma=0.001, kernel=sigmoid; total time=   1.7s\n",
      "[CV] END ....................C=1000, gamma=0.001, kernel=rbf; total time=   4.8s\n",
      "[CV] END ....................C=1000, gamma=0.001, kernel=rbf; total time=   3.8s\n",
      "[CV] END ....................C=1000, gamma=0.001, kernel=rbf; total time=   3.7s\n",
      "[CV] END ....................C=1000, gamma=0.001, kernel=rbf; total time=   4.4s\n",
      "[CV] END ....................C=1000, gamma=0.001, kernel=rbf; total time=   4.3s\n",
      "[CV] END ...............C=1000, gamma=0.0001, kernel=sigmoid; total time=   3.1s\n",
      "[CV] END ...............C=1000, gamma=0.0001, kernel=sigmoid; total time=   3.1s\n",
      "[CV] END ...............C=1000, gamma=0.0001, kernel=sigmoid; total time=   4.1s\n",
      "[CV] END ...............C=1000, gamma=0.0001, kernel=sigmoid; total time=   3.1s\n",
      "[CV] END ...............C=1000, gamma=0.0001, kernel=sigmoid; total time=   3.1s\n",
      "[CV] END ...................C=1000, gamma=0.0001, kernel=rbf; total time=   3.0s\n",
      "[CV] END ...................C=1000, gamma=0.0001, kernel=rbf; total time=   4.2s\n",
      "[CV] END ...................C=1000, gamma=0.0001, kernel=rbf; total time=   3.0s\n",
      "[CV] END ...................C=1000, gamma=0.0001, kernel=rbf; total time=   3.0s\n",
      "[CV] END ...................C=1000, gamma=0.0001, kernel=rbf; total time=   3.0s\n"
     ]
    },
    {
     "output_type": "execute_result",
     "data": {
      "text/plain": [
       "GridSearchCV(estimator=SVC(),\n",
       "             param_grid={'C': [1, 10, 100, 1000],\n",
       "                         'gamma': [1, 0.1, 0.001, 0.0001],\n",
       "                         'kernel': ['sigmoid', 'rbf']},\n",
       "             verbose=2)"
      ],
      "text/html": [
       "<style>#sk-container-id-1 {color: black;background-color: white;}#sk-container-id-1 pre{padding: 0;}#sk-container-id-1 div.sk-toggleable {background-color: white;}#sk-container-id-1 label.sk-toggleable__label {cursor: pointer;display: block;width: 100%;margin-bottom: 0;padding: 0.3em;box-sizing: border-box;text-align: center;}#sk-container-id-1 label.sk-toggleable__label-arrow:before {content: \"▸\";float: left;margin-right: 0.25em;color: #696969;}#sk-container-id-1 label.sk-toggleable__label-arrow:hover:before {color: black;}#sk-container-id-1 div.sk-estimator:hover label.sk-toggleable__label-arrow:before {color: black;}#sk-container-id-1 div.sk-toggleable__content {max-height: 0;max-width: 0;overflow: hidden;text-align: left;background-color: #f0f8ff;}#sk-container-id-1 div.sk-toggleable__content pre {margin: 0.2em;color: black;border-radius: 0.25em;background-color: #f0f8ff;}#sk-container-id-1 input.sk-toggleable__control:checked~div.sk-toggleable__content {max-height: 200px;max-width: 100%;overflow: auto;}#sk-container-id-1 input.sk-toggleable__control:checked~label.sk-toggleable__label-arrow:before {content: \"▾\";}#sk-container-id-1 div.sk-estimator input.sk-toggleable__control:checked~label.sk-toggleable__label {background-color: #d4ebff;}#sk-container-id-1 div.sk-label input.sk-toggleable__control:checked~label.sk-toggleable__label {background-color: #d4ebff;}#sk-container-id-1 input.sk-hidden--visually {border: 0;clip: rect(1px 1px 1px 1px);clip: rect(1px, 1px, 1px, 1px);height: 1px;margin: -1px;overflow: hidden;padding: 0;position: absolute;width: 1px;}#sk-container-id-1 div.sk-estimator {font-family: monospace;background-color: #f0f8ff;border: 1px dotted black;border-radius: 0.25em;box-sizing: border-box;margin-bottom: 0.5em;}#sk-container-id-1 div.sk-estimator:hover {background-color: #d4ebff;}#sk-container-id-1 div.sk-parallel-item::after {content: \"\";width: 100%;border-bottom: 1px solid gray;flex-grow: 1;}#sk-container-id-1 div.sk-label:hover label.sk-toggleable__label {background-color: #d4ebff;}#sk-container-id-1 div.sk-serial::before {content: \"\";position: absolute;border-left: 1px solid gray;box-sizing: border-box;top: 0;bottom: 0;left: 50%;z-index: 0;}#sk-container-id-1 div.sk-serial {display: flex;flex-direction: column;align-items: center;background-color: white;padding-right: 0.2em;padding-left: 0.2em;position: relative;}#sk-container-id-1 div.sk-item {position: relative;z-index: 1;}#sk-container-id-1 div.sk-parallel {display: flex;align-items: stretch;justify-content: center;background-color: white;position: relative;}#sk-container-id-1 div.sk-item::before, #sk-container-id-1 div.sk-parallel-item::before {content: \"\";position: absolute;border-left: 1px solid gray;box-sizing: border-box;top: 0;bottom: 0;left: 50%;z-index: -1;}#sk-container-id-1 div.sk-parallel-item {display: flex;flex-direction: column;z-index: 1;position: relative;background-color: white;}#sk-container-id-1 div.sk-parallel-item:first-child::after {align-self: flex-end;width: 50%;}#sk-container-id-1 div.sk-parallel-item:last-child::after {align-self: flex-start;width: 50%;}#sk-container-id-1 div.sk-parallel-item:only-child::after {width: 0;}#sk-container-id-1 div.sk-dashed-wrapped {border: 1px dashed gray;margin: 0 0.4em 0.5em 0.4em;box-sizing: border-box;padding-bottom: 0.4em;background-color: white;}#sk-container-id-1 div.sk-label label {font-family: monospace;font-weight: bold;display: inline-block;line-height: 1.2em;}#sk-container-id-1 div.sk-label-container {text-align: center;}#sk-container-id-1 div.sk-container {/* jupyter's `normalize.less` sets `[hidden] { display: none; }` but bootstrap.min.css set `[hidden] { display: none !important; }` so we also need the `!important` here to be able to override the default hidden behavior on the sphinx rendered scikit-learn.org. See: https://github.com/scikit-learn/scikit-learn/issues/21755 */display: inline-block !important;position: relative;}#sk-container-id-1 div.sk-text-repr-fallback {display: none;}</style><div id=\"sk-container-id-1\" class=\"sk-top-container\"><div class=\"sk-text-repr-fallback\"><pre>GridSearchCV(estimator=SVC(),\n",
       "             param_grid={&#x27;C&#x27;: [1, 10, 100, 1000],\n",
       "                         &#x27;gamma&#x27;: [1, 0.1, 0.001, 0.0001],\n",
       "                         &#x27;kernel&#x27;: [&#x27;sigmoid&#x27;, &#x27;rbf&#x27;]},\n",
       "             verbose=2)</pre><b>In a Jupyter environment, please rerun this cell to show the HTML representation or trust the notebook. <br />On GitHub, the HTML representation is unable to render, please try loading this page with nbviewer.org.</b></div><div class=\"sk-container\" hidden><div class=\"sk-item sk-dashed-wrapped\"><div class=\"sk-label-container\"><div class=\"sk-label sk-toggleable\"><input class=\"sk-toggleable__control sk-hidden--visually\" id=\"sk-estimator-id-1\" type=\"checkbox\" ><label for=\"sk-estimator-id-1\" class=\"sk-toggleable__label sk-toggleable__label-arrow\">GridSearchCV</label><div class=\"sk-toggleable__content\"><pre>GridSearchCV(estimator=SVC(),\n",
       "             param_grid={&#x27;C&#x27;: [1, 10, 100, 1000],\n",
       "                         &#x27;gamma&#x27;: [1, 0.1, 0.001, 0.0001],\n",
       "                         &#x27;kernel&#x27;: [&#x27;sigmoid&#x27;, &#x27;rbf&#x27;]},\n",
       "             verbose=2)</pre></div></div></div><div class=\"sk-parallel\"><div class=\"sk-parallel-item\"><div class=\"sk-item\"><div class=\"sk-label-container\"><div class=\"sk-label sk-toggleable\"><input class=\"sk-toggleable__control sk-hidden--visually\" id=\"sk-estimator-id-2\" type=\"checkbox\" ><label for=\"sk-estimator-id-2\" class=\"sk-toggleable__label sk-toggleable__label-arrow\">estimator: SVC</label><div class=\"sk-toggleable__content\"><pre>SVC()</pre></div></div></div><div class=\"sk-serial\"><div class=\"sk-item\"><div class=\"sk-estimator sk-toggleable\"><input class=\"sk-toggleable__control sk-hidden--visually\" id=\"sk-estimator-id-3\" type=\"checkbox\" ><label for=\"sk-estimator-id-3\" class=\"sk-toggleable__label sk-toggleable__label-arrow\">SVC</label><div class=\"sk-toggleable__content\"><pre>SVC()</pre></div></div></div></div></div></div></div></div></div></div>"
      ]
     },
     "metadata": {},
     "execution_count": 24
    }
   ]
  },
  {
   "cell_type": "code",
   "source": [
    "grid.best_params_\n",
    "predic = grid.predict(X_test)\n",
    "print(grid.score(X_test, y_test))\n",
    "print(grid.best_params_)"
   ],
   "metadata": {
    "colab": {
     "base_uri": "https://localhost:8080/"
    },
    "id": "UMwq-l20mlHf",
    "outputId": "3c78e031-013a-450f-ed91-cb6b702061c4"
   },
   "id": "UMwq-l20mlHf",
   "execution_count": 28,
   "outputs": [
    {
     "output_type": "stream",
     "name": "stdout",
     "text": [
      "0.7716049382716049\n",
      "{'C': 10, 'gamma': 0.0001, 'kernel': 'rbf'}\n"
     ]
    }
   ]
  },
  {
   "cell_type": "markdown",
   "source": [],
   "metadata": {
    "id": "OIXMif8TmkML"
   },
   "id": "OIXMif8TmkML"
  },
  {
   "cell_type": "markdown",
   "source": [],
   "metadata": {
    "id": "Hlm-7Wuol_kn"
   },
   "id": "Hlm-7Wuol_kn"
  },
  {
   "cell_type": "markdown",
   "id": "0ee0b73c",
   "metadata": {
    "id": "0ee0b73c"
   },
   "source": [
    "# Hand owner recognition without Class label\n"
   ]
  },
  {
   "cell_type": "code",
   "execution_count": 32,
   "id": "254eeb2d",
   "metadata": {
    "colab": {
     "base_uri": "https://localhost:8080/"
    },
    "id": "254eeb2d",
    "outputId": "0f6c0bd7-614f-4f38-df12-4355fa858f5a"
   },
   "outputs": [
    {
     "output_type": "stream",
     "name": "stdout",
     "text": [
      "0.15483870967741936\n"
     ]
    }
   ],
   "source": [
    "df2 = df.drop(['User'], axis=1)\n",
    "df2 = df2.drop(['Class'], axis=1)\n",
    "labels_Users = df['User']\n",
    "X_train, X_test, y_train, y_test,  = train_test_split(df2, labels_Users, test_size=0.20, random_state=42)\n",
    "\n",
    "clf = SVC(kernel='rbf', gamma=\"auto\", C = 7)\n",
    "clf.fit(X_train, y_train)\n",
    "print(clf.score(X_test, y_test))"
   ]
  },
  {
   "cell_type": "markdown",
   "source": [
    "# Gread SearchHand owner recognition without Class label"
   ],
   "metadata": {
    "id": "TksOy9YApsuW"
   },
   "id": "TksOy9YApsuW"
  },
  {
   "cell_type": "markdown",
   "source": [],
   "metadata": {
    "id": "55wTsHqlpryQ"
   },
   "id": "55wTsHqlpryQ"
  },
  {
   "cell_type": "code",
   "execution_count": 33,
   "id": "780e1058",
   "metadata": {
    "colab": {
     "base_uri": "https://localhost:8080/",
     "height": 1000
    },
    "id": "780e1058",
    "outputId": "dc4e36b6-e1f9-46df-cabf-222600570d3c"
   },
   "outputs": [
    {
     "output_type": "stream",
     "name": "stdout",
     "text": [
      "Fitting 5 folds for each of 32 candidates, totalling 160 fits\n",
      "[CV] END .......................C=1, gamma=1, kernel=sigmoid; total time=   0.3s\n",
      "[CV] END .......................C=1, gamma=1, kernel=sigmoid; total time=   0.3s\n",
      "[CV] END .......................C=1, gamma=1, kernel=sigmoid; total time=   0.3s\n",
      "[CV] END .......................C=1, gamma=1, kernel=sigmoid; total time=   0.3s\n",
      "[CV] END .......................C=1, gamma=1, kernel=sigmoid; total time=   0.3s\n",
      "[CV] END ...........................C=1, gamma=1, kernel=rbf; total time=   0.6s\n",
      "[CV] END ...........................C=1, gamma=1, kernel=rbf; total time=   0.6s\n",
      "[CV] END ...........................C=1, gamma=1, kernel=rbf; total time=   0.6s\n",
      "[CV] END ...........................C=1, gamma=1, kernel=rbf; total time=   0.6s\n",
      "[CV] END ...........................C=1, gamma=1, kernel=rbf; total time=   0.6s\n",
      "[CV] END .....................C=1, gamma=0.1, kernel=sigmoid; total time=   0.3s\n",
      "[CV] END .....................C=1, gamma=0.1, kernel=sigmoid; total time=   0.3s\n",
      "[CV] END .....................C=1, gamma=0.1, kernel=sigmoid; total time=   0.3s\n",
      "[CV] END .....................C=1, gamma=0.1, kernel=sigmoid; total time=   0.4s\n",
      "[CV] END .....................C=1, gamma=0.1, kernel=sigmoid; total time=   0.5s\n",
      "[CV] END .........................C=1, gamma=0.1, kernel=rbf; total time=   1.0s\n",
      "[CV] END .........................C=1, gamma=0.1, kernel=rbf; total time=   1.0s\n",
      "[CV] END .........................C=1, gamma=0.1, kernel=rbf; total time=   0.6s\n",
      "[CV] END .........................C=1, gamma=0.1, kernel=rbf; total time=   0.6s\n",
      "[CV] END .........................C=1, gamma=0.1, kernel=rbf; total time=   0.6s\n",
      "[CV] END ...................C=1, gamma=0.001, kernel=sigmoid; total time=   0.3s\n",
      "[CV] END ...................C=1, gamma=0.001, kernel=sigmoid; total time=   0.3s\n",
      "[CV] END ...................C=1, gamma=0.001, kernel=sigmoid; total time=   0.3s\n",
      "[CV] END ...................C=1, gamma=0.001, kernel=sigmoid; total time=   0.3s\n",
      "[CV] END ...................C=1, gamma=0.001, kernel=sigmoid; total time=   0.3s\n",
      "[CV] END .......................C=1, gamma=0.001, kernel=rbf; total time=   0.6s\n",
      "[CV] END .......................C=1, gamma=0.001, kernel=rbf; total time=   0.6s\n",
      "[CV] END .......................C=1, gamma=0.001, kernel=rbf; total time=   0.6s\n",
      "[CV] END .......................C=1, gamma=0.001, kernel=rbf; total time=   0.6s\n",
      "[CV] END .......................C=1, gamma=0.001, kernel=rbf; total time=   0.6s\n",
      "[CV] END ..................C=1, gamma=0.0001, kernel=sigmoid; total time=   0.6s\n",
      "[CV] END ..................C=1, gamma=0.0001, kernel=sigmoid; total time=   0.7s\n",
      "[CV] END ..................C=1, gamma=0.0001, kernel=sigmoid; total time=   0.7s\n",
      "[CV] END ..................C=1, gamma=0.0001, kernel=sigmoid; total time=   0.6s\n",
      "[CV] END ..................C=1, gamma=0.0001, kernel=sigmoid; total time=   0.6s\n",
      "[CV] END ......................C=1, gamma=0.0001, kernel=rbf; total time=   0.5s\n",
      "[CV] END ......................C=1, gamma=0.0001, kernel=rbf; total time=   0.6s\n",
      "[CV] END ......................C=1, gamma=0.0001, kernel=rbf; total time=   0.9s\n",
      "[CV] END ......................C=1, gamma=0.0001, kernel=rbf; total time=   0.9s\n",
      "[CV] END ......................C=1, gamma=0.0001, kernel=rbf; total time=   0.9s\n",
      "[CV] END ......................C=10, gamma=1, kernel=sigmoid; total time=   0.3s\n",
      "[CV] END ......................C=10, gamma=1, kernel=sigmoid; total time=   0.3s\n",
      "[CV] END ......................C=10, gamma=1, kernel=sigmoid; total time=   0.3s\n",
      "[CV] END ......................C=10, gamma=1, kernel=sigmoid; total time=   0.3s\n",
      "[CV] END ......................C=10, gamma=1, kernel=sigmoid; total time=   0.3s\n",
      "[CV] END ..........................C=10, gamma=1, kernel=rbf; total time=   0.6s\n",
      "[CV] END ..........................C=10, gamma=1, kernel=rbf; total time=   0.6s\n",
      "[CV] END ..........................C=10, gamma=1, kernel=rbf; total time=   0.6s\n",
      "[CV] END ..........................C=10, gamma=1, kernel=rbf; total time=   0.6s\n",
      "[CV] END ..........................C=10, gamma=1, kernel=rbf; total time=   0.6s\n",
      "[CV] END ....................C=10, gamma=0.1, kernel=sigmoid; total time=   0.3s\n",
      "[CV] END ....................C=10, gamma=0.1, kernel=sigmoid; total time=   0.3s\n",
      "[CV] END ....................C=10, gamma=0.1, kernel=sigmoid; total time=   0.3s\n",
      "[CV] END ....................C=10, gamma=0.1, kernel=sigmoid; total time=   0.3s\n",
      "[CV] END ....................C=10, gamma=0.1, kernel=sigmoid; total time=   0.3s\n",
      "[CV] END ........................C=10, gamma=0.1, kernel=rbf; total time=   0.6s\n",
      "[CV] END ........................C=10, gamma=0.1, kernel=rbf; total time=   0.6s\n",
      "[CV] END ........................C=10, gamma=0.1, kernel=rbf; total time=   0.6s\n",
      "[CV] END ........................C=10, gamma=0.1, kernel=rbf; total time=   0.6s\n",
      "[CV] END ........................C=10, gamma=0.1, kernel=rbf; total time=   0.6s\n",
      "[CV] END ..................C=10, gamma=0.001, kernel=sigmoid; total time=   0.3s\n",
      "[CV] END ..................C=10, gamma=0.001, kernel=sigmoid; total time=   0.3s\n",
      "[CV] END ..................C=10, gamma=0.001, kernel=sigmoid; total time=   0.3s\n",
      "[CV] END ..................C=10, gamma=0.001, kernel=sigmoid; total time=   0.4s\n",
      "[CV] END ..................C=10, gamma=0.001, kernel=sigmoid; total time=   0.5s\n",
      "[CV] END ......................C=10, gamma=0.001, kernel=rbf; total time=   1.0s\n",
      "[CV] END ......................C=10, gamma=0.001, kernel=rbf; total time=   1.0s\n",
      "[CV] END ......................C=10, gamma=0.001, kernel=rbf; total time=   0.7s\n",
      "[CV] END ......................C=10, gamma=0.001, kernel=rbf; total time=   0.6s\n",
      "[CV] END ......................C=10, gamma=0.001, kernel=rbf; total time=   0.6s\n",
      "[CV] END .................C=10, gamma=0.0001, kernel=sigmoid; total time=   0.6s\n",
      "[CV] END .................C=10, gamma=0.0001, kernel=sigmoid; total time=   0.6s\n",
      "[CV] END .................C=10, gamma=0.0001, kernel=sigmoid; total time=   0.6s\n",
      "[CV] END .................C=10, gamma=0.0001, kernel=sigmoid; total time=   0.6s\n",
      "[CV] END .................C=10, gamma=0.0001, kernel=sigmoid; total time=   0.6s\n",
      "[CV] END .....................C=10, gamma=0.0001, kernel=rbf; total time=   0.5s\n",
      "[CV] END .....................C=10, gamma=0.0001, kernel=rbf; total time=   0.6s\n",
      "[CV] END .....................C=10, gamma=0.0001, kernel=rbf; total time=   0.5s\n",
      "[CV] END .....................C=10, gamma=0.0001, kernel=rbf; total time=   0.6s\n",
      "[CV] END .....................C=10, gamma=0.0001, kernel=rbf; total time=   0.5s\n",
      "[CV] END .....................C=100, gamma=1, kernel=sigmoid; total time=   0.3s\n",
      "[CV] END .....................C=100, gamma=1, kernel=sigmoid; total time=   0.3s\n",
      "[CV] END .....................C=100, gamma=1, kernel=sigmoid; total time=   0.3s\n",
      "[CV] END .....................C=100, gamma=1, kernel=sigmoid; total time=   0.3s\n",
      "[CV] END .....................C=100, gamma=1, kernel=sigmoid; total time=   0.3s\n",
      "[CV] END .........................C=100, gamma=1, kernel=rbf; total time=   0.6s\n",
      "[CV] END .........................C=100, gamma=1, kernel=rbf; total time=   0.6s\n",
      "[CV] END .........................C=100, gamma=1, kernel=rbf; total time=   1.1s\n",
      "[CV] END .........................C=100, gamma=1, kernel=rbf; total time=   1.2s\n",
      "[CV] END .........................C=100, gamma=1, kernel=rbf; total time=   1.0s\n",
      "[CV] END ...................C=100, gamma=0.1, kernel=sigmoid; total time=   0.3s\n",
      "[CV] END ...................C=100, gamma=0.1, kernel=sigmoid; total time=   0.3s\n",
      "[CV] END ...................C=100, gamma=0.1, kernel=sigmoid; total time=   0.3s\n",
      "[CV] END ...................C=100, gamma=0.1, kernel=sigmoid; total time=   0.3s\n",
      "[CV] END ...................C=100, gamma=0.1, kernel=sigmoid; total time=   0.3s\n",
      "[CV] END .......................C=100, gamma=0.1, kernel=rbf; total time=   0.6s\n",
      "[CV] END .......................C=100, gamma=0.1, kernel=rbf; total time=   0.7s\n",
      "[CV] END .......................C=100, gamma=0.1, kernel=rbf; total time=   0.6s\n",
      "[CV] END .......................C=100, gamma=0.1, kernel=rbf; total time=   0.6s\n",
      "[CV] END .......................C=100, gamma=0.1, kernel=rbf; total time=   0.6s\n",
      "[CV] END .................C=100, gamma=0.001, kernel=sigmoid; total time=   0.3s\n",
      "[CV] END .................C=100, gamma=0.001, kernel=sigmoid; total time=   0.3s\n",
      "[CV] END .................C=100, gamma=0.001, kernel=sigmoid; total time=   0.3s\n",
      "[CV] END .................C=100, gamma=0.001, kernel=sigmoid; total time=   0.3s\n",
      "[CV] END .................C=100, gamma=0.001, kernel=sigmoid; total time=   0.3s\n",
      "[CV] END .....................C=100, gamma=0.001, kernel=rbf; total time=   0.6s\n",
      "[CV] END .....................C=100, gamma=0.001, kernel=rbf; total time=   0.6s\n",
      "[CV] END .....................C=100, gamma=0.001, kernel=rbf; total time=   0.6s\n",
      "[CV] END .....................C=100, gamma=0.001, kernel=rbf; total time=   0.6s\n",
      "[CV] END .....................C=100, gamma=0.001, kernel=rbf; total time=   0.6s\n",
      "[CV] END ................C=100, gamma=0.0001, kernel=sigmoid; total time=   0.5s\n",
      "[CV] END ................C=100, gamma=0.0001, kernel=sigmoid; total time=   0.6s\n",
      "[CV] END ................C=100, gamma=0.0001, kernel=sigmoid; total time=   0.8s\n",
      "[CV] END ................C=100, gamma=0.0001, kernel=sigmoid; total time=   0.8s\n",
      "[CV] END ................C=100, gamma=0.0001, kernel=sigmoid; total time=   0.9s\n",
      "[CV] END ....................C=100, gamma=0.0001, kernel=rbf; total time=   0.6s\n",
      "[CV] END ....................C=100, gamma=0.0001, kernel=rbf; total time=   0.5s\n",
      "[CV] END ....................C=100, gamma=0.0001, kernel=rbf; total time=   0.5s\n",
      "[CV] END ....................C=100, gamma=0.0001, kernel=rbf; total time=   0.5s\n",
      "[CV] END ....................C=100, gamma=0.0001, kernel=rbf; total time=   0.5s\n",
      "[CV] END ....................C=1000, gamma=1, kernel=sigmoid; total time=   0.3s\n",
      "[CV] END ....................C=1000, gamma=1, kernel=sigmoid; total time=   0.3s\n",
      "[CV] END ....................C=1000, gamma=1, kernel=sigmoid; total time=   0.3s\n",
      "[CV] END ....................C=1000, gamma=1, kernel=sigmoid; total time=   0.3s\n",
      "[CV] END ....................C=1000, gamma=1, kernel=sigmoid; total time=   0.3s\n",
      "[CV] END ........................C=1000, gamma=1, kernel=rbf; total time=   0.7s\n",
      "[CV] END ........................C=1000, gamma=1, kernel=rbf; total time=   1.0s\n",
      "[CV] END ........................C=1000, gamma=1, kernel=rbf; total time=   1.0s\n",
      "[CV] END ........................C=1000, gamma=1, kernel=rbf; total time=   0.6s\n",
      "[CV] END ........................C=1000, gamma=1, kernel=rbf; total time=   0.6s\n",
      "[CV] END ..................C=1000, gamma=0.1, kernel=sigmoid; total time=   0.3s\n",
      "[CV] END ..................C=1000, gamma=0.1, kernel=sigmoid; total time=   0.3s\n",
      "[CV] END ..................C=1000, gamma=0.1, kernel=sigmoid; total time=   0.3s\n",
      "[CV] END ..................C=1000, gamma=0.1, kernel=sigmoid; total time=   0.3s\n",
      "[CV] END ..................C=1000, gamma=0.1, kernel=sigmoid; total time=   0.3s\n",
      "[CV] END ......................C=1000, gamma=0.1, kernel=rbf; total time=   0.6s\n",
      "[CV] END ......................C=1000, gamma=0.1, kernel=rbf; total time=   1.0s\n",
      "[CV] END ......................C=1000, gamma=0.1, kernel=rbf; total time=   1.1s\n",
      "[CV] END ......................C=1000, gamma=0.1, kernel=rbf; total time=   1.1s\n",
      "[CV] END ......................C=1000, gamma=0.1, kernel=rbf; total time=   0.6s\n",
      "[CV] END ................C=1000, gamma=0.001, kernel=sigmoid; total time=   0.3s\n",
      "[CV] END ................C=1000, gamma=0.001, kernel=sigmoid; total time=   0.3s\n",
      "[CV] END ................C=1000, gamma=0.001, kernel=sigmoid; total time=   0.3s\n",
      "[CV] END ................C=1000, gamma=0.001, kernel=sigmoid; total time=   0.3s\n",
      "[CV] END ................C=1000, gamma=0.001, kernel=sigmoid; total time=   0.3s\n",
      "[CV] END ....................C=1000, gamma=0.001, kernel=rbf; total time=   0.6s\n",
      "[CV] END ....................C=1000, gamma=0.001, kernel=rbf; total time=   0.6s\n",
      "[CV] END ....................C=1000, gamma=0.001, kernel=rbf; total time=   0.6s\n",
      "[CV] END ....................C=1000, gamma=0.001, kernel=rbf; total time=   0.6s\n",
      "[CV] END ....................C=1000, gamma=0.001, kernel=rbf; total time=   0.6s\n",
      "[CV] END ...............C=1000, gamma=0.0001, kernel=sigmoid; total time=   0.5s\n",
      "[CV] END ...............C=1000, gamma=0.0001, kernel=sigmoid; total time=   0.5s\n",
      "[CV] END ...............C=1000, gamma=0.0001, kernel=sigmoid; total time=   0.5s\n",
      "[CV] END ...............C=1000, gamma=0.0001, kernel=sigmoid; total time=   0.5s\n",
      "[CV] END ...............C=1000, gamma=0.0001, kernel=sigmoid; total time=   0.5s\n",
      "[CV] END ...................C=1000, gamma=0.0001, kernel=rbf; total time=   0.5s\n",
      "[CV] END ...................C=1000, gamma=0.0001, kernel=rbf; total time=   0.5s\n",
      "[CV] END ...................C=1000, gamma=0.0001, kernel=rbf; total time=   0.5s\n",
      "[CV] END ...................C=1000, gamma=0.0001, kernel=rbf; total time=   0.5s\n",
      "[CV] END ...................C=1000, gamma=0.0001, kernel=rbf; total time=   0.6s\n"
     ]
    },
    {
     "output_type": "execute_result",
     "data": {
      "text/plain": [
       "GridSearchCV(estimator=SVC(),\n",
       "             param_grid={'C': [1, 10, 100, 1000],\n",
       "                         'gamma': [1, 0.1, 0.001, 0.0001],\n",
       "                         'kernel': ['sigmoid', 'rbf']},\n",
       "             verbose=2)"
      ],
      "text/html": [
       "<style>#sk-container-id-2 {color: black;background-color: white;}#sk-container-id-2 pre{padding: 0;}#sk-container-id-2 div.sk-toggleable {background-color: white;}#sk-container-id-2 label.sk-toggleable__label {cursor: pointer;display: block;width: 100%;margin-bottom: 0;padding: 0.3em;box-sizing: border-box;text-align: center;}#sk-container-id-2 label.sk-toggleable__label-arrow:before {content: \"▸\";float: left;margin-right: 0.25em;color: #696969;}#sk-container-id-2 label.sk-toggleable__label-arrow:hover:before {color: black;}#sk-container-id-2 div.sk-estimator:hover label.sk-toggleable__label-arrow:before {color: black;}#sk-container-id-2 div.sk-toggleable__content {max-height: 0;max-width: 0;overflow: hidden;text-align: left;background-color: #f0f8ff;}#sk-container-id-2 div.sk-toggleable__content pre {margin: 0.2em;color: black;border-radius: 0.25em;background-color: #f0f8ff;}#sk-container-id-2 input.sk-toggleable__control:checked~div.sk-toggleable__content {max-height: 200px;max-width: 100%;overflow: auto;}#sk-container-id-2 input.sk-toggleable__control:checked~label.sk-toggleable__label-arrow:before {content: \"▾\";}#sk-container-id-2 div.sk-estimator input.sk-toggleable__control:checked~label.sk-toggleable__label {background-color: #d4ebff;}#sk-container-id-2 div.sk-label input.sk-toggleable__control:checked~label.sk-toggleable__label {background-color: #d4ebff;}#sk-container-id-2 input.sk-hidden--visually {border: 0;clip: rect(1px 1px 1px 1px);clip: rect(1px, 1px, 1px, 1px);height: 1px;margin: -1px;overflow: hidden;padding: 0;position: absolute;width: 1px;}#sk-container-id-2 div.sk-estimator {font-family: monospace;background-color: #f0f8ff;border: 1px dotted black;border-radius: 0.25em;box-sizing: border-box;margin-bottom: 0.5em;}#sk-container-id-2 div.sk-estimator:hover {background-color: #d4ebff;}#sk-container-id-2 div.sk-parallel-item::after {content: \"\";width: 100%;border-bottom: 1px solid gray;flex-grow: 1;}#sk-container-id-2 div.sk-label:hover label.sk-toggleable__label {background-color: #d4ebff;}#sk-container-id-2 div.sk-serial::before {content: \"\";position: absolute;border-left: 1px solid gray;box-sizing: border-box;top: 0;bottom: 0;left: 50%;z-index: 0;}#sk-container-id-2 div.sk-serial {display: flex;flex-direction: column;align-items: center;background-color: white;padding-right: 0.2em;padding-left: 0.2em;position: relative;}#sk-container-id-2 div.sk-item {position: relative;z-index: 1;}#sk-container-id-2 div.sk-parallel {display: flex;align-items: stretch;justify-content: center;background-color: white;position: relative;}#sk-container-id-2 div.sk-item::before, #sk-container-id-2 div.sk-parallel-item::before {content: \"\";position: absolute;border-left: 1px solid gray;box-sizing: border-box;top: 0;bottom: 0;left: 50%;z-index: -1;}#sk-container-id-2 div.sk-parallel-item {display: flex;flex-direction: column;z-index: 1;position: relative;background-color: white;}#sk-container-id-2 div.sk-parallel-item:first-child::after {align-self: flex-end;width: 50%;}#sk-container-id-2 div.sk-parallel-item:last-child::after {align-self: flex-start;width: 50%;}#sk-container-id-2 div.sk-parallel-item:only-child::after {width: 0;}#sk-container-id-2 div.sk-dashed-wrapped {border: 1px dashed gray;margin: 0 0.4em 0.5em 0.4em;box-sizing: border-box;padding-bottom: 0.4em;background-color: white;}#sk-container-id-2 div.sk-label label {font-family: monospace;font-weight: bold;display: inline-block;line-height: 1.2em;}#sk-container-id-2 div.sk-label-container {text-align: center;}#sk-container-id-2 div.sk-container {/* jupyter's `normalize.less` sets `[hidden] { display: none; }` but bootstrap.min.css set `[hidden] { display: none !important; }` so we also need the `!important` here to be able to override the default hidden behavior on the sphinx rendered scikit-learn.org. See: https://github.com/scikit-learn/scikit-learn/issues/21755 */display: inline-block !important;position: relative;}#sk-container-id-2 div.sk-text-repr-fallback {display: none;}</style><div id=\"sk-container-id-2\" class=\"sk-top-container\"><div class=\"sk-text-repr-fallback\"><pre>GridSearchCV(estimator=SVC(),\n",
       "             param_grid={&#x27;C&#x27;: [1, 10, 100, 1000],\n",
       "                         &#x27;gamma&#x27;: [1, 0.1, 0.001, 0.0001],\n",
       "                         &#x27;kernel&#x27;: [&#x27;sigmoid&#x27;, &#x27;rbf&#x27;]},\n",
       "             verbose=2)</pre><b>In a Jupyter environment, please rerun this cell to show the HTML representation or trust the notebook. <br />On GitHub, the HTML representation is unable to render, please try loading this page with nbviewer.org.</b></div><div class=\"sk-container\" hidden><div class=\"sk-item sk-dashed-wrapped\"><div class=\"sk-label-container\"><div class=\"sk-label sk-toggleable\"><input class=\"sk-toggleable__control sk-hidden--visually\" id=\"sk-estimator-id-4\" type=\"checkbox\" ><label for=\"sk-estimator-id-4\" class=\"sk-toggleable__label sk-toggleable__label-arrow\">GridSearchCV</label><div class=\"sk-toggleable__content\"><pre>GridSearchCV(estimator=SVC(),\n",
       "             param_grid={&#x27;C&#x27;: [1, 10, 100, 1000],\n",
       "                         &#x27;gamma&#x27;: [1, 0.1, 0.001, 0.0001],\n",
       "                         &#x27;kernel&#x27;: [&#x27;sigmoid&#x27;, &#x27;rbf&#x27;]},\n",
       "             verbose=2)</pre></div></div></div><div class=\"sk-parallel\"><div class=\"sk-parallel-item\"><div class=\"sk-item\"><div class=\"sk-label-container\"><div class=\"sk-label sk-toggleable\"><input class=\"sk-toggleable__control sk-hidden--visually\" id=\"sk-estimator-id-5\" type=\"checkbox\" ><label for=\"sk-estimator-id-5\" class=\"sk-toggleable__label sk-toggleable__label-arrow\">estimator: SVC</label><div class=\"sk-toggleable__content\"><pre>SVC()</pre></div></div></div><div class=\"sk-serial\"><div class=\"sk-item\"><div class=\"sk-estimator sk-toggleable\"><input class=\"sk-toggleable__control sk-hidden--visually\" id=\"sk-estimator-id-6\" type=\"checkbox\" ><label for=\"sk-estimator-id-6\" class=\"sk-toggleable__label sk-toggleable__label-arrow\">SVC</label><div class=\"sk-toggleable__content\"><pre>SVC()</pre></div></div></div></div></div></div></div></div></div></div>"
      ]
     },
     "metadata": {},
     "execution_count": 33
    }
   ],
   "source": [
    "param_grid = {'C':[1,10,100,1000],\n",
    "              'gamma':[1,0.1,0.001,0.0001], \n",
    "              'kernel':['sigmoid','rbf']}\n",
    "\n",
    "grid = GridSearchCV(SVC(),param_grid,refit = True, verbose=2)\n",
    "\n",
    "grid.fit(X_train,y_train)"
   ]
  },
  {
   "cell_type": "code",
   "source": [
    "grid.best_params_\n",
    "predic = grid.predict(X_test)\n",
    "print(grid.score(X_test, y_test))\n",
    "print(grid.best_params_)"
   ],
   "metadata": {
    "colab": {
     "base_uri": "https://localhost:8080/"
    },
    "id": "QzUMWsbJp6-r",
    "outputId": "cd78bd56-21d6-46c5-9136-0821f5b70ceb"
   },
   "id": "QzUMWsbJp6-r",
   "execution_count": 34,
   "outputs": [
    {
     "output_type": "stream",
     "name": "stdout",
     "text": [
      "0.65\n",
      "{'C': 10, 'gamma': 0.0001, 'kernel': 'rbf'}\n"
     ]
    }
   ]
  },
  {
   "cell_type": "markdown",
   "source": [
    "# Random Forest"
   ],
   "metadata": {
    "id": "d6-fQM1-rNVb"
   },
   "id": "d6-fQM1-rNVb"
  },
  {
   "cell_type": "code",
   "source": [
    "from sklearn.ensemble import RandomForestClassifier\n",
    "from sklearn.datasets import make_classification"
   ],
   "metadata": {
    "id": "88SjR0VMruck"
   },
   "id": "88SjR0VMruck",
   "execution_count": 35,
   "outputs": []
  },
  {
   "cell_type": "code",
   "source": [
    "dataset_path = 'allUsers.lcl.csv'\n",
    "\n",
    "df = pd.read_csv(dataset_path)\n",
    "#knn Cannot work with mining data, so replace them with a 0\n",
    "df = df.replace('?', 0)\n",
    "#df = df.dropna(thresh=len(df) * 0.10, axis=1)\n"
   ],
   "metadata": {
    "id": "Woj1x8nXrNCX"
   },
   "id": "Woj1x8nXrNCX",
   "execution_count": 36,
   "outputs": []
  },
  {
   "cell_type": "markdown",
   "source": [
    "# Class recognition with User label"
   ],
   "metadata": {
    "id": "8aYevJyJramt"
   },
   "id": "8aYevJyJramt"
  },
  {
   "cell_type": "code",
   "source": [
    "df2 = df.drop(['User'], axis=1)\n",
    "labels_Users = df['User']\n",
    "X_train, X_test, y_train, y_test,  = train_test_split(df2, labels_Users, test_size=0.20, random_state=42)"
   ],
   "metadata": {
    "id": "AkYTHzyorbyG"
   },
   "id": "AkYTHzyorbyG",
   "execution_count": null,
   "outputs": []
  },
  {
   "cell_type": "code",
   "source": [
    "clf = RandomForestClassifier(max_depth=200, random_state=10)\n",
    "clf.fit(X_train, y_train)\n",
    "clf.score(X_test, y_test)"
   ],
   "metadata": {
    "colab": {
     "base_uri": "https://localhost:8080/"
    },
    "id": "TM2z8jcjr1IB",
    "outputId": "4feb0384-834c-4323-9cc8-9b1878565c67"
   },
   "id": "TM2z8jcjr1IB",
   "execution_count": 41,
   "outputs": [
    {
     "output_type": "execute_result",
     "data": {
      "text/plain": [
       "0.8032258064516129"
      ]
     },
     "metadata": {},
     "execution_count": 41
    }
   ]
  },
  {
   "cell_type": "markdown",
   "source": [
    "# Gread Search"
   ],
   "metadata": {
    "id": "gCSpeBrHsgrR"
   },
   "id": "gCSpeBrHsgrR"
  }
 ],
 "metadata": {
  "kernelspec": {
   "display_name": "Python 3 (ipykernel)",
   "language": "python",
   "name": "python3"
  },
  "language_info": {
   "codemirror_mode": {
    "name": "ipython",
    "version": 3
   },
   "file_extension": ".py",
   "mimetype": "text/x-python",
   "name": "python",
   "nbconvert_exporter": "python",
   "pygments_lexer": "ipython3",
   "version": "3.9.13"
  },
  "colab": {
   "provenance": []
  }
 },
 "nbformat": 4,
 "nbformat_minor": 5
}
