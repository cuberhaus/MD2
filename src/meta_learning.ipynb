{
  "cells": [
    {
      "cell_type": "markdown",
      "metadata": {
        "id": "view-in-github",
        "colab_type": "text"
      },
      "source": [
        "<a href=\"https://colab.research.google.com/github/cuberhaus/MD2/blob/main/src/meta_learning.ipynb\" target=\"_parent\"><img src=\"https://colab.research.google.com/assets/colab-badge.svg\" alt=\"Open In Colab\"/></a>"
      ]
    },
    {
      "cell_type": "code",
      "execution_count": 5,
      "id": "ba5c8737",
      "metadata": {
        "id": "ba5c8737",
        "ExecuteTime": {
          "end_time": "2023-05-08T12:55:18.437931123Z",
          "start_time": "2023-05-08T12:55:14.814163801Z"
        }
      },
      "outputs": [],
      "source": [
        "from sklearn.neighbors import KNeighborsClassifier\n",
        "from sklearn.svm import SVC\n",
        "from sklearn.dummy import DummyClassifier\n",
        "from sklearn.model_selection import cross_val_score, GridSearchCV, ParameterGrid, train_test_split\n",
        "from sklearn import metrics\n",
        "import pandas as pd\n",
        "import numpy as np\n",
        "from scipy.stats import mode\n",
        "import numpy as np\n",
        "from dataLoader import *"
      ]
    },
    {
      "cell_type": "markdown",
      "source": [
        "# Majority Vote Role"
      ],
      "metadata": {
        "id": "UUGEEW9R32WJ"
      },
      "id": "UUGEEW9R32WJ"
    },
    {
      "cell_type": "code",
      "source": [
        "import matplotlib.pyplot as plt\n",
        "\n",
        "def majority_vote_role(pre_trained_models_array, X_test, y_test):\n",
        "\n",
        "  height = [0,0]\n",
        "  bars = ('Same', 'Difference')\n",
        "  y_pos = np.arange(len(bars))\n",
        "\n",
        "  predictions = []\n",
        "  for model in pre_trained_models_array:\n",
        "    predictions.append(model.predict(X_test))\n",
        "  \n",
        "  predictions = np.array(predictions)\n",
        "  final_prediction = (mode(predictions.T, axis=-1, keepdims=True)[0]).T[0]\n",
        "\n",
        "  for in_line_prediction in predictions.T:\n",
        "    if len(set(in_line_prediction)) > 1:\n",
        "      height[1] = height[1] + 1\n",
        "    else:\n",
        "      height[0] = height[0] + 1\n",
        "\n",
        "\n",
        "  accuracy = 0\n",
        "  for predicted_y, y in zip(final_prediction, y_test):\n",
        "\n",
        "    if predicted_y == y :\n",
        "      accuracy += 1\n",
        "\n",
        "  \n",
        "    # Create bars\n",
        "  plt.bar(y_pos, height)\n",
        "\n",
        "  # Create names on the x-axis\n",
        "  plt.xticks(y_pos, bars)\n",
        "\n",
        "  # Show graphic\n",
        "  plt.show()\n",
        "\n",
        "  return accuracy / len(y_test)\n"
      ],
      "metadata": {
        "id": "PeyqXauwjgwp"
      },
      "id": "PeyqXauwjgwp",
      "execution_count": 6,
      "outputs": []
    },
    {
      "cell_type": "code",
      "source": [
        "results_df_user = pd.DataFrame()\n",
        "X_train, X_test, y_train, y_test = get_user_test_traingi_set(0.20)\n"
      ],
      "metadata": {
        "id": "yRW2dtyIF_rH"
      },
      "id": "yRW2dtyIF_rH",
      "execution_count": 7,
      "outputs": []
    },
    {
      "cell_type": "code",
      "source": [
        "from sklearn.tree import DecisionTreeClassifier\n",
        "from sklearn.tree import export_text\n",
        "decision_tree = DecisionTreeClassifier(random_state=0, max_depth=20)\n",
        "test_model_and_save_result(decision_tree, \"Decision_tree\", X_train, X_test, y_train, y_test, results_df_user)\n",
        "results_df_user.sort_values(by=['acc'], ascending=False)"
      ],
      "metadata": {
        "colab": {
          "base_uri": "https://localhost:8080/",
          "height": 80
        },
        "id": "JUS6JJFoqQWe",
        "outputId": "a9fc89ed-2791-4955-a730-ec6b78580265"
      },
      "id": "JUS6JJFoqQWe",
      "execution_count": 8,
      "outputs": [
        {
          "output_type": "execute_result",
          "data": {
            "text/plain": [
              "                   acc      prec   recall  test f1 score (W)\n",
              "Decision_tree  0.90096  0.899608  0.90096           0.833709"
            ],
            "text/html": [
              "\n",
              "  <div id=\"df-b4947853-a596-45aa-aa7b-8975e12e10fe\">\n",
              "    <div class=\"colab-df-container\">\n",
              "      <div>\n",
              "<style scoped>\n",
              "    .dataframe tbody tr th:only-of-type {\n",
              "        vertical-align: middle;\n",
              "    }\n",
              "\n",
              "    .dataframe tbody tr th {\n",
              "        vertical-align: top;\n",
              "    }\n",
              "\n",
              "    .dataframe thead th {\n",
              "        text-align: right;\n",
              "    }\n",
              "</style>\n",
              "<table border=\"1\" class=\"dataframe\">\n",
              "  <thead>\n",
              "    <tr style=\"text-align: right;\">\n",
              "      <th></th>\n",
              "      <th>acc</th>\n",
              "      <th>prec</th>\n",
              "      <th>recall</th>\n",
              "      <th>test f1 score (W)</th>\n",
              "    </tr>\n",
              "  </thead>\n",
              "  <tbody>\n",
              "    <tr>\n",
              "      <th>Decision_tree</th>\n",
              "      <td>0.90096</td>\n",
              "      <td>0.899608</td>\n",
              "      <td>0.90096</td>\n",
              "      <td>0.833709</td>\n",
              "    </tr>\n",
              "  </tbody>\n",
              "</table>\n",
              "</div>\n",
              "      <button class=\"colab-df-convert\" onclick=\"convertToInteractive('df-b4947853-a596-45aa-aa7b-8975e12e10fe')\"\n",
              "              title=\"Convert this dataframe to an interactive table.\"\n",
              "              style=\"display:none;\">\n",
              "        \n",
              "  <svg xmlns=\"http://www.w3.org/2000/svg\" height=\"24px\"viewBox=\"0 0 24 24\"\n",
              "       width=\"24px\">\n",
              "    <path d=\"M0 0h24v24H0V0z\" fill=\"none\"/>\n",
              "    <path d=\"M18.56 5.44l.94 2.06.94-2.06 2.06-.94-2.06-.94-.94-2.06-.94 2.06-2.06.94zm-11 1L8.5 8.5l.94-2.06 2.06-.94-2.06-.94L8.5 2.5l-.94 2.06-2.06.94zm10 10l.94 2.06.94-2.06 2.06-.94-2.06-.94-.94-2.06-.94 2.06-2.06.94z\"/><path d=\"M17.41 7.96l-1.37-1.37c-.4-.4-.92-.59-1.43-.59-.52 0-1.04.2-1.43.59L10.3 9.45l-7.72 7.72c-.78.78-.78 2.05 0 2.83L4 21.41c.39.39.9.59 1.41.59.51 0 1.02-.2 1.41-.59l7.78-7.78 2.81-2.81c.8-.78.8-2.07 0-2.86zM5.41 20L4 18.59l7.72-7.72 1.47 1.35L5.41 20z\"/>\n",
              "  </svg>\n",
              "      </button>\n",
              "      \n",
              "  <style>\n",
              "    .colab-df-container {\n",
              "      display:flex;\n",
              "      flex-wrap:wrap;\n",
              "      gap: 12px;\n",
              "    }\n",
              "\n",
              "    .colab-df-convert {\n",
              "      background-color: #E8F0FE;\n",
              "      border: none;\n",
              "      border-radius: 50%;\n",
              "      cursor: pointer;\n",
              "      display: none;\n",
              "      fill: #1967D2;\n",
              "      height: 32px;\n",
              "      padding: 0 0 0 0;\n",
              "      width: 32px;\n",
              "    }\n",
              "\n",
              "    .colab-df-convert:hover {\n",
              "      background-color: #E2EBFA;\n",
              "      box-shadow: 0px 1px 2px rgba(60, 64, 67, 0.3), 0px 1px 3px 1px rgba(60, 64, 67, 0.15);\n",
              "      fill: #174EA6;\n",
              "    }\n",
              "\n",
              "    [theme=dark] .colab-df-convert {\n",
              "      background-color: #3B4455;\n",
              "      fill: #D2E3FC;\n",
              "    }\n",
              "\n",
              "    [theme=dark] .colab-df-convert:hover {\n",
              "      background-color: #434B5C;\n",
              "      box-shadow: 0px 1px 3px 1px rgba(0, 0, 0, 0.15);\n",
              "      filter: drop-shadow(0px 1px 2px rgba(0, 0, 0, 0.3));\n",
              "      fill: #FFFFFF;\n",
              "    }\n",
              "  </style>\n",
              "\n",
              "      <script>\n",
              "        const buttonEl =\n",
              "          document.querySelector('#df-b4947853-a596-45aa-aa7b-8975e12e10fe button.colab-df-convert');\n",
              "        buttonEl.style.display =\n",
              "          google.colab.kernel.accessAllowed ? 'block' : 'none';\n",
              "\n",
              "        async function convertToInteractive(key) {\n",
              "          const element = document.querySelector('#df-b4947853-a596-45aa-aa7b-8975e12e10fe');\n",
              "          const dataTable =\n",
              "            await google.colab.kernel.invokeFunction('convertToInteractive',\n",
              "                                                     [key], {});\n",
              "          if (!dataTable) return;\n",
              "\n",
              "          const docLinkHtml = 'Like what you see? Visit the ' +\n",
              "            '<a target=\"_blank\" href=https://colab.research.google.com/notebooks/data_table.ipynb>data table notebook</a>'\n",
              "            + ' to learn more about interactive tables.';\n",
              "          element.innerHTML = '';\n",
              "          dataTable['output_type'] = 'display_data';\n",
              "          await google.colab.output.renderOutput(dataTable, element);\n",
              "          const docLink = document.createElement('div');\n",
              "          docLink.innerHTML = docLinkHtml;\n",
              "          element.appendChild(docLink);\n",
              "        }\n",
              "      </script>\n",
              "    </div>\n",
              "  </div>\n",
              "  "
            ]
          },
          "metadata": {},
          "execution_count": 8
        }
      ]
    },
    {
      "cell_type": "code",
      "source": [
        "from sklearn.neighbors import KNeighborsClassifier\n",
        "from sklearn.tree import DecisionTreeClassifier\n",
        "from sklearn.tree import export_text\n",
        "\n",
        "results_df_mvr = pd.DataFrame()\n",
        "\n",
        "knn = KNeighborsClassifier(n_neighbors=1)\n",
        "\n",
        "test_model_and_save_result(knn, \"KNN\", X_train, X_test, y_train, y_test, results_df_mvr)\n",
        "\n",
        "dr1 = DecisionTreeClassifier(max_depth=20, random_state=10)\n",
        "test_model_and_save_result(dr1, \"Decision_tree1\", X_train[:len(y_train)//2], X_test, y_train[:len(y_train)//2], y_test, results_df_mvr)\n",
        "\n",
        "dr2 = DecisionTreeClassifier(max_depth=30, random_state=25)\n",
        "test_model_and_save_result(dr2, \"Decision_tree2\", X_train[len(y_train)//2:], X_test, y_train[len(y_train)//2:], y_test, results_df_mvr)\n",
        "\n",
        "\n",
        "results_df_mvr.sort_values(by=['acc'], ascending=False)"
      ],
      "metadata": {
        "colab": {
          "base_uri": "https://localhost:8080/",
          "height": 142
        },
        "id": "MNJVRNs1rawH",
        "outputId": "0a5715be-e1c1-4322-99bf-7ce7986ebaf8"
      },
      "id": "MNJVRNs1rawH",
      "execution_count": 9,
      "outputs": [
        {
          "output_type": "execute_result",
          "data": {
            "text/plain": [
              "                     acc      prec    recall  test f1 score (W)\n",
              "Decision_tree2  0.869206  0.868029  0.869206           0.796537\n",
              "KNN             0.864661  0.863969  0.864661           0.796469\n",
              "Decision_tree1  0.862100  0.860431  0.862100           0.778553"
            ],
            "text/html": [
              "\n",
              "  <div id=\"df-2d5b6aa8-ea56-4ed2-b644-7c159c7aeb05\">\n",
              "    <div class=\"colab-df-container\">\n",
              "      <div>\n",
              "<style scoped>\n",
              "    .dataframe tbody tr th:only-of-type {\n",
              "        vertical-align: middle;\n",
              "    }\n",
              "\n",
              "    .dataframe tbody tr th {\n",
              "        vertical-align: top;\n",
              "    }\n",
              "\n",
              "    .dataframe thead th {\n",
              "        text-align: right;\n",
              "    }\n",
              "</style>\n",
              "<table border=\"1\" class=\"dataframe\">\n",
              "  <thead>\n",
              "    <tr style=\"text-align: right;\">\n",
              "      <th></th>\n",
              "      <th>acc</th>\n",
              "      <th>prec</th>\n",
              "      <th>recall</th>\n",
              "      <th>test f1 score (W)</th>\n",
              "    </tr>\n",
              "  </thead>\n",
              "  <tbody>\n",
              "    <tr>\n",
              "      <th>Decision_tree2</th>\n",
              "      <td>0.869206</td>\n",
              "      <td>0.868029</td>\n",
              "      <td>0.869206</td>\n",
              "      <td>0.796537</td>\n",
              "    </tr>\n",
              "    <tr>\n",
              "      <th>KNN</th>\n",
              "      <td>0.864661</td>\n",
              "      <td>0.863969</td>\n",
              "      <td>0.864661</td>\n",
              "      <td>0.796469</td>\n",
              "    </tr>\n",
              "    <tr>\n",
              "      <th>Decision_tree1</th>\n",
              "      <td>0.862100</td>\n",
              "      <td>0.860431</td>\n",
              "      <td>0.862100</td>\n",
              "      <td>0.778553</td>\n",
              "    </tr>\n",
              "  </tbody>\n",
              "</table>\n",
              "</div>\n",
              "      <button class=\"colab-df-convert\" onclick=\"convertToInteractive('df-2d5b6aa8-ea56-4ed2-b644-7c159c7aeb05')\"\n",
              "              title=\"Convert this dataframe to an interactive table.\"\n",
              "              style=\"display:none;\">\n",
              "        \n",
              "  <svg xmlns=\"http://www.w3.org/2000/svg\" height=\"24px\"viewBox=\"0 0 24 24\"\n",
              "       width=\"24px\">\n",
              "    <path d=\"M0 0h24v24H0V0z\" fill=\"none\"/>\n",
              "    <path d=\"M18.56 5.44l.94 2.06.94-2.06 2.06-.94-2.06-.94-.94-2.06-.94 2.06-2.06.94zm-11 1L8.5 8.5l.94-2.06 2.06-.94-2.06-.94L8.5 2.5l-.94 2.06-2.06.94zm10 10l.94 2.06.94-2.06 2.06-.94-2.06-.94-.94-2.06-.94 2.06-2.06.94z\"/><path d=\"M17.41 7.96l-1.37-1.37c-.4-.4-.92-.59-1.43-.59-.52 0-1.04.2-1.43.59L10.3 9.45l-7.72 7.72c-.78.78-.78 2.05 0 2.83L4 21.41c.39.39.9.59 1.41.59.51 0 1.02-.2 1.41-.59l7.78-7.78 2.81-2.81c.8-.78.8-2.07 0-2.86zM5.41 20L4 18.59l7.72-7.72 1.47 1.35L5.41 20z\"/>\n",
              "  </svg>\n",
              "      </button>\n",
              "      \n",
              "  <style>\n",
              "    .colab-df-container {\n",
              "      display:flex;\n",
              "      flex-wrap:wrap;\n",
              "      gap: 12px;\n",
              "    }\n",
              "\n",
              "    .colab-df-convert {\n",
              "      background-color: #E8F0FE;\n",
              "      border: none;\n",
              "      border-radius: 50%;\n",
              "      cursor: pointer;\n",
              "      display: none;\n",
              "      fill: #1967D2;\n",
              "      height: 32px;\n",
              "      padding: 0 0 0 0;\n",
              "      width: 32px;\n",
              "    }\n",
              "\n",
              "    .colab-df-convert:hover {\n",
              "      background-color: #E2EBFA;\n",
              "      box-shadow: 0px 1px 2px rgba(60, 64, 67, 0.3), 0px 1px 3px 1px rgba(60, 64, 67, 0.15);\n",
              "      fill: #174EA6;\n",
              "    }\n",
              "\n",
              "    [theme=dark] .colab-df-convert {\n",
              "      background-color: #3B4455;\n",
              "      fill: #D2E3FC;\n",
              "    }\n",
              "\n",
              "    [theme=dark] .colab-df-convert:hover {\n",
              "      background-color: #434B5C;\n",
              "      box-shadow: 0px 1px 3px 1px rgba(0, 0, 0, 0.15);\n",
              "      filter: drop-shadow(0px 1px 2px rgba(0, 0, 0, 0.3));\n",
              "      fill: #FFFFFF;\n",
              "    }\n",
              "  </style>\n",
              "\n",
              "      <script>\n",
              "        const buttonEl =\n",
              "          document.querySelector('#df-2d5b6aa8-ea56-4ed2-b644-7c159c7aeb05 button.colab-df-convert');\n",
              "        buttonEl.style.display =\n",
              "          google.colab.kernel.accessAllowed ? 'block' : 'none';\n",
              "\n",
              "        async function convertToInteractive(key) {\n",
              "          const element = document.querySelector('#df-2d5b6aa8-ea56-4ed2-b644-7c159c7aeb05');\n",
              "          const dataTable =\n",
              "            await google.colab.kernel.invokeFunction('convertToInteractive',\n",
              "                                                     [key], {});\n",
              "          if (!dataTable) return;\n",
              "\n",
              "          const docLinkHtml = 'Like what you see? Visit the ' +\n",
              "            '<a target=\"_blank\" href=https://colab.research.google.com/notebooks/data_table.ipynb>data table notebook</a>'\n",
              "            + ' to learn more about interactive tables.';\n",
              "          element.innerHTML = '';\n",
              "          dataTable['output_type'] = 'display_data';\n",
              "          await google.colab.output.renderOutput(dataTable, element);\n",
              "          const docLink = document.createElement('div');\n",
              "          docLink.innerHTML = docLinkHtml;\n",
              "          element.appendChild(docLink);\n",
              "        }\n",
              "      </script>\n",
              "    </div>\n",
              "  </div>\n",
              "  "
            ]
          },
          "metadata": {},
          "execution_count": 9
        }
      ]
    },
    {
      "cell_type": "code",
      "source": [
        "from sklearn.ensemble import VotingClassifier\n",
        "\n",
        "print(majority_vote_role([knn, dr1,dr2], X_test, y_test))\n",
        "\n",
        "\n",
        "vc = VotingClassifier(estimators=[('KNN', knn), ('Decision_tree1', dr1), ('Decision_tree2', dr2)], voting='soft')\n",
        "\n",
        "test_model_and_save_result(vc, \"majority_vote_role\", X_train, X_test, y_train, y_test, results_df_user)"
      ],
      "metadata": {
        "colab": {
          "base_uri": "https://localhost:8080/",
          "height": 447
        },
        "id": "rjraMc0erleR",
        "outputId": "0461f50e-bd61-4bc1-e8f4-a43d144d3381"
      },
      "id": "rjraMc0erleR",
      "execution_count": 10,
      "outputs": [
        {
          "output_type": "display_data",
          "data": {
            "text/plain": [
              "<Figure size 640x480 with 1 Axes>"
            ],
            "image/png": "[encoded data removed]"
          },
          "metadata": {}
        },
        {
          "output_type": "stream",
          "name": "stdout",
          "text": [
            "0.9241997439180538\n"
          ]
        }
      ]
    },
    {
      "cell_type": "markdown",
      "source": [
        "# Bagging"
      ],
      "metadata": {
        "id": "sRxLsYf1_Kjx"
      },
      "id": "sRxLsYf1_Kjx"
    },
    {
      "cell_type": "code",
      "source": [
        "from sklearn.ensemble import BaggingClassifier\n",
        "estimator_range = [2,4,6,10,20,30]\n",
        "\n",
        "models = []\n",
        "scores = []\n",
        "\n",
        "for n_estimators in estimator_range:\n",
        "\n",
        "    # Create bagging classifier\n",
        "    clf = BaggingClassifier(n_estimators = n_estimators, random_state = 22)\n",
        "\n",
        "    # Fit the model\n",
        "    clf.fit(X_train, y_train)\n",
        "\n",
        "    # Append the model and score to their respective list\n",
        "    models.append(clf)\n",
        "    scores.append(accuracy_score(y_true = y_test, y_pred = clf.predict(X_test)))\n"
      ],
      "metadata": {
        "id": "frJa20P4zXtB"
      },
      "id": "frJa20P4zXtB",
      "execution_count": 11,
      "outputs": []
    },
    {
      "cell_type": "code",
      "source": [
        "test_model_and_save_result(clf, \"Bagging Classifier\", X_train, X_test, y_train, y_test, results_df_user)"
      ],
      "metadata": {
        "id": "xJZvq1ZVWS5i"
      },
      "id": "xJZvq1ZVWS5i",
      "execution_count": 12,
      "outputs": []
    },
    {
      "cell_type": "code",
      "source": [
        "import matplotlib.pyplot as plt\n",
        "\n",
        "# Generate the plot of scores against number of estimators\n",
        "plt.figure(figsize=(9,6))\n",
        "plt.plot(estimator_range, scores)\n",
        "\n",
        "# Adjust labels and font (to make visable)\n",
        "plt.xlabel(\"n_estimators\", fontsize = 18)\n",
        "plt.ylabel(\"score\", fontsize = 18)\n",
        "plt.tick_params(labelsize = 16)\n",
        "\n",
        "# Visualize plot\n",
        "plt.show()"
      ],
      "metadata": {
        "colab": {
          "base_uri": "https://localhost:8080/",
          "height": 559
        },
        "id": "53npwBllzjI_",
        "outputId": "9b92c85b-5403-4f43-d5ac-b00c47dea892"
      },
      "id": "53npwBllzjI_",
      "execution_count": 13,
      "outputs": [
        {
          "output_type": "display_data",
          "data": {
            "text/plain": [
              "<Figure size 900x600 with 1 Axes>"
            ],
            "image/png": "[encoded data removed]"
          },
          "metadata": {}
        }
      ]
    },
    {
      "cell_type": "markdown",
      "source": [
        "# RandomForest"
      ],
      "metadata": {
        "id": "Ud9bVCCd_SwF"
      },
      "id": "Ud9bVCCd_SwF"
    },
    {
      "cell_type": "code",
      "source": [
        "from sklearn.ensemble import RandomForestClassifier"
      ],
      "metadata": {
        "id": "3npyZfHRHEyH"
      },
      "id": "3npyZfHRHEyH",
      "execution_count": 14,
      "outputs": []
    },
    {
      "cell_type": "code",
      "source": [
        "rf = RandomForestClassifier(max_depth=200, max_features=4, n_estimators=200)\n",
        "test_model_and_save_result(rf, \"Random Forest\", X_train, X_test, y_train, y_test, results_df_user)"
      ],
      "metadata": {
        "id": "yGBqXBiRGDlK"
      },
      "id": "yGBqXBiRGDlK",
      "execution_count": 15,
      "outputs": []
    },
    {
      "cell_type": "code",
      "source": [
        "results_df_user.sort_values(by=['acc'], ascending=False)"
      ],
      "metadata": {
        "colab": {
          "base_uri": "https://localhost:8080/",
          "height": 173
        },
        "id": "n6EcqugFgUbS",
        "outputId": "75c2375c-56f0-429e-f7ea-51b5848db58a"
      },
      "id": "n6EcqugFgUbS",
      "execution_count": 16,
      "outputs": [
        {
          "output_type": "execute_result",
          "data": {
            "text/plain": [
              "                         acc      prec    recall  test f1 score (W)\n",
              "Random Forest       0.983035  0.982916  0.983035           0.924496\n",
              "Bagging Classifier  0.966197  0.965651  0.966197           0.915705\n",
              "majority_vote_role  0.917990  0.917158  0.917990           0.857498\n",
              "Decision_tree       0.900960  0.899608  0.900960           0.833709"
            ],
            "text/html": [
              "\n",
              "  <div id=\"df-237bc797-fc0b-440e-86fd-2523dac04664\">\n",
              "    <div class=\"colab-df-container\">\n",
              "      <div>\n",
              "<style scoped>\n",
              "    .dataframe tbody tr th:only-of-type {\n",
              "        vertical-align: middle;\n",
              "    }\n",
              "\n",
              "    .dataframe tbody tr th {\n",
              "        vertical-align: top;\n",
              "    }\n",
              "\n",
              "    .dataframe thead th {\n",
              "        text-align: right;\n",
              "    }\n",
              "</style>\n",
              "<table border=\"1\" class=\"dataframe\">\n",
              "  <thead>\n",
              "    <tr style=\"text-align: right;\">\n",
              "      <th></th>\n",
              "      <th>acc</th>\n",
              "      <th>prec</th>\n",
              "      <th>recall</th>\n",
              "      <th>test f1 score (W)</th>\n",
              "    </tr>\n",
              "  </thead>\n",
              "  <tbody>\n",
              "    <tr>\n",
              "      <th>Random Forest</th>\n",
              "      <td>0.983035</td>\n",
              "      <td>0.982916</td>\n",
              "      <td>0.983035</td>\n",
              "      <td>0.924496</td>\n",
              "    </tr>\n",
              "    <tr>\n",
              "      <th>Bagging Classifier</th>\n",
              "      <td>0.966197</td>\n",
              "      <td>0.965651</td>\n",
              "      <td>0.966197</td>\n",
              "      <td>0.915705</td>\n",
              "    </tr>\n",
              "    <tr>\n",
              "      <th>majority_vote_role</th>\n",
              "      <td>0.917990</td>\n",
              "      <td>0.917158</td>\n",
              "      <td>0.917990</td>\n",
              "      <td>0.857498</td>\n",
              "    </tr>\n",
              "    <tr>\n",
              "      <th>Decision_tree</th>\n",
              "      <td>0.900960</td>\n",
              "      <td>0.899608</td>\n",
              "      <td>0.900960</td>\n",
              "      <td>0.833709</td>\n",
              "    </tr>\n",
              "  </tbody>\n",
              "</table>\n",
              "</div>\n",
              "      <button class=\"colab-df-convert\" onclick=\"convertToInteractive('df-237bc797-fc0b-440e-86fd-2523dac04664')\"\n",
              "              title=\"Convert this dataframe to an interactive table.\"\n",
              "              style=\"display:none;\">\n",
              "        \n",
              "  <svg xmlns=\"http://www.w3.org/2000/svg\" height=\"24px\"viewBox=\"0 0 24 24\"\n",
              "       width=\"24px\">\n",
              "    <path d=\"M0 0h24v24H0V0z\" fill=\"none\"/>\n",
              "    <path d=\"M18.56 5.44l.94 2.06.94-2.06 2.06-.94-2.06-.94-.94-2.06-.94 2.06-2.06.94zm-11 1L8.5 8.5l.94-2.06 2.06-.94-2.06-.94L8.5 2.5l-.94 2.06-2.06.94zm10 10l.94 2.06.94-2.06 2.06-.94-2.06-.94-.94-2.06-.94 2.06-2.06.94z\"/><path d=\"M17.41 7.96l-1.37-1.37c-.4-.4-.92-.59-1.43-.59-.52 0-1.04.2-1.43.59L10.3 9.45l-7.72 7.72c-.78.78-.78 2.05 0 2.83L4 21.41c.39.39.9.59 1.41.59.51 0 1.02-.2 1.41-.59l7.78-7.78 2.81-2.81c.8-.78.8-2.07 0-2.86zM5.41 20L4 18.59l7.72-7.72 1.47 1.35L5.41 20z\"/>\n",
              "  </svg>\n",
              "      </button>\n",
              "      \n",
              "  <style>\n",
              "    .colab-df-container {\n",
              "      display:flex;\n",
              "      flex-wrap:wrap;\n",
              "      gap: 12px;\n",
              "    }\n",
              "\n",
              "    .colab-df-convert {\n",
              "      background-color: #E8F0FE;\n",
              "      border: none;\n",
              "      border-radius: 50%;\n",
              "      cursor: pointer;\n",
              "      display: none;\n",
              "      fill: #1967D2;\n",
              "      height: 32px;\n",
              "      padding: 0 0 0 0;\n",
              "      width: 32px;\n",
              "    }\n",
              "\n",
              "    .colab-df-convert:hover {\n",
              "      background-color: #E2EBFA;\n",
              "      box-shadow: 0px 1px 2px rgba(60, 64, 67, 0.3), 0px 1px 3px 1px rgba(60, 64, 67, 0.15);\n",
              "      fill: #174EA6;\n",
              "    }\n",
              "\n",
              "    [theme=dark] .colab-df-convert {\n",
              "      background-color: #3B4455;\n",
              "      fill: #D2E3FC;\n",
              "    }\n",
              "\n",
              "    [theme=dark] .colab-df-convert:hover {\n",
              "      background-color: #434B5C;\n",
              "      box-shadow: 0px 1px 3px 1px rgba(0, 0, 0, 0.15);\n",
              "      filter: drop-shadow(0px 1px 2px rgba(0, 0, 0, 0.3));\n",
              "      fill: #FFFFFF;\n",
              "    }\n",
              "  </style>\n",
              "\n",
              "      <script>\n",
              "        const buttonEl =\n",
              "          document.querySelector('#df-237bc797-fc0b-440e-86fd-2523dac04664 button.colab-df-convert');\n",
              "        buttonEl.style.display =\n",
              "          google.colab.kernel.accessAllowed ? 'block' : 'none';\n",
              "\n",
              "        async function convertToInteractive(key) {\n",
              "          const element = document.querySelector('#df-237bc797-fc0b-440e-86fd-2523dac04664');\n",
              "          const dataTable =\n",
              "            await google.colab.kernel.invokeFunction('convertToInteractive',\n",
              "                                                     [key], {});\n",
              "          if (!dataTable) return;\n",
              "\n",
              "          const docLinkHtml = 'Like what you see? Visit the ' +\n",
              "            '<a target=\"_blank\" href=https://colab.research.google.com/notebooks/data_table.ipynb>data table notebook</a>'\n",
              "            + ' to learn more about interactive tables.';\n",
              "          element.innerHTML = '';\n",
              "          dataTable['output_type'] = 'display_data';\n",
              "          await google.colab.output.renderOutput(dataTable, element);\n",
              "          const docLink = document.createElement('div');\n",
              "          docLink.innerHTML = docLinkHtml;\n",
              "          element.appendChild(docLink);\n",
              "        }\n",
              "      </script>\n",
              "    </div>\n",
              "  </div>\n",
              "  "
            ]
          },
          "metadata": {},
          "execution_count": 16
        }
      ]
    },
    {
      "cell_type": "markdown",
      "source": [],
      "metadata": {
        "id": "CTvwlVuAGDGX"
      },
      "id": "CTvwlVuAGDGX"
    },
    {
      "cell_type": "markdown",
      "source": [
        "# Adaboost"
      ],
      "metadata": {
        "id": "Fq2EL9Hf_YVG"
      },
      "id": "Fq2EL9Hf_YVG"
    },
    {
      "cell_type": "code",
      "source": [
        "from sklearn.ensemble import AdaBoostClassifier\n",
        "ABC = AdaBoostClassifier(n_estimators=200,\n",
        "                         estimator = decision_tree,\n",
        "                         learning_rate=1, \n",
        "                         random_state=23)\n",
        "test_model_and_save_result(ABC, \"AdaBoost\", X_train, X_test, y_train, y_test, results_df_user)"
      ],
      "metadata": {
        "id": "RzOAqtbaqNN0"
      },
      "id": "RzOAqtbaqNN0",
      "execution_count": 17,
      "outputs": []
    },
    {
      "cell_type": "code",
      "source": [
        "results_df_user.sort_values(by=['acc'], ascending=False)"
      ],
      "metadata": {
        "colab": {
          "base_uri": "https://localhost:8080/",
          "height": 204
        },
        "id": "el768UQqqdxY",
        "outputId": "9a2acec7-fd11-4ce9-efca-c21d30b42d72"
      },
      "id": "el768UQqqdxY",
      "execution_count": 18,
      "outputs": [
        {
          "output_type": "execute_result",
          "data": {
            "text/plain": [
              "                         acc      prec    recall  test f1 score (W)\n",
              "AdaBoost            0.989757  0.989702  0.989757           0.950960\n",
              "Random Forest       0.983035  0.982916  0.983035           0.924496\n",
              "Bagging Classifier  0.966197  0.965651  0.966197           0.915705\n",
              "majority_vote_role  0.917990  0.917158  0.917990           0.857498\n",
              "Decision_tree       0.900960  0.899608  0.900960           0.833709"
            ],
            "text/html": [
              "\n",
              "  <div id=\"df-c494af73-7ede-4172-90d7-9f612a3584b6\">\n",
              "    <div class=\"colab-df-container\">\n",
              "      <div>\n",
              "<style scoped>\n",
              "    .dataframe tbody tr th:only-of-type {\n",
              "        vertical-align: middle;\n",
              "    }\n",
              "\n",
              "    .dataframe tbody tr th {\n",
              "        vertical-align: top;\n",
              "    }\n",
              "\n",
              "    .dataframe thead th {\n",
              "        text-align: right;\n",
              "    }\n",
              "</style>\n",
              "<table border=\"1\" class=\"dataframe\">\n",
              "  <thead>\n",
              "    <tr style=\"text-align: right;\">\n",
              "      <th></th>\n",
              "      <th>acc</th>\n",
              "      <th>prec</th>\n",
              "      <th>recall</th>\n",
              "      <th>test f1 score (W)</th>\n",
              "    </tr>\n",
              "  </thead>\n",
              "  <tbody>\n",
              "    <tr>\n",
              "      <th>AdaBoost</th>\n",
              "      <td>0.989757</td>\n",
              "      <td>0.989702</td>\n",
              "      <td>0.989757</td>\n",
              "      <td>0.950960</td>\n",
              "    </tr>\n",
              "    <tr>\n",
              "      <th>Random Forest</th>\n",
              "      <td>0.983035</td>\n",
              "      <td>0.982916</td>\n",
              "      <td>0.983035</td>\n",
              "      <td>0.924496</td>\n",
              "    </tr>\n",
              "    <tr>\n",
              "      <th>Bagging Classifier</th>\n",
              "      <td>0.966197</td>\n",
              "      <td>0.965651</td>\n",
              "      <td>0.966197</td>\n",
              "      <td>0.915705</td>\n",
              "    </tr>\n",
              "    <tr>\n",
              "      <th>majority_vote_role</th>\n",
              "      <td>0.917990</td>\n",
              "      <td>0.917158</td>\n",
              "      <td>0.917990</td>\n",
              "      <td>0.857498</td>\n",
              "    </tr>\n",
              "    <tr>\n",
              "      <th>Decision_tree</th>\n",
              "      <td>0.900960</td>\n",
              "      <td>0.899608</td>\n",
              "      <td>0.900960</td>\n",
              "      <td>0.833709</td>\n",
              "    </tr>\n",
              "  </tbody>\n",
              "</table>\n",
              "</div>\n",
              "      <button class=\"colab-df-convert\" onclick=\"convertToInteractive('df-c494af73-7ede-4172-90d7-9f612a3584b6')\"\n",
              "              title=\"Convert this dataframe to an interactive table.\"\n",
              "              style=\"display:none;\">\n",
              "        \n",
              "  <svg xmlns=\"http://www.w3.org/2000/svg\" height=\"24px\"viewBox=\"0 0 24 24\"\n",
              "       width=\"24px\">\n",
              "    <path d=\"M0 0h24v24H0V0z\" fill=\"none\"/>\n",
              "    <path d=\"M18.56 5.44l.94 2.06.94-2.06 2.06-.94-2.06-.94-.94-2.06-.94 2.06-2.06.94zm-11 1L8.5 8.5l.94-2.06 2.06-.94-2.06-.94L8.5 2.5l-.94 2.06-2.06.94zm10 10l.94 2.06.94-2.06 2.06-.94-2.06-.94-.94-2.06-.94 2.06-2.06.94z\"/><path d=\"M17.41 7.96l-1.37-1.37c-.4-.4-.92-.59-1.43-.59-.52 0-1.04.2-1.43.59L10.3 9.45l-7.72 7.72c-.78.78-.78 2.05 0 2.83L4 21.41c.39.39.9.59 1.41.59.51 0 1.02-.2 1.41-.59l7.78-7.78 2.81-2.81c.8-.78.8-2.07 0-2.86zM5.41 20L4 18.59l7.72-7.72 1.47 1.35L5.41 20z\"/>\n",
              "  </svg>\n",
              "      </button>\n",
              "      \n",
              "  <style>\n",
              "    .colab-df-container {\n",
              "      display:flex;\n",
              "      flex-wrap:wrap;\n",
              "      gap: 12px;\n",
              "    }\n",
              "\n",
              "    .colab-df-convert {\n",
              "      background-color: #E8F0FE;\n",
              "      border: none;\n",
              "      border-radius: 50%;\n",
              "      cursor: pointer;\n",
              "      display: none;\n",
              "      fill: #1967D2;\n",
              "      height: 32px;\n",
              "      padding: 0 0 0 0;\n",
              "      width: 32px;\n",
              "    }\n",
              "\n",
              "    .colab-df-convert:hover {\n",
              "      background-color: #E2EBFA;\n",
              "      box-shadow: 0px 1px 2px rgba(60, 64, 67, 0.3), 0px 1px 3px 1px rgba(60, 64, 67, 0.15);\n",
              "      fill: #174EA6;\n",
              "    }\n",
              "\n",
              "    [theme=dark] .colab-df-convert {\n",
              "      background-color: #3B4455;\n",
              "      fill: #D2E3FC;\n",
              "    }\n",
              "\n",
              "    [theme=dark] .colab-df-convert:hover {\n",
              "      background-color: #434B5C;\n",
              "      box-shadow: 0px 1px 3px 1px rgba(0, 0, 0, 0.15);\n",
              "      filter: drop-shadow(0px 1px 2px rgba(0, 0, 0, 0.3));\n",
              "      fill: #FFFFFF;\n",
              "    }\n",
              "  </style>\n",
              "\n",
              "      <script>\n",
              "        const buttonEl =\n",
              "          document.querySelector('#df-c494af73-7ede-4172-90d7-9f612a3584b6 button.colab-df-convert');\n",
              "        buttonEl.style.display =\n",
              "          google.colab.kernel.accessAllowed ? 'block' : 'none';\n",
              "\n",
              "        async function convertToInteractive(key) {\n",
              "          const element = document.querySelector('#df-c494af73-7ede-4172-90d7-9f612a3584b6');\n",
              "          const dataTable =\n",
              "            await google.colab.kernel.invokeFunction('convertToInteractive',\n",
              "                                                     [key], {});\n",
              "          if (!dataTable) return;\n",
              "\n",
              "          const docLinkHtml = 'Like what you see? Visit the ' +\n",
              "            '<a target=\"_blank\" href=https://colab.research.google.com/notebooks/data_table.ipynb>data table notebook</a>'\n",
              "            + ' to learn more about interactive tables.';\n",
              "          element.innerHTML = '';\n",
              "          dataTable['output_type'] = 'display_data';\n",
              "          await google.colab.output.renderOutput(dataTable, element);\n",
              "          const docLink = document.createElement('div');\n",
              "          docLink.innerHTML = docLinkHtml;\n",
              "          element.appendChild(docLink);\n",
              "        }\n",
              "      </script>\n",
              "    </div>\n",
              "  </div>\n",
              "  "
            ]
          },
          "metadata": {},
          "execution_count": 18
        }
      ]
    }
  ],
  "metadata": {
    "kernelspec": {
      "display_name": "Python 3 (ipykernel)",
      "language": "python",
      "name": "python3"
    },
    "language_info": {
      "codemirror_mode": {
        "name": "ipython",
        "version": 3
      },
      "file_extension": ".py",
      "mimetype": "text/x-python",
      "name": "python",
      "nbconvert_exporter": "python",
      "pygments_lexer": "ipython3",
      "version": "3.9.13"
    },
    "colab": {
      "provenance": [],
      "gpuType": "T4",
      "include_colab_link": true
    },
    "accelerator": "TPU",
    "gpuClass": "standard"
  },
  "nbformat": 4,
  "nbformat_minor": 5
}