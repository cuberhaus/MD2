{
 "cells": [
  {
   "cell_type": "code",
   "execution_count": 1,
   "metadata": {
    "ExecuteTime": {
     "end_time": "2023-04-17T17:28:27.967814Z",
     "start_time": "2023-04-17T17:28:23.438333Z"
    },
    "pycharm": {
     "is_executing": true
    }
   },
   "outputs": [
    {
     "data": {
      "text/html": [
       "<div>\n",
       "<style scoped>\n",
       "    .dataframe tbody tr th:only-of-type {\n",
       "        vertical-align: middle;\n",
       "    }\n",
       "\n",
       "    .dataframe tbody tr th {\n",
       "        vertical-align: top;\n",
       "    }\n",
       "\n",
       "    .dataframe thead th {\n",
       "        text-align: right;\n",
       "    }\n",
       "</style>\n",
       "<table border=\"1\" class=\"dataframe\">\n",
       "  <thead>\n",
       "    <tr style=\"text-align: right;\">\n",
       "      <th></th>\n",
       "      <th>Class</th>\n",
       "      <th>User</th>\n",
       "      <th>X0</th>\n",
       "      <th>Y0</th>\n",
       "      <th>Z0</th>\n",
       "      <th>X1</th>\n",
       "      <th>Y1</th>\n",
       "      <th>Z1</th>\n",
       "      <th>X2</th>\n",
       "      <th>Y2</th>\n",
       "      <th>...</th>\n",
       "      <th>Z8</th>\n",
       "      <th>X9</th>\n",
       "      <th>Y9</th>\n",
       "      <th>Z9</th>\n",
       "      <th>X10</th>\n",
       "      <th>Y10</th>\n",
       "      <th>Z10</th>\n",
       "      <th>X11</th>\n",
       "      <th>Y11</th>\n",
       "      <th>Z11</th>\n",
       "    </tr>\n",
       "  </thead>\n",
       "  <tbody>\n",
       "    <tr>\n",
       "      <th>0</th>\n",
       "      <td>0</td>\n",
       "      <td>0</td>\n",
       "      <td>0.000000</td>\n",
       "      <td>0.000000</td>\n",
       "      <td>0.000000</td>\n",
       "      <td>0.000000</td>\n",
       "      <td>0.000000</td>\n",
       "      <td>0.000000</td>\n",
       "      <td>0.000000</td>\n",
       "      <td>0.000000</td>\n",
       "      <td>...</td>\n",
       "      <td>0</td>\n",
       "      <td>0</td>\n",
       "      <td>0</td>\n",
       "      <td>0</td>\n",
       "      <td>0</td>\n",
       "      <td>0</td>\n",
       "      <td>0</td>\n",
       "      <td>0</td>\n",
       "      <td>0</td>\n",
       "      <td>0</td>\n",
       "    </tr>\n",
       "    <tr>\n",
       "      <th>1</th>\n",
       "      <td>1</td>\n",
       "      <td>0</td>\n",
       "      <td>54.263880</td>\n",
       "      <td>71.466776</td>\n",
       "      <td>-64.807709</td>\n",
       "      <td>76.895635</td>\n",
       "      <td>42.462500</td>\n",
       "      <td>-72.780545</td>\n",
       "      <td>36.621229</td>\n",
       "      <td>81.680557</td>\n",
       "      <td>...</td>\n",
       "      <td>?</td>\n",
       "      <td>?</td>\n",
       "      <td>?</td>\n",
       "      <td>?</td>\n",
       "      <td>?</td>\n",
       "      <td>?</td>\n",
       "      <td>?</td>\n",
       "      <td>?</td>\n",
       "      <td>?</td>\n",
       "      <td>?</td>\n",
       "    </tr>\n",
       "    <tr>\n",
       "      <th>2</th>\n",
       "      <td>1</td>\n",
       "      <td>0</td>\n",
       "      <td>56.527558</td>\n",
       "      <td>72.266609</td>\n",
       "      <td>-61.935252</td>\n",
       "      <td>39.135978</td>\n",
       "      <td>82.538530</td>\n",
       "      <td>-49.596509</td>\n",
       "      <td>79.223743</td>\n",
       "      <td>43.254091</td>\n",
       "      <td>...</td>\n",
       "      <td>?</td>\n",
       "      <td>?</td>\n",
       "      <td>?</td>\n",
       "      <td>?</td>\n",
       "      <td>?</td>\n",
       "      <td>?</td>\n",
       "      <td>?</td>\n",
       "      <td>?</td>\n",
       "      <td>?</td>\n",
       "      <td>?</td>\n",
       "    </tr>\n",
       "    <tr>\n",
       "      <th>3</th>\n",
       "      <td>1</td>\n",
       "      <td>0</td>\n",
       "      <td>55.849928</td>\n",
       "      <td>72.469064</td>\n",
       "      <td>-62.562788</td>\n",
       "      <td>37.988804</td>\n",
       "      <td>82.631347</td>\n",
       "      <td>-50.606259</td>\n",
       "      <td>78.451526</td>\n",
       "      <td>43.567403</td>\n",
       "      <td>...</td>\n",
       "      <td>?</td>\n",
       "      <td>?</td>\n",
       "      <td>?</td>\n",
       "      <td>?</td>\n",
       "      <td>?</td>\n",
       "      <td>?</td>\n",
       "      <td>?</td>\n",
       "      <td>?</td>\n",
       "      <td>?</td>\n",
       "      <td>?</td>\n",
       "    </tr>\n",
       "    <tr>\n",
       "      <th>4</th>\n",
       "      <td>1</td>\n",
       "      <td>0</td>\n",
       "      <td>55.329647</td>\n",
       "      <td>71.707275</td>\n",
       "      <td>-63.688956</td>\n",
       "      <td>36.561863</td>\n",
       "      <td>81.868749</td>\n",
       "      <td>-52.752784</td>\n",
       "      <td>86.320630</td>\n",
       "      <td>68.214645</td>\n",
       "      <td>...</td>\n",
       "      <td>?</td>\n",
       "      <td>?</td>\n",
       "      <td>?</td>\n",
       "      <td>?</td>\n",
       "      <td>?</td>\n",
       "      <td>?</td>\n",
       "      <td>?</td>\n",
       "      <td>?</td>\n",
       "      <td>?</td>\n",
       "      <td>?</td>\n",
       "    </tr>\n",
       "  </tbody>\n",
       "</table>\n",
       "<p>5 rows × 38 columns</p>\n",
       "</div>"
      ],
      "text/plain": [
       "   Class  User         X0         Y0         Z0         X1         Y1   \n",
       "0      0     0   0.000000   0.000000   0.000000   0.000000   0.000000  \\\n",
       "1      1     0  54.263880  71.466776 -64.807709  76.895635  42.462500   \n",
       "2      1     0  56.527558  72.266609 -61.935252  39.135978  82.538530   \n",
       "3      1     0  55.849928  72.469064 -62.562788  37.988804  82.631347   \n",
       "4      1     0  55.329647  71.707275 -63.688956  36.561863  81.868749   \n",
       "\n",
       "          Z1         X2         Y2  ...  Z8 X9 Y9 Z9 X10 Y10 Z10 X11 Y11 Z11  \n",
       "0   0.000000   0.000000   0.000000  ...   0  0  0  0   0   0   0   0   0   0  \n",
       "1 -72.780545  36.621229  81.680557  ...   ?  ?  ?  ?   ?   ?   ?   ?   ?   ?  \n",
       "2 -49.596509  79.223743  43.254091  ...   ?  ?  ?  ?   ?   ?   ?   ?   ?   ?  \n",
       "3 -50.606259  78.451526  43.567403  ...   ?  ?  ?  ?   ?   ?   ?   ?   ?   ?  \n",
       "4 -52.752784  86.320630  68.214645  ...   ?  ?  ?  ?   ?   ?   ?   ?   ?   ?  \n",
       "\n",
       "[5 rows x 38 columns]"
      ]
     },
     "execution_count": 1,
     "metadata": {},
     "output_type": "execute_result"
    }
   ],
   "source": [
    "import pandas as pd\n",
    "import numpy as np\n",
    "import matplotlib\n",
    "import missingno as msno\n",
    "df = pd.read_csv(\"../data/allUsers.lcl.csv\", header=0, delimiter=',')\n",
    "df.head()"
   ]
  },
  {
   "cell_type": "code",
   "execution_count": 2,
   "metadata": {
    "ExecuteTime": {
     "end_time": "2023-04-17T17:28:28.158512Z",
     "start_time": "2023-04-17T17:28:27.967814Z"
    },
    "pycharm": {
     "is_executing": true
    }
   },
   "outputs": [
    {
     "name": "stdout",
     "output_type": "stream",
     "text": [
      "<class 'pandas.core.frame.DataFrame'>\n",
      "RangeIndex: 78096 entries, 0 to 78095\n",
      "Data columns (total 38 columns):\n",
      " #   Column  Non-Null Count  Dtype  \n",
      "---  ------  --------------  -----  \n",
      " 0   Class   78096 non-null  int64  \n",
      " 1   User    78096 non-null  int64  \n",
      " 2   X0      78096 non-null  float64\n",
      " 3   Y0      78096 non-null  float64\n",
      " 4   Z0      78096 non-null  float64\n",
      " 5   X1      78096 non-null  float64\n",
      " 6   Y1      78096 non-null  float64\n",
      " 7   Z1      78096 non-null  float64\n",
      " 8   X2      78096 non-null  float64\n",
      " 9   Y2      78096 non-null  float64\n",
      " 10  Z2      78096 non-null  float64\n",
      " 11  X3      78096 non-null  object \n",
      " 12  Y3      78096 non-null  object \n",
      " 13  Z3      78096 non-null  object \n",
      " 14  X4      78096 non-null  object \n",
      " 15  Y4      78096 non-null  object \n",
      " 16  Z4      78096 non-null  object \n",
      " 17  X5      78096 non-null  object \n",
      " 18  Y5      78096 non-null  object \n",
      " 19  Z5      78096 non-null  object \n",
      " 20  X6      78096 non-null  object \n",
      " 21  Y6      78096 non-null  object \n",
      " 22  Z6      78096 non-null  object \n",
      " 23  X7      78096 non-null  object \n",
      " 24  Y7      78096 non-null  object \n",
      " 25  Z7      78096 non-null  object \n",
      " 26  X8      78096 non-null  object \n",
      " 27  Y8      78096 non-null  object \n",
      " 28  Z8      78096 non-null  object \n",
      " 29  X9      78096 non-null  object \n",
      " 30  Y9      78096 non-null  object \n",
      " 31  Z9      78096 non-null  object \n",
      " 32  X10     78096 non-null  object \n",
      " 33  Y10     78096 non-null  object \n",
      " 34  Z10     78096 non-null  object \n",
      " 35  X11     78096 non-null  object \n",
      " 36  Y11     78096 non-null  object \n",
      " 37  Z11     78096 non-null  object \n",
      "dtypes: float64(9), int64(2), object(27)\n",
      "memory usage: 22.6+ MB\n"
     ]
    }
   ],
   "source": [
    "df.info()\n"
   ]
  },
  {
   "cell_type": "code",
   "execution_count": 3,
   "metadata": {
    "ExecuteTime": {
     "end_time": "2023-04-17T17:28:28.359356Z",
     "start_time": "2023-04-17T17:28:28.056126Z"
    },
    "pycharm": {
     "is_executing": true
    }
   },
   "outputs": [
    {
     "name": "stdout",
     "output_type": "stream",
     "text": [
      "Class                                   [0, 1, 2, 3, 4, 5]\n",
      "User       [0, 1, 2, 4, 5, 6, 7, 8, 9, 10, 11, 12, 13, 14]\n",
      "X0       [0.0, 54.2638799540698, 56.5275584513992, 55.8...\n",
      "Y0       [0.0, 71.4667761378817, 72.2666086344311, 72.4...\n",
      "Z0       [0.0, -64.807708780882, -61.9352524181086, -62...\n",
      "X1       [0.0, 76.8956347751343, 39.1359781094435, 37.9...\n",
      "Y1       [0.0, 42.462499897063, 82.5385299123923, 82.63...\n",
      "Z1       [0.0, -72.7805451867589, -49.596509402198, -50...\n",
      "X2       [0.0, 36.6212291601289, 79.2237427757379, 78.4...\n",
      "Y2       [0.0, 81.6805569287795, 43.2540908549394, 43.5...\n",
      "Z2       [0.0, -52.9192723726971, -69.982489053646, -70...\n",
      "X3       [0, 85.2322638852917, 87.4508729469625, 86.835...\n",
      "Y3       [0, 67.7492195028673, 68.4008083028339, 68.907...\n",
      "Z3       [0, -73.684130041833, -70.703990925959, -71.13...\n",
      "X4       [0, 59.1885757027887, 61.5874515532753, 61.686...\n",
      "Y4       [0, 10.6789364098231, 11.7799190329758, 11.793...\n",
      "Z4       [0, -71.2977813147725, -68.827417756239, -68.8...\n",
      "X5       [0, ?, 86.8077894267762, 74.7252725037833, 74....\n",
      "Y5       [0, ?, 72.7012329516761, 48.3061409384314, 48....\n",
      "Z5       [0, ?, -71.3733905467759, -71.5759795802457, -...\n",
      "X6       [0, ?, 7.34923543195405, 7.73251054087557, 56....\n",
      "Y6       [0, ?, 24.9862732677858, 25.135414843299, 18.7...\n",
      "Z6       [0, ?, 10.2428080013854, 10.7233952361419, -70...\n",
      "X7       [0, ?, 55.9438684870092, 6.91319927414117, 11....\n",
      "Y7       [0, ?, 19.5133633194531, 24.9677501535023, 89....\n",
      "Z7       [0, ?, -70.3801236619492, 9.69755273604134, -2...\n",
      "X8       [0, ?, 79.185591831296, 83.9369926778121, 13.2...\n",
      "Y8       [0, ?, 54.7534634130027, 151.633126133084, 95....\n",
      "Z8       [0, ?, -72.4622851172395, 16.7184032041115, 30...\n",
      "X9       [0, ?, 20.7300997560106, 79.2060450757627, 35....\n",
      "Y9       [0, ?, 132.858511745119, 54.7366806396915, 99....\n",
      "Z9       [0, ?, 35.5012870218578, -72.4281602990496, 22...\n",
      "X10      [0, ?, 35.4906561489632, 13.0238615267003, 83....\n",
      "Y10      [0, ?, 99.7256760026507, 95.0833057800089, 151...\n",
      "Z10      [0, ?, 22.6901857263241, 30.1735579072564, 16....\n",
      "X11      [0, ?, 16.1136856670495, 2.58216866527232, 84....\n",
      "Y11      [0, ?, -42.4712643412867, 127.945489914181, 44...\n",
      "Z11      [0, ?, -3.14068454595987, 11.415229424778, -45...\n",
      "dtype: object\n"
     ]
    }
   ],
   "source": [
    "\n",
    "#df.unique()\n",
    "# get unique values for all columns\n",
    "unique_values = df.apply(pd.Series.unique)\n",
    "\n",
    "print(unique_values)"
   ]
  },
  {
   "cell_type": "code",
   "execution_count": 4,
   "metadata": {
    "ExecuteTime": {
     "end_time": "2023-04-17T17:28:28.616009Z",
     "start_time": "2023-04-17T17:28:28.363700Z"
    },
    "pycharm": {
     "is_executing": true
    }
   },
   "outputs": [
    {
     "name": "stdout",
     "output_type": "stream",
     "text": [
      "       Class  User         X0          Y0         Z0         X1          Y1   \n",
      "0          0     0   0.000000    0.000000   0.000000   0.000000    0.000000  \\\n",
      "1          1     0  54.263880   71.466776 -64.807709  76.895635   42.462500   \n",
      "2          1     0  56.527558   72.266609 -61.935252  39.135978   82.538530   \n",
      "3          1     0  55.849928   72.469064 -62.562788  37.988804   82.631347   \n",
      "4          1     0  55.329647   71.707275 -63.688956  36.561863   81.868749   \n",
      "...      ...   ...        ...         ...        ...        ...         ...   \n",
      "78091      5    14  54.251127  129.177414 -44.252511  27.720784  107.810661   \n",
      "78092      5    14  54.334883  129.253842 -44.016320  27.767911  107.914808   \n",
      "78093      5    14  54.151540  129.269502 -44.173273  27.725978  108.034006   \n",
      "78094      5    14  27.915311  108.007390  10.814957  -0.910435  122.464093   \n",
      "78095      5    14  27.898705  108.092877  11.107857 -30.031402   77.740235   \n",
      "\n",
      "              Z1         X2          Y2  ...                 Z8   \n",
      "0       0.000000   0.000000    0.000000  ...                  0  \\\n",
      "1     -72.780545  36.621229   81.680557  ...               <NA>   \n",
      "2     -49.596509  79.223743   43.254091  ...               <NA>   \n",
      "3     -50.606259  78.451526   43.567403  ...               <NA>   \n",
      "4     -52.752784  86.320630   68.214645  ...               <NA>   \n",
      "...          ...        ...         ...  ...                ...   \n",
      "78091  11.099282  -1.270139  122.758679  ...  -6.54311453354464   \n",
      "78092  11.069842 -30.334054   77.858214  ...  -62.1305625712145   \n",
      "78093  11.020347 -22.574718  104.222208  ...   3.83590370588782   \n",
      "78094 -47.271248 -30.084588   77.705861  ...  -63.2216259324485   \n",
      "78095 -17.453099  -1.091566  122.827638  ...  -63.0265744155222   \n",
      "\n",
      "                     X9                Y9                 Z9   X10   Y10   \n",
      "0                     0                 0                  0     0     0  \\\n",
      "1                  <NA>              <NA>               <NA>  <NA>  <NA>   \n",
      "2                  <NA>              <NA>               <NA>  <NA>  <NA>   \n",
      "3                  <NA>              <NA>               <NA>  <NA>  <NA>   \n",
      "4                  <NA>              <NA>               <NA>  <NA>  <NA>   \n",
      "...                 ...               ...                ...   ...   ...   \n",
      "78091  87.7333643096221  61.2163626180662  -62.1262783028233   NaN   NaN   \n",
      "78092  78.2298473919132  33.0784071753174  -45.2495433686171   NaN   NaN   \n",
      "78093   78.591554010542    32.32773753847  -46.1665560916632   NaN   NaN   \n",
      "78094              <NA>              <NA>               <NA>   NaN   NaN   \n",
      "78095  78.8796525666014  31.6030997578398  -47.0137357205196   NaN   NaN   \n",
      "\n",
      "        Z10   X11   Y11   Z11  \n",
      "0         0     0     0     0  \n",
      "1      <NA>  <NA>  <NA>  <NA>  \n",
      "2      <NA>  <NA>  <NA>  <NA>  \n",
      "3      <NA>  <NA>  <NA>  <NA>  \n",
      "4      <NA>  <NA>  <NA>  <NA>  \n",
      "...     ...   ...   ...   ...  \n",
      "78091   NaN   NaN   NaN   NaN  \n",
      "78092   NaN   NaN   NaN   NaN  \n",
      "78093   NaN   NaN   NaN   NaN  \n",
      "78094   NaN   NaN   NaN   NaN  \n",
      "78095   NaN   NaN   NaN   NaN  \n",
      "\n",
      "[78096 rows x 38 columns]\n"
     ]
    }
   ],
   "source": [
    "# replace '?' with missing values\n",
    "df = df.replace('?', pd.NA)\n",
    "\n",
    "print(df)\n"
   ]
  },
  {
   "cell_type": "code",
   "execution_count": 5,
   "metadata": {
    "ExecuteTime": {
     "end_time": "2023-04-17T17:28:28.727857Z",
     "start_time": "2023-04-17T17:28:28.616009Z"
    },
    "pycharm": {
     "is_executing": true
    }
   },
   "outputs": [
    {
     "data": {
      "text/html": [
       "<div>\n",
       "<style scoped>\n",
       "    .dataframe tbody tr th:only-of-type {\n",
       "        vertical-align: middle;\n",
       "    }\n",
       "\n",
       "    .dataframe tbody tr th {\n",
       "        vertical-align: top;\n",
       "    }\n",
       "\n",
       "    .dataframe thead th {\n",
       "        text-align: right;\n",
       "    }\n",
       "</style>\n",
       "<table border=\"1\" class=\"dataframe\">\n",
       "  <thead>\n",
       "    <tr style=\"text-align: right;\">\n",
       "      <th></th>\n",
       "      <th>Class</th>\n",
       "      <th>User</th>\n",
       "      <th>X0</th>\n",
       "      <th>Y0</th>\n",
       "      <th>Z0</th>\n",
       "      <th>X1</th>\n",
       "      <th>Y1</th>\n",
       "      <th>Z1</th>\n",
       "      <th>X2</th>\n",
       "      <th>Y2</th>\n",
       "      <th>Z2</th>\n",
       "    </tr>\n",
       "  </thead>\n",
       "  <tbody>\n",
       "    <tr>\n",
       "      <th>count</th>\n",
       "      <td>78096.000000</td>\n",
       "      <td>78096.000000</td>\n",
       "      <td>78096.000000</td>\n",
       "      <td>78096.000000</td>\n",
       "      <td>78096.000000</td>\n",
       "      <td>78096.000000</td>\n",
       "      <td>78096.000000</td>\n",
       "      <td>78096.000000</td>\n",
       "      <td>78096.000000</td>\n",
       "      <td>78096.000000</td>\n",
       "      <td>78096.000000</td>\n",
       "    </tr>\n",
       "    <tr>\n",
       "      <th>mean</th>\n",
       "      <td>2.983738</td>\n",
       "      <td>7.959127</td>\n",
       "      <td>50.345664</td>\n",
       "      <td>85.812051</td>\n",
       "      <td>-29.984712</td>\n",
       "      <td>49.595209</td>\n",
       "      <td>86.192647</td>\n",
       "      <td>-29.509202</td>\n",
       "      <td>48.612121</td>\n",
       "      <td>83.771315</td>\n",
       "      <td>-30.560515</td>\n",
       "    </tr>\n",
       "    <tr>\n",
       "      <th>std</th>\n",
       "      <td>1.421183</td>\n",
       "      <td>4.697810</td>\n",
       "      <td>32.696173</td>\n",
       "      <td>40.204363</td>\n",
       "      <td>34.361918</td>\n",
       "      <td>32.478238</td>\n",
       "      <td>40.453214</td>\n",
       "      <td>34.764398</td>\n",
       "      <td>33.605390</td>\n",
       "      <td>41.023543</td>\n",
       "      <td>35.120329</td>\n",
       "    </tr>\n",
       "    <tr>\n",
       "      <th>min</th>\n",
       "      <td>0.000000</td>\n",
       "      <td>0.000000</td>\n",
       "      <td>-108.552738</td>\n",
       "      <td>-98.233756</td>\n",
       "      <td>-126.770872</td>\n",
       "      <td>-111.685241</td>\n",
       "      <td>-96.142589</td>\n",
       "      <td>-166.006838</td>\n",
       "      <td>-106.886524</td>\n",
       "      <td>-100.789312</td>\n",
       "      <td>-129.595296</td>\n",
       "    </tr>\n",
       "    <tr>\n",
       "      <th>25%</th>\n",
       "      <td>2.000000</td>\n",
       "      <td>5.000000</td>\n",
       "      <td>29.295062</td>\n",
       "      <td>63.494432</td>\n",
       "      <td>-56.356438</td>\n",
       "      <td>28.755137</td>\n",
       "      <td>64.154529</td>\n",
       "      <td>-57.360107</td>\n",
       "      <td>25.170006</td>\n",
       "      <td>58.052385</td>\n",
       "      <td>-58.654059</td>\n",
       "    </tr>\n",
       "    <tr>\n",
       "      <th>50%</th>\n",
       "      <td>3.000000</td>\n",
       "      <td>9.000000</td>\n",
       "      <td>54.619964</td>\n",
       "      <td>86.526246</td>\n",
       "      <td>-30.864125</td>\n",
       "      <td>54.215514</td>\n",
       "      <td>87.542751</td>\n",
       "      <td>-30.184005</td>\n",
       "      <td>53.814580</td>\n",
       "      <td>86.458324</td>\n",
       "      <td>-32.352414</td>\n",
       "    </tr>\n",
       "    <tr>\n",
       "      <th>75%</th>\n",
       "      <td>4.000000</td>\n",
       "      <td>12.000000</td>\n",
       "      <td>72.488686</td>\n",
       "      <td>113.107355</td>\n",
       "      <td>-1.418803</td>\n",
       "      <td>71.762039</td>\n",
       "      <td>116.219398</td>\n",
       "      <td>-0.366692</td>\n",
       "      <td>71.561951</td>\n",
       "      <td>106.660827</td>\n",
       "      <td>-0.944786</td>\n",
       "    </tr>\n",
       "    <tr>\n",
       "      <th>max</th>\n",
       "      <td>5.000000</td>\n",
       "      <td>14.000000</td>\n",
       "      <td>190.017835</td>\n",
       "      <td>169.175464</td>\n",
       "      <td>113.345119</td>\n",
       "      <td>188.691997</td>\n",
       "      <td>170.209350</td>\n",
       "      <td>104.697852</td>\n",
       "      <td>188.760168</td>\n",
       "      <td>168.186466</td>\n",
       "      <td>104.590879</td>\n",
       "    </tr>\n",
       "  </tbody>\n",
       "</table>\n",
       "</div>"
      ],
      "text/plain": [
       "              Class          User            X0            Y0            Z0   \n",
       "count  78096.000000  78096.000000  78096.000000  78096.000000  78096.000000  \\\n",
       "mean       2.983738      7.959127     50.345664     85.812051    -29.984712   \n",
       "std        1.421183      4.697810     32.696173     40.204363     34.361918   \n",
       "min        0.000000      0.000000   -108.552738    -98.233756   -126.770872   \n",
       "25%        2.000000      5.000000     29.295062     63.494432    -56.356438   \n",
       "50%        3.000000      9.000000     54.619964     86.526246    -30.864125   \n",
       "75%        4.000000     12.000000     72.488686    113.107355     -1.418803   \n",
       "max        5.000000     14.000000    190.017835    169.175464    113.345119   \n",
       "\n",
       "                 X1            Y1            Z1            X2            Y2   \n",
       "count  78096.000000  78096.000000  78096.000000  78096.000000  78096.000000  \\\n",
       "mean      49.595209     86.192647    -29.509202     48.612121     83.771315   \n",
       "std       32.478238     40.453214     34.764398     33.605390     41.023543   \n",
       "min     -111.685241    -96.142589   -166.006838   -106.886524   -100.789312   \n",
       "25%       28.755137     64.154529    -57.360107     25.170006     58.052385   \n",
       "50%       54.215514     87.542751    -30.184005     53.814580     86.458324   \n",
       "75%       71.762039    116.219398     -0.366692     71.561951    106.660827   \n",
       "max      188.691997    170.209350    104.697852    188.760168    168.186466   \n",
       "\n",
       "                 Z2  \n",
       "count  78096.000000  \n",
       "mean     -30.560515  \n",
       "std       35.120329  \n",
       "min     -129.595296  \n",
       "25%      -58.654059  \n",
       "50%      -32.352414  \n",
       "75%       -0.944786  \n",
       "max      104.590879  "
      ]
     },
     "execution_count": 5,
     "metadata": {},
     "output_type": "execute_result"
    }
   ],
   "source": [
    "df.describe()"
   ]
  },
  {
   "cell_type": "code",
   "execution_count": 6,
   "metadata": {
    "ExecuteTime": {
     "end_time": "2023-04-17T17:28:31.020891Z",
     "start_time": "2023-04-17T17:28:28.692270Z"
    },
    "pycharm": {
     "is_executing": true
    }
   },
   "outputs": [
    {
     "name": "stderr",
     "output_type": "stream",
     "text": [
      "C:\\Users\\polcg\\AppData\\Local\\Temp\\ipykernel_13364\\2760332217.py:2: UserWarning: Pandas doesn't allow columns to be created via a new attribute name - see https://pandas.pydata.org/pandas-docs/stable/indexing.html#attribute-access\n",
      "  df.missing_values = df.isnull().sum()\n"
     ]
    },
    {
     "data": {
      "text/plain": [
       "<Axes: >"
      ]
     },
     "execution_count": 6,
     "metadata": {},
     "output_type": "execute_result"
    },
    {
     "data": {
      "image/png": "[encoded data removed]",
      "text/plain": [
       "<Figure size 3000x1000 with 2 Axes>"
      ]
     },
     "metadata": {},
     "output_type": "display_data"
    }
   ],
   "source": [
    "#df.hist(figsize=(40,50))\n",
    "df.missing_values = df.isnull().sum()\n",
    "#df.missing_values\n",
    "\n",
    "msno.matrix(df, figsize = (30,10))"
   ]
  },
  {
   "cell_type": "code",
   "execution_count": 7,
   "metadata": {
    "ExecuteTime": {
     "end_time": "2023-04-17T17:28:31.713549Z",
     "start_time": "2023-04-17T17:28:31.020891Z"
    },
    "pycharm": {
     "is_executing": true
    }
   },
   "outputs": [
    {
     "name": "stdout",
     "output_type": "stream",
     "text": [
      "Class     0.000000\n",
      "User      0.000000\n",
      "X0        0.000000\n",
      "Y0        0.000000\n",
      "Z0        0.000000\n",
      "X1        0.000000\n",
      "Y1        0.000000\n",
      "Z1        0.000000\n",
      "X2        0.000000\n",
      "Y2        0.000000\n",
      "Z2        0.000000\n",
      "X3        0.883528\n",
      "Y3        0.883528\n",
      "Z3        0.883528\n",
      "X4        3.995083\n",
      "Y4        3.995083\n",
      "Z4        3.995083\n",
      "X5       16.675630\n",
      "Y5       16.675630\n",
      "Z5       16.675630\n",
      "X6       33.097726\n",
      "Y6       33.097726\n",
      "Z6       33.097726\n",
      "X7       50.133169\n",
      "Y7       50.133169\n",
      "Z7       50.133169\n",
      "X8       60.863553\n",
      "Y8       60.863553\n",
      "Z8       60.863553\n",
      "X9       69.309568\n",
      "Y9       69.309568\n",
      "Z9       69.309568\n",
      "X10      81.109148\n",
      "Y10      81.109148\n",
      "Z10      81.109148\n",
      "X11      99.959025\n",
      "Y11      99.959025\n",
      "Z11      99.959025\n",
      "dtype: float64\n"
     ]
    }
   ],
   "source": [
    "# calculate percentage of missing values for each column\n",
    "missing_perc = df.isna().mean() * 100\n",
    "\n",
    "print(missing_perc)"
   ]
  },
  {
   "cell_type": "code",
   "execution_count": 8,
   "metadata": {
    "ExecuteTime": {
     "end_time": "2023-04-17T17:43:21.452998Z",
     "start_time": "2023-04-17T17:43:21.419263Z"
    },
    "pycharm": {
     "is_executing": true
    }
   },
   "outputs": [
    {
     "name": "stdout",
     "output_type": "stream",
     "text": [
      "78096\n",
      "78096\n"
     ]
    },
    {
     "data": {
      "text/html": [
       "<div>\n",
       "<style scoped>\n",
       "    .dataframe tbody tr th:only-of-type {\n",
       "        vertical-align: middle;\n",
       "    }\n",
       "\n",
       "    .dataframe tbody tr th {\n",
       "        vertical-align: top;\n",
       "    }\n",
       "\n",
       "    .dataframe thead th {\n",
       "        text-align: right;\n",
       "    }\n",
       "</style>\n",
       "<table border=\"1\" class=\"dataframe\">\n",
       "  <thead>\n",
       "    <tr style=\"text-align: right;\">\n",
       "      <th></th>\n",
       "      <th>Class</th>\n",
       "      <th>User</th>\n",
       "      <th>X0</th>\n",
       "      <th>Y0</th>\n",
       "      <th>Z0</th>\n",
       "      <th>X1</th>\n",
       "      <th>Y1</th>\n",
       "      <th>Z1</th>\n",
       "      <th>X2</th>\n",
       "      <th>Y2</th>\n",
       "      <th>...</th>\n",
       "      <th>Z3</th>\n",
       "      <th>X4</th>\n",
       "      <th>Y4</th>\n",
       "      <th>Z4</th>\n",
       "      <th>X5</th>\n",
       "      <th>Y5</th>\n",
       "      <th>Z5</th>\n",
       "      <th>X6</th>\n",
       "      <th>Y6</th>\n",
       "      <th>Z6</th>\n",
       "    </tr>\n",
       "  </thead>\n",
       "  <tbody>\n",
       "    <tr>\n",
       "      <th>0</th>\n",
       "      <td>0</td>\n",
       "      <td>0</td>\n",
       "      <td>0.000000</td>\n",
       "      <td>0.000000</td>\n",
       "      <td>0.000000</td>\n",
       "      <td>0.000000</td>\n",
       "      <td>0.000000</td>\n",
       "      <td>0.000000</td>\n",
       "      <td>0.000000</td>\n",
       "      <td>0.000000</td>\n",
       "      <td>...</td>\n",
       "      <td>0</td>\n",
       "      <td>0</td>\n",
       "      <td>0</td>\n",
       "      <td>0</td>\n",
       "      <td>0</td>\n",
       "      <td>0</td>\n",
       "      <td>0</td>\n",
       "      <td>0</td>\n",
       "      <td>0</td>\n",
       "      <td>0</td>\n",
       "    </tr>\n",
       "    <tr>\n",
       "      <th>1</th>\n",
       "      <td>1</td>\n",
       "      <td>0</td>\n",
       "      <td>54.263880</td>\n",
       "      <td>71.466776</td>\n",
       "      <td>-64.807709</td>\n",
       "      <td>76.895635</td>\n",
       "      <td>42.462500</td>\n",
       "      <td>-72.780545</td>\n",
       "      <td>36.621229</td>\n",
       "      <td>81.680557</td>\n",
       "      <td>...</td>\n",
       "      <td>-73.684130041833</td>\n",
       "      <td>59.1885757027887</td>\n",
       "      <td>10.6789364098231</td>\n",
       "      <td>-71.2977813147725</td>\n",
       "      <td>&lt;NA&gt;</td>\n",
       "      <td>&lt;NA&gt;</td>\n",
       "      <td>&lt;NA&gt;</td>\n",
       "      <td>&lt;NA&gt;</td>\n",
       "      <td>&lt;NA&gt;</td>\n",
       "      <td>&lt;NA&gt;</td>\n",
       "    </tr>\n",
       "    <tr>\n",
       "      <th>2</th>\n",
       "      <td>1</td>\n",
       "      <td>0</td>\n",
       "      <td>56.527558</td>\n",
       "      <td>72.266609</td>\n",
       "      <td>-61.935252</td>\n",
       "      <td>39.135978</td>\n",
       "      <td>82.538530</td>\n",
       "      <td>-49.596509</td>\n",
       "      <td>79.223743</td>\n",
       "      <td>43.254091</td>\n",
       "      <td>...</td>\n",
       "      <td>-70.703990925959</td>\n",
       "      <td>61.5874515532753</td>\n",
       "      <td>11.7799190329758</td>\n",
       "      <td>-68.827417756239</td>\n",
       "      <td>&lt;NA&gt;</td>\n",
       "      <td>&lt;NA&gt;</td>\n",
       "      <td>&lt;NA&gt;</td>\n",
       "      <td>&lt;NA&gt;</td>\n",
       "      <td>&lt;NA&gt;</td>\n",
       "      <td>&lt;NA&gt;</td>\n",
       "    </tr>\n",
       "    <tr>\n",
       "      <th>3</th>\n",
       "      <td>1</td>\n",
       "      <td>0</td>\n",
       "      <td>55.849928</td>\n",
       "      <td>72.469064</td>\n",
       "      <td>-62.562788</td>\n",
       "      <td>37.988804</td>\n",
       "      <td>82.631347</td>\n",
       "      <td>-50.606259</td>\n",
       "      <td>78.451526</td>\n",
       "      <td>43.567403</td>\n",
       "      <td>...</td>\n",
       "      <td>-71.1383441365739</td>\n",
       "      <td>61.6864271910576</td>\n",
       "      <td>11.7934398850428</td>\n",
       "      <td>-68.88931646056</td>\n",
       "      <td>&lt;NA&gt;</td>\n",
       "      <td>&lt;NA&gt;</td>\n",
       "      <td>&lt;NA&gt;</td>\n",
       "      <td>&lt;NA&gt;</td>\n",
       "      <td>&lt;NA&gt;</td>\n",
       "      <td>&lt;NA&gt;</td>\n",
       "    </tr>\n",
       "    <tr>\n",
       "      <th>4</th>\n",
       "      <td>1</td>\n",
       "      <td>0</td>\n",
       "      <td>55.329647</td>\n",
       "      <td>71.707275</td>\n",
       "      <td>-63.688956</td>\n",
       "      <td>36.561863</td>\n",
       "      <td>81.868749</td>\n",
       "      <td>-52.752784</td>\n",
       "      <td>86.320630</td>\n",
       "      <td>68.214645</td>\n",
       "      <td>...</td>\n",
       "      <td>-68.9564252307431</td>\n",
       "      <td>77.3872254123912</td>\n",
       "      <td>42.7178334810919</td>\n",
       "      <td>-72.0151462991019</td>\n",
       "      <td>&lt;NA&gt;</td>\n",
       "      <td>&lt;NA&gt;</td>\n",
       "      <td>&lt;NA&gt;</td>\n",
       "      <td>&lt;NA&gt;</td>\n",
       "      <td>&lt;NA&gt;</td>\n",
       "      <td>&lt;NA&gt;</td>\n",
       "    </tr>\n",
       "  </tbody>\n",
       "</table>\n",
       "<p>5 rows × 23 columns</p>\n",
       "</div>"
      ],
      "text/plain": [
       "   Class  User         X0         Y0         Z0         X1         Y1   \n",
       "0      0     0   0.000000   0.000000   0.000000   0.000000   0.000000  \\\n",
       "1      1     0  54.263880  71.466776 -64.807709  76.895635  42.462500   \n",
       "2      1     0  56.527558  72.266609 -61.935252  39.135978  82.538530   \n",
       "3      1     0  55.849928  72.469064 -62.562788  37.988804  82.631347   \n",
       "4      1     0  55.329647  71.707275 -63.688956  36.561863  81.868749   \n",
       "\n",
       "          Z1         X2         Y2  ...                 Z3                X4   \n",
       "0   0.000000   0.000000   0.000000  ...                  0                 0  \\\n",
       "1 -72.780545  36.621229  81.680557  ...   -73.684130041833  59.1885757027887   \n",
       "2 -49.596509  79.223743  43.254091  ...   -70.703990925959  61.5874515532753   \n",
       "3 -50.606259  78.451526  43.567403  ...  -71.1383441365739  61.6864271910576   \n",
       "4 -52.752784  86.320630  68.214645  ...  -68.9564252307431  77.3872254123912   \n",
       "\n",
       "                 Y4                 Z4    X5    Y5    Z5    X6    Y6    Z6  \n",
       "0                 0                  0     0     0     0     0     0     0  \n",
       "1  10.6789364098231  -71.2977813147725  <NA>  <NA>  <NA>  <NA>  <NA>  <NA>  \n",
       "2  11.7799190329758   -68.827417756239  <NA>  <NA>  <NA>  <NA>  <NA>  <NA>  \n",
       "3  11.7934398850428    -68.88931646056  <NA>  <NA>  <NA>  <NA>  <NA>  <NA>  \n",
       "4  42.7178334810919  -72.0151462991019  <NA>  <NA>  <NA>  <NA>  <NA>  <NA>  \n",
       "\n",
       "[5 rows x 23 columns]"
      ]
     },
     "execution_count": 8,
     "metadata": {},
     "output_type": "execute_result"
    }
   ],
   "source": [
    "# drop columns with more than 50% missing data\n",
    "print(len(df))\n",
    "df = df.dropna(thresh=len(df) * 0.5, axis=1)\n",
    "print(len(df))\n",
    "df.head()"
   ]
  },
  {
   "cell_type": "code",
   "execution_count": 9,
   "metadata": {
    "ExecuteTime": {
     "end_time": "2023-04-17T17:34:12.658785Z",
     "start_time": "2023-04-17T17:34:12.643004Z"
    },
    "pycharm": {
     "is_executing": true
    }
   },
   "outputs": [],
   "source": [
    "\n",
    "from sklearn.model_selection import train_test_split, cross_val_score\n",
    "\n",
    "from sklearn.model_selection import GridSearchCV\n",
    "\n",
    "from sklearn.neighbors import KNeighborsClassifier, KNeighborsRegressor\n",
    "\n"
   ]
  },
  {
   "cell_type": "markdown",
   "metadata": {
    "ExecuteTime": {
     "end_time": "2023-04-17T17:34:21.160160Z",
     "start_time": "2023-04-17T17:34:21.135168Z"
    },
    "pycharm": {
     "is_executing": true
    }
   },
   "source": []
  },
  {
   "cell_type": "code",
   "execution_count": 10,
   "metadata": {
    "ExecuteTime": {
     "end_time": "2023-04-17T17:28:31.815241Z",
     "start_time": "2023-04-17T17:28:31.676602Z"
    }
   },
   "outputs": [],
   "source": [
    "df2 = df.drop(['Class'], axis=1)\n",
    "df2 = df.drop(['User'], axis=1)\n",
    "labels = df['Class']\n",
    "#cls = [str(v) for v in sorted(labels[0].unique())]\n",
    "X_train, X_test, y_train, y_test,  = train_test_split(df2, labels, test_size=0.20, random_state=42)\n"
   ]
  },
  {
   "cell_type": "code",
   "execution_count": 11,
   "metadata": {
    "ExecuteTime": {
     "end_time": "2023-04-17T17:42:07.604877Z",
     "start_time": "2023-04-17T17:42:07.521894Z"
    },
    "pycharm": {
     "is_executing": true
    }
   },
   "outputs": [
    {
     "name": "stdout",
     "output_type": "stream",
     "text": [
      "       Class          X0          Y0         Z0         X1          Y1   \n",
      "26068      3  109.240478   44.899381 -60.024315  61.033350   85.559458  \\\n",
      "54379      4   24.330178  101.140373   1.816550  55.473059  131.027370   \n",
      "68797      4   63.498073   17.176245 -60.413507  74.682024   48.333237   \n",
      "72427      2   86.767860   74.450010 -46.187383  57.077763   99.699882   \n",
      "77992      5   -2.025544   99.352134   6.365841  76.213345   33.631282   \n",
      "...      ...         ...         ...        ...        ...         ...   \n",
      "11925      3   49.388607  142.914789 -23.766968  73.694416   71.467097   \n",
      "57386      1   41.653864   77.665012 -45.920230  44.615086    8.313146   \n",
      "12081      3   45.077739  145.271166 -16.379576  47.490983   92.218880   \n",
      "11541      3   -5.946223   62.177684  52.986602  52.992692   83.999676   \n",
      "42250      2   89.991946   78.340700 -23.610774  45.653754   88.109854   \n",
      "\n",
      "              Z1          X2          Y2         Z2  ...                 Z3   \n",
      "26068 -18.295491   68.721592    0.169402 -66.863960  ...  -33.6726732532577  \\\n",
      "54379  13.658764   16.883000  148.501225   6.423454  ...  -61.1272144175364   \n",
      "68797 -57.479898   32.838805  147.810305 -12.697328  ...  -16.9039031141978   \n",
      "72427 -13.512337   52.828546  151.329974  12.972557  ...  -56.0784679256115   \n",
      "77992 -41.670484   87.056709   61.502402 -59.262181  ...  -17.5763827854374   \n",
      "...          ...         ...         ...        ...  ...                ...   \n",
      "11925 -45.282141   50.118027   90.292361 -20.578133  ...  -60.5505931362268   \n",
      "57386 -84.882604  -11.505991   81.424242 -36.724535  ...  -38.0369944984246   \n",
      "12081 -16.929721   13.555387   89.009721 -41.573306  ...  -53.5510943791101   \n",
      "11541  48.545031   26.761516   81.741949  48.374746  ...   33.0691566336555   \n",
      "42250  14.078504  118.998155  113.444878 -17.559564  ...   10.1514297717664   \n",
      "\n",
      "                      X4                Y4                 Z4   \n",
      "26068   52.2292396407698  136.226905014463  -13.4616000125345  \\\n",
      "54379   72.2655695782896   12.157565449702  -56.7968495403506   \n",
      "68797    71.460231195152  75.7249952548033  -57.7734798989716   \n",
      "72427   66.2595127599619  144.173187286062  -6.39024754768074   \n",
      "77992   26.6855045250967  136.893558110825  -31.8842170598057   \n",
      "...                  ...               ...                ...   \n",
      "11925  -5.56414878536082  80.5645353229427   -45.670857620535   \n",
      "57386   68.2966595046155   67.130388560486  -51.5917097136815   \n",
      "12081   68.6594640422292  75.7613494138703  -44.5846715283963   \n",
      "11541   129.631250604546  70.8730011686186   49.8861489900198   \n",
      "42250    70.390880507405  136.550533510473    32.526719347248   \n",
      "\n",
      "                     X5                Y5                 Z5   \n",
      "26068  92.9076738363767  26.1036712704976  -62.5252202896477  \\\n",
      "54379  92.8303389104036  28.8000051321892   -60.120643212755   \n",
      "68797  32.5723691776642   99.871957472702  -8.08556564718388   \n",
      "72427  16.8613157660808  143.212474742221   34.1838604210202   \n",
      "77992  55.1306368565497  129.133684682205   -43.232233712721   \n",
      "...                 ...               ...                ...   \n",
      "11925  77.9940952711298  45.0154478321665  -49.6194356930963   \n",
      "57386  44.2535655075544  47.0502854743189  -97.4088024399265   \n",
      "12081  -9.0989551975818  82.8943536375796  -32.5797608009883   \n",
      "11541              <NA>              <NA>               <NA>   \n",
      "42250  22.7955050033539  121.550766762081   43.8345037060168   \n",
      "\n",
      "                      X6                Y6                  Z6  \n",
      "26068  -9.11975356175371  82.6576345384062   -32.1042253335331  \n",
      "54379   52.7671895995023   93.407572874795  -0.229292656178681  \n",
      "68797   53.5229743803272  97.1484664944147   -11.8207673418472  \n",
      "72427     13.49479088207  94.6104097661403    12.1914632958463  \n",
      "77992   61.8671486003989  101.286412875081   -6.09523021866124  \n",
      "...                  ...               ...                 ...  \n",
      "11925   25.9659357175739  81.5634796919819   -40.0508315465181  \n",
      "57386               <NA>              <NA>                <NA>  \n",
      "12081    55.621256729382  17.0914754606762   -63.3015271405767  \n",
      "11541               <NA>              <NA>                <NA>  \n",
      "42250   69.9975320480649  86.1546421927049   -3.01405818838857  \n",
      "\n",
      "[15620 rows x 22 columns]\n"
     ]
    }
   ],
   "source": [
    "print(X_test)"
   ]
  },
  {
   "cell_type": "code",
   "execution_count": 12,
   "metadata": {
    "ExecuteTime": {
     "end_time": "2023-04-17T17:34:22.742290Z",
     "start_time": "2023-04-17T17:34:22.723166Z"
    },
    "pycharm": {
     "is_executing": true
    }
   },
   "outputs": [],
   "source": [
    "from IPython.display import display, HTML\n",
    "from sklearn.metrics import classification_report\n",
    "from matplotlib import pyplot as plt\n",
    "from yellowbrick.classifier.rocauc import roc_auc\n",
    "\n"
   ]
  },
  {
   "cell_type": "code",
   "execution_count": 13,
   "metadata": {
    "ExecuteTime": {
     "end_time": "2023-04-17T17:34:23.374424Z",
     "start_time": "2023-04-17T17:34:23.369914Z"
    },
    "pycharm": {
     "is_executing": true
    }
   },
   "outputs": [
    {
     "name": "stderr",
     "output_type": "stream",
     "text": [
      "C:\\Users\\polcg\\.virtualenvs\\MD2-NovaiZ3s\\Lib\\site-packages\\sklearn\\model_selection\\_split.py:700: UserWarning: The least populated class in y has only 1 members, which is less than n_splits=10.\n",
      "  warnings.warn(\n"
     ]
    },
    {
     "ename": "ValueError",
     "evalue": "\nAll the 10 fits failed.\nIt is very likely that your model is misconfigured.\nYou can try to debug the error by setting error_score='raise'.\n\nBelow are more details about the failures:\n--------------------------------------------------------------------------------\n10 fits failed with the following error:\nTraceback (most recent call last):\n  File \"C:\\Users\\polcg\\.virtualenvs\\MD2-NovaiZ3s\\Lib\\site-packages\\sklearn\\model_selection\\_validation.py\", line 686, in _fit_and_score\n    estimator.fit(X_train, y_train, **fit_params)\n  File \"C:\\Users\\polcg\\.virtualenvs\\MD2-NovaiZ3s\\Lib\\site-packages\\sklearn\\neighbors\\_classification.py\", line 215, in fit\n    return self._fit(X, y)\n           ^^^^^^^^^^^^^^^\n  File \"C:\\Users\\polcg\\.virtualenvs\\MD2-NovaiZ3s\\Lib\\site-packages\\sklearn\\neighbors\\_base.py\", line 454, in _fit\n    X, y = self._validate_data(\n           ^^^^^^^^^^^^^^^^^^^^\n  File \"C:\\Users\\polcg\\.virtualenvs\\MD2-NovaiZ3s\\Lib\\site-packages\\sklearn\\base.py\", line 584, in _validate_data\n    X, y = check_X_y(X, y, **check_params)\n           ^^^^^^^^^^^^^^^^^^^^^^^^^^^^^^^\n  File \"C:\\Users\\polcg\\.virtualenvs\\MD2-NovaiZ3s\\Lib\\site-packages\\sklearn\\utils\\validation.py\", line 1106, in check_X_y\n    X = check_array(\n        ^^^^^^^^^^^^\n  File \"C:\\Users\\polcg\\.virtualenvs\\MD2-NovaiZ3s\\Lib\\site-packages\\sklearn\\utils\\validation.py\", line 879, in check_array\n    array = _asarray_with_order(array, order=order, dtype=dtype, xp=xp)\n            ^^^^^^^^^^^^^^^^^^^^^^^^^^^^^^^^^^^^^^^^^^^^^^^^^^^^^^^^^^^\n  File \"C:\\Users\\polcg\\.virtualenvs\\MD2-NovaiZ3s\\Lib\\site-packages\\sklearn\\utils\\_array_api.py\", line 185, in _asarray_with_order\n    array = numpy.asarray(array, order=order, dtype=dtype)\n            ^^^^^^^^^^^^^^^^^^^^^^^^^^^^^^^^^^^^^^^^^^^^^^\n  File \"C:\\Users\\polcg\\.virtualenvs\\MD2-NovaiZ3s\\Lib\\site-packages\\pandas\\core\\generic.py\", line 1998, in __array__\n    arr = np.asarray(values, dtype=dtype)\n          ^^^^^^^^^^^^^^^^^^^^^^^^^^^^^^^\nTypeError: float() argument must be a string or a real number, not 'NAType'\n",
     "output_type": "error",
     "traceback": [
      "\u001B[1;31m---------------------------------------------------------------------------\u001B[0m",
      "\u001B[1;31mValueError\u001B[0m                                Traceback (most recent call last)",
      "Cell \u001B[1;32mIn[13], line 2\u001B[0m\n\u001B[0;32m      1\u001B[0m knn \u001B[38;5;241m=\u001B[39m KNeighborsClassifier()\n\u001B[1;32m----> 2\u001B[0m \u001B[38;5;28mprint\u001B[39m(np\u001B[38;5;241m.\u001B[39mmean(\u001B[43mcross_val_score\u001B[49m\u001B[43m(\u001B[49m\u001B[43mknn\u001B[49m\u001B[43m,\u001B[49m\u001B[43mX_train\u001B[49m\u001B[43m \u001B[49m\u001B[43m,\u001B[49m\u001B[43m \u001B[49m\u001B[43mnp\u001B[49m\u001B[38;5;241;43m.\u001B[39;49m\u001B[43mravel\u001B[49m\u001B[43m(\u001B[49m\u001B[43my_train\u001B[49m\u001B[43m)\u001B[49m\u001B[43m,\u001B[49m\u001B[43m \u001B[49m\u001B[43mcv\u001B[49m\u001B[38;5;241;43m=\u001B[39;49m\u001B[38;5;241;43m10\u001B[39;49m\u001B[43m)\u001B[49m))\n\u001B[0;32m      3\u001B[0m niter \u001B[38;5;241m=\u001B[39m \u001B[38;5;241m15\u001B[39m\n\u001B[0;32m      4\u001B[0m cv \u001B[38;5;241m=\u001B[39m \u001B[38;5;241m5\u001B[39m\n",
      "File \u001B[1;32m~\\.virtualenvs\\MD2-NovaiZ3s\\Lib\\site-packages\\sklearn\\model_selection\\_validation.py:515\u001B[0m, in \u001B[0;36mcross_val_score\u001B[1;34m(estimator, X, y, groups, scoring, cv, n_jobs, verbose, fit_params, pre_dispatch, error_score)\u001B[0m\n\u001B[0;32m    512\u001B[0m \u001B[38;5;66;03m# To ensure multimetric format is not supported\u001B[39;00m\n\u001B[0;32m    513\u001B[0m scorer \u001B[38;5;241m=\u001B[39m check_scoring(estimator, scoring\u001B[38;5;241m=\u001B[39mscoring)\n\u001B[1;32m--> 515\u001B[0m cv_results \u001B[38;5;241m=\u001B[39m \u001B[43mcross_validate\u001B[49m\u001B[43m(\u001B[49m\n\u001B[0;32m    516\u001B[0m \u001B[43m    \u001B[49m\u001B[43mestimator\u001B[49m\u001B[38;5;241;43m=\u001B[39;49m\u001B[43mestimator\u001B[49m\u001B[43m,\u001B[49m\n\u001B[0;32m    517\u001B[0m \u001B[43m    \u001B[49m\u001B[43mX\u001B[49m\u001B[38;5;241;43m=\u001B[39;49m\u001B[43mX\u001B[49m\u001B[43m,\u001B[49m\n\u001B[0;32m    518\u001B[0m \u001B[43m    \u001B[49m\u001B[43my\u001B[49m\u001B[38;5;241;43m=\u001B[39;49m\u001B[43my\u001B[49m\u001B[43m,\u001B[49m\n\u001B[0;32m    519\u001B[0m \u001B[43m    \u001B[49m\u001B[43mgroups\u001B[49m\u001B[38;5;241;43m=\u001B[39;49m\u001B[43mgroups\u001B[49m\u001B[43m,\u001B[49m\n\u001B[0;32m    520\u001B[0m \u001B[43m    \u001B[49m\u001B[43mscoring\u001B[49m\u001B[38;5;241;43m=\u001B[39;49m\u001B[43m{\u001B[49m\u001B[38;5;124;43m\"\u001B[39;49m\u001B[38;5;124;43mscore\u001B[39;49m\u001B[38;5;124;43m\"\u001B[39;49m\u001B[43m:\u001B[49m\u001B[43m \u001B[49m\u001B[43mscorer\u001B[49m\u001B[43m}\u001B[49m\u001B[43m,\u001B[49m\n\u001B[0;32m    521\u001B[0m \u001B[43m    \u001B[49m\u001B[43mcv\u001B[49m\u001B[38;5;241;43m=\u001B[39;49m\u001B[43mcv\u001B[49m\u001B[43m,\u001B[49m\n\u001B[0;32m    522\u001B[0m \u001B[43m    \u001B[49m\u001B[43mn_jobs\u001B[49m\u001B[38;5;241;43m=\u001B[39;49m\u001B[43mn_jobs\u001B[49m\u001B[43m,\u001B[49m\n\u001B[0;32m    523\u001B[0m \u001B[43m    \u001B[49m\u001B[43mverbose\u001B[49m\u001B[38;5;241;43m=\u001B[39;49m\u001B[43mverbose\u001B[49m\u001B[43m,\u001B[49m\n\u001B[0;32m    524\u001B[0m \u001B[43m    \u001B[49m\u001B[43mfit_params\u001B[49m\u001B[38;5;241;43m=\u001B[39;49m\u001B[43mfit_params\u001B[49m\u001B[43m,\u001B[49m\n\u001B[0;32m    525\u001B[0m \u001B[43m    \u001B[49m\u001B[43mpre_dispatch\u001B[49m\u001B[38;5;241;43m=\u001B[39;49m\u001B[43mpre_dispatch\u001B[49m\u001B[43m,\u001B[49m\n\u001B[0;32m    526\u001B[0m \u001B[43m    \u001B[49m\u001B[43merror_score\u001B[49m\u001B[38;5;241;43m=\u001B[39;49m\u001B[43merror_score\u001B[49m\u001B[43m,\u001B[49m\n\u001B[0;32m    527\u001B[0m \u001B[43m\u001B[49m\u001B[43m)\u001B[49m\n\u001B[0;32m    528\u001B[0m \u001B[38;5;28;01mreturn\u001B[39;00m cv_results[\u001B[38;5;124m\"\u001B[39m\u001B[38;5;124mtest_score\u001B[39m\u001B[38;5;124m\"\u001B[39m]\n",
      "File \u001B[1;32m~\\.virtualenvs\\MD2-NovaiZ3s\\Lib\\site-packages\\sklearn\\model_selection\\_validation.py:285\u001B[0m, in \u001B[0;36mcross_validate\u001B[1;34m(estimator, X, y, groups, scoring, cv, n_jobs, verbose, fit_params, pre_dispatch, return_train_score, return_estimator, error_score)\u001B[0m\n\u001B[0;32m    265\u001B[0m parallel \u001B[38;5;241m=\u001B[39m Parallel(n_jobs\u001B[38;5;241m=\u001B[39mn_jobs, verbose\u001B[38;5;241m=\u001B[39mverbose, pre_dispatch\u001B[38;5;241m=\u001B[39mpre_dispatch)\n\u001B[0;32m    266\u001B[0m results \u001B[38;5;241m=\u001B[39m parallel(\n\u001B[0;32m    267\u001B[0m     delayed(_fit_and_score)(\n\u001B[0;32m    268\u001B[0m         clone(estimator),\n\u001B[1;32m   (...)\u001B[0m\n\u001B[0;32m    282\u001B[0m     \u001B[38;5;28;01mfor\u001B[39;00m train, test \u001B[38;5;129;01min\u001B[39;00m cv\u001B[38;5;241m.\u001B[39msplit(X, y, groups)\n\u001B[0;32m    283\u001B[0m )\n\u001B[1;32m--> 285\u001B[0m \u001B[43m_warn_or_raise_about_fit_failures\u001B[49m\u001B[43m(\u001B[49m\u001B[43mresults\u001B[49m\u001B[43m,\u001B[49m\u001B[43m \u001B[49m\u001B[43merror_score\u001B[49m\u001B[43m)\u001B[49m\n\u001B[0;32m    287\u001B[0m \u001B[38;5;66;03m# For callabe scoring, the return type is only know after calling. If the\u001B[39;00m\n\u001B[0;32m    288\u001B[0m \u001B[38;5;66;03m# return type is a dictionary, the error scores can now be inserted with\u001B[39;00m\n\u001B[0;32m    289\u001B[0m \u001B[38;5;66;03m# the correct key.\u001B[39;00m\n\u001B[0;32m    290\u001B[0m \u001B[38;5;28;01mif\u001B[39;00m \u001B[38;5;28mcallable\u001B[39m(scoring):\n",
      "File \u001B[1;32m~\\.virtualenvs\\MD2-NovaiZ3s\\Lib\\site-packages\\sklearn\\model_selection\\_validation.py:367\u001B[0m, in \u001B[0;36m_warn_or_raise_about_fit_failures\u001B[1;34m(results, error_score)\u001B[0m\n\u001B[0;32m    360\u001B[0m \u001B[38;5;28;01mif\u001B[39;00m num_failed_fits \u001B[38;5;241m==\u001B[39m num_fits:\n\u001B[0;32m    361\u001B[0m     all_fits_failed_message \u001B[38;5;241m=\u001B[39m (\n\u001B[0;32m    362\u001B[0m         \u001B[38;5;124mf\u001B[39m\u001B[38;5;124m\"\u001B[39m\u001B[38;5;130;01m\\n\u001B[39;00m\u001B[38;5;124mAll the \u001B[39m\u001B[38;5;132;01m{\u001B[39;00mnum_fits\u001B[38;5;132;01m}\u001B[39;00m\u001B[38;5;124m fits failed.\u001B[39m\u001B[38;5;130;01m\\n\u001B[39;00m\u001B[38;5;124m\"\u001B[39m\n\u001B[0;32m    363\u001B[0m         \u001B[38;5;124m\"\u001B[39m\u001B[38;5;124mIt is very likely that your model is misconfigured.\u001B[39m\u001B[38;5;130;01m\\n\u001B[39;00m\u001B[38;5;124m\"\u001B[39m\n\u001B[0;32m    364\u001B[0m         \u001B[38;5;124m\"\u001B[39m\u001B[38;5;124mYou can try to debug the error by setting error_score=\u001B[39m\u001B[38;5;124m'\u001B[39m\u001B[38;5;124mraise\u001B[39m\u001B[38;5;124m'\u001B[39m\u001B[38;5;124m.\u001B[39m\u001B[38;5;130;01m\\n\u001B[39;00m\u001B[38;5;130;01m\\n\u001B[39;00m\u001B[38;5;124m\"\u001B[39m\n\u001B[0;32m    365\u001B[0m         \u001B[38;5;124mf\u001B[39m\u001B[38;5;124m\"\u001B[39m\u001B[38;5;124mBelow are more details about the failures:\u001B[39m\u001B[38;5;130;01m\\n\u001B[39;00m\u001B[38;5;132;01m{\u001B[39;00mfit_errors_summary\u001B[38;5;132;01m}\u001B[39;00m\u001B[38;5;124m\"\u001B[39m\n\u001B[0;32m    366\u001B[0m     )\n\u001B[1;32m--> 367\u001B[0m     \u001B[38;5;28;01mraise\u001B[39;00m \u001B[38;5;167;01mValueError\u001B[39;00m(all_fits_failed_message)\n\u001B[0;32m    369\u001B[0m \u001B[38;5;28;01melse\u001B[39;00m:\n\u001B[0;32m    370\u001B[0m     some_fits_failed_message \u001B[38;5;241m=\u001B[39m (\n\u001B[0;32m    371\u001B[0m         \u001B[38;5;124mf\u001B[39m\u001B[38;5;124m\"\u001B[39m\u001B[38;5;130;01m\\n\u001B[39;00m\u001B[38;5;132;01m{\u001B[39;00mnum_failed_fits\u001B[38;5;132;01m}\u001B[39;00m\u001B[38;5;124m fits failed out of a total of \u001B[39m\u001B[38;5;132;01m{\u001B[39;00mnum_fits\u001B[38;5;132;01m}\u001B[39;00m\u001B[38;5;124m.\u001B[39m\u001B[38;5;130;01m\\n\u001B[39;00m\u001B[38;5;124m\"\u001B[39m\n\u001B[0;32m    372\u001B[0m         \u001B[38;5;124m\"\u001B[39m\u001B[38;5;124mThe score on these train-test partitions for these parameters\u001B[39m\u001B[38;5;124m\"\u001B[39m\n\u001B[1;32m   (...)\u001B[0m\n\u001B[0;32m    376\u001B[0m         \u001B[38;5;124mf\u001B[39m\u001B[38;5;124m\"\u001B[39m\u001B[38;5;124mBelow are more details about the failures:\u001B[39m\u001B[38;5;130;01m\\n\u001B[39;00m\u001B[38;5;132;01m{\u001B[39;00mfit_errors_summary\u001B[38;5;132;01m}\u001B[39;00m\u001B[38;5;124m\"\u001B[39m\n\u001B[0;32m    377\u001B[0m     )\n",
      "\u001B[1;31mValueError\u001B[0m: \nAll the 10 fits failed.\nIt is very likely that your model is misconfigured.\nYou can try to debug the error by setting error_score='raise'.\n\nBelow are more details about the failures:\n--------------------------------------------------------------------------------\n10 fits failed with the following error:\nTraceback (most recent call last):\n  File \"C:\\Users\\polcg\\.virtualenvs\\MD2-NovaiZ3s\\Lib\\site-packages\\sklearn\\model_selection\\_validation.py\", line 686, in _fit_and_score\n    estimator.fit(X_train, y_train, **fit_params)\n  File \"C:\\Users\\polcg\\.virtualenvs\\MD2-NovaiZ3s\\Lib\\site-packages\\sklearn\\neighbors\\_classification.py\", line 215, in fit\n    return self._fit(X, y)\n           ^^^^^^^^^^^^^^^\n  File \"C:\\Users\\polcg\\.virtualenvs\\MD2-NovaiZ3s\\Lib\\site-packages\\sklearn\\neighbors\\_base.py\", line 454, in _fit\n    X, y = self._validate_data(\n           ^^^^^^^^^^^^^^^^^^^^\n  File \"C:\\Users\\polcg\\.virtualenvs\\MD2-NovaiZ3s\\Lib\\site-packages\\sklearn\\base.py\", line 584, in _validate_data\n    X, y = check_X_y(X, y, **check_params)\n           ^^^^^^^^^^^^^^^^^^^^^^^^^^^^^^^\n  File \"C:\\Users\\polcg\\.virtualenvs\\MD2-NovaiZ3s\\Lib\\site-packages\\sklearn\\utils\\validation.py\", line 1106, in check_X_y\n    X = check_array(\n        ^^^^^^^^^^^^\n  File \"C:\\Users\\polcg\\.virtualenvs\\MD2-NovaiZ3s\\Lib\\site-packages\\sklearn\\utils\\validation.py\", line 879, in check_array\n    array = _asarray_with_order(array, order=order, dtype=dtype, xp=xp)\n            ^^^^^^^^^^^^^^^^^^^^^^^^^^^^^^^^^^^^^^^^^^^^^^^^^^^^^^^^^^^\n  File \"C:\\Users\\polcg\\.virtualenvs\\MD2-NovaiZ3s\\Lib\\site-packages\\sklearn\\utils\\_array_api.py\", line 185, in _asarray_with_order\n    array = numpy.asarray(array, order=order, dtype=dtype)\n            ^^^^^^^^^^^^^^^^^^^^^^^^^^^^^^^^^^^^^^^^^^^^^^\n  File \"C:\\Users\\polcg\\.virtualenvs\\MD2-NovaiZ3s\\Lib\\site-packages\\pandas\\core\\generic.py\", line 1998, in __array__\n    arr = np.asarray(values, dtype=dtype)\n          ^^^^^^^^^^^^^^^^^^^^^^^^^^^^^^^\nTypeError: float() argument must be a string or a real number, not 'NAType'\n"
     ]
    }
   ],
   "source": [
    "knn = KNeighborsClassifier()\n",
    "print(np.mean(cross_val_score(knn,X_train , np.ravel(y_train), cv=10)))\n",
    "niter = 15\n",
    "cv = 5\n",
    "param = {'n_neighbors': [1, 3, 5, 7, 11, 15],\n",
    "         'weights': ['distance', 'uniform'],\n",
    "         'leaf_size': [1, 5, 10, 20, 30],\n",
    "         'metric': ['l2', 'l1', 'cosine']}\n",
    "\n",
    "knn_gs = GridSearchCV(knn, param, cv=cv, n_jobs=-1)\n",
    "knn_gs.fit(X_train, np.ravel(y_train))\n"
   ]
  },
  {
   "cell_type": "code",
   "execution_count": null,
   "metadata": {
    "ExecuteTime": {
     "end_time": "2023-04-17T17:40:01.037773Z",
     "start_time": "2023-04-17T17:39:42.910221Z"
    },
    "pycharm": {
     "is_executing": true
    }
   },
   "outputs": [],
   "source": [
    "show_html = lambda html: display(HTML(html))\n",
    "show_html(pd.DataFrame(knn_gs.cv_results_).loc[:, ['params', 'mean_test_score', 'rank_test_score']].sort_values(\n",
    "    by='rank_test_score').head().to_html())"
   ]
  },
  {
   "cell_type": "code",
   "execution_count": null,
   "metadata": {
    "ExecuteTime": {
     "end_time": "2023-04-17T17:40:10.504794Z",
     "start_time": "2023-04-17T17:40:10.471895Z"
    },
    "pycharm": {
     "is_executing": true
    }
   },
   "outputs": [],
   "source": [
    "print(classification_report(knn_gs.predict(X_test), y_test, target_names=cls))\n",
    "plt.figure(figsize=(8, 8))"
   ]
  },
  {
   "cell_type": "code",
   "execution_count": null,
   "metadata": {
    "pycharm": {
     "is_executing": true
    }
   },
   "outputs": [],
   "source": [
    "roc_auc(knn_gs, X_train , y_train, X_test, y_test, classes=cls);"
   ]
  }
 ],
 "metadata": {
  "kernelspec": {
   "display_name": "Python 3 (ipykernel)",
   "language": "python",
   "name": "python3"
  },
  "language_info": {
   "codemirror_mode": {
    "name": "ipython",
    "version": 3
   },
   "file_extension": ".py",
   "mimetype": "text/x-python",
   "name": "python",
   "nbconvert_exporter": "python",
   "pygments_lexer": "ipython3",
   "version": "3.9.13"
  }
 },
 "nbformat": 4,
 "nbformat_minor": 1
}
