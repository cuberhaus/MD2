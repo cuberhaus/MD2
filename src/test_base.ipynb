{
 "cells": [
  {
   "cell_type": "markdown",
   "metadata": {
    "id": "view-in-github",
    "colab_type": "text"
   },
   "source": [
    "<a href=\"https://colab.research.google.com/github/cuberhaus/MD2/blob/main/src/test_base.ipynb\" target=\"_parent\"><img src=\"https://colab.research.google.com/assets/colab-badge.svg\" alt=\"Open In Colab\"/></a>"
   ]
  },
  {
   "cell_type": "code",
   "execution_count": 1,
   "id": "ba5c8737",
   "metadata": {
    "id": "ba5c8737",
    "ExecuteTime": {
     "end_time": "2023-05-08T12:55:18.437931123Z",
     "start_time": "2023-05-08T12:55:14.814163801Z"
    }
   },
   "outputs": [],
   "source": [
    "from sklearn.neighbors import KNeighborsClassifier\n",
    "from sklearn.svm import SVC\n",
    "from sklearn.dummy import DummyClassifier\n",
    "from sklearn.model_selection import cross_val_score, GridSearchCV, ParameterGrid, train_test_split\n",
    "from sklearn import metrics\n",
    "\n",
    "import pandas as pd\n",
    "import numpy as np\n",
    "\n",
    "from sklearn.neighbors import KNeighborsClassifier\n",
    "\n",
    "# # import warnings filter\n",
    "# from warnings import simplefilter\n",
    "# # ignore all future warnings\n",
    "# simplefilter(action='ignore', category=FutureWarning)"
   ]
  },
  {
   "cell_type": "code",
   "execution_count": 2,
   "id": "e7814250",
   "metadata": {
    "id": "e7814250",
    "ExecuteTime": {
     "end_time": "2023-05-08T12:55:20.479819824Z",
     "start_time": "2023-05-08T12:55:18.422518241Z"
    }
   },
   "outputs": [],
   "source": [
    "dataset_path = 'allUsers.lcl.csv'\n",
    "# dataset_path = \"../data/tommaso_data/allUsers.lcl.csv\"\n",
    "\n",
    "df = pd.read_csv(dataset_path)\n",
    "#knn Cannot work with mining data, so replace them with a 0\n",
    "df = df.replace('?', 0)\n",
    "#df = df.dropna(thresh=len(df) * 0.10, axis=1)\n",
    "\n"
   ]
  },
  {
   "cell_type": "code",
   "source": [
    "def get_class_test_traingi_set(test_size_percent):\n",
    "  df2 = df.drop(['User'], axis=1)\n",
    "  df2 = df2.drop(['Class'], axis=1)\n",
    "  labels_Class = df['Class']\n",
    "  X_train, X_test, y_train, y_test,  = train_test_split(df2, labels_Class, test_size=test_size_percent, random_state=42)\n",
    "  return X_train, X_test, y_train, y_test,\n",
    "\n",
    "\n",
    "\n",
    "\n",
    "def get_user_test_traingi_set(test_size_percent):\n",
    "  df2 = df.drop(['User'], axis=1)\n",
    "  df2 = df2.drop(['Class'], axis=1)\n",
    "\n",
    "  labels_Users = df['User']\n",
    "  X_train, X_test, y_train, y_test,  = train_test_split(df2, labels_Users, test_size=test_size_percent, random_state=42)\n",
    "\n",
    "  return X_train, X_test, y_train, y_test\n",
    "\n",
    "\n",
    "\n",
    "\n"
   ],
   "metadata": {
    "id": "PYhmyjgS-eOB"
   },
   "id": "PYhmyjgS-eOB",
   "execution_count": 3,
   "outputs": []
  },
  {
   "cell_type": "markdown",
   "source": [
    "# mvr function\n"
   ],
   "metadata": {
    "id": "woYe77C42M4w"
   },
   "id": "woYe77C42M4w"
  },
  {
   "cell_type": "code",
   "source": [
    "from scipy.stats import mode\n",
    "import numpy as np\n",
    "\n",
    "def majority_vote_role(pre_trained_models_array, X_test, y_test):\n",
    "  predictions = []\n",
    "  for model in pre_trained_models_array:\n",
    "    predictions.append(model.predict(X_test))\n",
    "  \n",
    "  predictions = np.array(predictions)\n",
    "  final_prediction = (mode(predictions.T, axis=-1, keepdims=True)[0]).T[0]\n",
    "\n",
    "  accuracy = 0\n",
    "  for predicted_y, y in zip(final_prediction, y_test):\n",
    "\n",
    "    if predicted_y == y :\n",
    "      accuracy += 1\n",
    "\n",
    "  return accuracy / len(y_test)\n",
    "\n",
    "\n"
   ],
   "metadata": {
    "id": "PeyqXauwjgwp"
   },
   "id": "PeyqXauwjgwp",
   "execution_count": 4,
   "outputs": []
  },
  {
   "cell_type": "code",
   "execution_count": 5,
   "outputs": [],
   "source": [
    "from sklearn.metrics import accuracy_score, f1_score\n",
    "\n",
    "def save_results(clf, X_test, y_test, nclf, dataf):\n",
    "    dataf.loc[nclf, 'test acc'] = accuracy_score(y_test, clf.predict(X_test))\n",
    "    # dataf.loc[nclf, 'test f1 score (0)'] = f1_score(y_test, clf.predict(X_test), pos_label=0)\n",
    "    # dataf.loc[nclf, 'test f1 score (1)'] = f1_score(y_test, clf.predict(X_test), pos_label=1)\n",
    "    dataf.loc[nclf, 'test f1 score (W)'] = f1_score(y_test, clf.predict(X_test), average='macro')\n",
    "    # df.loc[nclf,'ROC AUC'] = roc_auc_score(y_test, clf.predict_proba(X_test)[:,1])\n",
    "    return dataf\n",
    "results_df = pd.DataFrame()\n",
    "\n"
   ],
   "metadata": {
    "ExecuteTime": {
     "end_time": "2023-05-08T12:55:20.492546775Z",
     "start_time": "2023-05-08T12:55:20.486417676Z"
    },
    "id": "aQqfNgl19_Z8"
   },
   "id": "aQqfNgl19_Z8"
  },
  {
   "cell_type": "code",
   "source": [
    "def test_model_and_save_result(model, name,  X_train, X_test, y_train, y_test, results_df):\n",
    "  model.fit(X_train, y_train)\n",
    "  results_df = save_results(model, X_test, y_test, name, results_df)"
   ],
   "metadata": {
    "id": "ZKX2K__MA1Ee"
   },
   "id": "ZKX2K__MA1Ee",
   "execution_count": 6,
   "outputs": []
  },
  {
   "cell_type": "markdown",
   "id": "5c618663",
   "metadata": {
    "id": "5c618663"
   },
   "source": [
    "# KNN"
   ]
  },
  {
   "cell_type": "code",
   "execution_count": 7,
   "id": "f01a4953",
   "metadata": {
    "id": "f01a4953",
    "ExecuteTime": {
     "end_time": "2023-05-08T12:55:21.321920029Z",
     "start_time": "2023-05-08T12:55:20.768056436Z"
    }
   },
   "outputs": [],
   "source": [
    "from sklearn.neighbors import KNeighborsClassifier\n",
    "knn = KNeighborsClassifier(n_neighbors=1)\n",
    "\n"
   ]
  },
  {
   "cell_type": "code",
   "execution_count": 8,
   "outputs": [],
   "source": [
    "X_train, X_test, y_train, y_test = get_class_test_traingi_set(0.20)\n",
    "test_model_and_save_result(knn, \"KNN\", X_train, X_test, y_train, y_test, results_df)\n",
    "\n"
   ],
   "metadata": {
    "ExecuteTime": {
     "end_time": "2023-05-08T12:55:31.466712630Z",
     "start_time": "2023-05-08T12:55:24.874142330Z"
    },
    "id": "PgOFStm49_aB"
   },
   "id": "PgOFStm49_aB"
  },
  {
   "cell_type": "code",
   "source": [
    "results_df.sort_values(by=['test acc'], ascending=False)"
   ],
   "metadata": {
    "id": "aKcsif3SFrxq",
    "outputId": "58c2692b-07fc-449f-8f25-fb6e2ea695c1",
    "colab": {
     "base_uri": "https://localhost:8080/",
     "height": 80
    }
   },
   "id": "aKcsif3SFrxq",
   "execution_count": 9,
   "outputs": [
    {
     "output_type": "execute_result",
     "data": {
      "text/plain": [
       "     test acc  test f1 score (W)\n",
       "KNN  0.959667           0.959219"
      ],
      "text/html": [
       "\n",
       "  <div id=\"df-f6240a37-7618-455d-a5cf-0da80523b74a\">\n",
       "    <div class=\"colab-df-container\">\n",
       "      <div>\n",
       "<style scoped>\n",
       "    .dataframe tbody tr th:only-of-type {\n",
       "        vertical-align: middle;\n",
       "    }\n",
       "\n",
       "    .dataframe tbody tr th {\n",
       "        vertical-align: top;\n",
       "    }\n",
       "\n",
       "    .dataframe thead th {\n",
       "        text-align: right;\n",
       "    }\n",
       "</style>\n",
       "<table border=\"1\" class=\"dataframe\">\n",
       "  <thead>\n",
       "    <tr style=\"text-align: right;\">\n",
       "      <th></th>\n",
       "      <th>test acc</th>\n",
       "      <th>test f1 score (W)</th>\n",
       "    </tr>\n",
       "  </thead>\n",
       "  <tbody>\n",
       "    <tr>\n",
       "      <th>KNN</th>\n",
       "      <td>0.959667</td>\n",
       "      <td>0.959219</td>\n",
       "    </tr>\n",
       "  </tbody>\n",
       "</table>\n",
       "</div>\n",
       "      <button class=\"colab-df-convert\" onclick=\"convertToInteractive('df-f6240a37-7618-455d-a5cf-0da80523b74a')\"\n",
       "              title=\"Convert this dataframe to an interactive table.\"\n",
       "              style=\"display:none;\">\n",
       "        \n",
       "  <svg xmlns=\"http://www.w3.org/2000/svg\" height=\"24px\"viewBox=\"0 0 24 24\"\n",
       "       width=\"24px\">\n",
       "    <path d=\"M0 0h24v24H0V0z\" fill=\"none\"/>\n",
       "    <path d=\"M18.56 5.44l.94 2.06.94-2.06 2.06-.94-2.06-.94-.94-2.06-.94 2.06-2.06.94zm-11 1L8.5 8.5l.94-2.06 2.06-.94-2.06-.94L8.5 2.5l-.94 2.06-2.06.94zm10 10l.94 2.06.94-2.06 2.06-.94-2.06-.94-.94-2.06-.94 2.06-2.06.94z\"/><path d=\"M17.41 7.96l-1.37-1.37c-.4-.4-.92-.59-1.43-.59-.52 0-1.04.2-1.43.59L10.3 9.45l-7.72 7.72c-.78.78-.78 2.05 0 2.83L4 21.41c.39.39.9.59 1.41.59.51 0 1.02-.2 1.41-.59l7.78-7.78 2.81-2.81c.8-.78.8-2.07 0-2.86zM5.41 20L4 18.59l7.72-7.72 1.47 1.35L5.41 20z\"/>\n",
       "  </svg>\n",
       "      </button>\n",
       "      \n",
       "  <style>\n",
       "    .colab-df-container {\n",
       "      display:flex;\n",
       "      flex-wrap:wrap;\n",
       "      gap: 12px;\n",
       "    }\n",
       "\n",
       "    .colab-df-convert {\n",
       "      background-color: #E8F0FE;\n",
       "      border: none;\n",
       "      border-radius: 50%;\n",
       "      cursor: pointer;\n",
       "      display: none;\n",
       "      fill: #1967D2;\n",
       "      height: 32px;\n",
       "      padding: 0 0 0 0;\n",
       "      width: 32px;\n",
       "    }\n",
       "\n",
       "    .colab-df-convert:hover {\n",
       "      background-color: #E2EBFA;\n",
       "      box-shadow: 0px 1px 2px rgba(60, 64, 67, 0.3), 0px 1px 3px 1px rgba(60, 64, 67, 0.15);\n",
       "      fill: #174EA6;\n",
       "    }\n",
       "\n",
       "    [theme=dark] .colab-df-convert {\n",
       "      background-color: #3B4455;\n",
       "      fill: #D2E3FC;\n",
       "    }\n",
       "\n",
       "    [theme=dark] .colab-df-convert:hover {\n",
       "      background-color: #434B5C;\n",
       "      box-shadow: 0px 1px 3px 1px rgba(0, 0, 0, 0.15);\n",
       "      filter: drop-shadow(0px 1px 2px rgba(0, 0, 0, 0.3));\n",
       "      fill: #FFFFFF;\n",
       "    }\n",
       "  </style>\n",
       "\n",
       "      <script>\n",
       "        const buttonEl =\n",
       "          document.querySelector('#df-f6240a37-7618-455d-a5cf-0da80523b74a button.colab-df-convert');\n",
       "        buttonEl.style.display =\n",
       "          google.colab.kernel.accessAllowed ? 'block' : 'none';\n",
       "\n",
       "        async function convertToInteractive(key) {\n",
       "          const element = document.querySelector('#df-f6240a37-7618-455d-a5cf-0da80523b74a');\n",
       "          const dataTable =\n",
       "            await google.colab.kernel.invokeFunction('convertToInteractive',\n",
       "                                                     [key], {});\n",
       "          if (!dataTable) return;\n",
       "\n",
       "          const docLinkHtml = 'Like what you see? Visit the ' +\n",
       "            '<a target=\"_blank\" href=https://colab.research.google.com/notebooks/data_table.ipynb>data table notebook</a>'\n",
       "            + ' to learn more about interactive tables.';\n",
       "          element.innerHTML = '';\n",
       "          dataTable['output_type'] = 'display_data';\n",
       "          await google.colab.output.renderOutput(dataTable, element);\n",
       "          const docLink = document.createElement('div');\n",
       "          docLink.innerHTML = docLinkHtml;\n",
       "          element.appendChild(docLink);\n",
       "        }\n",
       "      </script>\n",
       "    </div>\n",
       "  </div>\n",
       "  "
      ]
     },
     "metadata": {},
     "execution_count": 9
    }
   ]
  },
  {
   "cell_type": "markdown",
   "id": "eb18a83d",
   "metadata": {
    "id": "eb18a83d"
   },
   "source": []
  },
  {
   "cell_type": "markdown",
   "id": "eb119607",
   "metadata": {
    "id": "eb119607"
   },
   "source": [
    "# SVM"
   ]
  },
  {
   "cell_type": "code",
   "execution_count": 10,
   "id": "a80b9469",
   "metadata": {
    "id": "a80b9469",
    "ExecuteTime": {
     "end_time": "2023-05-08T12:56:07.352299032Z",
     "start_time": "2023-05-08T12:56:04.179478533Z"
    }
   },
   "outputs": [],
   "source": [
    "from sklearn.svm import SVC\n",
    "from sklearn.preprocessing import StandardScaler\n",
    "\n"
   ]
  },
  {
   "cell_type": "code",
   "execution_count": 11,
   "id": "32fde41d",
   "metadata": {
    "id": "32fde41d",
    "ExecuteTime": {
     "end_time": "2023-05-08T12:56:09.154400128Z",
     "start_time": "2023-05-08T12:56:07.384684202Z"
    }
   },
   "outputs": [],
   "source": [
    "#svm = SVC(kernel='rbf', gamma=0.0001, C = 10)\n",
    "#test_model_and_save_result(svm, \"SVM\", X_train, X_test, y_train, y_test, results_df)"
   ]
  },
  {
   "cell_type": "markdown",
   "source": [
    "# Random Forest"
   ],
   "metadata": {
    "id": "d6-fQM1-rNVb"
   },
   "id": "d6-fQM1-rNVb"
  },
  {
   "cell_type": "code",
   "source": [
    "from sklearn.ensemble import RandomForestClassifier\n",
    "from sklearn.datasets import make_classification"
   ],
   "metadata": {
    "id": "88SjR0VMruck",
    "ExecuteTime": {
     "end_time": "2023-05-08T13:10:24.685682523Z",
     "start_time": "2023-05-08T13:10:24.502016035Z"
    }
   },
   "id": "88SjR0VMruck",
   "execution_count": 12,
   "outputs": []
  },
  {
   "cell_type": "code",
   "source": [
    "rf = RandomForestClassifier(max_depth=200, random_state=10)\n",
    "test_model_and_save_result(rf, \"Random Forest\", X_train, X_test, y_train, y_test, results_df)"
   ],
   "metadata": {
    "id": "TM2z8jcjr1IB",
    "ExecuteTime": {
     "end_time": "2023-05-08T13:11:50.279644352Z",
     "start_time": "2023-05-08T13:10:26.351260449Z"
    }
   },
   "id": "TM2z8jcjr1IB",
   "execution_count": 13,
   "outputs": []
  },
  {
   "cell_type": "code",
   "source": [
    "from sklearn.ensemble import AdaBoostClassifier"
   ],
   "metadata": {
    "id": "UgSsBhJQpmrk"
   },
   "id": "UgSsBhJQpmrk",
   "execution_count": 14,
   "outputs": []
  },
  {
   "cell_type": "markdown",
   "source": [
    "# Bayes"
   ],
   "metadata": {
    "id": "L_4JWCqQK6OT"
   },
   "id": "L_4JWCqQK6OT"
  },
  {
   "cell_type": "code",
   "source": [
    "from sklearn.datasets import load_iris\n",
    "from sklearn.model_selection import train_test_split\n",
    "from sklearn.naive_bayes import GaussianNB\n",
    "gnb = GaussianNB()\n",
    "test_model_and_save_result(gnb, \"GaussianNB\", X_train, X_test, y_train, y_test, results_df)"
   ],
   "metadata": {
    "id": "AEhD-5-qK9GY"
   },
   "id": "AEhD-5-qK9GY",
   "execution_count": 15,
   "outputs": []
  },
  {
   "cell_type": "markdown",
   "source": [
    "# Desition tree"
   ],
   "metadata": {
    "id": "1W2iR2LCLjyw"
   },
   "id": "1W2iR2LCLjyw"
  },
  {
   "cell_type": "code",
   "source": [
    "\n",
    "from sklearn.tree import DecisionTreeClassifier\n",
    "from sklearn.tree import export_text\n",
    "\n",
    "\n",
    "decision_tree = DecisionTreeClassifier(random_state=2, max_depth=20)\n",
    "\n",
    "test_model_and_save_result(decision_tree, \"Decision_tree\", X_train, X_test, y_train, y_test, results_df)"
   ],
   "metadata": {
    "id": "1ba6r6IALE-5"
   },
   "id": "1ba6r6IALE-5",
   "execution_count": 16,
   "outputs": []
  },
  {
   "cell_type": "markdown",
   "source": [
    "# AdaBoost"
   ],
   "metadata": {
    "id": "azdBxB2jr8dT"
   },
   "id": "azdBxB2jr8dT"
  },
  {
   "cell_type": "code",
   "source": [
    "ABC = AdaBoostClassifier(n_estimators=200,\n",
    "                         estimator = decision_tree,\n",
    "                         learning_rate=1, \n",
    "                         random_state=23)\n",
    "test_model_and_save_result(ABC, \"AdaBoost\", X_train, X_test, y_train, y_test, results_df)"
   ],
   "metadata": {
    "id": "vzZ2vfavpoWS"
   },
   "id": "vzZ2vfavpoWS",
   "execution_count": 17,
   "outputs": []
  },
  {
   "cell_type": "markdown",
   "source": [
    "## Show results:"
   ],
   "metadata": {
    "collapsed": false,
    "id": "KKCYqoqn9_ab"
   },
   "id": "KKCYqoqn9_ab"
  },
  {
   "cell_type": "code",
   "execution_count": 18,
   "outputs": [
    {
     "output_type": "execute_result",
     "data": {
      "text/plain": [
       "               test acc  test f1 score (W)\n",
       "AdaBoost       0.991997           0.991941\n",
       "Random Forest  0.986876           0.986760\n",
       "KNN            0.959667           0.959219\n",
       "Decision_tree  0.958387           0.958062\n",
       "GaussianNB     0.366965           0.248833"
      ],
      "text/html": [
       "\n",
       "  <div id=\"df-68c321d7-80f4-47b7-80e6-8658a09f7fd9\">\n",
       "    <div class=\"colab-df-container\">\n",
       "      <div>\n",
       "<style scoped>\n",
       "    .dataframe tbody tr th:only-of-type {\n",
       "        vertical-align: middle;\n",
       "    }\n",
       "\n",
       "    .dataframe tbody tr th {\n",
       "        vertical-align: top;\n",
       "    }\n",
       "\n",
       "    .dataframe thead th {\n",
       "        text-align: right;\n",
       "    }\n",
       "</style>\n",
       "<table border=\"1\" class=\"dataframe\">\n",
       "  <thead>\n",
       "    <tr style=\"text-align: right;\">\n",
       "      <th></th>\n",
       "      <th>test acc</th>\n",
       "      <th>test f1 score (W)</th>\n",
       "    </tr>\n",
       "  </thead>\n",
       "  <tbody>\n",
       "    <tr>\n",
       "      <th>AdaBoost</th>\n",
       "      <td>0.991997</td>\n",
       "      <td>0.991941</td>\n",
       "    </tr>\n",
       "    <tr>\n",
       "      <th>Random Forest</th>\n",
       "      <td>0.986876</td>\n",
       "      <td>0.986760</td>\n",
       "    </tr>\n",
       "    <tr>\n",
       "      <th>KNN</th>\n",
       "      <td>0.959667</td>\n",
       "      <td>0.959219</td>\n",
       "    </tr>\n",
       "    <tr>\n",
       "      <th>Decision_tree</th>\n",
       "      <td>0.958387</td>\n",
       "      <td>0.958062</td>\n",
       "    </tr>\n",
       "    <tr>\n",
       "      <th>GaussianNB</th>\n",
       "      <td>0.366965</td>\n",
       "      <td>0.248833</td>\n",
       "    </tr>\n",
       "  </tbody>\n",
       "</table>\n",
       "</div>\n",
       "      <button class=\"colab-df-convert\" onclick=\"convertToInteractive('df-68c321d7-80f4-47b7-80e6-8658a09f7fd9')\"\n",
       "              title=\"Convert this dataframe to an interactive table.\"\n",
       "              style=\"display:none;\">\n",
       "        \n",
       "  <svg xmlns=\"http://www.w3.org/2000/svg\" height=\"24px\"viewBox=\"0 0 24 24\"\n",
       "       width=\"24px\">\n",
       "    <path d=\"M0 0h24v24H0V0z\" fill=\"none\"/>\n",
       "    <path d=\"M18.56 5.44l.94 2.06.94-2.06 2.06-.94-2.06-.94-.94-2.06-.94 2.06-2.06.94zm-11 1L8.5 8.5l.94-2.06 2.06-.94-2.06-.94L8.5 2.5l-.94 2.06-2.06.94zm10 10l.94 2.06.94-2.06 2.06-.94-2.06-.94-.94-2.06-.94 2.06-2.06.94z\"/><path d=\"M17.41 7.96l-1.37-1.37c-.4-.4-.92-.59-1.43-.59-.52 0-1.04.2-1.43.59L10.3 9.45l-7.72 7.72c-.78.78-.78 2.05 0 2.83L4 21.41c.39.39.9.59 1.41.59.51 0 1.02-.2 1.41-.59l7.78-7.78 2.81-2.81c.8-.78.8-2.07 0-2.86zM5.41 20L4 18.59l7.72-7.72 1.47 1.35L5.41 20z\"/>\n",
       "  </svg>\n",
       "      </button>\n",
       "      \n",
       "  <style>\n",
       "    .colab-df-container {\n",
       "      display:flex;\n",
       "      flex-wrap:wrap;\n",
       "      gap: 12px;\n",
       "    }\n",
       "\n",
       "    .colab-df-convert {\n",
       "      background-color: #E8F0FE;\n",
       "      border: none;\n",
       "      border-radius: 50%;\n",
       "      cursor: pointer;\n",
       "      display: none;\n",
       "      fill: #1967D2;\n",
       "      height: 32px;\n",
       "      padding: 0 0 0 0;\n",
       "      width: 32px;\n",
       "    }\n",
       "\n",
       "    .colab-df-convert:hover {\n",
       "      background-color: #E2EBFA;\n",
       "      box-shadow: 0px 1px 2px rgba(60, 64, 67, 0.3), 0px 1px 3px 1px rgba(60, 64, 67, 0.15);\n",
       "      fill: #174EA6;\n",
       "    }\n",
       "\n",
       "    [theme=dark] .colab-df-convert {\n",
       "      background-color: #3B4455;\n",
       "      fill: #D2E3FC;\n",
       "    }\n",
       "\n",
       "    [theme=dark] .colab-df-convert:hover {\n",
       "      background-color: #434B5C;\n",
       "      box-shadow: 0px 1px 3px 1px rgba(0, 0, 0, 0.15);\n",
       "      filter: drop-shadow(0px 1px 2px rgba(0, 0, 0, 0.3));\n",
       "      fill: #FFFFFF;\n",
       "    }\n",
       "  </style>\n",
       "\n",
       "      <script>\n",
       "        const buttonEl =\n",
       "          document.querySelector('#df-68c321d7-80f4-47b7-80e6-8658a09f7fd9 button.colab-df-convert');\n",
       "        buttonEl.style.display =\n",
       "          google.colab.kernel.accessAllowed ? 'block' : 'none';\n",
       "\n",
       "        async function convertToInteractive(key) {\n",
       "          const element = document.querySelector('#df-68c321d7-80f4-47b7-80e6-8658a09f7fd9');\n",
       "          const dataTable =\n",
       "            await google.colab.kernel.invokeFunction('convertToInteractive',\n",
       "                                                     [key], {});\n",
       "          if (!dataTable) return;\n",
       "\n",
       "          const docLinkHtml = 'Like what you see? Visit the ' +\n",
       "            '<a target=\"_blank\" href=https://colab.research.google.com/notebooks/data_table.ipynb>data table notebook</a>'\n",
       "            + ' to learn more about interactive tables.';\n",
       "          element.innerHTML = '';\n",
       "          dataTable['output_type'] = 'display_data';\n",
       "          await google.colab.output.renderOutput(dataTable, element);\n",
       "          const docLink = document.createElement('div');\n",
       "          docLink.innerHTML = docLinkHtml;\n",
       "          element.appendChild(docLink);\n",
       "        }\n",
       "      </script>\n",
       "    </div>\n",
       "  </div>\n",
       "  "
      ]
     },
     "metadata": {},
     "execution_count": 18
    }
   ],
   "source": [
    "results_df.sort_values(by=['test acc'], ascending=False)\n",
    "\n"
   ],
   "metadata": {
    "ExecuteTime": {
     "end_time": "2023-05-08T13:11:52.294071909Z",
     "start_time": "2023-05-08T13:11:52.282764351Z"
    },
    "colab": {
     "base_uri": "https://localhost:8080/",
     "height": 204
    },
    "id": "UU7Ug8jp9_ab",
    "outputId": "d9c07781-0ed0-42ca-afb5-457cbfcc3dd6"
   },
   "id": "UU7Ug8jp9_ab"
  },
  {
   "cell_type": "markdown",
   "source": [
    "# Majority vore role class\n",
    "\n",
    "\n",
    "\n",
    "> Blocco con rientro\n",
    "\n"
   ],
   "metadata": {
    "id": "NDXUFWNn2cXL"
   },
   "id": "NDXUFWNn2cXL"
  },
  {
   "cell_type": "code",
   "source": [
    "results_df_class_mvr = pd.DataFrame()\n",
    "X_train, X_test, y_train, y_test = get_class_test_traingi_set(0.20)"
   ],
   "metadata": {
    "id": "I9si1txX2cXN"
   },
   "execution_count": 19,
   "outputs": [],
   "id": "I9si1txX2cXN"
  },
  {
   "cell_type": "code",
   "source": [
    "rf = RandomForestClassifier(max_depth=200, random_state=10)\n",
    "test_model_and_save_result(rf, \"Random Forest\", X_train, X_test, y_train, y_test, results_df_class_mvr)"
   ],
   "metadata": {
    "id": "ZL5nBf7K5ugu"
   },
   "id": "ZL5nBf7K5ugu",
   "execution_count": 20,
   "outputs": []
  },
  {
   "cell_type": "code",
   "source": [
    "knn = KNeighborsClassifier(n_neighbors=1)\n",
    "test_model_and_save_result(knn, \"KNN\", X_train, X_test, y_train, y_test, results_df_class_mvr)"
   ],
   "metadata": {
    "id": "X-Mfohs75qPX"
   },
   "id": "X-Mfohs75qPX",
   "execution_count": 21,
   "outputs": []
  },
  {
   "cell_type": "code",
   "source": [
    "svm = SVC(kernel='rbf', gamma=0.0001, C = 10)\n",
    "test_model_and_save_result(svm, \"SVM\", X_train, X_test, y_train, y_test, results_df_class_mvr)"
   ],
   "metadata": {
    "id": "qLD0UBqc5oc-"
   },
   "id": "qLD0UBqc5oc-",
   "execution_count": 22,
   "outputs": []
  },
  {
   "cell_type": "code",
   "source": [
    "results_df_class_mvr.sort_values(by=['test acc'], ascending=False)"
   ],
   "metadata": {
    "colab": {
     "base_uri": "https://localhost:8080/",
     "height": 142
    },
    "outputId": "4afc3f7c-6f2e-4082-a5e5-2e2b8d243b10",
    "id": "rzdgLaWQ2cXO"
   },
   "execution_count": 23,
   "outputs": [
    {
     "output_type": "execute_result",
     "data": {
      "text/plain": [
       "               test acc  test f1 score (W)\n",
       "Random Forest  0.986876           0.986760\n",
       "SVM            0.978553           0.978358\n",
       "KNN            0.959667           0.959219"
      ],
      "text/html": [
       "\n",
       "  <div id=\"df-74f38191-3d30-4762-ab05-67ddb4c84102\">\n",
       "    <div class=\"colab-df-container\">\n",
       "      <div>\n",
       "<style scoped>\n",
       "    .dataframe tbody tr th:only-of-type {\n",
       "        vertical-align: middle;\n",
       "    }\n",
       "\n",
       "    .dataframe tbody tr th {\n",
       "        vertical-align: top;\n",
       "    }\n",
       "\n",
       "    .dataframe thead th {\n",
       "        text-align: right;\n",
       "    }\n",
       "</style>\n",
       "<table border=\"1\" class=\"dataframe\">\n",
       "  <thead>\n",
       "    <tr style=\"text-align: right;\">\n",
       "      <th></th>\n",
       "      <th>test acc</th>\n",
       "      <th>test f1 score (W)</th>\n",
       "    </tr>\n",
       "  </thead>\n",
       "  <tbody>\n",
       "    <tr>\n",
       "      <th>Random Forest</th>\n",
       "      <td>0.986876</td>\n",
       "      <td>0.986760</td>\n",
       "    </tr>\n",
       "    <tr>\n",
       "      <th>SVM</th>\n",
       "      <td>0.978553</td>\n",
       "      <td>0.978358</td>\n",
       "    </tr>\n",
       "    <tr>\n",
       "      <th>KNN</th>\n",
       "      <td>0.959667</td>\n",
       "      <td>0.959219</td>\n",
       "    </tr>\n",
       "  </tbody>\n",
       "</table>\n",
       "</div>\n",
       "      <button class=\"colab-df-convert\" onclick=\"convertToInteractive('df-74f38191-3d30-4762-ab05-67ddb4c84102')\"\n",
       "              title=\"Convert this dataframe to an interactive table.\"\n",
       "              style=\"display:none;\">\n",
       "        \n",
       "  <svg xmlns=\"http://www.w3.org/2000/svg\" height=\"24px\"viewBox=\"0 0 24 24\"\n",
       "       width=\"24px\">\n",
       "    <path d=\"M0 0h24v24H0V0z\" fill=\"none\"/>\n",
       "    <path d=\"M18.56 5.44l.94 2.06.94-2.06 2.06-.94-2.06-.94-.94-2.06-.94 2.06-2.06.94zm-11 1L8.5 8.5l.94-2.06 2.06-.94-2.06-.94L8.5 2.5l-.94 2.06-2.06.94zm10 10l.94 2.06.94-2.06 2.06-.94-2.06-.94-.94-2.06-.94 2.06-2.06.94z\"/><path d=\"M17.41 7.96l-1.37-1.37c-.4-.4-.92-.59-1.43-.59-.52 0-1.04.2-1.43.59L10.3 9.45l-7.72 7.72c-.78.78-.78 2.05 0 2.83L4 21.41c.39.39.9.59 1.41.59.51 0 1.02-.2 1.41-.59l7.78-7.78 2.81-2.81c.8-.78.8-2.07 0-2.86zM5.41 20L4 18.59l7.72-7.72 1.47 1.35L5.41 20z\"/>\n",
       "  </svg>\n",
       "      </button>\n",
       "      \n",
       "  <style>\n",
       "    .colab-df-container {\n",
       "      display:flex;\n",
       "      flex-wrap:wrap;\n",
       "      gap: 12px;\n",
       "    }\n",
       "\n",
       "    .colab-df-convert {\n",
       "      background-color: #E8F0FE;\n",
       "      border: none;\n",
       "      border-radius: 50%;\n",
       "      cursor: pointer;\n",
       "      display: none;\n",
       "      fill: #1967D2;\n",
       "      height: 32px;\n",
       "      padding: 0 0 0 0;\n",
       "      width: 32px;\n",
       "    }\n",
       "\n",
       "    .colab-df-convert:hover {\n",
       "      background-color: #E2EBFA;\n",
       "      box-shadow: 0px 1px 2px rgba(60, 64, 67, 0.3), 0px 1px 3px 1px rgba(60, 64, 67, 0.15);\n",
       "      fill: #174EA6;\n",
       "    }\n",
       "\n",
       "    [theme=dark] .colab-df-convert {\n",
       "      background-color: #3B4455;\n",
       "      fill: #D2E3FC;\n",
       "    }\n",
       "\n",
       "    [theme=dark] .colab-df-convert:hover {\n",
       "      background-color: #434B5C;\n",
       "      box-shadow: 0px 1px 3px 1px rgba(0, 0, 0, 0.15);\n",
       "      filter: drop-shadow(0px 1px 2px rgba(0, 0, 0, 0.3));\n",
       "      fill: #FFFFFF;\n",
       "    }\n",
       "  </style>\n",
       "\n",
       "      <script>\n",
       "        const buttonEl =\n",
       "          document.querySelector('#df-74f38191-3d30-4762-ab05-67ddb4c84102 button.colab-df-convert');\n",
       "        buttonEl.style.display =\n",
       "          google.colab.kernel.accessAllowed ? 'block' : 'none';\n",
       "\n",
       "        async function convertToInteractive(key) {\n",
       "          const element = document.querySelector('#df-74f38191-3d30-4762-ab05-67ddb4c84102');\n",
       "          const dataTable =\n",
       "            await google.colab.kernel.invokeFunction('convertToInteractive',\n",
       "                                                     [key], {});\n",
       "          if (!dataTable) return;\n",
       "\n",
       "          const docLinkHtml = 'Like what you see? Visit the ' +\n",
       "            '<a target=\"_blank\" href=https://colab.research.google.com/notebooks/data_table.ipynb>data table notebook</a>'\n",
       "            + ' to learn more about interactive tables.';\n",
       "          element.innerHTML = '';\n",
       "          dataTable['output_type'] = 'display_data';\n",
       "          await google.colab.output.renderOutput(dataTable, element);\n",
       "          const docLink = document.createElement('div');\n",
       "          docLink.innerHTML = docLinkHtml;\n",
       "          element.appendChild(docLink);\n",
       "        }\n",
       "      </script>\n",
       "    </div>\n",
       "  </div>\n",
       "  "
      ]
     },
     "metadata": {},
     "execution_count": 23
    }
   ],
   "id": "rzdgLaWQ2cXO"
  },
  {
   "cell_type": "code",
   "source": [
    "\n",
    "majority_vote_role([rf, svm, knn], X_test, y_test)"
   ],
   "metadata": {
    "colab": {
     "base_uri": "https://localhost:8080/"
    },
    "outputId": "aa1f215e-eefa-485c-aa20-227f89037261",
    "id": "Mo1AkWDs2cXO"
   },
   "execution_count": 24,
   "outputs": [
    {
     "output_type": "execute_result",
     "data": {
      "text/plain": [
       "0.9838028169014085"
      ]
     },
     "metadata": {},
     "execution_count": 24
    }
   ],
   "id": "Mo1AkWDs2cXO"
  },
  {
   "cell_type": "markdown",
   "source": [
    "# Cuser part"
   ],
   "metadata": {
    "id": "hzVgqDlS3-Nj"
   },
   "id": "hzVgqDlS3-Nj"
  },
  {
   "cell_type": "code",
   "execution_count": 25,
   "outputs": [],
   "source": [
    "\n",
    "results_df_user = pd.DataFrame()\n",
    "X_train, X_test, y_train, y_test = get_user_test_traingi_set(0.20)"
   ],
   "metadata": {
    "id": "z62gnWK39_ac"
   },
   "id": "z62gnWK39_ac"
  },
  {
   "cell_type": "code",
   "source": [
    "#svm = SVC(kernel='rbf', gamma=0.0001, C = 10)\n",
    "#test_model_and_save_result(svm, \"SVM\", X_train, X_test, y_train, y_test, results_df_user)"
   ],
   "metadata": {
    "id": "ufahV6XnQ9FQ"
   },
   "id": "ufahV6XnQ9FQ",
   "execution_count": 26,
   "outputs": []
  },
  {
   "cell_type": "code",
   "source": [
    "knn = KNeighborsClassifier(n_neighbors=1)\n",
    "test_model_and_save_result(knn, \"KNN\", X_train, X_test, y_train, y_test, results_df_user)"
   ],
   "metadata": {
    "id": "pmOFI6QyQwbj"
   },
   "id": "pmOFI6QyQwbj",
   "execution_count": 27,
   "outputs": []
  },
  {
   "cell_type": "code",
   "source": [
    "rf = RandomForestClassifier(max_depth=200, random_state=10)\n",
    "test_model_and_save_result(rf, \"Random Forest\", X_train, X_test, y_train, y_test, results_df_user)"
   ],
   "metadata": {
    "id": "6YJ2nX4VRDrs"
   },
   "id": "6YJ2nX4VRDrs",
   "execution_count": 28,
   "outputs": []
  },
  {
   "cell_type": "code",
   "source": [
    "decision_tree = DecisionTreeClassifier(random_state=0, max_depth=20)\n",
    "test_model_and_save_result(decision_tree, \"Decision_tree\", X_train, X_test, y_train, y_test, results_df_user)"
   ],
   "metadata": {
    "id": "0Wvf25mgRGU5"
   },
   "id": "0Wvf25mgRGU5",
   "execution_count": 29,
   "outputs": []
  },
  {
   "cell_type": "code",
   "source": [
    "gnb = GaussianNB()\n",
    "test_model_and_save_result(gnb, \"GaussianNB\", X_train, X_test, y_train, y_test, results_df_user)"
   ],
   "metadata": {
    "id": "OC9AVgBIRKbT"
   },
   "id": "OC9AVgBIRKbT",
   "execution_count": 30,
   "outputs": []
  },
  {
   "cell_type": "code",
   "source": [
    "ABC = AdaBoostClassifier(n_estimators=200,\n",
    "                         estimator = decision_tree,\n",
    "                         learning_rate=1, \n",
    "                         random_state=23)\n",
    "test_model_and_save_result(ABC, \"AdaBoost\", X_train, X_test, y_train, y_test, results_df_user)"
   ],
   "metadata": {
    "id": "X6z1b2sVwElR"
   },
   "id": "X6z1b2sVwElR",
   "execution_count": 31,
   "outputs": []
  },
  {
   "cell_type": "code",
   "source": [
    "results_df_user.sort_values(by=['test acc'], ascending=False)\n"
   ],
   "metadata": {
    "colab": {
     "base_uri": "https://localhost:8080/",
     "height": 204
    },
    "id": "0gu_lTq6Rwzn",
    "outputId": "c909c87e-592d-4936-c712-753a571e2339"
   },
   "id": "0gu_lTq6Rwzn",
   "execution_count": 32,
   "outputs": [
    {
     "data": {
      "text/html": [
       "\n",
       "  <div id=\"df-27eba56c-a3da-4d0f-b2b5-e3582bfc871f\">\n",
       "    <div class=\"colab-df-container\">\n",
       "      <div>\n",
       "<style scoped>\n",
       "    .dataframe tbody tr th:only-of-type {\n",
       "        vertical-align: middle;\n",
       "    }\n",
       "\n",
       "    .dataframe tbody tr th {\n",
       "        vertical-align: top;\n",
       "    }\n",
       "\n",
       "    .dataframe thead th {\n",
       "        text-align: right;\n",
       "    }\n",
       "</style>\n",
       "<table border=\"1\" class=\"dataframe\">\n",
       "  <thead>\n",
       "    <tr style=\"text-align: right;\">\n",
       "      <th></th>\n",
       "      <th>test acc</th>\n",
       "      <th>test f1 score (W)</th>\n",
       "    </tr>\n",
       "  </thead>\n",
       "  <tbody>\n",
       "    <tr>\n",
       "      <th>AdaBoost</th>\n",
       "      <td>0.989757</td>\n",
       "      <td>0.950960</td>\n",
       "    </tr>\n",
       "    <tr>\n",
       "      <th>Random Forest</th>\n",
       "      <td>0.983931</td>\n",
       "      <td>0.930375</td>\n",
       "    </tr>\n",
       "    <tr>\n",
       "      <th>Decision_tree</th>\n",
       "      <td>0.900960</td>\n",
       "      <td>0.833709</td>\n",
       "    </tr>\n",
       "    <tr>\n",
       "      <th>KNN</th>\n",
       "      <td>0.864661</td>\n",
       "      <td>0.796469</td>\n",
       "    </tr>\n",
       "    <tr>\n",
       "      <th>GaussianNB</th>\n",
       "      <td>0.121447</td>\n",
       "      <td>0.090120</td>\n",
       "    </tr>\n",
       "  </tbody>\n",
       "</table>\n",
       "</div>\n",
       "      <button class=\"colab-df-convert\" onclick=\"convertToInteractive('df-27eba56c-a3da-4d0f-b2b5-e3582bfc871f')\"\n",
       "              title=\"Convert this dataframe to an interactive table.\"\n",
       "              style=\"display:none;\">\n",
       "        \n",
       "  <svg xmlns=\"http://www.w3.org/2000/svg\" height=\"24px\"viewBox=\"0 0 24 24\"\n",
       "       width=\"24px\">\n",
       "    <path d=\"M0 0h24v24H0V0z\" fill=\"none\"/>\n",
       "    <path d=\"M18.56 5.44l.94 2.06.94-2.06 2.06-.94-2.06-.94-.94-2.06-.94 2.06-2.06.94zm-11 1L8.5 8.5l.94-2.06 2.06-.94-2.06-.94L8.5 2.5l-.94 2.06-2.06.94zm10 10l.94 2.06.94-2.06 2.06-.94-2.06-.94-.94-2.06-.94 2.06-2.06.94z\"/><path d=\"M17.41 7.96l-1.37-1.37c-.4-.4-.92-.59-1.43-.59-.52 0-1.04.2-1.43.59L10.3 9.45l-7.72 7.72c-.78.78-.78 2.05 0 2.83L4 21.41c.39.39.9.59 1.41.59.51 0 1.02-.2 1.41-.59l7.78-7.78 2.81-2.81c.8-.78.8-2.07 0-2.86zM5.41 20L4 18.59l7.72-7.72 1.47 1.35L5.41 20z\"/>\n",
       "  </svg>\n",
       "      </button>\n",
       "      \n",
       "  <style>\n",
       "    .colab-df-container {\n",
       "      display:flex;\n",
       "      flex-wrap:wrap;\n",
       "      gap: 12px;\n",
       "    }\n",
       "\n",
       "    .colab-df-convert {\n",
       "      background-color: #E8F0FE;\n",
       "      border: none;\n",
       "      border-radius: 50%;\n",
       "      cursor: pointer;\n",
       "      display: none;\n",
       "      fill: #1967D2;\n",
       "      height: 32px;\n",
       "      padding: 0 0 0 0;\n",
       "      width: 32px;\n",
       "    }\n",
       "\n",
       "    .colab-df-convert:hover {\n",
       "      background-color: #E2EBFA;\n",
       "      box-shadow: 0px 1px 2px rgba(60, 64, 67, 0.3), 0px 1px 3px 1px rgba(60, 64, 67, 0.15);\n",
       "      fill: #174EA6;\n",
       "    }\n",
       "\n",
       "    [theme=dark] .colab-df-convert {\n",
       "      background-color: #3B4455;\n",
       "      fill: #D2E3FC;\n",
       "    }\n",
       "\n",
       "    [theme=dark] .colab-df-convert:hover {\n",
       "      background-color: #434B5C;\n",
       "      box-shadow: 0px 1px 3px 1px rgba(0, 0, 0, 0.15);\n",
       "      filter: drop-shadow(0px 1px 2px rgba(0, 0, 0, 0.3));\n",
       "      fill: #FFFFFF;\n",
       "    }\n",
       "  </style>\n",
       "\n",
       "      <script>\n",
       "        const buttonEl =\n",
       "          document.querySelector('#df-27eba56c-a3da-4d0f-b2b5-e3582bfc871f button.colab-df-convert');\n",
       "        buttonEl.style.display =\n",
       "          google.colab.kernel.accessAllowed ? 'block' : 'none';\n",
       "\n",
       "        async function convertToInteractive(key) {\n",
       "          const element = document.querySelector('#df-27eba56c-a3da-4d0f-b2b5-e3582bfc871f');\n",
       "          const dataTable =\n",
       "            await google.colab.kernel.invokeFunction('convertToInteractive',\n",
       "                                                     [key], {});\n",
       "          if (!dataTable) return;\n",
       "\n",
       "          const docLinkHtml = 'Like what you see? Visit the ' +\n",
       "            '<a target=\"_blank\" href=https://colab.research.google.com/notebooks/data_table.ipynb>data table notebook</a>'\n",
       "            + ' to learn more about interactive tables.';\n",
       "          element.innerHTML = '';\n",
       "          dataTable['output_type'] = 'display_data';\n",
       "          await google.colab.output.renderOutput(dataTable, element);\n",
       "          const docLink = document.createElement('div');\n",
       "          docLink.innerHTML = docLinkHtml;\n",
       "          element.appendChild(docLink);\n",
       "        }\n",
       "      </script>\n",
       "    </div>\n",
       "  </div>\n",
       "  "
      ],
      "text/plain": [
       "               test acc  test f1 score (W)\n",
       "AdaBoost       0.989757           0.950960\n",
       "Random Forest  0.983931           0.930375\n",
       "Decision_tree  0.900960           0.833709\n",
       "KNN            0.864661           0.796469\n",
       "GaussianNB     0.121447           0.090120"
      ]
     },
     "execution_count": 32,
     "metadata": {},
     "output_type": "execute_result"
    }
   ]
  },
  {
   "cell_type": "markdown",
   "source": [
    "# Majority vore role user\n",
    "\n",
    "\n",
    "\n",
    "> Blocco con rientro\n",
    "\n"
   ],
   "metadata": {
    "id": "malKoZQCjhD1"
   },
   "id": "malKoZQCjhD1"
  },
  {
   "cell_type": "code",
   "source": [
    "results_df_user_mvr = pd.DataFrame()\n",
    "\n",
    "X_train, X_test, y_train, y_test = get_user_test_traingi_set(0.20)\n",
    "\n",
    "rf1 = RandomForestClassifier(max_depth=200, random_state=10)\n",
    "test_model_and_save_result(rf1, \"Random Forest1\", X_train[:len(y_train)//2], X_test, y_train[:len(y_train)//2], y_test, results_df_user_mvr)\n",
    "\n",
    "rf2 = RandomForestClassifier(max_depth=100, random_state=25)\n",
    "test_model_and_save_result(rf2, \"Random Forest2\", X_train[len(y_train)//2:], X_test, y_train[len(y_train)//2:], y_test, results_df_user_mvr)\n",
    "\n",
    "knn = KNeighborsClassifier(n_neighbors=1)\n",
    "test_model_and_save_result(knn, \"KNN\", X_train, X_test, y_train, y_test, results_df_user_mvr)\n",
    "\n",
    "svm = SVC(kernel='rbf', gamma=0.0001, C = 10)\n",
    "test_model_and_save_result(svm, \"SVM\", X_train, X_test, y_train, y_test, results_df_user_mvr)\n",
    "\n"
   ],
   "metadata": {
    "id": "GQjlhy5CBKuE"
   },
   "id": "GQjlhy5CBKuE",
   "execution_count": 33,
   "outputs": []
  },
  {
   "cell_type": "code",
   "source": [
    "results_df_user_mvr.sort_values(by=['test acc'], ascending=False)"
   ],
   "metadata": {
    "id": "Tbb38RJsvUXH",
    "colab": {
     "base_uri": "https://localhost:8080/",
     "height": 173
    },
    "outputId": "51f43562-28a6-4cde-957f-f4488a3ee8d4"
   },
   "id": "Tbb38RJsvUXH",
   "execution_count": 34,
   "outputs": [
    {
     "data": {
      "text/html": [
       "\n",
       "  <div id=\"df-e960e710-25ff-4b66-aa5e-adc9f5b4b819\">\n",
       "    <div class=\"colab-df-container\">\n",
       "      <div>\n",
       "<style scoped>\n",
       "    .dataframe tbody tr th:only-of-type {\n",
       "        vertical-align: middle;\n",
       "    }\n",
       "\n",
       "    .dataframe tbody tr th {\n",
       "        vertical-align: top;\n",
       "    }\n",
       "\n",
       "    .dataframe thead th {\n",
       "        text-align: right;\n",
       "    }\n",
       "</style>\n",
       "<table border=\"1\" class=\"dataframe\">\n",
       "  <thead>\n",
       "    <tr style=\"text-align: right;\">\n",
       "      <th></th>\n",
       "      <th>test acc</th>\n",
       "      <th>test f1 score (W)</th>\n",
       "    </tr>\n",
       "  </thead>\n",
       "  <tbody>\n",
       "    <tr>\n",
       "      <th>Random Forest2</th>\n",
       "      <td>0.970551</td>\n",
       "      <td>0.895484</td>\n",
       "    </tr>\n",
       "    <tr>\n",
       "      <th>Random Forest1</th>\n",
       "      <td>0.970294</td>\n",
       "      <td>0.889484</td>\n",
       "    </tr>\n",
       "    <tr>\n",
       "      <th>SVM</th>\n",
       "      <td>0.940589</td>\n",
       "      <td>0.888089</td>\n",
       "    </tr>\n",
       "    <tr>\n",
       "      <th>KNN</th>\n",
       "      <td>0.864661</td>\n",
       "      <td>0.796469</td>\n",
       "    </tr>\n",
       "  </tbody>\n",
       "</table>\n",
       "</div>\n",
       "      <button class=\"colab-df-convert\" onclick=\"convertToInteractive('df-e960e710-25ff-4b66-aa5e-adc9f5b4b819')\"\n",
       "              title=\"Convert this dataframe to an interactive table.\"\n",
       "              style=\"display:none;\">\n",
       "        \n",
       "  <svg xmlns=\"http://www.w3.org/2000/svg\" height=\"24px\"viewBox=\"0 0 24 24\"\n",
       "       width=\"24px\">\n",
       "    <path d=\"M0 0h24v24H0V0z\" fill=\"none\"/>\n",
       "    <path d=\"M18.56 5.44l.94 2.06.94-2.06 2.06-.94-2.06-.94-.94-2.06-.94 2.06-2.06.94zm-11 1L8.5 8.5l.94-2.06 2.06-.94-2.06-.94L8.5 2.5l-.94 2.06-2.06.94zm10 10l.94 2.06.94-2.06 2.06-.94-2.06-.94-.94-2.06-.94 2.06-2.06.94z\"/><path d=\"M17.41 7.96l-1.37-1.37c-.4-.4-.92-.59-1.43-.59-.52 0-1.04.2-1.43.59L10.3 9.45l-7.72 7.72c-.78.78-.78 2.05 0 2.83L4 21.41c.39.39.9.59 1.41.59.51 0 1.02-.2 1.41-.59l7.78-7.78 2.81-2.81c.8-.78.8-2.07 0-2.86zM5.41 20L4 18.59l7.72-7.72 1.47 1.35L5.41 20z\"/>\n",
       "  </svg>\n",
       "      </button>\n",
       "      \n",
       "  <style>\n",
       "    .colab-df-container {\n",
       "      display:flex;\n",
       "      flex-wrap:wrap;\n",
       "      gap: 12px;\n",
       "    }\n",
       "\n",
       "    .colab-df-convert {\n",
       "      background-color: #E8F0FE;\n",
       "      border: none;\n",
       "      border-radius: 50%;\n",
       "      cursor: pointer;\n",
       "      display: none;\n",
       "      fill: #1967D2;\n",
       "      height: 32px;\n",
       "      padding: 0 0 0 0;\n",
       "      width: 32px;\n",
       "    }\n",
       "\n",
       "    .colab-df-convert:hover {\n",
       "      background-color: #E2EBFA;\n",
       "      box-shadow: 0px 1px 2px rgba(60, 64, 67, 0.3), 0px 1px 3px 1px rgba(60, 64, 67, 0.15);\n",
       "      fill: #174EA6;\n",
       "    }\n",
       "\n",
       "    [theme=dark] .colab-df-convert {\n",
       "      background-color: #3B4455;\n",
       "      fill: #D2E3FC;\n",
       "    }\n",
       "\n",
       "    [theme=dark] .colab-df-convert:hover {\n",
       "      background-color: #434B5C;\n",
       "      box-shadow: 0px 1px 3px 1px rgba(0, 0, 0, 0.15);\n",
       "      filter: drop-shadow(0px 1px 2px rgba(0, 0, 0, 0.3));\n",
       "      fill: #FFFFFF;\n",
       "    }\n",
       "  </style>\n",
       "\n",
       "      <script>\n",
       "        const buttonEl =\n",
       "          document.querySelector('#df-e960e710-25ff-4b66-aa5e-adc9f5b4b819 button.colab-df-convert');\n",
       "        buttonEl.style.display =\n",
       "          google.colab.kernel.accessAllowed ? 'block' : 'none';\n",
       "\n",
       "        async function convertToInteractive(key) {\n",
       "          const element = document.querySelector('#df-e960e710-25ff-4b66-aa5e-adc9f5b4b819');\n",
       "          const dataTable =\n",
       "            await google.colab.kernel.invokeFunction('convertToInteractive',\n",
       "                                                     [key], {});\n",
       "          if (!dataTable) return;\n",
       "\n",
       "          const docLinkHtml = 'Like what you see? Visit the ' +\n",
       "            '<a target=\"_blank\" href=https://colab.research.google.com/notebooks/data_table.ipynb>data table notebook</a>'\n",
       "            + ' to learn more about interactive tables.';\n",
       "          element.innerHTML = '';\n",
       "          dataTable['output_type'] = 'display_data';\n",
       "          await google.colab.output.renderOutput(dataTable, element);\n",
       "          const docLink = document.createElement('div');\n",
       "          docLink.innerHTML = docLinkHtml;\n",
       "          element.appendChild(docLink);\n",
       "        }\n",
       "      </script>\n",
       "    </div>\n",
       "  </div>\n",
       "  "
      ],
      "text/plain": [
       "                test acc  test f1 score (W)\n",
       "Random Forest2  0.970551           0.895484\n",
       "Random Forest1  0.970294           0.889484\n",
       "SVM             0.940589           0.888089\n",
       "KNN             0.864661           0.796469"
      ]
     },
     "execution_count": 34,
     "metadata": {},
     "output_type": "execute_result"
    }
   ]
  },
  {
   "cell_type": "code",
   "source": [
    "\n",
    "majority_vote_role([rf1, rf2, svm, knn], X_test, y_test)"
   ],
   "metadata": {
    "id": "-Q1FuqrBrc27",
    "colab": {
     "base_uri": "https://localhost:8080/"
    },
    "outputId": "a8fcad51-d488-46c1-b665-98d81a90067a"
   },
   "id": "-Q1FuqrBrc27",
   "execution_count": 35,
   "outputs": [
    {
     "data": {
      "text/plain": [
       "0.9660691421254801"
      ]
     },
     "execution_count": 35,
     "metadata": {},
     "output_type": "execute_result"
    }
   ]
  }
 ],
 "metadata": {
  "kernelspec": {
   "display_name": "Python 3 (ipykernel)",
   "language": "python",
   "name": "python3"
  },
  "language_info": {
   "codemirror_mode": {
    "name": "ipython",
    "version": 3
   },
   "file_extension": ".py",
   "mimetype": "text/x-python",
   "name": "python",
   "nbconvert_exporter": "python",
   "pygments_lexer": "ipython3",
   "version": "3.9.13"
  },
  "colab": {
   "provenance": [],
   "gpuType": "T4",
   "include_colab_link": true
  },
  "accelerator": "TPU",
  "gpuClass": "standard"
 },
 "nbformat": 4,
 "nbformat_minor": 5
}
