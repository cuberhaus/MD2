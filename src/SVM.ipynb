{
 "cells": [
  {
   "cell_type": "code",
   "execution_count": 31,
   "metadata": {
    "collapsed": true,
    "ExecuteTime": {
     "end_time": "2023-06-01T10:31:33.345594Z",
     "start_time": "2023-06-01T10:31:33.275809Z"
    }
   },
   "outputs": [
    {
     "name": "stdout",
     "output_type": "stream",
     "text": [
      "       Class  User         X0          Y0         Z0         X1          Y1   \n",
      "0          0     0   0.000000    0.000000   0.000000   0.000000    0.000000  \\\n",
      "1          1     0  54.263880   71.466776 -64.807709  76.895635   42.462500   \n",
      "2          1     0  56.527558   72.266609 -61.935252  39.135978   82.538530   \n",
      "3          1     0  55.849928   72.469064 -62.562788  37.988804   82.631347   \n",
      "4          1     0  55.329647   71.707275 -63.688956  36.561863   81.868749   \n",
      "...      ...   ...        ...         ...        ...        ...         ...   \n",
      "78091      5    14  54.251127  129.177414 -44.252511  27.720784  107.810661   \n",
      "78092      5    14  54.334883  129.253842 -44.016320  27.767911  107.914808   \n",
      "78093      5    14  54.151540  129.269502 -44.173273  27.725978  108.034006   \n",
      "78094      5    14  27.915311  108.007390  10.814957  -0.910435  122.464093   \n",
      "78095      5    14  27.898705  108.092877  11.107857 -30.031402   77.740235   \n",
      "\n",
      "              Z1         X2          Y2  ...                 Z8   \n",
      "0       0.000000   0.000000    0.000000  ...                  0  \\\n",
      "1     -72.780545  36.621229   81.680557  ...                  0   \n",
      "2     -49.596509  79.223743   43.254091  ...                  0   \n",
      "3     -50.606259  78.451526   43.567403  ...                  0   \n",
      "4     -52.752784  86.320630   68.214645  ...                  0   \n",
      "...          ...        ...         ...  ...                ...   \n",
      "78091  11.099282  -1.270139  122.758679  ...  -6.54311453354464   \n",
      "78092  11.069842 -30.334054   77.858214  ...  -62.1305625712145   \n",
      "78093  11.020347 -22.574718  104.222208  ...   3.83590370588782   \n",
      "78094 -47.271248 -30.084588   77.705861  ...  -63.2216259324485   \n",
      "78095 -17.453099  -1.091566  122.827638  ...  -63.0265744155222   \n",
      "\n",
      "                     X9                Y9                 Z9 X10 Y10 Z10 X11   \n",
      "0                     0                 0                  0   0   0   0   0  \\\n",
      "1                     0                 0                  0   0   0   0   0   \n",
      "2                     0                 0                  0   0   0   0   0   \n",
      "3                     0                 0                  0   0   0   0   0   \n",
      "4                     0                 0                  0   0   0   0   0   \n",
      "...                 ...               ...                ...  ..  ..  ..  ..   \n",
      "78091  87.7333643096221  61.2163626180662  -62.1262783028233   0   0   0   0   \n",
      "78092  78.2298473919132  33.0784071753174  -45.2495433686171   0   0   0   0   \n",
      "78093   78.591554010542    32.32773753847  -46.1665560916632   0   0   0   0   \n",
      "78094                 0                 0                  0   0   0   0   0   \n",
      "78095  78.8796525666014  31.6030997578398  -47.0137357205196   0   0   0   0   \n",
      "\n",
      "      Y11 Z11  \n",
      "0       0   0  \n",
      "1       0   0  \n",
      "2       0   0  \n",
      "3       0   0  \n",
      "4       0   0  \n",
      "...    ..  ..  \n",
      "78091   0   0  \n",
      "78092   0   0  \n",
      "78093   0   0  \n",
      "78094   0   0  \n",
      "78095   0   0  \n",
      "\n",
      "[78096 rows x 38 columns]\n"
     ]
    }
   ],
   "source": [
    "from sklearn.neighbors import KNeighborsClassifier\n",
    "from sklearn.svm import SVC\n",
    "from sklearn.model_selection import GridSearchCV\n",
    "\n",
    "from dataLoader import *\n",
    "\n",
    "results_df_user = pd.DataFrame()\n",
    "df = getdf()\n",
    "print(df)"
   ]
  },
  {
   "cell_type": "code",
   "execution_count": 32,
   "metadata": {
    "ExecuteTime": {
     "end_time": "2023-06-01T10:31:33.346802Z",
     "start_time": "2023-06-01T10:31:33.295509Z"
    }
   },
   "outputs": [
    {
     "name": "stdout",
     "output_type": "stream",
     "text": [
      "       Class  User         X0          Y0         Z0         X1          Y1   \n",
      "30         1     0  57.508629   71.694971 -60.852055  60.407223   10.149732  \\\n",
      "33         1     0  57.188299   71.969974 -61.055158  60.051138   10.398977   \n",
      "82         1     0  63.875542   11.265820 -66.562117  34.697904   81.360236   \n",
      "94         1     0  59.753571   10.395100 -70.890266  33.131649   80.909487   \n",
      "140        1     0  60.789265   10.549338 -69.500335  33.309423   80.885404   \n",
      "...      ...   ...        ...         ...        ...        ...         ...   \n",
      "78030      5    14  81.247454   28.307516 -52.904006  61.205550  101.881663   \n",
      "78048      5    14 -29.906218   77.238142 -18.057246 -22.717447  104.275584   \n",
      "78064      5    14  88.760663   59.931435 -63.671039  -2.155721  125.068618   \n",
      "78088      5    14  54.445660  129.540360 -42.997068  -1.729310   97.508806   \n",
      "78094      5    14  27.915311  108.007390  10.814957  -0.910435  122.464093   \n",
      "\n",
      "              Z1         X2          Y2  ...                 Z8   \n",
      "30    -70.086911  32.525580   80.661463  ...                  0  \\\n",
      "33    -70.538890  32.442550   80.991365  ...                  0   \n",
      "82    -54.839257  87.660793   68.315478  ...                  0   \n",
      "94    -56.479861  84.406741   67.633600  ...                  0   \n",
      "140   -56.482340  85.063400   68.030412  ...                  0   \n",
      "...          ...        ...         ...  ...                ...   \n",
      "78030  -4.732459  -1.155075   97.617855  ...  -44.3257147174376   \n",
      "78048 -53.777801  -1.072355  122.423798  ...  -60.6566447244525   \n",
      "78064 -41.709071  77.992760   32.445566  ...  -54.1267282580896   \n",
      "78088   3.874574  87.410166   63.000213  ...  -45.1570302775825   \n",
      "78094 -47.271248 -30.084588   77.705861  ...  -63.2216259324485   \n",
      "\n",
      "                      X9                Y9                 Z9 X10 Y10 Z10 X11   \n",
      "30                     0                 0                  0   0   0   0   0  \\\n",
      "33                     0                 0                  0   0   0   0   0   \n",
      "82                     0                 0                  0   0   0   0   0   \n",
      "94                     0                 0                  0   0   0   0   0   \n",
      "140                    0                 0                  0   0   0   0   0   \n",
      "...                  ...               ...                ...  ..  ..  ..  ..   \n",
      "78030   26.4023572398154  136.791508565393  -31.7306645541135   0   0   0   0   \n",
      "78048   79.4222300206266  30.5714460660304  -48.8733781873727   0   0   0   0   \n",
      "78064   29.0389745952273  107.143163742714   9.54263661426089   0   0   0   0   \n",
      "78088  -22.5278299293037  104.843374144626  -52.9224461703548   0   0   0   0   \n",
      "78094                  0                 0                  0   0   0   0   0   \n",
      "\n",
      "      Y11 Z11  \n",
      "30      0   0  \n",
      "33      0   0  \n",
      "82      0   0  \n",
      "94      0   0  \n",
      "140     0   0  \n",
      "...    ..  ..  \n",
      "78030   0   0  \n",
      "78048   0   0  \n",
      "78064   0   0  \n",
      "78088   0   0  \n",
      "78094   0   0  \n",
      "\n",
      "[3096 rows x 38 columns]\n"
     ]
    }
   ],
   "source": [
    "drop_indices = np.random.choice(df.index, 75000, replace=False)\n",
    "df = df.drop(drop_indices)\n",
    "print(df)\n"
   ]
  },
  {
   "cell_type": "code",
   "execution_count": 33,
   "metadata": {
    "ExecuteTime": {
     "end_time": "2023-06-01T10:31:33.347151Z",
     "start_time": "2023-06-01T10:31:33.335895Z"
    }
   },
   "outputs": [],
   "source": [
    "X_train, X_test, y_train, y_test = get_test_training_df(df,0.20)\n"
   ]
  },
  {
   "cell_type": "markdown",
   "metadata": {},
   "source": [
    "This is just a test"
   ]
  },
  {
   "cell_type": "code",
   "execution_count": 34,
   "metadata": {
    "ExecuteTime": {
     "end_time": "2023-06-01T10:31:33.361600Z",
     "start_time": "2023-06-01T10:31:33.342194Z"
    }
   },
   "outputs": [
    {
     "data": {
      "text/plain": "               X0          Y0         Z0         X1          Y1         Z1   \n66052   68.738708  128.105474  -5.488684   5.559210   26.112569   6.302369  \\\n69838   -4.906348  130.048830 -52.140558  45.946700  127.921080 -44.965315   \n49491   72.127058   80.083286 -60.380138   4.106553   97.199885 -24.227783   \n64570   25.624893  134.027465  27.196796  55.415851   88.793568   7.975784   \n60726   41.302664   88.306918  -3.441373  66.511165  134.059287 -11.750093   \n...           ...         ...        ...        ...         ...        ...   \n41268  -10.393203   70.143888 -35.785691  69.361984   64.237913 -78.172115   \n28155   83.325399   51.916268 -35.614893  86.464613   23.587148 -36.724454   \n28637   76.491468   63.945250 -88.740837  59.178401   68.846571 -64.515610   \n32780  109.114267   19.301444 -88.203334  62.662217  136.065563 -25.380329   \n22562  -18.281400   95.653488 -16.843345  15.362828  157.776687  15.446773   \n\n              X2          Y2         Z2                X3  ...   \n66052  62.919335   89.533799  -8.336592  61.2051140172061  ...  \\\n69838 -26.072474   86.078345 -25.734567  48.9024715111702  ...   \n49491  73.326569   53.037698 -59.981453  45.6885570723532  ...   \n64570 -10.463613   80.078792   5.584567  3.76372331238731  ...   \n60726  49.096419  152.001589 -16.836969  63.8196048658624  ...   \n...          ...         ...        ...               ...  ...   \n41268  32.389264   78.780663 -53.959387  71.4840241554133  ...   \n28155  77.148761   -9.413883 -44.882938  53.5260693487309  ...   \n28637  15.676643   78.670539 -48.147262  37.1167654627538  ...   \n32780  30.266719   80.790118 -50.024333  61.8499777157171  ...   \n22562  34.144559  143.821855  12.089569  90.2837247107931  ...   \n\n                     Z8 X9 Y9 Z9 X10 Y10 Z10 X11 Y11 Z11  \n66052                 0  0  0  0   0   0   0   0   0   0  \n69838                 0  0  0  0   0   0   0   0   0   0  \n49491                 0  0  0  0   0   0   0   0   0   0  \n64570  21.4187817020854  0  0  0   0   0   0   0   0   0  \n60726                 0  0  0  0   0   0   0   0   0   0  \n...                 ... .. .. ..  ..  ..  ..  ..  ..  ..  \n41268                 0  0  0  0   0   0   0   0   0   0  \n28155                 0  0  0  0   0   0   0   0   0   0  \n28637                 0  0  0  0   0   0   0   0   0   0  \n32780                 0  0  0  0   0   0   0   0   0   0  \n22562                 0  0  0  0   0   0   0   0   0   0  \n\n[2476 rows x 36 columns]",
      "text/html": "<div>\n<style scoped>\n    .dataframe tbody tr th:only-of-type {\n        vertical-align: middle;\n    }\n\n    .dataframe tbody tr th {\n        vertical-align: top;\n    }\n\n    .dataframe thead th {\n        text-align: right;\n    }\n</style>\n<table border=\"1\" class=\"dataframe\">\n  <thead>\n    <tr style=\"text-align: right;\">\n      <th></th>\n      <th>X0</th>\n      <th>Y0</th>\n      <th>Z0</th>\n      <th>X1</th>\n      <th>Y1</th>\n      <th>Z1</th>\n      <th>X2</th>\n      <th>Y2</th>\n      <th>Z2</th>\n      <th>X3</th>\n      <th>...</th>\n      <th>Z8</th>\n      <th>X9</th>\n      <th>Y9</th>\n      <th>Z9</th>\n      <th>X10</th>\n      <th>Y10</th>\n      <th>Z10</th>\n      <th>X11</th>\n      <th>Y11</th>\n      <th>Z11</th>\n    </tr>\n  </thead>\n  <tbody>\n    <tr>\n      <th>66052</th>\n      <td>68.738708</td>\n      <td>128.105474</td>\n      <td>-5.488684</td>\n      <td>5.559210</td>\n      <td>26.112569</td>\n      <td>6.302369</td>\n      <td>62.919335</td>\n      <td>89.533799</td>\n      <td>-8.336592</td>\n      <td>61.2051140172061</td>\n      <td>...</td>\n      <td>0</td>\n      <td>0</td>\n      <td>0</td>\n      <td>0</td>\n      <td>0</td>\n      <td>0</td>\n      <td>0</td>\n      <td>0</td>\n      <td>0</td>\n      <td>0</td>\n    </tr>\n    <tr>\n      <th>69838</th>\n      <td>-4.906348</td>\n      <td>130.048830</td>\n      <td>-52.140558</td>\n      <td>45.946700</td>\n      <td>127.921080</td>\n      <td>-44.965315</td>\n      <td>-26.072474</td>\n      <td>86.078345</td>\n      <td>-25.734567</td>\n      <td>48.9024715111702</td>\n      <td>...</td>\n      <td>0</td>\n      <td>0</td>\n      <td>0</td>\n      <td>0</td>\n      <td>0</td>\n      <td>0</td>\n      <td>0</td>\n      <td>0</td>\n      <td>0</td>\n      <td>0</td>\n    </tr>\n    <tr>\n      <th>49491</th>\n      <td>72.127058</td>\n      <td>80.083286</td>\n      <td>-60.380138</td>\n      <td>4.106553</td>\n      <td>97.199885</td>\n      <td>-24.227783</td>\n      <td>73.326569</td>\n      <td>53.037698</td>\n      <td>-59.981453</td>\n      <td>45.6885570723532</td>\n      <td>...</td>\n      <td>0</td>\n      <td>0</td>\n      <td>0</td>\n      <td>0</td>\n      <td>0</td>\n      <td>0</td>\n      <td>0</td>\n      <td>0</td>\n      <td>0</td>\n      <td>0</td>\n    </tr>\n    <tr>\n      <th>64570</th>\n      <td>25.624893</td>\n      <td>134.027465</td>\n      <td>27.196796</td>\n      <td>55.415851</td>\n      <td>88.793568</td>\n      <td>7.975784</td>\n      <td>-10.463613</td>\n      <td>80.078792</td>\n      <td>5.584567</td>\n      <td>3.76372331238731</td>\n      <td>...</td>\n      <td>21.4187817020854</td>\n      <td>0</td>\n      <td>0</td>\n      <td>0</td>\n      <td>0</td>\n      <td>0</td>\n      <td>0</td>\n      <td>0</td>\n      <td>0</td>\n      <td>0</td>\n    </tr>\n    <tr>\n      <th>60726</th>\n      <td>41.302664</td>\n      <td>88.306918</td>\n      <td>-3.441373</td>\n      <td>66.511165</td>\n      <td>134.059287</td>\n      <td>-11.750093</td>\n      <td>49.096419</td>\n      <td>152.001589</td>\n      <td>-16.836969</td>\n      <td>63.8196048658624</td>\n      <td>...</td>\n      <td>0</td>\n      <td>0</td>\n      <td>0</td>\n      <td>0</td>\n      <td>0</td>\n      <td>0</td>\n      <td>0</td>\n      <td>0</td>\n      <td>0</td>\n      <td>0</td>\n    </tr>\n    <tr>\n      <th>...</th>\n      <td>...</td>\n      <td>...</td>\n      <td>...</td>\n      <td>...</td>\n      <td>...</td>\n      <td>...</td>\n      <td>...</td>\n      <td>...</td>\n      <td>...</td>\n      <td>...</td>\n      <td>...</td>\n      <td>...</td>\n      <td>...</td>\n      <td>...</td>\n      <td>...</td>\n      <td>...</td>\n      <td>...</td>\n      <td>...</td>\n      <td>...</td>\n      <td>...</td>\n      <td>...</td>\n    </tr>\n    <tr>\n      <th>41268</th>\n      <td>-10.393203</td>\n      <td>70.143888</td>\n      <td>-35.785691</td>\n      <td>69.361984</td>\n      <td>64.237913</td>\n      <td>-78.172115</td>\n      <td>32.389264</td>\n      <td>78.780663</td>\n      <td>-53.959387</td>\n      <td>71.4840241554133</td>\n      <td>...</td>\n      <td>0</td>\n      <td>0</td>\n      <td>0</td>\n      <td>0</td>\n      <td>0</td>\n      <td>0</td>\n      <td>0</td>\n      <td>0</td>\n      <td>0</td>\n      <td>0</td>\n    </tr>\n    <tr>\n      <th>28155</th>\n      <td>83.325399</td>\n      <td>51.916268</td>\n      <td>-35.614893</td>\n      <td>86.464613</td>\n      <td>23.587148</td>\n      <td>-36.724454</td>\n      <td>77.148761</td>\n      <td>-9.413883</td>\n      <td>-44.882938</td>\n      <td>53.5260693487309</td>\n      <td>...</td>\n      <td>0</td>\n      <td>0</td>\n      <td>0</td>\n      <td>0</td>\n      <td>0</td>\n      <td>0</td>\n      <td>0</td>\n      <td>0</td>\n      <td>0</td>\n      <td>0</td>\n    </tr>\n    <tr>\n      <th>28637</th>\n      <td>76.491468</td>\n      <td>63.945250</td>\n      <td>-88.740837</td>\n      <td>59.178401</td>\n      <td>68.846571</td>\n      <td>-64.515610</td>\n      <td>15.676643</td>\n      <td>78.670539</td>\n      <td>-48.147262</td>\n      <td>37.1167654627538</td>\n      <td>...</td>\n      <td>0</td>\n      <td>0</td>\n      <td>0</td>\n      <td>0</td>\n      <td>0</td>\n      <td>0</td>\n      <td>0</td>\n      <td>0</td>\n      <td>0</td>\n      <td>0</td>\n    </tr>\n    <tr>\n      <th>32780</th>\n      <td>109.114267</td>\n      <td>19.301444</td>\n      <td>-88.203334</td>\n      <td>62.662217</td>\n      <td>136.065563</td>\n      <td>-25.380329</td>\n      <td>30.266719</td>\n      <td>80.790118</td>\n      <td>-50.024333</td>\n      <td>61.8499777157171</td>\n      <td>...</td>\n      <td>0</td>\n      <td>0</td>\n      <td>0</td>\n      <td>0</td>\n      <td>0</td>\n      <td>0</td>\n      <td>0</td>\n      <td>0</td>\n      <td>0</td>\n      <td>0</td>\n    </tr>\n    <tr>\n      <th>22562</th>\n      <td>-18.281400</td>\n      <td>95.653488</td>\n      <td>-16.843345</td>\n      <td>15.362828</td>\n      <td>157.776687</td>\n      <td>15.446773</td>\n      <td>34.144559</td>\n      <td>143.821855</td>\n      <td>12.089569</td>\n      <td>90.2837247107931</td>\n      <td>...</td>\n      <td>0</td>\n      <td>0</td>\n      <td>0</td>\n      <td>0</td>\n      <td>0</td>\n      <td>0</td>\n      <td>0</td>\n      <td>0</td>\n      <td>0</td>\n      <td>0</td>\n    </tr>\n  </tbody>\n</table>\n<p>2476 rows × 36 columns</p>\n</div>"
     },
     "execution_count": 34,
     "metadata": {},
     "output_type": "execute_result"
    }
   ],
   "source": [
    "X_train"
   ]
  },
  {
   "cell_type": "code",
   "execution_count": 35,
   "metadata": {
    "ExecuteTime": {
     "end_time": "2023-06-01T10:31:33.421811Z",
     "start_time": "2023-06-01T10:31:33.372457Z"
    }
   },
   "outputs": [
    {
     "data": {
      "text/plain": "              X0          Y0         Z0         X1          Y1         Z1   \n49146  24.946036  100.770145 -30.161377  68.059183   19.944724 -56.749023  \\\n33149  50.205512  155.576662 -13.508367  85.812228   31.349291 -87.996766   \n40512  51.815333   -4.593877 -82.774768  68.139097   32.152793 -86.778860   \n67105   6.257162   25.310971   9.731169  57.279431  130.285495   2.971433   \n62243  11.364516   76.897627 -42.906995  31.624110   79.134162 -44.908065   \n...          ...         ...        ...        ...         ...        ...   \n69187  -3.695447  129.524389 -44.127041  15.689256  104.924087  -1.130640   \n48463  27.987536    6.718929  11.801658  14.419270   92.220208 -77.018356   \n26836   4.136005   88.945992 -38.929586  40.894892   96.176622 -10.663671   \n71525  29.337084    2.030049   7.219508  10.445775   75.426829 -58.300874   \n4097   55.173831  134.538774 -42.708608  62.172965   50.058084 -82.796657   \n\n              X2          Y2         Z2                X3  ...   \n49146   8.204997   95.845209 -19.046336   46.332724841335  ...  \\\n33149  47.722232   95.335055 -15.101913  12.9536493458566  ...   \n40512  30.805914   76.322802 -60.731578  51.0082716291776  ...   \n67105  56.808809   90.385370  -1.715394  60.8656744883721  ...   \n62243  58.480842   73.186643 -44.309523  54.0923694823834  ...   \n...          ...         ...        ...               ...  ...   \n69187 -25.763884   88.036371 -16.620928  14.9175164812997  ...   \n48463  -6.220804   84.050427 -74.307318  74.5353526996982  ...   \n26836  56.418408  139.508201  -7.604579    38.74533171233  ...   \n71525  54.312612   85.052917 -50.891931  30.1966824079271  ...   \n4097   57.482254   12.362805 -75.646966  61.1050816594141  ...   \n\n                      Z8                X9                Y9   \n49146                  0                 0                 0  \\\n33149                  0                 0                 0   \n40512                  0                 0                 0   \n67105                  0                 0                 0   \n62243                  0                 0                 0   \n...                  ...               ...               ...   \n69187  -37.0781479400724  98.0727409613955  71.7330156946874   \n48463                  0                 0                 0   \n26836  -31.5291351287819                 0                 0   \n71525                  0                 0                 0   \n4097                   0                 0                 0   \n\n                      Z9 X10 Y10 Z10 X11 Y11 Z11  \n49146                  0   0   0   0   0   0   0  \n33149                  0   0   0   0   0   0   0  \n40512                  0   0   0   0   0   0   0  \n67105                  0   0   0   0   0   0   0  \n62243                  0   0   0   0   0   0   0  \n...                  ...  ..  ..  ..  ..  ..  ..  \n69187  -52.7266125926468   0   0   0   0   0   0  \n48463                  0   0   0   0   0   0   0  \n26836                  0   0   0   0   0   0   0  \n71525                  0   0   0   0   0   0   0  \n4097                   0   0   0   0   0   0   0  \n\n[620 rows x 36 columns]",
      "text/html": "<div>\n<style scoped>\n    .dataframe tbody tr th:only-of-type {\n        vertical-align: middle;\n    }\n\n    .dataframe tbody tr th {\n        vertical-align: top;\n    }\n\n    .dataframe thead th {\n        text-align: right;\n    }\n</style>\n<table border=\"1\" class=\"dataframe\">\n  <thead>\n    <tr style=\"text-align: right;\">\n      <th></th>\n      <th>X0</th>\n      <th>Y0</th>\n      <th>Z0</th>\n      <th>X1</th>\n      <th>Y1</th>\n      <th>Z1</th>\n      <th>X2</th>\n      <th>Y2</th>\n      <th>Z2</th>\n      <th>X3</th>\n      <th>...</th>\n      <th>Z8</th>\n      <th>X9</th>\n      <th>Y9</th>\n      <th>Z9</th>\n      <th>X10</th>\n      <th>Y10</th>\n      <th>Z10</th>\n      <th>X11</th>\n      <th>Y11</th>\n      <th>Z11</th>\n    </tr>\n  </thead>\n  <tbody>\n    <tr>\n      <th>49146</th>\n      <td>24.946036</td>\n      <td>100.770145</td>\n      <td>-30.161377</td>\n      <td>68.059183</td>\n      <td>19.944724</td>\n      <td>-56.749023</td>\n      <td>8.204997</td>\n      <td>95.845209</td>\n      <td>-19.046336</td>\n      <td>46.332724841335</td>\n      <td>...</td>\n      <td>0</td>\n      <td>0</td>\n      <td>0</td>\n      <td>0</td>\n      <td>0</td>\n      <td>0</td>\n      <td>0</td>\n      <td>0</td>\n      <td>0</td>\n      <td>0</td>\n    </tr>\n    <tr>\n      <th>33149</th>\n      <td>50.205512</td>\n      <td>155.576662</td>\n      <td>-13.508367</td>\n      <td>85.812228</td>\n      <td>31.349291</td>\n      <td>-87.996766</td>\n      <td>47.722232</td>\n      <td>95.335055</td>\n      <td>-15.101913</td>\n      <td>12.9536493458566</td>\n      <td>...</td>\n      <td>0</td>\n      <td>0</td>\n      <td>0</td>\n      <td>0</td>\n      <td>0</td>\n      <td>0</td>\n      <td>0</td>\n      <td>0</td>\n      <td>0</td>\n      <td>0</td>\n    </tr>\n    <tr>\n      <th>40512</th>\n      <td>51.815333</td>\n      <td>-4.593877</td>\n      <td>-82.774768</td>\n      <td>68.139097</td>\n      <td>32.152793</td>\n      <td>-86.778860</td>\n      <td>30.805914</td>\n      <td>76.322802</td>\n      <td>-60.731578</td>\n      <td>51.0082716291776</td>\n      <td>...</td>\n      <td>0</td>\n      <td>0</td>\n      <td>0</td>\n      <td>0</td>\n      <td>0</td>\n      <td>0</td>\n      <td>0</td>\n      <td>0</td>\n      <td>0</td>\n      <td>0</td>\n    </tr>\n    <tr>\n      <th>67105</th>\n      <td>6.257162</td>\n      <td>25.310971</td>\n      <td>9.731169</td>\n      <td>57.279431</td>\n      <td>130.285495</td>\n      <td>2.971433</td>\n      <td>56.808809</td>\n      <td>90.385370</td>\n      <td>-1.715394</td>\n      <td>60.8656744883721</td>\n      <td>...</td>\n      <td>0</td>\n      <td>0</td>\n      <td>0</td>\n      <td>0</td>\n      <td>0</td>\n      <td>0</td>\n      <td>0</td>\n      <td>0</td>\n      <td>0</td>\n      <td>0</td>\n    </tr>\n    <tr>\n      <th>62243</th>\n      <td>11.364516</td>\n      <td>76.897627</td>\n      <td>-42.906995</td>\n      <td>31.624110</td>\n      <td>79.134162</td>\n      <td>-44.908065</td>\n      <td>58.480842</td>\n      <td>73.186643</td>\n      <td>-44.309523</td>\n      <td>54.0923694823834</td>\n      <td>...</td>\n      <td>0</td>\n      <td>0</td>\n      <td>0</td>\n      <td>0</td>\n      <td>0</td>\n      <td>0</td>\n      <td>0</td>\n      <td>0</td>\n      <td>0</td>\n      <td>0</td>\n    </tr>\n    <tr>\n      <th>...</th>\n      <td>...</td>\n      <td>...</td>\n      <td>...</td>\n      <td>...</td>\n      <td>...</td>\n      <td>...</td>\n      <td>...</td>\n      <td>...</td>\n      <td>...</td>\n      <td>...</td>\n      <td>...</td>\n      <td>...</td>\n      <td>...</td>\n      <td>...</td>\n      <td>...</td>\n      <td>...</td>\n      <td>...</td>\n      <td>...</td>\n      <td>...</td>\n      <td>...</td>\n      <td>...</td>\n    </tr>\n    <tr>\n      <th>69187</th>\n      <td>-3.695447</td>\n      <td>129.524389</td>\n      <td>-44.127041</td>\n      <td>15.689256</td>\n      <td>104.924087</td>\n      <td>-1.130640</td>\n      <td>-25.763884</td>\n      <td>88.036371</td>\n      <td>-16.620928</td>\n      <td>14.9175164812997</td>\n      <td>...</td>\n      <td>-37.0781479400724</td>\n      <td>98.0727409613955</td>\n      <td>71.7330156946874</td>\n      <td>-52.7266125926468</td>\n      <td>0</td>\n      <td>0</td>\n      <td>0</td>\n      <td>0</td>\n      <td>0</td>\n      <td>0</td>\n    </tr>\n    <tr>\n      <th>48463</th>\n      <td>27.987536</td>\n      <td>6.718929</td>\n      <td>11.801658</td>\n      <td>14.419270</td>\n      <td>92.220208</td>\n      <td>-77.018356</td>\n      <td>-6.220804</td>\n      <td>84.050427</td>\n      <td>-74.307318</td>\n      <td>74.5353526996982</td>\n      <td>...</td>\n      <td>0</td>\n      <td>0</td>\n      <td>0</td>\n      <td>0</td>\n      <td>0</td>\n      <td>0</td>\n      <td>0</td>\n      <td>0</td>\n      <td>0</td>\n      <td>0</td>\n    </tr>\n    <tr>\n      <th>26836</th>\n      <td>4.136005</td>\n      <td>88.945992</td>\n      <td>-38.929586</td>\n      <td>40.894892</td>\n      <td>96.176622</td>\n      <td>-10.663671</td>\n      <td>56.418408</td>\n      <td>139.508201</td>\n      <td>-7.604579</td>\n      <td>38.74533171233</td>\n      <td>...</td>\n      <td>-31.5291351287819</td>\n      <td>0</td>\n      <td>0</td>\n      <td>0</td>\n      <td>0</td>\n      <td>0</td>\n      <td>0</td>\n      <td>0</td>\n      <td>0</td>\n      <td>0</td>\n    </tr>\n    <tr>\n      <th>71525</th>\n      <td>29.337084</td>\n      <td>2.030049</td>\n      <td>7.219508</td>\n      <td>10.445775</td>\n      <td>75.426829</td>\n      <td>-58.300874</td>\n      <td>54.312612</td>\n      <td>85.052917</td>\n      <td>-50.891931</td>\n      <td>30.1966824079271</td>\n      <td>...</td>\n      <td>0</td>\n      <td>0</td>\n      <td>0</td>\n      <td>0</td>\n      <td>0</td>\n      <td>0</td>\n      <td>0</td>\n      <td>0</td>\n      <td>0</td>\n      <td>0</td>\n    </tr>\n    <tr>\n      <th>4097</th>\n      <td>55.173831</td>\n      <td>134.538774</td>\n      <td>-42.708608</td>\n      <td>62.172965</td>\n      <td>50.058084</td>\n      <td>-82.796657</td>\n      <td>57.482254</td>\n      <td>12.362805</td>\n      <td>-75.646966</td>\n      <td>61.1050816594141</td>\n      <td>...</td>\n      <td>0</td>\n      <td>0</td>\n      <td>0</td>\n      <td>0</td>\n      <td>0</td>\n      <td>0</td>\n      <td>0</td>\n      <td>0</td>\n      <td>0</td>\n      <td>0</td>\n    </tr>\n  </tbody>\n</table>\n<p>620 rows × 36 columns</p>\n</div>"
     },
     "execution_count": 35,
     "metadata": {},
     "output_type": "execute_result"
    }
   ],
   "source": [
    "X_test"
   ]
  },
  {
   "cell_type": "code",
   "execution_count": 36,
   "metadata": {
    "ExecuteTime": {
     "end_time": "2023-06-01T10:31:33.422142Z",
     "start_time": "2023-06-01T10:31:33.377275Z"
    }
   },
   "outputs": [],
   "source": [
    "# knn = KNeighborsClassifier(n_neighbors=1)\n",
    "# test_model_and_save_result(knn, \"KNN\", X_train, X_test, y_train, y_test, results_df_user)\n",
    "# print(results_df_user.sort_values(by=['acc'], ascending=False))\n"
   ]
  },
  {
   "cell_type": "code",
   "execution_count": 37,
   "metadata": {
    "ExecuteTime": {
     "end_time": "2023-06-01T10:31:50.154615Z",
     "start_time": "2023-06-01T10:31:33.383558Z"
    }
   },
   "outputs": [
    {
     "name": "stdout",
     "output_type": "stream",
     "text": [
      "Fitting 5 folds for each of 32 candidates, totalling 160 fits\n"
     ]
    },
    {
     "name": "stderr",
     "output_type": "stream",
     "text": [
      "/Users/pol/dotfiles/dotfiles/.local/share/virtualenvs/MD2-Msi-27M8/lib/python3.11/site-packages/sklearn/metrics/_classification.py:1344: UndefinedMetricWarning: Precision is ill-defined and being set to 0.0 in labels with no predicted samples. Use `zero_division` parameter to control this behavior.\n",
      "  _warn_prf(average, modifier, msg_start, len(result))\n"
     ]
    },
    {
     "data": {
      "text/plain": "          acc      prec    recall  test f1 score (W)\nSVM  0.633871  0.741231  0.633871           0.555334",
      "text/html": "<div>\n<style scoped>\n    .dataframe tbody tr th:only-of-type {\n        vertical-align: middle;\n    }\n\n    .dataframe tbody tr th {\n        vertical-align: top;\n    }\n\n    .dataframe thead th {\n        text-align: right;\n    }\n</style>\n<table border=\"1\" class=\"dataframe\">\n  <thead>\n    <tr style=\"text-align: right;\">\n      <th></th>\n      <th>acc</th>\n      <th>prec</th>\n      <th>recall</th>\n      <th>test f1 score (W)</th>\n    </tr>\n  </thead>\n  <tbody>\n    <tr>\n      <th>SVM</th>\n      <td>0.633871</td>\n      <td>0.741231</td>\n      <td>0.633871</td>\n      <td>0.555334</td>\n    </tr>\n  </tbody>\n</table>\n</div>"
     },
     "execution_count": 37,
     "metadata": {},
     "output_type": "execute_result"
    }
   ],
   "source": [
    "# df = df.reset_index(drop=True)\n",
    "# param_grid = {'C':[1],\n",
    "#               'gamma':[1],\n",
    "#               'kernel':['rbf']}\n",
    "\n",
    "param_grid = {'C':[1,10,100,1000],\n",
    "              'gamma':[1,0.1,0.001,0.0001],\n",
    "              'kernel':[ 'rbf', 'sigmoid' ]}\n",
    "grid = GridSearchCV(SVC(),param_grid,refit = True, verbose=2, n_jobs=-1)\n",
    "grid.fit(X_train,y_train)\n",
    "save_results(grid,X_test, y_test, \"SVM\", results_df_user)"
   ]
  },
  {
   "cell_type": "code",
   "execution_count": 38,
   "metadata": {
    "ExecuteTime": {
     "end_time": "2023-06-01T10:31:50.157125Z",
     "start_time": "2023-06-01T10:31:50.154986Z"
    }
   },
   "outputs": [
    {
     "name": "stdout",
     "output_type": "stream",
     "text": [
      "{'C': 10, 'gamma': 0.0001, 'kernel': 'rbf'}\n"
     ]
    }
   ],
   "source": [
    "print(grid.best_params_)\n"
   ]
  },
  {
   "cell_type": "code",
   "execution_count": 39,
   "metadata": {
    "ExecuteTime": {
     "end_time": "2023-06-01T10:31:50.781492Z",
     "start_time": "2023-06-01T10:31:50.170531Z"
    }
   },
   "outputs": [
    {
     "name": "stdout",
     "output_type": "stream",
     "text": [
      "Number of support vectors: 2416\n"
     ]
    }
   ],
   "source": [
    "# 3. Get the best estimator with optimal hyperparameters\n",
    "best_svc = grid.best_estimator_\n",
    "\n",
    "# 4. Fit the model using the optimal hyperparameters\n",
    "best_svc.fit(X_train, y_train)\n",
    "\n",
    "# 5. Retrieve the support vectors\n",
    "support_vectors = best_svc.support_vectors_\n",
    "# Access the support vectors and retrieve the number of support vectors\n",
    "# support_vectors = grid.support_vectors_\n",
    "num_support_vectors = support_vectors.shape[0]\n",
    "\n",
    "print(\"Number of support vectors:\", num_support_vectors)"
   ]
  },
  {
   "cell_type": "code",
   "execution_count": 40,
   "outputs": [
    {
     "name": "stdout",
     "output_type": "stream",
     "text": [
      "Validation Accuracy: 0.6338709677419355\n"
     ]
    }
   ],
   "source": [
    "val_accuracy = best_svc.score(X_test, y_test)\n",
    "print(\"Validation Accuracy:\", val_accuracy)\n"
   ],
   "metadata": {
    "collapsed": false,
    "ExecuteTime": {
     "end_time": "2023-06-01T10:31:50.947936Z",
     "start_time": "2023-06-01T10:31:50.781070Z"
    }
   }
  },
  {
   "cell_type": "code",
   "execution_count": 41,
   "outputs": [
    {
     "name": "stdout",
     "output_type": "stream",
     "text": [
      "Cross-Validation Accuracy: 0.4129032258064516\n"
     ]
    },
    {
     "name": "stderr",
     "output_type": "stream",
     "text": [
      "/Users/pol/dotfiles/dotfiles/.local/share/virtualenvs/MD2-Msi-27M8/lib/python3.11/site-packages/sklearn/model_selection/_split.py:700: UserWarning: The least populated class in y has only 2 members, which is less than n_splits=5.\n",
      "  warnings.warn(\n"
     ]
    }
   ],
   "source": [
    "cv_accuracy = cross_val_score(best_svc, X_test, y_test, cv=5).mean()\n",
    "print(\"Cross-Validation Accuracy:\", cv_accuracy)"
   ],
   "metadata": {
    "collapsed": false,
    "ExecuteTime": {
     "end_time": "2023-06-01T10:31:51.110201Z",
     "start_time": "2023-06-01T10:31:50.948406Z"
    }
   }
  },
  {
   "cell_type": "code",
   "execution_count": 42,
   "metadata": {
    "ExecuteTime": {
     "end_time": "2023-06-01T10:31:51.120795Z",
     "start_time": "2023-06-01T10:31:51.112987Z"
    }
   },
   "outputs": [
    {
     "name": "stdout",
     "output_type": "stream",
     "text": [
      "Main support vectors:\n",
      "              X0          Y0         Z0         X1          Y1         Z1   \n",
      "5703   30.563002  135.149006 -78.979213  54.084874   90.475213 -45.956586  \\\n",
      "5395   73.942190  128.366016 -56.313855  -6.888057   74.000941 -46.584328   \n",
      "5815   52.997729   91.657617 -46.157552 -12.553861   51.792506 -63.485508   \n",
      "7431   10.499785  135.004311 -36.675038  58.371888   60.761394 -85.991251   \n",
      "5071   -8.269335   77.298396 -31.374891  51.419201  137.960685 -40.320016   \n",
      "...          ...         ...        ...        ...         ...        ...   \n",
      "77324  93.707183   59.888498 -57.929556  58.516500  141.373618 -25.646370   \n",
      "76114  54.977188  145.002848  32.358757  87.663147   44.345400 -44.134755   \n",
      "73550  -9.542171   81.282357  12.649004  69.071606  139.871613   7.241253   \n",
      "72522  15.123543   93.911954  17.121236  72.880423   57.927791 -46.344878   \n",
      "74013  42.241275  102.601383  11.367754  87.205503   75.680415 -44.743584   \n",
      "\n",
      "              X2          Y2         Z2                 X3  ...   \n",
      "5703   -4.493528   33.266410 -98.069559   7.00765477929158  ...  \\\n",
      "5395   48.064606   92.136997 -35.128026   56.3965233773338  ...   \n",
      "5815   29.330090  133.361479 -80.643738   5.98323192065148  ...   \n",
      "7431  -11.007765  128.770106 -21.561311  -8.02498184699139  ...   \n",
      "5071   80.666943   82.779534 -64.588368   57.2400060508308  ...   \n",
      "...          ...         ...        ...                ...  ...   \n",
      "77324  -5.886727   96.347104  -5.691099   57.5678867581357  ...   \n",
      "76114   3.664025  105.391405  -0.602418   69.9478086177613  ...   \n",
      "73550  22.427639  140.527076  41.039524   87.1200260521242  ...   \n",
      "72522  89.260391   75.303081 -41.280541   58.5118019139577  ...   \n",
      "74013  17.508381   92.915782  18.570629  0.249720893113016  ...   \n",
      "\n",
      "                      Z8                 X9                Y9   \n",
      "5703                   0                  0                 0  \\\n",
      "5395                   0                  0                 0   \n",
      "5815                   0                  0                 0   \n",
      "7431    3.64149573610483   50.4505672311469  30.2231953514935   \n",
      "5071                   0                  0                 0   \n",
      "...                  ...                ...               ...   \n",
      "77324  -43.6082086437332                  0                 0   \n",
      "76114  0.719891229573625                  0                 0   \n",
      "73550  -52.7728887035177    16.427523158919   93.625939528952   \n",
      "72522   11.3466780595817  -8.74724178643813  80.3326846030642   \n",
      "74013   27.8489155786844   61.2323950046959  37.9536431189398   \n",
      "\n",
      "                      Z9                X10               Y10   \n",
      "5703                   0                  0                 0  \\\n",
      "5395                   0                  0                 0   \n",
      "5815                   0                  0                 0   \n",
      "7431   -73.7262152520954   49.3806290551074   139.92813719941   \n",
      "5071                   0                  0                 0   \n",
      "...                  ...                ...               ...   \n",
      "77324                  0                  0                 0   \n",
      "76114                  0                  0                 0   \n",
      "73550   16.1693184214529   58.2596136558521  97.6880565139632   \n",
      "72522   16.2637691295011   62.4387798486617  37.7814709279272   \n",
      "74013  -52.9132227242222  -7.85891148459919  80.4462290144797   \n",
      "\n",
      "                     Z10 X11 Y11 Z11  \n",
      "5703                   0   0   0   0  \n",
      "5395                   0   0   0   0  \n",
      "5815                   0   0   0   0  \n",
      "7431   -37.4130973652212   0   0   0  \n",
      "5071                   0   0   0   0  \n",
      "...                  ...  ..  ..  ..  \n",
      "77324                  0   0   0   0  \n",
      "76114                  0   0   0   0  \n",
      "73550  -7.59469498568698   0   0   0  \n",
      "72522  -51.4763443953312   0   0   0  \n",
      "74013   15.9354624237776   0   0   0  \n",
      "\n",
      "[2416 rows x 36 columns]\n"
     ]
    }
   ],
   "source": [
    "# Get the indices of the support vectors\n",
    "support_vector_indices = best_svc.support_\n",
    "\n",
    "# Inspect the main support vectors\n",
    "main_support_vectors = X_train.iloc[support_vector_indices]\n",
    "print(\"Main support vectors:\")\n",
    "print(main_support_vectors)\n"
   ]
  },
  {
   "cell_type": "markdown",
   "metadata": {},
   "source": [
    "Analysis of the main support vectors"
   ]
  },
  {
   "cell_type": "code",
   "execution_count": 43,
   "metadata": {
    "ExecuteTime": {
     "end_time": "2023-06-01T10:31:51.127996Z",
     "start_time": "2023-06-01T10:31:51.124325Z"
    }
   },
   "outputs": [],
   "source": [
    "from matplotlib import pyplot as plt\n",
    "\n",
    "# Get the indices of the support vectors\n",
    "support_vector_indices = best_svc.support_\n",
    "\n",
    "# Get the support vectors from the training data\n",
    "support_vectors = X_train.iloc[support_vector_indices]\n",
    "\n",
    "# Get the class labels of the support vectors\n",
    "support_vector_labels = y_train.iloc[support_vector_indices]\n",
    "\n",
    "# Count the number of support vectors for each class\n",
    "support_vector_counts = support_vector_labels.value_counts()"
   ]
  },
  {
   "cell_type": "code",
   "execution_count": 44,
   "metadata": {
    "ExecuteTime": {
     "end_time": "2023-06-01T10:31:51.380333Z",
     "start_time": "2023-06-01T10:31:51.134917Z"
    }
   },
   "outputs": [
    {
     "data": {
      "text/plain": "<Figure size 800x600 with 1 Axes>",
      "image/png": "[encoded data removed]"
     },
     "metadata": {},
     "output_type": "display_data"
    }
   ],
   "source": [
    "\n",
    "# Plot the distribution of support vectors across classes\n",
    "plt.figure(figsize=(8, 6))\n",
    "support_vector_counts.plot(kind='bar')\n",
    "plt.title('Distribution of Support Vectors')\n",
    "plt.xlabel('Class')\n",
    "plt.ylabel('Count')\n",
    "plt.show()"
   ]
  },
  {
   "cell_type": "code",
   "execution_count": 45,
   "metadata": {
    "ExecuteTime": {
     "end_time": "2023-06-01T10:31:51.466619Z",
     "start_time": "2023-06-01T10:31:51.381932Z"
    }
   },
   "outputs": [
    {
     "name": "stdout",
     "output_type": "stream",
     "text": [
      "Support Vector Statistics:\n",
      "Number of support vectors: 2416\n"
     ]
    }
   ],
   "source": [
    "# Print the statistics of the support vectors\n",
    "print(\"Support Vector Statistics:\")\n",
    "print(\"Number of support vectors:\", len(support_vectors))"
   ]
  },
  {
   "cell_type": "code",
   "execution_count": 46,
   "metadata": {
    "ExecuteTime": {
     "end_time": "2023-06-01T10:31:51.467147Z",
     "start_time": "2023-06-01T10:31:51.392070Z"
    }
   },
   "outputs": [
    {
     "name": "stdout",
     "output_type": "stream",
     "text": [
      "Class-wise distribution:\n",
      "User\n",
      "10    290\n",
      "13    272\n",
      "14    262\n",
      "0     257\n",
      "11    236\n",
      "8     209\n",
      "5     151\n",
      "12    149\n",
      "6     146\n",
      "2     141\n",
      "9     140\n",
      "1     121\n",
      "7      26\n",
      "4      16\n",
      "Name: count, dtype: int64\n"
     ]
    }
   ],
   "source": [
    "print(\"Class-wise distribution:\")\n",
    "print(support_vector_counts)"
   ]
  },
  {
   "cell_type": "code",
   "execution_count": 47,
   "metadata": {
    "ExecuteTime": {
     "end_time": "2023-06-01T10:31:51.467250Z",
     "start_time": "2023-06-01T10:31:51.403232Z"
    }
   },
   "outputs": [],
   "source": [
    "# Plot the support vectors in a scatter plot (for 2D data)\n",
    "if X_train.shape[1] == 2:\n",
    "    plt.figure(figsize=(8, 6))\n",
    "    plt.scatter(X_train.iloc[:, 0], X_train.iloc[:, 1], c=y_train, cmap='viridis', label='Training Data')\n",
    "    plt.scatter(support_vectors.iloc[:, 0], support_vectors.iloc[:, 1], c='red', label='Support Vectors')\n",
    "    plt.title('Support Vectors')\n",
    "    plt.xlabel('Feature 1')\n",
    "    plt.ylabel('Feature 2')\n",
    "    plt.legend()\n",
    "    plt.show()\n"
   ]
  },
  {
   "cell_type": "code",
   "execution_count": 48,
   "metadata": {
    "ExecuteTime": {
     "end_time": "2023-06-01T10:31:52.125888Z",
     "start_time": "2023-06-01T10:31:51.414101Z"
    }
   },
   "outputs": [
    {
     "name": "stdout",
     "output_type": "stream",
     "text": [
      "Distances from Decision Boundary:\n",
      "[[13.30952305  3.81244407  1.76415664 ...  5.03614313  9.19318083\n",
      "  10.20414043]\n",
      " [13.30955832  9.19622732  3.77785755 ... 12.29296978 10.24835021\n",
      "   6.91871803]\n",
      " [13.3095246   3.81254632  1.77310718 ...  5.04780892 10.18654665\n",
      "  10.22043097]\n",
      " ...\n",
      " [12.23992482  1.79654436  2.81726596 ...  3.87470169  7.02082659\n",
      "  13.30952401]\n",
      " [11.22853948  1.81438843  4.83361143 ...  2.81423794 10.22041281\n",
      "  13.30952397]\n",
      " [11.23305479  1.79226338  2.80428649 ...  3.87849398  9.20783514\n",
      "  13.30952138]]\n"
     ]
    }
   ],
   "source": [
    "distances = best_svc.decision_function(support_vectors)\n",
    "print(\"Distances from Decision Boundary:\")\n",
    "print(distances)\n"
   ]
  },
  {
   "cell_type": "markdown",
   "metadata": {},
   "source": [
    "Support Vectors and Contributions only make sense when we are talking about linear SVMs so we will not use them as our best model is an RBF kernel"
   ]
  },
  {
   "cell_type": "code",
   "execution_count": 49,
   "metadata": {
    "ExecuteTime": {
     "end_time": "2023-06-01T10:31:52.129912Z",
     "start_time": "2023-06-01T10:31:52.127123Z"
    }
   },
   "outputs": [],
   "source": [
    "# weights = best_svc.coef_\n",
    "# print(\"Support Vector Weights:\")\n",
    "# print(weights)\n"
   ]
  },
  {
   "cell_type": "code",
   "execution_count": 50,
   "metadata": {
    "ExecuteTime": {
     "end_time": "2023-06-01T10:31:52.133186Z",
     "start_time": "2023-06-01T10:31:52.130200Z"
    }
   },
   "outputs": [],
   "source": [
    "# contributions = np.abs(weights @ support_vectors.T + best_svc.intercept_)\n",
    "# print(\"Support Vector Contributions:\")\n",
    "# print(contributions)\n"
   ]
  },
  {
   "cell_type": "markdown",
   "metadata": {},
   "source": []
  },
  {
   "cell_type": "code",
   "execution_count": 51,
   "metadata": {
    "ExecuteTime": {
     "end_time": "2023-06-01T10:31:52.135606Z",
     "start_time": "2023-06-01T10:31:52.134337Z"
    }
   },
   "outputs": [],
   "source": [
    "# svm = SVC(kernel='linear', gamma=0.0001, C = 10)\n",
    "# svm.fit(X_train, y_train)\n",
    "# save_results(svm,X_test, y_test, \"SVM\", results_df_user)\n",
    "# test_model_and_save_result(svm, \"SVM linear\", X_train, X_test, y_train, y_test, results_df)\n"
   ]
  },
  {
   "cell_type": "code",
   "execution_count": 52,
   "metadata": {
    "ExecuteTime": {
     "end_time": "2023-06-01T10:31:52.138700Z",
     "start_time": "2023-06-01T10:31:52.137499Z"
    }
   },
   "outputs": [],
   "source": [
    "# svm = SVC(kernel='poly', gamma=0.0001, C = 10)\n",
    "# test_model_and_save_result(svm, \"polynomial\", X_train, X_test, y_train, y_test, results_df)\n"
   ]
  }
 ],
 "metadata": {
  "kernelspec": {
   "display_name": "Python 3 (ipykernel)",
   "language": "python",
   "name": "python3"
  },
  "language_info": {
   "codemirror_mode": {
    "name": "ipython",
    "version": 3
   },
   "file_extension": ".py",
   "mimetype": "text/x-python",
   "name": "python",
   "nbconvert_exporter": "python",
   "pygments_lexer": "ipython3",
   "version": "3.10.6"
  }
 },
 "nbformat": 4,
 "nbformat_minor": 1
}
