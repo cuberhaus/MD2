{
 "cells": [
  {
   "cell_type": "code",
   "execution_count": 1,
   "metadata": {
    "collapsed": true,
    "ExecuteTime": {
     "end_time": "2023-05-22T22:22:17.374349Z",
     "start_time": "2023-05-22T22:22:15.901904Z"
    }
   },
   "outputs": [
    {
     "name": "stdout",
     "output_type": "stream",
     "text": [
      "       Class  User         X0          Y0         Z0         X1          Y1   \n",
      "0          0     0   0.000000    0.000000   0.000000   0.000000    0.000000  \\\n",
      "1          1     0  54.263880   71.466776 -64.807709  76.895635   42.462500   \n",
      "2          1     0  56.527558   72.266609 -61.935252  39.135978   82.538530   \n",
      "3          1     0  55.849928   72.469064 -62.562788  37.988804   82.631347   \n",
      "4          1     0  55.329647   71.707275 -63.688956  36.561863   81.868749   \n",
      "...      ...   ...        ...         ...        ...        ...         ...   \n",
      "78091      5    14  54.251127  129.177414 -44.252511  27.720784  107.810661   \n",
      "78092      5    14  54.334883  129.253842 -44.016320  27.767911  107.914808   \n",
      "78093      5    14  54.151540  129.269502 -44.173273  27.725978  108.034006   \n",
      "78094      5    14  27.915311  108.007390  10.814957  -0.910435  122.464093   \n",
      "78095      5    14  27.898705  108.092877  11.107857 -30.031402   77.740235   \n",
      "\n",
      "              Z1         X2          Y2  ...                 Z8   \n",
      "0       0.000000   0.000000    0.000000  ...                  0  \\\n",
      "1     -72.780545  36.621229   81.680557  ...                  0   \n",
      "2     -49.596509  79.223743   43.254091  ...                  0   \n",
      "3     -50.606259  78.451526   43.567403  ...                  0   \n",
      "4     -52.752784  86.320630   68.214645  ...                  0   \n",
      "...          ...        ...         ...  ...                ...   \n",
      "78091  11.099282  -1.270139  122.758679  ...  -6.54311453354464   \n",
      "78092  11.069842 -30.334054   77.858214  ...  -62.1305625712145   \n",
      "78093  11.020347 -22.574718  104.222208  ...   3.83590370588782   \n",
      "78094 -47.271248 -30.084588   77.705861  ...  -63.2216259324485   \n",
      "78095 -17.453099  -1.091566  122.827638  ...  -63.0265744155222   \n",
      "\n",
      "                     X9                Y9                 Z9 X10 Y10 Z10 X11   \n",
      "0                     0                 0                  0   0   0   0   0  \\\n",
      "1                     0                 0                  0   0   0   0   0   \n",
      "2                     0                 0                  0   0   0   0   0   \n",
      "3                     0                 0                  0   0   0   0   0   \n",
      "4                     0                 0                  0   0   0   0   0   \n",
      "...                 ...               ...                ...  ..  ..  ..  ..   \n",
      "78091  87.7333643096221  61.2163626180662  -62.1262783028233   0   0   0   0   \n",
      "78092  78.2298473919132  33.0784071753174  -45.2495433686171   0   0   0   0   \n",
      "78093   78.591554010542    32.32773753847  -46.1665560916632   0   0   0   0   \n",
      "78094                 0                 0                  0   0   0   0   0   \n",
      "78095  78.8796525666014  31.6030997578398  -47.0137357205196   0   0   0   0   \n",
      "\n",
      "      Y11 Z11  \n",
      "0       0   0  \n",
      "1       0   0  \n",
      "2       0   0  \n",
      "3       0   0  \n",
      "4       0   0  \n",
      "...    ..  ..  \n",
      "78091   0   0  \n",
      "78092   0   0  \n",
      "78093   0   0  \n",
      "78094   0   0  \n",
      "78095   0   0  \n",
      "\n",
      "[78096 rows x 38 columns]\n"
     ]
    }
   ],
   "source": [
    "from sklearn.neighbors import KNeighborsClassifier\n",
    "from sklearn.svm import SVC\n",
    "from sklearn.model_selection import GridSearchCV\n",
    "\n",
    "from dataLoader import *\n",
    "\n",
    "results_df_user = pd.DataFrame()\n",
    "df = getdf()\n",
    "print(df)"
   ]
  },
  {
   "cell_type": "code",
   "execution_count": 2,
   "outputs": [
    {
     "name": "stdout",
     "output_type": "stream",
     "text": [
      "       Class  User         X0          Y0         Z0         X1          Y1   \n",
      "31         1     0  57.180096   71.838498 -61.088297  60.119893   10.288437  \\\n",
      "74         1     0  61.734499    9.673791 -68.924914  86.654889   66.667146   \n",
      "80         1     0  32.704478   81.083559 -57.260817  63.478371   11.058649   \n",
      "116        1     0  33.917567   81.283572 -55.754658  61.123450   10.781355   \n",
      "152        1     0  60.912669   11.111868 -69.758491  54.330034   71.910457   \n",
      "...      ...   ...        ...         ...        ...        ...         ...   \n",
      "77965      5    14  27.218289  136.855848 -31.454454  -0.687830  123.653360   \n",
      "77967      5    14  81.257245   29.368540 -50.540934 -22.074261  106.241875   \n",
      "78028      5    14  80.916157   28.187499 -52.610947  61.793672  101.641934   \n",
      "78044      5    14  -2.371614  124.440235 -43.457899 -30.380682   77.606929   \n",
      "78059      5    14  55.197635  129.614546 -42.765921  78.683541   31.947087   \n",
      "\n",
      "              Z1         X2          Y2  ...                 Z8   \n",
      "31    -70.450838  32.428867   80.817582  ...                  0  \\\n",
      "74    -73.507645  34.813024   80.472361  ...                  0   \n",
      "80    -66.963725  78.226492   42.703194  ...                  0   \n",
      "116   -69.298979  56.960957   71.935300  ...                  0   \n",
      "152   -64.055836  35.438874   81.687724  ...                  0   \n",
      "...          ...        ...         ...  ...                ...   \n",
      "77965 -45.095039  87.107739   62.239138  ...   11.5862490624757   \n",
      "77967 -51.203688  -0.904495   98.031880  ...  -29.8192790823115   \n",
      "78028  -6.187505  -0.156308   96.674074  ...  -31.7735624212129   \n",
      "78044 -17.472900  61.610487  100.867509  ...  -59.0567073945544   \n",
      "78059 -45.638755  -1.252660   97.880707  ...  -60.2928468116731   \n",
      "\n",
      "                     X9                Y9                 Z9 X10 Y10 Z10 X11   \n",
      "31                    0                 0                  0   0   0   0   0  \\\n",
      "74                    0                 0                  0   0   0   0   0   \n",
      "80                    0                 0                  0   0   0   0   0   \n",
      "116                   0                 0                  0   0   0   0   0   \n",
      "152                   0                 0                  0   0   0   0   0   \n",
      "...                 ...               ...                ...  ..  ..  ..  ..   \n",
      "77965  55.6578282758296  129.181076684127  -42.8588104393364   0   0   0   0   \n",
      "77967  61.8850342609124  101.539969401072  -3.57014403562894   0   0   0   0   \n",
      "78028  -1.8576784677778  124.097966217619  -43.9892511244917   0   0   0   0   \n",
      "78044  80.2226169950058   30.831859156529  -48.0061358039209   0   0   0   0   \n",
      "78059  29.4733023976256  106.268956989267   8.98310305860976   0   0   0   0   \n",
      "\n",
      "      Y11 Z11  \n",
      "31      0   0  \n",
      "74      0   0  \n",
      "80      0   0  \n",
      "116     0   0  \n",
      "152     0   0  \n",
      "...    ..  ..  \n",
      "77965   0   0  \n",
      "77967   0   0  \n",
      "78028   0   0  \n",
      "78044   0   0  \n",
      "78059   0   0  \n",
      "\n",
      "[3096 rows x 38 columns]\n"
     ]
    }
   ],
   "source": [
    "drop_indices = np.random.choice(df.index, 75000, replace=False)\n",
    "df = df.drop(drop_indices)\n",
    "print(df)\n"
   ],
   "metadata": {
    "collapsed": false,
    "ExecuteTime": {
     "end_time": "2023-05-22T22:22:17.390828Z",
     "start_time": "2023-05-22T22:22:17.373622Z"
    }
   }
  },
  {
   "cell_type": "code",
   "execution_count": 3,
   "outputs": [],
   "source": [
    "X_train, X_test, y_train, y_test = get_test_training_df(df,0.20)\n"
   ],
   "metadata": {
    "collapsed": false,
    "ExecuteTime": {
     "end_time": "2023-05-22T22:22:17.393899Z",
     "start_time": "2023-05-22T22:22:17.385106Z"
    }
   }
  },
  {
   "cell_type": "markdown",
   "source": [
    "This is just a test"
   ],
   "metadata": {
    "collapsed": false
   }
  },
  {
   "cell_type": "code",
   "execution_count": 4,
   "outputs": [
    {
     "data": {
      "text/plain": "              X0          Y0         Z0         X1          Y1         Z1   \n64887  12.251516   89.843287  12.078744  52.697019   92.601048   9.515689  \\\n69105  18.514226  130.334761 -45.593766 -24.471324   87.132723 -18.277025   \n49515   5.259419   96.969559 -23.179500  73.268590   79.824289 -59.150185   \n62937  53.770606   19.953596 -63.591926  57.087766   51.533303 -71.644921   \n59784  65.701923  133.823050 -15.281357  39.386389   89.001558  -7.816113   \n...          ...         ...        ...        ...         ...        ...   \n41549  55.233481   65.334392 -70.759533  60.810340   -1.931057 -80.248254   \n28376  86.434508   41.308707 -33.979372  79.820978   17.229610 -38.758505   \n29205  56.153403   70.212240 -66.485538  37.426126   73.247398 -53.925435   \n33227  87.687407   23.778664 -87.270098  51.083556  153.094863 -23.888801   \n22894  64.465713  133.315839  23.215606  57.029115   80.733076  24.243180   \n\n              X2          Y2         Z2                 X3  ...   \n64887  -1.430677  119.244350  15.601420   23.1178740162158  ...  \\\n69105  54.067333  102.770990  -9.752826   -2.9149582061589  ...   \n49515  74.953981   52.696471 -58.011895   46.6804405518743  ...   \n62937  12.689710   76.410347 -42.389756   56.1031217854066  ...   \n59784  49.537508  150.862230 -17.261666  -12.0704726129925  ...   \n...          ...         ...        ...                ...  ...   \n41549  74.414004   36.113953 -84.229983   66.3485842867579  ...   \n28376  90.353440  105.994999 -20.566131   74.3245359656642  ...   \n29205  61.899051    0.315270 -80.814625   14.7136196933694  ...   \n33227  63.074923   -3.082415 -81.264518   48.0916797012131  ...   \n22894   3.506120   81.855535  44.460899   2.32271831131844  ...   \n\n                      Z8                X9                Y9   \n64887   2.70095637168251  76.6951368732942  52.2471382510443  \\\n69105                  0                 0                 0   \n49515                  0                 0                 0   \n62937                  0                 0                 0   \n59784                  0                 0                 0   \n...                  ...               ...               ...   \n41549                  0                 0                 0   \n28376                  0                 0                 0   \n29205                  0                 0                 0   \n33227                  0                 0                 0   \n22894  -52.6273793804448  48.7471458013424  102.849318280708   \n\n                      Z9 X10 Y10 Z10 X11 Y11 Z11  \n64887  -18.1953282771565   0   0   0   0   0   0  \n69105                  0   0   0   0   0   0   0  \n49515                  0   0   0   0   0   0   0  \n62937                  0   0   0   0   0   0   0  \n59784                  0   0   0   0   0   0   0  \n...                  ...  ..  ..  ..  ..  ..  ..  \n41549                  0   0   0   0   0   0   0  \n28376                  0   0   0   0   0   0   0  \n29205                  0   0   0   0   0   0   0  \n33227                  0   0   0   0   0   0   0  \n22894  -54.2041058680539   0   0   0   0   0   0  \n\n[2476 rows x 36 columns]",
      "text/html": "<div>\n<style scoped>\n    .dataframe tbody tr th:only-of-type {\n        vertical-align: middle;\n    }\n\n    .dataframe tbody tr th {\n        vertical-align: top;\n    }\n\n    .dataframe thead th {\n        text-align: right;\n    }\n</style>\n<table border=\"1\" class=\"dataframe\">\n  <thead>\n    <tr style=\"text-align: right;\">\n      <th></th>\n      <th>X0</th>\n      <th>Y0</th>\n      <th>Z0</th>\n      <th>X1</th>\n      <th>Y1</th>\n      <th>Z1</th>\n      <th>X2</th>\n      <th>Y2</th>\n      <th>Z2</th>\n      <th>X3</th>\n      <th>...</th>\n      <th>Z8</th>\n      <th>X9</th>\n      <th>Y9</th>\n      <th>Z9</th>\n      <th>X10</th>\n      <th>Y10</th>\n      <th>Z10</th>\n      <th>X11</th>\n      <th>Y11</th>\n      <th>Z11</th>\n    </tr>\n  </thead>\n  <tbody>\n    <tr>\n      <th>64887</th>\n      <td>12.251516</td>\n      <td>89.843287</td>\n      <td>12.078744</td>\n      <td>52.697019</td>\n      <td>92.601048</td>\n      <td>9.515689</td>\n      <td>-1.430677</td>\n      <td>119.244350</td>\n      <td>15.601420</td>\n      <td>23.1178740162158</td>\n      <td>...</td>\n      <td>2.70095637168251</td>\n      <td>76.6951368732942</td>\n      <td>52.2471382510443</td>\n      <td>-18.1953282771565</td>\n      <td>0</td>\n      <td>0</td>\n      <td>0</td>\n      <td>0</td>\n      <td>0</td>\n      <td>0</td>\n    </tr>\n    <tr>\n      <th>69105</th>\n      <td>18.514226</td>\n      <td>130.334761</td>\n      <td>-45.593766</td>\n      <td>-24.471324</td>\n      <td>87.132723</td>\n      <td>-18.277025</td>\n      <td>54.067333</td>\n      <td>102.770990</td>\n      <td>-9.752826</td>\n      <td>-2.9149582061589</td>\n      <td>...</td>\n      <td>0</td>\n      <td>0</td>\n      <td>0</td>\n      <td>0</td>\n      <td>0</td>\n      <td>0</td>\n      <td>0</td>\n      <td>0</td>\n      <td>0</td>\n      <td>0</td>\n    </tr>\n    <tr>\n      <th>49515</th>\n      <td>5.259419</td>\n      <td>96.969559</td>\n      <td>-23.179500</td>\n      <td>73.268590</td>\n      <td>79.824289</td>\n      <td>-59.150185</td>\n      <td>74.953981</td>\n      <td>52.696471</td>\n      <td>-58.011895</td>\n      <td>46.6804405518743</td>\n      <td>...</td>\n      <td>0</td>\n      <td>0</td>\n      <td>0</td>\n      <td>0</td>\n      <td>0</td>\n      <td>0</td>\n      <td>0</td>\n      <td>0</td>\n      <td>0</td>\n      <td>0</td>\n    </tr>\n    <tr>\n      <th>62937</th>\n      <td>53.770606</td>\n      <td>19.953596</td>\n      <td>-63.591926</td>\n      <td>57.087766</td>\n      <td>51.533303</td>\n      <td>-71.644921</td>\n      <td>12.689710</td>\n      <td>76.410347</td>\n      <td>-42.389756</td>\n      <td>56.1031217854066</td>\n      <td>...</td>\n      <td>0</td>\n      <td>0</td>\n      <td>0</td>\n      <td>0</td>\n      <td>0</td>\n      <td>0</td>\n      <td>0</td>\n      <td>0</td>\n      <td>0</td>\n      <td>0</td>\n    </tr>\n    <tr>\n      <th>59784</th>\n      <td>65.701923</td>\n      <td>133.823050</td>\n      <td>-15.281357</td>\n      <td>39.386389</td>\n      <td>89.001558</td>\n      <td>-7.816113</td>\n      <td>49.537508</td>\n      <td>150.862230</td>\n      <td>-17.261666</td>\n      <td>-12.0704726129925</td>\n      <td>...</td>\n      <td>0</td>\n      <td>0</td>\n      <td>0</td>\n      <td>0</td>\n      <td>0</td>\n      <td>0</td>\n      <td>0</td>\n      <td>0</td>\n      <td>0</td>\n      <td>0</td>\n    </tr>\n    <tr>\n      <th>...</th>\n      <td>...</td>\n      <td>...</td>\n      <td>...</td>\n      <td>...</td>\n      <td>...</td>\n      <td>...</td>\n      <td>...</td>\n      <td>...</td>\n      <td>...</td>\n      <td>...</td>\n      <td>...</td>\n      <td>...</td>\n      <td>...</td>\n      <td>...</td>\n      <td>...</td>\n      <td>...</td>\n      <td>...</td>\n      <td>...</td>\n      <td>...</td>\n      <td>...</td>\n      <td>...</td>\n    </tr>\n    <tr>\n      <th>41549</th>\n      <td>55.233481</td>\n      <td>65.334392</td>\n      <td>-70.759533</td>\n      <td>60.810340</td>\n      <td>-1.931057</td>\n      <td>-80.248254</td>\n      <td>74.414004</td>\n      <td>36.113953</td>\n      <td>-84.229983</td>\n      <td>66.3485842867579</td>\n      <td>...</td>\n      <td>0</td>\n      <td>0</td>\n      <td>0</td>\n      <td>0</td>\n      <td>0</td>\n      <td>0</td>\n      <td>0</td>\n      <td>0</td>\n      <td>0</td>\n      <td>0</td>\n    </tr>\n    <tr>\n      <th>28376</th>\n      <td>86.434508</td>\n      <td>41.308707</td>\n      <td>-33.979372</td>\n      <td>79.820978</td>\n      <td>17.229610</td>\n      <td>-38.758505</td>\n      <td>90.353440</td>\n      <td>105.994999</td>\n      <td>-20.566131</td>\n      <td>74.3245359656642</td>\n      <td>...</td>\n      <td>0</td>\n      <td>0</td>\n      <td>0</td>\n      <td>0</td>\n      <td>0</td>\n      <td>0</td>\n      <td>0</td>\n      <td>0</td>\n      <td>0</td>\n      <td>0</td>\n    </tr>\n    <tr>\n      <th>29205</th>\n      <td>56.153403</td>\n      <td>70.212240</td>\n      <td>-66.485538</td>\n      <td>37.426126</td>\n      <td>73.247398</td>\n      <td>-53.925435</td>\n      <td>61.899051</td>\n      <td>0.315270</td>\n      <td>-80.814625</td>\n      <td>14.7136196933694</td>\n      <td>...</td>\n      <td>0</td>\n      <td>0</td>\n      <td>0</td>\n      <td>0</td>\n      <td>0</td>\n      <td>0</td>\n      <td>0</td>\n      <td>0</td>\n      <td>0</td>\n      <td>0</td>\n    </tr>\n    <tr>\n      <th>33227</th>\n      <td>87.687407</td>\n      <td>23.778664</td>\n      <td>-87.270098</td>\n      <td>51.083556</td>\n      <td>153.094863</td>\n      <td>-23.888801</td>\n      <td>63.074923</td>\n      <td>-3.082415</td>\n      <td>-81.264518</td>\n      <td>48.0916797012131</td>\n      <td>...</td>\n      <td>0</td>\n      <td>0</td>\n      <td>0</td>\n      <td>0</td>\n      <td>0</td>\n      <td>0</td>\n      <td>0</td>\n      <td>0</td>\n      <td>0</td>\n      <td>0</td>\n    </tr>\n    <tr>\n      <th>22894</th>\n      <td>64.465713</td>\n      <td>133.315839</td>\n      <td>23.215606</td>\n      <td>57.029115</td>\n      <td>80.733076</td>\n      <td>24.243180</td>\n      <td>3.506120</td>\n      <td>81.855535</td>\n      <td>44.460899</td>\n      <td>2.32271831131844</td>\n      <td>...</td>\n      <td>-52.6273793804448</td>\n      <td>48.7471458013424</td>\n      <td>102.849318280708</td>\n      <td>-54.2041058680539</td>\n      <td>0</td>\n      <td>0</td>\n      <td>0</td>\n      <td>0</td>\n      <td>0</td>\n      <td>0</td>\n    </tr>\n  </tbody>\n</table>\n<p>2476 rows × 36 columns</p>\n</div>"
     },
     "execution_count": 4,
     "metadata": {},
     "output_type": "execute_result"
    }
   ],
   "source": [
    "X_train"
   ],
   "metadata": {
    "collapsed": false,
    "ExecuteTime": {
     "end_time": "2023-05-22T22:22:17.428282Z",
     "start_time": "2023-05-22T22:22:17.393725Z"
    }
   }
  },
  {
   "cell_type": "code",
   "execution_count": 5,
   "outputs": [
    {
     "data": {
      "text/plain": "              X0          Y0         Z0         X1          Y1          Z1   \n49308  23.015672  101.089223 -32.930750  73.170303   53.218296  -60.692963  \\\n33524  -4.014045   84.771004 -38.539036  64.845083   35.982164 -103.102861   \n40903  50.109866   67.264143 -72.414223  65.330374   62.249129  -82.747356   \n65928  52.815451  131.592424 -17.016604  52.746954   92.772548  -15.528943   \n61390  16.786174   88.112019  21.477223  50.997720   87.132088   11.444562   \n...          ...         ...        ...        ...         ...         ...   \n68563  56.041944  137.386208 -10.740529  57.136154   96.925272   -8.051952   \n48451  28.535032    5.074107   9.560737  14.543236   89.738675  -78.025635   \n27049  52.682873   95.241887  -0.226840  79.227985   86.296047  -21.352411   \n71160  -5.086202   75.599174 -56.354950 -21.429404   70.236719  -41.147224   \n4695   59.137884   92.992695 -28.952655  51.483791  137.022765  -35.173012   \n\n              X2          Y2         Z2                X3  ...   \n49308  73.421900   79.691601 -59.041573  3.87780182621217  ...  \\\n33524  51.129546   93.493747 -41.871326  32.2139845520018  ...   \n40903 -10.935555   70.716173 -37.769837  7.99355566094679  ...   \n65928  29.520307    0.949140  -2.021913  62.9178078315987  ...   \n61390 -14.665615   88.885284   7.978875    78.62767562999  ...   \n...          ...         ...        ...               ...  ...   \n68563  35.633156  148.504007  -9.876587  37.4898497958018  ...   \n48451  -5.780395   84.619930 -72.932497  41.9459603846257  ...   \n27049 -11.673021   92.621378   1.613209  60.8628565960014  ...   \n71160  38.756466   81.467971 -61.949612  14.4809716718499  ...   \n4695   59.838505   19.148524 -68.302083  79.2275055696382  ...   \n\n                      Z8                 X9                Y9   \n49308                  0                  0                 0  \\\n33524                  0                  0                 0   \n40903                  0                  0                 0   \n65928                  0                  0                 0   \n61390  -17.4709301545294  -13.7175105500327  121.207229506245   \n...                  ...                ...               ...   \n68563                  0                  0                 0   \n48451                  0                  0                 0   \n27049  -27.6161532404965   -14.958615020282   127.87594323984   \n71160                  0                  0                 0   \n4695                   0                  0                 0   \n\n                      Z9 X10 Y10 Z10 X11 Y11 Z11  \n49308                  0   0   0   0   0   0   0  \n33524                  0   0   0   0   0   0   0  \n40903                  0   0   0   0   0   0   0  \n65928                  0   0   0   0   0   0   0  \n61390  -24.2084356724603   0   0   0   0   0   0  \n...                  ...  ..  ..  ..  ..  ..  ..  \n68563                  0   0   0   0   0   0   0  \n48451                  0   0   0   0   0   0   0  \n27049   -24.447525451263   0   0   0   0   0   0  \n71160                  0   0   0   0   0   0   0  \n4695                   0   0   0   0   0   0   0  \n\n[620 rows x 36 columns]",
      "text/html": "<div>\n<style scoped>\n    .dataframe tbody tr th:only-of-type {\n        vertical-align: middle;\n    }\n\n    .dataframe tbody tr th {\n        vertical-align: top;\n    }\n\n    .dataframe thead th {\n        text-align: right;\n    }\n</style>\n<table border=\"1\" class=\"dataframe\">\n  <thead>\n    <tr style=\"text-align: right;\">\n      <th></th>\n      <th>X0</th>\n      <th>Y0</th>\n      <th>Z0</th>\n      <th>X1</th>\n      <th>Y1</th>\n      <th>Z1</th>\n      <th>X2</th>\n      <th>Y2</th>\n      <th>Z2</th>\n      <th>X3</th>\n      <th>...</th>\n      <th>Z8</th>\n      <th>X9</th>\n      <th>Y9</th>\n      <th>Z9</th>\n      <th>X10</th>\n      <th>Y10</th>\n      <th>Z10</th>\n      <th>X11</th>\n      <th>Y11</th>\n      <th>Z11</th>\n    </tr>\n  </thead>\n  <tbody>\n    <tr>\n      <th>49308</th>\n      <td>23.015672</td>\n      <td>101.089223</td>\n      <td>-32.930750</td>\n      <td>73.170303</td>\n      <td>53.218296</td>\n      <td>-60.692963</td>\n      <td>73.421900</td>\n      <td>79.691601</td>\n      <td>-59.041573</td>\n      <td>3.87780182621217</td>\n      <td>...</td>\n      <td>0</td>\n      <td>0</td>\n      <td>0</td>\n      <td>0</td>\n      <td>0</td>\n      <td>0</td>\n      <td>0</td>\n      <td>0</td>\n      <td>0</td>\n      <td>0</td>\n    </tr>\n    <tr>\n      <th>33524</th>\n      <td>-4.014045</td>\n      <td>84.771004</td>\n      <td>-38.539036</td>\n      <td>64.845083</td>\n      <td>35.982164</td>\n      <td>-103.102861</td>\n      <td>51.129546</td>\n      <td>93.493747</td>\n      <td>-41.871326</td>\n      <td>32.2139845520018</td>\n      <td>...</td>\n      <td>0</td>\n      <td>0</td>\n      <td>0</td>\n      <td>0</td>\n      <td>0</td>\n      <td>0</td>\n      <td>0</td>\n      <td>0</td>\n      <td>0</td>\n      <td>0</td>\n    </tr>\n    <tr>\n      <th>40903</th>\n      <td>50.109866</td>\n      <td>67.264143</td>\n      <td>-72.414223</td>\n      <td>65.330374</td>\n      <td>62.249129</td>\n      <td>-82.747356</td>\n      <td>-10.935555</td>\n      <td>70.716173</td>\n      <td>-37.769837</td>\n      <td>7.99355566094679</td>\n      <td>...</td>\n      <td>0</td>\n      <td>0</td>\n      <td>0</td>\n      <td>0</td>\n      <td>0</td>\n      <td>0</td>\n      <td>0</td>\n      <td>0</td>\n      <td>0</td>\n      <td>0</td>\n    </tr>\n    <tr>\n      <th>65928</th>\n      <td>52.815451</td>\n      <td>131.592424</td>\n      <td>-17.016604</td>\n      <td>52.746954</td>\n      <td>92.772548</td>\n      <td>-15.528943</td>\n      <td>29.520307</td>\n      <td>0.949140</td>\n      <td>-2.021913</td>\n      <td>62.9178078315987</td>\n      <td>...</td>\n      <td>0</td>\n      <td>0</td>\n      <td>0</td>\n      <td>0</td>\n      <td>0</td>\n      <td>0</td>\n      <td>0</td>\n      <td>0</td>\n      <td>0</td>\n      <td>0</td>\n    </tr>\n    <tr>\n      <th>61390</th>\n      <td>16.786174</td>\n      <td>88.112019</td>\n      <td>21.477223</td>\n      <td>50.997720</td>\n      <td>87.132088</td>\n      <td>11.444562</td>\n      <td>-14.665615</td>\n      <td>88.885284</td>\n      <td>7.978875</td>\n      <td>78.62767562999</td>\n      <td>...</td>\n      <td>-17.4709301545294</td>\n      <td>-13.7175105500327</td>\n      <td>121.207229506245</td>\n      <td>-24.2084356724603</td>\n      <td>0</td>\n      <td>0</td>\n      <td>0</td>\n      <td>0</td>\n      <td>0</td>\n      <td>0</td>\n    </tr>\n    <tr>\n      <th>...</th>\n      <td>...</td>\n      <td>...</td>\n      <td>...</td>\n      <td>...</td>\n      <td>...</td>\n      <td>...</td>\n      <td>...</td>\n      <td>...</td>\n      <td>...</td>\n      <td>...</td>\n      <td>...</td>\n      <td>...</td>\n      <td>...</td>\n      <td>...</td>\n      <td>...</td>\n      <td>...</td>\n      <td>...</td>\n      <td>...</td>\n      <td>...</td>\n      <td>...</td>\n      <td>...</td>\n    </tr>\n    <tr>\n      <th>68563</th>\n      <td>56.041944</td>\n      <td>137.386208</td>\n      <td>-10.740529</td>\n      <td>57.136154</td>\n      <td>96.925272</td>\n      <td>-8.051952</td>\n      <td>35.633156</td>\n      <td>148.504007</td>\n      <td>-9.876587</td>\n      <td>37.4898497958018</td>\n      <td>...</td>\n      <td>0</td>\n      <td>0</td>\n      <td>0</td>\n      <td>0</td>\n      <td>0</td>\n      <td>0</td>\n      <td>0</td>\n      <td>0</td>\n      <td>0</td>\n      <td>0</td>\n    </tr>\n    <tr>\n      <th>48451</th>\n      <td>28.535032</td>\n      <td>5.074107</td>\n      <td>9.560737</td>\n      <td>14.543236</td>\n      <td>89.738675</td>\n      <td>-78.025635</td>\n      <td>-5.780395</td>\n      <td>84.619930</td>\n      <td>-72.932497</td>\n      <td>41.9459603846257</td>\n      <td>...</td>\n      <td>0</td>\n      <td>0</td>\n      <td>0</td>\n      <td>0</td>\n      <td>0</td>\n      <td>0</td>\n      <td>0</td>\n      <td>0</td>\n      <td>0</td>\n      <td>0</td>\n    </tr>\n    <tr>\n      <th>27049</th>\n      <td>52.682873</td>\n      <td>95.241887</td>\n      <td>-0.226840</td>\n      <td>79.227985</td>\n      <td>86.296047</td>\n      <td>-21.352411</td>\n      <td>-11.673021</td>\n      <td>92.621378</td>\n      <td>1.613209</td>\n      <td>60.8628565960014</td>\n      <td>...</td>\n      <td>-27.6161532404965</td>\n      <td>-14.958615020282</td>\n      <td>127.87594323984</td>\n      <td>-24.447525451263</td>\n      <td>0</td>\n      <td>0</td>\n      <td>0</td>\n      <td>0</td>\n      <td>0</td>\n      <td>0</td>\n    </tr>\n    <tr>\n      <th>71160</th>\n      <td>-5.086202</td>\n      <td>75.599174</td>\n      <td>-56.354950</td>\n      <td>-21.429404</td>\n      <td>70.236719</td>\n      <td>-41.147224</td>\n      <td>38.756466</td>\n      <td>81.467971</td>\n      <td>-61.949612</td>\n      <td>14.4809716718499</td>\n      <td>...</td>\n      <td>0</td>\n      <td>0</td>\n      <td>0</td>\n      <td>0</td>\n      <td>0</td>\n      <td>0</td>\n      <td>0</td>\n      <td>0</td>\n      <td>0</td>\n      <td>0</td>\n    </tr>\n    <tr>\n      <th>4695</th>\n      <td>59.137884</td>\n      <td>92.992695</td>\n      <td>-28.952655</td>\n      <td>51.483791</td>\n      <td>137.022765</td>\n      <td>-35.173012</td>\n      <td>59.838505</td>\n      <td>19.148524</td>\n      <td>-68.302083</td>\n      <td>79.2275055696382</td>\n      <td>...</td>\n      <td>0</td>\n      <td>0</td>\n      <td>0</td>\n      <td>0</td>\n      <td>0</td>\n      <td>0</td>\n      <td>0</td>\n      <td>0</td>\n      <td>0</td>\n      <td>0</td>\n    </tr>\n  </tbody>\n</table>\n<p>620 rows × 36 columns</p>\n</div>"
     },
     "execution_count": 5,
     "metadata": {},
     "output_type": "execute_result"
    }
   ],
   "source": [
    "X_test"
   ],
   "metadata": {
    "collapsed": false,
    "ExecuteTime": {
     "end_time": "2023-05-22T22:22:17.428997Z",
     "start_time": "2023-05-22T22:22:17.417207Z"
    }
   }
  },
  {
   "cell_type": "code",
   "execution_count": 6,
   "outputs": [
    {
     "name": "stdout",
     "output_type": "stream",
     "text": [
      "          acc      prec    recall  test f1 score (W)\n",
      "KNN  0.601613  0.602356  0.601613            0.55211\n"
     ]
    }
   ],
   "source": [
    "knn = KNeighborsClassifier(n_neighbors=1)\n",
    "test_model_and_save_result(knn, \"KNN\", X_train, X_test, y_train, y_test, results_df_user)\n",
    "print(results_df_user.sort_values(by=['acc'], ascending=False))\n"
   ],
   "metadata": {
    "collapsed": false,
    "ExecuteTime": {
     "end_time": "2023-05-22T22:22:17.747938Z",
     "start_time": "2023-05-22T22:22:17.421755Z"
    }
   }
  },
  {
   "cell_type": "code",
   "execution_count": 7,
   "outputs": [
    {
     "name": "stdout",
     "output_type": "stream",
     "text": [
      "Fitting 5 folds for each of 32 candidates, totalling 160 fits\n"
     ]
    },
    {
     "name": "stderr",
     "output_type": "stream",
     "text": [
      "/Users/pol/dotfiles/dotfiles/.local/share/virtualenvs/MD2-Msi-27M8/lib/python3.11/site-packages/sklearn/metrics/_classification.py:1344: UndefinedMetricWarning: Precision is ill-defined and being set to 0.0 in labels with no predicted samples. Use `zero_division` parameter to control this behavior.\n",
      "  _warn_prf(average, modifier, msg_start, len(result))\n"
     ]
    },
    {
     "data": {
      "text/plain": "          acc      prec    recall  test f1 score (W)\nKNN  0.601613  0.602356  0.601613           0.552110\nSVM  0.645161  0.756287  0.645161           0.600811",
      "text/html": "<div>\n<style scoped>\n    .dataframe tbody tr th:only-of-type {\n        vertical-align: middle;\n    }\n\n    .dataframe tbody tr th {\n        vertical-align: top;\n    }\n\n    .dataframe thead th {\n        text-align: right;\n    }\n</style>\n<table border=\"1\" class=\"dataframe\">\n  <thead>\n    <tr style=\"text-align: right;\">\n      <th></th>\n      <th>acc</th>\n      <th>prec</th>\n      <th>recall</th>\n      <th>test f1 score (W)</th>\n    </tr>\n  </thead>\n  <tbody>\n    <tr>\n      <th>KNN</th>\n      <td>0.601613</td>\n      <td>0.602356</td>\n      <td>0.601613</td>\n      <td>0.552110</td>\n    </tr>\n    <tr>\n      <th>SVM</th>\n      <td>0.645161</td>\n      <td>0.756287</td>\n      <td>0.645161</td>\n      <td>0.600811</td>\n    </tr>\n  </tbody>\n</table>\n</div>"
     },
     "execution_count": 7,
     "metadata": {},
     "output_type": "execute_result"
    }
   ],
   "source": [
    "# df = df.reset_index(drop=True)\n",
    "# param_grid = {'C':[1],\n",
    "#               'gamma':[1],\n",
    "#               'kernel':['rbf']}\n",
    "\n",
    "param_grid = {'C':[1,10,100,1000],\n",
    "              'gamma':[1,0.1,0.001,0.0001],\n",
    "              'kernel':[ 'rbf', 'sigmoid' ]}\n",
    "grid = GridSearchCV(SVC(),param_grid,refit = True, verbose=2, n_jobs=-1)\n",
    "grid.fit(X_train,y_train)\n",
    "save_results(grid,X_test, y_test, \"SVM\", results_df_user)"
   ],
   "metadata": {
    "collapsed": false,
    "ExecuteTime": {
     "end_time": "2023-05-22T22:22:28.036407Z",
     "start_time": "2023-05-22T22:22:17.501376Z"
    }
   }
  },
  {
   "cell_type": "code",
   "execution_count": 8,
   "outputs": [
    {
     "name": "stdout",
     "output_type": "stream",
     "text": [
      "{'C': 10, 'gamma': 0.0001, 'kernel': 'rbf'}\n"
     ]
    }
   ],
   "source": [
    "print(grid.best_params_)\n"
   ],
   "metadata": {
    "collapsed": false,
    "ExecuteTime": {
     "end_time": "2023-05-22T22:22:28.037330Z",
     "start_time": "2023-05-22T22:22:28.019736Z"
    }
   }
  },
  {
   "cell_type": "code",
   "execution_count": 13,
   "outputs": [
    {
     "name": "stdout",
     "output_type": "stream",
     "text": [
      "Number of support vectors: 2383\n"
     ]
    }
   ],
   "source": [
    "# 3. Get the best estimator with optimal hyperparameters\n",
    "best_svc = grid.best_estimator_\n",
    "\n",
    "# 4. Fit the model using the optimal hyperparameters\n",
    "best_svc.fit(X_train, y_train)\n",
    "\n",
    "# 5. Retrieve the support vectors\n",
    "support_vectors = best_svc.support_vectors_\n",
    "# Access the support vectors and retrieve the number of support vectors\n",
    "# support_vectors = grid.support_vectors_\n",
    "num_support_vectors = support_vectors.shape[0]\n",
    "\n",
    "print(\"Number of support vectors:\", num_support_vectors)"
   ],
   "metadata": {
    "collapsed": false,
    "ExecuteTime": {
     "end_time": "2023-05-22T22:23:44.560102Z",
     "start_time": "2023-05-22T22:23:44.187969Z"
    }
   }
  },
  {
   "cell_type": "code",
   "execution_count": 15,
   "outputs": [
    {
     "name": "stdout",
     "output_type": "stream",
     "text": [
      "Main support vectors:\n",
      "              X0          Y0          Z0         X1          Y1         Z1   \n",
      "6144    4.008380   65.655898  -62.571459  -7.340303   30.346628 -98.001268  \\\n",
      "5814   53.094094   91.706716  -45.974388   6.020051   63.381832 -64.003277   \n",
      "6247   48.021454   96.628727  -42.926822  21.595820  138.302473 -76.912257   \n",
      "7506   57.908737   61.051627  -85.417592  50.694561   30.678974 -72.685836   \n",
      "256    58.506311   72.615667  -59.085767  33.265246   81.445061 -55.459503   \n",
      "...          ...         ...         ...        ...         ...        ...   \n",
      "77191  92.400735   59.823405  -58.769615  58.957779   99.517164  -2.440918   \n",
      "75975 -25.592067   84.646581    1.493422  83.666762   40.993421 -43.890672   \n",
      "73154  55.462936  146.636324   27.030063  88.929609   75.235051 -42.096919   \n",
      "71923 -18.094096   49.055922 -104.605946  21.284107   92.738047 -52.635698   \n",
      "73535  88.104349   75.272893  -42.845233  69.852671  139.446824  10.200943   \n",
      "\n",
      "               X2          Y2         Z2                 X3  ...   \n",
      "6144   -14.324147   52.906370 -62.075153    22.721572025313  ...  \\\n",
      "5814    29.547760  133.139256 -80.611024   29.5339485720946  ...   \n",
      "6247   -14.665655   57.117476 -59.909809  -7.26434211541075  ...   \n",
      "7506    50.605859  139.803352 -34.271377  -12.5571931705874  ...   \n",
      "256     85.586240   68.508360 -72.638840    76.216054106791  ...   \n",
      "...           ...         ...        ...                ...  ...   \n",
      "77191   57.378152  141.759457 -26.272930   79.7203455306818  ...   \n",
      "75975  105.618311   49.935722 -34.382689   49.8617129747128  ...   \n",
      "73154   67.610968  139.226035  10.592744   14.3794233846697  ...   \n",
      "71923    0.124469   84.249795 -46.097412   6.02409153699849  ...   \n",
      "73535   -8.757795   80.797272  14.554452   54.0714591869708  ...   \n",
      "\n",
      "                      Z8                X9                Y9   \n",
      "6144                   0                 0                 0  \\\n",
      "5814                   0                 0                 0   \n",
      "6247                   0                 0                 0   \n",
      "7506   -23.8095594062055  63.6389963364103  100.135494369712   \n",
      "256                    0                 0                 0   \n",
      "...                  ...               ...               ...   \n",
      "77191   13.0944425976276                 0                 0   \n",
      "75975                  0                 0                 0   \n",
      "73154   16.6903968128252  41.8840713688661   102.41549901588   \n",
      "71923                  0                 0                 0   \n",
      "73535   40.5245459715353  71.7741849723286  58.2247426843424   \n",
      "\n",
      "                      Z9               X10               Y10   \n",
      "6144                   0                 0                 0  \\\n",
      "5814                   0                 0                 0   \n",
      "6247                   0                 0                 0   \n",
      "7506    3.17884805112023  76.3142528518663  133.174934683041   \n",
      "256                    0                 0                 0   \n",
      "...                  ...               ...               ...   \n",
      "77191                  0                 0                 0   \n",
      "75975                  0                 0                 0   \n",
      "73154   11.6812148576714   59.373880031043  39.4550347923888   \n",
      "71923                  0                 0                 0   \n",
      "73535  -48.0952702766812  58.3678250817125  97.6826056810367   \n",
      "\n",
      "                     Z10 X11 Y11 Z11  \n",
      "6144                   0   0   0   0  \n",
      "5814                   0   0   0   0  \n",
      "6247                   0   0   0   0  \n",
      "7506   -45.9568120258688   0   0   0  \n",
      "256                    0   0   0   0  \n",
      "...                  ...  ..  ..  ..  \n",
      "77191                  0   0   0   0  \n",
      "75975                  0   0   0   0  \n",
      "73154   -56.175096450403   0   0   0  \n",
      "71923                  0   0   0   0  \n",
      "73535  -5.92209759208729   0   0   0  \n",
      "\n",
      "[2383 rows x 36 columns]\n"
     ]
    }
   ],
   "source": [
    "# Get the indices of the support vectors\n",
    "support_vector_indices = best_svc.support_\n",
    "\n",
    "# Inspect the main support vectors\n",
    "main_support_vectors = X_train.iloc[support_vector_indices]\n",
    "print(\"Main support vectors:\")\n",
    "print(main_support_vectors)\n"
   ],
   "metadata": {
    "collapsed": false,
    "ExecuteTime": {
     "end_time": "2023-05-22T22:34:18.983338Z",
     "start_time": "2023-05-22T22:34:18.975608Z"
    }
   }
  },
  {
   "cell_type": "markdown",
   "source": [
    "Analysis of the main support vectors"
   ],
   "metadata": {
    "collapsed": false
   }
  },
  {
   "cell_type": "code",
   "execution_count": 9,
   "outputs": [],
   "source": [],
   "metadata": {
    "collapsed": false,
    "ExecuteTime": {
     "end_time": "2023-05-22T22:22:28.037447Z",
     "start_time": "2023-05-22T22:22:28.030354Z"
    }
   }
  },
  {
   "cell_type": "code",
   "execution_count": 10,
   "outputs": [],
   "source": [
    "# svm = SVC(kernel='linear', gamma=0.0001, C = 10)\n",
    "# svm.fit(X_train, y_train)\n",
    "# save_results(svm,X_test, y_test, \"SVM\", results_df_user)\n",
    "# test_model_and_save_result(svm, \"SVM linear\", X_train, X_test, y_train, y_test, results_df)\n"
   ],
   "metadata": {
    "collapsed": false,
    "ExecuteTime": {
     "end_time": "2023-05-22T22:22:28.037489Z",
     "start_time": "2023-05-22T22:22:28.030450Z"
    }
   }
  },
  {
   "cell_type": "code",
   "execution_count": 11,
   "outputs": [],
   "source": [
    "# svm = SVC(kernel='poly', gamma=0.0001, C = 10)\n",
    "# test_model_and_save_result(svm, \"polynomial\", X_train, X_test, y_train, y_test, results_df)\n"
   ],
   "metadata": {
    "collapsed": false,
    "ExecuteTime": {
     "end_time": "2023-05-22T22:22:28.037536Z",
     "start_time": "2023-05-22T22:22:28.030479Z"
    }
   }
  }
 ],
 "metadata": {
  "kernelspec": {
   "display_name": "Python 3",
   "language": "python",
   "name": "python3"
  },
  "language_info": {
   "codemirror_mode": {
    "name": "ipython",
    "version": 2
   },
   "file_extension": ".py",
   "mimetype": "text/x-python",
   "name": "python",
   "nbconvert_exporter": "python",
   "pygments_lexer": "ipython2",
   "version": "2.7.6"
  }
 },
 "nbformat": 4,
 "nbformat_minor": 0
}
