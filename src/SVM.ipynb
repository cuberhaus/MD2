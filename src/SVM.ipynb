{
 "cells": [
  {
   "cell_type": "code",
   "execution_count": 1,
   "metadata": {
    "collapsed": true,
    "ExecuteTime": {
     "end_time": "2023-05-22T18:41:40.111089Z",
     "start_time": "2023-05-22T18:41:38.864337Z"
    }
   },
   "outputs": [],
   "source": [
    "from sklearn.neighbors import KNeighborsClassifier\n",
    "from sklearn.svm import SVC\n",
    "from sklearn.model_selection import GridSearchCV\n",
    "\n",
    "from dataLoader import *\n",
    "\n",
    "results_df_user = pd.DataFrame()\n",
    "X_train, X_test, y_train, y_test = get_user_test_traingi_set(0.20)\n",
    "\n",
    "# param_grid = {'C':[1,10,100,1000],\n",
    "#               'gamma':[1,0.1,0.001,0.0001],\n",
    "#               'kernel':['sigmoid','rbf']}\n",
    "\n",
    "# test_model_and_save_result(grid, \"SVM\", X_train, X_test, y_train, y_test, results_df_user)"
   ]
  },
  {
   "cell_type": "markdown",
   "source": [
    "This is just a test"
   ],
   "metadata": {
    "collapsed": false
   }
  },
  {
   "cell_type": "code",
   "execution_count": null,
   "outputs": [],
   "source": [
    "print(df)"
   ],
   "metadata": {
    "collapsed": false
   }
  },
  {
   "cell_type": "code",
   "execution_count": null,
   "outputs": [],
   "source": [
    "\n",
    "drop_indices = np.random.choice(df.index, 77500, replace=False)\n",
    "df = df.drop(drop_indices)\n",
    "print(df)\n"
   ],
   "metadata": {
    "collapsed": false
   }
  },
  {
   "cell_type": "code",
   "execution_count": 5,
   "outputs": [
    {
     "name": "stdout",
     "output_type": "stream",
     "text": [
      "          acc      prec    recall  test f1 score (W)\n",
      "KNN  0.864661  0.863969  0.864661           0.796469\n"
     ]
    }
   ],
   "source": [
    "knn = KNeighborsClassifier(n_neighbors=1)\n",
    "test_model_and_save_result(knn, \"KNN\", X_train, X_test, y_train, y_test, results_df_user)\n",
    "print(results_df_user.sort_values(by=['acc'], ascending=False))\n"
   ],
   "metadata": {
    "collapsed": false,
    "ExecuteTime": {
     "end_time": "2023-05-22T18:25:45.555742Z",
     "start_time": "2023-05-22T18:25:41.977869Z"
    }
   }
  },
  {
   "cell_type": "code",
   "execution_count": null,
   "outputs": [
    {
     "name": "stdout",
     "output_type": "stream",
     "text": [
      "Fitting 5 folds for each of 1 candidates, totalling 5 fits\n",
      "[CV] END ...........................C=1, gamma=1, kernel=rbf; total time= 4.8min\n"
     ]
    }
   ],
   "source": [
    "# df = df.reset_index(drop=True)\n",
    "param_grid = {'C':[1],\n",
    "              'gamma':[1],\n",
    "              'kernel':['rbf']}\n",
    "\n",
    "grid = GridSearchCV(SVC(),param_grid,refit = True, verbose=2)\n",
    "grid.fit(X_train,y_train)\n",
    "save_results(results_df_user,X_test, y_test, grid, \"SVM\")"
   ],
   "metadata": {
    "collapsed": false,
    "ExecuteTime": {
     "start_time": "2023-05-22T18:32:57.838748Z"
    }
   }
  }
 ],
 "metadata": {
  "kernelspec": {
   "display_name": "Python 3",
   "language": "python",
   "name": "python3"
  },
  "language_info": {
   "codemirror_mode": {
    "name": "ipython",
    "version": 2
   },
   "file_extension": ".py",
   "mimetype": "text/x-python",
   "name": "python",
   "nbconvert_exporter": "python",
   "pygments_lexer": "ipython2",
   "version": "2.7.6"
  }
 },
 "nbformat": 4,
 "nbformat_minor": 0
}
