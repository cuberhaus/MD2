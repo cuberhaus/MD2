{
 "cells": [
  {
   "cell_type": "code",
   "execution_count": 29,
   "metadata": {
    "collapsed": true,
    "ExecuteTime": {
     "end_time": "2023-05-24T07:34:08.604417Z",
     "start_time": "2023-05-24T07:34:08.529088Z"
    }
   },
   "outputs": [
    {
     "name": "stdout",
     "output_type": "stream",
     "text": [
      "       Class  User         X0          Y0         Z0         X1          Y1   \n",
      "0          0     0   0.000000    0.000000   0.000000   0.000000    0.000000  \\\n",
      "1          1     0  54.263880   71.466776 -64.807709  76.895635   42.462500   \n",
      "2          1     0  56.527558   72.266609 -61.935252  39.135978   82.538530   \n",
      "3          1     0  55.849928   72.469064 -62.562788  37.988804   82.631347   \n",
      "4          1     0  55.329647   71.707275 -63.688956  36.561863   81.868749   \n",
      "...      ...   ...        ...         ...        ...        ...         ...   \n",
      "78091      5    14  54.251127  129.177414 -44.252511  27.720784  107.810661   \n",
      "78092      5    14  54.334883  129.253842 -44.016320  27.767911  107.914808   \n",
      "78093      5    14  54.151540  129.269502 -44.173273  27.725978  108.034006   \n",
      "78094      5    14  27.915311  108.007390  10.814957  -0.910435  122.464093   \n",
      "78095      5    14  27.898705  108.092877  11.107857 -30.031402   77.740235   \n",
      "\n",
      "              Z1         X2          Y2  ...                 Z8   \n",
      "0       0.000000   0.000000    0.000000  ...                  0  \\\n",
      "1     -72.780545  36.621229   81.680557  ...                  0   \n",
      "2     -49.596509  79.223743   43.254091  ...                  0   \n",
      "3     -50.606259  78.451526   43.567403  ...                  0   \n",
      "4     -52.752784  86.320630   68.214645  ...                  0   \n",
      "...          ...        ...         ...  ...                ...   \n",
      "78091  11.099282  -1.270139  122.758679  ...  -6.54311453354464   \n",
      "78092  11.069842 -30.334054   77.858214  ...  -62.1305625712145   \n",
      "78093  11.020347 -22.574718  104.222208  ...   3.83590370588782   \n",
      "78094 -47.271248 -30.084588   77.705861  ...  -63.2216259324485   \n",
      "78095 -17.453099  -1.091566  122.827638  ...  -63.0265744155222   \n",
      "\n",
      "                     X9                Y9                 Z9 X10 Y10 Z10 X11   \n",
      "0                     0                 0                  0   0   0   0   0  \\\n",
      "1                     0                 0                  0   0   0   0   0   \n",
      "2                     0                 0                  0   0   0   0   0   \n",
      "3                     0                 0                  0   0   0   0   0   \n",
      "4                     0                 0                  0   0   0   0   0   \n",
      "...                 ...               ...                ...  ..  ..  ..  ..   \n",
      "78091  87.7333643096221  61.2163626180662  -62.1262783028233   0   0   0   0   \n",
      "78092  78.2298473919132  33.0784071753174  -45.2495433686171   0   0   0   0   \n",
      "78093   78.591554010542    32.32773753847  -46.1665560916632   0   0   0   0   \n",
      "78094                 0                 0                  0   0   0   0   0   \n",
      "78095  78.8796525666014  31.6030997578398  -47.0137357205196   0   0   0   0   \n",
      "\n",
      "      Y11 Z11  \n",
      "0       0   0  \n",
      "1       0   0  \n",
      "2       0   0  \n",
      "3       0   0  \n",
      "4       0   0  \n",
      "...    ..  ..  \n",
      "78091   0   0  \n",
      "78092   0   0  \n",
      "78093   0   0  \n",
      "78094   0   0  \n",
      "78095   0   0  \n",
      "\n",
      "[78096 rows x 38 columns]\n"
     ]
    }
   ],
   "source": [
    "from sklearn.neighbors import KNeighborsClassifier\n",
    "from sklearn.svm import SVC\n",
    "from sklearn.model_selection import GridSearchCV\n",
    "\n",
    "from dataLoader import *\n",
    "\n",
    "results_df_user = pd.DataFrame()\n",
    "df = getdf()\n",
    "print(df)"
   ]
  },
  {
   "cell_type": "code",
   "execution_count": 30,
   "outputs": [
    {
     "name": "stdout",
     "output_type": "stream",
     "text": [
      "       Class  User         X0          Y0         Z0         X1          Y1   \n",
      "54         1     0  36.011872   82.312271 -52.806124  56.764209   72.415234  \\\n",
      "91         1     0  60.016986   10.373791 -70.539491  33.205801   80.956209   \n",
      "131        1     0  33.460642   81.260512 -56.367566  60.314780   10.645007   \n",
      "151        1     0  61.103333   11.174615 -69.507615  54.289237   71.962136   \n",
      "160        1     0  77.562098   43.437679 -71.444442  86.636888   69.081770   \n",
      "...      ...   ...        ...         ...        ...        ...         ...   \n",
      "77933      5    14  88.648724   62.148591 -59.635341  24.678448  137.390008   \n",
      "77946      5    14  28.394901  106.268196   9.021742 -29.723868   77.279479   \n",
      "77972      5    14  89.257475   60.503356 -62.122957  27.870830  135.638762   \n",
      "78057      5    14  55.435151  129.436865 -42.881344  -2.045542  125.338260   \n",
      "78090      5    14  54.082504  129.618681 -43.277309  77.322212   34.205727   \n",
      "\n",
      "              Z1         X2          Y2  ...                 Z8   \n",
      "54    -61.789522  77.445764   43.214839  ...                  0  \\\n",
      "91    -56.400262  85.085524   67.694821  ...                  0   \n",
      "131   -70.023409  76.127942   42.545465  ...                  0   \n",
      "151   -64.046316  35.380147   81.670178  ...                  0   \n",
      "160   -71.146548  57.238149   72.721271  ...                  0   \n",
      "...          ...        ...         ...  ...                ...   \n",
      "77933 -29.556914 -21.343672  104.919176  ...  -15.9847031781038   \n",
      "77946 -18.856762  -1.121209   97.741758  ...  -42.5442591176038   \n",
      "77972 -34.105110  76.247389   34.685135  ...  -16.9543361714853   \n",
      "78057 -41.124745  -1.170251   97.850070  ...  -52.2931095627878   \n",
      "78090 -43.835909  27.685119  107.733766  ...  -61.3485641400293   \n",
      "\n",
      "                      X9                Y9                 Z9 X10 Y10 Z10 X11   \n",
      "54                     0                 0                  0   0   0   0   0  \\\n",
      "91                     0                 0                  0   0   0   0   0   \n",
      "131                    0                 0                  0   0   0   0   0   \n",
      "151                    0                 0                  0   0   0   0   0   \n",
      "160                    0                 0                  0   0   0   0   0   \n",
      "...                  ...               ...                ...  ..  ..  ..  ..   \n",
      "77933  -1.96701948055304  125.591168846576  -40.8164048527826   0   0   0   0   \n",
      "77946   55.2533725117219  129.187783686113  -42.7466220282771   0   0   0   0   \n",
      "77972   -2.2309551745019  124.857096970341   -42.176468878505   0   0   0   0   \n",
      "78057   87.9342944026665  61.5462145231786  -60.7780004289753   0   0   0   0   \n",
      "78090  -22.9731363475939  104.912996475043  -52.5901999876606   0   0   0   0   \n",
      "\n",
      "      Y11 Z11  \n",
      "54      0   0  \n",
      "91      0   0  \n",
      "131     0   0  \n",
      "151     0   0  \n",
      "160     0   0  \n",
      "...    ..  ..  \n",
      "77933   0   0  \n",
      "77946   0   0  \n",
      "77972   0   0  \n",
      "78057   0   0  \n",
      "78090   0   0  \n",
      "\n",
      "[3096 rows x 38 columns]\n"
     ]
    }
   ],
   "source": [
    "drop_indices = np.random.choice(df.index, 75000, replace=False)\n",
    "df = df.drop(drop_indices)\n",
    "print(df)\n"
   ],
   "metadata": {
    "collapsed": false,
    "ExecuteTime": {
     "end_time": "2023-05-24T07:34:08.604799Z",
     "start_time": "2023-05-24T07:34:08.565305Z"
    }
   }
  },
  {
   "cell_type": "code",
   "execution_count": 31,
   "outputs": [],
   "source": [
    "X_train, X_test, y_train, y_test = get_test_training_df(df,0.20)\n"
   ],
   "metadata": {
    "collapsed": false,
    "ExecuteTime": {
     "end_time": "2023-05-24T07:34:08.604919Z",
     "start_time": "2023-05-24T07:34:08.580669Z"
    }
   }
  },
  {
   "cell_type": "markdown",
   "source": [
    "This is just a test"
   ],
   "metadata": {
    "collapsed": false
   }
  },
  {
   "cell_type": "code",
   "execution_count": 32,
   "outputs": [
    {
     "data": {
      "text/plain": "              X0          Y0         Z0         X1          Y1         Z1   \n65378  28.413746   80.862085  35.217012  49.886359  119.754264  58.752682  \\\n69117  16.931467  131.574963 -43.787229  54.980862  101.832527 -12.834433   \n49759   5.253985   96.320217 -22.618880  72.533794   80.136417 -59.696034   \n63400  62.555470   17.531510 -58.434080  58.932019   77.036378 -64.139856   \n60385  47.503421  151.616677 -18.803379  62.318851   82.382643 -19.329612   \n...          ...         ...        ...        ...         ...        ...   \n41478  66.639536   57.860521 -83.999471  34.753193   76.208448 -58.065310   \n27907  54.235845   94.368688   3.869110  77.927951   87.774678 -21.398675   \n28783  76.571630   62.474362 -88.838203  15.743088   77.178769 -47.781243   \n32569  62.067822  135.917700 -25.120019  64.270868   -8.000347 -76.530599   \n21537  34.009289  146.881617  16.607074  35.414032   96.616962   2.939840   \n\n               X2          Y2         Z2                 X3  ...   \n65378   64.010541   85.650878  18.135385   19.6239372573496  ...  \\\n69117   15.322958  106.076284   1.198488  -21.2296866692687  ...   \n49759   73.589598   53.157929 -59.616545   45.7656492593322  ...   \n63400   34.612313   81.672638 -41.894887   67.0964531173707  ...   \n60385   39.116307   88.860311  -6.905889   64.8615334691613  ...   \n...           ...         ...        ...                ...  ...   \n41478   59.966614   -4.764447 -79.822712    72.402058614442  ...   \n27907   16.194961   97.411203   8.634518  -12.1743710274227  ...   \n28783   74.233964   36.958438 -90.265955   60.2726124679597  ...   \n32569  109.966232   17.267385 -88.549330   90.2322217207463  ...   \n21537   67.881899   42.484044 -41.969706    53.241145389973  ...   \n\n                      Z8                 X9                Y9   \n65378   38.1725786064257   55.9298135805468  33.3606558865094  \\\n69117                  0                  0                 0   \n49759                  0                  0                 0   \n63400                  0                  0                 0   \n60385                  0                  0                 0   \n...                  ...                ...               ...   \n41478                  0                  0                 0   \n27907  -82.5260209339698  -14.2711142851173  128.002441233033   \n28783                  0                  0                 0   \n32569                  0                  0                 0   \n21537                  0                  0                 0   \n\n                      Z9               X10               Y10   \n65378  -47.5103973903358  68.3133447521657  58.5819516030385  \\\n69117                  0                 0                 0   \n49759                  0                 0                 0   \n63400                  0                 0                 0   \n60385                  0                 0                 0   \n...                  ...               ...               ...   \n41478                  0                 0                 0   \n27907   -28.821981880326                 0                 0   \n28783                  0                 0                 0   \n32569                  0                 0                 0   \n21537                  0                 0                 0   \n\n                     Z10 X11 Y11 Z11  \n65378  -34.5922121542003   0   0   0  \n69117                  0   0   0   0  \n49759                  0   0   0   0  \n63400                  0   0   0   0  \n60385                  0   0   0   0  \n...                  ...  ..  ..  ..  \n41478                  0   0   0   0  \n27907                  0   0   0   0  \n28783                  0   0   0   0  \n32569                  0   0   0   0  \n21537                  0   0   0   0  \n\n[2476 rows x 36 columns]",
      "text/html": "<div>\n<style scoped>\n    .dataframe tbody tr th:only-of-type {\n        vertical-align: middle;\n    }\n\n    .dataframe tbody tr th {\n        vertical-align: top;\n    }\n\n    .dataframe thead th {\n        text-align: right;\n    }\n</style>\n<table border=\"1\" class=\"dataframe\">\n  <thead>\n    <tr style=\"text-align: right;\">\n      <th></th>\n      <th>X0</th>\n      <th>Y0</th>\n      <th>Z0</th>\n      <th>X1</th>\n      <th>Y1</th>\n      <th>Z1</th>\n      <th>X2</th>\n      <th>Y2</th>\n      <th>Z2</th>\n      <th>X3</th>\n      <th>...</th>\n      <th>Z8</th>\n      <th>X9</th>\n      <th>Y9</th>\n      <th>Z9</th>\n      <th>X10</th>\n      <th>Y10</th>\n      <th>Z10</th>\n      <th>X11</th>\n      <th>Y11</th>\n      <th>Z11</th>\n    </tr>\n  </thead>\n  <tbody>\n    <tr>\n      <th>65378</th>\n      <td>28.413746</td>\n      <td>80.862085</td>\n      <td>35.217012</td>\n      <td>49.886359</td>\n      <td>119.754264</td>\n      <td>58.752682</td>\n      <td>64.010541</td>\n      <td>85.650878</td>\n      <td>18.135385</td>\n      <td>19.6239372573496</td>\n      <td>...</td>\n      <td>38.1725786064257</td>\n      <td>55.9298135805468</td>\n      <td>33.3606558865094</td>\n      <td>-47.5103973903358</td>\n      <td>68.3133447521657</td>\n      <td>58.5819516030385</td>\n      <td>-34.5922121542003</td>\n      <td>0</td>\n      <td>0</td>\n      <td>0</td>\n    </tr>\n    <tr>\n      <th>69117</th>\n      <td>16.931467</td>\n      <td>131.574963</td>\n      <td>-43.787229</td>\n      <td>54.980862</td>\n      <td>101.832527</td>\n      <td>-12.834433</td>\n      <td>15.322958</td>\n      <td>106.076284</td>\n      <td>1.198488</td>\n      <td>-21.2296866692687</td>\n      <td>...</td>\n      <td>0</td>\n      <td>0</td>\n      <td>0</td>\n      <td>0</td>\n      <td>0</td>\n      <td>0</td>\n      <td>0</td>\n      <td>0</td>\n      <td>0</td>\n      <td>0</td>\n    </tr>\n    <tr>\n      <th>49759</th>\n      <td>5.253985</td>\n      <td>96.320217</td>\n      <td>-22.618880</td>\n      <td>72.533794</td>\n      <td>80.136417</td>\n      <td>-59.696034</td>\n      <td>73.589598</td>\n      <td>53.157929</td>\n      <td>-59.616545</td>\n      <td>45.7656492593322</td>\n      <td>...</td>\n      <td>0</td>\n      <td>0</td>\n      <td>0</td>\n      <td>0</td>\n      <td>0</td>\n      <td>0</td>\n      <td>0</td>\n      <td>0</td>\n      <td>0</td>\n      <td>0</td>\n    </tr>\n    <tr>\n      <th>63400</th>\n      <td>62.555470</td>\n      <td>17.531510</td>\n      <td>-58.434080</td>\n      <td>58.932019</td>\n      <td>77.036378</td>\n      <td>-64.139856</td>\n      <td>34.612313</td>\n      <td>81.672638</td>\n      <td>-41.894887</td>\n      <td>67.0964531173707</td>\n      <td>...</td>\n      <td>0</td>\n      <td>0</td>\n      <td>0</td>\n      <td>0</td>\n      <td>0</td>\n      <td>0</td>\n      <td>0</td>\n      <td>0</td>\n      <td>0</td>\n      <td>0</td>\n    </tr>\n    <tr>\n      <th>60385</th>\n      <td>47.503421</td>\n      <td>151.616677</td>\n      <td>-18.803379</td>\n      <td>62.318851</td>\n      <td>82.382643</td>\n      <td>-19.329612</td>\n      <td>39.116307</td>\n      <td>88.860311</td>\n      <td>-6.905889</td>\n      <td>64.8615334691613</td>\n      <td>...</td>\n      <td>0</td>\n      <td>0</td>\n      <td>0</td>\n      <td>0</td>\n      <td>0</td>\n      <td>0</td>\n      <td>0</td>\n      <td>0</td>\n      <td>0</td>\n      <td>0</td>\n    </tr>\n    <tr>\n      <th>...</th>\n      <td>...</td>\n      <td>...</td>\n      <td>...</td>\n      <td>...</td>\n      <td>...</td>\n      <td>...</td>\n      <td>...</td>\n      <td>...</td>\n      <td>...</td>\n      <td>...</td>\n      <td>...</td>\n      <td>...</td>\n      <td>...</td>\n      <td>...</td>\n      <td>...</td>\n      <td>...</td>\n      <td>...</td>\n      <td>...</td>\n      <td>...</td>\n      <td>...</td>\n      <td>...</td>\n    </tr>\n    <tr>\n      <th>41478</th>\n      <td>66.639536</td>\n      <td>57.860521</td>\n      <td>-83.999471</td>\n      <td>34.753193</td>\n      <td>76.208448</td>\n      <td>-58.065310</td>\n      <td>59.966614</td>\n      <td>-4.764447</td>\n      <td>-79.822712</td>\n      <td>72.402058614442</td>\n      <td>...</td>\n      <td>0</td>\n      <td>0</td>\n      <td>0</td>\n      <td>0</td>\n      <td>0</td>\n      <td>0</td>\n      <td>0</td>\n      <td>0</td>\n      <td>0</td>\n      <td>0</td>\n    </tr>\n    <tr>\n      <th>27907</th>\n      <td>54.235845</td>\n      <td>94.368688</td>\n      <td>3.869110</td>\n      <td>77.927951</td>\n      <td>87.774678</td>\n      <td>-21.398675</td>\n      <td>16.194961</td>\n      <td>97.411203</td>\n      <td>8.634518</td>\n      <td>-12.1743710274227</td>\n      <td>...</td>\n      <td>-82.5260209339698</td>\n      <td>-14.2711142851173</td>\n      <td>128.002441233033</td>\n      <td>-28.821981880326</td>\n      <td>0</td>\n      <td>0</td>\n      <td>0</td>\n      <td>0</td>\n      <td>0</td>\n      <td>0</td>\n    </tr>\n    <tr>\n      <th>28783</th>\n      <td>76.571630</td>\n      <td>62.474362</td>\n      <td>-88.838203</td>\n      <td>15.743088</td>\n      <td>77.178769</td>\n      <td>-47.781243</td>\n      <td>74.233964</td>\n      <td>36.958438</td>\n      <td>-90.265955</td>\n      <td>60.2726124679597</td>\n      <td>...</td>\n      <td>0</td>\n      <td>0</td>\n      <td>0</td>\n      <td>0</td>\n      <td>0</td>\n      <td>0</td>\n      <td>0</td>\n      <td>0</td>\n      <td>0</td>\n      <td>0</td>\n    </tr>\n    <tr>\n      <th>32569</th>\n      <td>62.067822</td>\n      <td>135.917700</td>\n      <td>-25.120019</td>\n      <td>64.270868</td>\n      <td>-8.000347</td>\n      <td>-76.530599</td>\n      <td>109.966232</td>\n      <td>17.267385</td>\n      <td>-88.549330</td>\n      <td>90.2322217207463</td>\n      <td>...</td>\n      <td>0</td>\n      <td>0</td>\n      <td>0</td>\n      <td>0</td>\n      <td>0</td>\n      <td>0</td>\n      <td>0</td>\n      <td>0</td>\n      <td>0</td>\n      <td>0</td>\n    </tr>\n    <tr>\n      <th>21537</th>\n      <td>34.009289</td>\n      <td>146.881617</td>\n      <td>16.607074</td>\n      <td>35.414032</td>\n      <td>96.616962</td>\n      <td>2.939840</td>\n      <td>67.881899</td>\n      <td>42.484044</td>\n      <td>-41.969706</td>\n      <td>53.241145389973</td>\n      <td>...</td>\n      <td>0</td>\n      <td>0</td>\n      <td>0</td>\n      <td>0</td>\n      <td>0</td>\n      <td>0</td>\n      <td>0</td>\n      <td>0</td>\n      <td>0</td>\n      <td>0</td>\n    </tr>\n  </tbody>\n</table>\n<p>2476 rows × 36 columns</p>\n</div>"
     },
     "execution_count": 32,
     "metadata": {},
     "output_type": "execute_result"
    }
   ],
   "source": [
    "X_train"
   ],
   "metadata": {
    "collapsed": false,
    "ExecuteTime": {
     "end_time": "2023-05-24T07:34:08.605350Z",
     "start_time": "2023-05-24T07:34:08.596998Z"
    }
   }
  },
  {
   "cell_type": "code",
   "execution_count": 33,
   "outputs": [
    {
     "data": {
      "text/plain": "               X0          Y0         Z0         X1          Y1         Z1   \n49607   25.836297  100.676511 -28.012438  45.816109  100.412903 -31.649155  \\\n32887   45.016358  155.431987 -30.306011  63.704974   -3.703238 -80.134507   \n40665  -13.320531   73.645713 -40.318964  69.620121   58.080047 -85.730784   \n66296   53.566459   91.465077 -12.027816  53.558551  131.244246 -14.752441   \n61735   17.143977   88.843676  19.296100  77.616619   78.125212  -6.993673   \n...           ...         ...        ...        ...         ...        ...   \n68440   39.207041  145.838783   9.444952  55.669018  136.139305   0.980212   \n48851  108.466756   25.865989 -73.368657  32.241074  109.366474 -61.237285   \n26299   42.705052   95.630604  -7.423559  62.496254   88.363716 -16.516277   \n70885   -3.721585   77.265981 -55.777243  29.774643   -0.701556   0.123739   \n4068    54.635686  134.973059 -42.452926  56.091627   13.810499 -75.830916   \n\n              X2          Y2         Z2                 X3  ...   \n49607  74.712538   53.484350 -57.458621    7.3239675993256  ...  \\\n32887  64.237053   87.476279 -36.257889   100.308913133418  ...   \n40665  68.150037   31.872254 -86.556687   48.7323296776756  ...   \n66296  52.873371   61.223498 -53.304434   59.5755239888167  ...   \n61735 -13.443029   88.842999   8.327496   50.1245600397621  ...   \n...          ...         ...        ...                ...  ...   \n68440  35.234560   97.805795   2.721196   56.2283055922002  ...   \n48851  38.403916  107.785422  -2.529520   8.84855847383648  ...   \n26299  55.580160  139.390975  -5.788349    70.027701939381  ...   \n70885  39.646833   80.599080 -61.686409  -22.2196942274539  ...   \n4068   58.121528   91.467287 -36.257220   57.9949170963151  ...   \n\n                      Z8 X9 Y9 Z9 X10 Y10 Z10 X11 Y11 Z11  \n49607                  0  0  0  0   0   0   0   0   0   0  \n32887                  0  0  0  0   0   0   0   0   0   0  \n40665                  0  0  0  0   0   0   0   0   0   0  \n66296                  0  0  0  0   0   0   0   0   0   0  \n61735                  0  0  0  0   0   0   0   0   0   0  \n...                  ... .. .. ..  ..  ..  ..  ..  ..  ..  \n68440                  0  0  0  0   0   0   0   0   0   0  \n48851      -25.950665404  0  0  0   0   0   0   0   0   0  \n26299  -39.2636876148901  0  0  0   0   0   0   0   0   0  \n70885                  0  0  0  0   0   0   0   0   0   0  \n4068                   0  0  0  0   0   0   0   0   0   0  \n\n[620 rows x 36 columns]",
      "text/html": "<div>\n<style scoped>\n    .dataframe tbody tr th:only-of-type {\n        vertical-align: middle;\n    }\n\n    .dataframe tbody tr th {\n        vertical-align: top;\n    }\n\n    .dataframe thead th {\n        text-align: right;\n    }\n</style>\n<table border=\"1\" class=\"dataframe\">\n  <thead>\n    <tr style=\"text-align: right;\">\n      <th></th>\n      <th>X0</th>\n      <th>Y0</th>\n      <th>Z0</th>\n      <th>X1</th>\n      <th>Y1</th>\n      <th>Z1</th>\n      <th>X2</th>\n      <th>Y2</th>\n      <th>Z2</th>\n      <th>X3</th>\n      <th>...</th>\n      <th>Z8</th>\n      <th>X9</th>\n      <th>Y9</th>\n      <th>Z9</th>\n      <th>X10</th>\n      <th>Y10</th>\n      <th>Z10</th>\n      <th>X11</th>\n      <th>Y11</th>\n      <th>Z11</th>\n    </tr>\n  </thead>\n  <tbody>\n    <tr>\n      <th>49607</th>\n      <td>25.836297</td>\n      <td>100.676511</td>\n      <td>-28.012438</td>\n      <td>45.816109</td>\n      <td>100.412903</td>\n      <td>-31.649155</td>\n      <td>74.712538</td>\n      <td>53.484350</td>\n      <td>-57.458621</td>\n      <td>7.3239675993256</td>\n      <td>...</td>\n      <td>0</td>\n      <td>0</td>\n      <td>0</td>\n      <td>0</td>\n      <td>0</td>\n      <td>0</td>\n      <td>0</td>\n      <td>0</td>\n      <td>0</td>\n      <td>0</td>\n    </tr>\n    <tr>\n      <th>32887</th>\n      <td>45.016358</td>\n      <td>155.431987</td>\n      <td>-30.306011</td>\n      <td>63.704974</td>\n      <td>-3.703238</td>\n      <td>-80.134507</td>\n      <td>64.237053</td>\n      <td>87.476279</td>\n      <td>-36.257889</td>\n      <td>100.308913133418</td>\n      <td>...</td>\n      <td>0</td>\n      <td>0</td>\n      <td>0</td>\n      <td>0</td>\n      <td>0</td>\n      <td>0</td>\n      <td>0</td>\n      <td>0</td>\n      <td>0</td>\n      <td>0</td>\n    </tr>\n    <tr>\n      <th>40665</th>\n      <td>-13.320531</td>\n      <td>73.645713</td>\n      <td>-40.318964</td>\n      <td>69.620121</td>\n      <td>58.080047</td>\n      <td>-85.730784</td>\n      <td>68.150037</td>\n      <td>31.872254</td>\n      <td>-86.556687</td>\n      <td>48.7323296776756</td>\n      <td>...</td>\n      <td>0</td>\n      <td>0</td>\n      <td>0</td>\n      <td>0</td>\n      <td>0</td>\n      <td>0</td>\n      <td>0</td>\n      <td>0</td>\n      <td>0</td>\n      <td>0</td>\n    </tr>\n    <tr>\n      <th>66296</th>\n      <td>53.566459</td>\n      <td>91.465077</td>\n      <td>-12.027816</td>\n      <td>53.558551</td>\n      <td>131.244246</td>\n      <td>-14.752441</td>\n      <td>52.873371</td>\n      <td>61.223498</td>\n      <td>-53.304434</td>\n      <td>59.5755239888167</td>\n      <td>...</td>\n      <td>0</td>\n      <td>0</td>\n      <td>0</td>\n      <td>0</td>\n      <td>0</td>\n      <td>0</td>\n      <td>0</td>\n      <td>0</td>\n      <td>0</td>\n      <td>0</td>\n    </tr>\n    <tr>\n      <th>61735</th>\n      <td>17.143977</td>\n      <td>88.843676</td>\n      <td>19.296100</td>\n      <td>77.616619</td>\n      <td>78.125212</td>\n      <td>-6.993673</td>\n      <td>-13.443029</td>\n      <td>88.842999</td>\n      <td>8.327496</td>\n      <td>50.1245600397621</td>\n      <td>...</td>\n      <td>0</td>\n      <td>0</td>\n      <td>0</td>\n      <td>0</td>\n      <td>0</td>\n      <td>0</td>\n      <td>0</td>\n      <td>0</td>\n      <td>0</td>\n      <td>0</td>\n    </tr>\n    <tr>\n      <th>...</th>\n      <td>...</td>\n      <td>...</td>\n      <td>...</td>\n      <td>...</td>\n      <td>...</td>\n      <td>...</td>\n      <td>...</td>\n      <td>...</td>\n      <td>...</td>\n      <td>...</td>\n      <td>...</td>\n      <td>...</td>\n      <td>...</td>\n      <td>...</td>\n      <td>...</td>\n      <td>...</td>\n      <td>...</td>\n      <td>...</td>\n      <td>...</td>\n      <td>...</td>\n      <td>...</td>\n    </tr>\n    <tr>\n      <th>68440</th>\n      <td>39.207041</td>\n      <td>145.838783</td>\n      <td>9.444952</td>\n      <td>55.669018</td>\n      <td>136.139305</td>\n      <td>0.980212</td>\n      <td>35.234560</td>\n      <td>97.805795</td>\n      <td>2.721196</td>\n      <td>56.2283055922002</td>\n      <td>...</td>\n      <td>0</td>\n      <td>0</td>\n      <td>0</td>\n      <td>0</td>\n      <td>0</td>\n      <td>0</td>\n      <td>0</td>\n      <td>0</td>\n      <td>0</td>\n      <td>0</td>\n    </tr>\n    <tr>\n      <th>48851</th>\n      <td>108.466756</td>\n      <td>25.865989</td>\n      <td>-73.368657</td>\n      <td>32.241074</td>\n      <td>109.366474</td>\n      <td>-61.237285</td>\n      <td>38.403916</td>\n      <td>107.785422</td>\n      <td>-2.529520</td>\n      <td>8.84855847383648</td>\n      <td>...</td>\n      <td>-25.950665404</td>\n      <td>0</td>\n      <td>0</td>\n      <td>0</td>\n      <td>0</td>\n      <td>0</td>\n      <td>0</td>\n      <td>0</td>\n      <td>0</td>\n      <td>0</td>\n    </tr>\n    <tr>\n      <th>26299</th>\n      <td>42.705052</td>\n      <td>95.630604</td>\n      <td>-7.423559</td>\n      <td>62.496254</td>\n      <td>88.363716</td>\n      <td>-16.516277</td>\n      <td>55.580160</td>\n      <td>139.390975</td>\n      <td>-5.788349</td>\n      <td>70.027701939381</td>\n      <td>...</td>\n      <td>-39.2636876148901</td>\n      <td>0</td>\n      <td>0</td>\n      <td>0</td>\n      <td>0</td>\n      <td>0</td>\n      <td>0</td>\n      <td>0</td>\n      <td>0</td>\n      <td>0</td>\n    </tr>\n    <tr>\n      <th>70885</th>\n      <td>-3.721585</td>\n      <td>77.265981</td>\n      <td>-55.777243</td>\n      <td>29.774643</td>\n      <td>-0.701556</td>\n      <td>0.123739</td>\n      <td>39.646833</td>\n      <td>80.599080</td>\n      <td>-61.686409</td>\n      <td>-22.2196942274539</td>\n      <td>...</td>\n      <td>0</td>\n      <td>0</td>\n      <td>0</td>\n      <td>0</td>\n      <td>0</td>\n      <td>0</td>\n      <td>0</td>\n      <td>0</td>\n      <td>0</td>\n      <td>0</td>\n    </tr>\n    <tr>\n      <th>4068</th>\n      <td>54.635686</td>\n      <td>134.973059</td>\n      <td>-42.452926</td>\n      <td>56.091627</td>\n      <td>13.810499</td>\n      <td>-75.830916</td>\n      <td>58.121528</td>\n      <td>91.467287</td>\n      <td>-36.257220</td>\n      <td>57.9949170963151</td>\n      <td>...</td>\n      <td>0</td>\n      <td>0</td>\n      <td>0</td>\n      <td>0</td>\n      <td>0</td>\n      <td>0</td>\n      <td>0</td>\n      <td>0</td>\n      <td>0</td>\n      <td>0</td>\n    </tr>\n  </tbody>\n</table>\n<p>620 rows × 36 columns</p>\n</div>"
     },
     "execution_count": 33,
     "metadata": {},
     "output_type": "execute_result"
    }
   ],
   "source": [
    "X_test"
   ],
   "metadata": {
    "collapsed": false,
    "ExecuteTime": {
     "end_time": "2023-05-24T07:34:08.615186Z",
     "start_time": "2023-05-24T07:34:08.604007Z"
    }
   }
  },
  {
   "cell_type": "code",
   "execution_count": 34,
   "outputs": [
    {
     "name": "stdout",
     "output_type": "stream",
     "text": [
      "          acc      prec    recall  test f1 score (W)\n",
      "KNN  0.630645  0.624062  0.630645           0.516096\n"
     ]
    },
    {
     "name": "stderr",
     "output_type": "stream",
     "text": [
      "/Users/pol/dotfiles/dotfiles/.local/share/virtualenvs/MD2-Msi-27M8/lib/python3.11/site-packages/sklearn/metrics/_classification.py:1344: UndefinedMetricWarning: Precision is ill-defined and being set to 0.0 in labels with no predicted samples. Use `zero_division` parameter to control this behavior.\n",
      "  _warn_prf(average, modifier, msg_start, len(result))\n"
     ]
    }
   ],
   "source": [
    "knn = KNeighborsClassifier(n_neighbors=1)\n",
    "test_model_and_save_result(knn, \"KNN\", X_train, X_test, y_train, y_test, results_df_user)\n",
    "print(results_df_user.sort_values(by=['acc'], ascending=False))\n"
   ],
   "metadata": {
    "collapsed": false,
    "ExecuteTime": {
     "end_time": "2023-05-24T07:34:09.000611Z",
     "start_time": "2023-05-24T07:34:08.623363Z"
    }
   }
  },
  {
   "cell_type": "code",
   "execution_count": 35,
   "outputs": [
    {
     "name": "stdout",
     "output_type": "stream",
     "text": [
      "Fitting 5 folds for each of 32 candidates, totalling 160 fits\n"
     ]
    },
    {
     "name": "stderr",
     "output_type": "stream",
     "text": [
      "/Users/pol/dotfiles/dotfiles/.local/share/virtualenvs/MD2-Msi-27M8/lib/python3.11/site-packages/sklearn/metrics/_classification.py:1344: UndefinedMetricWarning: Precision is ill-defined and being set to 0.0 in labels with no predicted samples. Use `zero_division` parameter to control this behavior.\n",
      "  _warn_prf(average, modifier, msg_start, len(result))\n"
     ]
    },
    {
     "data": {
      "text/plain": "          acc      prec    recall  test f1 score (W)\nKNN  0.630645  0.624062  0.630645           0.516096\nSVM  0.670968  0.741763  0.670968           0.563378",
      "text/html": "<div>\n<style scoped>\n    .dataframe tbody tr th:only-of-type {\n        vertical-align: middle;\n    }\n\n    .dataframe tbody tr th {\n        vertical-align: top;\n    }\n\n    .dataframe thead th {\n        text-align: right;\n    }\n</style>\n<table border=\"1\" class=\"dataframe\">\n  <thead>\n    <tr style=\"text-align: right;\">\n      <th></th>\n      <th>acc</th>\n      <th>prec</th>\n      <th>recall</th>\n      <th>test f1 score (W)</th>\n    </tr>\n  </thead>\n  <tbody>\n    <tr>\n      <th>KNN</th>\n      <td>0.630645</td>\n      <td>0.624062</td>\n      <td>0.630645</td>\n      <td>0.516096</td>\n    </tr>\n    <tr>\n      <th>SVM</th>\n      <td>0.670968</td>\n      <td>0.741763</td>\n      <td>0.670968</td>\n      <td>0.563378</td>\n    </tr>\n  </tbody>\n</table>\n</div>"
     },
     "execution_count": 35,
     "metadata": {},
     "output_type": "execute_result"
    }
   ],
   "source": [
    "# df = df.reset_index(drop=True)\n",
    "# param_grid = {'C':[1],\n",
    "#               'gamma':[1],\n",
    "#               'kernel':['rbf']}\n",
    "\n",
    "param_grid = {'C':[1,10,100,1000],\n",
    "              'gamma':[1,0.1,0.001,0.0001],\n",
    "              'kernel':[ 'rbf', 'sigmoid' ]}\n",
    "grid = GridSearchCV(SVC(),param_grid,refit = True, verbose=2, n_jobs=-1)\n",
    "grid.fit(X_train,y_train)\n",
    "save_results(grid,X_test, y_test, \"SVM\", results_df_user)"
   ],
   "metadata": {
    "collapsed": false,
    "ExecuteTime": {
     "end_time": "2023-05-24T07:34:18.597290Z",
     "start_time": "2023-05-24T07:34:08.843154Z"
    }
   }
  },
  {
   "cell_type": "code",
   "execution_count": 36,
   "outputs": [
    {
     "name": "stdout",
     "output_type": "stream",
     "text": [
      "{'C': 100, 'gamma': 0.0001, 'kernel': 'rbf'}\n"
     ]
    }
   ],
   "source": [
    "print(grid.best_params_)\n"
   ],
   "metadata": {
    "collapsed": false,
    "ExecuteTime": {
     "end_time": "2023-05-24T07:34:18.597730Z",
     "start_time": "2023-05-24T07:34:18.593599Z"
    }
   }
  },
  {
   "cell_type": "code",
   "execution_count": 37,
   "outputs": [
    {
     "name": "stdout",
     "output_type": "stream",
     "text": [
      "Number of support vectors: 2391\n"
     ]
    }
   ],
   "source": [
    "# 3. Get the best estimator with optimal hyperparameters\n",
    "best_svc = grid.best_estimator_\n",
    "\n",
    "# 4. Fit the model using the optimal hyperparameters\n",
    "best_svc.fit(X_train, y_train)\n",
    "\n",
    "# 5. Retrieve the support vectors\n",
    "support_vectors = best_svc.support_vectors_\n",
    "# Access the support vectors and retrieve the number of support vectors\n",
    "# support_vectors = grid.support_vectors_\n",
    "num_support_vectors = support_vectors.shape[0]\n",
    "\n",
    "print(\"Number of support vectors:\", num_support_vectors)"
   ],
   "metadata": {
    "collapsed": false,
    "ExecuteTime": {
     "end_time": "2023-05-24T07:34:18.951165Z",
     "start_time": "2023-05-24T07:34:18.598283Z"
    }
   }
  },
  {
   "cell_type": "code",
   "execution_count": 38,
   "outputs": [
    {
     "name": "stdout",
     "output_type": "stream",
     "text": [
      "Main support vectors:\n",
      "              X0          Y0         Z0          X1          Y1          Z1   \n",
      "5646   52.506105   93.594376 -45.595485    5.302596   65.507575  -63.458742  \\\n",
      "8964   50.834564   47.290066 -99.199747   52.206962   70.427016 -108.201845   \n",
      "5367   70.576619   86.625144 -38.394687   58.716631  141.448861  -57.756020   \n",
      "5853   -4.457937   31.379941 -98.679995   28.279818   95.427557  -42.223500   \n",
      "6900   14.591991   69.957376 -57.265144   28.951270  139.244986  -70.711074   \n",
      "...          ...         ...        ...         ...         ...         ...   \n",
      "77123  57.933848  141.698003 -26.982920   21.300639  147.533783  -18.158390   \n",
      "75781  -3.387177  103.085880 -16.038951  103.932795   51.736352  -34.709964   \n",
      "73013  88.779061   75.329668 -42.306516   68.183680  139.276636   10.881583   \n",
      "71749  68.144895   62.492374  54.951820   51.270964   81.210441   57.705851   \n",
      "73438  88.833680   75.488727 -42.128576   -0.195439  122.393768   31.309885   \n",
      "\n",
      "              X2          Y2         Z2                 X3  ...   \n",
      "5646   28.748735   96.589362 -42.175636  -13.3003856498488  ...  \\\n",
      "8964   50.323709   16.845761 -76.976875   65.0471535868888  ...   \n",
      "5367   49.572180   93.555491 -30.791841   76.8798286977596  ...   \n",
      "5853   52.128814   92.525212 -45.831444   5.29751765742859  ...   \n",
      "6900   52.827048   96.940333 -32.186245   32.4531502810508  ...   \n",
      "...          ...         ...        ...                ...  ...   \n",
      "77123  24.663136  104.424190  12.832075   92.4770913772166  ...   \n",
      "75781  71.341550   28.807664 -50.395784   62.0838363007187  ...   \n",
      "73013  -9.509315   80.910002  14.689952   0.12383494169099  ...   \n",
      "71749 -17.798656   22.020683   6.663549    71.989461024465  ...   \n",
      "73438  69.203404  139.598342   9.038989   57.5475986271441  ...   \n",
      "\n",
      "                       Z8                X9                Y9   \n",
      "5646                    0                 0                 0  \\\n",
      "8964                    0                 0                 0   \n",
      "5367                    0                 0                 0   \n",
      "5853                    0                 0                 0   \n",
      "6900                    0                 0                 0   \n",
      "...                   ...               ...               ...   \n",
      "77123  -0.296465292557997                 0                 0   \n",
      "75781                   0                 0                 0   \n",
      "73013   -53.9873540129132  73.6032390553976  57.4990251631246   \n",
      "71749                   0                 0                 0   \n",
      "73438    14.9998966811921  59.2510020058113  39.8260908604245   \n",
      "\n",
      "                      Z9               X10               Y10   \n",
      "5646                   0                 0                 0  \\\n",
      "8964                   0                 0                 0   \n",
      "5367                   0                 0                 0   \n",
      "5853                   0                 0                 0   \n",
      "6900                   0                 0                 0   \n",
      "...                  ...               ...               ...   \n",
      "77123                  0                 0                 0   \n",
      "75781                  0                 0                 0   \n",
      "73013  -45.1754263768433  40.2193542762552  103.248371561419   \n",
      "71749                  0                 0                 0   \n",
      "73438  -56.4097331348556   39.997256273035  103.530272046671   \n",
      "\n",
      "                    Z10 X11 Y11 Z11  \n",
      "5646                  0   0   0   0  \n",
      "8964                  0   0   0   0  \n",
      "5367                  0   0   0   0  \n",
      "5853                  0   0   0   0  \n",
      "6900                  0   0   0   0  \n",
      "...                 ...  ..  ..  ..  \n",
      "77123                 0   0   0   0  \n",
      "75781                 0   0   0   0  \n",
      "73013  8.67643474990509   0   0   0  \n",
      "71749                 0   0   0   0  \n",
      "73438  8.22809079163477   0   0   0  \n",
      "\n",
      "[2391 rows x 36 columns]\n"
     ]
    }
   ],
   "source": [
    "# Get the indices of the support vectors\n",
    "support_vector_indices = best_svc.support_\n",
    "\n",
    "# Inspect the main support vectors\n",
    "main_support_vectors = X_train.iloc[support_vector_indices]\n",
    "print(\"Main support vectors:\")\n",
    "print(main_support_vectors)\n"
   ],
   "metadata": {
    "collapsed": false,
    "ExecuteTime": {
     "end_time": "2023-05-24T07:34:18.959017Z",
     "start_time": "2023-05-24T07:34:18.951622Z"
    }
   }
  },
  {
   "cell_type": "markdown",
   "source": [
    "Analysis of the main support vectors"
   ],
   "metadata": {
    "collapsed": false
   }
  },
  {
   "cell_type": "code",
   "execution_count": 39,
   "outputs": [],
   "source": [
    "from matplotlib import pyplot as plt\n",
    "\n",
    "# Get the indices of the support vectors\n",
    "support_vector_indices = best_svc.support_\n",
    "\n",
    "# Get the support vectors from the training data\n",
    "support_vectors = X_train.iloc[support_vector_indices]\n",
    "\n",
    "# Get the class labels of the support vectors\n",
    "support_vector_labels = y_train.iloc[support_vector_indices]\n",
    "\n",
    "# Count the number of support vectors for each class\n",
    "support_vector_counts = support_vector_labels.value_counts()"
   ],
   "metadata": {
    "collapsed": false,
    "ExecuteTime": {
     "end_time": "2023-05-24T07:34:18.963146Z",
     "start_time": "2023-05-24T07:34:18.959728Z"
    }
   }
  },
  {
   "cell_type": "code",
   "execution_count": 40,
   "outputs": [
    {
     "data": {
      "text/plain": "<Figure size 800x600 with 1 Axes>",
      "image/png": "[encoded data removed]"
     },
     "metadata": {},
     "output_type": "display_data"
    }
   ],
   "source": [
    "\n",
    "# Plot the distribution of support vectors across classes\n",
    "plt.figure(figsize=(8, 6))\n",
    "support_vector_counts.plot(kind='bar')\n",
    "plt.title('Distribution of Support Vectors')\n",
    "plt.xlabel('Class')\n",
    "plt.ylabel('Count')\n",
    "plt.show()"
   ],
   "metadata": {
    "collapsed": false,
    "ExecuteTime": {
     "end_time": "2023-05-24T07:34:19.047455Z",
     "start_time": "2023-05-24T07:34:18.971792Z"
    }
   }
  },
  {
   "cell_type": "code",
   "execution_count": 41,
   "outputs": [
    {
     "name": "stdout",
     "output_type": "stream",
     "text": [
      "Support Vector Statistics:\n",
      "Number of support vectors: 2391\n"
     ]
    }
   ],
   "source": [
    "# Print the statistics of the support vectors\n",
    "print(\"Support Vector Statistics:\")\n",
    "print(\"Number of support vectors:\", len(support_vectors))"
   ],
   "metadata": {
    "collapsed": false,
    "ExecuteTime": {
     "end_time": "2023-05-24T07:34:19.050575Z",
     "start_time": "2023-05-24T07:34:19.047784Z"
    }
   }
  },
  {
   "cell_type": "code",
   "execution_count": 42,
   "outputs": [
    {
     "name": "stdout",
     "output_type": "stream",
     "text": [
      "Class-wise distribution:\n",
      "User\n",
      "10    282\n",
      "0     262\n",
      "11    262\n",
      "13    260\n",
      "14    239\n",
      "8     229\n",
      "12    152\n",
      "1     149\n",
      "5     149\n",
      "2     134\n",
      "6     123\n",
      "9     122\n",
      "7      16\n",
      "4      12\n",
      "Name: count, dtype: int64\n"
     ]
    }
   ],
   "source": [
    "print(\"Class-wise distribution:\")\n",
    "print(support_vector_counts)"
   ],
   "metadata": {
    "collapsed": false,
    "ExecuteTime": {
     "end_time": "2023-05-24T07:34:19.056996Z",
     "start_time": "2023-05-24T07:34:19.053897Z"
    }
   }
  },
  {
   "cell_type": "code",
   "execution_count": 53,
   "outputs": [],
   "source": [
    "# Plot the support vectors in a scatter plot (for 2D data)\n",
    "if X_train.shape[1] == 2:\n",
    "    plt.figure(figsize=(8, 6))\n",
    "    plt.scatter(X_train.iloc[:, 0], X_train.iloc[:, 1], c=y_train, cmap='viridis', label='Training Data')\n",
    "    plt.scatter(support_vectors.iloc[:, 0], support_vectors.iloc[:, 1], c='red', label='Support Vectors')\n",
    "    plt.title('Support Vectors')\n",
    "    plt.xlabel('Feature 1')\n",
    "    plt.ylabel('Feature 2')\n",
    "    plt.legend()\n",
    "    plt.show()\n"
   ],
   "metadata": {
    "collapsed": false,
    "ExecuteTime": {
     "end_time": "2023-05-24T16:21:36.786832Z",
     "start_time": "2023-05-24T16:21:36.781493Z"
    }
   }
  },
  {
   "cell_type": "code",
   "execution_count": 44,
   "outputs": [
    {
     "name": "stdout",
     "output_type": "stream",
     "text": [
      "Distances from Decision Boundary:\n",
      "[[13.30952505  6.02321794  3.8170083  ...  1.79119074  4.97758998\n",
      "   9.22705268]\n",
      " [13.3095238   5.91547033  3.84347487 ...  1.7582919   4.87874675\n",
      "  10.23411525]\n",
      " [13.30953782 11.28940856  3.78354234 ... 12.29381953  9.2398848\n",
      "   4.78009459]\n",
      " ...\n",
      " [12.24715666  2.84829055  3.85418988 ...  2.86027874  8.16709659\n",
      "  13.30952214]\n",
      " [ 9.21420233  4.84807267  3.83086327 ...  1.77653632 12.26080362\n",
      "  13.30952713]\n",
      " [10.23242151  1.83250304  5.88095592 ...  4.92067376  8.17789251\n",
      "  13.30952281]]\n"
     ]
    }
   ],
   "source": [
    "distances = best_svc.decision_function(support_vectors)\n",
    "print(\"Distances from Decision Boundary:\")\n",
    "print(distances)\n"
   ],
   "metadata": {
    "collapsed": false,
    "ExecuteTime": {
     "end_time": "2023-05-24T07:34:19.538471Z",
     "start_time": "2023-05-24T07:34:19.064164Z"
    }
   }
  },
  {
   "cell_type": "markdown",
   "source": [
    "Support Vectors and Contributions only make sense when we are talking about linear SVMs so we will not use them as our best model is an RBF kernel"
   ],
   "metadata": {
    "collapsed": false
   }
  },
  {
   "cell_type": "code",
   "execution_count": 45,
   "outputs": [
    {
     "ename": "AttributeError",
     "evalue": "coef_ is only available when using a linear kernel",
     "output_type": "error",
     "traceback": [
      "\u001B[0;31m---------------------------------------------------------------------------\u001B[0m",
      "\u001B[0;31mAttributeError\u001B[0m                            Traceback (most recent call last)",
      "Cell \u001B[0;32mIn[45], line 1\u001B[0m\n\u001B[0;32m----> 1\u001B[0m weights \u001B[38;5;241m=\u001B[39m \u001B[43mbest_svc\u001B[49m\u001B[38;5;241;43m.\u001B[39;49m\u001B[43mcoef_\u001B[49m\n\u001B[1;32m      2\u001B[0m \u001B[38;5;28mprint\u001B[39m(\u001B[38;5;124m\"\u001B[39m\u001B[38;5;124mSupport Vector Weights:\u001B[39m\u001B[38;5;124m\"\u001B[39m)\n\u001B[1;32m      3\u001B[0m \u001B[38;5;28mprint\u001B[39m(weights)\n",
      "File \u001B[0;32m~/dotfiles/dotfiles/.local/share/virtualenvs/MD2-Msi-27M8/lib/python3.11/site-packages/sklearn/svm/_base.py:658\u001B[0m, in \u001B[0;36mBaseLibSVM.coef_\u001B[0;34m(self)\u001B[0m\n\u001B[1;32m    651\u001B[0m \u001B[38;5;250m\u001B[39m\u001B[38;5;124;03m\"\"\"Weights assigned to the features when `kernel=\"linear\"`.\u001B[39;00m\n\u001B[1;32m    652\u001B[0m \n\u001B[1;32m    653\u001B[0m \u001B[38;5;124;03mReturns\u001B[39;00m\n\u001B[1;32m    654\u001B[0m \u001B[38;5;124;03m-------\u001B[39;00m\n\u001B[1;32m    655\u001B[0m \u001B[38;5;124;03mndarray of shape (n_features, n_classes)\u001B[39;00m\n\u001B[1;32m    656\u001B[0m \u001B[38;5;124;03m\"\"\"\u001B[39;00m\n\u001B[1;32m    657\u001B[0m \u001B[38;5;28;01mif\u001B[39;00m \u001B[38;5;28mself\u001B[39m\u001B[38;5;241m.\u001B[39mkernel \u001B[38;5;241m!=\u001B[39m \u001B[38;5;124m\"\u001B[39m\u001B[38;5;124mlinear\u001B[39m\u001B[38;5;124m\"\u001B[39m:\n\u001B[0;32m--> 658\u001B[0m     \u001B[38;5;28;01mraise\u001B[39;00m \u001B[38;5;167;01mAttributeError\u001B[39;00m(\u001B[38;5;124m\"\u001B[39m\u001B[38;5;124mcoef_ is only available when using a linear kernel\u001B[39m\u001B[38;5;124m\"\u001B[39m)\n\u001B[1;32m    660\u001B[0m coef \u001B[38;5;241m=\u001B[39m \u001B[38;5;28mself\u001B[39m\u001B[38;5;241m.\u001B[39m_get_coef()\n\u001B[1;32m    662\u001B[0m \u001B[38;5;66;03m# coef_ being a read-only property, it's better to mark the value as\u001B[39;00m\n\u001B[1;32m    663\u001B[0m \u001B[38;5;66;03m# immutable to avoid hiding potential bugs for the unsuspecting user.\u001B[39;00m\n",
      "\u001B[0;31mAttributeError\u001B[0m: coef_ is only available when using a linear kernel"
     ]
    }
   ],
   "source": [
    "# weights = best_svc.coef_\n",
    "# print(\"Support Vector Weights:\")\n",
    "# print(weights)\n"
   ],
   "metadata": {
    "collapsed": false,
    "ExecuteTime": {
     "end_time": "2023-05-24T07:34:19.550430Z",
     "start_time": "2023-05-24T07:34:19.540800Z"
    }
   }
  },
  {
   "cell_type": "code",
   "execution_count": null,
   "outputs": [],
   "source": [
    "# contributions = np.abs(weights @ support_vectors.T + best_svc.intercept_)\n",
    "# print(\"Support Vector Contributions:\")\n",
    "# print(contributions)\n"
   ],
   "metadata": {
    "collapsed": false
   }
  },
  {
   "cell_type": "markdown",
   "source": [],
   "metadata": {
    "collapsed": false
   }
  },
  {
   "cell_type": "code",
   "execution_count": null,
   "outputs": [],
   "source": [
    "# svm = SVC(kernel='linear', gamma=0.0001, C = 10)\n",
    "# svm.fit(X_train, y_train)\n",
    "# save_results(svm,X_test, y_test, \"SVM\", results_df_user)\n",
    "# test_model_and_save_result(svm, \"SVM linear\", X_train, X_test, y_train, y_test, results_df)\n"
   ],
   "metadata": {
    "collapsed": false
   }
  },
  {
   "cell_type": "code",
   "execution_count": null,
   "outputs": [],
   "source": [
    "# svm = SVC(kernel='poly', gamma=0.0001, C = 10)\n",
    "# test_model_and_save_result(svm, \"polynomial\", X_train, X_test, y_train, y_test, results_df)\n"
   ],
   "metadata": {
    "collapsed": false
   }
  }
 ],
 "metadata": {
  "kernelspec": {
   "display_name": "Python 3",
   "language": "python",
   "name": "python3"
  },
  "language_info": {
   "codemirror_mode": {
    "name": "ipython",
    "version": 2
   },
   "file_extension": ".py",
   "mimetype": "text/x-python",
   "name": "python",
   "nbconvert_exporter": "python",
   "pygments_lexer": "ipython2",
   "version": "2.7.6"
  }
 },
 "nbformat": 4,
 "nbformat_minor": 0
}
