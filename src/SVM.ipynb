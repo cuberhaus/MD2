{
 "cells": [
  {
   "cell_type": "code",
   "execution_count": 17,
   "metadata": {
    "collapsed": true,
    "ExecuteTime": {
     "end_time": "2023-05-22T19:02:04.979440Z",
     "start_time": "2023-05-22T19:02:04.943887Z"
    }
   },
   "outputs": [
    {
     "name": "stdout",
     "output_type": "stream",
     "text": [
      "       Class  User         X0          Y0         Z0         X1          Y1   \n",
      "0          0     0   0.000000    0.000000   0.000000   0.000000    0.000000  \\\n",
      "1          1     0  54.263880   71.466776 -64.807709  76.895635   42.462500   \n",
      "2          1     0  56.527558   72.266609 -61.935252  39.135978   82.538530   \n",
      "3          1     0  55.849928   72.469064 -62.562788  37.988804   82.631347   \n",
      "4          1     0  55.329647   71.707275 -63.688956  36.561863   81.868749   \n",
      "...      ...   ...        ...         ...        ...        ...         ...   \n",
      "78091      5    14  54.251127  129.177414 -44.252511  27.720784  107.810661   \n",
      "78092      5    14  54.334883  129.253842 -44.016320  27.767911  107.914808   \n",
      "78093      5    14  54.151540  129.269502 -44.173273  27.725978  108.034006   \n",
      "78094      5    14  27.915311  108.007390  10.814957  -0.910435  122.464093   \n",
      "78095      5    14  27.898705  108.092877  11.107857 -30.031402   77.740235   \n",
      "\n",
      "              Z1         X2          Y2  ...                 Z8   \n",
      "0       0.000000   0.000000    0.000000  ...                  0  \\\n",
      "1     -72.780545  36.621229   81.680557  ...                  0   \n",
      "2     -49.596509  79.223743   43.254091  ...                  0   \n",
      "3     -50.606259  78.451526   43.567403  ...                  0   \n",
      "4     -52.752784  86.320630   68.214645  ...                  0   \n",
      "...          ...        ...         ...  ...                ...   \n",
      "78091  11.099282  -1.270139  122.758679  ...  -6.54311453354464   \n",
      "78092  11.069842 -30.334054   77.858214  ...  -62.1305625712145   \n",
      "78093  11.020347 -22.574718  104.222208  ...   3.83590370588782   \n",
      "78094 -47.271248 -30.084588   77.705861  ...  -63.2216259324485   \n",
      "78095 -17.453099  -1.091566  122.827638  ...  -63.0265744155222   \n",
      "\n",
      "                     X9                Y9                 Z9 X10 Y10 Z10 X11   \n",
      "0                     0                 0                  0   0   0   0   0  \\\n",
      "1                     0                 0                  0   0   0   0   0   \n",
      "2                     0                 0                  0   0   0   0   0   \n",
      "3                     0                 0                  0   0   0   0   0   \n",
      "4                     0                 0                  0   0   0   0   0   \n",
      "...                 ...               ...                ...  ..  ..  ..  ..   \n",
      "78091  87.7333643096221  61.2163626180662  -62.1262783028233   0   0   0   0   \n",
      "78092  78.2298473919132  33.0784071753174  -45.2495433686171   0   0   0   0   \n",
      "78093   78.591554010542    32.32773753847  -46.1665560916632   0   0   0   0   \n",
      "78094                 0                 0                  0   0   0   0   0   \n",
      "78095  78.8796525666014  31.6030997578398  -47.0137357205196   0   0   0   0   \n",
      "\n",
      "      Y11 Z11  \n",
      "0       0   0  \n",
      "1       0   0  \n",
      "2       0   0  \n",
      "3       0   0  \n",
      "4       0   0  \n",
      "...    ..  ..  \n",
      "78091   0   0  \n",
      "78092   0   0  \n",
      "78093   0   0  \n",
      "78094   0   0  \n",
      "78095   0   0  \n",
      "\n",
      "[78096 rows x 38 columns]\n"
     ]
    }
   ],
   "source": [
    "from sklearn.neighbors import KNeighborsClassifier\n",
    "from sklearn.svm import SVC\n",
    "from sklearn.model_selection import GridSearchCV\n",
    "\n",
    "from dataLoader import *\n",
    "\n",
    "results_df_user = pd.DataFrame()\n",
    "df = getdf()\n",
    "print(df)"
   ]
  },
  {
   "cell_type": "code",
   "execution_count": 18,
   "outputs": [
    {
     "name": "stdout",
     "output_type": "stream",
     "text": [
      "       Class  User         X0          Y0         Z0         X1          Y1   \n",
      "32         1     0  57.408092   71.920031 -60.849394  60.034749   10.329877  \\\n",
      "34         1     0  57.210670   71.674710 -61.483252  60.047936    9.981435   \n",
      "38         1     0  57.070601   71.646051 -61.799763  32.135481   80.649269   \n",
      "52         1     0  35.699608   82.713852 -52.636761  57.446483   72.797269   \n",
      "56         1     0  56.107673   71.549222 -63.442161  35.519543   81.381341   \n",
      "...      ...   ...        ...         ...        ...        ...         ...   \n",
      "77892      5    14  25.678708  106.915287  12.249559  86.726153   64.412403   \n",
      "77903      5    14  54.785548  129.618616 -41.439494  87.742809   62.528547   \n",
      "77955      5    14  57.404157  127.920769 -44.463499  62.599990  100.866843   \n",
      "78009      5    14  76.619901   33.808415 -41.850849  87.093074   61.776161   \n",
      "78058      5    14  55.477667  129.359734 -43.070249  78.681362   31.968211   \n",
      "\n",
      "              Z1         X2          Y2  ...                 Z8   \n",
      "32    -70.471544  32.459916   80.841802  ...                  0  \\\n",
      "34    -70.628133  32.262004   80.627505  ...                  0   \n",
      "38    -57.883987  59.857598    9.872771  ...                  0   \n",
      "52    -60.609433  77.546557   43.576128  ...                  0   \n",
      "56    -54.392213  76.716773   42.096208  ...                  0   \n",
      "...          ...        ...         ...  ...                ...   \n",
      "77892 -57.259184  77.856795   34.963611  ...   -14.724268505534   \n",
      "77903 -57.550094   0.600638  123.050599  ...  -30.0497803086276   \n",
      "77955  -5.171880 -28.695838   77.292678  ...  -56.1907181078944   \n",
      "78009 -59.115752 -22.176152  104.470967  ...  -43.8533102238934   \n",
      "78058 -45.536851  -2.214866  125.482435  ...  -52.5017318978386   \n",
      "\n",
      "                      X9                Y9                 Z9 X10 Y10 Z10 X11   \n",
      "32                     0                 0                  0   0   0   0   0  \\\n",
      "34                     0                 0                  0   0   0   0   0   \n",
      "38                     0                 0                  0   0   0   0   0   \n",
      "52                     0                 0                  0   0   0   0   0   \n",
      "56                     0                 0                  0   0   0   0   0   \n",
      "...                  ...               ...                ...  ..  ..  ..  ..   \n",
      "77892  -22.7613040337108  106.544524177905  -51.1071733419131   0   0   0   0   \n",
      "77903   76.3052487791976  35.6850222454739  -38.3593364237117   0   0   0   0   \n",
      "77955   88.9126869078895  60.5435191385945  -60.4310629169591   0   0   0   0   \n",
      "78009   29.0117308171865  106.724136638234   8.95582806224405   0   0   0   0   \n",
      "78058   87.8161527541242  61.7348958241566  -60.4325113047567   0   0   0   0   \n",
      "\n",
      "      Y11 Z11  \n",
      "32      0   0  \n",
      "34      0   0  \n",
      "38      0   0  \n",
      "52      0   0  \n",
      "56      0   0  \n",
      "...    ..  ..  \n",
      "77892   0   0  \n",
      "77903   0   0  \n",
      "77955   0   0  \n",
      "78009   0   0  \n",
      "78058   0   0  \n",
      "\n",
      "[3096 rows x 38 columns]\n"
     ]
    }
   ],
   "source": [
    "drop_indices = np.random.choice(df.index, 75000, replace=False)\n",
    "df = df.drop(drop_indices)\n",
    "print(df)\n"
   ],
   "metadata": {
    "collapsed": false,
    "ExecuteTime": {
     "end_time": "2023-05-22T19:02:04.991549Z",
     "start_time": "2023-05-22T19:02:04.978978Z"
    }
   }
  },
  {
   "cell_type": "code",
   "execution_count": 19,
   "outputs": [],
   "source": [
    "X_train, X_test, y_train, y_test = get_test_training_df(df,0.20)\n",
    "\n",
    "# param_grid = {'C':[1,10,100,1000],\n",
    "#               'gamma':[1,0.1,0.001,0.0001],\n",
    "#               'kernel':['sigmoid','rbf']}\n",
    "\n",
    "# test_model_and_save_result(grid, \"SVM\", X_train, X_test, y_train, y_test, results_df_user)"
   ],
   "metadata": {
    "collapsed": false,
    "ExecuteTime": {
     "end_time": "2023-05-22T19:02:05.017546Z",
     "start_time": "2023-05-22T19:02:04.995143Z"
    }
   }
  },
  {
   "cell_type": "markdown",
   "source": [
    "This is just a test"
   ],
   "metadata": {
    "collapsed": false
   }
  },
  {
   "cell_type": "code",
   "execution_count": 20,
   "outputs": [
    {
     "data": {
      "text/plain": "              X0          Y0         Z0         X1          Y1         Z1   \n65498  74.662215  122.868016  25.711087  26.518912   84.725509  25.262972  \\\n69009  34.499709   99.757686  -4.658423  53.531388  137.734389 -11.948022   \n48853  31.996180  108.449836 -62.832723  58.559001  111.382585 -50.581631   \n63797  60.718295   80.848908 -57.508920  58.095120   20.909936 -60.734433   \n59997  50.566803  150.216793 -14.280415 -12.149048   83.811790 -30.366122   \n...          ...         ...        ...        ...         ...        ...   \n40196  69.763687   31.320901 -86.658293  71.850488   57.553976 -85.736986   \n27044  52.888984   95.032611  -0.542157  79.429839   85.856803 -21.630212   \n27999  77.056965   88.724158 -20.875426  48.036868  138.787058 -30.850667   \n31616  64.526692  133.778061 -28.360722  65.193137   83.734330 -33.277631   \n20890  34.153590  146.694639  16.992691  86.996373   46.519607 -32.366816   \n\n               X2          Y2         Z2                 X3  ...   \n65498   48.385285   89.770774  21.415417   63.7263475502503  ...  \\\n69009   73.749742   76.576761 -53.278043    74.735288493791  ...   \n48853   38.902518  107.634575  -2.823642  -10.0416025667079  ...   \n63797   64.814767   54.010044 -62.174988   56.5490342385922  ...   \n59997   66.455675  133.777490 -12.775132   64.6365426133108  ...   \n...           ...         ...        ...                ...  ...   \n40196   -7.609029   72.928226 -37.077598   36.2910369441577  ...   \n27044   77.525560   79.755614 -88.020446    15.836672687995  ...   \n27999   71.372740   85.621594 -77.391834    52.562537268397  ...   \n31616  117.078766    8.215771 -76.412930    67.043633485381  ...   \n20890   35.973921   95.712350   4.476109   -16.082662616817  ...   \n\n                      Z8                 X9                Y9   \n65498   43.3611270259882    76.240506072708  71.8530101210179  \\\n69009                  0                  0                 0   \n48853                  0                  0                 0   \n63797                  0                  0                 0   \n59997                  0                  0                 0   \n...                  ...                ...               ...   \n40196                  0                  0                 0   \n27044  -33.9676501090926  -14.8135930534854  127.535974628773   \n27999  -26.3442078323769   61.0268567625881  23.0848740045187   \n31616                  0                  0                 0   \n20890                  0                  0                 0   \n\n                      Z9               X10               Y10   \n65498  -27.3128595980585  65.3760760693742  55.6877417793019  \\\n69009                  0                 0                 0   \n48853                  0                 0                 0   \n63797                  0                 0                 0   \n59997                  0                 0                 0   \n...                  ...               ...               ...   \n40196                  0                 0                 0   \n27044  -25.4468798140262                 0                 0   \n27999  -74.4048844644064                 0                 0   \n31616                  0                 0                 0   \n20890                  0                 0                 0   \n\n                    Z10 X11 Y11 Z11  \n65498  -38.994053725534   0   0   0  \n69009                 0   0   0   0  \n48853                 0   0   0   0  \n63797                 0   0   0   0  \n59997                 0   0   0   0  \n...                 ...  ..  ..  ..  \n40196                 0   0   0   0  \n27044                 0   0   0   0  \n27999                 0   0   0   0  \n31616                 0   0   0   0  \n20890                 0   0   0   0  \n\n[2476 rows x 36 columns]",
      "text/html": "<div>\n<style scoped>\n    .dataframe tbody tr th:only-of-type {\n        vertical-align: middle;\n    }\n\n    .dataframe tbody tr th {\n        vertical-align: top;\n    }\n\n    .dataframe thead th {\n        text-align: right;\n    }\n</style>\n<table border=\"1\" class=\"dataframe\">\n  <thead>\n    <tr style=\"text-align: right;\">\n      <th></th>\n      <th>X0</th>\n      <th>Y0</th>\n      <th>Z0</th>\n      <th>X1</th>\n      <th>Y1</th>\n      <th>Z1</th>\n      <th>X2</th>\n      <th>Y2</th>\n      <th>Z2</th>\n      <th>X3</th>\n      <th>...</th>\n      <th>Z8</th>\n      <th>X9</th>\n      <th>Y9</th>\n      <th>Z9</th>\n      <th>X10</th>\n      <th>Y10</th>\n      <th>Z10</th>\n      <th>X11</th>\n      <th>Y11</th>\n      <th>Z11</th>\n    </tr>\n  </thead>\n  <tbody>\n    <tr>\n      <th>65498</th>\n      <td>74.662215</td>\n      <td>122.868016</td>\n      <td>25.711087</td>\n      <td>26.518912</td>\n      <td>84.725509</td>\n      <td>25.262972</td>\n      <td>48.385285</td>\n      <td>89.770774</td>\n      <td>21.415417</td>\n      <td>63.7263475502503</td>\n      <td>...</td>\n      <td>43.3611270259882</td>\n      <td>76.240506072708</td>\n      <td>71.8530101210179</td>\n      <td>-27.3128595980585</td>\n      <td>65.3760760693742</td>\n      <td>55.6877417793019</td>\n      <td>-38.994053725534</td>\n      <td>0</td>\n      <td>0</td>\n      <td>0</td>\n    </tr>\n    <tr>\n      <th>69009</th>\n      <td>34.499709</td>\n      <td>99.757686</td>\n      <td>-4.658423</td>\n      <td>53.531388</td>\n      <td>137.734389</td>\n      <td>-11.948022</td>\n      <td>73.749742</td>\n      <td>76.576761</td>\n      <td>-53.278043</td>\n      <td>74.735288493791</td>\n      <td>...</td>\n      <td>0</td>\n      <td>0</td>\n      <td>0</td>\n      <td>0</td>\n      <td>0</td>\n      <td>0</td>\n      <td>0</td>\n      <td>0</td>\n      <td>0</td>\n      <td>0</td>\n    </tr>\n    <tr>\n      <th>48853</th>\n      <td>31.996180</td>\n      <td>108.449836</td>\n      <td>-62.832723</td>\n      <td>58.559001</td>\n      <td>111.382585</td>\n      <td>-50.581631</td>\n      <td>38.902518</td>\n      <td>107.634575</td>\n      <td>-2.823642</td>\n      <td>-10.0416025667079</td>\n      <td>...</td>\n      <td>0</td>\n      <td>0</td>\n      <td>0</td>\n      <td>0</td>\n      <td>0</td>\n      <td>0</td>\n      <td>0</td>\n      <td>0</td>\n      <td>0</td>\n      <td>0</td>\n    </tr>\n    <tr>\n      <th>63797</th>\n      <td>60.718295</td>\n      <td>80.848908</td>\n      <td>-57.508920</td>\n      <td>58.095120</td>\n      <td>20.909936</td>\n      <td>-60.734433</td>\n      <td>64.814767</td>\n      <td>54.010044</td>\n      <td>-62.174988</td>\n      <td>56.5490342385922</td>\n      <td>...</td>\n      <td>0</td>\n      <td>0</td>\n      <td>0</td>\n      <td>0</td>\n      <td>0</td>\n      <td>0</td>\n      <td>0</td>\n      <td>0</td>\n      <td>0</td>\n      <td>0</td>\n    </tr>\n    <tr>\n      <th>59997</th>\n      <td>50.566803</td>\n      <td>150.216793</td>\n      <td>-14.280415</td>\n      <td>-12.149048</td>\n      <td>83.811790</td>\n      <td>-30.366122</td>\n      <td>66.455675</td>\n      <td>133.777490</td>\n      <td>-12.775132</td>\n      <td>64.6365426133108</td>\n      <td>...</td>\n      <td>0</td>\n      <td>0</td>\n      <td>0</td>\n      <td>0</td>\n      <td>0</td>\n      <td>0</td>\n      <td>0</td>\n      <td>0</td>\n      <td>0</td>\n      <td>0</td>\n    </tr>\n    <tr>\n      <th>...</th>\n      <td>...</td>\n      <td>...</td>\n      <td>...</td>\n      <td>...</td>\n      <td>...</td>\n      <td>...</td>\n      <td>...</td>\n      <td>...</td>\n      <td>...</td>\n      <td>...</td>\n      <td>...</td>\n      <td>...</td>\n      <td>...</td>\n      <td>...</td>\n      <td>...</td>\n      <td>...</td>\n      <td>...</td>\n      <td>...</td>\n      <td>...</td>\n      <td>...</td>\n      <td>...</td>\n    </tr>\n    <tr>\n      <th>40196</th>\n      <td>69.763687</td>\n      <td>31.320901</td>\n      <td>-86.658293</td>\n      <td>71.850488</td>\n      <td>57.553976</td>\n      <td>-85.736986</td>\n      <td>-7.609029</td>\n      <td>72.928226</td>\n      <td>-37.077598</td>\n      <td>36.2910369441577</td>\n      <td>...</td>\n      <td>0</td>\n      <td>0</td>\n      <td>0</td>\n      <td>0</td>\n      <td>0</td>\n      <td>0</td>\n      <td>0</td>\n      <td>0</td>\n      <td>0</td>\n      <td>0</td>\n    </tr>\n    <tr>\n      <th>27044</th>\n      <td>52.888984</td>\n      <td>95.032611</td>\n      <td>-0.542157</td>\n      <td>79.429839</td>\n      <td>85.856803</td>\n      <td>-21.630212</td>\n      <td>77.525560</td>\n      <td>79.755614</td>\n      <td>-88.020446</td>\n      <td>15.836672687995</td>\n      <td>...</td>\n      <td>-33.9676501090926</td>\n      <td>-14.8135930534854</td>\n      <td>127.535974628773</td>\n      <td>-25.4468798140262</td>\n      <td>0</td>\n      <td>0</td>\n      <td>0</td>\n      <td>0</td>\n      <td>0</td>\n      <td>0</td>\n    </tr>\n    <tr>\n      <th>27999</th>\n      <td>77.056965</td>\n      <td>88.724158</td>\n      <td>-20.875426</td>\n      <td>48.036868</td>\n      <td>138.787058</td>\n      <td>-30.850667</td>\n      <td>71.372740</td>\n      <td>85.621594</td>\n      <td>-77.391834</td>\n      <td>52.562537268397</td>\n      <td>...</td>\n      <td>-26.3442078323769</td>\n      <td>61.0268567625881</td>\n      <td>23.0848740045187</td>\n      <td>-74.4048844644064</td>\n      <td>0</td>\n      <td>0</td>\n      <td>0</td>\n      <td>0</td>\n      <td>0</td>\n      <td>0</td>\n    </tr>\n    <tr>\n      <th>31616</th>\n      <td>64.526692</td>\n      <td>133.778061</td>\n      <td>-28.360722</td>\n      <td>65.193137</td>\n      <td>83.734330</td>\n      <td>-33.277631</td>\n      <td>117.078766</td>\n      <td>8.215771</td>\n      <td>-76.412930</td>\n      <td>67.043633485381</td>\n      <td>...</td>\n      <td>0</td>\n      <td>0</td>\n      <td>0</td>\n      <td>0</td>\n      <td>0</td>\n      <td>0</td>\n      <td>0</td>\n      <td>0</td>\n      <td>0</td>\n      <td>0</td>\n    </tr>\n    <tr>\n      <th>20890</th>\n      <td>34.153590</td>\n      <td>146.694639</td>\n      <td>16.992691</td>\n      <td>86.996373</td>\n      <td>46.519607</td>\n      <td>-32.366816</td>\n      <td>35.973921</td>\n      <td>95.712350</td>\n      <td>4.476109</td>\n      <td>-16.082662616817</td>\n      <td>...</td>\n      <td>0</td>\n      <td>0</td>\n      <td>0</td>\n      <td>0</td>\n      <td>0</td>\n      <td>0</td>\n      <td>0</td>\n      <td>0</td>\n      <td>0</td>\n      <td>0</td>\n    </tr>\n  </tbody>\n</table>\n<p>2476 rows × 36 columns</p>\n</div>"
     },
     "execution_count": 20,
     "metadata": {},
     "output_type": "execute_result"
    }
   ],
   "source": [
    "X_train"
   ],
   "metadata": {
    "collapsed": false,
    "ExecuteTime": {
     "end_time": "2023-05-22T19:02:05.024342Z",
     "start_time": "2023-05-22T19:02:05.002617Z"
    }
   }
  },
  {
   "cell_type": "code",
   "execution_count": 21,
   "outputs": [
    {
     "data": {
      "text/plain": "               X0          Y0         Z0          X1          Y1         Z1   \n48421  102.626621   20.532806 -75.435268   28.756162    4.264990   8.540776  \\\n32091  122.225261   20.166220  51.337085   64.626259  133.593966 -28.357549   \n39355    9.611754  104.521451   4.145073  -18.317527   85.924298 -26.991736   \n66407   59.273976   88.388791  10.380272   59.369393  127.381846  18.081849   \n61524  -14.294689   89.165553   5.278092   51.113002   87.392014  11.685203   \n...           ...         ...        ...         ...         ...        ...   \n68238   45.500337  140.409694  20.629476   61.515883  132.821047   8.942946   \n47562   97.559200   28.659774 -81.197877   29.518775    5.780392   7.608385   \n25567   60.611424   85.064521 -20.555594  107.785500   43.215638 -63.344485   \n70796  -21.410796   70.349804 -40.663796   40.480332   85.155439 -59.690320   \n3891    59.671215   90.917477 -34.423740   68.412421   72.692406 -84.860905   \n\n              X2          Y2         Z2                X3  ...   \n48421  -7.018140   82.019013 -76.367223  66.3847172924739  ...  \\\n32091  90.461528    6.109850 -78.925901  62.4600202780032  ...   \n39355   9.953513  138.119635 -40.807520  39.4833412745223  ...   \n66407  57.365619   68.114362 -36.926336  60.6066029698443  ...   \n61524  15.763176   89.581591  18.204939  78.3969526053237  ...   \n...          ...         ...        ...               ...  ...   \n68238  59.599846   93.420715   1.963080  86.7962853932415  ...   \n47562 -11.059515   83.367313 -69.954034  32.0301110969308  ...   \n25567  91.304534   24.891202 -64.971370  51.7775936718864  ...   \n70796  -3.359634   80.352126 -54.226056  30.5082011690982  ...   \n3891   58.868996   10.381747 -73.874098  54.9089232157083  ...   \n\n                      Z8                X9                Y9   \n48421  -18.1619477271063                 0                 0  \\\n32091                  0                 0                 0   \n39355  -9.24129441240022  108.430857282047   36.505361264593   \n66407                  0                 0                 0   \n61524  -22.9635873498584                 0                 0   \n...                  ...               ...               ...   \n68238                  0                 0                 0   \n47562  -19.9521144194269  45.6528005830581  110.202960780726   \n25567                  0                 0                 0   \n70796                  0                 0                 0   \n3891                   0                 0                 0   \n\n                      Z9                X10               Y10   \n48421                  0                  0                 0  \\\n32091                  0                  0                 0   \n39355  -51.6359873879802                  0                 0   \n66407                  0                  0                 0   \n61524                  0                  0                 0   \n...                  ...                ...               ...   \n68238                  0                  0                 0   \n47562  -10.0872439290993  -20.0760211540135  85.3016507426607   \n25567                  0                  0                 0   \n70796                  0                  0                 0   \n3891                   0                  0                 0   \n\n                     Z10 X11 Y11 Z11  \n48421                  0   0   0   0  \n32091                  0   0   0   0  \n39355                  0   0   0   0  \n66407                  0   0   0   0  \n61524                  0   0   0   0  \n...                  ...  ..  ..  ..  \n68238                  0   0   0   0  \n47562  -21.7292357021759   0   0   0  \n25567                  0   0   0   0  \n70796                  0   0   0   0  \n3891                   0   0   0   0  \n\n[620 rows x 36 columns]",
      "text/html": "<div>\n<style scoped>\n    .dataframe tbody tr th:only-of-type {\n        vertical-align: middle;\n    }\n\n    .dataframe tbody tr th {\n        vertical-align: top;\n    }\n\n    .dataframe thead th {\n        text-align: right;\n    }\n</style>\n<table border=\"1\" class=\"dataframe\">\n  <thead>\n    <tr style=\"text-align: right;\">\n      <th></th>\n      <th>X0</th>\n      <th>Y0</th>\n      <th>Z0</th>\n      <th>X1</th>\n      <th>Y1</th>\n      <th>Z1</th>\n      <th>X2</th>\n      <th>Y2</th>\n      <th>Z2</th>\n      <th>X3</th>\n      <th>...</th>\n      <th>Z8</th>\n      <th>X9</th>\n      <th>Y9</th>\n      <th>Z9</th>\n      <th>X10</th>\n      <th>Y10</th>\n      <th>Z10</th>\n      <th>X11</th>\n      <th>Y11</th>\n      <th>Z11</th>\n    </tr>\n  </thead>\n  <tbody>\n    <tr>\n      <th>48421</th>\n      <td>102.626621</td>\n      <td>20.532806</td>\n      <td>-75.435268</td>\n      <td>28.756162</td>\n      <td>4.264990</td>\n      <td>8.540776</td>\n      <td>-7.018140</td>\n      <td>82.019013</td>\n      <td>-76.367223</td>\n      <td>66.3847172924739</td>\n      <td>...</td>\n      <td>-18.1619477271063</td>\n      <td>0</td>\n      <td>0</td>\n      <td>0</td>\n      <td>0</td>\n      <td>0</td>\n      <td>0</td>\n      <td>0</td>\n      <td>0</td>\n      <td>0</td>\n    </tr>\n    <tr>\n      <th>32091</th>\n      <td>122.225261</td>\n      <td>20.166220</td>\n      <td>51.337085</td>\n      <td>64.626259</td>\n      <td>133.593966</td>\n      <td>-28.357549</td>\n      <td>90.461528</td>\n      <td>6.109850</td>\n      <td>-78.925901</td>\n      <td>62.4600202780032</td>\n      <td>...</td>\n      <td>0</td>\n      <td>0</td>\n      <td>0</td>\n      <td>0</td>\n      <td>0</td>\n      <td>0</td>\n      <td>0</td>\n      <td>0</td>\n      <td>0</td>\n      <td>0</td>\n    </tr>\n    <tr>\n      <th>39355</th>\n      <td>9.611754</td>\n      <td>104.521451</td>\n      <td>4.145073</td>\n      <td>-18.317527</td>\n      <td>85.924298</td>\n      <td>-26.991736</td>\n      <td>9.953513</td>\n      <td>138.119635</td>\n      <td>-40.807520</td>\n      <td>39.4833412745223</td>\n      <td>...</td>\n      <td>-9.24129441240022</td>\n      <td>108.430857282047</td>\n      <td>36.505361264593</td>\n      <td>-51.6359873879802</td>\n      <td>0</td>\n      <td>0</td>\n      <td>0</td>\n      <td>0</td>\n      <td>0</td>\n      <td>0</td>\n    </tr>\n    <tr>\n      <th>66407</th>\n      <td>59.273976</td>\n      <td>88.388791</td>\n      <td>10.380272</td>\n      <td>59.369393</td>\n      <td>127.381846</td>\n      <td>18.081849</td>\n      <td>57.365619</td>\n      <td>68.114362</td>\n      <td>-36.926336</td>\n      <td>60.6066029698443</td>\n      <td>...</td>\n      <td>0</td>\n      <td>0</td>\n      <td>0</td>\n      <td>0</td>\n      <td>0</td>\n      <td>0</td>\n      <td>0</td>\n      <td>0</td>\n      <td>0</td>\n      <td>0</td>\n    </tr>\n    <tr>\n      <th>61524</th>\n      <td>-14.294689</td>\n      <td>89.165553</td>\n      <td>5.278092</td>\n      <td>51.113002</td>\n      <td>87.392014</td>\n      <td>11.685203</td>\n      <td>15.763176</td>\n      <td>89.581591</td>\n      <td>18.204939</td>\n      <td>78.3969526053237</td>\n      <td>...</td>\n      <td>-22.9635873498584</td>\n      <td>0</td>\n      <td>0</td>\n      <td>0</td>\n      <td>0</td>\n      <td>0</td>\n      <td>0</td>\n      <td>0</td>\n      <td>0</td>\n      <td>0</td>\n    </tr>\n    <tr>\n      <th>...</th>\n      <td>...</td>\n      <td>...</td>\n      <td>...</td>\n      <td>...</td>\n      <td>...</td>\n      <td>...</td>\n      <td>...</td>\n      <td>...</td>\n      <td>...</td>\n      <td>...</td>\n      <td>...</td>\n      <td>...</td>\n      <td>...</td>\n      <td>...</td>\n      <td>...</td>\n      <td>...</td>\n      <td>...</td>\n      <td>...</td>\n      <td>...</td>\n      <td>...</td>\n      <td>...</td>\n    </tr>\n    <tr>\n      <th>68238</th>\n      <td>45.500337</td>\n      <td>140.409694</td>\n      <td>20.629476</td>\n      <td>61.515883</td>\n      <td>132.821047</td>\n      <td>8.942946</td>\n      <td>59.599846</td>\n      <td>93.420715</td>\n      <td>1.963080</td>\n      <td>86.7962853932415</td>\n      <td>...</td>\n      <td>0</td>\n      <td>0</td>\n      <td>0</td>\n      <td>0</td>\n      <td>0</td>\n      <td>0</td>\n      <td>0</td>\n      <td>0</td>\n      <td>0</td>\n      <td>0</td>\n    </tr>\n    <tr>\n      <th>47562</th>\n      <td>97.559200</td>\n      <td>28.659774</td>\n      <td>-81.197877</td>\n      <td>29.518775</td>\n      <td>5.780392</td>\n      <td>7.608385</td>\n      <td>-11.059515</td>\n      <td>83.367313</td>\n      <td>-69.954034</td>\n      <td>32.0301110969308</td>\n      <td>...</td>\n      <td>-19.9521144194269</td>\n      <td>45.6528005830581</td>\n      <td>110.202960780726</td>\n      <td>-10.0872439290993</td>\n      <td>-20.0760211540135</td>\n      <td>85.3016507426607</td>\n      <td>-21.7292357021759</td>\n      <td>0</td>\n      <td>0</td>\n      <td>0</td>\n    </tr>\n    <tr>\n      <th>25567</th>\n      <td>60.611424</td>\n      <td>85.064521</td>\n      <td>-20.555594</td>\n      <td>107.785500</td>\n      <td>43.215638</td>\n      <td>-63.344485</td>\n      <td>91.304534</td>\n      <td>24.891202</td>\n      <td>-64.971370</td>\n      <td>51.7775936718864</td>\n      <td>...</td>\n      <td>0</td>\n      <td>0</td>\n      <td>0</td>\n      <td>0</td>\n      <td>0</td>\n      <td>0</td>\n      <td>0</td>\n      <td>0</td>\n      <td>0</td>\n      <td>0</td>\n    </tr>\n    <tr>\n      <th>70796</th>\n      <td>-21.410796</td>\n      <td>70.349804</td>\n      <td>-40.663796</td>\n      <td>40.480332</td>\n      <td>85.155439</td>\n      <td>-59.690320</td>\n      <td>-3.359634</td>\n      <td>80.352126</td>\n      <td>-54.226056</td>\n      <td>30.5082011690982</td>\n      <td>...</td>\n      <td>0</td>\n      <td>0</td>\n      <td>0</td>\n      <td>0</td>\n      <td>0</td>\n      <td>0</td>\n      <td>0</td>\n      <td>0</td>\n      <td>0</td>\n      <td>0</td>\n    </tr>\n    <tr>\n      <th>3891</th>\n      <td>59.671215</td>\n      <td>90.917477</td>\n      <td>-34.423740</td>\n      <td>68.412421</td>\n      <td>72.692406</td>\n      <td>-84.860905</td>\n      <td>58.868996</td>\n      <td>10.381747</td>\n      <td>-73.874098</td>\n      <td>54.9089232157083</td>\n      <td>...</td>\n      <td>0</td>\n      <td>0</td>\n      <td>0</td>\n      <td>0</td>\n      <td>0</td>\n      <td>0</td>\n      <td>0</td>\n      <td>0</td>\n      <td>0</td>\n      <td>0</td>\n    </tr>\n  </tbody>\n</table>\n<p>620 rows × 36 columns</p>\n</div>"
     },
     "execution_count": 21,
     "metadata": {},
     "output_type": "execute_result"
    }
   ],
   "source": [
    "X_test"
   ],
   "metadata": {
    "collapsed": false,
    "ExecuteTime": {
     "end_time": "2023-05-22T19:02:05.024820Z",
     "start_time": "2023-05-22T19:02:05.017724Z"
    }
   }
  },
  {
   "cell_type": "code",
   "execution_count": 22,
   "outputs": [
    {
     "name": "stdout",
     "output_type": "stream",
     "text": [
      "      acc      prec  recall  test f1 score (W)\n",
      "KNN  0.65  0.649418    0.65           0.540653\n"
     ]
    },
    {
     "name": "stderr",
     "output_type": "stream",
     "text": [
      "/Users/pol/dotfiles/dotfiles/.local/share/virtualenvs/MD2-Msi-27M8/lib/python3.11/site-packages/sklearn/metrics/_classification.py:1344: UndefinedMetricWarning: Precision is ill-defined and being set to 0.0 in labels with no predicted samples. Use `zero_division` parameter to control this behavior.\n",
      "  _warn_prf(average, modifier, msg_start, len(result))\n"
     ]
    }
   ],
   "source": [
    "knn = KNeighborsClassifier(n_neighbors=1)\n",
    "test_model_and_save_result(knn, \"KNN\", X_train, X_test, y_train, y_test, results_df_user)\n",
    "print(results_df_user.sort_values(by=['acc'], ascending=False))\n"
   ],
   "metadata": {
    "collapsed": false,
    "ExecuteTime": {
     "end_time": "2023-05-22T19:02:05.122671Z",
     "start_time": "2023-05-22T19:02:05.023099Z"
    }
   }
  },
  {
   "cell_type": "code",
   "execution_count": 23,
   "outputs": [
    {
     "name": "stdout",
     "output_type": "stream",
     "text": [
      "Fitting 5 folds for each of 32 candidates, totalling 160 fits\n",
      "[CV] END .......................C=1, gamma=1, kernel=sigmoid; total time=   0.2s\n",
      "[CV] END .......................C=1, gamma=1, kernel=sigmoid; total time=   0.2s\n",
      "[CV] END .......................C=1, gamma=1, kernel=sigmoid; total time=   0.2s\n",
      "[CV] END .......................C=1, gamma=1, kernel=sigmoid; total time=   0.2s\n",
      "[CV] END .......................C=1, gamma=1, kernel=sigmoid; total time=   0.2s\n",
      "[CV] END ...........................C=1, gamma=1, kernel=rbf; total time=   0.4s\n",
      "[CV] END ...........................C=1, gamma=1, kernel=rbf; total time=   0.3s\n",
      "[CV] END ...........................C=1, gamma=1, kernel=rbf; total time=   0.4s\n",
      "[CV] END ...........................C=1, gamma=1, kernel=rbf; total time=   0.3s\n",
      "[CV] END ...........................C=1, gamma=1, kernel=rbf; total time=   0.3s\n",
      "[CV] END .....................C=1, gamma=0.1, kernel=sigmoid; total time=   0.2s\n",
      "[CV] END .....................C=1, gamma=0.1, kernel=sigmoid; total time=   0.2s\n",
      "[CV] END .....................C=1, gamma=0.1, kernel=sigmoid; total time=   0.2s\n",
      "[CV] END .....................C=1, gamma=0.1, kernel=sigmoid; total time=   0.2s\n",
      "[CV] END .....................C=1, gamma=0.1, kernel=sigmoid; total time=   0.2s\n",
      "[CV] END .........................C=1, gamma=0.1, kernel=rbf; total time=   0.3s\n",
      "[CV] END .........................C=1, gamma=0.1, kernel=rbf; total time=   0.3s\n",
      "[CV] END .........................C=1, gamma=0.1, kernel=rbf; total time=   0.3s\n",
      "[CV] END .........................C=1, gamma=0.1, kernel=rbf; total time=   0.3s\n",
      "[CV] END .........................C=1, gamma=0.1, kernel=rbf; total time=   0.3s\n",
      "[CV] END ...................C=1, gamma=0.001, kernel=sigmoid; total time=   0.2s\n",
      "[CV] END ...................C=1, gamma=0.001, kernel=sigmoid; total time=   0.2s\n",
      "[CV] END ...................C=1, gamma=0.001, kernel=sigmoid; total time=   0.2s\n",
      "[CV] END ...................C=1, gamma=0.001, kernel=sigmoid; total time=   0.2s\n",
      "[CV] END ...................C=1, gamma=0.001, kernel=sigmoid; total time=   0.2s\n",
      "[CV] END .......................C=1, gamma=0.001, kernel=rbf; total time=   0.3s\n",
      "[CV] END .......................C=1, gamma=0.001, kernel=rbf; total time=   0.3s\n",
      "[CV] END .......................C=1, gamma=0.001, kernel=rbf; total time=   0.3s\n",
      "[CV] END .......................C=1, gamma=0.001, kernel=rbf; total time=   0.3s\n",
      "[CV] END .......................C=1, gamma=0.001, kernel=rbf; total time=   0.3s\n",
      "[CV] END ..................C=1, gamma=0.0001, kernel=sigmoid; total time=   0.2s\n",
      "[CV] END ..................C=1, gamma=0.0001, kernel=sigmoid; total time=   0.2s\n",
      "[CV] END ..................C=1, gamma=0.0001, kernel=sigmoid; total time=   0.2s\n",
      "[CV] END ..................C=1, gamma=0.0001, kernel=sigmoid; total time=   0.3s\n",
      "[CV] END ..................C=1, gamma=0.0001, kernel=sigmoid; total time=   0.2s\n",
      "[CV] END ......................C=1, gamma=0.0001, kernel=rbf; total time=   0.3s\n",
      "[CV] END ......................C=1, gamma=0.0001, kernel=rbf; total time=   0.3s\n",
      "[CV] END ......................C=1, gamma=0.0001, kernel=rbf; total time=   0.3s\n",
      "[CV] END ......................C=1, gamma=0.0001, kernel=rbf; total time=   0.3s\n",
      "[CV] END ......................C=1, gamma=0.0001, kernel=rbf; total time=   0.3s\n",
      "[CV] END ......................C=10, gamma=1, kernel=sigmoid; total time=   0.2s\n",
      "[CV] END ......................C=10, gamma=1, kernel=sigmoid; total time=   0.2s\n",
      "[CV] END ......................C=10, gamma=1, kernel=sigmoid; total time=   0.2s\n",
      "[CV] END ......................C=10, gamma=1, kernel=sigmoid; total time=   0.2s\n",
      "[CV] END ......................C=10, gamma=1, kernel=sigmoid; total time=   0.2s\n",
      "[CV] END ..........................C=10, gamma=1, kernel=rbf; total time=   0.3s\n",
      "[CV] END ..........................C=10, gamma=1, kernel=rbf; total time=   0.3s\n",
      "[CV] END ..........................C=10, gamma=1, kernel=rbf; total time=   0.3s\n",
      "[CV] END ..........................C=10, gamma=1, kernel=rbf; total time=   0.3s\n",
      "[CV] END ..........................C=10, gamma=1, kernel=rbf; total time=   0.3s\n",
      "[CV] END ....................C=10, gamma=0.1, kernel=sigmoid; total time=   0.2s\n",
      "[CV] END ....................C=10, gamma=0.1, kernel=sigmoid; total time=   0.2s\n",
      "[CV] END ....................C=10, gamma=0.1, kernel=sigmoid; total time=   0.2s\n",
      "[CV] END ....................C=10, gamma=0.1, kernel=sigmoid; total time=   0.2s\n",
      "[CV] END ....................C=10, gamma=0.1, kernel=sigmoid; total time=   0.2s\n",
      "[CV] END ........................C=10, gamma=0.1, kernel=rbf; total time=   0.3s\n",
      "[CV] END ........................C=10, gamma=0.1, kernel=rbf; total time=   0.3s\n",
      "[CV] END ........................C=10, gamma=0.1, kernel=rbf; total time=   0.3s\n",
      "[CV] END ........................C=10, gamma=0.1, kernel=rbf; total time=   0.3s\n",
      "[CV] END ........................C=10, gamma=0.1, kernel=rbf; total time=   0.3s\n",
      "[CV] END ..................C=10, gamma=0.001, kernel=sigmoid; total time=   0.2s\n",
      "[CV] END ..................C=10, gamma=0.001, kernel=sigmoid; total time=   0.2s\n",
      "[CV] END ..................C=10, gamma=0.001, kernel=sigmoid; total time=   0.2s\n",
      "[CV] END ..................C=10, gamma=0.001, kernel=sigmoid; total time=   0.2s\n",
      "[CV] END ..................C=10, gamma=0.001, kernel=sigmoid; total time=   0.2s\n",
      "[CV] END ......................C=10, gamma=0.001, kernel=rbf; total time=   0.3s\n",
      "[CV] END ......................C=10, gamma=0.001, kernel=rbf; total time=   0.3s\n",
      "[CV] END ......................C=10, gamma=0.001, kernel=rbf; total time=   0.3s\n",
      "[CV] END ......................C=10, gamma=0.001, kernel=rbf; total time=   0.3s\n",
      "[CV] END ......................C=10, gamma=0.001, kernel=rbf; total time=   0.3s\n",
      "[CV] END .................C=10, gamma=0.0001, kernel=sigmoid; total time=   0.2s\n",
      "[CV] END .................C=10, gamma=0.0001, kernel=sigmoid; total time=   0.2s\n",
      "[CV] END .................C=10, gamma=0.0001, kernel=sigmoid; total time=   0.2s\n",
      "[CV] END .................C=10, gamma=0.0001, kernel=sigmoid; total time=   0.2s\n",
      "[CV] END .................C=10, gamma=0.0001, kernel=sigmoid; total time=   0.2s\n",
      "[CV] END .....................C=10, gamma=0.0001, kernel=rbf; total time=   0.3s\n",
      "[CV] END .....................C=10, gamma=0.0001, kernel=rbf; total time=   0.3s\n",
      "[CV] END .....................C=10, gamma=0.0001, kernel=rbf; total time=   0.3s\n",
      "[CV] END .....................C=10, gamma=0.0001, kernel=rbf; total time=   0.3s\n",
      "[CV] END .....................C=10, gamma=0.0001, kernel=rbf; total time=   0.3s\n",
      "[CV] END .....................C=100, gamma=1, kernel=sigmoid; total time=   0.2s\n",
      "[CV] END .....................C=100, gamma=1, kernel=sigmoid; total time=   0.2s\n",
      "[CV] END .....................C=100, gamma=1, kernel=sigmoid; total time=   0.2s\n",
      "[CV] END .....................C=100, gamma=1, kernel=sigmoid; total time=   0.2s\n",
      "[CV] END .....................C=100, gamma=1, kernel=sigmoid; total time=   0.2s\n",
      "[CV] END .........................C=100, gamma=1, kernel=rbf; total time=   0.3s\n",
      "[CV] END .........................C=100, gamma=1, kernel=rbf; total time=   0.3s\n",
      "[CV] END .........................C=100, gamma=1, kernel=rbf; total time=   0.3s\n",
      "[CV] END .........................C=100, gamma=1, kernel=rbf; total time=   0.3s\n",
      "[CV] END .........................C=100, gamma=1, kernel=rbf; total time=   0.3s\n",
      "[CV] END ...................C=100, gamma=0.1, kernel=sigmoid; total time=   0.2s\n",
      "[CV] END ...................C=100, gamma=0.1, kernel=sigmoid; total time=   0.2s\n",
      "[CV] END ...................C=100, gamma=0.1, kernel=sigmoid; total time=   0.2s\n",
      "[CV] END ...................C=100, gamma=0.1, kernel=sigmoid; total time=   0.2s\n",
      "[CV] END ...................C=100, gamma=0.1, kernel=sigmoid; total time=   0.2s\n",
      "[CV] END .......................C=100, gamma=0.1, kernel=rbf; total time=   0.3s\n",
      "[CV] END .......................C=100, gamma=0.1, kernel=rbf; total time=   0.3s\n",
      "[CV] END .......................C=100, gamma=0.1, kernel=rbf; total time=   0.3s\n",
      "[CV] END .......................C=100, gamma=0.1, kernel=rbf; total time=   0.3s\n",
      "[CV] END .......................C=100, gamma=0.1, kernel=rbf; total time=   0.3s\n",
      "[CV] END .................C=100, gamma=0.001, kernel=sigmoid; total time=   0.2s\n",
      "[CV] END .................C=100, gamma=0.001, kernel=sigmoid; total time=   0.2s\n",
      "[CV] END .................C=100, gamma=0.001, kernel=sigmoid; total time=   0.2s\n",
      "[CV] END .................C=100, gamma=0.001, kernel=sigmoid; total time=   0.2s\n",
      "[CV] END .................C=100, gamma=0.001, kernel=sigmoid; total time=   0.2s\n",
      "[CV] END .....................C=100, gamma=0.001, kernel=rbf; total time=   0.3s\n",
      "[CV] END .....................C=100, gamma=0.001, kernel=rbf; total time=   0.3s\n",
      "[CV] END .....................C=100, gamma=0.001, kernel=rbf; total time=   0.3s\n",
      "[CV] END .....................C=100, gamma=0.001, kernel=rbf; total time=   0.3s\n",
      "[CV] END .....................C=100, gamma=0.001, kernel=rbf; total time=   0.3s\n",
      "[CV] END ................C=100, gamma=0.0001, kernel=sigmoid; total time=   0.2s\n",
      "[CV] END ................C=100, gamma=0.0001, kernel=sigmoid; total time=   0.2s\n",
      "[CV] END ................C=100, gamma=0.0001, kernel=sigmoid; total time=   0.2s\n",
      "[CV] END ................C=100, gamma=0.0001, kernel=sigmoid; total time=   0.2s\n",
      "[CV] END ................C=100, gamma=0.0001, kernel=sigmoid; total time=   0.2s\n",
      "[CV] END ....................C=100, gamma=0.0001, kernel=rbf; total time=   0.3s\n",
      "[CV] END ....................C=100, gamma=0.0001, kernel=rbf; total time=   0.3s\n",
      "[CV] END ....................C=100, gamma=0.0001, kernel=rbf; total time=   0.3s\n",
      "[CV] END ....................C=100, gamma=0.0001, kernel=rbf; total time=   0.3s\n",
      "[CV] END ....................C=100, gamma=0.0001, kernel=rbf; total time=   0.3s\n",
      "[CV] END ....................C=1000, gamma=1, kernel=sigmoid; total time=   0.2s\n",
      "[CV] END ....................C=1000, gamma=1, kernel=sigmoid; total time=   0.2s\n",
      "[CV] END ....................C=1000, gamma=1, kernel=sigmoid; total time=   0.2s\n",
      "[CV] END ....................C=1000, gamma=1, kernel=sigmoid; total time=   0.2s\n",
      "[CV] END ....................C=1000, gamma=1, kernel=sigmoid; total time=   0.2s\n",
      "[CV] END ........................C=1000, gamma=1, kernel=rbf; total time=   0.3s\n",
      "[CV] END ........................C=1000, gamma=1, kernel=rbf; total time=   0.3s\n",
      "[CV] END ........................C=1000, gamma=1, kernel=rbf; total time=   0.3s\n",
      "[CV] END ........................C=1000, gamma=1, kernel=rbf; total time=   0.3s\n",
      "[CV] END ........................C=1000, gamma=1, kernel=rbf; total time=   0.3s\n",
      "[CV] END ..................C=1000, gamma=0.1, kernel=sigmoid; total time=   0.3s\n",
      "[CV] END ..................C=1000, gamma=0.1, kernel=sigmoid; total time=   0.2s\n",
      "[CV] END ..................C=1000, gamma=0.1, kernel=sigmoid; total time=   0.2s\n",
      "[CV] END ..................C=1000, gamma=0.1, kernel=sigmoid; total time=   0.2s\n",
      "[CV] END ..................C=1000, gamma=0.1, kernel=sigmoid; total time=   0.2s\n",
      "[CV] END ......................C=1000, gamma=0.1, kernel=rbf; total time=   0.3s\n",
      "[CV] END ......................C=1000, gamma=0.1, kernel=rbf; total time=   0.3s\n",
      "[CV] END ......................C=1000, gamma=0.1, kernel=rbf; total time=   0.3s\n",
      "[CV] END ......................C=1000, gamma=0.1, kernel=rbf; total time=   0.3s\n",
      "[CV] END ......................C=1000, gamma=0.1, kernel=rbf; total time=   0.3s\n",
      "[CV] END ................C=1000, gamma=0.001, kernel=sigmoid; total time=   0.2s\n",
      "[CV] END ................C=1000, gamma=0.001, kernel=sigmoid; total time=   0.2s\n",
      "[CV] END ................C=1000, gamma=0.001, kernel=sigmoid; total time=   0.2s\n",
      "[CV] END ................C=1000, gamma=0.001, kernel=sigmoid; total time=   0.2s\n",
      "[CV] END ................C=1000, gamma=0.001, kernel=sigmoid; total time=   0.2s\n",
      "[CV] END ....................C=1000, gamma=0.001, kernel=rbf; total time=   0.4s\n",
      "[CV] END ....................C=1000, gamma=0.001, kernel=rbf; total time=   0.3s\n",
      "[CV] END ....................C=1000, gamma=0.001, kernel=rbf; total time=   0.3s\n",
      "[CV] END ....................C=1000, gamma=0.001, kernel=rbf; total time=   0.3s\n",
      "[CV] END ....................C=1000, gamma=0.001, kernel=rbf; total time=   0.3s\n",
      "[CV] END ...............C=1000, gamma=0.0001, kernel=sigmoid; total time=   0.2s\n",
      "[CV] END ...............C=1000, gamma=0.0001, kernel=sigmoid; total time=   0.2s\n",
      "[CV] END ...............C=1000, gamma=0.0001, kernel=sigmoid; total time=   0.2s\n",
      "[CV] END ...............C=1000, gamma=0.0001, kernel=sigmoid; total time=   0.2s\n",
      "[CV] END ...............C=1000, gamma=0.0001, kernel=sigmoid; total time=   0.2s\n",
      "[CV] END ...................C=1000, gamma=0.0001, kernel=rbf; total time=   0.3s\n",
      "[CV] END ...................C=1000, gamma=0.0001, kernel=rbf; total time=   0.3s\n",
      "[CV] END ...................C=1000, gamma=0.0001, kernel=rbf; total time=   0.3s\n",
      "[CV] END ...................C=1000, gamma=0.0001, kernel=rbf; total time=   0.3s\n",
      "[CV] END ...................C=1000, gamma=0.0001, kernel=rbf; total time=   0.3s\n"
     ]
    },
    {
     "name": "stderr",
     "output_type": "stream",
     "text": [
      "/Users/pol/dotfiles/dotfiles/.local/share/virtualenvs/MD2-Msi-27M8/lib/python3.11/site-packages/sklearn/metrics/_classification.py:1344: UndefinedMetricWarning: Precision is ill-defined and being set to 0.0 in labels with no predicted samples. Use `zero_division` parameter to control this behavior.\n",
      "  _warn_prf(average, modifier, msg_start, len(result))\n"
     ]
    },
    {
     "data": {
      "text/plain": "          acc      prec    recall  test f1 score (W)\nKNN  0.650000  0.649418  0.650000           0.540653\nSVM  0.685484  0.759519  0.685484           0.587386",
      "text/html": "<div>\n<style scoped>\n    .dataframe tbody tr th:only-of-type {\n        vertical-align: middle;\n    }\n\n    .dataframe tbody tr th {\n        vertical-align: top;\n    }\n\n    .dataframe thead th {\n        text-align: right;\n    }\n</style>\n<table border=\"1\" class=\"dataframe\">\n  <thead>\n    <tr style=\"text-align: right;\">\n      <th></th>\n      <th>acc</th>\n      <th>prec</th>\n      <th>recall</th>\n      <th>test f1 score (W)</th>\n    </tr>\n  </thead>\n  <tbody>\n    <tr>\n      <th>KNN</th>\n      <td>0.650000</td>\n      <td>0.649418</td>\n      <td>0.650000</td>\n      <td>0.540653</td>\n    </tr>\n    <tr>\n      <th>SVM</th>\n      <td>0.685484</td>\n      <td>0.759519</td>\n      <td>0.685484</td>\n      <td>0.587386</td>\n    </tr>\n  </tbody>\n</table>\n</div>"
     },
     "execution_count": 23,
     "metadata": {},
     "output_type": "execute_result"
    }
   ],
   "source": [
    "# df = df.reset_index(drop=True)\n",
    "# param_grid = {'C':[1],\n",
    "#               'gamma':[1],\n",
    "#               'kernel':['rbf']}\n",
    "\n",
    "param_grid = {'C':[1,10,100,1000],\n",
    "              'gamma':[1,0.1,0.001,0.0001],\n",
    "              'kernel':['sigmoid','rbf']}\n",
    "grid = GridSearchCV(SVC(),param_grid,refit = True, verbose=2)\n",
    "grid.fit(X_train,y_train)\n",
    "save_results(grid,X_test, y_test, \"SVM\", results_df_user)"
   ],
   "metadata": {
    "collapsed": false,
    "ExecuteTime": {
     "end_time": "2023-05-22T19:02:45.634066Z",
     "start_time": "2023-05-22T19:02:05.094252Z"
    }
   }
  }
 ],
 "metadata": {
  "kernelspec": {
   "display_name": "Python 3",
   "language": "python",
   "name": "python3"
  },
  "language_info": {
   "codemirror_mode": {
    "name": "ipython",
    "version": 2
   },
   "file_extension": ".py",
   "mimetype": "text/x-python",
   "name": "python",
   "nbconvert_exporter": "python",
   "pygments_lexer": "ipython2",
   "version": "2.7.6"
  }
 },
 "nbformat": 4,
 "nbformat_minor": 0
}
