{
  "nbformat": 4,
  "nbformat_minor": 0,
  "metadata": {
    "colab": {
      "provenance": []
    },
    "kernelspec": {
      "name": "python3",
      "display_name": "Python 3"
    },
    "language_info": {
      "name": "python"
    }
  },
  "cells": [
    {
      "cell_type": "code",
      "source": [
        "from google.colab import drive\n",
        "drive.mount('/content/drive')"
      ],
      "metadata": {
        "colab": {
          "base_uri": "https://localhost:8080/"
        },
        "id": "kkWxqrkE8X-v",
        "outputId": "d2fc6977-0e00-4df7-d005-301cf3b89578"
      },
      "execution_count": null,
      "outputs": [
        {
          "output_type": "stream",
          "name": "stdout",
          "text": [
            "Mounted at /content/drive\n"
          ]
        }
      ]
    },
    {
      "cell_type": "code",
      "execution_count": null,
      "metadata": {
        "id": "X5pR2qwH7iE2"
      },
      "outputs": [],
      "source": [
        "from sklearn.metrics import accuracy_score, f1_score, precision_score, recall_score\n",
        "import pandas as pd\n",
        "import numpy as np\n",
        "from sklearn.model_selection import cross_val_score, GridSearchCV, ParameterGrid, train_test_split\n",
        "from sklearn.naive_bayes import GaussianNB"
      ]
    },
    {
      "cell_type": "code",
      "source": [
        "Datos = pd.read_csv('/content/drive/MyDrive/allUsers.lcl.csv', index_col=0)\n",
        "#knn Cannot work with mining data, so replace them with a 0\n",
        "proporcion_valores_faltantes = Datos.eq('?').mean()\n",
        "\n",
        "# Obtener las columnas que tienen más del 50% de valores '?'\n",
        "columnas_eliminar = proporcion_valores_faltantes[proporcion_valores_faltantes > 0.5].index\n",
        "\n",
        "# Eliminar las columnas del DataFrame\n",
        "Datos_3 = Datos.drop(columnas_eliminar, axis=1)\n",
        "Datos_3.isnull().any()"
      ],
      "metadata": {
        "colab": {
          "base_uri": "https://localhost:8080/"
        },
        "id": "lqQB8q0L7tm5",
        "outputId": "48927b44-9712-46fc-a078-f526b19dc66b"
      },
      "execution_count": null,
      "outputs": [
        {
          "output_type": "execute_result",
          "data": {
            "text/plain": [
              "User    False\n",
              "X0      False\n",
              "Y0      False\n",
              "Z0      False\n",
              "X1      False\n",
              "Y1      False\n",
              "Z1      False\n",
              "X2      False\n",
              "Y2      False\n",
              "Z2      False\n",
              "X3      False\n",
              "Y3      False\n",
              "Z3      False\n",
              "X4      False\n",
              "Y4      False\n",
              "Z4      False\n",
              "X5      False\n",
              "Y5      False\n",
              "Z5      False\n",
              "X6      False\n",
              "Y6      False\n",
              "Z6      False\n",
              "dtype: bool"
            ]
          },
          "metadata": {},
          "execution_count": 3
        }
      ]
    },
    {
      "cell_type": "code",
      "source": [
        "df = Datos_3.replace('?', 0)\n",
        "df"
      ],
      "metadata": {
        "colab": {
          "base_uri": "https://localhost:8080/",
          "height": 519
        },
        "id": "hGoVIZ7u9iwc",
        "outputId": "7c13354d-e74a-43fd-c6f0-9b776199b30d"
      },
      "execution_count": null,
      "outputs": [
        {
          "output_type": "execute_result",
          "data": {
            "text/plain": [
              "       User         X0          Y0         Z0         X1          Y1  \\\n",
              "Class                                                                  \n",
              "0         0   0.000000    0.000000   0.000000   0.000000    0.000000   \n",
              "1         0  54.263880   71.466776 -64.807709  76.895635   42.462500   \n",
              "1         0  56.527558   72.266609 -61.935252  39.135978   82.538530   \n",
              "1         0  55.849928   72.469064 -62.562788  37.988804   82.631347   \n",
              "1         0  55.329647   71.707275 -63.688956  36.561863   81.868749   \n",
              "...     ...        ...         ...        ...        ...         ...   \n",
              "5        14  54.251127  129.177414 -44.252511  27.720784  107.810661   \n",
              "5        14  54.334883  129.253842 -44.016320  27.767911  107.914808   \n",
              "5        14  54.151540  129.269502 -44.173273  27.725978  108.034006   \n",
              "5        14  27.915311  108.007390  10.814957  -0.910435  122.464093   \n",
              "5        14  27.898705  108.092877  11.107857 -30.031402   77.740235   \n",
              "\n",
              "              Z1         X2          Y2         Z2  ...                 Z3  \\\n",
              "Class                                               ...                      \n",
              "0       0.000000   0.000000    0.000000   0.000000  ...                  0   \n",
              "1     -72.780545  36.621229   81.680557 -52.919272  ...   -73.684130041833   \n",
              "1     -49.596509  79.223743   43.254091 -69.982489  ...   -70.703990925959   \n",
              "1     -50.606259  78.451526   43.567403 -70.658489  ...  -71.1383441365739   \n",
              "1     -52.752784  86.320630   68.214645 -72.228461  ...  -68.9564252307431   \n",
              "...          ...        ...         ...        ...  ...                ...   \n",
              "5      11.099282  -1.270139  122.758679 -46.460186  ...   4.07501825540343   \n",
              "5      11.069842 -30.334054   77.858214 -17.002723  ...  -53.0072437045207   \n",
              "5      11.020347 -22.574718  104.222208 -53.939140  ...  -17.3548436885736   \n",
              "5     -47.271248 -30.084588   77.705861 -17.460853  ...  -34.6757739677746   \n",
              "5     -17.453099  -1.091566  122.827638 -46.760985  ...  -43.6796644772844   \n",
              "\n",
              "                      X4                Y4                 Z4  \\\n",
              "Class                                                           \n",
              "0                      0                 0                  0   \n",
              "1       59.1885757027887  10.6789364098231  -71.2977813147725   \n",
              "1       61.5874515532753  11.7799190329758   -68.827417756239   \n",
              "1       61.6864271910576  11.7934398850428    -68.88931646056   \n",
              "1       77.3872254123912  42.7178334810919  -72.0151462991019   \n",
              "...                  ...               ...                ...   \n",
              "5       26.0308784490985  136.368236497962  -32.7923925965895   \n",
              "5       26.4469428817139   135.82349439399  -33.8514248055691   \n",
              "5       26.5066400161928  135.605902859879  -34.4414628755671   \n",
              "5      -22.3294952272238  104.026431451371  -54.3346226872107   \n",
              "5      -1.55884578727193  98.0172007250434   3.42181376960772   \n",
              "\n",
              "                      X5                Y5                 Z5  \\\n",
              "Class                                                           \n",
              "0                      0                 0                  0   \n",
              "1                      0                 0                  0   \n",
              "1                      0                 0                  0   \n",
              "1                      0                 0                  0   \n",
              "1                      0                 0                  0   \n",
              "...                  ...               ...                ...   \n",
              "5       77.2937098066631  34.0708569530435  -43.2637900001125   \n",
              "5      -1.09067420384509  122.724914373665  -46.5583729086904   \n",
              "5       61.4753314934401  101.321181459117  -6.61698844268879   \n",
              "5       61.6393864623392  101.224661857702   -6.8409418109905   \n",
              "5       26.5869101964665  135.762921713685  -34.4459435415338   \n",
              "\n",
              "                      X6                Y6                 Z6  \n",
              "Class                                                          \n",
              "0                      0                 0                  0  \n",
              "1                      0                 0                  0  \n",
              "1                      0                 0                  0  \n",
              "1                      0                 0                  0  \n",
              "1                      0                 0                  0  \n",
              "...                  ...               ...                ...  \n",
              "5      -30.2822013321426  77.6223061447627    -17.15029172919  \n",
              "5      -1.95850220442059  98.2889311555066   4.24833369793896  \n",
              "5      -1.12573832398984    122.6140268058  -46.7960541509443  \n",
              "5       54.0099616832869  129.477879104126  -43.9678201146984  \n",
              "5      -22.3160291864615  104.124677433799  -54.3440786805432  \n",
              "\n",
              "[78096 rows x 22 columns]"
            ],
            "text/html": [
              "\n",
              "  <div id=\"df-30b264f9-7bd2-4c57-920c-7e7d38fdbbf9\">\n",
              "    <div class=\"colab-df-container\">\n",
              "      <div>\n",
              "<style scoped>\n",
              "    .dataframe tbody tr th:only-of-type {\n",
              "        vertical-align: middle;\n",
              "    }\n",
              "\n",
              "    .dataframe tbody tr th {\n",
              "        vertical-align: top;\n",
              "    }\n",
              "\n",
              "    .dataframe thead th {\n",
              "        text-align: right;\n",
              "    }\n",
              "</style>\n",
              "<table border=\"1\" class=\"dataframe\">\n",
              "  <thead>\n",
              "    <tr style=\"text-align: right;\">\n",
              "      <th></th>\n",
              "      <th>User</th>\n",
              "      <th>X0</th>\n",
              "      <th>Y0</th>\n",
              "      <th>Z0</th>\n",
              "      <th>X1</th>\n",
              "      <th>Y1</th>\n",
              "      <th>Z1</th>\n",
              "      <th>X2</th>\n",
              "      <th>Y2</th>\n",
              "      <th>Z2</th>\n",
              "      <th>...</th>\n",
              "      <th>Z3</th>\n",
              "      <th>X4</th>\n",
              "      <th>Y4</th>\n",
              "      <th>Z4</th>\n",
              "      <th>X5</th>\n",
              "      <th>Y5</th>\n",
              "      <th>Z5</th>\n",
              "      <th>X6</th>\n",
              "      <th>Y6</th>\n",
              "      <th>Z6</th>\n",
              "    </tr>\n",
              "    <tr>\n",
              "      <th>Class</th>\n",
              "      <th></th>\n",
              "      <th></th>\n",
              "      <th></th>\n",
              "      <th></th>\n",
              "      <th></th>\n",
              "      <th></th>\n",
              "      <th></th>\n",
              "      <th></th>\n",
              "      <th></th>\n",
              "      <th></th>\n",
              "      <th></th>\n",
              "      <th></th>\n",
              "      <th></th>\n",
              "      <th></th>\n",
              "      <th></th>\n",
              "      <th></th>\n",
              "      <th></th>\n",
              "      <th></th>\n",
              "      <th></th>\n",
              "      <th></th>\n",
              "      <th></th>\n",
              "    </tr>\n",
              "  </thead>\n",
              "  <tbody>\n",
              "    <tr>\n",
              "      <th>0</th>\n",
              "      <td>0</td>\n",
              "      <td>0.000000</td>\n",
              "      <td>0.000000</td>\n",
              "      <td>0.000000</td>\n",
              "      <td>0.000000</td>\n",
              "      <td>0.000000</td>\n",
              "      <td>0.000000</td>\n",
              "      <td>0.000000</td>\n",
              "      <td>0.000000</td>\n",
              "      <td>0.000000</td>\n",
              "      <td>...</td>\n",
              "      <td>0</td>\n",
              "      <td>0</td>\n",
              "      <td>0</td>\n",
              "      <td>0</td>\n",
              "      <td>0</td>\n",
              "      <td>0</td>\n",
              "      <td>0</td>\n",
              "      <td>0</td>\n",
              "      <td>0</td>\n",
              "      <td>0</td>\n",
              "    </tr>\n",
              "    <tr>\n",
              "      <th>1</th>\n",
              "      <td>0</td>\n",
              "      <td>54.263880</td>\n",
              "      <td>71.466776</td>\n",
              "      <td>-64.807709</td>\n",
              "      <td>76.895635</td>\n",
              "      <td>42.462500</td>\n",
              "      <td>-72.780545</td>\n",
              "      <td>36.621229</td>\n",
              "      <td>81.680557</td>\n",
              "      <td>-52.919272</td>\n",
              "      <td>...</td>\n",
              "      <td>-73.684130041833</td>\n",
              "      <td>59.1885757027887</td>\n",
              "      <td>10.6789364098231</td>\n",
              "      <td>-71.2977813147725</td>\n",
              "      <td>0</td>\n",
              "      <td>0</td>\n",
              "      <td>0</td>\n",
              "      <td>0</td>\n",
              "      <td>0</td>\n",
              "      <td>0</td>\n",
              "    </tr>\n",
              "    <tr>\n",
              "      <th>1</th>\n",
              "      <td>0</td>\n",
              "      <td>56.527558</td>\n",
              "      <td>72.266609</td>\n",
              "      <td>-61.935252</td>\n",
              "      <td>39.135978</td>\n",
              "      <td>82.538530</td>\n",
              "      <td>-49.596509</td>\n",
              "      <td>79.223743</td>\n",
              "      <td>43.254091</td>\n",
              "      <td>-69.982489</td>\n",
              "      <td>...</td>\n",
              "      <td>-70.703990925959</td>\n",
              "      <td>61.5874515532753</td>\n",
              "      <td>11.7799190329758</td>\n",
              "      <td>-68.827417756239</td>\n",
              "      <td>0</td>\n",
              "      <td>0</td>\n",
              "      <td>0</td>\n",
              "      <td>0</td>\n",
              "      <td>0</td>\n",
              "      <td>0</td>\n",
              "    </tr>\n",
              "    <tr>\n",
              "      <th>1</th>\n",
              "      <td>0</td>\n",
              "      <td>55.849928</td>\n",
              "      <td>72.469064</td>\n",
              "      <td>-62.562788</td>\n",
              "      <td>37.988804</td>\n",
              "      <td>82.631347</td>\n",
              "      <td>-50.606259</td>\n",
              "      <td>78.451526</td>\n",
              "      <td>43.567403</td>\n",
              "      <td>-70.658489</td>\n",
              "      <td>...</td>\n",
              "      <td>-71.1383441365739</td>\n",
              "      <td>61.6864271910576</td>\n",
              "      <td>11.7934398850428</td>\n",
              "      <td>-68.88931646056</td>\n",
              "      <td>0</td>\n",
              "      <td>0</td>\n",
              "      <td>0</td>\n",
              "      <td>0</td>\n",
              "      <td>0</td>\n",
              "      <td>0</td>\n",
              "    </tr>\n",
              "    <tr>\n",
              "      <th>1</th>\n",
              "      <td>0</td>\n",
              "      <td>55.329647</td>\n",
              "      <td>71.707275</td>\n",
              "      <td>-63.688956</td>\n",
              "      <td>36.561863</td>\n",
              "      <td>81.868749</td>\n",
              "      <td>-52.752784</td>\n",
              "      <td>86.320630</td>\n",
              "      <td>68.214645</td>\n",
              "      <td>-72.228461</td>\n",
              "      <td>...</td>\n",
              "      <td>-68.9564252307431</td>\n",
              "      <td>77.3872254123912</td>\n",
              "      <td>42.7178334810919</td>\n",
              "      <td>-72.0151462991019</td>\n",
              "      <td>0</td>\n",
              "      <td>0</td>\n",
              "      <td>0</td>\n",
              "      <td>0</td>\n",
              "      <td>0</td>\n",
              "      <td>0</td>\n",
              "    </tr>\n",
              "    <tr>\n",
              "      <th>...</th>\n",
              "      <td>...</td>\n",
              "      <td>...</td>\n",
              "      <td>...</td>\n",
              "      <td>...</td>\n",
              "      <td>...</td>\n",
              "      <td>...</td>\n",
              "      <td>...</td>\n",
              "      <td>...</td>\n",
              "      <td>...</td>\n",
              "      <td>...</td>\n",
              "      <td>...</td>\n",
              "      <td>...</td>\n",
              "      <td>...</td>\n",
              "      <td>...</td>\n",
              "      <td>...</td>\n",
              "      <td>...</td>\n",
              "      <td>...</td>\n",
              "      <td>...</td>\n",
              "      <td>...</td>\n",
              "      <td>...</td>\n",
              "      <td>...</td>\n",
              "    </tr>\n",
              "    <tr>\n",
              "      <th>5</th>\n",
              "      <td>14</td>\n",
              "      <td>54.251127</td>\n",
              "      <td>129.177414</td>\n",
              "      <td>-44.252511</td>\n",
              "      <td>27.720784</td>\n",
              "      <td>107.810661</td>\n",
              "      <td>11.099282</td>\n",
              "      <td>-1.270139</td>\n",
              "      <td>122.758679</td>\n",
              "      <td>-46.460186</td>\n",
              "      <td>...</td>\n",
              "      <td>4.07501825540343</td>\n",
              "      <td>26.0308784490985</td>\n",
              "      <td>136.368236497962</td>\n",
              "      <td>-32.7923925965895</td>\n",
              "      <td>77.2937098066631</td>\n",
              "      <td>34.0708569530435</td>\n",
              "      <td>-43.2637900001125</td>\n",
              "      <td>-30.2822013321426</td>\n",
              "      <td>77.6223061447627</td>\n",
              "      <td>-17.15029172919</td>\n",
              "    </tr>\n",
              "    <tr>\n",
              "      <th>5</th>\n",
              "      <td>14</td>\n",
              "      <td>54.334883</td>\n",
              "      <td>129.253842</td>\n",
              "      <td>-44.016320</td>\n",
              "      <td>27.767911</td>\n",
              "      <td>107.914808</td>\n",
              "      <td>11.069842</td>\n",
              "      <td>-30.334054</td>\n",
              "      <td>77.858214</td>\n",
              "      <td>-17.002723</td>\n",
              "      <td>...</td>\n",
              "      <td>-53.0072437045207</td>\n",
              "      <td>26.4469428817139</td>\n",
              "      <td>135.82349439399</td>\n",
              "      <td>-33.8514248055691</td>\n",
              "      <td>-1.09067420384509</td>\n",
              "      <td>122.724914373665</td>\n",
              "      <td>-46.5583729086904</td>\n",
              "      <td>-1.95850220442059</td>\n",
              "      <td>98.2889311555066</td>\n",
              "      <td>4.24833369793896</td>\n",
              "    </tr>\n",
              "    <tr>\n",
              "      <th>5</th>\n",
              "      <td>14</td>\n",
              "      <td>54.151540</td>\n",
              "      <td>129.269502</td>\n",
              "      <td>-44.173273</td>\n",
              "      <td>27.725978</td>\n",
              "      <td>108.034006</td>\n",
              "      <td>11.020347</td>\n",
              "      <td>-22.574718</td>\n",
              "      <td>104.222208</td>\n",
              "      <td>-53.939140</td>\n",
              "      <td>...</td>\n",
              "      <td>-17.3548436885736</td>\n",
              "      <td>26.5066400161928</td>\n",
              "      <td>135.605902859879</td>\n",
              "      <td>-34.4414628755671</td>\n",
              "      <td>61.4753314934401</td>\n",
              "      <td>101.321181459117</td>\n",
              "      <td>-6.61698844268879</td>\n",
              "      <td>-1.12573832398984</td>\n",
              "      <td>122.6140268058</td>\n",
              "      <td>-46.7960541509443</td>\n",
              "    </tr>\n",
              "    <tr>\n",
              "      <th>5</th>\n",
              "      <td>14</td>\n",
              "      <td>27.915311</td>\n",
              "      <td>108.007390</td>\n",
              "      <td>10.814957</td>\n",
              "      <td>-0.910435</td>\n",
              "      <td>122.464093</td>\n",
              "      <td>-47.271248</td>\n",
              "      <td>-30.084588</td>\n",
              "      <td>77.705861</td>\n",
              "      <td>-17.460853</td>\n",
              "      <td>...</td>\n",
              "      <td>-34.6757739677746</td>\n",
              "      <td>-22.3294952272238</td>\n",
              "      <td>104.026431451371</td>\n",
              "      <td>-54.3346226872107</td>\n",
              "      <td>61.6393864623392</td>\n",
              "      <td>101.224661857702</td>\n",
              "      <td>-6.8409418109905</td>\n",
              "      <td>54.0099616832869</td>\n",
              "      <td>129.477879104126</td>\n",
              "      <td>-43.9678201146984</td>\n",
              "    </tr>\n",
              "    <tr>\n",
              "      <th>5</th>\n",
              "      <td>14</td>\n",
              "      <td>27.898705</td>\n",
              "      <td>108.092877</td>\n",
              "      <td>11.107857</td>\n",
              "      <td>-30.031402</td>\n",
              "      <td>77.740235</td>\n",
              "      <td>-17.453099</td>\n",
              "      <td>-1.091566</td>\n",
              "      <td>122.827638</td>\n",
              "      <td>-46.760985</td>\n",
              "      <td>...</td>\n",
              "      <td>-43.6796644772844</td>\n",
              "      <td>-1.55884578727193</td>\n",
              "      <td>98.0172007250434</td>\n",
              "      <td>3.42181376960772</td>\n",
              "      <td>26.5869101964665</td>\n",
              "      <td>135.762921713685</td>\n",
              "      <td>-34.4459435415338</td>\n",
              "      <td>-22.3160291864615</td>\n",
              "      <td>104.124677433799</td>\n",
              "      <td>-54.3440786805432</td>\n",
              "    </tr>\n",
              "  </tbody>\n",
              "</table>\n",
              "<p>78096 rows × 22 columns</p>\n",
              "</div>\n",
              "      <button class=\"colab-df-convert\" onclick=\"convertToInteractive('df-30b264f9-7bd2-4c57-920c-7e7d38fdbbf9')\"\n",
              "              title=\"Convert this dataframe to an interactive table.\"\n",
              "              style=\"display:none;\">\n",
              "        \n",
              "  <svg xmlns=\"http://www.w3.org/2000/svg\" height=\"24px\"viewBox=\"0 0 24 24\"\n",
              "       width=\"24px\">\n",
              "    <path d=\"M0 0h24v24H0V0z\" fill=\"none\"/>\n",
              "    <path d=\"M18.56 5.44l.94 2.06.94-2.06 2.06-.94-2.06-.94-.94-2.06-.94 2.06-2.06.94zm-11 1L8.5 8.5l.94-2.06 2.06-.94-2.06-.94L8.5 2.5l-.94 2.06-2.06.94zm10 10l.94 2.06.94-2.06 2.06-.94-2.06-.94-.94-2.06-.94 2.06-2.06.94z\"/><path d=\"M17.41 7.96l-1.37-1.37c-.4-.4-.92-.59-1.43-.59-.52 0-1.04.2-1.43.59L10.3 9.45l-7.72 7.72c-.78.78-.78 2.05 0 2.83L4 21.41c.39.39.9.59 1.41.59.51 0 1.02-.2 1.41-.59l7.78-7.78 2.81-2.81c.8-.78.8-2.07 0-2.86zM5.41 20L4 18.59l7.72-7.72 1.47 1.35L5.41 20z\"/>\n",
              "  </svg>\n",
              "      </button>\n",
              "      \n",
              "  <style>\n",
              "    .colab-df-container {\n",
              "      display:flex;\n",
              "      flex-wrap:wrap;\n",
              "      gap: 12px;\n",
              "    }\n",
              "\n",
              "    .colab-df-convert {\n",
              "      background-color: #E8F0FE;\n",
              "      border: none;\n",
              "      border-radius: 50%;\n",
              "      cursor: pointer;\n",
              "      display: none;\n",
              "      fill: #1967D2;\n",
              "      height: 32px;\n",
              "      padding: 0 0 0 0;\n",
              "      width: 32px;\n",
              "    }\n",
              "\n",
              "    .colab-df-convert:hover {\n",
              "      background-color: #E2EBFA;\n",
              "      box-shadow: 0px 1px 2px rgba(60, 64, 67, 0.3), 0px 1px 3px 1px rgba(60, 64, 67, 0.15);\n",
              "      fill: #174EA6;\n",
              "    }\n",
              "\n",
              "    [theme=dark] .colab-df-convert {\n",
              "      background-color: #3B4455;\n",
              "      fill: #D2E3FC;\n",
              "    }\n",
              "\n",
              "    [theme=dark] .colab-df-convert:hover {\n",
              "      background-color: #434B5C;\n",
              "      box-shadow: 0px 1px 3px 1px rgba(0, 0, 0, 0.15);\n",
              "      filter: drop-shadow(0px 1px 2px rgba(0, 0, 0, 0.3));\n",
              "      fill: #FFFFFF;\n",
              "    }\n",
              "  </style>\n",
              "\n",
              "      <script>\n",
              "        const buttonEl =\n",
              "          document.querySelector('#df-30b264f9-7bd2-4c57-920c-7e7d38fdbbf9 button.colab-df-convert');\n",
              "        buttonEl.style.display =\n",
              "          google.colab.kernel.accessAllowed ? 'block' : 'none';\n",
              "\n",
              "        async function convertToInteractive(key) {\n",
              "          const element = document.querySelector('#df-30b264f9-7bd2-4c57-920c-7e7d38fdbbf9');\n",
              "          const dataTable =\n",
              "            await google.colab.kernel.invokeFunction('convertToInteractive',\n",
              "                                                     [key], {});\n",
              "          if (!dataTable) return;\n",
              "\n",
              "          const docLinkHtml = 'Like what you see? Visit the ' +\n",
              "            '<a target=\"_blank\" href=https://colab.research.google.com/notebooks/data_table.ipynb>data table notebook</a>'\n",
              "            + ' to learn more about interactive tables.';\n",
              "          element.innerHTML = '';\n",
              "          dataTable['output_type'] = 'display_data';\n",
              "          await google.colab.output.renderOutput(dataTable, element);\n",
              "          const docLink = document.createElement('div');\n",
              "          docLink.innerHTML = docLinkHtml;\n",
              "          element.appendChild(docLink);\n",
              "        }\n",
              "      </script>\n",
              "    </div>\n",
              "  </div>\n",
              "  "
            ]
          },
          "metadata": {},
          "execution_count": 4
        }
      ]
    },
    {
      "cell_type": "code",
      "source": [
        "print(df.columns)"
      ],
      "metadata": {
        "colab": {
          "base_uri": "https://localhost:8080/"
        },
        "id": "kBcwfxwUDWUv",
        "outputId": "19ff5f49-7f94-4580-cce6-7f006a18c211"
      },
      "execution_count": null,
      "outputs": [
        {
          "output_type": "stream",
          "name": "stdout",
          "text": [
            "Index(['User', 'X0', 'Y0', 'Z0', 'X1', 'Y1', 'Z1', 'X2', 'Y2', 'Z2', 'X3',\n",
            "       'Y3', 'Z3', 'X4', 'Y4', 'Z4', 'X5', 'Y5', 'Z5', 'X6', 'Y6', 'Z6'],\n",
            "      dtype='object')\n"
          ]
        }
      ]
    },
    {
      "cell_type": "code",
      "source": [
        "df2 = df.drop(['User'], axis=1)\n",
        "labels_Users = df['User']\n",
        "X_train, X_test, y_train, y_test,  = train_test_split(df2, labels_Users, test_size=0.2, random_state=42)"
      ],
      "metadata": {
        "id": "vA0cyA-G7vYN"
      },
      "execution_count": null,
      "outputs": []
    },
    {
      "cell_type": "markdown",
      "source": [
        "NAIVE BAYES FIT"
      ],
      "metadata": {
        "id": "fTR0F0j8E9yh"
      }
    },
    {
      "cell_type": "code",
      "source": [
        "# Crear el clasificador Naive Bayes\n",
        "naive_bayes = GaussianNB()"
      ],
      "metadata": {
        "id": "86IW_dQ_CIHO"
      },
      "execution_count": null,
      "outputs": []
    },
    {
      "cell_type": "code",
      "source": [
        "# Entrenar el modelo\n",
        "naive_bayes.fit(X_train, y_train)"
      ],
      "metadata": {
        "colab": {
          "base_uri": "https://localhost:8080/",
          "height": 75
        },
        "id": "n0amYfgBCHur",
        "outputId": "2ee496f8-9cea-4d8d-a80b-27adfdfea338"
      },
      "execution_count": null,
      "outputs": [
        {
          "output_type": "execute_result",
          "data": {
            "text/plain": [
              "GaussianNB()"
            ],
            "text/html": [
              "<style>#sk-container-id-1 {color: black;background-color: white;}#sk-container-id-1 pre{padding: 0;}#sk-container-id-1 div.sk-toggleable {background-color: white;}#sk-container-id-1 label.sk-toggleable__label {cursor: pointer;display: block;width: 100%;margin-bottom: 0;padding: 0.3em;box-sizing: border-box;text-align: center;}#sk-container-id-1 label.sk-toggleable__label-arrow:before {content: \"▸\";float: left;margin-right: 0.25em;color: #696969;}#sk-container-id-1 label.sk-toggleable__label-arrow:hover:before {color: black;}#sk-container-id-1 div.sk-estimator:hover label.sk-toggleable__label-arrow:before {color: black;}#sk-container-id-1 div.sk-toggleable__content {max-height: 0;max-width: 0;overflow: hidden;text-align: left;background-color: #f0f8ff;}#sk-container-id-1 div.sk-toggleable__content pre {margin: 0.2em;color: black;border-radius: 0.25em;background-color: #f0f8ff;}#sk-container-id-1 input.sk-toggleable__control:checked~div.sk-toggleable__content {max-height: 200px;max-width: 100%;overflow: auto;}#sk-container-id-1 input.sk-toggleable__control:checked~label.sk-toggleable__label-arrow:before {content: \"▾\";}#sk-container-id-1 div.sk-estimator input.sk-toggleable__control:checked~label.sk-toggleable__label {background-color: #d4ebff;}#sk-container-id-1 div.sk-label input.sk-toggleable__control:checked~label.sk-toggleable__label {background-color: #d4ebff;}#sk-container-id-1 input.sk-hidden--visually {border: 0;clip: rect(1px 1px 1px 1px);clip: rect(1px, 1px, 1px, 1px);height: 1px;margin: -1px;overflow: hidden;padding: 0;position: absolute;width: 1px;}#sk-container-id-1 div.sk-estimator {font-family: monospace;background-color: #f0f8ff;border: 1px dotted black;border-radius: 0.25em;box-sizing: border-box;margin-bottom: 0.5em;}#sk-container-id-1 div.sk-estimator:hover {background-color: #d4ebff;}#sk-container-id-1 div.sk-parallel-item::after {content: \"\";width: 100%;border-bottom: 1px solid gray;flex-grow: 1;}#sk-container-id-1 div.sk-label:hover label.sk-toggleable__label {background-color: #d4ebff;}#sk-container-id-1 div.sk-serial::before {content: \"\";position: absolute;border-left: 1px solid gray;box-sizing: border-box;top: 0;bottom: 0;left: 50%;z-index: 0;}#sk-container-id-1 div.sk-serial {display: flex;flex-direction: column;align-items: center;background-color: white;padding-right: 0.2em;padding-left: 0.2em;position: relative;}#sk-container-id-1 div.sk-item {position: relative;z-index: 1;}#sk-container-id-1 div.sk-parallel {display: flex;align-items: stretch;justify-content: center;background-color: white;position: relative;}#sk-container-id-1 div.sk-item::before, #sk-container-id-1 div.sk-parallel-item::before {content: \"\";position: absolute;border-left: 1px solid gray;box-sizing: border-box;top: 0;bottom: 0;left: 50%;z-index: -1;}#sk-container-id-1 div.sk-parallel-item {display: flex;flex-direction: column;z-index: 1;position: relative;background-color: white;}#sk-container-id-1 div.sk-parallel-item:first-child::after {align-self: flex-end;width: 50%;}#sk-container-id-1 div.sk-parallel-item:last-child::after {align-self: flex-start;width: 50%;}#sk-container-id-1 div.sk-parallel-item:only-child::after {width: 0;}#sk-container-id-1 div.sk-dashed-wrapped {border: 1px dashed gray;margin: 0 0.4em 0.5em 0.4em;box-sizing: border-box;padding-bottom: 0.4em;background-color: white;}#sk-container-id-1 div.sk-label label {font-family: monospace;font-weight: bold;display: inline-block;line-height: 1.2em;}#sk-container-id-1 div.sk-label-container {text-align: center;}#sk-container-id-1 div.sk-container {/* jupyter's `normalize.less` sets `[hidden] { display: none; }` but bootstrap.min.css set `[hidden] { display: none !important; }` so we also need the `!important` here to be able to override the default hidden behavior on the sphinx rendered scikit-learn.org. See: https://github.com/scikit-learn/scikit-learn/issues/21755 */display: inline-block !important;position: relative;}#sk-container-id-1 div.sk-text-repr-fallback {display: none;}</style><div id=\"sk-container-id-1\" class=\"sk-top-container\"><div class=\"sk-text-repr-fallback\"><pre>GaussianNB()</pre><b>In a Jupyter environment, please rerun this cell to show the HTML representation or trust the notebook. <br />On GitHub, the HTML representation is unable to render, please try loading this page with nbviewer.org.</b></div><div class=\"sk-container\" hidden><div class=\"sk-item\"><div class=\"sk-estimator sk-toggleable\"><input class=\"sk-toggleable__control sk-hidden--visually\" id=\"sk-estimator-id-1\" type=\"checkbox\" checked><label for=\"sk-estimator-id-1\" class=\"sk-toggleable__label sk-toggleable__label-arrow\">GaussianNB</label><div class=\"sk-toggleable__content\"><pre>GaussianNB()</pre></div></div></div></div></div>"
            ]
          },
          "metadata": {},
          "execution_count": 8
        }
      ]
    },
    {
      "cell_type": "code",
      "source": [
        "# Realizar predicciones en el conjunto de prueba\n",
        "y_pred = naive_bayes.predict(X_test)"
      ],
      "metadata": {
        "id": "ADtmCuOVCtNd"
      },
      "execution_count": null,
      "outputs": []
    },
    {
      "cell_type": "code",
      "source": [
        "accuracy = accuracy_score(y_test, y_pred)\n",
        "precision = precision_score(y_test, y_pred, average='weighted')\n",
        "recall = recall_score(y_test, y_pred, average='weighted')\n",
        "f1 = f1_score(y_test, y_pred, average='macro')"
      ],
      "metadata": {
        "id": "9YMaVtGDCu_G"
      },
      "execution_count": null,
      "outputs": []
    },
    {
      "cell_type": "code",
      "source": [
        "print(\"Accuracy:\", accuracy)\n",
        "print(\"Precision:\", precision)\n",
        "print(\"Recall:\", recall)\n",
        "print(\"F1 Score:\", f1)"
      ],
      "metadata": {
        "colab": {
          "base_uri": "https://localhost:8080/"
        },
        "id": "FQeXNKIZCw8b",
        "outputId": "1cb269f7-af67-4a7c-8472-21a756a15b9f"
      },
      "execution_count": null,
      "outputs": [
        {
          "output_type": "stream",
          "name": "stdout",
          "text": [
            "Accuracy: 0.3822663252240717\n",
            "Precision: 0.3946136893931417\n",
            "Recall: 0.3822663252240717\n",
            "F1 Score: 0.34735910961084243\n"
          ]
        }
      ]
    },
    {
      "cell_type": "markdown",
      "source": [
        "NAIVE BAYES CROSS"
      ],
      "metadata": {
        "id": "-j-cmhTJFA1g"
      }
    },
    {
      "cell_type": "code",
      "source": [
        "# Crear el clasificador Naive Bayes\n",
        "naive_bayes2 = GaussianNB()"
      ],
      "metadata": {
        "id": "7UppNIK3FShe"
      },
      "execution_count": null,
      "outputs": []
    },
    {
      "cell_type": "code",
      "source": [
        "# Realizar validación cruzada\n",
        "scores = cross_val_score(naive_bayes2, df2, labels_Users, cv=5)"
      ],
      "metadata": {
        "id": "PVr3RmwVFTgU"
      },
      "execution_count": null,
      "outputs": []
    },
    {
      "cell_type": "code",
      "source": [
        "# Calcular las métricas de evaluación promedio\n",
        "accuracy = np.mean(scores)\n",
        "precision = np.mean(cross_val_score(naive_bayes, df2, labels_Users, cv=5, scoring='precision_weighted'))\n",
        "recall = np.mean(cross_val_score(naive_bayes, df2, labels_Users, cv=5, scoring='recall_weighted'))\n",
        "f1 = np.mean(cross_val_score(naive_bayes, df2, labels_Users, cv=5, scoring='f1_macro'))"
      ],
      "metadata": {
        "colab": {
          "base_uri": "https://localhost:8080/"
        },
        "id": "LXBifKHYFVL5",
        "outputId": "855ba24f-508d-4e79-8bca-44c8af86b0b5"
      },
      "execution_count": null,
      "outputs": [
        {
          "output_type": "stream",
          "name": "stderr",
          "text": [
            "/usr/local/lib/python3.10/dist-packages/sklearn/metrics/_classification.py:1344: UndefinedMetricWarning: Precision is ill-defined and being set to 0.0 in labels with no predicted samples. Use `zero_division` parameter to control this behavior.\n",
            "  _warn_prf(average, modifier, msg_start, len(result))\n"
          ]
        }
      ]
    },
    {
      "cell_type": "code",
      "source": [
        "# Imprimir los resultados\n",
        "print(\"Accuracy:\", accuracy)\n",
        "print(\"Precision:\", precision)\n",
        "print(\"Recall:\", recall)\n",
        "print(\"F1 Score:\", f1)"
      ],
      "metadata": {
        "colab": {
          "base_uri": "https://localhost:8080/"
        },
        "id": "7mnv5toNFVnq",
        "outputId": "13de8fab-b1af-45af-b9b4-481a5e52a0df"
      },
      "execution_count": null,
      "outputs": [
        {
          "output_type": "stream",
          "name": "stdout",
          "text": [
            "Accuracy: 0.23594200126753923\n",
            "Precision: 0.2797047564453189\n",
            "Recall: 0.23594200126753923\n",
            "F1 Score: 0.21350517656140117\n"
          ]
        }
      ]
    },
    {
      "cell_type": "markdown",
      "source": [
        "SEPARAR"
      ],
      "metadata": {
        "id": "pusBqVGICxb2"
      }
    },
    {
      "cell_type": "code",
      "source": [
        "def save_results(clf, X_test, y_test, nclf, dataf):\n",
        "    dataf.loc[nclf, 'acc'] = accuracy_score(y_test, clf.predict(X_test))\n",
        "    dataf.loc[nclf,'prec'] = precision_score(y_test, clf.predict(X_test), average='weighted')\n",
        "    dataf.loc[nclf,'recall'] = recall_score(y_test, clf.predict(X_test), average='weighted')\n",
        "    dataf.loc[nclf, 'test f1 score (W)'] = f1_score(y_test, clf.predict(X_test), average='macro')\n",
        "    return dataf\n",
        "results_df = pd.DataFrame()"
      ],
      "metadata": {
        "id": "4O7NnBar7xT8"
      },
      "execution_count": null,
      "outputs": []
    },
    {
      "cell_type": "code",
      "source": [
        "def test_model_and_save_result(model, name,  X_train, X_test, y_train, y_test, results_df):\n",
        "  model.fit(X_train, y_train)\n",
        "  results_df = save_results(model, X_test, y_test, name, results_df)"
      ],
      "metadata": {
        "id": "Cimpjbh07zEl"
      },
      "execution_count": null,
      "outputs": []
    }
  ]
}