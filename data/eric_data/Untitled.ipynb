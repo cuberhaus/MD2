{
 "cells": [
  {
   "cell_type": "code",
   "execution_count": null,
   "id": "186c14a5",
   "metadata": {},
   "outputs": [],
   "source": [
    "#Predecir que bombas de agua en Tanzania funcionan, necesitan reparacion y no funcionan en absoluto,\n",
    "#14859 entradas, 40 columnas\n",
    "\n",
    "#amount_tsh - Total static head (amount water available to waterpoint)\n",
    "#date_recorded - The date the row was entered\n",
    "#funder - Who funded the well\n",
    "#gps_height - Altitude of the well\n",
    "#installer - Organization that installed the well\n",
    "#longitude - GPS coordinate\n",
    "#latitude - GPS coordinate\n",
    "#wpt_name - Name of the waterpoint if there is one\n",
    "#num_private -\n",
    "#basin - Geographic water basin\n",
    "#subvillage - Geographic location\n",
    "#region - Geographic location\n",
    "#region_code - Geographic location (coded)\n",
    "#district_code - Geographic location (coded)\n",
    "#lga - Geographic location\n",
    "#ward - Geographic location\n",
    "#population - Population around the well\n",
    "#public_meeting - True/False\n",
    "#recorded_by - Group entering this row of data\n",
    "#scheme_management - Who operates the waterpoint\n",
    "#scheme_name - Who operates the waterpoint\n",
    "#permit - If the waterpoint is permitted\n",
    "#construction_year - Year the waterpoint was constructed\n",
    "#extraction_type - The kind of extraction the waterpoint uses\n",
    "#extraction_type_group - The kind of extraction the waterpoint uses\n",
    "#extraction_type_class - The kind of extraction the waterpoint uses\n",
    "#management - How the waterpoint is managed\n",
    "#management_group - How the waterpoint is managed\n",
    "#payment - What the water costs\n",
    "#payment_type - What the water costs\n",
    "#water_quality - The quality of the water\n",
    "#quality_group - The quality of the water\n",
    "#quantity - The quantity of water\n",
    "#quantity_group - The quantity of water\n",
    "#source - The source of the water\n",
    "#source_type - The source of the water\n",
    "#source_class - The source of the water\n",
    "#waterpoint_type - The kind of waterpoint\n",
    "#waterpoint_type_group - The kind of waterpoint\n",
    "\n",
    "\n"
   ]
  },
  {
   "cell_type": "code",
   "execution_count": 7,
   "id": "f3160a06",
   "metadata": {},
   "outputs": [],
   "source": [
    "import matplotlib.pyplot as  plt\n",
    "import pandas as pd\n",
    "import numpy as np\n",
    "from sklearn.utils.validation import column_or_1d\n",
    "from sklearn.feature_selection import VarianceThreshold\n",
    "import sklearn.utils.random as rd"
   ]
  },
  {
   "cell_type": "code",
   "execution_count": 11,
   "id": "eddc8968",
   "metadata": {
    "scrolled": false
   },
   "outputs": [],
   "source": [
    "XtrainTot = pd.read_csv(\"datos.csv\")"
   ]
  },
  {
   "cell_type": "code",
   "execution_count": 14,
   "id": "4b307d78",
   "metadata": {},
   "outputs": [
    {
     "name": "stdout",
     "output_type": "stream",
     "text": [
      "<class 'pandas.core.frame.DataFrame'>\n",
      "RangeIndex: 14850 entries, 0 to 14849\n",
      "Data columns (total 40 columns):\n",
      " #   Column                 Non-Null Count  Dtype  \n",
      "---  ------                 --------------  -----  \n",
      " 0   id                     14850 non-null  int64  \n",
      " 1   amount_tsh             14850 non-null  float64\n",
      " 2   date_recorded          14850 non-null  object \n",
      " 3   funder                 13981 non-null  object \n",
      " 4   gps_height             14850 non-null  int64  \n",
      " 5   installer              13973 non-null  object \n",
      " 6   longitude              14850 non-null  float64\n",
      " 7   latitude               14850 non-null  float64\n",
      " 8   wpt_name               14850 non-null  object \n",
      " 9   num_private            14850 non-null  int64  \n",
      " 10  basin                  14850 non-null  object \n",
      " 11  subvillage             14751 non-null  object \n",
      " 12  region                 14850 non-null  object \n",
      " 13  region_code            14850 non-null  int64  \n",
      " 14  district_code          14850 non-null  int64  \n",
      " 15  lga                    14850 non-null  object \n",
      " 16  ward                   14850 non-null  object \n",
      " 17  population             14850 non-null  int64  \n",
      " 18  public_meeting         14029 non-null  object \n",
      " 19  recorded_by            14850 non-null  object \n",
      " 20  scheme_management      13881 non-null  object \n",
      " 21  scheme_name            7758 non-null   object \n",
      " 22  permit                 14113 non-null  object \n",
      " 23  construction_year      14850 non-null  int64  \n",
      " 24  extraction_type        14850 non-null  object \n",
      " 25  extraction_type_group  14850 non-null  object \n",
      " 26  extraction_type_class  14850 non-null  object \n",
      " 27  management             14850 non-null  object \n",
      " 28  management_group       14850 non-null  object \n",
      " 29  payment                14850 non-null  object \n",
      " 30  payment_type           14850 non-null  object \n",
      " 31  water_quality          14850 non-null  object \n",
      " 32  quality_group          14850 non-null  object \n",
      " 33  quantity               14850 non-null  object \n",
      " 34  quantity_group         14850 non-null  object \n",
      " 35  source                 14850 non-null  object \n",
      " 36  source_type            14850 non-null  object \n",
      " 37  source_class           14850 non-null  object \n",
      " 38  waterpoint_type        14850 non-null  object \n",
      " 39  waterpoint_type_group  14850 non-null  object \n",
      "dtypes: float64(3), int64(7), object(30)\n",
      "memory usage: 4.5+ MB\n"
     ]
    }
   ],
   "source": [
    "XtrainTot.info()"
   ]
  },
  {
   "cell_type": "code",
   "execution_count": 15,
   "id": "8665a716",
   "metadata": {},
   "outputs": [
    {
     "name": "stdout",
     "output_type": "stream",
     "text": [
      "id                        0.000000\n",
      "amount_tsh                0.000000\n",
      "date_recorded             0.000000\n",
      "funder                    5.851852\n",
      "gps_height                0.000000\n",
      "installer                 5.905724\n",
      "longitude                 0.000000\n",
      "latitude                  0.000000\n",
      "wpt_name                  0.000000\n",
      "num_private               0.000000\n",
      "basin                     0.000000\n",
      "subvillage                0.666667\n",
      "region                    0.000000\n",
      "region_code               0.000000\n",
      "district_code             0.000000\n",
      "lga                       0.000000\n",
      "ward                      0.000000\n",
      "population                0.000000\n",
      "public_meeting            5.528620\n",
      "recorded_by               0.000000\n",
      "scheme_management         6.525253\n",
      "scheme_name              47.757576\n",
      "permit                    4.962963\n",
      "construction_year         0.000000\n",
      "extraction_type           0.000000\n",
      "extraction_type_group     0.000000\n",
      "extraction_type_class     0.000000\n",
      "management                0.000000\n",
      "management_group          0.000000\n",
      "payment                   0.000000\n",
      "payment_type              0.000000\n",
      "water_quality             0.000000\n",
      "quality_group             0.000000\n",
      "quantity                  0.000000\n",
      "quantity_group            0.000000\n",
      "source                    0.000000\n",
      "source_type               0.000000\n",
      "source_class              0.000000\n",
      "waterpoint_type           0.000000\n",
      "waterpoint_type_group     0.000000\n",
      "dtype: float64\n"
     ]
    }
   ],
   "source": [
    "# Crear una máscara booleana que indica si cada valor es faltante o no\n",
    "mascara_faltantes = XtrainTot.isna()\n",
    "\n",
    "# Calcular el porcentaje de valores faltantes en cada columna\n",
    "porcentaje_faltantes = mascara_faltantes.mean() * 100\n",
    "\n",
    "# Mostrar el porcentaje de valores faltantes en cada columna\n",
    "print(porcentaje_faltantes)\n"
   ]
  },
  {
   "cell_type": "code",
   "execution_count": null,
   "id": "c0d1e8bc",
   "metadata": {},
   "outputs": [],
   "source": []
  }
 ],
 "metadata": {
  "kernelspec": {
   "display_name": "Python 3 (ipykernel)",
   "language": "python",
   "name": "python3"
  },
  "language_info": {
   "codemirror_mode": {
    "name": "ipython",
    "version": 3
   },
   "file_extension": ".py",
   "mimetype": "text/x-python",
   "name": "python",
   "nbconvert_exporter": "python",
   "pygments_lexer": "ipython3",
   "version": "3.10.9"
  }
 },
 "nbformat": 4,
 "nbformat_minor": 5
}
